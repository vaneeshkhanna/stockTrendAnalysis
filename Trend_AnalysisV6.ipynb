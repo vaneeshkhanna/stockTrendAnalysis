{
 "cells": [
  {
   "cell_type": "code",
   "execution_count": 14,
   "metadata": {},
   "outputs": [
    {
     "data": {
      "text/plain": [
       "8425"
      ]
     },
     "execution_count": 14,
     "metadata": {},
     "output_type": "execute_result"
    }
   ],
   "source": [
    "import talib as taLib\n",
    "import pymongo\n",
    "import pandas as pd\n",
    "import numpy as np\n",
    "import nsepy\n",
    "from datetime import datetime\n",
    "from datetime import timedelta\n",
    "from datetime import date\n",
    "from pymongo import MongoClient\n",
    "from nsepy import get_history\n",
    "client=MongoClient(\"mongodb://localhost:27018/\",username=\"stockadm\",password=\"1qaz@WSX\")\n",
    "db=client[\"stockWarehouse\"]\n",
    "equityList=db[\"stocklist\"]\n",
    "stockWarehouse=db[\"stockWarehouse\"]\n",
    "equityListPd = pd.DataFrame(equityList.find({}))\n",
    "equityListPd.shape[0]\n"
   ]
  },
  {
   "cell_type": "code",
   "execution_count": 15,
   "metadata": {},
   "outputs": [],
   "source": [
    "def MovingAverageAnalysis(df,periodfast,periodslow):\n",
    "    df['EWMfast']=taLib.EMA(df['Close'].values,periodfast)\n",
    "    df['EWMslow']=taLib.EMA(df['Close'].values,periodslow)\n",
    "    tempnp=df.iloc[-1].to_numpy()\n",
    "    dayssincecutover=0\n",
    "    if tempnp[16] < tempnp[15]:\n",
    "        trend=1\n",
    "    else:\n",
    "        trend=-1\n",
    "    for j in range(df.shape[0]-1,2,-1):\n",
    "        if (datadf.iloc[j,15]-datadf.iloc[j,16])*(datadf.iloc[j-1,15]-datadf.iloc[j-1,16]) < 0 :\n",
    "            dayssincecutover=datadf.shape[0]-j\n",
    "            break;\n",
    "    (macd, macdsignal, macdhist)=(taLib.MACD(df['Close'], fastperiod=periodfast, slowperiod=periodslow, signalperiod=9))\n",
    "    tempnp=macdhist.iloc[-1]\n",
    "    if tempnp > 1:\n",
    "        trendnature='Expanding'\n",
    "    else:\n",
    "        trendnature='Contracting'\n",
    "    #print(df.iloc[-1])   \n",
    "    return(trend,dayssincecutover,trendnature)"
   ]
  },
  {
   "cell_type": "code",
   "execution_count": null,
   "metadata": {},
   "outputs": [],
   "source": []
  },
  {
   "cell_type": "code",
   "execution_count": null,
   "metadata": {},
   "outputs": [],
   "source": []
  },
  {
   "cell_type": "code",
   "execution_count": 16,
   "metadata": {},
   "outputs": [
    {
     "name": "stdout",
     "output_type": "stream",
     "text": [
      "0.5853\n",
      "0.6443000000000001\n",
      "0.5868\n",
      "0.629\n",
      "0.7044\n",
      "0.6807\n",
      "0.5552\n",
      "0.7079000000000001\n",
      "Buy\n"
     ]
    }
   ],
   "source": [
    "equityList=db[\"stocklist\"]\n",
    "stockWarehouse=db[\"stockWarehouse\"]\n",
    "\n",
    "equityListdf=pd.DataFrame(equityList.find({'State':\"A\"},{'Issuer Name':1,'_id':0}))\n",
    "equityListdf['trend']=0\n",
    "equityListdf['daysSinceCutOver']=0\n",
    "equityListdf['trendnature']=''\n",
    "equityListdf['singleCandlePattern']=''\n",
    "equityListdf['RSI']=0\n",
    "equityListdf['Close']=0\n",
    "equityListdf['sharesbought']=0\n",
    "equityListdf['moneyinvested']=0    \n",
    "equityListdf['profit']=0\n",
    "equityListdf['Capital']=0\n",
    "equityListdf['trades']=0\n",
    "equityListdf['cutoverprice']=0                \n",
    "equityListdf['OBV']=0\n",
    "capital_needed=0\n",
    "equityListdf['sharesbought']=0\n",
    "portfolio=np.array([['Symbol','price','number of shares']])\n",
    "#print(equityListdf.columns)\n",
    "profit=0  \n",
    "trades=0\n",
    "sell=0\n",
    "buy=0\n",
    "limit=20000\n",
    "for symbol in equityListdf['Issuer Name']:\n",
    "        \n",
    "        # Check if database has latest sttock info by comparing aginst SBI\n",
    "    for dt1 in stockWarehouse.find({'Symbol':'SBIN'},{'_id':0,'Date':1}).sort('Date',-1).limit(1):\n",
    "        refdate=dt1 # Set Reference Data as last date when SBI Stock Data was update\n",
    "        for maxdate in stockWarehouse.find({'Symbol':symbol},{'_id':0,'Date':1}).sort('Date',-1).limit(1):\n",
    "            if maxdate == refdate :  \n",
    "            \n",
    "                ################## Get Stock info for last 90 days########################\n",
    "                datadf=pd.DataFrame(stockWarehouse.find({'Symbol':symbol}).sort('Date',-1).limit(90))\n",
    "                datadf.set_index('Date',inplace=True)\n",
    "                datadf.sort_index(inplace=True)\n",
    "\n",
    "                ##################Add Last close price to equityListdf\n",
    "                equityListdf.loc[equityListdf['Issuer Name'] == symbol,'Close']=datadf.iloc[-1,1]\n",
    "                equityListdf.loc[equityListdf['Issuer Name'] == symbol,'%Deliverable']=datadf.iloc[-1,0]\n",
    "                equityListdf.loc[equityListdf['Issuer Name'] == symbol,'High']=datadf.iloc[-1,4]\n",
    "                tempnp=equityListdf.loc[equityListdf['Issuer Name'] == symbol].to_numpy() # Conveting to numpy to use in if conditions\n",
    "                if tempnp[0,6] < 1500 and tempnp[0,6] > 100 and tempnp[0,14] > .50:  # Column 6 is close price \n",
    "                    (a,b,c)=MovingAverageAnalysis(datadf,9,21)\n",
    "                    equityListdf.loc[equityListdf['Issuer Name'] == symbol,'trend']=a\n",
    "                    equityListdf.loc[equityListdf['Issuer Name'] == symbol,'daysSinceCutOver']=b\n",
    "                    equityListdf.loc[equityListdf['Issuer Name'] == symbol,'trendnature']=c\n",
    "                    equityListdf.loc[equityListdf['Issuer Name'] == symbol,'RSI']=taLib.RSI(datadf['Close'],14)[-1]\n",
    "                    equityListdf.loc[equityListdf['Issuer Name'] == symbol,'OBV']=taLib.OBV(datadf['Close'],datadf['Volume'])[-1]\n",
    "                    tempnp=equityListdf.loc[equityListdf['Issuer Name'] == symbol].to_numpy()\n",
    "                    if capital_needed < limit and tempnp[0,5] > 50 and tempnp[0,2] < 5   and tempnp[0,1] == 1 and tempnp[0,3] == 'Expanding' and tempnp[0,7] == 0 and tempnp[0,13] > 0:\n",
    "                        equityListdf.loc[equityListdf['Issuer Name'] == symbol,'Signal']=1\n",
    "                        print(tempnp[0,14])\n",
    "                    else:\n",
    "                        if (tempnp[0,5] < 45 or tempnp[0,1] == -1 or tempnp[0,3] == 'Contracting') :\n",
    "                            equityListdf.loc[equityListdf['Issuer Name'] == symbol,'Signal']=-1\n",
    "\n",
    "equityListdf.loc[equityListdf['Signal']>0].to_csv(\"C:\\\\Users\\\\khanna's\\\\Documents\\\\Stock Trend Analysis\\\\Buy.csv\")\n",
    "equityListdf.loc[equityListdf['Signal']<0].to_csv(\"C:\\\\Users\\\\khanna's\\\\Documents\\\\Stock Trend Analysis\\\\sell.csv\")\n",
    "equityListdf.to_csv(\"C:\\\\Users\\\\khanna's\\\\Documents\\\\Stock Trend Analysis\\\\result.csv\")\n",
    "print(\"Buy\")\n",
    "\n",
    "\n",
    "                    \n",
    "                   "
   ]
  },
  {
   "cell_type": "code",
   "execution_count": null,
   "metadata": {},
   "outputs": [],
   "source": [
    "print(equityListdf.columns)"
   ]
  },
  {
   "cell_type": "code",
   "execution_count": null,
   "metadata": {},
   "outputs": [],
   "source": []
  }
 ],
 "metadata": {
  "kernelspec": {
   "display_name": "python3.6",
   "language": "python",
   "name": "python3.6"
  },
  "language_info": {
   "codemirror_mode": {
    "name": "ipython",
    "version": 3
   },
   "file_extension": ".py",
   "mimetype": "text/x-python",
   "name": "python",
   "nbconvert_exporter": "python",
   "pygments_lexer": "ipython3",
   "version": "3.7.3"
  }
 },
 "nbformat": 4,
 "nbformat_minor": 2
}
