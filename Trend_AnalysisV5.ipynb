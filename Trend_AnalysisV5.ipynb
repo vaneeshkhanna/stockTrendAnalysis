{
 "cells": [
  {
   "cell_type": "code",
   "execution_count": 1,
   "metadata": {},
   "outputs": [
    {
     "data": {
      "text/plain": [
       "8425"
      ]
     },
     "execution_count": 1,
     "metadata": {},
     "output_type": "execute_result"
    }
   ],
   "source": [
    "import talib as taLib\n",
    "import pymongo\n",
    "import pandas as pd\n",
    "import numpy as np\n",
    "import nsepy\n",
    "from datetime import datetime\n",
    "from datetime import timedelta\n",
    "from datetime import date\n",
    "from pymongo import MongoClient\n",
    "from nsepy import get_history\n",
    "client=MongoClient(\"mongodb://localhost:27018/\",username=\"stockadm\",password=\"1qaz@WSX\")\n",
    "db=client[\"stockWarehouse\"]\n",
    "equityList=db[\"stocklist\"]\n",
    "stockWarehouse=db[\"stockWarehouse\"]\n",
    "equityListPd = pd.DataFrame(equityList.find({}))\n",
    "equityListPd.shape[0]\n"
   ]
  },
  {
   "cell_type": "code",
   "execution_count": 2,
   "metadata": {},
   "outputs": [],
   "source": [
    "def MovingAverageAnalysis(df,periodfast,periodslow):\n",
    "    df['EWMfast']=taLib.EMA(df['Close'].values,periodfast)\n",
    "    df['EWMslow']=taLib.EMA(df['Close'].values,periodslow)\n",
    "    tempnp=df.iloc[-1].to_numpy()\n",
    "    dayssincecutover=0\n",
    "    if tempnp[16] < tempnp[15]:\n",
    "        trend=1\n",
    "    else:\n",
    "        trend=-1\n",
    "    for j in range(df.shape[0]-1,2,-1):\n",
    "        if (datadf.iloc[j,15]-datadf.iloc[j,16])*(datadf.iloc[j-1,15]-datadf.iloc[j-1,16]) < 0 :\n",
    "            dayssincecutover=datadf.shape[0]-j\n",
    "            break;\n",
    "    (macd, macdsignal, macdhist)=(taLib.MACD(df['Close'], fastperiod=periodfast, slowperiod=periodslow, signalperiod=9))\n",
    "    tempnp=macdhist.iloc[-1]\n",
    "    if tempnp > 1:\n",
    "        trendnature='Expanding'\n",
    "    else:\n",
    "        trendnature='Contracting'\n",
    "    #print(df.iloc[-1])   \n",
    "    return(trend,dayssincecutover,trendnature)"
   ]
  },
  {
   "cell_type": "code",
   "execution_count": null,
   "metadata": {},
   "outputs": [],
   "source": []
  },
  {
   "cell_type": "code",
   "execution_count": null,
   "metadata": {},
   "outputs": [],
   "source": []
  },
  {
   "cell_type": "code",
   "execution_count": 16,
   "metadata": {},
   "outputs": [
    {
     "name": "stdout",
     "output_type": "stream",
     "text": [
      "18:28:48.560511 Date 2020-05-26 Profit: 0 Capital: 20588 sellsigs: 0 buysigs 8\n",
      "18:29:09.115908 Date 2020-05-27 Profit: 342.0 Capital: 22781 sellsigs: 1 buysigs 2\n",
      "18:29:29.927942 Date 2020-05-28 Profit: 640.0 Capital: 19971 sellsigs: 1 buysigs 0\n",
      "18:29:50.907391 Date 2020-05-29 Profit: 640.0 Capital: 22712 sellsigs: 0 buysigs 1\n",
      "18:30:11.836168 Date 2020-06-01 Profit: 640.0 Capital: 22712 sellsigs: 0 buysigs 0\n",
      "18:30:32.921465 Date 2020-06-02 Profit: 931.0 Capital: 22238 sellsigs: 1 buysigs 1\n",
      "18:30:53.555567 Date 2020-06-03 Profit: 1195.0 Capital: 21835 sellsigs: 1 buysigs 1\n",
      "18:31:14.400566 Date 2020-06-04 Profit: 1155.0 Capital: 22301 sellsigs: 2 buysigs 2\n",
      "18:31:35.321772 Date 2020-06-05 Profit: 1334.0 Capital: 22210 sellsigs: 3 buysigs 3\n",
      "18:31:56.404072 Date 2020-06-08 Profit: 1334.0 Capital: 22210 sellsigs: 0 buysigs 0\n",
      "18:32:17.412381 Date 2020-06-09 Profit: 1664.0 Capital: 21813 sellsigs: 1 buysigs 1\n",
      "18:32:38.518068 Date 2020-06-10 Profit: 1642.0 Capital: 21404 sellsigs: 2 buysigs 2\n",
      "18:32:59.620300 Date 2020-06-11 Profit: 1642.0 Capital: 21404 sellsigs: 0 buysigs 0\n",
      "18:33:20.940124 Date 2020-06-12 Profit: 1518.0 Capital: 21381 sellsigs: 1 buysigs 1\n",
      "18:33:42.048113 Date 2020-06-15 Profit: 1435.0 Capital: 18896 sellsigs: 4 buysigs 3\n",
      "18:34:02.972393 Date 2020-06-16 Profit: 1456.0 Capital: 13957 sellsigs: 2 buysigs 0\n",
      "18:34:23.646660 Date 2020-06-17 Profit: 1456.0 Capital: 16272 sellsigs: 0 buysigs 1\n",
      "18:34:44.236181 Date 2020-06-18 Profit: 1456.0 Capital: 21113 sellsigs: 0 buysigs 2\n",
      "18:35:05.180373 Date 2020-06-19 Profit: 1476.0 Capital: 21100 sellsigs: 1 buysigs 1\n",
      "18:35:26.311755 Date 2020-06-22 Profit: 1476.0 Capital: 21100 sellsigs: 0 buysigs 0\n",
      "18:35:47.560540 Date 2020-06-23 Profit: 2233.0 Capital: 15795 sellsigs: 5 buysigs 3\n",
      "18:36:08.619326 Date 2020-06-24 Profit: 2233.0 Capital: 21327 sellsigs: 0 buysigs 2\n",
      "18:36:29.704627 Date 2020-06-25 Profit: 2169.0 Capital: 21364 sellsigs: 1 buysigs 1\n",
      "18:36:50.812212 Date 2020-06-26 Profit: 2437.0 Capital: 18546 sellsigs: 1 buysigs 0\n",
      "18:37:11.719864 Date 2020-06-29 Profit: 2425.0 Capital: 16151 sellsigs: 1 buysigs 0\n",
      "18:37:32.749655 Date 2020-06-30 Profit: 2352.0 Capital: 8843 sellsigs: 3 buysigs 0\n",
      "18:37:53.699876 Date 2020-07-01 Profit: 2352.0 Capital: 8843 sellsigs: 0 buysigs 0\n",
      "18:38:14.435346 Date 2020-07-02 Profit: 2604.0 Capital: 3655 sellsigs: 2 buysigs 0\n",
      "18:38:35.574699 Date 2020-07-03 Profit: 2604.0 Capital: 3655 sellsigs: 0 buysigs 0\n",
      "18:38:56.786177 Date 2020-07-06 Profit: 2627.0 Capital: 3015 sellsigs: 1 buysigs 1\n",
      "18:39:17.729482 Date 2020-07-07 Profit: 2627.0 Capital: 5065 sellsigs: 0 buysigs 1\n",
      "18:39:38.887661 Date 2020-07-08 Profit: 2627.0 Capital: 12201 sellsigs: 0 buysigs 3\n",
      "18:40:00.178272 Date 2020-07-09 Profit: 2627.0 Capital: 14690 sellsigs: 0 buysigs 1\n",
      "18:40:21.249891 Date 2020-07-10 Profit: 2627.0 Capital: 17228 sellsigs: 0 buysigs 1\n",
      "18:40:42.461531 Date 2020-07-13 Profit: 2616.0 Capital: 19732 sellsigs: 1 buysigs 2\n",
      "18:41:03.387883 Date 2020-07-14 Profit: 2477.0 Capital: 15450 sellsigs: 2 buysigs 0\n",
      "18:41:24.251987 Date 2020-07-15 Profit: 2467.0 Capital: 15366 sellsigs: 1 buysigs 1\n",
      "18:41:45.108180 Date 2020-07-16 Profit: 2767.0 Capital: 17908 sellsigs: 1 buysigs 2\n",
      "18:42:05.897891 Date 2020-07-17 Profit: 2671.0 Capital: 15798 sellsigs: 1 buysigs 0\n",
      "18:42:27.172739 Date 2020-07-20 Profit: 3072.0 Capital: 21165 sellsigs: 4 buysigs 6\n",
      "18:42:47.710108 Date 2020-07-21 Profit: 2945.0 Capital: 20953 sellsigs: 2 buysigs 2\n",
      "18:43:08.427160 Date 2020-07-22 Profit: 2957.0 Capital: 20843 sellsigs: 1 buysigs 1\n",
      "18:43:29.153762 Date 2020-07-23 Profit: 2957.0 Capital: 20843 sellsigs: 0 buysigs 0\n",
      "18:43:53.645779 Date 2020-07-24 Profit: 3226.0 Capital: 20724 sellsigs: 1 buysigs 1\n",
      "18:44:14.621482 Date 2020-07-27 Profit: 3094.0 Capital: 18335 sellsigs: 4 buysigs 3\n",
      "18:44:35.545565 Date 2020-07-28 Profit: 3065.0 Capital: 20973 sellsigs: 2 buysigs 3\n",
      "18:44:56.680266 Date 2020-07-29 Profit: 2980.0 Capital: 19064 sellsigs: 3 buysigs 2\n",
      "18:45:17.632929 Date 2020-07-30 Profit: 3099.0 Capital: 21717 sellsigs: 1 buysigs 2\n",
      "18:45:38.761817 Date 2020-07-31 Profit: 2964.0 Capital: 19169 sellsigs: 1 buysigs 0\n",
      "18:46:00.319049 Date 2020-08-03 Profit: 2969.0 Capital: 21590 sellsigs: 2 buysigs 3\n",
      "18:46:21.088790 Date 2020-08-04 Profit: 2969.0 Capital: 21590 sellsigs: 0 buysigs 0\n",
      "18:46:50.343910 Date 2020-08-05 Profit: 3287.0 Capital: 21400 sellsigs: 1 buysigs 1\n",
      "18:47:12.332616 Date 2020-08-06 Profit: 3262.0 Capital: 21040 sellsigs: 1 buysigs 1\n",
      "18:47:33.207000 Date 2020-08-07 Profit: 3475.0 Capital: 21010 sellsigs: 2 buysigs 2\n",
      "18:47:54.141729 Date 2020-08-10 Profit: 4154.0 Capital: 22586 sellsigs: 2 buysigs 3\n",
      "18:48:15.162750 Date 2020-08-11 Profit: 4154.0 Capital: 22586 sellsigs: 0 buysigs 0\n",
      "18:48:36.214476 Date 2020-08-12 Profit: 4389.0 Capital: 22424 sellsigs: 1 buysigs 1\n",
      "18:48:57.018717 Date 2020-08-13 Profit: 4465.0 Capital: 22304 sellsigs: 1 buysigs 1\n",
      "18:49:17.871674 Date 2020-08-14 Profit: 4465.0 Capital: 22304 sellsigs: 0 buysigs 0\n",
      "18:49:38.653716 Date 2020-08-17 Profit: 4735.0 Capital: 21870 sellsigs: 1 buysigs 1\n",
      "18:50:00.873569 Date 2020-08-18 Profit: 5051.0 Capital: 21497 sellsigs: 2 buysigs 2\n",
      "18:50:22.348363 Date 2020-08-19 Profit: 5362.0 Capital: 20990 sellsigs: 1 buysigs 1\n",
      "18:50:44.101621 Date 2020-08-20 Profit: 5655.0 Capital: 20872 sellsigs: 1 buysigs 1\n",
      "20293.4\n"
     ]
    }
   ],
   "source": [
    "equityList=db[\"stocklist\"]\n",
    "stockWarehouse=db[\"stockWarehouse\"]\n",
    "\n",
    "equityListdf=pd.DataFrame(equityList.find({'State':\"A\"},{'Issuer Name':1,'_id':0}))\n",
    "equityListdf['trend']=0\n",
    "equityListdf['daysSinceCutOver']=0\n",
    "equityListdf['trendnature']=''\n",
    "equityListdf['singleCandlePattern']=''\n",
    "equityListdf['RSI']=0\n",
    "equityListdf['Close']=0\n",
    "equityListdf['sharesbought']=0\n",
    "equityListdf['moneyinvested']=0    \n",
    "equityListdf['profit']=0\n",
    "equityListdf['Capital']=0\n",
    "equityListdf['trades']=0\n",
    "equityListdf['cutoverprice']=0                \n",
    "equityListdf['OBV']=0\n",
    "capital_needed=0\n",
    "equityListdf['sharesbought']=0\n",
    "portfolio=np.array([['Symbol','price','number of shares']])\n",
    "#print(equityListdf.columns)\n",
    "profit=0  \n",
    "trades=0\n",
    "sell=0\n",
    "buy=0\n",
    "limit=20000\n",
    "for symbol in equityListdf['Issuer Name']:\n",
    "        \n",
    "        # Check if database has latest sttock info by comparing aginst SBI\n",
    "    for dt1 in stockWarehouse.find({'Symbol':'SBIN','Date':{'$lte':dt['Date']}},{'_id':0,'Date':1}).sort('Date',-1).limit(1):\n",
    "        refdate=dt1 # Set Reference Data as last date when SBI Stock Data was update\n",
    "        for maxdate in stockWarehouse.find({'Symbol':symbol,'Date':{'$lte':dt['Date']}},{'_id':0,'Date':1}).sort('Date',-1).limit(1):\n",
    "        if maxdate == refdate :  \n",
    "            \n",
    "            ################## Get Stock info for last 90 days########################\n",
    "            datadf=pd.DataFrame(stockWarehouse.find({'Symbol':symbol,'Date':{'$lte':dt['Date']}}).sort('Date',-1).limit(90))\n",
    "            datadf.set_index('Date',inplace=True)\n",
    "            datadf.sort_index(inplace=True)\n",
    "                \n",
    "            ##################Add Last close price to equityListdf\n",
    "            equityListdf.loc[equityListdf['Issuer Name'] == symbol,'Close']=datadf.iloc[-1,1]\n",
    "            tempnp=equityListdf.loc[equityListdf['Issuer Name'] == symbol].to_numpy() # Conveting to numpy to use in if conditions\n",
    "            if tempnp[0,6] < 1500 and tempnp[0,6] > 100:  # Column 6 is close price \n",
    "                (a,b,c)=MovingAverageAnalysis(datadf,9,21)\n",
    "                equityListdf.loc[equityListdf['Issuer Name'] == symbol,'trend']=a\n",
    "                equityListdf.loc[equityListdf['Issuer Name'] == symbol,'daysSinceCutOver']=b\n",
    "                equityListdf.loc[equityListdf['Issuer Name'] == symbol,'trendnature']=c\n",
    "                equityListdf.loc[equityListdf['Issuer Name'] == symbol,'RSI']=taLib.RSI(datadf['Close'],14)[-1]\n",
    "                equityListdf.loc[equityListdf['Issuer Name'] == symbol,'OBV']=taLib.OBV(datadf['Close'],datadf['Volume'])[-1]\n",
    "                tempnp=equityListdf.loc[equityListdf['Issuer Name'] == symbol].to_numpy()\n",
    "                if capital_needed < limit and tempnp[0,5] > 60 and tempnp[0,2] < 5   and tempnp[0,1] == 1 and tempnp[0,3] == 'Expanding' and tempnp[0,7] == 0 and tempnp[0,13] > 0:\n",
    "                    equityListdf.loc[equityListdf['Issuer Name'] == symbol,'Signal']=1\n",
    "                else:\n",
    "                    if (tempnp[0,5] < 45 or tempnp[0,1] == -1 or tempnp[0,3] == 'Contracting' or ((avgprice-tempnp[0,6])/avgprice) > .5 or ((tempnp[0,6]-avgprice)/avgprice) > .1):\n",
    "                        equityListdf.loc[equityListdf['Issuer Name'] == symbol,'Signal']=-1\n",
    "                        \n",
    "equityListdf.loc[equityListdf['Signal']>0].to_csv(\"C:\\\\Users\\\\khanna's\\\\Documents\\\\Stock Trend Analysis\\\\Buy.csv\")\n",
    "equityListdf.loc[equityListdf['Signal']<0].to_csv(\"C:\\\\Users\\\\khanna's\\\\Documents\\\\Stock Trend Analysis\\\\sell.csv\")\n",
    "equityListdf.to_csv(\"C:\\\\Users\\\\khanna's\\\\Documents\\\\Stock Trend Analysis\\\\result.csv\")\n",
    "print(\"Buy\")\n",
    "\n",
    "\n",
    "                    \n",
    "                   "
   ]
  },
  {
   "cell_type": "code",
   "execution_count": 15,
   "metadata": {},
   "outputs": [
    {
     "name": "stdout",
     "output_type": "stream",
     "text": [
      "Index(['Issuer Name', 'trend', 'daysSinceCutOver', 'trendnature',\n",
      "       'singleCandlePattern', 'RSI', 'Close', 'sharesbought', 'moneyinvested',\n",
      "       'profit', 'Capital', 'trades', 'cutoverprice', 'OBV'],\n",
      "      dtype='object')\n"
     ]
    }
   ],
   "source": [
    "print(equityListdf.columns)"
   ]
  },
  {
   "cell_type": "code",
   "execution_count": null,
   "metadata": {},
   "outputs": [],
   "source": []
  }
 ],
 "metadata": {
  "kernelspec": {
   "display_name": "python3.6",
   "language": "python",
   "name": "python3.6"
  },
  "language_info": {
   "codemirror_mode": {
    "name": "ipython",
    "version": 3
   },
   "file_extension": ".py",
   "mimetype": "text/x-python",
   "name": "python",
   "nbconvert_exporter": "python",
   "pygments_lexer": "ipython3",
   "version": "3.7.3"
  }
 },
 "nbformat": 4,
 "nbformat_minor": 2
}
