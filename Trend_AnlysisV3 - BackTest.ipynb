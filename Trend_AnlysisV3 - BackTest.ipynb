{
 "cells": [
  {
   "cell_type": "markdown",
   "metadata": {},
   "source": [
    "Import Classes and Define Variables"
   ]
  },
  {
   "cell_type": "code",
   "execution_count": 1,
   "metadata": {},
   "outputs": [
    {
     "data": {
      "text/plain": [
       "8425"
      ]
     },
     "execution_count": 1,
     "metadata": {},
     "output_type": "execute_result"
    }
   ],
   "source": [
    "import warnings\n",
    "warnings.simplefilter(action='ignore', category=FutureWarning)\n",
    "import numpy as np\n",
    "import scipy as sp\n",
    "import pymongo\n",
    "import pandas as pd\n",
    "import nsepy\n",
    "from datetime import datetime\n",
    "from datetime import timedelta\n",
    "from datetime import date\n",
    "from pymongo import MongoClient\n",
    "from nsepy import get_history\n",
    "client=MongoClient(\"mongodb://localhost:27018/\",username=\"stockadm\",password=\"1qaz@WSX\")\n",
    "db=client[\"stockWarehouse\"]\n",
    "equityList=db[\"stocklist\"]\n",
    "stockWarehouse=db[\"stockWarehouse\"]\n",
    "equityListPd = pd.DataFrame(equityList.find({}))\n",
    "equityListPd.shape[0]\n"
   ]
  },
  {
   "cell_type": "markdown",
   "metadata": {},
   "source": [
    "Data Collector Function"
   ]
  },
  {
   "cell_type": "code",
   "execution_count": 2,
   "metadata": {},
   "outputs": [],
   "source": [
    "def dataCollector():\n",
    "    equityListPd = pd.DataFrame(equityList.find({'Security Name':'Active','State':\"A\"}))\n",
    "    collectionTime=2000\n",
    "    basicSample=30\n",
    "    cnt=0\n",
    "    my_time = datetime.now()\n",
    "\n",
    "    for rows in equityListPd['Issuer Name'].iteritems():\n",
    "        print(cnt,rows[1],end=\"-\")\n",
    "        cnt= cnt + 1\n",
    "        if stockWarehouse.find({'Symbol':rows[1]}).count() > 1 :\n",
    "            for j in stockWarehouse.find({'Symbol':rows[1]},{'_id':0,'Date':1}).sort('Date',-1).limit(1) :\n",
    "                collectionTime=((my_time - j['Date']).days - 1)\n",
    "                fromDate=j['Date']\n",
    "        if fromDate.date() < datetime.now().date():\n",
    "            \n",
    "            iters=int(collectionTime/basicSample)\n",
    "            if (collectionTime != 0):\n",
    "                if collectionTime < 2000:\n",
    "                    basicSample=collectionTime\n",
    "                    iters=1\n",
    "                dt=datetime.now()\n",
    "                print(\"Iterations:\",iters,end=\"|\")\n",
    "                for i in range(0,iters):\n",
    "\n",
    "                    startDate=dt - timedelta(days=basicSample)\n",
    "                    if( startDate <= fromDate):\n",
    "                        startDate = (fromDate + timedelta(days=1))\n",
    "                    endDate=dt \n",
    "                    print(i,\"Collecting into between\",startDate.date(),\"-\", endDate.date(),\"@\",datetime.now(),end=\"|\")\n",
    "                    df=pd.DataFrame(get_history(symbol=rows[1] , start= startDate,end=endDate))\n",
    "                    df.reset_index(inplace=True)\n",
    "                    df['Date']=pd.to_datetime(df['Date'])\n",
    "                    dfLength=(len(df.index))\n",
    "                    if  dfLength > 0 :\n",
    "                        data_dict=df.to_dict(\"records\")\n",
    "                        #print(data_dict)\n",
    "                        stockWarehouse.insert_many(data_dict)\n",
    "                        tmpdf=pd.DataFrame(stockWarehouse.find({\"Symbol\":rows[i],\"Date\":{\"$lte\":endDate,\"$gte\":startDate}}))\n",
    "                        print(df.index.size,tmpdf.index.size,end=\"|\")\n",
    "\n",
    "                    else :\n",
    "                        print(\"Marking as Inactive\")\n",
    "                        equityList.update_many({'Issuer Name':rows[1]},{'$set': {'Security Name':'Inactive'}})\n",
    "                        break;\n",
    "                    dt=(startDate - timedelta(days=1))\n"
   ]
  },
  {
   "cell_type": "code",
   "execution_count": 3,
   "metadata": {},
   "outputs": [],
   "source": [
    "def markInactiveStocks():\n",
    "    reference=int(stockWarehouse.find({'Symbol':'SBIN'}).count()) - 100\n",
    "    print(reference)\n",
    "    tmp_count=0\n",
    "    for i in equityList.find({},{'Issuer Name':1}):\n",
    "        #print(i['Issuer Name'])\n",
    "        tmp_count=(int(stockWarehouse.find({'Symbol':i['Issuer Name']}).count()))\n",
    "        if tmp_count >= reference:\n",
    "            print(i['Issuer Name'],end='|')\n",
    "            equityList.update_many({'Issuer Name':i['Issuer Name']},{'$set': {'State':\"A\"}})"
   ]
  },
  {
   "cell_type": "code",
   "execution_count": 4,
   "metadata": {},
   "outputs": [],
   "source": [
    "def markTrend_Crossover(stockdf,datadf,symbol):\n",
    "    \n",
    "    for i in range(0,stockdf.shape[0],1):\n",
    "            if stockdf['Issuer Name'].iloc[i]==symbol:\n",
    "                break;\n",
    "    datadf['ewmdiff']=datadf['Close'].ewm(span=9,adjust=False).mean() - datadf['Close'].ewm(span=21,adjust=False).mean()\n",
    "    nrows=datadf.shape[0]-1\n",
    "    if datadf.iloc[nrows,15] > 0:\n",
    "        stockdf.iloc[i,1]=1\n",
    "    else:\n",
    "        stockdf.iloc[i,1]=-1\n",
    "    for j in range(datadf.shape[0]-1,2,-1):\n",
    "        if datadf.iloc[j,15]*datadf.iloc[j-1,15] <= 0:\n",
    "            stockdf.iloc[i,2]=datadf.shape[0]-j\n",
    "            break;\n",
    "    datadf['ewmdiffewm14']=datadf['ewmdiff'].ewm(span=9,adjust=False).mean()\n",
    "    if datadf.iloc[nrows,15] > datadf.iloc[nrows,16] :\n",
    "        stockdf.iloc[i,3]='Expanding'\n",
    "    else:\n",
    "        stockdf.iloc[i,3]='Contracting'\n",
    "    return(stockdf)"
   ]
  },
  {
   "cell_type": "code",
   "execution_count": 5,
   "metadata": {},
   "outputs": [],
   "source": [
    "def singlePatternCandle(stockdf,datadf,symbol):\n",
    "    for i in range(0,stockdf.shape[0],1):\n",
    "        if stockdf['Issuer Name'].iloc[i]==symbol:\n",
    "            break;\n",
    "                \n",
    "    pattern=''\n",
    "    umbrellaFound=False\n",
    "    if 'singleCandlePattern' in stockdf.columns:\n",
    "        if pd.isnull(stockdf['singleCandlePattern'].iloc[i]):\n",
    "            pattern=''\n",
    "        else:\n",
    "            pattern=stockdf['singleCandlePattern'].iloc[i]\n",
    "    nrows=datadf.shape[0]-1\n",
    "    Close=datadf['Close'].iloc[nrows]\n",
    "    Open=datadf['Open'].iloc[nrows]\n",
    "    High=datadf['High'].iloc[nrows]\n",
    "    Low=datadf['Low'].iloc[nrows]\n",
    "    if  Open > Close :\n",
    "        candle=-1\n",
    "    if  Open < Close :\n",
    "        candle=1\n",
    "    if  Open == Close :\n",
    "        candle=0\n",
    "####### Check MaruBozo\n",
    "    \n",
    "    if candle > 0:\n",
    "        if ((High-Close)/(Close-Open)) < .05 and ((Open-Low)/(Close-Open))< .05:\n",
    "            pattern=pattern + 'Bull Marubozo|' +'SL:' + str(Low)\n",
    "    if candle < 0:\n",
    "        if ((High-Open)/(Open-Close)) < .05 and ((Close-Low)/(Open-Close)) < .05:\n",
    "            pattern=pattern + 'Bear Marubozo|' +'SL:' + str(High)\n",
    "        \n",
    "####### Check Paper Umbrella\n",
    "    if candle > 0:\n",
    "        if ((Open-Low)/(Close-Open)) > 2 and (High-Close)/(Close-Open) < .05:\n",
    "            umbrellaFound=True\n",
    "    if candle < 0:\n",
    "        if ((Close-Low)/(Open-Close)) > 2 and (High-Open)/(Open-Close) < .05:\n",
    "            umbrellaFound=True\n",
    "    if umbrellaFound:\n",
    "        if stockdf['trend'].iloc[i] == 1:\n",
    "            pattern=pattern + 'Hanging Man ' +'SL:' + str(High)\n",
    "        else:\n",
    "            pattern=pattern + 'Hammer ' + 'SL:' + str(Low)\n",
    "        \n",
    "    stockdf['singleCandlePattern'].iloc[i]=pattern\n",
    "    return(stockdf)\n",
    "                \n",
    "        \n",
    "        "
   ]
  },
  {
   "cell_type": "code",
   "execution_count": 6,
   "metadata": {},
   "outputs": [],
   "source": [
    "def rsiindicator(stockdf,datadf,symbol,term):\n",
    "    for i in range(0,stockdf.shape[0],1):\n",
    "        if stockdf['Issuer Name'].iloc[i]==symbol:\n",
    "            break;\n",
    "    nrows=datadf.shape[0]-1\n",
    "    datadf['Diff']=datadf['Close'].diff()\n",
    "    datadf['AVGU']=0\n",
    "    datadf['AVGD']=0\n",
    "    datadf.loc[datadf['Diff'] > 0,'AVGU' ] = datadf['Diff']\n",
    "    datadf.loc[datadf['Diff'] < 0,'AVGD' ] = -datadf['Diff']\n",
    "    AVGUT=datadf.iloc[nrows-1,18]/term + (term - 1)*datadf.iloc[(nrows-(term+1)):(nrows-2),18].mean()/term    \n",
    "    AVGDT=datadf.iloc[nrows-1,19]/term + (term - 1)*datadf.iloc[(nrows-(term+1)):(nrows-2),19].mean()/term\n",
    "#    print(datadf.columns)\n",
    "    RS=AVGUT/AVGDT\n",
    "    RSI=100-(100/(1+RS))\n",
    "    stockdf.iloc[i,5]=RSI\n",
    "    return(stockdf)"
   ]
  },
  {
   "cell_type": "code",
   "execution_count": 7,
   "metadata": {},
   "outputs": [],
   "source": [
    "def getAllDaysOfWeek(year,day):  # Get days of year \n",
    "    d = datetime(2020,1,1,0,0,0)                    # January 1st\n",
    "    d += timedelta(days = day - d.weekday())  # First Sunday\n",
    "    while d.year == year and d < datetime.now():\n",
    "        yield d\n",
    "        d += timedelta(days = 7)\n"
   ]
  },
  {
   "cell_type": "code",
   "execution_count": 8,
   "metadata": {},
   "outputs": [],
   "source": [
    "#dataCollector()"
   ]
  },
  {
   "cell_type": "code",
   "execution_count": 9,
   "metadata": {},
   "outputs": [],
   "source": [
    "#markInactiveStocks()"
   ]
  },
  {
   "cell_type": "code",
   "execution_count": 10,
   "metadata": {
    "scrolled": true
   },
   "outputs": [
    {
     "name": "stdout",
     "output_type": "stream",
     "text": [
      "Date {'Date': datetime.datetime(2019, 8, 30, 0, 0)} Profit: 0 Capital: 0 sellsigs: 0 buysigs 0\n",
      "Date {'Date': datetime.datetime(2019, 9, 3, 0, 0)} Profit: 0 Capital: 0 sellsigs: 0 buysigs 0\n",
      "Date {'Date': datetime.datetime(2019, 9, 4, 0, 0)} Profit: 0 Capital: 0 sellsigs: 0 buysigs 0\n",
      "Date {'Date': datetime.datetime(2019, 9, 5, 0, 0)} Profit: 0 Capital: 175.7 sellsigs: 0 buysigs 1\n",
      "Date {'Date': datetime.datetime(2019, 9, 6, 0, 0)} Profit: 0 Capital: 175.7 sellsigs: 0 buysigs 0\n",
      "Date {'Date': datetime.datetime(2019, 9, 9, 0, 0)} Profit: 0 Capital: 175.7 sellsigs: 0 buysigs 0\n",
      "Date {'Date': datetime.datetime(2019, 9, 11, 0, 0)} Profit: 0 Capital: 175.7 sellsigs: 0 buysigs 0\n",
      "Date {'Date': datetime.datetime(2019, 9, 12, 0, 0)} Profit: 0 Capital: 331.7 sellsigs: 0 buysigs 1\n",
      "Date {'Date': datetime.datetime(2019, 9, 13, 0, 0)} Profit: 0 Capital: 524.95 sellsigs: 0 buysigs 1\n",
      "Date {'Date': datetime.datetime(2019, 9, 16, 0, 0)} Profit: 0 Capital: 524.95 sellsigs: 0 buysigs 0\n",
      "Date {'Date': datetime.datetime(2019, 9, 17, 0, 0)} Profit: 10.550000000000011 Capital: 145.45000000000005 sellsigs: 2 buysigs 0\n",
      "Date {'Date': datetime.datetime(2019, 9, 18, 0, 0)} Profit: 10.550000000000011 Capital: 145.45000000000005 sellsigs: 0 buysigs 0\n",
      "Date {'Date': datetime.datetime(2019, 9, 19, 0, 0)} Profit: 10.550000000000011 Capital: 145.45000000000005 sellsigs: 0 buysigs 0\n",
      "Date {'Date': datetime.datetime(2019, 9, 20, 0, 0)} Profit: 10.550000000000011 Capital: 2452.65 sellsigs: 0 buysigs 5\n",
      "Date {'Date': datetime.datetime(2019, 9, 23, 0, 0)} Profit: 22.55000000000001 Capital: 2150.3 sellsigs: 1 buysigs 0\n",
      "Date {'Date': datetime.datetime(2019, 9, 24, 0, 0)} Profit: 22.55000000000001 Capital: 4495.2 sellsigs: 0 buysigs 3\n",
      "Date {'Date': datetime.datetime(2019, 9, 25, 0, 0)} Profit: 22.55000000000001 Capital: 5106.15 sellsigs: 0 buysigs 1\n",
      "Date {'Date': datetime.datetime(2019, 9, 26, 0, 0)} Profit: 22.55000000000001 Capital: 5605.05 sellsigs: 0 buysigs 2\n",
      "Date {'Date': datetime.datetime(2019, 9, 27, 0, 0)} Profit: 26.94999999999999 Capital: 4197.75 sellsigs: 3 buysigs 0\n",
      "Date {'Date': datetime.datetime(2019, 9, 30, 0, 0)} Profit: -6.400000000000077 Capital: 3164.9 sellsigs: 2 buysigs 0\n",
      "Date {'Date': datetime.datetime(2019, 10, 1, 0, 0)} Profit: -6.400000000000077 Capital: 3164.9 sellsigs: 0 buysigs 0\n",
      "Date {'Date': datetime.datetime(2019, 10, 3, 0, 0)} Profit: -30.605000000000103 Capital: 2601.85 sellsigs: 2 buysigs 0\n",
      "Date {'Date': datetime.datetime(2019, 10, 4, 0, 0)} Profit: -30.605000000000103 Capital: 2601.85 sellsigs: 0 buysigs 0\n",
      "Date {'Date': datetime.datetime(2019, 10, 7, 0, 0)} Profit: -76.55500000000015 Capital: 2036.85 sellsigs: 1 buysigs 0\n",
      "Date {'Date': datetime.datetime(2019, 10, 9, 0, 0)} Profit: -81.35500000000015 Capital: 1930.85 sellsigs: 1 buysigs 0\n",
      "Date {'Date': datetime.datetime(2019, 10, 10, 0, 0)} Profit: -81.35500000000015 Capital: 1930.85 sellsigs: 0 buysigs 0\n",
      "Date {'Date': datetime.datetime(2019, 10, 11, 0, 0)} Profit: -7.4550000000002825 Capital: 578.25 sellsigs: 1 buysigs 0\n",
      "Date {'Date': datetime.datetime(2019, 10, 14, 0, 0)} Profit: -7.4550000000002825 Capital: 578.25 sellsigs: 0 buysigs 0\n",
      "Date {'Date': datetime.datetime(2019, 10, 15, 0, 0)} Profit: -7.4550000000002825 Capital: 578.25 sellsigs: 0 buysigs 0\n",
      "Date {'Date': datetime.datetime(2019, 10, 16, 0, 0)} Profit: -7.4550000000002825 Capital: 578.25 sellsigs: 0 buysigs 0\n",
      "Date {'Date': datetime.datetime(2019, 10, 17, 0, 0)} Profit: -7.4550000000002825 Capital: 722.0 sellsigs: 0 buysigs 1\n",
      "Date {'Date': datetime.datetime(2019, 10, 18, 0, 0)} Profit: -7.4550000000002825 Capital: 2708.2 sellsigs: 0 buysigs 4\n",
      "Date {'Date': datetime.datetime(2019, 10, 22, 0, 0)} Profit: -7.4550000000002825 Capital: 2958.2999999999997 sellsigs: 0 buysigs 2\n",
      "Date {'Date': datetime.datetime(2019, 10, 23, 0, 0)} Profit: 8.294999999999717 Capital: 3116.4 sellsigs: 1 buysigs 2\n",
      "Date {'Date': datetime.datetime(2019, 10, 24, 0, 0)} Profit: 8.294999999999717 Capital: 3573.6 sellsigs: 0 buysigs 2\n",
      "Date {'Date': datetime.datetime(2019, 10, 25, 0, 0)} Profit: 22.24499999999979 Capital: 2923.45 sellsigs: 2 buysigs 1\n",
      "Date {'Date': datetime.datetime(2019, 10, 27, 0, 0)} Profit: 22.24499999999979 Capital: 4296.55 sellsigs: 0 buysigs 3\n",
      "Date {'Date': datetime.datetime(2019, 10, 29, 0, 0)} Profit: 59.99499999999979 Capital: 4088.2000000000003 sellsigs: 3 buysigs 1\n",
      "Date {'Date': datetime.datetime(2019, 10, 30, 0, 0)} Profit: 69.9449999999998 Capital: 3969.2000000000003 sellsigs: 1 buysigs 0\n",
      "Date {'Date': datetime.datetime(2019, 10, 31, 0, 0)} Profit: 107.29499999999972 Capital: 3660.9000000000005 sellsigs: 2 buysigs 1\n",
      "Date {'Date': datetime.datetime(2019, 11, 1, 0, 0)} Profit: 117.74499999999975 Capital: 2069.6500000000005 sellsigs: 2 buysigs 1\n",
      "Date {'Date': datetime.datetime(2019, 11, 4, 0, 0)} Profit: 128.09499999999974 Capital: 1808.9000000000005 sellsigs: 1 buysigs 0\n",
      "Date {'Date': datetime.datetime(2019, 11, 5, 0, 0)} Profit: 120.74499999999975 Capital: 1423.2500000000005 sellsigs: 2 buysigs 0\n",
      "Date {'Date': datetime.datetime(2019, 11, 6, 0, 0)} Profit: 117.99499999999975 Capital: 1209.2000000000005 sellsigs: 1 buysigs 0\n",
      "Date {'Date': datetime.datetime(2019, 11, 7, 0, 0)} Profit: 125.24499999999975 Capital: 1134.6000000000006 sellsigs: 1 buysigs 1\n",
      "Date {'Date': datetime.datetime(2019, 11, 8, 0, 0)} Profit: 114.84499999999977 Capital: 591.7500000000007 sellsigs: 2 buysigs 0\n",
      "Date {'Date': datetime.datetime(2019, 11, 11, 0, 0)} Profit: 114.84499999999977 Capital: 1410.6500000000005 sellsigs: 0 buysigs 2\n",
      "Date {'Date': datetime.datetime(2019, 11, 13, 0, 0)} Profit: 85.99499999999986 Capital: 846.4500000000005 sellsigs: 1 buysigs 0\n",
      "Date {'Date': datetime.datetime(2019, 11, 14, 0, 0)} Profit: 85.99499999999986 Capital: 1124.5500000000006 sellsigs: 0 buysigs 1\n",
      "Date {'Date': datetime.datetime(2019, 11, 15, 0, 0)} Profit: 92.59499999999989 Capital: 1807.4500000000007 sellsigs: 1 buysigs 3\n",
      "Date {'Date': datetime.datetime(2019, 11, 18, 0, 0)} Profit: 88.44499999999988 Capital: 1699.9500000000007 sellsigs: 1 buysigs 0\n",
      "Date {'Date': datetime.datetime(2019, 11, 19, 0, 0)} Profit: 79.54499999999979 Capital: 688.4000000000008 sellsigs: 1 buysigs 0\n",
      "Date {'Date': datetime.datetime(2019, 11, 20, 0, 0)} Profit: 79.54499999999979 Capital: 1047.750000000001 sellsigs: 0 buysigs 1\n",
      "Date {'Date': datetime.datetime(2019, 11, 21, 0, 0)} Profit: 76.6949999999998 Capital: 1257.150000000001 sellsigs: 1 buysigs 1\n",
      "Date {'Date': datetime.datetime(2019, 11, 22, 0, 0)} Profit: 70.8449999999998 Capital: 2577.750000000001 sellsigs: 1 buysigs 3\n",
      "Date {'Date': datetime.datetime(2019, 11, 25, 0, 0)} Profit: 121.74499999999978 Capital: 2179.050000000001 sellsigs: 1 buysigs 1\n",
      "Date {'Date': datetime.datetime(2019, 11, 26, 0, 0)} Profit: 137.34499999999977 Capital: 2008.900000000001 sellsigs: 1 buysigs 0\n",
      "Date {'Date': datetime.datetime(2019, 11, 27, 0, 0)} Profit: 137.34499999999977 Capital: 2349.350000000001 sellsigs: 0 buysigs 2\n",
      "Date {'Date': datetime.datetime(2019, 11, 28, 0, 0)} Profit: 177.99499999999975 Capital: 1556.0500000000006 sellsigs: 3 buysigs 0\n",
      "Date {'Date': datetime.datetime(2019, 11, 29, 0, 0)} Profit: 176.14499999999975 Capital: 1622.7500000000007 sellsigs: 1 buysigs 1\n",
      "Date {'Date': datetime.datetime(2019, 12, 2, 0, 0)} Profit: 85.34499999999967 Capital: 143.65000000000072 sellsigs: 4 buysigs 0\n",
      "Date {'Date': datetime.datetime(2019, 12, 3, 0, 0)} Profit: 85.34499999999967 Capital: 143.65000000000072 sellsigs: 0 buysigs 0\n",
      "Date {'Date': datetime.datetime(2019, 12, 4, 0, 0)} Profit: 85.34499999999967 Capital: 143.65000000000072 sellsigs: 0 buysigs 0\n",
      "Date {'Date': datetime.datetime(2019, 12, 5, 0, 0)} Profit: 88.14499999999968 Capital: -86.24999999999929 sellsigs: 1 buysigs 0\n",
      "Date {'Date': datetime.datetime(2019, 12, 6, 0, 0)} Profit: 88.14499999999968 Capital: -86.24999999999929 sellsigs: 0 buysigs 0\n",
      "Date {'Date': datetime.datetime(2019, 12, 9, 0, 0)} Profit: 88.14499999999968 Capital: 238.9000000000007 sellsigs: 0 buysigs 1\n",
      "Date {'Date': datetime.datetime(2019, 12, 10, 0, 0)} Profit: 88.14499999999968 Capital: 238.9000000000007 sellsigs: 0 buysigs 0\n",
      "Date {'Date': datetime.datetime(2019, 12, 11, 0, 0)} Profit: 88.14499999999968 Capital: 238.9000000000007 sellsigs: 0 buysigs 0\n",
      "Date {'Date': datetime.datetime(2019, 12, 12, 0, 0)} Profit: 88.14499999999968 Capital: 238.9000000000007 sellsigs: 0 buysigs 0\n"
     ]
    },
    {
     "name": "stdout",
     "output_type": "stream",
     "text": [
      "Date {'Date': datetime.datetime(2019, 12, 13, 0, 0)} Profit: 88.14499999999968 Capital: 730.9000000000007 sellsigs: 0 buysigs 1\n",
      "Date {'Date': datetime.datetime(2019, 12, 16, 0, 0)} Profit: 88.14499999999968 Capital: 1938.6500000000005 sellsigs: 0 buysigs 3\n",
      "Date {'Date': datetime.datetime(2019, 12, 17, 0, 0)} Profit: 108.9449999999997 Capital: 2283.8500000000004 sellsigs: 1 buysigs 1\n",
      "Date {'Date': datetime.datetime(2019, 12, 18, 0, 0)} Profit: 108.9449999999997 Capital: 2283.8500000000004 sellsigs: 0 buysigs 0\n",
      "Date {'Date': datetime.datetime(2019, 12, 19, 0, 0)} Profit: 109.34499999999967 Capital: 3392.3999999999996 sellsigs: 2 buysigs 6\n",
      "Date {'Date': datetime.datetime(2019, 12, 20, 0, 0)} Profit: 109.34499999999967 Capital: 3796.9499999999994 sellsigs: 0 buysigs 2\n",
      "Date {'Date': datetime.datetime(2019, 12, 23, 0, 0)} Profit: 135.79499999999962 Capital: 3441.8999999999996 sellsigs: 2 buysigs 1\n",
      "Date {'Date': datetime.datetime(2019, 12, 24, 0, 0)} Profit: 135.79499999999962 Capital: 4994.73 sellsigs: 0 buysigs 2\n",
      "Date {'Date': datetime.datetime(2019, 12, 26, 0, 0)} Profit: 176.3849999999996 Capital: 5745.31 sellsigs: 2 buysigs 3\n",
      "Date {'Date': datetime.datetime(2019, 12, 27, 0, 0)} Profit: 210.03499999999968 Capital: 4561.86 sellsigs: 2 buysigs 0\n",
      "Date {'Date': datetime.datetime(2019, 12, 30, 0, 0)} Profit: 229.6849999999997 Capital: 4369.759999999999 sellsigs: 1 buysigs 0\n",
      "Date {'Date': datetime.datetime(2019, 12, 31, 0, 0)} Profit: 253.23499999999964 Capital: 4515.709999999999 sellsigs: 2 buysigs 3\n",
      "Date {'Date': datetime.datetime(2020, 1, 1, 0, 0)} Profit: 242.5349999999996 Capital: 3857.559999999999 sellsigs: 4 buysigs 1\n",
      "Date {'Date': datetime.datetime(2020, 1, 2, 0, 0)} Profit: 242.5349999999996 Capital: 4267.159999999999 sellsigs: 0 buysigs 2\n",
      "Date {'Date': datetime.datetime(2020, 1, 3, 0, 0)} Profit: 248.2849999999994 Capital: 757.159999999999 sellsigs: 9 buysigs 0\n",
      "Date {'Date': datetime.datetime(2020, 1, 6, 0, 0)} Profit: 248.2849999999994 Capital: 757.159999999999 sellsigs: 0 buysigs 0\n",
      "Date {'Date': datetime.datetime(2020, 1, 7, 0, 0)} Profit: 229.38499999999945 Capital: -72.14000000000104 sellsigs: 1 buysigs 1\n",
      "Date {'Date': datetime.datetime(2020, 1, 8, 0, 0)} Profit: 229.38499999999945 Capital: -72.14000000000104 sellsigs: 0 buysigs 0\n",
      "Date {'Date': datetime.datetime(2020, 1, 9, 0, 0)} Profit: 229.38499999999945 Capital: 1731.7599999999989 sellsigs: 0 buysigs 2\n",
      "Date {'Date': datetime.datetime(2020, 1, 10, 0, 0)} Profit: 246.58499999999944 Capital: 1496.809999999999 sellsigs: 1 buysigs 1\n",
      "Date {'Date': datetime.datetime(2020, 1, 13, 0, 0)} Profit: 246.58499999999944 Capital: 2238.409999999999 sellsigs: 0 buysigs 1\n",
      "Date {'Date': datetime.datetime(2020, 1, 14, 0, 0)} Profit: 246.58499999999944 Capital: 2411.3599999999988 sellsigs: 0 buysigs 1\n",
      "Date {'Date': datetime.datetime(2020, 1, 15, 0, 0)} Profit: 246.58499999999944 Capital: 3340.309999999999 sellsigs: 0 buysigs 3\n",
      "Date {'Date': datetime.datetime(2020, 1, 16, 0, 0)} Profit: 246.58499999999944 Capital: 4474.659999999999 sellsigs: 0 buysigs 1\n",
      "Date {'Date': datetime.datetime(2020, 1, 17, 0, 0)} Profit: 390.08499999999935 Capital: 2003.409999999999 sellsigs: 3 buysigs 0\n",
      "Date {'Date': datetime.datetime(2020, 1, 20, 0, 0)} Profit: 460.0349999999994 Capital: 1004.5099999999989 sellsigs: 3 buysigs 0\n",
      "Date {'Date': datetime.datetime(2020, 1, 21, 0, 0)} Profit: 476.23499999999945 Capital: 1642.659999999999 sellsigs: 1 buysigs 1\n",
      "Date {'Date': datetime.datetime(2020, 1, 22, 0, 0)} Profit: 476.23499999999945 Capital: 1642.659999999999 sellsigs: 0 buysigs 0\n",
      "Date {'Date': datetime.datetime(2020, 1, 23, 0, 0)} Profit: 476.23499999999945 Capital: 1642.659999999999 sellsigs: 0 buysigs 0\n",
      "Date {'Date': datetime.datetime(2020, 1, 24, 0, 0)} Profit: 476.23499999999945 Capital: 1923.459999999999 sellsigs: 0 buysigs 1\n",
      "Date {'Date': datetime.datetime(2020, 1, 27, 0, 0)} Profit: 473.6349999999994 Capital: 2625.959999999999 sellsigs: 1 buysigs 1\n",
      "Date {'Date': datetime.datetime(2020, 1, 28, 0, 0)} Profit: 410.8349999999994 Capital: 1562.2099999999991 sellsigs: 2 buysigs 1\n"
     ]
    },
    {
     "ename": "CursorNotFound",
     "evalue": "cursor id 6681791854831824609 not found",
     "output_type": "error",
     "traceback": [
      "\u001b[1;31m---------------------------------------------------------------------------\u001b[0m",
      "\u001b[1;31mCursorNotFound\u001b[0m                            Traceback (most recent call last)",
      "\u001b[1;32m<ipython-input-10-4aefd413943f>\u001b[0m in \u001b[0;36m<module>\u001b[1;34m\u001b[0m\n\u001b[0;32m     20\u001b[0m \u001b[0mequityListdf\u001b[0m\u001b[1;33m[\u001b[0m\u001b[1;34m'sharesbought'\u001b[0m\u001b[1;33m]\u001b[0m\u001b[1;33m=\u001b[0m\u001b[1;36m0\u001b[0m\u001b[1;33m\u001b[0m\u001b[1;33m\u001b[0m\u001b[0m\n\u001b[0;32m     21\u001b[0m \u001b[1;31m#print(equityListdf.columns)\u001b[0m\u001b[1;33m\u001b[0m\u001b[1;33m\u001b[0m\u001b[1;33m\u001b[0m\u001b[0m\n\u001b[1;32m---> 22\u001b[1;33m \u001b[1;32mfor\u001b[0m \u001b[0mdt\u001b[0m \u001b[1;32min\u001b[0m \u001b[0mstockWarehouse\u001b[0m\u001b[1;33m.\u001b[0m\u001b[0mfind\u001b[0m\u001b[1;33m(\u001b[0m\u001b[1;33m{\u001b[0m\u001b[1;34m'Symbol'\u001b[0m\u001b[1;33m:\u001b[0m\u001b[1;34m'SBIN'\u001b[0m\u001b[1;33m,\u001b[0m\u001b[1;34m'Date'\u001b[0m\u001b[1;33m:\u001b[0m\u001b[1;33m{\u001b[0m\u001b[1;34m'$gte'\u001b[0m\u001b[1;33m:\u001b[0m\u001b[0mdatetime\u001b[0m\u001b[1;33m(\u001b[0m\u001b[1;36m2019\u001b[0m\u001b[1;33m,\u001b[0m\u001b[1;36m8\u001b[0m\u001b[1;33m,\u001b[0m\u001b[1;36m30\u001b[0m\u001b[1;33m)\u001b[0m\u001b[1;33m}\u001b[0m\u001b[1;33m,\u001b[0m\u001b[1;34m'Close'\u001b[0m\u001b[1;33m:\u001b[0m\u001b[1;33m{\u001b[0m\u001b[1;34m'$lte'\u001b[0m\u001b[1;33m:\u001b[0m\u001b[1;36m1500\u001b[0m\u001b[1;33m}\u001b[0m\u001b[1;33m,\u001b[0m\u001b[1;34m'Close'\u001b[0m\u001b[1;33m:\u001b[0m\u001b[1;33m{\u001b[0m\u001b[1;34m'$gte'\u001b[0m\u001b[1;33m:\u001b[0m\u001b[1;36m100\u001b[0m\u001b[1;33m}\u001b[0m\u001b[1;33m}\u001b[0m\u001b[1;33m,\u001b[0m\u001b[1;33m{\u001b[0m\u001b[1;34m'_id'\u001b[0m\u001b[1;33m:\u001b[0m\u001b[1;36m0\u001b[0m\u001b[1;33m,\u001b[0m\u001b[1;34m'Date'\u001b[0m\u001b[1;33m:\u001b[0m\u001b[1;36m1\u001b[0m\u001b[1;33m}\u001b[0m\u001b[1;33m,\u001b[0m\u001b[0mno_cursor_timeout\u001b[0m\u001b[1;33m=\u001b[0m\u001b[1;32mTrue\u001b[0m\u001b[1;33m)\u001b[0m\u001b[1;33m.\u001b[0m\u001b[0msort\u001b[0m\u001b[1;33m(\u001b[0m\u001b[1;34m'Date'\u001b[0m\u001b[1;33m)\u001b[0m\u001b[1;33m:\u001b[0m\u001b[1;33m\u001b[0m\u001b[1;33m\u001b[0m\u001b[0m\n\u001b[0m\u001b[0;32m     23\u001b[0m     \u001b[0mcnt\u001b[0m\u001b[1;33m=\u001b[0m\u001b[0mcnt\u001b[0m\u001b[1;33m+\u001b[0m\u001b[1;36m1\u001b[0m\u001b[1;33m\u001b[0m\u001b[1;33m\u001b[0m\u001b[0m\n\u001b[0;32m     24\u001b[0m \u001b[1;31m#   print(symbol,cnt)\u001b[0m\u001b[1;33m\u001b[0m\u001b[1;33m\u001b[0m\u001b[1;33m\u001b[0m\u001b[0m\n",
      "\u001b[1;32mC:\\ProgramData\\Anaconda3\\lib\\site-packages\\pymongo\\cursor.py\u001b[0m in \u001b[0;36mnext\u001b[1;34m(self)\u001b[0m\n\u001b[0;32m   1154\u001b[0m         \u001b[1;32mif\u001b[0m \u001b[0mself\u001b[0m\u001b[1;33m.\u001b[0m\u001b[0m__empty\u001b[0m\u001b[1;33m:\u001b[0m\u001b[1;33m\u001b[0m\u001b[1;33m\u001b[0m\u001b[0m\n\u001b[0;32m   1155\u001b[0m             \u001b[1;32mraise\u001b[0m \u001b[0mStopIteration\u001b[0m\u001b[1;33m\u001b[0m\u001b[1;33m\u001b[0m\u001b[0m\n\u001b[1;32m-> 1156\u001b[1;33m         \u001b[1;32mif\u001b[0m \u001b[0mlen\u001b[0m\u001b[1;33m(\u001b[0m\u001b[0mself\u001b[0m\u001b[1;33m.\u001b[0m\u001b[0m__data\u001b[0m\u001b[1;33m)\u001b[0m \u001b[1;32mor\u001b[0m \u001b[0mself\u001b[0m\u001b[1;33m.\u001b[0m\u001b[0m_refresh\u001b[0m\u001b[1;33m(\u001b[0m\u001b[1;33m)\u001b[0m\u001b[1;33m:\u001b[0m\u001b[1;33m\u001b[0m\u001b[1;33m\u001b[0m\u001b[0m\n\u001b[0m\u001b[0;32m   1157\u001b[0m             \u001b[1;32mif\u001b[0m \u001b[0mself\u001b[0m\u001b[1;33m.\u001b[0m\u001b[0m__manipulate\u001b[0m\u001b[1;33m:\u001b[0m\u001b[1;33m\u001b[0m\u001b[1;33m\u001b[0m\u001b[0m\n\u001b[0;32m   1158\u001b[0m                 \u001b[0m_db\u001b[0m \u001b[1;33m=\u001b[0m \u001b[0mself\u001b[0m\u001b[1;33m.\u001b[0m\u001b[0m__collection\u001b[0m\u001b[1;33m.\u001b[0m\u001b[0mdatabase\u001b[0m\u001b[1;33m\u001b[0m\u001b[1;33m\u001b[0m\u001b[0m\n",
      "\u001b[1;32mC:\\ProgramData\\Anaconda3\\lib\\site-packages\\pymongo\\cursor.py\u001b[0m in \u001b[0;36m_refresh\u001b[1;34m(self)\u001b[0m\n\u001b[0;32m   1091\u001b[0m                                     \u001b[0mself\u001b[0m\u001b[1;33m.\u001b[0m\u001b[0m__max_await_time_ms\u001b[0m\u001b[1;33m,\u001b[0m\u001b[1;33m\u001b[0m\u001b[1;33m\u001b[0m\u001b[0m\n\u001b[0;32m   1092\u001b[0m                                     self.__exhaust_mgr)\n\u001b[1;32m-> 1093\u001b[1;33m             \u001b[0mself\u001b[0m\u001b[1;33m.\u001b[0m\u001b[0m__send_message\u001b[0m\u001b[1;33m(\u001b[0m\u001b[0mg\u001b[0m\u001b[1;33m)\u001b[0m\u001b[1;33m\u001b[0m\u001b[1;33m\u001b[0m\u001b[0m\n\u001b[0m\u001b[0;32m   1094\u001b[0m \u001b[1;33m\u001b[0m\u001b[0m\n\u001b[0;32m   1095\u001b[0m         \u001b[1;32mreturn\u001b[0m \u001b[0mlen\u001b[0m\u001b[1;33m(\u001b[0m\u001b[0mself\u001b[0m\u001b[1;33m.\u001b[0m\u001b[0m__data\u001b[0m\u001b[1;33m)\u001b[0m\u001b[1;33m\u001b[0m\u001b[1;33m\u001b[0m\u001b[0m\n",
      "\u001b[1;32mC:\\ProgramData\\Anaconda3\\lib\\site-packages\\pymongo\\cursor.py\u001b[0m in \u001b[0;36m__send_message\u001b[1;34m(self, operation)\u001b[0m\n\u001b[0;32m    953\u001b[0m             response = client._run_operation_with_response(\n\u001b[0;32m    954\u001b[0m                 \u001b[0moperation\u001b[0m\u001b[1;33m,\u001b[0m \u001b[0mself\u001b[0m\u001b[1;33m.\u001b[0m\u001b[0m_unpack_response\u001b[0m\u001b[1;33m,\u001b[0m \u001b[0mexhaust\u001b[0m\u001b[1;33m=\u001b[0m\u001b[0mself\u001b[0m\u001b[1;33m.\u001b[0m\u001b[0m__exhaust\u001b[0m\u001b[1;33m,\u001b[0m\u001b[1;33m\u001b[0m\u001b[1;33m\u001b[0m\u001b[0m\n\u001b[1;32m--> 955\u001b[1;33m                 address=self.__address)\n\u001b[0m\u001b[0;32m    956\u001b[0m         \u001b[1;32mexcept\u001b[0m \u001b[0mOperationFailure\u001b[0m\u001b[1;33m:\u001b[0m\u001b[1;33m\u001b[0m\u001b[1;33m\u001b[0m\u001b[0m\n\u001b[0;32m    957\u001b[0m             \u001b[0mself\u001b[0m\u001b[1;33m.\u001b[0m\u001b[0m__killed\u001b[0m \u001b[1;33m=\u001b[0m \u001b[1;32mTrue\u001b[0m\u001b[1;33m\u001b[0m\u001b[1;33m\u001b[0m\u001b[0m\n",
      "\u001b[1;32mC:\\ProgramData\\Anaconda3\\lib\\site-packages\\pymongo\\mongo_client.py\u001b[0m in \u001b[0;36m_run_operation_with_response\u001b[1;34m(self, operation, unpack_res, exhaust, address)\u001b[0m\n\u001b[0;32m   1344\u001b[0m             \u001b[0maddress\u001b[0m\u001b[1;33m=\u001b[0m\u001b[0maddress\u001b[0m\u001b[1;33m,\u001b[0m\u001b[1;33m\u001b[0m\u001b[1;33m\u001b[0m\u001b[0m\n\u001b[0;32m   1345\u001b[0m             \u001b[0mretryable\u001b[0m\u001b[1;33m=\u001b[0m\u001b[0misinstance\u001b[0m\u001b[1;33m(\u001b[0m\u001b[0moperation\u001b[0m\u001b[1;33m,\u001b[0m \u001b[0mmessage\u001b[0m\u001b[1;33m.\u001b[0m\u001b[0m_Query\u001b[0m\u001b[1;33m)\u001b[0m\u001b[1;33m,\u001b[0m\u001b[1;33m\u001b[0m\u001b[1;33m\u001b[0m\u001b[0m\n\u001b[1;32m-> 1346\u001b[1;33m             exhaust=exhaust)\n\u001b[0m\u001b[0;32m   1347\u001b[0m \u001b[1;33m\u001b[0m\u001b[0m\n\u001b[0;32m   1348\u001b[0m     \u001b[1;32mdef\u001b[0m \u001b[0m_retry_with_session\u001b[0m\u001b[1;33m(\u001b[0m\u001b[0mself\u001b[0m\u001b[1;33m,\u001b[0m \u001b[0mretryable\u001b[0m\u001b[1;33m,\u001b[0m \u001b[0mfunc\u001b[0m\u001b[1;33m,\u001b[0m \u001b[0msession\u001b[0m\u001b[1;33m,\u001b[0m \u001b[0mbulk\u001b[0m\u001b[1;33m)\u001b[0m\u001b[1;33m:\u001b[0m\u001b[1;33m\u001b[0m\u001b[1;33m\u001b[0m\u001b[0m\n",
      "\u001b[1;32mC:\\ProgramData\\Anaconda3\\lib\\site-packages\\pymongo\\mongo_client.py\u001b[0m in \u001b[0;36m_retryable_read\u001b[1;34m(self, func, read_pref, session, address, retryable, exhaust)\u001b[0m\n\u001b[0;32m   1462\u001b[0m                         \u001b[1;31m# not support retryable reads, raise the last error.\u001b[0m\u001b[1;33m\u001b[0m\u001b[1;33m\u001b[0m\u001b[1;33m\u001b[0m\u001b[0m\n\u001b[0;32m   1463\u001b[0m                         \u001b[1;32mraise\u001b[0m \u001b[0mlast_error\u001b[0m\u001b[1;33m\u001b[0m\u001b[1;33m\u001b[0m\u001b[0m\n\u001b[1;32m-> 1464\u001b[1;33m                     \u001b[1;32mreturn\u001b[0m \u001b[0mfunc\u001b[0m\u001b[1;33m(\u001b[0m\u001b[0msession\u001b[0m\u001b[1;33m,\u001b[0m \u001b[0mserver\u001b[0m\u001b[1;33m,\u001b[0m \u001b[0msock_info\u001b[0m\u001b[1;33m,\u001b[0m \u001b[0mslave_ok\u001b[0m\u001b[1;33m)\u001b[0m\u001b[1;33m\u001b[0m\u001b[1;33m\u001b[0m\u001b[0m\n\u001b[0m\u001b[0;32m   1465\u001b[0m             \u001b[1;32mexcept\u001b[0m \u001b[0mServerSelectionTimeoutError\u001b[0m\u001b[1;33m:\u001b[0m\u001b[1;33m\u001b[0m\u001b[1;33m\u001b[0m\u001b[0m\n\u001b[0;32m   1466\u001b[0m                 \u001b[1;32mif\u001b[0m \u001b[0mretrying\u001b[0m\u001b[1;33m:\u001b[0m\u001b[1;33m\u001b[0m\u001b[1;33m\u001b[0m\u001b[0m\n",
      "\u001b[1;32mC:\\ProgramData\\Anaconda3\\lib\\site-packages\\pymongo\\mongo_client.py\u001b[0m in \u001b[0;36m_cmd\u001b[1;34m(session, server, sock_info, slave_ok)\u001b[0m\n\u001b[0;32m   1338\u001b[0m                 \u001b[0mself\u001b[0m\u001b[1;33m.\u001b[0m\u001b[0m_event_listeners\u001b[0m\u001b[1;33m,\u001b[0m\u001b[1;33m\u001b[0m\u001b[1;33m\u001b[0m\u001b[0m\n\u001b[0;32m   1339\u001b[0m                 \u001b[0mexhaust\u001b[0m\u001b[1;33m,\u001b[0m\u001b[1;33m\u001b[0m\u001b[1;33m\u001b[0m\u001b[0m\n\u001b[1;32m-> 1340\u001b[1;33m                 unpack_res)\n\u001b[0m\u001b[0;32m   1341\u001b[0m \u001b[1;33m\u001b[0m\u001b[0m\n\u001b[0;32m   1342\u001b[0m         return self._retryable_read(\n",
      "\u001b[1;32mC:\\ProgramData\\Anaconda3\\lib\\site-packages\\pymongo\\server.py\u001b[0m in \u001b[0;36mrun_operation_with_response\u001b[1;34m(self, sock_info, operation, set_slave_okay, listeners, exhaust, unpack_res)\u001b[0m\n\u001b[0;32m    134\u001b[0m                 operation.client._process_response(\n\u001b[0;32m    135\u001b[0m                     first, operation.session)\n\u001b[1;32m--> 136\u001b[1;33m                 \u001b[0m_check_command_response\u001b[0m\u001b[1;33m(\u001b[0m\u001b[0mfirst\u001b[0m\u001b[1;33m)\u001b[0m\u001b[1;33m\u001b[0m\u001b[1;33m\u001b[0m\u001b[0m\n\u001b[0m\u001b[0;32m    137\u001b[0m         \u001b[1;32mexcept\u001b[0m \u001b[0mException\u001b[0m \u001b[1;32mas\u001b[0m \u001b[0mexc\u001b[0m\u001b[1;33m:\u001b[0m\u001b[1;33m\u001b[0m\u001b[1;33m\u001b[0m\u001b[0m\n\u001b[0;32m    138\u001b[0m             \u001b[1;32mif\u001b[0m \u001b[0mpublish\u001b[0m\u001b[1;33m:\u001b[0m\u001b[1;33m\u001b[0m\u001b[1;33m\u001b[0m\u001b[0m\n",
      "\u001b[1;32mC:\\ProgramData\\Anaconda3\\lib\\site-packages\\pymongo\\helpers.py\u001b[0m in \u001b[0;36m_check_command_response\u001b[1;34m(response, msg, allowable_errors, parse_write_concern_error)\u001b[0m\n\u001b[0;32m    154\u001b[0m                 \u001b[1;32mraise\u001b[0m \u001b[0mExecutionTimeout\u001b[0m\u001b[1;33m(\u001b[0m\u001b[0merrmsg\u001b[0m\u001b[1;33m,\u001b[0m \u001b[0mcode\u001b[0m\u001b[1;33m,\u001b[0m \u001b[0mresponse\u001b[0m\u001b[1;33m)\u001b[0m\u001b[1;33m\u001b[0m\u001b[1;33m\u001b[0m\u001b[0m\n\u001b[0;32m    155\u001b[0m             \u001b[1;32melif\u001b[0m \u001b[0mcode\u001b[0m \u001b[1;33m==\u001b[0m \u001b[1;36m43\u001b[0m\u001b[1;33m:\u001b[0m\u001b[1;33m\u001b[0m\u001b[1;33m\u001b[0m\u001b[0m\n\u001b[1;32m--> 156\u001b[1;33m                 \u001b[1;32mraise\u001b[0m \u001b[0mCursorNotFound\u001b[0m\u001b[1;33m(\u001b[0m\u001b[0merrmsg\u001b[0m\u001b[1;33m,\u001b[0m \u001b[0mcode\u001b[0m\u001b[1;33m,\u001b[0m \u001b[0mresponse\u001b[0m\u001b[1;33m)\u001b[0m\u001b[1;33m\u001b[0m\u001b[1;33m\u001b[0m\u001b[0m\n\u001b[0m\u001b[0;32m    157\u001b[0m \u001b[1;33m\u001b[0m\u001b[0m\n\u001b[0;32m    158\u001b[0m             \u001b[0mmsg\u001b[0m \u001b[1;33m=\u001b[0m \u001b[0mmsg\u001b[0m \u001b[1;32mor\u001b[0m \u001b[1;34m\"%s\"\u001b[0m\u001b[1;33m\u001b[0m\u001b[1;33m\u001b[0m\u001b[0m\n",
      "\u001b[1;31mCursorNotFound\u001b[0m: cursor id 6681791854831824609 not found"
     ]
    }
   ],
   "source": [
    "equityList=db[\"stocklist\"]\n",
    "stockWarehouse=db[\"stockWarehouse\"]\n",
    "\n",
    "equityListdf=pd.DataFrame(equityList.find({'State':\"A\"},{'Issuer Name':1,'_id':0}))\n",
    "equityListdf['trend']=0\n",
    "equityListdf['daysSinceCutOver']=0\n",
    "equityListdf['trendnature']=''\n",
    "equityListdf['singleCandlePattern']=''\n",
    "equityListdf['RSI']=0\n",
    "equityListdf['Close']=0\n",
    "equityListdf['sharesbought']=0\n",
    "equityListdf['moneyinvested']=0    \n",
    "equityListdf['profit']=0\n",
    "equityListdf['Capital']=0\n",
    "equityListdf['trades']=0\n",
    "equityListdf['cutoverprice']=0                \n",
    "cnt=0  \n",
    "i=0\n",
    "capital_needed=0\n",
    "equityListdf['sharesbought']=0\n",
    "#print(equityListdf.columns)\n",
    "for dt in stockWarehouse.find({'Symbol':'SBIN','Date':{'$gte':datetime(2019,8,30)},'Close':{'$lte':1500},'Close':{'$gte':100}},{'_id':0,'Date':1},no_cursor_timeout=True).sort('Date'):\n",
    "    cnt=cnt+1\n",
    "#   print(symbol,cnt)\n",
    "    profit=0  \n",
    "    trades=0\n",
    "    sell=0\n",
    "    buy=0\n",
    "    for symbol in equityListdf['Issuer Name']:\n",
    "        for dt1 in stockWarehouse.find({'Symbol':'SBIN','Date':{'$lte':dt['Date']}},{'_id':0,'Date':1}).sort('Date',-1).limit(1):\n",
    "            refdate=dt1 # Set Reference Data as last date when SBI Stock Data was update\n",
    "        for maxdate in stockWarehouse.find({'Symbol':symbol,'Date':{'$lte':dt['Date']}},{'_id':0,'Date':1}).sort('Date',-1).limit(1):\n",
    "            if maxdate == refdate :  # Check if database has latest sttock info by comparing aginst SBI\n",
    "                datadf=pd.DataFrame(stockWarehouse.find({'Symbol':symbol,'Date':{'$lte':dt['Date']}}).sort('Date',-1).limit(300))# Get top 300 row of stock in iteration\n",
    "                datadftmp=datadf.iloc[-1].to_numpy()\n",
    "                #print(datadftmp)\n",
    "                datadf.set_index('Date',inplace=True)\n",
    "                datadf.sort_index(inplace=True)\n",
    "                equityListdf.loc[equityListdf['Issuer Name'] == symbol,'Close']=datadf.iloc[-1,1]\n",
    "                tempnp=equityListdf.loc[equityListdf['Issuer Name'] == symbol].to_numpy()\n",
    "                if tempnp[0,6] < 1500 and tempnp[0,6] > 100:  # Column 6 is close price \n",
    "                    equityListdf=markTrend_Crossover(equityListdf,datadf,symbol)\n",
    "                    equityListdf=rsiindicator(equityListdf,datadf,symbol,15)\n",
    "                    tempnp=equityListdf.loc[equityListdf['Issuer Name'] == symbol].to_numpy()\n",
    "                    datadf['avgvolume30']=datadf['Volume'].rolling(300).mean()\n",
    "                    datadf['avgvolume10']=datadf['Volume'].rolling(10).mean()\n",
    "                    if capital_needed < 40000 and tempnp[0,5] < 40 and tempnp[0,2] < 10   and tempnp[0,1] == 1 and tempnp[0,3] == 'Expanding' and tempnp[0,7] == 0 and datadf['avgvolume30'].iloc[-1]<datadf['avgvolume10'].iloc[-1]  :\n",
    "                        #print(\"buy\",maxdate['Date'].date(),end='|')\n",
    "                        equityListdf.loc[equityListdf['Issuer Name']==symbol,'sharesbought']=tempnp[0,7]+1\n",
    "                        equityListdf.loc[equityListdf['Issuer Name']==symbol,'moneyinvested']=tempnp[0,8] + tempnp[0,6]\n",
    "                        capital_needed=capital_needed+tempnp[0,6]\n",
    "                        buy=buy+1\n",
    "                    else :\n",
    "                        if tempnp[0,7] > 0:\n",
    "                            avgprice=tempnp[0,8]/tempnp[0,7]\n",
    "                            #print('avgprice:',avgprice)\n",
    "                            if (tempnp[0,5] > 70 or tempnp[0,1] == -1 or tempnp[0,3] == 'Contracting' or ((avgprice-tempnp[0,6])/avgprice) > .5 or ((tempnp[0,6]-avgprice)/avgprice) > .1):\n",
    "                                loss=((tempnp[0,6] * tempnp[0,7]) - tempnp[0,8])\n",
    "                                if loss < -(avgprice*.1) :\n",
    "                                    loss=-(avgprice*.1)\n",
    "                                equityListdf.loc[equityListdf['Issuer Name']==symbol,'profit']=tempnp[0,9] + loss\n",
    "                                capital_needed=capital_needed-(tempnp[0,6] * tempnp[0,7])\n",
    "                                equityListdf.loc[equityListdf['Issuer Name']==symbol,'sharesbought']=0\n",
    "                                equityListdf.loc[equityListdf['Issuer Name']==symbol,'trades']=tempnp[0,11]+1\n",
    "                                equityListdf.loc[equityListdf['Issuer Name']==symbol,'moneyinvested']=0\n",
    "                                sell=sell+1\n",
    "    \n",
    "    print('Date',dt,'Profit:',equityListdf['profit'].sum(),'Capital:',capital_needed,'sellsigs:',sell,'buysigs',buy)"
   ]
  },
  {
   "cell_type": "code",
   "execution_count": null,
   "metadata": {},
   "outputs": [],
   "source": [
    "#print(equityListdf.loc[equityListdf['Issuer Name'] == symbol,'RSI'][1])\n",
    "#print(equityListdf.loc[equityListdf['Issuer Name'] == symbol,'RSI'][0])\n",
    "#print(equityListdf.loc[equityListdf['Issuer Name'] == symbol,'RSI'][0])\n",
    "equityListdf.to_csv(\"C:\\\\Users\\\\khanna's\\\\Documents\\\\Stock Trend Analysis\\\\result.csv\")"
   ]
  },
  {
   "cell_type": "code",
   "execution_count": 26,
   "metadata": {},
   "outputs": [
    {
     "name": "stdout",
     "output_type": "stream",
     "text": [
      "Index(['Issuer Name', 'trend', 'daysSinceCutOver', 'trendnature',\n",
      "       'singleCandlePattern', 'RSI', 'Close', 'sharesbought', 'moneyinvested',\n",
      "       'profit', 'Capital', 'trades', 'cutoverprice'],\n",
      "      dtype='object')\n",
      "[['KSL' 1 48 'Contracting' '' 36.152055857253686 215.3 0 0 0 0 0 0]]\n"
     ]
    }
   ],
   "source": [
    "print(equityListdf.columns)\n",
    "print(tempnp)"
   ]
  },
  {
   "cell_type": "code",
   "execution_count": 26,
   "metadata": {},
   "outputs": [
    {
     "name": "stdout",
     "output_type": "stream",
     "text": [
      "Index(['%Deliverble', 'Close', 'Deliverable Volume', 'High', 'Last', 'Low',\n",
      "       'Open', 'Prev Close', 'Series', 'Symbol', 'Trades', 'Turnover', 'VWAP',\n",
      "       'Volume', '_id'],\n",
      "      dtype='object')\n"
     ]
    },
    {
     "ename": "IndexError",
     "evalue": "single positional indexer is out-of-bounds",
     "output_type": "error",
     "traceback": [
      "\u001b[1;31m---------------------------------------------------------------------------\u001b[0m",
      "\u001b[1;31mIndexError\u001b[0m                                Traceback (most recent call last)",
      "\u001b[1;32m<ipython-input-26-bbde188384bc>\u001b[0m in \u001b[0;36m<module>\u001b[1;34m\u001b[0m\n\u001b[0;32m      1\u001b[0m \u001b[0mprint\u001b[0m\u001b[1;33m(\u001b[0m\u001b[0mdatadf\u001b[0m\u001b[1;33m.\u001b[0m\u001b[0mcolumns\u001b[0m\u001b[1;33m)\u001b[0m\u001b[1;33m\u001b[0m\u001b[1;33m\u001b[0m\u001b[0m\n\u001b[1;32m----> 2\u001b[1;33m \u001b[0mprint\u001b[0m\u001b[1;33m(\u001b[0m\u001b[0mdatadf\u001b[0m\u001b[1;33m.\u001b[0m\u001b[0miloc\u001b[0m\u001b[1;33m[\u001b[0m\u001b[1;33m-\u001b[0m\u001b[1;36m1\u001b[0m\u001b[1;33m,\u001b[0m\u001b[1;36m15\u001b[0m\u001b[1;33m]\u001b[0m\u001b[1;33m)\u001b[0m\u001b[1;33m\u001b[0m\u001b[1;33m\u001b[0m\u001b[0m\n\u001b[0m",
      "\u001b[1;32mC:\\ProgramData\\Anaconda3\\lib\\site-packages\\pandas\\core\\indexing.py\u001b[0m in \u001b[0;36m__getitem__\u001b[1;34m(self, key)\u001b[0m\n\u001b[0;32m   1492\u001b[0m             \u001b[1;32mexcept\u001b[0m \u001b[1;33m(\u001b[0m\u001b[0mKeyError\u001b[0m\u001b[1;33m,\u001b[0m \u001b[0mIndexError\u001b[0m\u001b[1;33m,\u001b[0m \u001b[0mAttributeError\u001b[0m\u001b[1;33m)\u001b[0m\u001b[1;33m:\u001b[0m\u001b[1;33m\u001b[0m\u001b[1;33m\u001b[0m\u001b[0m\n\u001b[0;32m   1493\u001b[0m                 \u001b[1;32mpass\u001b[0m\u001b[1;33m\u001b[0m\u001b[1;33m\u001b[0m\u001b[0m\n\u001b[1;32m-> 1494\u001b[1;33m             \u001b[1;32mreturn\u001b[0m \u001b[0mself\u001b[0m\u001b[1;33m.\u001b[0m\u001b[0m_getitem_tuple\u001b[0m\u001b[1;33m(\u001b[0m\u001b[0mkey\u001b[0m\u001b[1;33m)\u001b[0m\u001b[1;33m\u001b[0m\u001b[1;33m\u001b[0m\u001b[0m\n\u001b[0m\u001b[0;32m   1495\u001b[0m         \u001b[1;32melse\u001b[0m\u001b[1;33m:\u001b[0m\u001b[1;33m\u001b[0m\u001b[1;33m\u001b[0m\u001b[0m\n\u001b[0;32m   1496\u001b[0m             \u001b[1;31m# we by definition only have the 0th axis\u001b[0m\u001b[1;33m\u001b[0m\u001b[1;33m\u001b[0m\u001b[1;33m\u001b[0m\u001b[0m\n",
      "\u001b[1;32mC:\\ProgramData\\Anaconda3\\lib\\site-packages\\pandas\\core\\indexing.py\u001b[0m in \u001b[0;36m_getitem_tuple\u001b[1;34m(self, tup)\u001b[0m\n\u001b[0;32m   2141\u001b[0m     \u001b[1;32mdef\u001b[0m \u001b[0m_getitem_tuple\u001b[0m\u001b[1;33m(\u001b[0m\u001b[0mself\u001b[0m\u001b[1;33m,\u001b[0m \u001b[0mtup\u001b[0m\u001b[1;33m)\u001b[0m\u001b[1;33m:\u001b[0m\u001b[1;33m\u001b[0m\u001b[1;33m\u001b[0m\u001b[0m\n\u001b[0;32m   2142\u001b[0m \u001b[1;33m\u001b[0m\u001b[0m\n\u001b[1;32m-> 2143\u001b[1;33m         \u001b[0mself\u001b[0m\u001b[1;33m.\u001b[0m\u001b[0m_has_valid_tuple\u001b[0m\u001b[1;33m(\u001b[0m\u001b[0mtup\u001b[0m\u001b[1;33m)\u001b[0m\u001b[1;33m\u001b[0m\u001b[1;33m\u001b[0m\u001b[0m\n\u001b[0m\u001b[0;32m   2144\u001b[0m         \u001b[1;32mtry\u001b[0m\u001b[1;33m:\u001b[0m\u001b[1;33m\u001b[0m\u001b[1;33m\u001b[0m\u001b[0m\n\u001b[0;32m   2145\u001b[0m             \u001b[1;32mreturn\u001b[0m \u001b[0mself\u001b[0m\u001b[1;33m.\u001b[0m\u001b[0m_getitem_lowerdim\u001b[0m\u001b[1;33m(\u001b[0m\u001b[0mtup\u001b[0m\u001b[1;33m)\u001b[0m\u001b[1;33m\u001b[0m\u001b[1;33m\u001b[0m\u001b[0m\n",
      "\u001b[1;32mC:\\ProgramData\\Anaconda3\\lib\\site-packages\\pandas\\core\\indexing.py\u001b[0m in \u001b[0;36m_has_valid_tuple\u001b[1;34m(self, key)\u001b[0m\n\u001b[0;32m    221\u001b[0m                 \u001b[1;32mraise\u001b[0m \u001b[0mIndexingError\u001b[0m\u001b[1;33m(\u001b[0m\u001b[1;34m'Too many indexers'\u001b[0m\u001b[1;33m)\u001b[0m\u001b[1;33m\u001b[0m\u001b[1;33m\u001b[0m\u001b[0m\n\u001b[0;32m    222\u001b[0m             \u001b[1;32mtry\u001b[0m\u001b[1;33m:\u001b[0m\u001b[1;33m\u001b[0m\u001b[1;33m\u001b[0m\u001b[0m\n\u001b[1;32m--> 223\u001b[1;33m                 \u001b[0mself\u001b[0m\u001b[1;33m.\u001b[0m\u001b[0m_validate_key\u001b[0m\u001b[1;33m(\u001b[0m\u001b[0mk\u001b[0m\u001b[1;33m,\u001b[0m \u001b[0mi\u001b[0m\u001b[1;33m)\u001b[0m\u001b[1;33m\u001b[0m\u001b[1;33m\u001b[0m\u001b[0m\n\u001b[0m\u001b[0;32m    224\u001b[0m             \u001b[1;32mexcept\u001b[0m \u001b[0mValueError\u001b[0m\u001b[1;33m:\u001b[0m\u001b[1;33m\u001b[0m\u001b[1;33m\u001b[0m\u001b[0m\n\u001b[0;32m    225\u001b[0m                 raise ValueError(\"Location based indexing can only have \"\n",
      "\u001b[1;32mC:\\ProgramData\\Anaconda3\\lib\\site-packages\\pandas\\core\\indexing.py\u001b[0m in \u001b[0;36m_validate_key\u001b[1;34m(self, key, axis)\u001b[0m\n\u001b[0;32m   2068\u001b[0m             \u001b[1;32mreturn\u001b[0m\u001b[1;33m\u001b[0m\u001b[1;33m\u001b[0m\u001b[0m\n\u001b[0;32m   2069\u001b[0m         \u001b[1;32melif\u001b[0m \u001b[0mis_integer\u001b[0m\u001b[1;33m(\u001b[0m\u001b[0mkey\u001b[0m\u001b[1;33m)\u001b[0m\u001b[1;33m:\u001b[0m\u001b[1;33m\u001b[0m\u001b[1;33m\u001b[0m\u001b[0m\n\u001b[1;32m-> 2070\u001b[1;33m             \u001b[0mself\u001b[0m\u001b[1;33m.\u001b[0m\u001b[0m_validate_integer\u001b[0m\u001b[1;33m(\u001b[0m\u001b[0mkey\u001b[0m\u001b[1;33m,\u001b[0m \u001b[0maxis\u001b[0m\u001b[1;33m)\u001b[0m\u001b[1;33m\u001b[0m\u001b[1;33m\u001b[0m\u001b[0m\n\u001b[0m\u001b[0;32m   2071\u001b[0m         \u001b[1;32melif\u001b[0m \u001b[0misinstance\u001b[0m\u001b[1;33m(\u001b[0m\u001b[0mkey\u001b[0m\u001b[1;33m,\u001b[0m \u001b[0mtuple\u001b[0m\u001b[1;33m)\u001b[0m\u001b[1;33m:\u001b[0m\u001b[1;33m\u001b[0m\u001b[1;33m\u001b[0m\u001b[0m\n\u001b[0;32m   2072\u001b[0m             \u001b[1;31m# a tuple should already have been caught by this point\u001b[0m\u001b[1;33m\u001b[0m\u001b[1;33m\u001b[0m\u001b[1;33m\u001b[0m\u001b[0m\n",
      "\u001b[1;32mC:\\ProgramData\\Anaconda3\\lib\\site-packages\\pandas\\core\\indexing.py\u001b[0m in \u001b[0;36m_validate_integer\u001b[1;34m(self, key, axis)\u001b[0m\n\u001b[0;32m   2137\u001b[0m         \u001b[0mlen_axis\u001b[0m \u001b[1;33m=\u001b[0m \u001b[0mlen\u001b[0m\u001b[1;33m(\u001b[0m\u001b[0mself\u001b[0m\u001b[1;33m.\u001b[0m\u001b[0mobj\u001b[0m\u001b[1;33m.\u001b[0m\u001b[0m_get_axis\u001b[0m\u001b[1;33m(\u001b[0m\u001b[0maxis\u001b[0m\u001b[1;33m)\u001b[0m\u001b[1;33m)\u001b[0m\u001b[1;33m\u001b[0m\u001b[1;33m\u001b[0m\u001b[0m\n\u001b[0;32m   2138\u001b[0m         \u001b[1;32mif\u001b[0m \u001b[0mkey\u001b[0m \u001b[1;33m>=\u001b[0m \u001b[0mlen_axis\u001b[0m \u001b[1;32mor\u001b[0m \u001b[0mkey\u001b[0m \u001b[1;33m<\u001b[0m \u001b[1;33m-\u001b[0m\u001b[0mlen_axis\u001b[0m\u001b[1;33m:\u001b[0m\u001b[1;33m\u001b[0m\u001b[1;33m\u001b[0m\u001b[0m\n\u001b[1;32m-> 2139\u001b[1;33m             \u001b[1;32mraise\u001b[0m \u001b[0mIndexError\u001b[0m\u001b[1;33m(\u001b[0m\u001b[1;34m\"single positional indexer is out-of-bounds\"\u001b[0m\u001b[1;33m)\u001b[0m\u001b[1;33m\u001b[0m\u001b[1;33m\u001b[0m\u001b[0m\n\u001b[0m\u001b[0;32m   2140\u001b[0m \u001b[1;33m\u001b[0m\u001b[0m\n\u001b[0;32m   2141\u001b[0m     \u001b[1;32mdef\u001b[0m \u001b[0m_getitem_tuple\u001b[0m\u001b[1;33m(\u001b[0m\u001b[0mself\u001b[0m\u001b[1;33m,\u001b[0m \u001b[0mtup\u001b[0m\u001b[1;33m)\u001b[0m\u001b[1;33m:\u001b[0m\u001b[1;33m\u001b[0m\u001b[1;33m\u001b[0m\u001b[0m\n",
      "\u001b[1;31mIndexError\u001b[0m: single positional indexer is out-of-bounds"
     ]
    }
   ],
   "source": [
    "print(datadf.columns)\n",
    "print(datadf.iloc[-1,15])"
   ]
  },
  {
   "cell_type": "code",
   "execution_count": 27,
   "metadata": {},
   "outputs": [
    {
     "ename": "NameError",
     "evalue": "name 'fromDate' is not defined",
     "output_type": "error",
     "traceback": [
      "\u001b[1;31m---------------------------------------------------------------------------\u001b[0m",
      "\u001b[1;31mNameError\u001b[0m                                 Traceback (most recent call last)",
      "\u001b[1;32m<ipython-input-27-7a7dc6769de7>\u001b[0m in \u001b[0;36m<module>\u001b[1;34m\u001b[0m\n\u001b[0;32m      9\u001b[0m \u001b[1;31m# and datadf.iloc[-1].to_numpy()[15] < datadf.iloc[-1].to_numpy()[16]\u001b[0m\u001b[1;33m\u001b[0m\u001b[1;33m\u001b[0m\u001b[1;33m\u001b[0m\u001b[0m\n\u001b[0;32m     10\u001b[0m \u001b[1;31m#and (tempnp[0,6]-tempnp[0,12])/tempnp[0,6] > .05\u001b[0m\u001b[1;33m\u001b[0m\u001b[1;33m\u001b[0m\u001b[1;33m\u001b[0m\u001b[0m\n\u001b[1;32m---> 11\u001b[1;33m \u001b[0mprint\u001b[0m\u001b[1;33m(\u001b[0m\u001b[0mfromDate\u001b[0m\u001b[1;33m)\u001b[0m\u001b[1;33m\u001b[0m\u001b[1;33m\u001b[0m\u001b[0m\n\u001b[0m",
      "\u001b[1;31mNameError\u001b[0m: name 'fromDate' is not defined"
     ]
    }
   ],
   "source": [
    "#print(datadf['Volume'].rolling(30).mean().iloc[-1])\n",
    "#print(datadf['Volume'].iloc[-1])\n",
    "#print(datadf['Volume'].tail(20))\n",
    "#print(datadf.iloc[-1])\n",
    "#print(datadf.iloc[-1].to_numpy())\n",
    "#print(datadf.iloc[-1].to_numpy()[13])\n",
    "#print(datadf.iloc[:,0])\n",
    "#and tempnp[0,6] < 1000\n",
    "# and datadf.iloc[-1].to_numpy()[15] < datadf.iloc[-1].to_numpy()[16]\n",
    "#and (tempnp[0,6]-tempnp[0,12])/tempnp[0,6] > .05\n",
    "print(fromDate)"
   ]
  },
  {
   "cell_type": "code",
   "execution_count": null,
   "metadata": {},
   "outputs": [],
   "source": []
  }
 ],
 "metadata": {
  "kernelspec": {
   "display_name": "Python 3",
   "language": "python",
   "name": "python3"
  },
  "language_info": {
   "codemirror_mode": {
    "name": "ipython",
    "version": 3
   },
   "file_extension": ".py",
   "mimetype": "text/x-python",
   "name": "python",
   "nbconvert_exporter": "python",
   "pygments_lexer": "ipython3",
   "version": "3.7.3"
  }
 },
 "nbformat": 4,
 "nbformat_minor": 2
}
