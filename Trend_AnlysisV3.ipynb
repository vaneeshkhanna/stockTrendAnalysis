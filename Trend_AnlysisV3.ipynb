{
 "cells": [
  {
   "cell_type": "markdown",
   "metadata": {},
   "source": [
    "Import Classes and Define Variables"
   ]
  },
  {
   "cell_type": "code",
   "execution_count": 1,
   "metadata": {},
   "outputs": [
    {
     "data": {
      "text/plain": [
       "8425"
      ]
     },
     "execution_count": 1,
     "metadata": {},
     "output_type": "execute_result"
    }
   ],
   "source": [
    "import numpy as np\n",
    "import scipy as sp\n",
    "import pymongo\n",
    "import pandas as pd\n",
    "import nsepy\n",
    "from datetime import datetime\n",
    "from datetime import timedelta\n",
    "from pymongo import MongoClient\n",
    "from nsepy import get_history\n",
    "client=MongoClient(\"mongodb://localhost:27018/\",username=\"stockadm\",password=\"1qaz@WSX\")\n",
    "db=client[\"stockWarehouse\"]\n",
    "equityList=db[\"stocklist\"]\n",
    "stockWarehouse=db[\"stockWarehouse\"]\n",
    "equityListPd = pd.DataFrame(equityList.find({}))\n",
    "equityListPd.shape[0]"
   ]
  },
  {
   "cell_type": "markdown",
   "metadata": {},
   "source": [
    "Data Collector Function"
   ]
  },
  {
   "cell_type": "code",
   "execution_count": 2,
   "metadata": {},
   "outputs": [],
   "source": [
    "def dataCollector():\n",
    "    equityListPd = pd.DataFrame(equityList.find({'State':\"A\"}))\n",
    "    collectionTime=2000\n",
    "    basicSample=30\n",
    "    cnt=0\n",
    "    my_time = datetime.now()\n",
    "\n",
    "    for rows in equityListPd['Issuer Name'].iteritems():\n",
    "        print(cnt,rows[1],end=\"-\")\n",
    "        cnt= cnt + 1\n",
    "        if stockWarehouse.find({'Symbol':rows[1]}).count() > 1 :\n",
    "            for j in stockWarehouse.find({'Symbol':rows[1]},{'_id':0,'Date':1}).sort('Date',-1).limit(1) :\n",
    "                collectionTime=((my_time - j['Date']).days - 1)\n",
    "                fromDate=j['Date']\n",
    "        if fromDate.date() < datetime.now().date():\n",
    "            \n",
    "            iters=int(collectionTime/basicSample)\n",
    "            if (collectionTime != 0):\n",
    "                if collectionTime < 2000:\n",
    "                    basicSample=collectionTime\n",
    "                    iters=1\n",
    "                dt=datetime.now()\n",
    "                print(\"Iterations:\",iters,end=\"|\")\n",
    "                for i in range(0,iters):\n",
    "\n",
    "                    startDate=dt - timedelta(days=basicSample)\n",
    "                    if( startDate <= fromDate):\n",
    "                        startDate = (fromDate + timedelta(days=1))\n",
    "                    endDate=dt \n",
    "                    print(i,\"Collecting into between\",startDate.date(),\"-\", endDate.date(),\"@\",datetime.now(),end=\"|\")\n",
    "                    df=pd.DataFrame(get_history(symbol=rows[1] , start= startDate,end=endDate))\n",
    "                    df.reset_index(inplace=True)\n",
    "                    df['Date']=pd.to_datetime(df['Date'])\n",
    "                    dfLength=(len(df.index))\n",
    "                    if  dfLength > 0 :\n",
    "                        data_dict=df.to_dict(\"records\")\n",
    "                        #print(data_dict)\n",
    "                        stockWarehouse.insert_many(data_dict)\n",
    "                        tmpdf=pd.DataFrame(stockWarehouse.find({\"Symbol\":rows[i],\"Date\":{\"$lte\":endDate,\"$gte\":startDate}}))\n",
    "                        print(df.index.size,tmpdf.index.size,end=\"|\")\n",
    "                        equityList.update_many({'Issuer Name':rows[1]},{'$set': {'Security Name':'Active'}})    \n",
    "                    else :\n",
    "                        print(\"Marking as Inactive\")\n",
    "                        equityList.update_many({'Issuer Name':rows[1]},{'$set': {'Security Name':'Inactive'}})\n",
    "                        break;\n",
    "                    dt=(startDate - timedelta(days=1))\n"
   ]
  },
  {
   "cell_type": "code",
   "execution_count": 3,
   "metadata": {},
   "outputs": [],
   "source": [
    "def markInactiveStocks():\n",
    "    reference=int(stockWarehouse.find({'Symbol':'SBIN'}).count()) - 100\n",
    "    print(reference)\n",
    "    tmp_count=0\n",
    "    for i in equityList.find({},{'Issuer Name':1}):\n",
    "        #print(i['Issuer Name'])\n",
    "        tmp_count=(int(stockWarehouse.find({'Symbol':i['Issuer Name']}).count()))\n",
    "        if tmp_count >= reference:\n",
    "            print(i['Issuer Name'],end='|')\n",
    "            equityList.update_many({'Issuer Name':i['Issuer Name']},{'$set': {'State':\"A\"}})"
   ]
  },
  {
   "cell_type": "code",
   "execution_count": 4,
   "metadata": {},
   "outputs": [],
   "source": [
    "def markTrend_Crossover(stockdf,datadf,symbol):\n",
    "    \n",
    "    for i in range(0,stockdf.shape[0],1):\n",
    "            if stockdf['Issuer Name'].iloc[i]==symbol:\n",
    "                break;\n",
    "    datadf['ewmdiff']=datadf['Close'].ewm(span=9,adjust=False).mean() - datadf['Close'].ewm(span=21,adjust=False).mean()\n",
    "    nrows=datadf.shape[0]-1\n",
    "    if datadf.iloc[nrows,15] > 0:\n",
    "        stockdf.iloc[i,1]=1\n",
    "    else:\n",
    "        stockdf.iloc[i,1]=-1\n",
    "    for j in range(datadf.shape[0]-1,2,-1):\n",
    "        if datadf.iloc[j,15]*datadf.iloc[j-1,15] <= 0:\n",
    "            stockdf.iloc[i,2]=datadf.shape[0]-j\n",
    "            break;\n",
    "    datadf['ewmdiffewm14']=datadf['ewmdiff'].ewm(span=9,adjust=False).mean()\n",
    "    if datadf.iloc[nrows,15] > datadf.iloc[nrows,16] :\n",
    "        stockdf.iloc[i,3]='Expanding'\n",
    "    else:\n",
    "        stockdf.iloc[i,3]='Contracting'\n",
    "    return(stockdf)"
   ]
  },
  {
   "cell_type": "code",
   "execution_count": 5,
   "metadata": {},
   "outputs": [],
   "source": [
    "def singlePatternCandle(stockdf,datadf,symbol):\n",
    "    for i in range(0,stockdf.shape[0],1):\n",
    "        if stockdf['Issuer Name'].iloc[i]==symbol:\n",
    "            break;\n",
    "                \n",
    "    pattern=''\n",
    "    umbrellaFound=False\n",
    "    if 'singleCandlePattern' in stockdf.columns:\n",
    "        if pd.isnull(stockdf['singleCandlePattern'].iloc[i]):\n",
    "            pattern=''\n",
    "        else:\n",
    "            pattern=stockdf['singleCandlePattern'].iloc[i]\n",
    "    nrows=datadf.shape[0]-1\n",
    "    Close=datadf['Close'].iloc[nrows]\n",
    "    Open=datadf['Open'].iloc[nrows]\n",
    "    High=datadf['High'].iloc[nrows]\n",
    "    Low=datadf['Low'].iloc[nrows]\n",
    "    if  Open > Close :\n",
    "        candle=-1\n",
    "    if  Open < Close :\n",
    "        candle=1\n",
    "    if  Open == Close :\n",
    "        candle=0\n",
    "####### Check MaruBozo\n",
    "    \n",
    "    if candle > 0:\n",
    "        if ((High-Close)/(Close-Open)) < .05 and ((Open-Low)/(Close-Open))< .05:\n",
    "            pattern=pattern + 'Bull Marubozo|' +'SL:' + str(Low)\n",
    "    if candle < 0:\n",
    "        if ((High-Open)/(Open-Close)) < .05 and ((Close-Low)/(Open-Close)) < .05:\n",
    "            pattern=pattern + 'Bear Marubozo|' +'SL:' + str(High)\n",
    "        \n",
    "####### Check Paper Umbrella\n",
    "    if candle > 0:\n",
    "        if ((Open-Low)/(Close-Open)) > 2 and (High-Close)/(Close-Open) < .05:\n",
    "            umbrellaFound=True\n",
    "    if candle < 0:\n",
    "        if ((Close-Low)/(Open-Close)) > 2 and (High-Open)/(Open-Close) < .05:\n",
    "            umbrellaFound=True\n",
    "    if umbrellaFound:\n",
    "        if stockdf['trend'].iloc[i] == 1:\n",
    "            pattern=pattern + 'Hanging Man ' +'SL:' + str(High)\n",
    "        else:\n",
    "            pattern=pattern + 'Hammer ' + 'SL:' + str(Low)\n",
    "        \n",
    "    stockdf['singleCandlePattern'].iloc[i]=pattern\n",
    "    return(stockdf)\n",
    "                \n",
    "        \n",
    "        "
   ]
  },
  {
   "cell_type": "code",
   "execution_count": 6,
   "metadata": {},
   "outputs": [],
   "source": [
    "def rsiindicator(stockdf,datadf,symbol,term):\n",
    "    for i in range(0,stockdf.shape[0],1):\n",
    "        if stockdf['Issuer Name'].iloc[i]==symbol:\n",
    "            break;\n",
    "    nrows=datadf.shape[0]-1\n",
    "    datadf['Diff']=datadf['Close'].diff()\n",
    "    datadf['AVGU']=0\n",
    "    datadf['AVGD']=0\n",
    "    datadf.loc[datadf['Diff'] > 0,'AVGU' ] = datadf['Diff']\n",
    "    datadf.loc[datadf['Diff'] < 0,'AVGD' ] = -datadf['Diff']\n",
    "    AVGUT=datadf.iloc[nrows-1,18]/term + (term - 1)*datadf.iloc[(nrows-(term+1)):(nrows-2),18].mean()/term    \n",
    "    AVGDT=datadf.iloc[nrows-1,19]/term + (term - 1)*datadf.iloc[(nrows-(term+1)):(nrows-2),19].mean()/term\n",
    "    RS=AVGUT/AVGDT\n",
    "    RSI=100-(100/(1+RS))\n",
    "    stockdf.iloc[i,5]=RSI\n",
    "    return(stockdf)"
   ]
  },
  {
   "cell_type": "code",
   "execution_count": 7,
   "metadata": {},
   "outputs": [
    {
     "name": "stdout",
     "output_type": "stream",
     "text": [
      "0 ABB-Iterations: 1|0 Collecting into between 2020-08-01 - 2020-08-03 @ 2020-08-03 11:36:40.000841|"
     ]
    },
    {
     "name": "stderr",
     "output_type": "stream",
     "text": [
      "C:\\ProgramData\\Anaconda3\\lib\\site-packages\\ipykernel_launcher.py:11: DeprecationWarning: count is deprecated. Use Collection.count_documents instead.\n",
      "  # This is added back by InteractiveShellApp.init_path()\n"
     ]
    },
    {
     "name": "stdout",
     "output_type": "stream",
     "text": [
      "Marking as Inactive\n",
      "1 AMARAJABAT-Iterations: 1|0 Collecting into between 2020-08-01 - 2020-08-03 @ 2020-08-03 11:36:41.394780|Marking as Inactive\n",
      "2 HDFC-Iterations: 1|0 Collecting into between 2020-08-01 - 2020-08-03 @ 2020-08-03 11:36:41.621558|Marking as Inactive\n",
      "3 ANSALAPI-Iterations: 1|0 Collecting into between 2020-05-07 - 2020-08-03 @ 2020-08-03 11:36:41.936004|Marking as Inactive\n",
      "4 ASIANHOTNR-Iterations: 1|0 Collecting into between 2020-08-01 - 2020-08-03 @ 2020-08-03 11:36:42.355062|Marking as Inactive\n",
      "5 ATUL-Iterations: 1|0 Collecting into between 2020-08-01 - 2020-08-03 @ 2020-08-03 11:36:42.749920|Marking as Inactive\n",
      "6 AUTOLITIND-Iterations: 1|0 Collecting into between 2020-08-01 - 2020-08-03 @ 2020-08-03 11:36:42.985391|Marking as Inactive\n",
      "7 BAJAJHIND-Iterations: 1|0 Collecting into between 2020-08-01 - 2020-08-03 @ 2020-08-03 11:36:43.232934|Marking as Inactive\n",
      "8 BAJFINANCE-Iterations: 1|0 Collecting into between 2020-08-01 - 2020-08-03 @ 2020-08-03 11:36:43.485840|Marking as Inactive\n",
      "9 BALRAMCHIN-Iterations: 1|0 Collecting into between 2020-08-01 - 2020-08-03 @ 2020-08-03 11:36:43.908402|Marking as Inactive\n",
      "10 BANCOINDIA-Iterations: 1|0 Collecting into between 2020-08-01 - 2020-08-03 @ 2020-08-03 11:36:44.637580|Marking as Inactive\n",
      "11 CENTURYTEX-Iterations: 1|0 Collecting into between 2020-08-01 - 2020-08-03 @ 2020-08-03 11:36:44.890944|Marking as Inactive\n",
      "12 BASF-Iterations: 1|0 Collecting into between 2020-08-01 - 2020-08-03 @ 2020-08-03 11:36:45.138043|Marking as Inactive\n",
      "13 BATAINDIA-Iterations: 1|0 Collecting into between 2020-08-01 - 2020-08-03 @ 2020-08-03 11:36:45.372824|Marking as Inactive\n",
      "14 BANARISUG-Iterations: 1|0 Collecting into between 2020-08-01 - 2020-08-03 @ 2020-08-03 11:36:45.604027|Marking as Inactive\n",
      "15 BEL-Iterations: 1|0 Collecting into between 2020-08-01 - 2020-08-03 @ 2020-08-03 11:36:45.821573|Marking as Inactive\n",
      "16 BEML-Iterations: 1|0 Collecting into between 2020-08-01 - 2020-08-03 @ 2020-08-03 11:36:46.051261|Marking as Inactive\n",
      "17 BEPL-Iterations: 1|0 Collecting into between 2020-08-01 - 2020-08-03 @ 2020-08-03 11:36:46.275312|Marking as Inactive\n",
      "18 BLUESTARCO-Iterations: 1|0 Collecting into between 2020-08-01 - 2020-08-03 @ 2020-08-03 11:36:46.496944|Marking as Inactive\n",
      "19 BPL-Iterations: 1|0 Collecting into between 2020-07-02 - 2020-08-03 @ 2020-08-03 11:36:46.750076|Marking as Inactive\n",
      "20 CENTEXT-Iterations: 1|0 Collecting into between 2020-08-01 - 2020-08-03 @ 2020-08-03 11:36:46.980913|Marking as Inactive\n",
      "21 CESC-Iterations: 1|0 Collecting into between 2020-08-01 - 2020-08-03 @ 2020-08-03 11:36:47.183707|Marking as Inactive\n",
      "22 CHAMBLFERT-Iterations: 1|0 Collecting into between 2020-08-01 - 2020-08-03 @ 2020-08-03 11:36:47.430782|Marking as Inactive\n",
      "23 EXIDEIND-Iterations: 1|0 Collecting into between 2020-08-01 - 2020-08-03 @ 2020-08-03 11:36:47.658137|Marking as Inactive\n",
      "24 CIPLA-Iterations: 1|0 Collecting into between 2020-08-01 - 2020-08-03 @ 2020-08-03 11:36:47.897395|Marking as Inactive\n",
      "25 DICIND-Iterations: 1|0 Collecting into between 2020-08-01 - 2020-08-03 @ 2020-08-03 11:36:48.133552|Marking as Inactive\n",
      "26 CRISIL-Iterations: 1|0 Collecting into between 2020-08-01 - 2020-08-03 @ 2020-08-03 11:36:48.370285|Marking as Inactive\n",
      "27 DABUR-Iterations: 1|0 Collecting into between 2020-08-01 - 2020-08-03 @ 2020-08-03 11:36:48.574991|Marking as Inactive\n",
      "28 DALMIASUG-Iterations: 1|0 Collecting into between 2020-08-01 - 2020-08-03 @ 2020-08-03 11:36:49.153464|Marking as Inactive\n",
      "29 ARVIND-Iterations: 1|0 Collecting into between 2020-08-01 - 2020-08-03 @ 2020-08-03 11:36:49.536505|Marking as Inactive\n",
      "30 BALLARPUR-Iterations: 1|0 Collecting into between 2020-06-18 - 2020-08-03 @ 2020-08-03 11:36:49.766072|Marking as Inactive\n",
      "31 BHEL-Iterations: 1|0 Collecting into between 2020-08-01 - 2020-08-03 @ 2020-08-03 11:36:50.018100|Marking as Inactive\n",
      "32 HINDPETRO-Iterations: 1|0 Collecting into between 2020-08-01 - 2020-08-03 @ 2020-08-03 11:36:50.249233|Marking as Inactive\n",
      "33 IFCI-Iterations: 1|0 Collecting into between 2020-08-01 - 2020-08-03 @ 2020-08-03 11:36:50.480845|Marking as Inactive\n",
      "34 MTNL-Iterations: 1|0 Collecting into between 2020-08-01 - 2020-08-03 @ 2020-08-03 11:36:50.735875|Marking as Inactive\n",
      "35 MRPL-Iterations: 1|0 Collecting into between 2020-08-01 - 2020-08-03 @ 2020-08-03 11:36:50.974884|Marking as Inactive\n",
      "36 CHENNPETRO-Iterations: 1|0 Collecting into between 2020-08-01 - 2020-08-03 @ 2020-08-03 11:36:51.241197|Marking as Inactive\n",
      "37 RELCAPITAL-Iterations: 1|0 Collecting into between 2020-02-29 - 2020-08-03 @ 2020-08-03 11:36:51.447322|42 0|38 SAIL-Iterations: 1|0 Collecting into between 2020-08-01 - 2020-08-03 @ 2020-08-03 11:36:51.977785|Marking as Inactive\n",
      "39 TITAN-Iterations: 1|0 Collecting into between 2020-08-01 - 2020-08-03 @ 2020-08-03 11:36:52.190817|Marking as Inactive\n",
      "40 IDBI-Iterations: 1|0 Collecting into between 2020-08-01 - 2020-08-03 @ 2020-08-03 11:36:52.458677|Marking as Inactive\n",
      "41 DCW-Iterations: 1|0 Collecting into between 2020-08-01 - 2020-08-03 @ 2020-08-03 11:36:52.704688|Marking as Inactive\n",
      "42 DHAMPURSUG-Iterations: 1|0 Collecting into between 2020-08-01 - 2020-08-03 @ 2020-08-03 11:36:52.935482|Marking as Inactive\n",
      "43 DRREDDY-Iterations: 1|0 Collecting into between 2020-08-01 - 2020-08-03 @ 2020-08-03 11:36:53.173136|Marking as Inactive\n",
      "44 EIDPARRY-Iterations: 1|0 Collecting into between 2020-08-01 - 2020-08-03 @ 2020-08-03 11:36:53.404439|Marking as Inactive\n",
      "45 ELECTCAST-Iterations: 1|0 Collecting into between 2020-08-01 - 2020-08-03 @ 2020-08-03 11:36:53.625696|Marking as Inactive\n",
      "46 SBIN-Iterations: 1|0 Collecting into between 2020-08-01 - 2020-08-03 @ 2020-08-03 11:36:53.862728|Marking as Inactive\n",
      "47 ESABINDIA-Iterations: 1|0 Collecting into between 2020-08-01 - 2020-08-03 @ 2020-08-03 11:36:54.117746|Marking as Inactive\n",
      "48 UFLEX-Iterations: 1|0 Collecting into between 2020-08-01 - 2020-08-03 @ 2020-08-03 11:36:54.353859|Marking as Inactive\n",
      "49 FOSECOIND-Iterations: 1|0 Collecting into between 2020-08-01 - 2020-08-03 @ 2020-08-03 11:36:54.588225|Marking as Inactive\n",
      "50 GARDENSILK-Iterations: 1|0 Collecting into between 2020-01-02 - 2020-08-03 @ 2020-08-03 11:36:54.833616|40 0|51 GTL-Iterations: 1|0 Collecting into between 2020-02-29 - 2020-08-03 @ 2020-08-03 11:36:55.327940|36 0|52 GODREJIND-Iterations: 1|0 Collecting into between 2020-08-01 - 2020-08-03 @ 2020-08-03 11:36:55.667344|Marking as Inactive\n",
      "53 KANSAINER-Iterations: 1|0 Collecting into between 2020-07-04 - 2020-08-03 @ 2020-08-03 11:36:55.951735|20 0|54 GHCL-Iterations: 1|0 Collecting into between 2020-07-04 - 2020-08-03 @ 2020-08-03 11:36:56.245314|20 0|55 HCL-INSYS-Iterations: 1|0 Collecting into between 2020-06-18 - 2020-08-03 @ 2020-08-03 11:36:56.530328|Marking as Inactive\n",
      "56 HDFCBANK-Iterations: 1|0 Collecting into between 2020-08-01 - 2020-08-03 @ 2020-08-03 11:36:56.790765|Marking as Inactive\n",
      "57 HEROMOTOCO-Iterations: 1|0 Collecting into between 2020-08-01 - 2020-08-03 @ 2020-08-03 11:36:57.018606|Marking as Inactive\n",
      "58 HFCL-Iterations: 1|0 Collecting into between 2020-07-04 - 2020-08-03 @ 2020-08-03 11:36:57.473894|20 0|59 HSCL-Iterations: 1|0 Collecting into between 2020-08-01 - 2020-08-03 @ 2020-08-03 11:36:58.515476|Marking as Inactive\n",
      "60 HCC-Iterations: 1|0 Collecting into between 2020-08-01 - 2020-08-03 @ 2020-08-03 11:36:58.953379|Marking as Inactive\n",
      "61 HINDOILEXP-Iterations: 1|0 Collecting into between 2020-08-01 - 2020-08-03 @ 2020-08-03 11:37:00.171377|Marking as Inactive\n",
      "62 HSIL-Iterations: 1|0 Collecting into between 2020-08-01 - 2020-08-03 @ 2020-08-03 11:37:00.405393|Marking as Inactive\n",
      "63 HINDZINC-Iterations: 1|0 Collecting into between 2020-08-01 - 2020-08-03 @ 2020-08-03 11:37:00.834774|Marking as Inactive\n",
      "64 INDIAGLYCO-Iterations: 1|0 Collecting into between 2020-08-01 - 2020-08-03 @ 2020-08-03 11:37:01.062420|Marking as Inactive\n",
      "65 INDORAMA-Iterations: 1|0 Collecting into between 2020-08-01 - 2020-08-03 @ 2020-08-03 11:37:01.303952|Marking as Inactive\n",
      "66 INFY-Iterations: 1|0 Collecting into between 2020-08-01 - 2020-08-03 @ 2020-08-03 11:37:01.533218|Marking as Inactive\n"
     ]
    },
    {
     "name": "stdout",
     "output_type": "stream",
     "text": [
      "67 INGERRAND-Iterations: 1|0 Collecting into between 2020-08-01 - 2020-08-03 @ 2020-08-03 11:37:01.778188|Marking as Inactive\n",
      "68 ATFL-Iterations: 1|0 Collecting into between 2020-08-01 - 2020-08-03 @ 2020-08-03 11:37:02.024557|Marking as Inactive\n",
      "69 JISLJALEQS-Iterations: 1|0 Collecting into between 2020-02-29 - 2020-08-03 @ 2020-08-03 11:37:02.256546|33 0|70 JINDALPOLY-Iterations: 1|0 Collecting into between 2020-08-01 - 2020-08-03 @ 2020-08-03 11:37:02.691700|Marking as Inactive\n",
      "71 JSWSTEEL-Iterations: 1|0 Collecting into between 2020-08-01 - 2020-08-03 @ 2020-08-03 11:37:02.933899|Marking as Inactive\n",
      "72 KAJARIACER-Iterations: 1|0 Collecting into between 2020-08-01 - 2020-08-03 @ 2020-08-03 11:37:03.171440|Marking as Inactive\n",
      "73 KAKATCEM-Iterations: 1|0 Collecting into between 2020-08-01 - 2020-08-03 @ 2020-08-03 11:37:03.405539|Marking as Inactive\n",
      "74 KSL-Iterations: 1|0 Collecting into between 2020-08-01 - 2020-08-03 @ 2020-08-03 11:37:03.668250|Marking as Inactive\n",
      "75 WHIRLPOOL-Iterations: 1|0 Collecting into between 2020-07-31 - 2020-08-03 @ 2020-08-03 11:37:04.049234|1 0|76 KIRLOSBROS-Iterations: 1|0 Collecting into between 2020-07-31 - 2020-08-03 @ 2020-08-03 11:37:04.499981|1 0|77 KIRLOSIND-Iterations: 1|0 Collecting into between 2020-07-31 - 2020-08-03 @ 2020-08-03 11:37:05.460599|1 0|78 KOTAKBANK-Iterations: 1|0 Collecting into between 2020-07-31 - 2020-08-03 @ 2020-08-03 11:37:05.809198|1 0|79 LGBBROSLTD-Iterations: 1|0 Collecting into between 2020-07-31 - 2020-08-03 @ 2020-08-03 11:37:06.030662|1 0|80 TRENT-Iterations: 1|0 Collecting into between 2020-07-31 - 2020-08-03 @ 2020-08-03 11:37:06.486423|1 0|81 LAXMIMACH-Iterations: 1|0 Collecting into between 2020-07-31 - 2020-08-03 @ 2020-08-03 11:37:06.755491|1 0|82 LICHSGFIN-Iterations: 1|0 Collecting into between 2020-07-31 - 2020-08-03 @ 2020-08-03 11:37:07.025295|1 0|83 LUPIN-Iterations: 1|0 Collecting into between 2020-07-31 - 2020-08-03 @ 2020-08-03 11:37:07.262685|1 0|84 LYKALABS-Iterations: 1|0 Collecting into between 2020-07-02 - 2020-08-03 @ 2020-08-03 11:37:07.500366|Marking as Inactive\n",
      "85 RAMCOCEM-Iterations: 1|0 Collecting into between 2020-07-31 - 2020-08-03 @ 2020-08-03 11:37:07.746933|1 0|86 MAHSEAMLES-Iterations: 1|0 Collecting into between 2020-07-31 - 2020-08-03 @ 2020-08-03 11:37:08.050992|1 0|87 MAHSCOOTER-Iterations: 1|0 Collecting into between 2020-07-31 - 2020-08-03 @ 2020-08-03 11:37:08.314018|1 0|88 MANALIPETC-Iterations: 1|0 Collecting into between 2020-07-31 - 2020-08-03 @ 2020-08-03 11:37:08.621257|1 0|89 MIRCELECTR-Iterations: 1|0 Collecting into between 2020-06-18 - 2020-08-03 @ 2020-08-03 11:37:08.918719|Marking as Inactive\n",
      "90 CENTENKA-Iterations: 1|0 Collecting into between 2020-07-31 - 2020-08-03 @ 2020-08-03 11:37:09.146687|1 0|91 MOREPENLAB-Iterations: 1|0 Collecting into between 2020-07-31 - 2020-08-03 @ 2020-08-03 11:37:09.425311|1 0|92 MRF-Iterations: 1|0 Collecting into between 2020-07-31 - 2020-08-03 @ 2020-08-03 11:37:09.661303|1 0|93 HEIDELBERG-Iterations: 1|0 Collecting into between 2020-07-31 - 2020-08-03 @ 2020-08-03 11:37:09.889996|1 0|94 NCC-Iterations: 1|0 Collecting into between 2020-07-31 - 2020-08-03 @ 2020-08-03 11:37:10.707003|1 0|95 NAHARSPING-Iterations: 1|0 Collecting into between 2020-07-31 - 2020-08-03 @ 2020-08-03 11:37:11.095409|1 0|96 GRASIM-Iterations: 1|0 Collecting into between 2020-07-31 - 2020-08-03 @ 2020-08-03 11:37:11.349469|1 0|97 PEL-Iterations: 1|0 Collecting into between 2020-07-31 - 2020-08-03 @ 2020-08-03 11:37:11.573481|1 0|98 NIITLTD-Iterations: 1|0 Collecting into between 2020-07-31 - 2020-08-03 @ 2020-08-03 11:37:11.994593|1 0|99 ONGC-Iterations: 1|0 Collecting into between 2020-07-31 - 2020-08-03 @ 2020-08-03 11:37:12.223072|1 0|100 OILCOUNTUB-Iterations: 1|0 Collecting into between 2020-06-18 - 2020-08-03 @ 2020-08-03 11:37:12.545885|Marking as Inactive\n",
      "101 ORIENTHOT-Iterations: 1|0 Collecting into between 2020-06-18 - 2020-08-03 @ 2020-08-03 11:37:12.836099|Marking as Inactive\n",
      "102 ORIENTBANK-Iterations: 1|0 Collecting into between 2020-02-29 - 2020-08-03 @ 2020-08-03 11:37:13.099695|14 0|103 RELIANCE-Iterations: 1|0 Collecting into between 2020-07-31 - 2020-08-03 @ 2020-08-03 11:37:13.386173|1 0|104 BIRLACORPN-Iterations: 1|0 Collecting into between 2020-07-31 - 2020-08-03 @ 2020-08-03 11:37:13.650321|1 0|105 PIDILITIND-Iterations: 1|0 Collecting into between 2020-07-31 - 2020-08-03 @ 2020-08-03 11:37:13.912402|1 0|106 PRIMESECU-Iterations: 1|0 Collecting into between 2020-07-31 - 2020-08-03 @ 2020-08-03 11:37:14.200017|1 0|107 RAYMOND-Iterations: 1|0 Collecting into between 2020-07-31 - 2020-08-03 @ 2020-08-03 11:37:14.487182|1 0|108 SURYAROSNI-Iterations: 1|0 Collecting into between 2020-07-31 - 2020-08-03 @ 2020-08-03 11:37:14.752827|1 0|109 RSWM-Iterations: 1|0 Collecting into between 2020-07-31 - 2020-08-03 @ 2020-08-03 11:37:14.997998|1 0|110 RAMANEWS-Iterations: 1|0 Collecting into between 2020-07-31 - 2020-08-03 @ 2020-08-03 11:37:15.203927|1 0|111 RALLIS-Iterations: 1|0 Collecting into between 2020-07-31 - 2020-08-03 @ 2020-08-03 11:37:15.473532|1 0|112 JINDALSAW-Iterations: 1|0 Collecting into between 2020-07-31 - 2020-08-03 @ 2020-08-03 11:37:15.711517|1 0|113 JKLAKSHMI-Iterations: 1|0 Collecting into between 2020-07-31 - 2020-08-03 @ 2020-08-03 11:37:15.977688|1 0|114 SHREECEM-Iterations: 1|0 Collecting into between 2020-07-31 - 2020-08-03 @ 2020-08-03 11:37:16.216073|1 0|115 RELINFRA-Iterations: 1|0 Collecting into between 2020-07-31 - 2020-08-03 @ 2020-08-03 11:37:16.442733|1 0|116 TATAPOWER-Iterations: 1|0 Collecting into between 2020-07-31 - 2020-08-03 @ 2020-08-03 11:37:16.697738|1 0|117 SPMLINFRA-Iterations: 1|0 Collecting into between 2020-07-31 - 2020-08-03 @ 2020-08-03 11:37:16.968696|1 0|118 SUNDRMFAST-Iterations: 1|0 Collecting into between 2020-07-31 - 2020-08-03 @ 2020-08-03 11:37:22.297503|1 0|119 SUNFLAG-Iterations: 1|0 Collecting into between 2020-07-31 - 2020-08-03 @ 2020-08-03 11:37:22.556344|1 0|120 SUPPETRO-Iterations: 1|0 Collecting into between 2020-07-31 - 2020-08-03 @ 2020-08-03 11:37:22.807188|1 0|121 SWARAJENG-Iterations: 1|0 Collecting into between 2020-07-31 - 2020-08-03 @ 2020-08-03 11:37:23.046983|1 0|122 TATAELXSI-Iterations: 1|0 Collecting into between 2020-07-31 - 2020-08-03 @ 2020-08-03 11:37:23.288000|1 0|123 ACC-Iterations: 1|0 Collecting into between 2020-07-31 - 2020-08-03 @ 2020-08-03 11:37:23.509863|1 0|124 THERMAX-Iterations: 1|0 Collecting into between 2020-07-31 - 2020-08-03 @ 2020-08-03 11:37:23.767702|1 0|125 TIRUMALCHM-Iterations: 1|0 Collecting into between 2020-07-31 - 2020-08-03 @ 2020-08-03 11:37:23.999558|1 0|126 THOMASCOOK-Iterations: 1|0 Collecting into between 2020-07-31 - 2020-08-03 @ 2020-08-03 11:37:24.235411|1 0|127 TOKYOPLAST-Iterations: 1|0 Collecting into between 2020-07-31 - 2020-08-03 @ 2020-08-03 11:37:24.485257|1 0|128 TORNTPHARM-Iterations: 1|0 Collecting into between 2020-07-31 - 2020-08-03 @ 2020-08-03 11:37:24.741098|1 0|129 AMBUJACEM-Iterations: 1|0 Collecting into between 2020-07-31 - 2020-08-03 @ 2020-08-03 11:37:26.942879|1 0|130 VHL-Iterations: 1|0 Collecting into between 2020-07-31 - 2020-08-03 @ 2020-08-03 11:37:27.175906|1 0|131 HINDALCO-Iterations: 1|0 Collecting into between 2020-07-31 - 2020-08-03 @ 2020-08-03 11:37:27.566407|1 0|132 WSTCSTPAPR-Iterations: 1|0 Collecting into between 2020-07-31 - 2020-08-03 @ 2020-08-03 11:37:27.828249|1 0|133 MUKANDLTD-Iterations: 1|0 Collecting into between 2020-07-02 - 2020-08-03 @ 2020-08-03 11:37:28.059506|Marking as Inactive\n"
     ]
    },
    {
     "name": "stdout",
     "output_type": "stream",
     "text": [
      "134 UCALFUEL-Iterations: 1|0 Collecting into between 2020-07-31 - 2020-08-03 @ 2020-08-03 11:37:28.311197|1 0|135 HARRMALAYA-Iterations: 1|0 Collecting into between 2020-07-31 - 2020-08-03 @ 2020-08-03 11:37:28.564204|1 0|136 FEDERALBNK-Iterations: 1|0 Collecting into between 2020-07-31 - 2020-08-03 @ 2020-08-03 11:37:28.807236|1 0|137 TATASTEEL-Iterations: 1|0 Collecting into between 2020-07-31 - 2020-08-03 @ 2020-08-03 11:37:29.047119|1 0|138 SKFINDIA-Iterations: 1|0 Collecting into between 2020-07-04 - 2020-08-03 @ 2020-08-03 11:37:29.278892|20 0|139 ASHOKLEY-Iterations: 1|0 Collecting into between 2020-07-31 - 2020-08-03 @ 2020-08-03 11:37:29.557121|1 0|140 CUMMINSIND-Iterations: 1|0 Collecting into between 2020-07-31 - 2020-08-03 @ 2020-08-03 11:37:29.807157|1 0|141 TATACOMM-Iterations: 1|0 Collecting into between 2020-07-31 - 2020-08-03 @ 2020-08-03 11:37:30.040522|1 0|142 ABBOTINDIA-Iterations: 1|0 Collecting into between 2020-07-31 - 2020-08-03 @ 2020-08-03 11:37:30.297061|1 0|143 BAJAJHLDNG-Iterations: 1|0 Collecting into between 2020-07-31 - 2020-08-03 @ 2020-08-03 11:37:30.679012|1 0|144 BHARATFORG-Iterations: 1|0 Collecting into between 2020-07-31 - 2020-08-03 @ 2020-08-03 11:37:30.928391|1 0|145 ESCORTS-Iterations: 1|0 Collecting into between 2020-07-31 - 2020-08-03 @ 2020-08-03 11:37:31.178071|1 0|146 PGHH-Iterations: 1|0 Collecting into between 2020-07-31 - 2020-08-03 @ 2020-08-03 11:37:31.434168|1 0|147 LT-Iterations: 1|0 Collecting into between 2020-07-31 - 2020-08-03 @ 2020-08-03 11:37:31.686366|1 0|148 M&M-Iterations: 1|0 Collecting into between 2020-07-31 - 2020-08-03 @ 2020-08-03 11:37:31.935376|1 0|149 BOSCHLTD-Iterations: 1|0 Collecting into between 2020-07-31 - 2020-08-03 @ 2020-08-03 11:37:32.177402|1 0|150 BPCL-Iterations: 1|0 Collecting into between 2020-07-31 - 2020-08-03 @ 2020-08-03 11:37:32.582519|1 0|151 SIEMENS-Iterations: 1|0 Collecting into between 2020-07-31 - 2020-08-03 @ 2020-08-03 11:37:32.821366|1 0|152 TATAMOTORS-Iterations: 1|0 Collecting into between 2020-07-31 - 2020-08-03 @ 2020-08-03 11:37:33.035280|1 0|153 VOLTAS-Iterations: 1|0 Collecting into between 2020-07-31 - 2020-08-03 @ 2020-08-03 11:37:33.250380|1 0|154 GESHIP-Iterations: 1|0 Collecting into between 2020-07-31 - 2020-08-03 @ 2020-08-03 11:37:33.500029|1 0|155 DEEPAKFERT-Iterations: 1|0 Collecting into between 2020-07-31 - 2020-08-03 @ 2020-08-03 11:37:33.743765|1 0|156 EXCELINDUS-Iterations: 1|0 Collecting into between 2020-07-31 - 2020-08-03 @ 2020-08-03 11:37:33.963648|1 0|157 GLAXO-Iterations: 1|0 Collecting into between 2020-07-31 - 2020-08-03 @ 2020-08-03 11:37:34.198991|1 0|158 GNFC-Iterations: 1|0 Collecting into between 2020-07-31 - 2020-08-03 @ 2020-08-03 11:37:34.428617|1 0|159 SANOFI-Iterations: 1|0 Collecting into between 2020-07-31 - 2020-08-03 @ 2020-08-03 11:37:34.657114|1 0|160 GSKCONS-Iterations: 1|0 Collecting into between 2020-02-29 - 2020-08-03 @ 2020-08-03 11:37:35.085348|28 0|161 PFIZER-Iterations: 1|0 Collecting into between 2020-07-31 - 2020-08-03 @ 2020-08-03 11:37:35.446220|1 0|162 GSFC-Iterations: 1|0 Collecting into between 2020-07-31 - 2020-08-03 @ 2020-08-03 11:37:35.689116|1 0|163 HINDUNILVR-Iterations: 1|0 Collecting into between 2020-07-31 - 2020-08-03 @ 2020-08-03 11:37:35.930121|1 0|164 AKZOINDIA-Iterations: 1|0 Collecting into between 2020-07-31 - 2020-08-03 @ 2020-08-03 11:37:36.166453|1 0|165 NOCIL-Iterations: 1|0 Collecting into between 2020-07-31 - 2020-08-03 @ 2020-08-03 11:37:36.556228|1 0|166 SPIC-Iterations: 1|0 Collecting into between 2020-07-31 - 2020-08-03 @ 2020-08-03 11:37:36.792895|1 0|167 TATACHEM-Iterations: 1|0 Collecting into between 2020-07-31 - 2020-08-03 @ 2020-08-03 11:37:37.058082|1 0|168 TNPETRO-Iterations: 1|0 Collecting into between 2020-07-31 - 2020-08-03 @ 2020-08-03 11:37:37.311082|1 0|169 ZUARIGLOB-Iterations: 1|0 Collecting into between 2020-07-31 - 2020-08-03 @ 2020-08-03 11:37:37.557272|1 0|170 NESTLEIND-Iterations: 1|0 Collecting into between 2020-07-31 - 2020-08-03 @ 2020-08-03 11:37:37.987108|1 0|171 ASIANPAINT-Iterations: 1|0 Collecting into between 2020-07-31 - 2020-08-03 @ 2020-08-03 11:37:38.369977|1 0|172 BRITANNIA-Iterations: 1|0 Collecting into between 2020-07-31 - 2020-08-03 @ 2020-08-03 11:37:38.618249|1 0|173 COLPAL-Iterations: 1|0 Collecting into between 2020-07-31 - 2020-08-03 @ 2020-08-03 11:37:38.853398|1 0|174 EIHOTEL-Iterations: 1|0 Collecting into between 2020-07-31 - 2020-08-03 @ 2020-08-03 11:37:39.067021|1 0|175 INDHOTEL-Iterations: 1|0 Collecting into between 2020-07-31 - 2020-08-03 @ 2020-08-03 11:37:39.298100|1 0|176 CASTROLIND-Iterations: 1|0 Collecting into between 2020-07-31 - 2020-08-03 @ 2020-08-03 11:37:40.280505|1 0|177 ITC-Iterations: 1|0 Collecting into between 2020-07-31 - 2020-08-03 @ 2020-08-03 11:37:40.688323|1 0|178 APOLLOTYRE-Iterations: 1|0 Collecting into between 2020-07-31 - 2020-08-03 @ 2020-08-03 11:37:40.911064|1 0|179 CEATLTD-Iterations: 1|0 Collecting into between 2020-07-31 - 2020-08-03 @ 2020-08-03 11:37:41.173094|1 0|180 TCIFINANCE-Iterations: 1|0 Collecting into between 2020-07-02 - 2020-08-03 @ 2020-08-03 11:37:41.419093|Marking as Inactive\n",
      "181 TATAINVEST-Iterations: 1|0 Collecting into between 2020-07-31 - 2020-08-03 @ 2020-08-03 11:37:41.815043|1 0|182 BBTC-Iterations: 1|0 Collecting into between 2020-07-18 - 2020-08-03 @ 2020-08-03 11:37:42.031042|Marking as Inactive\n"
     ]
    },
    {
     "name": "stdout",
     "output_type": "stream",
     "text": [
      "183 GREAVESCOT-Iterations: 1|0 Collecting into between 2020-07-31 - 2020-08-03 @ 2020-08-03 11:37:42.273426|1 0|184 SAGCEM-Iterations: 1|0 Collecting into between 2020-07-31 - 2020-08-03 @ 2020-08-03 11:37:42.516429|1 0|185 DECCANCE-Iterations: 1|0 Collecting into between 2020-07-31 - 2020-08-03 @ 2020-08-03 11:37:43.130016|1 0|186 MANGLMCEM-Iterations: 1|0 Collecting into between 2020-07-31 - 2020-08-03 @ 2020-08-03 11:37:43.370094|1 0|187 NCLIND-Iterations: 1|0 Collecting into between 2020-07-31 - 2020-08-03 @ 2020-08-03 11:37:43.596542|1 0|188 BALKRISIND-Iterations: 1|0 Collecting into between 2020-07-31 - 2020-08-03 @ 2020-08-03 11:37:43.855554|1 0|189 ORIENTPPR-Iterations: 1|0 Collecting into between 2020-07-31 - 2020-08-03 @ 2020-08-03 11:37:44.093934|1 0|190 SESHAPAPER-Iterations: 1|0 Collecting into between 2020-07-31 - 2020-08-03 @ 2020-08-03 11:37:44.349142|1 0|191 SINTEX-Iterations: 1|0 Collecting into between 2019-12-10 - 2020-08-03 @ 2020-08-03 11:37:44.571013|59 0|192 DCM-Iterations: 1|0 Collecting into between 2020-07-31 - 2020-08-03 @ 2020-08-03 11:37:45.161364|1 0|193 KESORAMIND-Iterations: 1|0 Collecting into between 2020-07-31 - 2020-08-03 @ 2020-08-03 11:37:45.403992|1 0|194 VTL-Iterations: 1|0 Collecting into between 2020-07-31 - 2020-08-03 @ 2020-08-03 11:37:45.664746|1 0|195 PENINLAND-Iterations: 1|0 Collecting into between 2020-07-31 - 2020-08-03 @ 2020-08-03 11:37:45.900922|1 0|196 PHOENIXLTD-Iterations: 1|0 Collecting into between 2020-07-31 - 2020-08-03 @ 2020-08-03 11:37:46.158939|1 0|197 RUBYMILLS-Iterations: 1|0 Collecting into between 2020-07-31 - 2020-08-03 @ 2020-08-03 11:37:46.393967|1 0|198 SWANENERGY-Iterations: 1|0 Collecting into between 2020-07-31 - 2020-08-03 @ 2020-08-03 11:37:46.613423|1 0|199 BANSWRAS-Iterations: 1|0 Collecting into between 2020-07-31 - 2020-08-03 @ 2020-08-03 11:37:46.980587|1 0|200 SRF-Iterations: 1|0 Collecting into between 2020-07-31 - 2020-08-03 @ 2020-08-03 11:37:47.244219|1 0|201 SIYSIL-Iterations: 1|0 Collecting into between 2020-07-31 - 2020-08-03 @ 2020-08-03 11:37:47.467318|1 0|202 BBL-Iterations: 1|0 Collecting into between 2020-07-31 - 2020-08-03 @ 2020-08-03 11:37:47.704255|1 0|203 HIRECT-Iterations: 1|0 Collecting into between 2020-07-31 - 2020-08-03 @ 2020-08-03 11:37:47.958886|1 0|204 NIPPOBATRY-Iterations: 1|0 Collecting into between 2020-07-31 - 2020-08-03 @ 2020-08-03 11:37:48.181635|1 0|205 ZENSARTECH-Iterations: 1|0 Collecting into between 2020-07-31 - 2020-08-03 @ 2020-08-03 11:37:48.413222|1 0|206 SARDAEN-Iterations: 1|0 Collecting into between 2020-07-31 - 2020-08-03 @ 2020-08-03 11:37:48.843554|1 0|207 INDIANHUME-Iterations: 1|0 Collecting into between 2020-07-31 - 2020-08-03 @ 2020-08-03 11:37:49.304805|1 0|208 ORIENTABRA-Iterations: 1|0 Collecting into between 2020-07-31 - 2020-08-03 @ 2020-08-03 11:37:49.549628|1 0|209 TINPLATE-Iterations: 1|0 Collecting into between 2020-07-31 - 2020-08-03 @ 2020-08-03 11:37:49.790624|1 0|210 AUTOAXLES-Iterations: 1|0 Collecting into between 2020-07-31 - 2020-08-03 @ 2020-08-03 11:37:50.050702|1 0|211 TALBROAUTO-Iterations: 1|0 Collecting into between 2020-07-31 - 2020-08-03 @ 2020-08-03 11:37:50.275155|1 0|212 SMLISUZU-Iterations: 1|0 Collecting into between 2020-07-31 - 2020-08-03 @ 2020-08-03 11:37:50.494015|1 0|213 TIL-Iterations: 1|0 Collecting into between 2020-07-31 - 2020-08-03 @ 2020-08-03 11:37:50.886126|1 0|214 DYNAMATECH-Iterations: 1|0 Collecting into between 2020-07-31 - 2020-08-03 @ 2020-08-03 11:37:51.138812|1 0|215 EICHERMOT-Iterations: 1|0 Collecting into between 2020-07-31 - 2020-08-03 @ 2020-08-03 11:37:51.364838|1 0|216 NESCO-Iterations: 1|0 Collecting into between 2020-07-31 - 2020-08-03 @ 2020-08-03 11:37:51.633558|1 0|217 MANUGRAPH-Iterations: 1|0 Collecting into between 2020-06-18 - 2020-08-03 @ 2020-08-03 11:37:51.885252|Marking as Inactive\n",
      "218 REVATHI-Iterations: 1|0 Collecting into between 2020-07-31 - 2020-08-03 @ 2020-08-03 11:37:52.186875|1 0|219 TEXINFRA-Iterations: 1|0 Collecting into between 2020-07-31 - 2020-08-03 @ 2020-08-03 11:37:52.504779|1 0|220 WENDT-Iterations: 1|0 Collecting into between 2020-07-31 - 2020-08-03 @ 2020-08-03 11:37:52.894428|1 0|221 RESPONIND-Iterations: 1|0 Collecting into between 2020-07-31 - 2020-08-03 @ 2020-08-03 11:37:53.635355|1 0|222 ZEEL-Iterations: 1|0 Collecting into between 2020-07-31 - 2020-08-03 @ 2020-08-03 11:37:54.023283|1 0|223 BHARATGEAR-Iterations: 1|0 Collecting into between 2020-07-31 - 2020-08-03 @ 2020-08-03 11:37:54.266252|1 0|224 ELECON-Iterations: 1|0 Collecting into between 2020-07-31 - 2020-08-03 @ 2020-08-03 11:37:54.509101|1 0|225 GABRIEL-Iterations: 1|0 Collecting into between 2020-07-31 - 2020-08-03 @ 2020-08-03 11:37:54.737958|1 0|226 HERCULES-Iterations: 1|0 Collecting into between 2020-07-31 - 2020-08-03 @ 2020-08-03 11:37:54.987988|1 0|227 IFBIND-Iterations: 1|0 Collecting into between 2020-07-31 - 2020-08-03 @ 2020-08-03 11:37:55.234603|1 0|228 FMGOETZE-Iterations: 1|0 Collecting into between 2020-07-31 - 2020-08-03 @ 2020-08-03 11:37:55.466893|1 0|229 RANEHOLDIN-Iterations: 1|0 Collecting into between 2020-07-31 - 2020-08-03 @ 2020-08-03 11:37:55.705580|1 0|230 TRF-Iterations: 1|0 Collecting into between 2020-07-31 - 2020-08-03 @ 2020-08-03 11:37:55.950674|1 0|231 PRAKASH-Iterations: 1|0 Collecting into between 2020-07-31 - 2020-08-03 @ 2020-08-03 11:37:56.381379|1 0|232 GRINDWELL-Iterations: 1|0 Collecting into between 2020-07-31 - 2020-08-03 @ 2020-08-03 11:37:56.664899|1 0|233 GENESYS-Iterations: 1|0 Collecting into between 2020-07-31 - 2020-08-03 @ 2020-08-03 11:37:56.976305|1 0|234 VIVIDHA-Iterations: 1|0 Collecting into between 2020-06-24 - 2020-08-03 @ 2020-08-03 11:37:57.313488|Marking as Inactive\n"
     ]
    },
    {
     "name": "stdout",
     "output_type": "stream",
     "text": [
      "235 BLISSGVS-Iterations: 1|0 Collecting into between 2020-07-31 - 2020-08-03 @ 2020-08-03 11:37:57.755277|1 0|236 ALEMBICLTD-Iterations: 1|0 Collecting into between 2020-07-31 - 2020-08-03 @ 2020-08-03 11:37:58.158370|1 0|237 BAYERCROP-Iterations: 1|0 Collecting into between 2020-07-31 - 2020-08-03 @ 2020-08-03 11:37:58.423534|1 0|238 COROMANDEL-Iterations: 1|0 Collecting into between 2020-07-31 - 2020-08-03 @ 2020-08-03 11:37:59.242163|1 0|239 KANORICHEM-Iterations: 1|0 Collecting into between 2020-07-31 - 2020-08-03 @ 2020-08-03 11:37:59.725329|1 0|240 PHILIPCARB-Iterations: 1|0 Collecting into between 2020-07-31 - 2020-08-03 @ 2020-08-03 11:37:59.970177|1 0|241 PUNJABCHEM-Iterations: 1|0 Collecting into between 2020-07-31 - 2020-08-03 @ 2020-08-03 11:38:00.574175|1 0|242 SUDARSCHEM-Iterations: 1|0 Collecting into between 2020-07-31 - 2020-08-03 @ 2020-08-03 11:38:00.833769|1 0|243 UNICHEMLAB-Iterations: 1|0 Collecting into between 2020-07-31 - 2020-08-03 @ 2020-08-03 11:38:01.074599|1 0|244 ALKYLAMINE-Iterations: 1|0 Collecting into between 2020-07-31 - 2020-08-03 @ 2020-08-03 11:38:01.332888|1 0|245 ASTRAZEN-Iterations: 1|0 Collecting into between 2020-07-31 - 2020-08-03 @ 2020-08-03 11:38:01.564904|1 0|246 JBCHEPHARM-Iterations: 1|0 Collecting into between 2020-07-31 - 2020-08-03 @ 2020-08-03 11:38:01.887055|1 0|247 TI-Iterations: 1|0 Collecting into between 2020-07-31 - 2020-08-03 @ 2020-08-03 11:38:02.173168|1 0|248 WALCHANNAG-Iterations: 1|0 Collecting into between 2020-07-31 - 2020-08-03 @ 2020-08-03 11:38:02.640904|1 0|249 GMBREW-Iterations: 1|0 Collecting into between 2020-07-31 - 2020-08-03 @ 2020-08-03 11:38:02.906734|1 0|250 IVP-Iterations: 1|0 Collecting into between 2020-02-29 - 2020-08-03 @ 2020-08-03 11:38:03.154371|65 0|251 WIPRO-Iterations: 1|0 Collecting into between 2020-07-31 - 2020-08-03 @ 2020-08-03 11:38:03.664398|1 0|252 DHANUKA-Iterations: 1|0 Collecting into between 2020-07-31 - 2020-08-03 @ 2020-08-03 11:38:04.110249|1 0|253 JAGSNPHARM-Iterations: 1|0 Collecting into between 2020-07-31 - 2020-08-03 @ 2020-08-03 11:38:04.497887|1 0|254 GILLETTE-Iterations: 1|0 Collecting into between 2020-07-31 - 2020-08-03 @ 2020-08-03 11:38:04.755929|1 0|255 VIPIND-Iterations: 1|0 Collecting into between 2020-07-31 - 2020-08-03 @ 2020-08-03 11:38:05.017143|1 0|256 COSMOFILMS-Iterations: 1|0 Collecting into between 2020-07-31 - 2020-08-03 @ 2020-08-03 11:38:05.242423|1 0|257 APOLLOHOSP-Iterations: 1|0 Collecting into between 2020-07-31 - 2020-08-03 @ 2020-08-03 11:38:05.844017|1 0|258 EVERESTIND-Iterations: 1|0 Collecting into between 2020-07-31 - 2020-08-03 @ 2020-08-03 11:38:06.061234|1 0|259 NAVNETEDUL-Iterations: 1|0 Collecting into between 2020-07-31 - 2020-08-03 @ 2020-08-03 11:38:06.368202|1 0|260 VISAKAIND-Iterations: 1|0 Collecting into between 2020-02-29 - 2020-08-03 @ 2020-08-03 11:38:06.771035|103 0|261 PRESSMN-Iterations: 1|0 Collecting into between 2020-02-29 - 2020-08-03 @ 2020-08-03 11:38:07.458616|103 0|262 GUFICBIO-Iterations: 1|0 Collecting into between 2020-07-31 - 2020-08-03 @ 2020-08-03 11:38:08.129071|1 0|263 PTL-Iterations: 1|0 Collecting into between 2020-07-31 - 2020-08-03 @ 2020-08-03 11:38:08.386354|1 0|264 TVSSRICHAK-Iterations: 1|0 Collecting into between 2020-02-29 - 2020-08-03 @ 2020-08-03 11:38:08.664721|103 0|265 BERGEPAINT-Iterations: 1|0 Collecting into between 2020-07-31 - 2020-08-03 @ 2020-08-03 11:38:09.256561|1 0|266 GRAPHITE-Iterations: 1|0 Collecting into between 2020-07-31 - 2020-08-03 @ 2020-08-03 11:38:09.516764|1 0|267 ITDCEM-Iterations: 1|0 Collecting into between 2020-07-31 - 2020-08-03 @ 2020-08-03 11:38:09.777585|1 0|268 HEG-Iterations: 1|0 Collecting into between 2020-07-31 - 2020-08-03 @ 2020-08-03 11:38:10.027610|1 0|269 HINDCOMPOS-Iterations: 1|0 Collecting into between 2020-07-31 - 2020-08-03 @ 2020-08-03 11:38:10.280838|1 0|270 HIL-Iterations: 1|0 Collecting into between 2020-07-31 - 2020-08-03 @ 2020-08-03 11:38:10.527860|1 0|271 PAPERPROD-Iterations: 1|0 Collecting into between 2020-07-31 - 2020-08-03 @ 2020-08-03 11:38:10.918786|1 0|272 SHALPAINTS-Iterations: 1|0 Collecting into between 2020-07-31 - 2020-08-03 @ 2020-08-03 11:38:11.176735|1 0|273 SUPREMEIND-Iterations: 1|0 Collecting into between 2020-07-31 - 2020-08-03 @ 2020-08-03 11:38:11.473141|1 0|274 VSTIND-Iterations: 1|0 Collecting into between 2020-02-29 - 2020-08-03 @ 2020-08-03 11:38:11.741104|103 0|275 JINDRILL-Iterations: 1|0 Collecting into between 2020-06-18 - 2020-08-03 @ 2020-08-03 11:38:12.337460|Marking as Inactive\n",
      "276 DHFL-Iterations: 1|0 Collecting into between 2020-07-31 - 2020-08-03 @ 2020-08-03 11:38:12.565754|1 0|277 CANFINHOME-Iterations: 1|0 Collecting into between 2020-02-29 - 2020-08-03 @ 2020-08-03 11:38:13.003190|103 0|278 IVC-Iterations: 1|0 Collecting into between 2020-06-18 - 2020-08-03 @ 2020-08-03 11:38:13.642649|Marking as Inactive\n",
      "279 CHOLAFIN-Iterations: 1|0 Collecting into between 2020-07-31 - 2020-08-03 @ 2020-08-03 11:38:13.876850|1 0|280 VLSFINANCE-Iterations: 1|0 Collecting into between 2020-07-31 - 2020-08-03 @ 2020-08-03 11:38:15.227822|1 0|281 VAKRANGEE-Iterations: 1|0 Collecting into between 2020-07-31 - 2020-08-03 @ 2020-08-03 11:38:15.459814|1 0|282 INDBANK-Iterations: 1|0 Collecting into between 2020-07-31 - 2020-08-03 @ 2020-08-03 11:38:15.824240|1 0|283 GICHSGFIN-Iterations: 1|0 Collecting into between 2020-07-31 - 2020-08-03 @ 2020-08-03 11:38:16.067597|1 0|284 UPL-Iterations: 1|0 Collecting into between 2020-07-31 - 2020-08-03 @ 2020-08-03 11:38:16.320939|1 0|285 SUNTECK-Iterations: 1|0 Collecting into between 2020-07-31 - 2020-08-03 @ 2020-08-03 11:38:16.692095|1 0|286 JAICORPLTD-Iterations: 1|0 Collecting into between 2020-07-31 - 2020-08-03 @ 2020-08-03 11:38:17.138871|1 0|287 DONEAR-Iterations: 1|0 Collecting into between 2020-07-31 - 2020-08-03 @ 2020-08-03 11:38:17.390863|1 0|288 ADANIENT-Iterations: 1|0 Collecting into between 2020-07-31 - 2020-08-03 @ 2020-08-03 11:38:17.653959|1 0|289 ORBTEXP-Iterations: 1|0 Collecting into between 2020-07-31 - 2020-08-03 @ 2020-08-03 11:38:17.931066|1 0|290 NBVENTURES-Iterations: 1|0 Collecting into between 2020-07-31 - 2020-08-03 @ 2020-08-03 11:38:18.308384|1 0|291 GANDHITUBE-Iterations: 1|0 Collecting into between 2020-07-31 - 2020-08-03 @ 2020-08-03 11:38:18.553525|1 0|292 SSWL-Iterations: 1|0 Collecting into between 2020-07-31 - 2020-08-03 @ 2020-08-03 11:38:18.799991|1 0|293 MANINDS-Iterations: 1|0 Collecting into between 2020-07-31 - 2020-08-03 @ 2020-08-03 11:38:19.054514|1 0|294 AJMERA-Iterations: 1|0 Collecting into between 2020-07-31 - 2020-08-03 @ 2020-08-03 11:38:19.306450|1 0|295 CARBORUNIV-Iterations: 1|0 Collecting into between 2020-07-31 - 2020-08-03 @ 2020-08-03 11:38:19.676752|1 0|296 MMTC-Iterations: 1|0 Collecting into between 2020-07-31 - 2020-08-03 @ 2020-08-03 11:38:19.944454|1 0|297 TATAMETALI-Iterations: 1|0 Collecting into between 2020-07-31 - 2020-08-03 @ 2020-08-03 11:38:20.345650|1 0|298 SRIPIPES-Iterations: 1|0 Collecting into between 2020-07-31 - 2020-08-03 @ 2020-08-03 11:38:20.588696|1 0|299 HINDCOPPER-Iterations: 1|0 Collecting into between 2020-07-31 - 2020-08-03 @ 2020-08-03 11:38:20.968301|1 0|300 AROGRANITE-Iterations: 1|0 Collecting into between 2020-07-31 - 2020-08-03 @ 2020-08-03 11:38:21.343615|1 0|301 HIMATSEIDE-Iterations: 1|0 Collecting into between 2020-07-31 - 2020-08-03 @ 2020-08-03 11:38:21.551135|1 0|302 BSL-Iterations: 1|0 Collecting into between 2020-07-31 - 2020-08-03 @ 2020-08-03 11:38:21.798753|1 0|303 TTL-Iterations: 1|0 Collecting into between 2020-07-31 - 2020-08-03 @ 2020-08-03 11:38:22.042933|1 0|304 WELSPUNIND-Iterations: 1|0 Collecting into between 2020-07-31 - 2020-08-03 @ 2020-08-03 11:38:22.275834|1 0|305 SANGAMIND-Iterations: 1|0 Collecting into between 2020-07-31 - 2020-08-03 @ 2020-08-03 11:38:26.373164|1 0|306 AARVEEDEN-Iterations: 1|0 Collecting into between 2020-06-18 - 2020-08-03 @ 2020-08-03 11:38:26.617010|Marking as Inactive\n",
      "307 ASHIMASYN-Iterations: 1|0 Collecting into between 2020-07-02 - 2020-08-03 @ 2020-08-03 11:38:26.849865|Marking as Inactive\n"
     ]
    },
    {
     "name": "stdout",
     "output_type": "stream",
     "text": [
      "308 PIONEEREMB-Iterations: 1|0 Collecting into between 2020-07-31 - 2020-08-03 @ 2020-08-03 11:38:27.792283|1 0|309 PATSPINLTD-Iterations: 1|0 Collecting into between 2020-06-18 - 2020-08-03 @ 2020-08-03 11:38:28.335945|Marking as Inactive\n",
      "310 ANANTRAJ-Iterations: 1|0 Collecting into between 2020-07-31 - 2020-08-03 @ 2020-08-03 11:38:28.547814|1 0|311 MADHAV-Iterations: 1|0 Collecting into between 2020-07-31 - 2020-08-03 @ 2020-08-03 11:38:28.796660|1 0|312 SHREYANIND-Iterations: 1|0 Collecting into between 2020-07-31 - 2020-08-03 @ 2020-08-03 11:38:29.019152|1 0|313 STARPAPER-Iterations: 1|0 Collecting into between 2020-07-31 - 2020-08-03 @ 2020-08-03 11:38:29.538896|1 0|314 VINDHYATEL-Iterations: 1|0 Collecting into between 2020-07-31 - 2020-08-03 @ 2020-08-03 11:38:29.769753|1 0|315 ADORWELD-Iterations: 1|0 Collecting into between 2020-07-31 - 2020-08-03 @ 2020-08-03 11:38:30.007606|1 0|316 USHAMART-Iterations: 1|0 Collecting into between 2020-07-31 - 2020-08-03 @ 2020-08-03 11:38:30.276439|1 0|317 SUBROS-Iterations: 1|0 Collecting into between 2020-07-31 - 2020-08-03 @ 2020-08-03 11:38:30.505298|1 0|318 HONAUT-Iterations: 1|0 Collecting into between 2020-07-31 - 2020-08-03 @ 2020-08-03 11:38:30.740152|1 0|319 LUMAXIND-Iterations: 1|0 Collecting into between 2020-07-31 - 2020-08-03 @ 2020-08-03 11:38:30.969009|1 0|320 HBLPOWER-Iterations: 1|0 Collecting into between 2020-07-31 - 2020-08-03 @ 2020-08-03 11:38:31.189873|1 0|321 GIPCL-Iterations: 1|0 Collecting into between 2020-07-31 - 2020-08-03 @ 2020-08-03 11:38:31.433812|1 0|322 MOTHERSUMI-Iterations: 1|0 Collecting into between 2020-07-31 - 2020-08-03 @ 2020-08-03 11:38:31.695506|1 0|323 HAVELLS-Iterations: 1|0 Collecting into between 2020-07-31 - 2020-08-03 @ 2020-08-03 11:38:31.929526|1 0|324 IGARASHI-Iterations: 1|0 Collecting into between 2020-07-31 - 2020-08-03 @ 2020-08-03 11:38:32.183944|1 0|325 SYMPHONY-Iterations: 1|0 Collecting into between 2020-07-31 - 2020-08-03 @ 2020-08-03 11:38:32.431584|1 0|326 RSSOFTWARE-Iterations: 1|0 Collecting into between 2020-07-31 - 2020-08-03 @ 2020-08-03 11:38:32.789928|1 0|327 WEBELSOLAR-Iterations: 1|0 Collecting into between 2020-02-29 - 2020-08-03 @ 2020-08-03 11:38:33.039747|59 0|328 TTKPRESTIG-Iterations: 1|0 Collecting into between 2020-07-31 - 2020-08-03 @ 2020-08-03 11:38:33.490135|1 0|329 SURANAT&P-Iterations: 1|0 Collecting into between 2020-07-31 - 2020-08-03 @ 2020-08-03 11:38:33.746107|1 0|330 ONWARDTEC-Iterations: 1|0 Collecting into between 2020-07-31 - 2020-08-03 @ 2020-08-03 11:38:34.157614|1 0|331 CENTUM-Iterations: 1|0 Collecting into between 2020-07-31 - 2020-08-03 @ 2020-08-03 11:38:34.396630|1 0|332 KEI-Iterations: 1|0 Collecting into between 2020-07-31 - 2020-08-03 @ 2020-08-03 11:38:34.660060|1 0|333 GSCLCEMENT-Iterations: 1|0 Collecting into between 2020-07-31 - 2020-08-03 @ 2020-08-03 11:38:34.890495|1 0|334 AVTNPL-Iterations: 1|0 Collecting into between 2020-07-31 - 2020-08-03 @ 2020-08-03 11:38:35.327504|1 0|335 NAHARINDUS-Iterations: 1|0 Collecting into between 2020-07-31 - 2020-08-03 @ 2020-08-03 11:38:35.623637|1 0|336 VADILALIND-Iterations: 1|0 Collecting into between 2020-07-31 - 2020-08-03 @ 2020-08-03 11:38:35.887965|1 0|337 ADFFOODS-Iterations: 1|0 Collecting into between 2020-07-31 - 2020-08-03 @ 2020-08-03 11:38:36.313178|1 0|338 SANWARIA-Iterations: 1|0 Collecting into between 2020-02-29 - 2020-08-03 @ 2020-08-03 11:38:36.860574|33 0|339 HERITGFOOD-Iterations: 1|0 Collecting into between 2020-07-31 - 2020-08-03 @ 2020-08-03 11:38:37.212646|1 0|340 CCL-Iterations: 1|0 Collecting into between 2020-07-31 - 2020-08-03 @ 2020-08-03 11:38:37.577237|1 0|341 RICOAUTO-Iterations: 1|0 Collecting into between 2020-07-31 - 2020-08-03 @ 2020-08-03 11:38:37.821205|1 0|342 MUNJALSHOW-Iterations: 1|0 Collecting into between 2020-07-31 - 2020-08-03 @ 2020-08-03 11:38:38.065328|1 0|343 JAMNAAUTO-Iterations: 1|0 Collecting into between 2020-07-31 - 2020-08-03 @ 2020-08-03 11:38:38.318064|1 0|344 SUNCLAYLTD-Iterations: 1|0 Collecting into between 2020-07-31 - 2020-08-03 @ 2020-08-03 11:38:38.783375|1 0|345 MUNJALAU-Iterations: 1|0 Collecting into between 2020-07-31 - 2020-08-03 @ 2020-08-03 11:38:39.170163|1 0|346 JAYBARMARU-Iterations: 1|0 Collecting into between 2020-07-31 - 2020-08-03 @ 2020-08-03 11:38:39.430332|1 0|347 SICAL-Iterations: 1|0 Collecting into between 2020-07-31 - 2020-08-03 @ 2020-08-03 11:38:39.666551|1 0|348 RATNAMANI-Iterations: 1|0 Collecting into between 2020-07-31 - 2020-08-03 @ 2020-08-03 11:38:40.109003|1 0|349 VESUVIUS-Iterations: 1|0 Collecting into between 2020-07-31 - 2020-08-03 @ 2020-08-03 11:38:40.361216|1 0|350 ASAL-Iterations: 1|0 Collecting into between 2020-06-18 - 2020-08-03 @ 2020-08-03 11:38:41.092158|Marking as Inactive\n",
      "351 MARALOVER-Iterations: 1|0 Collecting into between 2020-07-31 - 2020-08-03 @ 2020-08-03 11:38:41.336429|1 0|352 TRIDENT-Iterations: 1|0 Collecting into between 2020-07-31 - 2020-08-03 @ 2020-08-03 11:38:41.572383|1 0|353 NAGREEKEXP-Iterations: 1|0 Collecting into between 2020-07-31 - 2020-08-03 @ 2020-08-03 11:38:41.962524|1 0|354 ZODIACLOTH-Iterations: 1|0 Collecting into between 2020-07-31 - 2020-08-03 @ 2020-08-03 11:38:42.182333|1 0|355 SUPERSPIN-Iterations: 1|0 Collecting into between 2020-06-18 - 2020-08-03 @ 2020-08-03 11:38:42.455658|Marking as Inactive\n",
      "356 SURYALAXMI-Iterations: 1|0 Collecting into between 2020-02-29 - 2020-08-03 @ 2020-08-03 11:38:42.656304|42 0|357 KITEX-Iterations: 1|0 Collecting into between 2020-07-31 - 2020-08-03 @ 2020-08-03 11:38:43.093390|1 0|358 WINDMACHIN-Iterations: 1|0 Collecting into between 2020-02-29 - 2020-08-03 @ 2020-08-03 11:38:43.496717|74 0|359 SHANTIGEAR-Iterations: 1|0 Collecting into between 2020-07-31 - 2020-08-03 @ 2020-08-03 11:38:44.188526|1 0|360 HONDAPOWER-Iterations: 1|0 Collecting into between 2020-07-31 - 2020-08-03 @ 2020-08-03 11:38:44.414388|1 0|361 HITECHGEAR-Iterations: 1|0 Collecting into between 2020-07-31 - 2020-08-03 @ 2020-08-03 11:38:44.658210|1 0|362 ELGIEQUIP-Iterations: 1|0 Collecting into between 2020-07-31 - 2020-08-03 @ 2020-08-03 11:38:44.894274|1 0|363 TIMKEN-Iterations: 1|0 Collecting into between 2020-07-31 - 2020-08-03 @ 2020-08-03 11:38:45.460185|1 0|364 PRAJIND-Iterations: 1|0 Collecting into between 2020-07-31 - 2020-08-03 @ 2020-08-03 11:38:45.699457|1 0|365 GUJAPOLLO-Iterations: 1|0 Collecting into between 2020-07-31 - 2020-08-03 @ 2020-08-03 11:38:45.947628|1 0|366 MMFL-Iterations: 1|0 Collecting into between 2020-07-31 - 2020-08-03 @ 2020-08-03 11:38:46.171713|1 0|367 MAYURUNIQ-Iterations: 1|0 Collecting into between 2020-07-31 - 2020-08-03 @ 2020-08-03 11:38:46.466985|1 0|368 JMCPROJECT-Iterations: 1|0 Collecting into between 2020-07-31 - 2020-08-03 @ 2020-08-03 11:38:47.165835|1 0|369 KALPATPOWR-Iterations: 1|0 Collecting into between 2020-07-31 - 2020-08-03 @ 2020-08-03 11:38:47.400423|1 0|370 WEIZMANIND-Iterations: 1|0 Collecting into between 2020-07-31 - 2020-08-03 @ 2020-08-03 11:38:47.656896|1 0|371 EIHAHOTELS-Iterations: 1|0 Collecting into between 2020-07-31 - 2020-08-03 @ 2020-08-03 11:38:48.122109|1 0|372 KOKUYOCMLN-Iterations: 1|0 Collecting into between 2020-07-31 - 2020-08-03 @ 2020-08-03 11:38:48.356863|1 0|373 ADVANIHOTR-Iterations: 1|0 Collecting into between 2020-07-31 - 2020-08-03 @ 2020-08-03 11:38:48.754155|1 0|374 SUPERHOUSE-Iterations: 1|0 Collecting into between 2020-07-31 - 2020-08-03 @ 2020-08-03 11:38:48.993616|1 0|375 BALMLAWRIE-Iterations: 1|0 Collecting into between 2020-07-31 - 2020-08-03 @ 2020-08-03 11:38:49.352706|1 0|376 DCMSHRIRAM-Iterations: 1|0 Collecting into between 2020-07-31 - 2020-08-03 @ 2020-08-03 11:38:49.594427|1 0|377 MAWANASUG-Iterations: 1|0 Collecting into between 2020-06-18 - 2020-08-03 @ 2020-08-03 11:38:49.976449|Marking as Inactive\n"
     ]
    },
    {
     "name": "stdout",
     "output_type": "stream",
     "text": [
      "378 NILKAMAL-Iterations: 1|0 Collecting into between 2020-07-31 - 2020-08-03 @ 2020-08-03 11:38:50.334034|1 0|379 NAHARPOLY-Iterations: 1|0 Collecting into between 2020-07-31 - 2020-08-03 @ 2020-08-03 11:38:50.569061|1 0|380 3MINDIA-Iterations: 1|0 Collecting into between 2020-07-31 - 2020-08-03 @ 2020-08-03 11:38:51.017474|1 0|381 JMFINANCIL-Iterations: 1|0 Collecting into between 2020-07-31 - 2020-08-03 @ 2020-08-03 11:38:51.303506|1 0|382 RIIL-Iterations: 1|0 Collecting into between 2020-07-31 - 2020-08-03 @ 2020-08-03 11:38:51.588681|1 0|383 LINDEINDIA-Iterations: 1|0 Collecting into between 2020-07-31 - 2020-08-03 @ 2020-08-03 11:38:51.844759|1 0|384 PRECWIRE-Iterations: 1|0 Collecting into between 2020-07-31 - 2020-08-03 @ 2020-08-03 11:38:52.273442|1 0|385 SCI-Iterations: 1|0 Collecting into between 2020-07-31 - 2020-08-03 @ 2020-08-03 11:38:52.569645|1 0|386 ITI-Iterations: 1|0 Collecting into between 2020-07-31 - 2020-08-03 @ 2020-08-03 11:38:52.832643|1 0|387 DREDGECORP-Iterations: 1|0 Collecting into between 2020-07-31 - 2020-08-03 @ 2020-08-03 11:38:53.073337|1 0|388 NFL-Iterations: 1|0 Collecting into between 2020-07-31 - 2020-08-03 @ 2020-08-03 11:38:53.309964|1 0|389 PIIND-Iterations: 1|0 Collecting into between 2020-07-31 - 2020-08-03 @ 2020-08-03 11:38:53.524911|1 0|390 PLASTIBLEN-Iterations: 1|0 Collecting into between 2020-07-31 - 2020-08-03 @ 2020-08-03 11:38:53.984715|1 0|391 APCOTEXIND-Iterations: 1|0 Collecting into between 2020-07-31 - 2020-08-03 @ 2020-08-03 11:38:54.193788|1 0|392 MASTEK-Iterations: 1|0 Collecting into between 2020-07-31 - 2020-08-03 @ 2020-08-03 11:38:54.456322|1 0|393 ASHIANA-Iterations: 1|0 Collecting into between 2020-07-31 - 2020-08-03 @ 2020-08-03 11:38:54.695400|1 0|394 SREINFRA-Iterations: 1|0 Collecting into between 2020-07-31 - 2020-08-03 @ 2020-08-03 11:38:55.061092|1 0|395 MENONBE-Iterations: 1|0 Collecting into between 2020-07-31 - 2020-08-03 @ 2020-08-03 11:38:55.505620|1 0|396 SIMPLEXINF-Iterations: 1|0 Collecting into between 2020-07-31 - 2020-08-03 @ 2020-08-03 11:38:55.889091|1 0|397 MAGMA-Iterations: 1|0 Collecting into between 2020-07-31 - 2020-08-03 @ 2020-08-03 11:38:56.136116|1 0|398 POLYPLEX-Iterations: 1|0 Collecting into between 2020-07-31 - 2020-08-03 @ 2020-08-03 11:38:56.372716|1 0|399 KABRAEXTRU-Iterations: 1|0 Collecting into between 2020-07-31 - 2020-08-03 @ 2020-08-03 11:38:56.618485|1 0|400 VINYLINDIA-Iterations: 1|0 Collecting into between 2020-07-31 - 2020-08-03 @ 2020-08-03 11:38:56.871875|1 0|401 VINATIORGA-Iterations: 1|0 Collecting into between 2020-07-31 - 2020-08-03 @ 2020-08-03 11:38:57.096494|1 0|402 AARTIIND-Iterations: 1|0 Collecting into between 2020-07-31 - 2020-08-03 @ 2020-08-03 11:38:57.571287|1 0|403 GAEL-Iterations: 1|0 Collecting into between 2020-07-31 - 2020-08-03 @ 2020-08-03 11:38:57.813276|1 0|404 RCF-Iterations: 1|0 Collecting into between 2020-07-31 - 2020-08-03 @ 2020-08-03 11:38:58.057948|1 0|405 FACT-Iterations: 1|0 Collecting into between 2020-07-31 - 2020-08-03 @ 2020-08-03 11:38:58.339951|1 0|406 KOPRAN-Iterations: 1|0 Collecting into between 2020-07-31 - 2020-08-03 @ 2020-08-03 11:38:58.559985|1 0|407 AARTIDRUGS-Iterations: 1|0 Collecting into between 2020-07-31 - 2020-08-03 @ 2020-08-03 11:38:58.815630|1 0|408 BODALCHEM-Iterations: 1|0 Collecting into between 2020-07-31 - 2020-08-03 @ 2020-08-03 11:38:59.526470|1 0|409 VIMTALABS-Iterations: 1|0 Collecting into between 2020-07-31 - 2020-08-03 @ 2020-08-03 11:38:59.894911|1 0|410 MARKSANS-Iterations: 1|0 Collecting into between 2020-07-31 - 2020-08-03 @ 2020-08-03 11:39:00.135929|1 0|411 IPCALAB-Iterations: 1|0 Collecting into between 2020-07-31 - 2020-08-03 @ 2020-08-03 11:39:00.379920|1 0|412 NEULANDLAB-Iterations: 1|0 Collecting into between 2020-07-31 - 2020-08-03 @ 2020-08-03 11:39:01.027268|1 0|413 SOTL-Iterations: 1|0 Collecting into between 2020-07-31 - 2020-08-03 @ 2020-08-03 11:39:01.275688|1 0|414 SUNPHARMA-Iterations: 1|0 Collecting into between 2020-07-31 - 2020-08-03 @ 2020-08-03 11:39:01.647101|1 0|415 HIKAL-Iterations: 1|0 Collecting into between 2020-07-31 - 2020-08-03 @ 2020-08-03 11:39:01.886902|1 0|416 AUROPHARMA-Iterations: 1|0 Collecting into between 2020-07-31 - 2020-08-03 @ 2020-08-03 11:39:02.137619|1 0|417 NATCOPHARM-Iterations: 1|0 Collecting into between 2020-07-31 - 2020-08-03 @ 2020-08-03 11:39:02.364661|1 0|418 PANAMAPET-Iterations: 1|0 Collecting into between 2020-07-31 - 2020-08-03 @ 2020-08-03 11:39:02.596862|1 0|419 BALPHARMA-Iterations: 1|0 Collecting into between 2020-07-31 - 2020-08-03 @ 2020-08-03 11:39:02.979283|1 0|420 FILATEX-Iterations: 1|0 Collecting into between 2020-07-31 - 2020-08-03 @ 2020-08-03 11:39:03.214324|1 0|421 MERCATOR-Iterations: 1|0 Collecting into between 2020-02-29 - 2020-08-03 @ 2020-08-03 11:39:03.596050|26 0|422 MPHASIS-Iterations: 1|0 Collecting into between 2020-07-31 - 2020-08-03 @ 2020-08-03 11:39:04.047099|1 0|423 GANESHHOUC-Iterations: 1|0 Collecting into between 2020-07-02 - 2020-08-03 @ 2020-08-03 11:39:04.276327|Marking as Inactive\n"
     ]
    },
    {
     "name": "stdout",
     "output_type": "stream",
     "text": [
      "424 NMDC-Iterations: 1|0 Collecting into between 2020-07-31 - 2020-08-03 @ 2020-08-03 11:39:04.502741|1 0|425 PATINTLOG-Iterations: 1|0 Collecting into between 2020-07-31 - 2020-08-03 @ 2020-08-03 11:39:04.771782|1 0|426 ALPHAGEO-Iterations: 1|0 Collecting into between 2020-07-31 - 2020-08-03 @ 2020-08-03 11:39:05.016041|1 0|427 LIBERTSHOE-Iterations: 1|0 Collecting into between 2020-07-31 - 2020-08-03 @ 2020-08-03 11:39:05.266590|1 0|428 ELECTHERM-Iterations: 1|0 Collecting into between 2020-07-31 - 2020-08-03 @ 2020-08-03 11:39:05.506284|1 0|429 BLUEDART-Iterations: 1|0 Collecting into between 2020-07-31 - 2020-08-03 @ 2020-08-03 11:39:05.737276|1 0|430 MIRZAINT-Iterations: 1|0 Collecting into between 2020-07-31 - 2020-08-03 @ 2020-08-03 11:39:06.251530|1 0|431 TFCILTD-Iterations: 1|0 Collecting into between 2020-07-31 - 2020-08-03 @ 2020-08-03 11:39:06.489554|1 0|432 BIL-Iterations: 1|0 Collecting into between 2020-07-31 - 2020-08-03 @ 2020-08-03 11:39:06.736197|1 0|433 KAMATHOTEL-Iterations: 1|0 Collecting into between 2020-07-31 - 2020-08-03 @ 2020-08-03 11:39:06.975450|1 0|434 SANDESH-Iterations: 1|0 Collecting into between 2020-07-31 - 2020-08-03 @ 2020-08-03 11:39:07.246595|1 0|435 GOLDIAM-Iterations: 1|0 Collecting into between 2020-07-31 - 2020-08-03 @ 2020-08-03 11:39:07.933165|1 0|436 GREENPLY-Iterations: 1|0 Collecting into between 2020-07-31 - 2020-08-03 @ 2020-08-03 11:39:08.217001|1 0|437 SEAMECLTD-Iterations: 1|0 Collecting into between 2020-07-31 - 2020-08-03 @ 2020-08-03 11:39:08.463750|1 0|438 SARLAPOLY-Iterations: 1|0 Collecting into between 2020-07-31 - 2020-08-03 @ 2020-08-03 11:39:08.720889|1 0|439 LAOPALA-Iterations: 1|0 Collecting into between 2020-07-31 - 2020-08-03 @ 2020-08-03 11:39:09.007762|1 0|440 VENUSREM-Iterations: 1|0 Collecting into between 2020-02-29 - 2020-08-03 @ 2020-08-03 11:39:09.239882|42 0|441 GUJALKALI-Iterations: 1|0 Collecting into between 2020-07-31 - 2020-08-03 @ 2020-08-03 11:39:09.656941|1 0|442 INDIACEM-Iterations: 1|0 Collecting into between 2020-07-31 - 2020-08-03 @ 2020-08-03 11:39:09.904641|1 0|443 JKTYRE-Iterations: 1|0 Collecting into between 2020-07-31 - 2020-08-03 @ 2020-08-03 11:39:10.201471|1 0|444 MANGCHEFER-Iterations: 1|0 Collecting into between 2020-07-31 - 2020-08-03 @ 2020-08-03 11:39:10.428522|1 0|445 JUBILANT-Iterations: 1|0 Collecting into between 2020-07-31 - 2020-08-03 @ 2020-08-03 11:39:10.690271|1 0|446 SANGHVIMOV-Iterations: 1|0 Collecting into between 2020-07-31 - 2020-08-03 @ 2020-08-03 11:39:10.935044|1 0|447 SELAN-Iterations: 1|0 Collecting into between 2020-07-31 - 2020-08-03 @ 2020-08-03 11:39:11.172074|1 0|448 SUVEN-Iterations: 1|0 Collecting into between 2020-07-31 - 2020-08-03 @ 2020-08-03 11:39:11.399346|1 0|449 KOTHARIPRO-Iterations: 1|0 Collecting into between 2020-07-31 - 2020-08-03 @ 2020-08-03 11:39:11.662680|1 0|450 IDEA-Iterations: 1|0 Collecting into between 2020-07-31 - 2020-08-03 @ 2020-08-03 11:39:11.931699|1 0|451 GENUSPOWER-Iterations: 1|0 Collecting into between 2020-07-31 - 2020-08-03 @ 2020-08-03 11:39:12.168735|1 0|452 ORIENTBELL-Iterations: 1|0 Collecting into between 2020-07-31 - 2020-08-03 @ 2020-08-03 11:39:12.425768|1 0|453 NRBBEARING-Iterations: 1|0 Collecting into between 2020-07-31 - 2020-08-03 @ 2020-08-03 11:39:12.833212|1 0|454 BAYERCROP-Iterations: 1|0 Collecting into between 2020-08-01 - 2020-08-03 @ 2020-08-03 11:39:13.059800|Marking as Inactive\n",
      "455 RELAXO-Iterations: 1|0 Collecting into between 2020-07-31 - 2020-08-03 @ 2020-08-03 11:39:13.308166|1 0|456 SHILPAMED-Iterations: 1|0 Collecting into between 2020-07-31 - 2020-08-03 @ 2020-08-03 11:39:13.749438|1 0|457 STERTOOLS-Iterations: 1|0 Collecting into between 2020-07-31 - 2020-08-03 @ 2020-08-03 11:39:14.165901|1 0|458 KRBL-Iterations: 1|0 Collecting into between 2020-07-31 - 2020-08-03 @ 2020-08-03 11:39:14.421923|1 0|459 IOC-Iterations: 1|0 Collecting into between 2020-07-31 - 2020-08-03 @ 2020-08-03 11:39:14.661768|1 0|460 BALAMINES-Iterations: 1|0 Collecting into between 2020-07-31 - 2020-08-03 @ 2020-08-03 11:39:14.955260|1 0|461 OMMETALS-Iterations: 1|0 Collecting into between 2020-07-02 - 2020-08-03 @ 2020-08-03 11:39:15.186760|Marking as Inactive\n",
      "462 PATELENG-Iterations: 1|0 Collecting into between 2020-07-31 - 2020-08-03 @ 2020-08-03 11:39:15.556573|1 0|463 ALICON-Iterations: 1|0 Collecting into between 2020-07-31 - 2020-08-03 @ 2020-08-03 11:39:15.840378|1 0|464 EMAMILTD-Iterations: 1|0 Collecting into between 2020-07-31 - 2020-08-03 @ 2020-08-03 11:39:16.246309|1 0|465 NUCLEUS-Iterations: 1|0 Collecting into between 2020-07-31 - 2020-08-03 @ 2020-08-03 11:39:16.566959|1 0|466 MANAPPURAM-Iterations: 1|0 Collecting into between 2020-07-31 - 2020-08-03 @ 2020-08-03 11:39:16.854151|1 0|467 VSTTILLERS-Iterations: 1|0 Collecting into between 2020-07-31 - 2020-08-03 @ 2020-08-03 11:39:17.254549|1 0|468 CONCOR-Iterations: 1|0 Collecting into between 2020-07-31 - 2020-08-03 @ 2020-08-03 11:39:17.669124|1 0|469 PANACEABIO-Iterations: 1|0 Collecting into between 2020-07-31 - 2020-08-03 @ 2020-08-03 11:39:18.465770|1 0|470 TNPL-Iterations: 1|0 Collecting into between 2020-07-31 - 2020-08-03 @ 2020-08-03 11:39:18.702831|1 0|471 SHAKTIPUMP-Iterations: 1|0 Collecting into between 2020-06-18 - 2020-08-03 @ 2020-08-03 11:39:18.949359|Marking as Inactive\n",
      "472 MOHITIND-Iterations: 1|0 Collecting into between 2020-07-29 - 2020-08-03 @ 2020-08-03 11:39:19.349201|Marking as Inactive\n",
      "473 MADHUCON-Iterations: 1|0 Collecting into between 2020-02-29 - 2020-08-03 @ 2020-08-03 11:39:19.702980|38 0|474 RAJESHEXPO-Iterations: 1|0 Collecting into between 2020-07-31 - 2020-08-03 @ 2020-08-03 11:39:20.049338|1 0|475 EVEREADY-Iterations: 1|0 Collecting into between 2020-02-29 - 2020-08-03 @ 2020-08-03 11:39:20.292040|50 0|476 HATSUN-Iterations: 1|0 Collecting into between 2020-07-31 - 2020-08-03 @ 2020-08-03 11:39:20.660263|1 0|477 JINDWORLD-Iterations: 1|0 Collecting into between 2020-07-31 - 2020-08-03 @ 2020-08-03 11:39:21.016779|1 0|478 SOMANYCERA-Iterations: 1|0 Collecting into between 2020-07-31 - 2020-08-03 @ 2020-08-03 11:39:21.490646|1 0|479 CGCL-Iterations: 1|0 Collecting into between 2020-07-31 - 2020-08-03 @ 2020-08-03 11:39:21.772203|1 0|480 FDC-Iterations: 1|0 Collecting into between 2020-07-31 - 2020-08-03 @ 2020-08-03 11:39:22.211254|1 0|481 MARICO-Iterations: 1|0 Collecting into between 2020-07-31 - 2020-08-03 @ 2020-08-03 11:39:22.541810|1 0|482 VIDHIING-Iterations: 1|0 Collecting into between 2020-07-31 - 2020-08-03 @ 2020-08-03 11:39:22.929056|1 0|483 PRAENG-Iterations: 1|0 Collecting into between 2020-07-31 - 2020-08-03 @ 2020-08-03 11:39:23.372815|1 0|484 POLYMED-Iterations: 1|0 Collecting into between 2020-07-31 - 2020-08-03 @ 2020-08-03 11:39:23.658621|1 0|485 ATULAUTO-Iterations: 1|0 Collecting into between 2020-07-31 - 2020-08-03 @ 2020-08-03 11:39:24.538437|1 0|486 AMBIKCO-Iterations: 1|0 Collecting into between 2020-07-31 - 2020-08-03 @ 2020-08-03 11:39:24.987369|1 0|487 SWELECTES-Iterations: 1|0 Collecting into between 2020-07-31 - 2020-08-03 @ 2020-08-03 11:39:25.242328|1 0|488 MUKANDENGG-Iterations: 1|0 Collecting into between 2020-06-18 - 2020-08-03 @ 2020-08-03 11:39:25.674793|Marking as Inactive\n"
     ]
    },
    {
     "name": "stdout",
     "output_type": "stream",
     "text": [
      "489 HEXAWARE-Iterations: 1|0 Collecting into between 2020-07-31 - 2020-08-03 @ 2020-08-03 11:39:25.891800|1 0|490 BANKBARODA-Iterations: 1|0 Collecting into between 2020-07-31 - 2020-08-03 @ 2020-08-03 11:39:26.206640|1 0|491 SKMEGGPROD-Iterations: 1|0 Collecting into between 2020-07-31 - 2020-08-03 @ 2020-08-03 11:39:31.349351|1 0|492 WELCORP-Iterations: 1|0 Collecting into between 2020-07-31 - 2020-08-03 @ 2020-08-03 11:39:31.793497|1 0|493 BANKINDIA-Iterations: 1|0 Collecting into between 2020-07-31 - 2020-08-03 @ 2020-08-03 11:39:32.144646|1 0|494 INDRAMEDCO-Iterations: 1|0 Collecting into between 2020-07-31 - 2020-08-03 @ 2020-08-03 11:39:32.345521|1 0|495 GAIL-Iterations: 1|0 Collecting into between 2020-07-31 - 2020-08-03 @ 2020-08-03 11:39:32.578376|1 0|496 VAIBHAVGBL-Iterations: 1|0 Collecting into between 2020-07-31 - 2020-08-03 @ 2020-08-03 11:39:32.786248|1 0|497 JKPAPER-Iterations: 1|0 Collecting into between 2020-07-31 - 2020-08-03 @ 2020-08-03 11:39:33.442839|1 0|498 SAREGAMA-Iterations: 1|0 Collecting into between 2020-07-31 - 2020-08-03 @ 2020-08-03 11:39:33.660705|1 0|499 MADRASFERT-Iterations: 1|0 Collecting into between 2020-02-29 - 2020-08-03 @ 2020-08-03 11:39:33.875572|74 0|500 CYBERTECH-Iterations: 1|0 Collecting into between 2020-07-31 - 2020-08-03 @ 2020-08-03 11:39:34.304454|1 0|501 ICICIBANK-Iterations: 1|0 Collecting into between 2020-07-31 - 2020-08-03 @ 2020-08-03 11:39:34.517277|1 0|502 CYIENT-Iterations: 1|0 Collecting into between 2020-07-31 - 2020-08-03 @ 2020-08-03 11:39:34.733144|1 0|503 ENGINERSIN-Iterations: 1|0 Collecting into between 2020-07-31 - 2020-08-03 @ 2020-08-03 11:39:35.274809|1 0|504 CORPBANK-Iterations: 1|0 Collecting into between 2020-02-29 - 2020-08-03 @ 2020-08-03 11:39:35.591233|13 0|505 DHANBANK-Iterations: 1|0 Collecting into between 2020-07-31 - 2020-08-03 @ 2020-08-03 11:39:35.847067|1 0|506 GMDCLTD-Iterations: 1|0 Collecting into between 2020-07-31 - 2020-08-03 @ 2020-08-03 11:39:36.062934|1 0|507 INDUSINDBK-Iterations: 1|0 Collecting into between 2020-07-31 - 2020-08-03 @ 2020-08-03 11:39:36.316778|1 0|508 J&KBANK-Iterations: 1|0 Collecting into between 2020-07-31 - 2020-08-03 @ 2020-08-03 11:39:36.599768|1 0|509 CUB-Iterations: 1|0 Collecting into between 2020-07-31 - 2020-08-03 @ 2020-08-03 11:39:36.817634|1 0|510 AXISBANK-Iterations: 1|0 Collecting into between 2020-07-31 - 2020-08-03 @ 2020-08-03 11:39:37.062051|1 0|511 SOUTHBANK-Iterations: 1|0 Collecting into between 2020-07-31 - 2020-08-03 @ 2020-08-03 11:39:37.266392|1 0|512 SONATSOFTW-Iterations: 1|0 Collecting into between 2020-07-31 - 2020-08-03 @ 2020-08-03 11:39:37.524366|1 0|513 NATIONALUM-Iterations: 1|0 Collecting into between 2020-07-31 - 2020-08-03 @ 2020-08-03 11:39:37.876191|1 0|514 INDNIPPON-Iterations: 1|0 Collecting into between 2020-07-31 - 2020-08-03 @ 2020-08-03 11:39:38.144200|1 0|515 NSIL-Iterations: 1|0 Collecting into between 2020-07-31 - 2020-08-03 @ 2020-08-03 11:39:38.397606|1 0|516 SYNDIBANK-Iterations: 1|0 Collecting into between 2020-02-29 - 2020-08-03 @ 2020-08-03 11:39:38.628558|13 0|517 HCLTECH-Iterations: 1|0 Collecting into between 2020-07-31 - 2020-08-03 @ 2020-08-03 11:39:38.920938|1 0|518 GEOJITFSL-Iterations: 1|0 Collecting into between 2020-07-31 - 2020-08-03 @ 2020-08-03 11:39:39.166778|1 0|519 JINDALSTEL-Iterations: 1|0 Collecting into between 2020-07-31 - 2020-08-03 @ 2020-08-03 11:39:39.530285|1 0|520 GLENMARK-Iterations: 1|0 Collecting into between 2020-07-31 - 2020-08-03 @ 2020-08-03 11:39:39.774364|1 0|521 WOCKPHARMA-Iterations: 1|0 Collecting into between 2020-07-31 - 2020-08-03 @ 2020-08-03 11:39:40.021294|1 0|522 TATACOFFEE-Iterations: 1|0 Collecting into between 2020-07-31 - 2020-08-03 @ 2020-08-03 11:39:40.250409|1 0|523 SHREERAMA-Iterations: 1|0 Collecting into between 2020-07-31 - 2020-08-03 @ 2020-08-03 11:39:40.489437|1 0|524 MAHLIFE-Iterations: 1|0 Collecting into between 2020-07-31 - 2020-08-03 @ 2020-08-03 11:39:40.821669|1 0|525 CADILAHC-Iterations: 1|0 Collecting into between 2020-07-31 - 2020-08-03 @ 2020-08-03 11:39:41.056797|1 0|526 AJANTPHARM-Iterations: 1|0 Collecting into between 2020-07-31 - 2020-08-03 @ 2020-08-03 11:39:42.075022|1 0|527 COMPUSOFT-Iterations: 1|0 Collecting into between 2020-02-29 - 2020-08-03 @ 2020-08-03 11:39:42.303126|49 0|528 TVSMOTOR-Iterations: 1|0 Collecting into between 2020-07-31 - 2020-08-03 @ 2020-08-03 11:39:42.946109|1 0|529 GATI-Iterations: 1|0 Collecting into between 2020-07-31 - 2020-08-03 @ 2020-08-03 11:39:43.163119|1 0|530 TCI-Iterations: 1|0 Collecting into between 2020-07-31 - 2020-08-03 @ 2020-08-03 11:39:43.411958|1 0|531 SUBEX-Iterations: 1|0 Collecting into between 2020-02-29 - 2020-08-03 @ 2020-08-03 11:39:43.677609|61 0|532 AKSHOPTFBR-Iterations: 1|0 Collecting into between 2020-06-18 - 2020-08-03 @ 2020-08-03 11:39:44.123170|Marking as Inactive\n",
      "533 TRIVENI-Iterations: 1|0 Collecting into between 2020-07-31 - 2020-08-03 @ 2020-08-03 11:39:44.366342|1 0|534 MUKTAARTS-Iterations: 1|0 Collecting into between 2020-06-18 - 2020-08-03 @ 2020-08-03 11:39:44.611542|Marking as Inactive\n",
      "535 PNBGILTS-Iterations: 1|0 Collecting into between 2020-07-31 - 2020-08-03 @ 2020-08-03 11:39:44.837999|1 0|536 RAMCOIND-Iterations: 1|0 Collecting into between 2020-07-31 - 2020-08-03 @ 2020-08-03 11:39:45.051700|1 0|537 RAMCOSYS-Iterations: 1|0 Collecting into between 2020-07-31 - 2020-08-03 @ 2020-08-03 11:39:45.305607|1 0|538 STRTECH-Iterations: 1|0 Collecting into between 2020-07-31 - 2020-08-03 @ 2020-08-03 11:39:46.023763|1 0|539 BALAJITELE-Iterations: 1|0 Collecting into between 2020-07-31 - 2020-08-03 @ 2020-08-03 11:39:46.264483|1 0|540 IOB-Iterations: 1|0 Collecting into between 2020-07-31 - 2020-08-03 @ 2020-08-03 11:39:46.571353|1 0|541 TAJGVK-Iterations: 1|0 Collecting into between 2020-07-31 - 2020-08-03 @ 2020-08-03 11:39:46.869572|1 0|542 AXISCADES-Iterations: 1|0 Collecting into between 2020-07-31 - 2020-08-03 @ 2020-08-03 11:39:47.107818|1 0|543 ANDHRABANK-Iterations: 1|0 Collecting into between 2020-02-29 - 2020-08-03 @ 2020-08-03 11:39:47.484959|13 0|544 SMARTLINK-Iterations: 1|0 Collecting into between 2020-02-29 - 2020-08-03 @ 2020-08-03 11:39:47.744643|103 0|545 GODREJCP-Iterations: 1|0 Collecting into between 2020-07-31 - 2020-08-03 @ 2020-08-03 11:39:48.448696|1 0|546 BFUTILITIE-Iterations: 1|0 Collecting into between 2020-07-31 - 2020-08-03 @ 2020-08-03 11:39:48.685791|1 0|547 MPSLTD-Iterations: 1|0 Collecting into between 2020-07-31 - 2020-08-03 @ 2020-08-03 11:39:48.931527|1 0|548 CERA-Iterations: 1|0 Collecting into between 2020-07-31 - 2020-08-03 @ 2020-08-03 11:39:49.307297|1 0|549 BHARTIARTL-Iterations: 1|0 Collecting into between 2020-07-31 - 2020-08-03 @ 2020-08-03 11:39:49.557897|1 0|550 PONNIERODE-Iterations: 1|0 Collecting into between 2020-07-31 - 2020-08-03 @ 2020-08-03 11:39:49.803970|1 0|551 PNB-Iterations: 1|0 Collecting into between 2020-07-31 - 2020-08-03 @ 2020-08-03 11:39:50.050739|1 0|552 OFSS-Iterations: 1|0 Collecting into between 2020-07-31 - 2020-08-03 @ 2020-08-03 11:39:50.303761|1 0|553 APTECHT-Iterations: 1|0 Collecting into between 2020-07-31 - 2020-08-03 @ 2020-08-03 11:39:50.547097|1 0|554 UNIONBANK-Iterations: 1|0 Collecting into between 2020-07-31 - 2020-08-03 @ 2020-08-03 11:39:50.788961|1 0|555 ISMTLTD-Iterations: 1|0 Collecting into between 2020-06-18 - 2020-08-03 @ 2020-08-03 11:39:51.018580|Marking as Inactive\n"
     ]
    },
    {
     "name": "stdout",
     "output_type": "stream",
     "text": [
      "556 GRANULES-Iterations: 1|0 Collecting into between 2020-07-31 - 2020-08-03 @ 2020-08-03 11:39:51.242789|1 0|557 CANBK-Iterations: 1|0 Collecting into between 2020-07-31 - 2020-08-03 @ 2020-08-03 11:39:51.481515|1 0|558 DIVISLAB-Iterations: 1|0 Collecting into between 2020-07-31 - 2020-08-03 @ 2020-08-03 11:39:51.712529|1 0|559 ALBK-Iterations: 1|0 Collecting into between 2020-02-29 - 2020-08-03 @ 2020-08-03 11:39:51.955707|13 0|560 UBL-Iterations: 1|0 Collecting into between 2020-07-31 - 2020-08-03 @ 2020-08-03 11:39:52.803045|1 0|561 ASTRAMICRO-Iterations: 1|0 Collecting into between 2020-07-31 - 2020-08-03 @ 2020-08-03 11:39:53.030959|1 0|562 RADICO-Iterations: 1|0 Collecting into between 2020-07-31 - 2020-08-03 @ 2020-08-03 11:39:53.266989|1 0|563 SHRIRAMCIT-Iterations: 1|0 Collecting into between 2020-07-31 - 2020-08-03 @ 2020-08-03 11:39:53.508009|1 0|564 MARUTI-Iterations: 1|0 Collecting into between 2020-07-31 - 2020-08-03 @ 2020-08-03 11:39:53.734947|1 0|565 UCOBANK-Iterations: 1|0 Collecting into between 2020-07-31 - 2020-08-03 @ 2020-08-03 11:39:53.979280|1 0|566 BAGFILMS-Iterations: 1|0 Collecting into between 2020-06-18 - 2020-08-03 @ 2020-08-03 11:39:54.227025|Marking as Inactive\n",
      "567 SUPRAJIT-Iterations: 1|0 Collecting into between 2020-07-31 - 2020-08-03 @ 2020-08-03 11:39:54.490018|1 0|568 IGL-Iterations: 1|0 Collecting into between 2020-07-31 - 2020-08-03 @ 2020-08-03 11:39:54.722100|1 0|569 TVTODAY-Iterations: 1|0 Collecting into between 2020-07-31 - 2020-08-03 @ 2020-08-03 11:39:54.960482|1 0|570 PETRONET-Iterations: 1|0 Collecting into between 2020-07-31 - 2020-08-03 @ 2020-08-03 11:39:55.192957|1 0|571 BIOCON-Iterations: 1|0 Collecting into between 2020-07-31 - 2020-08-03 @ 2020-08-03 11:39:55.448600|1 0|572 PTC-Iterations: 1|0 Collecting into between 2020-07-31 - 2020-08-03 @ 2020-08-03 11:39:55.714424|1 0|573 MAHABANK-Iterations: 1|0 Collecting into between 2020-07-31 - 2020-08-03 @ 2020-08-03 11:39:55.948893|1 0|574 STAR-Iterations: 1|0 Collecting into between 2020-07-31 - 2020-08-03 @ 2020-08-03 11:39:56.174271|1 0|575 JPASSOCIAT-Iterations: 1|0 Collecting into between 2020-07-31 - 2020-08-03 @ 2020-08-03 11:39:56.428160|1 0|576 ULTRACEMCO-Iterations: 1|0 Collecting into between 2020-07-31 - 2020-08-03 @ 2020-08-03 11:39:56.684395|1 0|577 MINDAIND-Iterations: 1|0 Collecting into between 2020-07-31 - 2020-08-03 @ 2020-08-03 11:39:56.921640|1 0|578 TCS-Iterations: 1|0 Collecting into between 2020-07-31 - 2020-08-03 @ 2020-08-03 11:39:57.164729|1 0|579 NIITTECH-Iterations: 1|0 Collecting into between 2020-07-31 - 2020-08-03 @ 2020-08-03 11:39:57.410814|1 0|580 DATAMATICS-Iterations: 1|0 Collecting into between 2020-07-31 - 2020-08-03 @ 2020-08-03 11:39:57.674729|1 0|581 RKFORGE-Iterations: 1|0 Collecting into between 2020-07-31 - 2020-08-03 @ 2020-08-03 11:39:58.114938|1 0|582 CENTURYPLY-Iterations: 1|0 Collecting into between 2020-07-31 - 2020-08-03 @ 2020-08-03 11:39:58.391073|1 0|583 NTPC-Iterations: 1|0 Collecting into between 2020-07-31 - 2020-08-03 @ 2020-08-03 11:39:58.637155|1 0|584 JBMA-Iterations: 1|0 Collecting into between 2020-07-31 - 2020-08-03 @ 2020-08-03 11:39:58.876993|1 0|585 DWARKESH-Iterations: 1|0 Collecting into between 2020-07-31 - 2020-08-03 @ 2020-08-03 11:39:59.160237|1 0|586 INDOCO-Iterations: 1|0 Collecting into between 2020-07-31 - 2020-08-03 @ 2020-08-03 11:39:59.377084|1 0|587 XCHANGING-Iterations: 1|0 Collecting into between 2020-07-31 - 2020-08-03 @ 2020-08-03 11:39:59.953845|1 0|588 MORARJEE-Iterations: 1|0 Collecting into between 2020-07-31 - 2020-08-03 @ 2020-08-03 11:40:00.354869|1 0|589 GDL-Iterations: 1|0 Collecting into between 2020-07-25 - 2020-08-03 @ 2020-08-03 11:40:00.783747|Marking as Inactive\n",
      "590 JPPOWER-Iterations: 1|0 Collecting into between 2020-07-31 - 2020-08-03 @ 2020-08-03 11:40:01.479966|1 0|591 GOKEX-Iterations: 1|0 Collecting into between 2020-02-29 - 2020-08-03 @ 2020-08-03 11:40:01.914581|103 0|592 ALLSEC-Iterations: 1|0 Collecting into between 2020-07-31 - 2020-08-03 @ 2020-08-03 11:40:02.536601|1 0|593 IIFL-Iterations: 1|0 Collecting into between 2020-07-31 - 2020-08-03 @ 2020-08-03 11:40:03.267030|1 0|594 SHOPERSTOP-Iterations: 1|0 Collecting into between 2020-07-31 - 2020-08-03 @ 2020-08-03 11:40:03.730545|1 0|595 NDL-Iterations: 1|0 Collecting into between 2020-07-31 - 2020-08-03 @ 2020-08-03 11:40:03.981641|1 0|596 JSWHL-Iterations: 1|0 Collecting into between 2020-07-31 - 2020-08-03 @ 2020-08-03 11:40:04.347830|1 0|597 JKCEMENT-Iterations: 1|0 Collecting into between 2020-07-31 - 2020-08-03 @ 2020-08-03 11:40:04.831608|1 0|598 YESBANK-Iterations: 1|0 Collecting into between 2020-07-31 - 2020-08-03 @ 2020-08-03 11:40:05.135755|1 0|599 NECLIFE-Iterations: 1|0 Collecting into between 2020-07-31 - 2020-08-03 @ 2020-08-03 11:40:05.435937|1 0|600 SPLIL-Iterations: 1|0 Collecting into between 2020-07-31 - 2020-08-03 @ 2020-08-03 11:40:05.696702|1 0|601 KTKBANK-Iterations: 1|0 Collecting into between 2020-07-31 - 2020-08-03 @ 2020-08-03 11:40:05.958845|1 0|602 MCLEODRUSS-Iterations: 1|0 Collecting into between 2020-02-29 - 2020-08-03 @ 2020-08-03 11:40:06.209580|33 0|603 IDFC-Iterations: 1|0 Collecting into between 2020-07-31 - 2020-08-03 @ 2020-08-03 11:40:06.991891|1 0|604 VIVIMEDLAB-Iterations: 1|0 Collecting into between 2020-02-29 - 2020-08-03 @ 2020-08-03 11:40:07.238717|49 0|605 RML-Iterations: 1|0 Collecting into between 2020-07-31 - 2020-08-03 @ 2020-08-03 11:40:07.676183|1 0|606 HTMEDIA-Iterations: 1|0 Collecting into between 2020-02-29 - 2020-08-03 @ 2020-08-03 11:40:07.914061|81 0|607 SASKEN-Iterations: 1|0 Collecting into between 2020-07-31 - 2020-08-03 @ 2020-08-03 11:40:08.466801|1 0|608 SUZLON-Iterations: 1|0 Collecting into between 2020-07-31 - 2020-08-03 @ 2020-08-03 11:40:08.728280|1 0|609 AURIONPRO-Iterations: 1|0 Collecting into between 2020-07-31 - 2020-08-03 @ 2020-08-03 11:40:08.976897|1 0|610 RENUKA-Iterations: 1|0 Collecting into between 2020-07-31 - 2020-08-03 @ 2020-08-03 11:40:09.356541|1 0|611 KMSUGAR-Iterations: 1|0 Collecting into between 2020-07-31 - 2020-08-03 @ 2020-08-03 11:40:09.632331|1 0|612 BASML-Iterations: 1|0 Collecting into between 2020-07-31 - 2020-08-03 @ 2020-08-03 11:40:09.885158|1 0|613 AIAENG-Iterations: 1|0 Collecting into between 2020-07-31 - 2020-08-03 @ 2020-08-03 11:40:10.176962|1 0|614 EKC-Iterations: 1|0 Collecting into between 2020-07-31 - 2020-08-03 @ 2020-08-03 11:40:10.467475|1 0|615 REPRO-Iterations: 1|0 Collecting into between 2020-07-31 - 2020-08-03 @ 2020-08-03 11:40:10.713706|1 0|616 CELEBRITY-Iterations: 1|0 Collecting into between 2020-07-31 - 2020-08-03 @ 2020-08-03 11:40:10.951713|1 0|617 NITINSPIN-Iterations: 1|0 Collecting into between 2020-07-31 - 2020-08-03 @ 2020-08-03 11:40:11.184220|1 0|618 ROHLTD-Iterations: 1|0 Collecting into between 2020-07-31 - 2020-08-03 @ 2020-08-03 11:40:11.430151|1 0|619 ENIL-Iterations: 1|0 Collecting into between 2020-07-31 - 2020-08-03 @ 2020-08-03 11:40:11.676158|1 0|620 GSPL-Iterations: 1|0 Collecting into between 2020-07-31 - 2020-08-03 @ 2020-08-03 11:40:11.914158|1 0|621 JAGRAN-Iterations: 1|0 Collecting into between 2020-07-31 - 2020-08-03 @ 2020-08-03 11:40:12.141290|1 0|622 SADBHAV-Iterations: 1|0 Collecting into between 2020-07-31 - 2020-08-03 @ 2020-08-03 11:40:12.380375|1 0|623 RCOM-Iterations: 1|0 Collecting into between 2019-12-10 - 2020-08-03 @ 2020-08-03 11:40:12.628394|40 0|624 KEC-Iterations: 1|0 Collecting into between 2020-07-31 - 2020-08-03 @ 2020-08-03 11:40:13.013187|1 0|625 SAKUMA-Iterations: 1|0 Collecting into between 2020-02-29 - 2020-08-03 @ 2020-08-03 11:40:13.321196|55 0|626 GILLANDERS-Iterations: 1|0 Collecting into between 2020-06-18 - 2020-08-03 @ 2020-08-03 11:40:14.111488|Marking as Inactive\n",
      "627 INDOTECH-Iterations: 1|0 Collecting into between 2020-07-31 - 2020-08-03 @ 2020-08-03 11:40:14.491142|1 0|628 BLKASHYAP-Iterations: 1|0 Collecting into between 2020-07-31 - 2020-08-03 @ 2020-08-03 11:40:14.734759|1 0|629 M&MFIN-Iterations: 1|0 Collecting into between 2020-07-25 - 2020-08-03 @ 2020-08-03 11:40:14.983342|Marking as Inactive\n"
     ]
    },
    {
     "name": "stdout",
     "output_type": "stream",
     "text": [
      "630 NITCO-Iterations: 1|0 Collecting into between 2020-07-31 - 2020-08-03 @ 2020-08-03 11:40:15.210441|1 0|631 SOLARINDS-Iterations: 1|0 Collecting into between 2020-07-31 - 2020-08-03 @ 2020-08-03 11:40:15.454201|1 0|632 UTTAMSUGAR-Iterations: 1|0 Collecting into between 2020-07-31 - 2020-08-03 @ 2020-08-03 11:40:16.016388|1 0|633 SUNTV-Iterations: 1|0 Collecting into between 2020-07-31 - 2020-08-03 @ 2020-08-03 11:40:16.264394|1 0|634 GPIL-Iterations: 1|0 Collecting into between 2020-07-31 - 2020-08-03 @ 2020-08-03 11:40:16.611978|1 0|635 EMKAY-Iterations: 1|0 Collecting into between 2020-07-31 - 2020-08-03 @ 2020-08-03 11:40:16.923140|1 0|636 LOKESHMACH-Iterations: 1|0 Collecting into between 2020-07-31 - 2020-08-03 @ 2020-08-03 11:40:17.196932|1 0|637 PFOCUS-Iterations: 1|0 Collecting into between 2020-07-31 - 2020-08-03 @ 2020-08-03 11:40:17.558527|1 0|638 ALLCARGO-Iterations: 1|0 Collecting into between 2020-07-31 - 2020-08-03 @ 2020-08-03 11:40:17.827249|1 0|639 VOLTAMP-Iterations: 1|0 Collecting into between 2020-07-31 - 2020-08-03 @ 2020-08-03 11:40:18.037102|1 0|640 ATLANTA-Iterations: 1|0 Collecting into between 2020-07-31 - 2020-08-03 @ 2020-08-03 11:40:18.270153|1 0|641 DEEPIND-Iterations: 1|0 Collecting into between 2020-07-31 - 2020-08-03 @ 2020-08-03 11:40:18.530302|1 0|642 HOVS-Iterations: 1|0 Collecting into between 2020-07-31 - 2020-08-03 @ 2020-08-03 11:40:18.958527|1 0|643 ACE-Iterations: 1|0 Collecting into between 2020-07-31 - 2020-08-03 @ 2020-08-03 11:40:19.261626|1 0|644 GEECEE-Iterations: 1|0 Collecting into between 2020-07-31 - 2020-08-03 @ 2020-08-03 11:40:19.525423|1 0|645 GAYAPROJ-Iterations: 1|0 Collecting into between 2020-02-29 - 2020-08-03 @ 2020-08-03 11:40:19.913430|42 0|646 GMRINFRA-Iterations: 1|0 Collecting into between 2020-07-31 - 2020-08-03 @ 2020-08-03 11:40:20.446364|1 0|647 MAHINDCIE-Iterations: 1|0 Collecting into between 2020-07-31 - 2020-08-03 @ 2020-08-03 11:40:20.705373|1 0|648 TECHM-Iterations: 1|0 Collecting into between 2020-07-31 - 2020-08-03 @ 2020-08-03 11:40:21.088678|1 0|649 FIEMIND-Iterations: 1|0 Collecting into between 2020-07-31 - 2020-08-03 @ 2020-08-03 11:40:21.356948|1 0|650 DCBBANK-Iterations: 1|0 Collecting into between 2020-07-31 - 2020-08-03 @ 2020-08-03 11:40:21.593738|1 0|651 SHIVAMAUTO-Iterations: 1|0 Collecting into between 2020-06-18 - 2020-08-03 @ 2020-08-03 11:40:22.076626|Marking as Inactive\n",
      "652 NAUKRI-Iterations: 1|0 Collecting into between 2020-07-31 - 2020-08-03 @ 2020-08-03 11:40:22.340710|1 0|653 ZEEMEDIA-Iterations: 1|0 Collecting into between 2020-06-18 - 2020-08-03 @ 2020-08-03 11:40:22.575564|Marking as Inactive\n",
      "654 LUMAXTECH-Iterations: 1|0 Collecting into between 2020-07-31 - 2020-08-03 @ 2020-08-03 11:40:22.950333|1 0|655 NETWORK18-Iterations: 1|0 Collecting into between 2020-07-31 - 2020-08-03 @ 2020-08-03 11:40:23.189124|1 0|656 HUBTOWN-Iterations: 1|0 Collecting into between 2019-12-10 - 2020-08-03 @ 2020-08-03 11:40:23.440867|79 0|657 TV18BRDCST-Iterations: 1|0 Collecting into between 2020-07-31 - 2020-08-03 @ 2020-08-03 11:40:24.713031|1 0|658 TIIL-Iterations: 1|0 Collecting into between 2020-07-31 - 2020-08-03 @ 2020-08-03 11:40:25.126129|1 0|659 REDINGTON-Iterations: 1|0 Collecting into between 2020-07-31 - 2020-08-03 @ 2020-08-03 11:40:25.355179|1 0|660 CINELINE-Iterations: 1|0 Collecting into between 2020-07-31 - 2020-08-03 @ 2020-08-03 11:40:25.589198|1 0|661 FSL-Iterations: 1|0 Collecting into between 2020-07-31 - 2020-08-03 @ 2020-08-03 11:40:25.982820|1 0|662 PGIL-Iterations: 1|0 Collecting into between 2020-07-31 - 2020-08-03 @ 2020-08-03 11:40:26.223913|1 0|663 AHLUCONT-Iterations: 1|0 Collecting into between 2020-07-31 - 2020-08-03 @ 2020-08-03 11:40:26.615534|1 0|664 PFC-Iterations: 1|0 Collecting into between 2020-07-31 - 2020-08-03 @ 2020-08-03 11:40:27.011308|1 0|665 INDIANB-Iterations: 1|0 Collecting into between 2020-07-31 - 2020-08-03 @ 2020-08-03 11:40:27.259282|1 0|666 SMSPHARMA-Iterations: 1|0 Collecting into between 2020-07-31 - 2020-08-03 @ 2020-08-03 11:40:27.507799|1 0|667 MINDTREE-Iterations: 1|0 Collecting into between 2020-07-31 - 2020-08-03 @ 2020-08-03 11:40:27.773420|1 0|668 IDEA-Iterations: 1|0 Collecting into between 2020-08-01 - 2020-08-03 @ 2020-08-03 11:40:28.030421|Marking as Inactive\n",
      "669 PAGEIND-Iterations: 1|0 Collecting into between 2020-07-31 - 2020-08-03 @ 2020-08-03 11:40:28.615091|1 0|670 AMDIND-Iterations: 1|0 Collecting into between 2020-07-31 - 2020-08-03 @ 2020-08-03 11:40:28.858247|1 0|671 ASTRAL-Iterations: 1|0 Collecting into between 2020-07-31 - 2020-08-03 @ 2020-08-03 11:40:29.328876|1 0|672 IBREALEST-Iterations: 1|0 Collecting into between 2020-07-31 - 2020-08-03 @ 2020-08-03 11:40:29.596590|1 0|673 CAMLINFINE-Iterations: 1|0 Collecting into between 2020-07-31 - 2020-08-03 @ 2020-08-03 11:40:29.860323|1 0|674 ICRA-Iterations: 1|0 Collecting into between 2020-07-31 - 2020-08-03 @ 2020-08-03 11:40:30.255036|1 0|675 DISHTV-Iterations: 1|0 Collecting into between 2020-07-31 - 2020-08-03 @ 2020-08-03 11:40:30.511784|1 0|676 SRHHYPOLTD-Iterations: 1|0 Collecting into between 2020-07-31 - 2020-08-03 @ 2020-08-03 11:40:30.757319|1 0|677 FORTIS-Iterations: 1|0 Collecting into between 2020-07-31 - 2020-08-03 @ 2020-08-03 11:40:35.158601|1 0|678 TGBHOTELS-Iterations: 1|0 Collecting into between 2020-06-18 - 2020-08-03 @ 2020-08-03 11:40:36.742265|Marking as Inactive\n"
     ]
    },
    {
     "name": "stdout",
     "output_type": "stream",
     "text": [
      "679 DELTACORP-Iterations: 1|0 Collecting into between 2020-07-31 - 2020-08-03 @ 2020-08-03 11:40:37.123330|1 0|680 INSECTICID-Iterations: 1|0 Collecting into between 2020-07-31 - 2020-08-03 @ 2020-08-03 11:40:37.340464|1 0|681 MCDHOLDING-Iterations: 1|0 Collecting into between 2020-07-31 - 2020-08-03 @ 2020-08-03 11:40:37.819134|1 0|682 ASAHISONG-Iterations: 1|0 Collecting into between 2020-07-31 - 2020-08-03 @ 2020-08-03 11:40:38.056960|1 0|683 TIMETECHNO-Iterations: 1|0 Collecting into between 2020-07-31 - 2020-08-03 @ 2020-08-03 11:40:38.450406|1 0|684 HGS-Iterations: 1|0 Collecting into between 2020-07-31 - 2020-08-03 @ 2020-08-03 11:40:38.689258|1 0|685 NELCAST-Iterations: 1|0 Collecting into between 2020-07-31 - 2020-08-03 @ 2020-08-03 11:40:39.071021|1 0|686 MEGH-Iterations: 1|0 Collecting into between 2020-07-31 - 2020-08-03 @ 2020-08-03 11:40:39.299880|1 0|687 DLF-Iterations: 1|0 Collecting into between 2020-07-31 - 2020-08-03 @ 2020-08-03 11:40:39.547176|1 0|688 TARMAT-Iterations: 1|0 Collecting into between 2020-07-31 - 2020-08-03 @ 2020-08-03 11:40:39.825104|1 0|689 SPARC-Iterations: 1|0 Collecting into between 2020-07-31 - 2020-08-03 @ 2020-08-03 11:40:40.168890|1 0|690 OMAXE-Iterations: 1|0 Collecting into between 2020-07-31 - 2020-08-03 @ 2020-08-03 11:40:40.419735|1 0|691 CENTRALBK-Iterations: 1|0 Collecting into between 2020-07-31 - 2020-08-03 @ 2020-08-03 11:40:40.640597|1 0|692 KPRMILL-Iterations: 1|0 Collecting into between 2020-07-31 - 2020-08-03 @ 2020-08-03 11:40:40.855464|1 0|693 ASIANTILES-Iterations: 1|0 Collecting into between 2020-07-31 - 2020-08-03 @ 2020-08-03 11:40:41.057340|1 0|694 TAKE-Iterations: 1|0 Collecting into between 2020-07-31 - 2020-08-03 @ 2020-08-03 11:40:41.280201|1 0|695 PURVA-Iterations: 1|0 Collecting into between 2020-07-31 - 2020-08-03 @ 2020-08-03 11:40:41.485074|1 0|696 MOTILALOFS-Iterations: 1|0 Collecting into between 2020-07-31 - 2020-08-03 @ 2020-08-03 11:40:41.685950|1 0|697 POWERGRID-Iterations: 1|0 Collecting into between 2020-07-31 - 2020-08-03 @ 2020-08-03 11:40:41.951239|1 0|698 KSCL-Iterations: 1|0 Collecting into between 2020-07-31 - 2020-08-03 @ 2020-08-03 11:40:42.337001|1 0|699 MAANALU-Iterations: 1|0 Collecting into between 2020-07-31 - 2020-08-03 @ 2020-08-03 11:40:42.582015|1 0|700 RELIGARE-Iterations: 1|0 Collecting into between 2020-07-31 - 2020-08-03 @ 2020-08-03 11:40:42.967917|1 0|701 ADANIPORTS-Iterations: 1|0 Collecting into between 2020-07-31 - 2020-08-03 @ 2020-08-03 11:40:43.202935|1 0|702 EDELWEISS-Iterations: 1|0 Collecting into between 2020-07-31 - 2020-08-03 @ 2020-08-03 11:40:43.586364|1 0|703 KOLTEPATIL-Iterations: 1|0 Collecting into between 2020-07-31 - 2020-08-03 @ 2020-08-03 11:40:43.825976|1 0|704 JYOTHYLAB-Iterations: 1|0 Collecting into between 2020-07-31 - 2020-08-03 @ 2020-08-03 11:40:44.060715|1 0|705 ECLERX-Iterations: 1|0 Collecting into between 2020-07-31 - 2020-08-03 @ 2020-08-03 11:40:44.308127|1 0|706 TRIL-Iterations: 1|0 Collecting into between 2020-07-31 - 2020-08-03 @ 2020-08-03 11:40:44.717130|1 0|707 BRIGADE-Iterations: 1|0 Collecting into between 2020-07-31 - 2020-08-03 @ 2020-08-03 11:40:44.957236|1 0|708 BGRENERGY-Iterations: 1|0 Collecting into between 2020-07-16 - 2020-08-03 @ 2020-08-03 11:40:45.165973|Marking as Inactive\n",
      "709 MANAKSIA-Iterations: 1|0 Collecting into between 2020-02-29 - 2020-08-03 @ 2020-08-03 11:40:45.428419|50 0|710 PPAP-Iterations: 1|0 Collecting into between 2020-07-31 - 2020-08-03 @ 2020-08-03 11:40:45.785391|1 0|711 ARIES-Iterations: 1|0 Collecting into between 2020-07-31 - 2020-08-03 @ 2020-08-03 11:40:46.585963|1 0|712 RPOWER-Iterations: 1|0 Collecting into between 2020-07-31 - 2020-08-03 @ 2020-08-03 11:40:47.392225|1 0|713 JKIL-Iterations: 1|0 Collecting into between 2020-07-31 - 2020-08-03 @ 2020-08-03 11:40:47.624835|1 0|714 CORDSCABLE-Iterations: 1|0 Collecting into between 2020-07-31 - 2020-08-03 @ 2020-08-03 11:40:47.858998|1 0|715 KNRCON-Iterations: 1|0 Collecting into between 2020-07-31 - 2020-08-03 @ 2020-08-03 11:40:48.093027|1 0|716 ONMOBILE-Iterations: 1|0 Collecting into between 2020-07-31 - 2020-08-03 @ 2020-08-03 11:40:48.329298|1 0|717 SHRIRAMEPC-Iterations: 1|0 Collecting into between 2020-07-31 - 2020-08-03 @ 2020-08-03 11:40:48.564295|1 0|718 IRB-Iterations: 1|0 Collecting into between 2020-07-18 - 2020-08-03 @ 2020-08-03 11:40:48.848906|Marking as Inactive\n",
      "719 GSS-Iterations: 1|0 Collecting into between 2020-07-31 - 2020-08-03 @ 2020-08-03 11:40:49.072297|1 0|720 NAHARCAP-Iterations: 1|0 Collecting into between 2020-07-31 - 2020-08-03 @ 2020-08-03 11:40:49.458714|1 0|721 VGUARD-Iterations: 1|0 Collecting into between 2020-07-31 - 2020-08-03 @ 2020-08-03 11:40:49.685741|1 0|722 RECLTD-Iterations: 1|0 Collecting into between 2020-07-31 - 2020-08-03 @ 2020-08-03 11:40:49.888866|1 0|723 GAMMNINFRA-Iterations: 1|0 Collecting into between 2020-07-02 - 2020-08-03 @ 2020-08-03 11:40:50.128683|Marking as Inactive\n",
      "724 TWL-Iterations: 1|0 Collecting into between 2020-07-31 - 2020-08-03 @ 2020-08-03 11:40:50.359689|1 0|725 KIRIINDUS-Iterations: 1|0 Collecting into between 2020-07-31 - 2020-08-03 @ 2020-08-03 11:40:50.617702|1 0|726 BAJAJFINSV-Iterations: 1|0 Collecting into between 2020-07-31 - 2020-08-03 @ 2020-08-03 11:40:51.015945|1 0|727 BAJAJ-AUTO-Iterations: 1|0 Collecting into between 2020-07-31 - 2020-08-03 @ 2020-08-03 11:40:51.253959|1 0|728 RPGLIFE-Iterations: 1|0 Collecting into between 2020-07-31 - 2020-08-03 @ 2020-08-03 11:40:51.484404|1 0|729 RBL-Iterations: 1|0 Collecting into between 2020-07-31 - 2020-08-03 @ 2020-08-03 11:40:51.729433|1 0|730 RANEENGINE-Iterations: 1|0 Collecting into between 2020-07-31 - 2020-08-03 @ 2020-08-03 11:40:51.959492|1 0|731 ARCHIDPLY-Iterations: 1|0 Collecting into between 2020-07-31 - 2020-08-03 @ 2020-08-03 11:40:52.177980|1 0|732 LPDC-Iterations: 1|0 Collecting into between 2020-02-29 - 2020-08-03 @ 2020-08-03 11:40:52.465826|40 0|733 SICAGEN-Iterations: 1|0 Collecting into between 2020-07-31 - 2020-08-03 @ 2020-08-03 11:40:52.804863|1 0|734 20MICRONS-Iterations: 1|0 Collecting into between 2020-07-31 - 2020-08-03 @ 2020-08-03 11:40:53.033083|1 0|735 WABCOINDIA-Iterations: 1|0 Collecting into between 2020-07-31 - 2020-08-03 @ 2020-08-03 11:40:53.285546|1 0|736 ALKALI-Iterations: 1|0 Collecting into between 2020-07-31 - 2020-08-03 @ 2020-08-03 11:40:53.666627|1 0|737 IMFA-Iterations: 1|0 Collecting into between 2020-07-31 - 2020-08-03 @ 2020-08-03 11:40:53.905058|1 0|738 ARROWTEX-Iterations: 1|0 Collecting into between 2020-01-02 - 2020-08-03 @ 2020-08-03 11:40:54.281443|Marking as Inactive\n",
      "739 MHRIL-Iterations: 1|0 Collecting into between 2020-07-31 - 2020-08-03 @ 2020-08-03 11:40:54.771157|1 0|740 NHPC-Iterations: 1|0 Collecting into between 2020-07-31 - 2020-08-03 @ 2020-08-03 11:40:55.200729|1 0|741 GLOBUSSPR-Iterations: 1|0 Collecting into between 2020-07-31 - 2020-08-03 @ 2020-08-03 11:40:55.586790|1 0|742 OIL-Iterations: 1|0 Collecting into between 2020-07-31 - 2020-08-03 @ 2020-08-03 11:40:55.972940|1 0|743 RTNPOWER-Iterations: 1|0 Collecting into between 2020-07-31 - 2020-08-03 @ 2020-08-03 11:40:56.345176|1 0|744 DEN-Iterations: 1|0 Collecting into between 2020-07-31 - 2020-08-03 @ 2020-08-03 11:40:56.754777|1 0|745 ASTEC-Iterations: 1|0 Collecting into between 2020-07-31 - 2020-08-03 @ 2020-08-03 11:40:57.153489|1 0|746 COX&KINGS-Iterations: 1|0 Collecting into between 2019-12-25 - 2020-08-03 @ 2020-08-03 11:40:58.286369|Marking as Inactive\n"
     ]
    },
    {
     "name": "stdout",
     "output_type": "stream",
     "text": [
      "747 DLINKINDIA-Iterations: 1|0 Collecting into between 2020-07-31 - 2020-08-03 @ 2020-08-03 11:40:58.752046|1 0|748 JSWENERGY-Iterations: 1|0 Collecting into between 2020-07-31 - 2020-08-03 @ 2020-08-03 11:40:59.132903|1 0|749 GODREJPROP-Iterations: 1|0 Collecting into between 2020-07-31 - 2020-08-03 @ 2020-08-03 11:40:59.511855|1 0|750 DBCORP-Iterations: 1|0 Collecting into between 2020-07-31 - 2020-08-03 @ 2020-08-03 11:40:59.878342|1 0|751 JUBLFOOD-Iterations: 1|0 Collecting into between 2020-07-31 - 2020-08-03 @ 2020-08-03 11:41:00.666699|1 0|752 VASCONEQ-Iterations: 1|0 Collecting into between 2020-07-31 - 2020-08-03 @ 2020-08-03 11:41:01.065922|1 0|753 THANGAMAYL-Iterations: 1|0 Collecting into between 2020-07-31 - 2020-08-03 @ 2020-08-03 11:41:01.874846|1 0|754 EMMBI-Iterations: 1|0 Collecting into between 2020-07-31 - 2020-08-03 @ 2020-08-03 11:41:02.272179|1 0|755 HATHWAY-Iterations: 1|0 Collecting into between 2020-07-23 - 2020-08-03 @ 2020-08-03 11:41:02.743195|Marking as Inactive\n",
      "756 TEXMOPIPES-Iterations: 1|0 Collecting into between 2020-07-31 - 2020-08-03 @ 2020-08-03 11:41:03.123253|1 0|757 SUNDARAM-Iterations: 1|0 Collecting into between 2020-07-02 - 2020-08-03 @ 2020-08-03 11:41:03.507244|Marking as Inactive\n",
      "758 ROSSELLIND-Iterations: 1|0 Collecting into between 2020-07-31 - 2020-08-03 @ 2020-08-03 11:41:03.892266|1 0|759 MANINFRA-Iterations: 1|0 Collecting into between 2020-07-31 - 2020-08-03 @ 2020-08-03 11:41:04.263175|1 0|760 UNITEDBNK-Iterations: 1|0 Collecting into between 2020-02-29 - 2020-08-03 @ 2020-08-03 11:41:04.655598|14 0|761 PERSISTENT-Iterations: 1|0 Collecting into between 2020-07-31 - 2020-08-03 @ 2020-08-03 11:41:05.112730|1 0|762 ISFT-Iterations: 1|0 Collecting into between 2020-02-29 - 2020-08-03 @ 2020-08-03 11:41:05.512749|55 0|763 KCPSUGIND-Iterations: 1|0 Collecting into between 2020-07-31 - 2020-08-03 @ 2020-08-03 11:41:06.131632|1 0|764 KECL-Iterations: 1|0 Collecting into between 2020-07-31 - 2020-08-03 @ 2020-08-03 11:41:06.358365|1 0|765 TALWALKARS-Iterations: 1|0 Collecting into between 2020-02-21 - 2020-08-03 @ 2020-08-03 11:41:06.731235|Marking as Inactive\n",
      "766 SJVN-Iterations: 1|0 Collecting into between 2020-07-31 - 2020-08-03 @ 2020-08-03 11:41:07.753370|1 0|767 HMVL-Iterations: 1|0 Collecting into between 2020-07-31 - 2020-08-03 @ 2020-08-03 11:41:08.549253|1 0|768 AHLEAST-Iterations: 1|0 Collecting into between 2020-07-31 - 2020-08-03 @ 2020-08-03 11:41:08.909123|1 0|769 GPPL-Iterations: 1|0 Collecting into between 2020-07-31 - 2020-08-03 @ 2020-08-03 11:41:09.266097|1 0|770 WELINV-Iterations: 1|0 Collecting into between 2020-07-31 - 2020-08-03 @ 2020-08-03 11:41:09.662487|1 0|771 EROSMEDIA-Iterations: 1|0 Collecting into between 2020-07-31 - 2020-08-03 @ 2020-08-03 11:41:10.079146|1 0|772 RAMKY-Iterations: 1|0 Collecting into between 2020-07-31 - 2020-08-03 @ 2020-08-03 11:41:10.459494|1 0|773 CAREERP-Iterations: 1|0 Collecting into between 2020-07-31 - 2020-08-03 @ 2020-08-03 11:41:10.846996|1 0|774 CANTABIL-Iterations: 1|0 Collecting into between 2020-07-31 - 2020-08-03 @ 2020-08-03 11:41:11.254903|1 0|775 WABAG-Iterations: 1|0 Collecting into between 2020-07-31 - 2020-08-03 @ 2020-08-03 11:41:11.637338|1 0|776 ASHOKA-Iterations: 1|0 Collecting into between 2020-07-31 - 2020-08-03 @ 2020-08-03 11:41:12.005109|1 0|777 OBEROIRLTY-Iterations: 1|0 Collecting into between 2020-07-31 - 2020-08-03 @ 2020-08-03 11:41:12.360831|1 0|778 PRESTIGE-Iterations: 1|0 Collecting into between 2020-07-31 - 2020-08-03 @ 2020-08-03 11:41:12.813530|1 0|779 COALINDIA-Iterations: 1|0 Collecting into between 2020-07-31 - 2020-08-03 @ 2020-08-03 11:41:13.198218|1 0|780 GRAVITA-Iterations: 1|0 Collecting into between 2020-07-31 - 2020-08-03 @ 2020-08-03 11:41:13.574020|1 0|781 RPPINFRA-Iterations: 1|0 Collecting into between 2020-07-31 - 2020-08-03 @ 2020-08-03 11:41:13.965643|1 0|782 MOIL-Iterations: 1|0 Collecting into between 2020-07-31 - 2020-08-03 @ 2020-08-03 11:41:14.351176|1 0|783 ZEELEARN-Iterations: 1|0 Collecting into between 2020-07-31 - 2020-08-03 @ 2020-08-03 11:41:14.784940|1 0|784 KTIL-Iterations: 1|0 Collecting into between 2019-12-31 - 2020-08-03 @ 2020-08-03 11:41:15.178024|Marking as Inactive\n",
      "785 A2ZINFRA-Iterations: 1|0 Collecting into between 2020-07-31 - 2020-08-03 @ 2020-08-03 11:41:15.593578|1 0|786 KIRLOSENG-Iterations: 1|0 Collecting into between 2020-07-31 - 2020-08-03 @ 2020-08-03 11:41:15.988496|1 0|787 PSB-Iterations: 1|0 Collecting into between 2020-07-31 - 2020-08-03 @ 2020-08-03 11:41:16.422640|1 0|788 FMNL-Iterations: 1|0 Collecting into between 2020-07-31 - 2020-08-03 @ 2020-08-03 11:41:16.837347|1 0|789 KICL-Iterations: 1|0 Collecting into between 2020-07-31 - 2020-08-03 @ 2020-08-03 11:41:17.218246|1 0|790 BFINVEST-Iterations: 1|0 Collecting into between 2020-07-31 - 2020-08-03 @ 2020-08-03 11:41:17.636365|1 0|791 OMKARCHEM-Iterations: 1|0 Collecting into between 2020-02-29 - 2020-08-03 @ 2020-08-03 11:41:18.025528|42 0|792 JUBLINDS-Iterations: 1|0 Collecting into between 2020-07-31 - 2020-08-03 @ 2020-08-03 11:41:18.530879|1 0|793 TEXRAIL-Iterations: 1|0 Collecting into between 2020-07-31 - 2020-08-03 @ 2020-08-03 11:41:19.257694|1 0|794 INDTERRAIN-Iterations: 1|0 Collecting into between 2020-07-31 - 2020-08-03 @ 2020-08-03 11:41:19.673174|1 0|795 FCL-Iterations: 1|0 Collecting into between 2020-07-31 - 2020-08-03 @ 2020-08-03 11:41:20.026902|1 0|796 DHUNINV-Iterations: 1|0 Collecting into between 2020-07-31 - 2020-08-03 @ 2020-08-03 11:41:20.404485|1 0|797 LOVABLE-Iterations: 1|0 Collecting into between 2020-07-31 - 2020-08-03 @ 2020-08-03 11:41:20.908071|1 0|798 PFS-Iterations: 1|0 Collecting into between 2020-07-31 - 2020-08-03 @ 2020-08-03 11:41:21.272991|1 0|799 MUTHOOTFIN-Iterations: 1|0 Collecting into between 2020-07-31 - 2020-08-03 @ 2020-08-03 11:41:21.688372|1 0|800 KARMAENG-Iterations: 1|0 Collecting into between 2019-12-10 - 2020-08-03 @ 2020-08-03 11:41:22.104934|92 0|801 WEIZFOREX-Iterations: 1|0 Collecting into between 2020-02-27 - 2020-08-03 @ 2020-08-03 11:41:22.819963|Marking as Inactive\n",
      "802 RUSHIL-Iterations: 1|0 Collecting into between 2020-07-31 - 2020-08-03 @ 2020-08-03 11:41:23.257894|1 0|803 INVENTURE-Iterations: 1|0 Collecting into between 2020-02-29 - 2020-08-03 @ 2020-08-03 11:41:23.634001|74 0|804 L&TFH-Iterations: 1|0 Collecting into between 2020-07-31 - 2020-08-03 @ 2020-08-03 11:41:24.150859|1 0|805 BROOKS-Iterations: 1|0 Collecting into between 2020-02-29 - 2020-08-03 @ 2020-08-03 11:41:24.593731|42 0|806 RUPA-Iterations: 1|0 Collecting into between 2020-07-31 - 2020-08-03 @ 2020-08-03 11:41:25.141132|1 0|807 TDPOWERSYS-Iterations: 1|0 Collecting into between 2020-07-31 - 2020-08-03 @ 2020-08-03 11:41:25.506196|1 0|808 APLLTD-Iterations: 1|0 Collecting into between 2020-07-31 - 2020-08-03 @ 2020-08-03 11:41:25.856213|1 0|809 VASWANI-Iterations: 1|0 Collecting into between 2020-06-18 - 2020-08-03 @ 2020-08-03 11:41:26.145466|Marking as Inactive\n",
      "810 PGEL-Iterations: 1|0 Collecting into between 2020-07-31 - 2020-08-03 @ 2020-08-03 11:41:26.572660|1 0|811 UJAAS-Iterations: 1|0 Collecting into between 2020-07-31 - 2020-08-03 @ 2020-08-03 11:41:26.942883|1 0|812 ORIENTREF-Iterations: 1|0 Collecting into between 2020-07-31 - 2020-08-03 @ 2020-08-03 11:41:27.298929|1 0|813 MCX-Iterations: 1|0 Collecting into between 2020-07-31 - 2020-08-03 @ 2020-08-03 11:41:27.688524|1 0|814 SCHNEIDER-Iterations: 1|0 Collecting into between 2020-07-31 - 2020-08-03 @ 2020-08-03 11:41:28.074714|1 0|815 NBCC-Iterations: 1|0 Collecting into between 2020-07-31 - 2020-08-03 @ 2020-08-03 11:41:28.438170|1 0|816 MTEDUCARE-Iterations: 1|0 Collecting into between 2020-07-31 - 2020-08-03 @ 2020-08-03 11:41:29.476541|1 0|817 TBZ-Iterations: 1|0 Collecting into between 2020-07-31 - 2020-08-03 @ 2020-08-03 11:41:29.877575|1 0|818 VSSL-Iterations: 1|0 Collecting into between 2020-06-18 - 2020-08-03 @ 2020-08-03 11:41:30.249249|Marking as Inactive\n"
     ]
    },
    {
     "name": "stdout",
     "output_type": "stream",
     "text": [
      "819 SPECIALITY-Iterations: 1|0 Collecting into between 2020-07-31 - 2020-08-03 @ 2020-08-03 11:41:30.790249|1 0|820 LYPSAGEMS-Iterations: 1|0 Collecting into between 2020-07-31 - 2020-08-03 @ 2020-08-03 11:41:31.167718|1 0|821 LAKSHVILAS-Iterations: 1|0 Collecting into between 2020-07-31 - 2020-08-03 @ 2020-08-03 11:41:31.553815|1 0|822 ZUARI-Iterations: 1|0 Collecting into between 2020-07-31 - 2020-08-03 @ 2020-08-03 11:41:31.773772|1 0|823 CARERATING-Iterations: 1|0 Collecting into between 2020-07-31 - 2020-08-03 @ 2020-08-03 11:41:32.111747|1 0|824 PCJEWELLER-Iterations: 1|0 Collecting into between 2020-07-31 - 2020-08-03 @ 2020-08-03 11:41:32.678532|1 0|825 INFRATEL-Iterations: 1|0 Collecting into between 2020-07-31 - 2020-08-03 @ 2020-08-03 11:41:33.050511|1 0|826 VMART-Iterations: 1|0 Collecting into between 2020-07-31 - 2020-08-03 @ 2020-08-03 11:41:33.286521|1 0|827 REPCOHOME-Iterations: 1|0 Collecting into between 2020-07-31 - 2020-08-03 @ 2020-08-03 11:41:33.669498|1 0|828 JUSTDIAL-Iterations: 1|0 Collecting into between 2020-07-31 - 2020-08-03 @ 2020-08-03 11:41:34.045013|1 0|829 ORIENTCEM-Iterations: 1|0 Collecting into between 2020-07-31 - 2020-08-03 @ 2020-08-03 11:41:34.435775|1 0|830 IBULHSGFIN-Iterations: 1|0 Collecting into between 2020-07-31 - 2020-08-03 @ 2020-08-03 11:41:34.841574|1 0|831 FLFL-Iterations: 1|0 Collecting into between 2020-07-31 - 2020-08-03 @ 2020-08-03 11:41:35.697773|1 0|832 JPOLYINVST-Iterations: 1|0 Collecting into between 2020-06-18 - 2020-08-03 @ 2020-08-03 11:41:36.095754|Marking as Inactive\n",
      "833 M100-Iterations: 1|0 Collecting into between 2020-07-31 - 2020-08-03 @ 2020-08-03 11:41:36.475344|1 0|834 KOTAKNIFTY-Iterations: 1|0 Collecting into between 2020-07-31 - 2020-08-03 @ 2020-08-03 11:41:42.118142|1 0|835 CPSEETF-Iterations: 1|0 Collecting into between 2020-07-31 - 2020-08-03 @ 2020-08-03 11:41:42.545455|1 0|836 WONDERLA-Iterations: 1|0 Collecting into between 2020-07-31 - 2020-08-03 @ 2020-08-03 11:41:43.006159|1 0|837 GULFOILLUB-Iterations: 1|0 Collecting into between 2020-07-31 - 2020-08-03 @ 2020-08-03 11:41:43.373228|1 0|838 SNOWMAN-Iterations: 1|0 Collecting into between 2020-07-31 - 2020-08-03 @ 2020-08-03 11:41:43.754291|1 0|839 SHARDACROP-Iterations: 1|0 Collecting into between 2020-07-31 - 2020-08-03 @ 2020-08-03 11:41:44.092105|1 0|840 SHEMAROO-Iterations: 1|0 Collecting into between 2020-07-31 - 2020-08-03 @ 2020-08-03 11:41:44.570893|1 0|841 PDSMFL-Iterations: 1|0 Collecting into between 2020-07-31 - 2020-08-03 @ 2020-08-03 11:41:44.974646|1 0|842 INTELLECT-Iterations: 1|0 Collecting into between 2020-07-31 - 2020-08-03 @ 2020-08-03 11:41:45.591261|1 0|843 MONTECARLO-Iterations: 1|0 Collecting into between 2020-07-31 - 2020-08-03 @ 2020-08-03 11:41:45.950039|1 0|844 MINDACORP-Iterations: 1|0 Collecting into between 2020-07-31 - 2020-08-03 @ 2020-08-03 11:41:46.312343|1 0|845 INOXWIND-Iterations: 1|0 Collecting into between 2020-07-31 - 2020-08-03 @ 2020-08-03 11:41:46.917831|1 0|846 BINDALAGRO-Iterations: 1|0 Collecting into between 2020-07-31 - 2020-08-03 @ 2020-08-03 11:41:47.425815|1 0|847 PRICOLLTD-Iterations: 1|0 Collecting into between 2020-07-31 - 2020-08-03 @ 2020-08-03 11:41:47.620339|1 0|848 TATAMTRDVR-Iterations: 1|0 Collecting into between 2020-07-31 - 2020-08-03 @ 2020-08-03 11:41:47.999588|1 0|849 JISLDVREQS-Iterations: 1|0 Collecting into between 2020-02-29 - 2020-08-03 @ 2020-08-03 11:41:48.197478|42 0|850 KARURVYSYA-Iterations: 1|0 Collecting into between 2020-07-31 - 2020-08-03 @ 2020-08-03 11:41:48.701508|1 0|851 TIDEWATER-Iterations: 1|0 Collecting into between 2020-07-31 - 2020-08-03 @ 2020-08-03 11:41:48.963569|1 0|852 AMRUTANJAN-Iterations: 1|0 Collecting into between 2020-07-31 - 2020-08-03 @ 2020-08-03 11:41:49.188147|1 0|853 XPROINDIA-Iterations: 1|0 Collecting into between 2020-07-02 - 2020-08-03 @ 2020-08-03 11:41:49.540283|Marking as Inactive\n",
      "854 BHARATRAS-Iterations: 1|0 Collecting into between 2020-07-31 - 2020-08-03 @ 2020-08-03 11:41:49.767790|1 0|855 FACT-Iterations: 1|0 Collecting into between 2020-08-01 - 2020-08-03 @ 2020-08-03 11:41:49.983768|Marking as Inactive\n",
      "856 GINNIFILA-Iterations: 1|0 Collecting into between 2020-07-02 - 2020-08-03 @ 2020-08-03 11:41:50.216102|Marking as Inactive\n",
      "857 SPIC-Iterations: 1|0 Collecting into between 2020-08-01 - 2020-08-03 @ 2020-08-03 11:41:50.436094|Marking as Inactive\n",
      "858 DENORA-Iterations: 1|0 Collecting into between 2020-07-31 - 2020-08-03 @ 2020-08-03 11:41:50.687103|1 0|859 HARITASEAT-Iterations: 1|0 Collecting into between 2020-07-31 - 2020-08-03 @ 2020-08-03 11:41:50.925109|1 0|860 SAKSOFT-Iterations: 1|0 Collecting into between 2020-07-31 - 2020-08-03 @ 2020-08-03 11:41:51.300263|1 0|861 ANDHRSUGAR-Iterations: 1|0 Collecting into between 2020-07-31 - 2020-08-03 @ 2020-08-03 11:41:51.556317|1 0|862 IMPAL-Iterations: 1|0 Collecting into between 2020-07-31 - 2020-08-03 @ 2020-08-03 11:41:51.784222|1 0|863 KCP-Iterations: 1|0 Collecting into between 2020-07-31 - 2020-08-03 @ 2020-08-03 11:41:52.040243|1 0|864 SUNDARMFIN-Iterations: 1|0 Collecting into between 2020-07-31 - 2020-08-03 @ 2020-08-03 11:41:52.763193|1 0|865 SUNDRMBRAK-Iterations: 1|0 Collecting into between 2020-07-31 - 2020-08-03 @ 2020-08-03 11:41:53.010214|1 0|866 WHEELS-Iterations: 1|0 Collecting into between 2020-07-31 - 2020-08-03 @ 2020-08-03 11:41:53.261011|1 0|867 MAITHANALL-Iterations: 1|0 Collecting into between 2020-07-31 - 2020-08-03 @ 2020-08-03 11:41:53.504891|1 0|868 ORISSAMINE-Iterations: 1|0 Collecting into between 2020-07-31 - 2020-08-03 @ 2020-08-03 11:41:53.907576|1 0|869 NIFTYBEES-Iterations: 1|0 Collecting into between 2020-07-31 - 2020-08-03 @ 2020-08-03 11:41:54.263876|1 0|870 JUNIORBEES-Iterations: 1|0 Collecting into between 2020-07-31 - 2020-08-03 @ 2020-08-03 11:41:54.511159|1 0|871 BANKBEES-Iterations: 1|0 Collecting into between 2020-07-31 - 2020-08-03 @ 2020-08-03 11:41:54.750659|1 0|872 KOTAKPSUBK-Iterations: 1|0 Collecting into between 2020-07-31 - 2020-08-03 @ 2020-08-03 11:41:55.006470|1 0|873 PSUBNKBEES-Iterations: 1|0 Collecting into between 2020-07-31 - 2020-08-03 @ 2020-08-03 11:41:55.267954|1 0|874 M50-Iterations: 1|0 Collecting into between 2020-07-31 - 2020-08-03 @ 2020-08-03 11:41:55.512414|1 0|875 MADRASFERT-Iterations: 1|0 Collecting into between 2020-08-01 - 2020-08-03 @ 2020-08-03 11:41:55.896755|Marking as Inactive\n"
     ]
    }
   ],
   "source": [
    "dataCollector()"
   ]
  },
  {
   "cell_type": "code",
   "execution_count": 8,
   "metadata": {},
   "outputs": [
    {
     "name": "stderr",
     "output_type": "stream",
     "text": [
      "C:\\ProgramData\\Anaconda3\\lib\\site-packages\\ipykernel_launcher.py:2: DeprecationWarning: count is deprecated. Use Collection.count_documents instead.\n",
      "  \n",
      "C:\\ProgramData\\Anaconda3\\lib\\site-packages\\ipykernel_launcher.py:7: DeprecationWarning: count is deprecated. Use Collection.count_documents instead.\n",
      "  import sys\n"
     ]
    },
    {
     "name": "stdout",
     "output_type": "stream",
     "text": [
      "1357\n",
      "ABB|AMARAJABAT|HDFC|ANSALAPI|ASIANHOTNR|ATUL|AUTOLITIND|BAJAJHIND|BAJFINANCE|BALRAMCHIN|BANCOINDIA|CENTURYTEX|BASF|BATAINDIA|BANARISUG|BEL|BEML|BEPL|BLUESTARCO|BPL|CENTEXT|CESC|CHAMBLFERT|EXIDEIND|CIPLA|DICIND|CRISIL|DABUR|DALMIASUG|ARVIND|BALLARPUR|BHEL|HINDPETRO|IFCI|MTNL|MRPL|CHENNPETRO|RELCAPITAL|SAIL|TITAN|IDBI|DCW|DHAMPURSUG|DRREDDY|EIDPARRY|ELECTCAST|SBIN|ESABINDIA|UFLEX|FOSECOIND|GODREJIND|KANSAINER|GHCL|HCL-INSYS|HDFCBANK|HEROMOTOCO|HFCL|HCC|HINDOILEXP|HSIL|HINDZINC|INDIAGLYCO|INDORAMA|INFY|INGERRAND|ATFL|JISLJALEQS|JINDALPOLY|JSWSTEEL|KAJARIACER|KAKATCEM|KSL|WHIRLPOOL|KIRLOSBROS|KIRLOSIND|KOTAKBANK|LGBBROSLTD|TRENT|LAXMIMACH|LICHSGFIN|LUPIN|LYKALABS|RAMCOCEM|MAHSEAMLES|MAHSCOOTER|MANALIPETC|MIRCELECTR|CENTENKA|MOREPENLAB|MRF|HEIDELBERG|NCC|NAHARSPING|GRASIM|PEL|NIITLTD|ONGC|ORIENTHOT|ORIENTBANK|RELIANCE|BIRLACORPN|PIDILITIND|PRIMESECU|RAYMOND|SURYAROSNI|RSWM|RAMANEWS|RALLIS|JINDALSAW|JKLAKSHMI|SHREECEM|RELINFRA|TATAPOWER|SPMLINFRA|SUNDRMFAST|SUNFLAG|SUPPETRO|SWARAJENG|TATAELXSI|ACC|THERMAX|TIRUMALCHM|THOMASCOOK|TOKYOPLAST|TORNTPHARM|AMBUJACEM|VHL|HINDALCO|WSTCSTPAPR|MUKANDLTD|UCALFUEL|HARRMALAYA|FEDERALBNK|TATASTEEL|SKFINDIA|ASHOKLEY|CUMMINSIND|TATACOMM|ABBOTINDIA|BAJAJHLDNG|BHARATFORG|ESCORTS|PGHH|LT|M&M|BOSCHLTD|BPCL|SIEMENS|TATAMOTORS|VOLTAS|GESHIP|DEEPAKFERT|EXCELINDUS|GLAXO|GNFC|SANOFI|GSKCONS|PFIZER|GSFC|HINDUNILVR|AKZOINDIA|NOCIL|SPIC|TATACHEM|TNPETRO|ZUARIGLOB|NESTLEIND|ASIANPAINT|BRITANNIA|COLPAL|EIHOTEL|INDHOTEL|CASTROLIND|ITC|APOLLOTYRE|CEATLTD|TCIFINANCE|TATAINVEST|BBTC|GREAVESCOT|SAGCEM|DECCANCE|MANGLMCEM|NCLIND|BALKRISIND|ORIENTPPR|SESHAPAPER|DCM|KESORAMIND|VTL|PENINLAND|PHOENIXLTD|RUBYMILLS|SWANENERGY|BANSWRAS|SRF|SIYSIL|BBL|HIRECT|NIPPOBATRY|ZENSARTECH|SARDAEN|INDIANHUME|ORIENTABRA|TINPLATE|AUTOAXLES|TALBROAUTO|SMLISUZU|TIL|DYNAMATECH|EICHERMOT|NESCO|MANUGRAPH|REVATHI|TEXINFRA|WENDT|RESPONIND|ZEEL|BHARATGEAR|ELECON|GABRIEL|HERCULES|IFBIND|FMGOETZE|RANEHOLDIN|TRF|PRAKASH|GRINDWELL|GENESYS|BLISSGVS|ALEMBICLTD|BAYERCROP|COROMANDEL|KANORICHEM|PHILIPCARB|PUNJABCHEM|SUDARSCHEM|UNICHEMLAB|ALKYLAMINE|ASTRAZEN|JBCHEPHARM|WALCHANNAG|GMBREW|WIPRO|DHANUKA|JAGSNPHARM|GILLETTE|VIPIND|COSMOFILMS|APOLLOHOSP|EVERESTIND|NAVNETEDUL|VISAKAIND|PRESSMN|GUFICBIO|PTL|TVSSRICHAK|BERGEPAINT|GRAPHITE|ITDCEM|HEG|HINDCOMPOS|HIL|PAPERPROD|SHALPAINTS|SUPREMEIND|VSTIND|JINDRILL|DHFL|CANFINHOME|IVC|CHOLAFIN|VLSFINANCE|VAKRANGEE|INDBANK|GICHSGFIN|UPL|SUNTECK|JAICORPLTD|DONEAR|ADANIENT|ORBTEXP|NBVENTURES|GANDHITUBE|SSWL|MANINDS|AJMERA|CARBORUNIV|MMTC|TATAMETALI|SRIPIPES|HINDCOPPER|AROGRANITE|HIMATSEIDE|BSL|TTL|WELSPUNIND|SANGAMIND|AARVEEDEN|PIONEEREMB|ANANTRAJ|MADHAV|SHREYANIND|STARPAPER|VINDHYATEL|ADORWELD|USHAMART|SUBROS|HONAUT|LUMAXIND|HBLPOWER|GIPCL|MOTHERSUMI|HAVELLS|IGARASHI|SYMPHONY|RSSOFTWARE|WEBELSOLAR|TTKPRESTIG|SURANAT&P|ONWARDTEC|CENTUM|KEI|GSCLCEMENT|AVTNPL|NAHARINDUS|VADILALIND|ADFFOODS|HERITGFOOD|CCL|RICOAUTO|MUNJALSHOW|JAMNAAUTO|SUNCLAYLTD|MUNJALAU|JAYBARMARU|SICAL|RATNAMANI|VESUVIUS|ASAL|MARALOVER|TRIDENT|NAGREEKEXP|ZODIACLOTH|SURYALAXMI|KITEX|WINDMACHIN|SHANTIGEAR|HONDAPOWER|HITECHGEAR|ELGIEQUIP|TIMKEN|PRAJIND|GUJAPOLLO|MMFL|MAYURUNIQ|JMCPROJECT|KALPATPOWR|WEIZMANIND|EIHAHOTELS|KOKUYOCMLN|ADVANIHOTR|SUPERHOUSE|BALMLAWRIE|DCMSHRIRAM|MAWANASUG|NILKAMAL|NAHARPOLY|3MINDIA|JMFINANCIL|RIIL|LINDEINDIA|PRECWIRE|SCI|ITI|DREDGECORP|NFL|PIIND|PLASTIBLEN|APCOTEXIND|MASTEK|ASHIANA|SREINFRA|SIMPLEXINF|MAGMA|POLYPLEX|KABRAEXTRU|VINYLINDIA|VINATIORGA|AARTIIND|GAEL|RCF|FACT|KOPRAN|AARTIDRUGS|BODALCHEM|VIMTALABS|MARKSANS|IPCALAB|NEULANDLAB|SOTL|SUNPHARMA|HIKAL|AUROPHARMA|NATCOPHARM|PANAMAPET|BALPHARMA|FILATEX|MPHASIS|GANESHHOUC|NMDC|PATINTLOG|ALPHAGEO|LIBERTSHOE|ELECTHERM|BLUEDART|MIRZAINT|TFCILTD|BIL|KAMATHOTEL|SANDESH|GOLDIAM|GREENPLY|SEAMECLTD|SARLAPOLY|LAOPALA|VENUSREM|GUJALKALI|INDIACEM|JKTYRE|MANGCHEFER|JUBILANT|SANGHVIMOV|SELAN|SUVEN|KOTHARIPRO|IDEA|GENUSPOWER|ORIENTBELL|NRBBEARING|BAYERCROP|RELAXO|SHILPAMED|STERTOOLS|KRBL|IOC|BALAMINES|OMMETALS|PATELENG|ALICON|EMAMILTD|NUCLEUS|MANAPPURAM|VSTTILLERS|CONCOR|PANACEABIO|TNPL|SHAKTIPUMP|MOHITIND|MADHUCON|RAJESHEXPO|EVEREADY|HATSUN|JINDWORLD|SOMANYCERA|CGCL|FDC|MARICO|PRAENG|POLYMED|ATULAUTO|AMBIKCO|SWELECTES|MUKANDENGG|HEXAWARE|BANKBARODA|SKMEGGPROD|WELCORP|BANKINDIA|INDRAMEDCO|GAIL|VAIBHAVGBL|JKPAPER|SAREGAMA|MADRASFERT|CYBERTECH|ICICIBANK|CYIENT|ENGINERSIN|CORPBANK|DHANBANK|GMDCLTD|INDUSINDBK|J&KBANK|CUB|AXISBANK|SOUTHBANK|SONATSOFTW|NATIONALUM|INDNIPPON|NSIL|SYNDIBANK|HCLTECH|JINDALSTEL|GLENMARK|WOCKPHARMA|TATACOFFEE|MAHLIFE|CADILAHC|AJANTPHARM|COMPUSOFT|TVSMOTOR|GATI|TCI|SUBEX|AKSHOPTFBR|TRIVENI|MUKTAARTS|PNBGILTS|RAMCOIND|RAMCOSYS|STRTECH|BALAJITELE|IOB|TAJGVK|AXISCADES|ANDHRABANK|SMARTLINK|GODREJCP|BFUTILITIE|MPSLTD|CERA|BHARTIARTL|PONNIERODE|PNB|OFSS|APTECHT|UNIONBANK|GRANULES|CANBK|DIVISLAB|ALBK|UBL|ASTRAMICRO|RADICO|SHRIRAMCIT|MARUTI|UCOBANK|SUPRAJIT|IGL|TVTODAY|PETRONET|BIOCON|PTC|MAHABANK|STAR|JPASSOCIAT|ULTRACEMCO|MINDAIND|TCS|NIITTECH|DATAMATICS|RKFORGE|CENTURYPLY|NTPC|JBMA|DWARKESH|INDOCO|XCHANGING|MORARJEE|GDL|JPPOWER|GOKEX|ALLSEC|IIFL|SHOPERSTOP|NDL|JSWHL|JKCEMENT|YESBANK|NECLIFE|SPLIL|KTKBANK|MCLEODRUSS|IDFC|VIVIMEDLAB|RML|HTMEDIA|SASKEN|SUZLON|AURIONPRO|RENUKA|KMSUGAR|BASML|AIAENG|EKC|REPRO|CELEBRITY|NITINSPIN|ROHLTD|ENIL|GSPL|JAGRAN|SADBHAV|KEC|GILLANDERS|INDOTECH|BLKASHYAP|M&MFIN|NITCO|SOLARINDS|UTTAMSUGAR|SUNTV|GPIL|EMKAY|LOKESHMACH|PFOCUS|ALLCARGO|VOLTAMP|ATLANTA|DEEPIND|ACE|GEECEE|GAYAPROJ|GMRINFRA|MAHINDCIE|TECHM|FIEMIND|DCBBANK|SHIVAMAUTO|NAUKRI|LUMAXTECH|NETWORK18|HUBTOWN|TV18BRDCST|TIIL|REDINGTON|CINELINE|FSL|PGIL|AHLUCONT|PFC|INDIANB|SMSPHARMA|MINDTREE|IDEA|PAGEIND|AMDIND|ASTRAL|IBREALEST|CAMLINFINE|ICRA|DISHTV|SRHHYPOLTD|FORTIS|TGBHOTELS|DELTACORP|INSECTICID|MCDHOLDING|ASAHISONG|TIMETECHNO|HGS|NELCAST|MEGH|DLF|TARMAT|SPARC|OMAXE|CENTRALBK|KPRMILL|ASIANTILES|TAKE|PURVA|MOTILALOFS|POWERGRID|KSCL|MAANALU|RELIGARE|ADANIPORTS|EDELWEISS|KOLTEPATIL|JYOTHYLAB|ECLERX|TRIL|BRIGADE|BGRENERGY|MANAKSIA|PPAP|ARIES|RPOWER|JKIL|CORDSCABLE|KNRCON|ONMOBILE|SHRIRAMEPC|IRB|GSS|NAHARCAP|VGUARD|RECLTD|TWL|KIRIINDUS|BAJAJFINSV|BAJAJ-AUTO|RPGLIFE|RBL|RANEENGINE|ARCHIDPLY|SICAGEN|20MICRONS|WABCOINDIA|ALKALI|IMFA|MHRIL|NHPC|GLOBUSSPR|OIL|RTNPOWER|DEN|ASTEC|DLINKINDIA|JSWENERGY|GODREJPROP|DBCORP|JUBLFOOD|VASCONEQ|THANGAMAYL|EMMBI|HATHWAY|TEXMOPIPES|SUNDARAM|ROSSELLIND|MANINFRA|UNITEDBNK|PERSISTENT|KCPSUGIND|KECL|SJVN|HMVL|AHLEAST|GPPL|EROSMEDIA|RAMKY|CAREERP|CANTABIL|WABAG|ASHOKA|OBEROIRLTY|PRESTIGE|COALINDIA|GRAVITA|RPPINFRA|MOIL|ZEELEARN|A2ZINFRA|KIRLOSENG|PSB|FMNL|KICL|BFINVEST|JUBLINDS|TEXRAIL|INDTERRAIN|FCL|DHUNINV|LOVABLE|PFS|MUTHOOTFIN|RUSHIL|INVENTURE|L&TFH|BROOKS|RUPA|TDPOWERSYS|APLLTD|PGEL|UJAAS|ORIENTREF|MCX|SCHNEIDER|NBCC|MTEDUCARE|TBZ|VSSL|SPECIALITY|LYPSAGEMS|LAKSHVILAS|ZUARI|CARERATING|PCJEWELLER|INFRATEL|VMART|REPCOHOME|JUSTDIAL|ORIENTCEM|IBULHSGFIN|FLFL|M100|KOTAKNIFTY|CPSEETF|WONDERLA|GULFOILLUB|SNOWMAN|SHARDACROP|SHEMAROO|PDSMFL|INTELLECT|MONTECARLO|MINDACORP|BINDALAGRO|TATAMTRDVR|JISLDVREQS|KARURVYSYA|TIDEWATER|AMRUTANJAN|XPROINDIA|BHARATRAS|FACT|GINNIFILA|SPIC|DENORA|HARITASEAT|SAKSOFT|ANDHRSUGAR|IMPAL|KCP|SUNDARMFIN|SUNDRMBRAK|WHEELS|MAITHANALL|ORISSAMINE|NIFTYBEES|JUNIORBEES|BANKBEES|KOTAKPSUBK|PSUBNKBEES|M50|MADRASFERT|"
     ]
    }
   ],
   "source": [
    "markInactiveStocks()"
   ]
  },
  {
   "cell_type": "code",
   "execution_count": 10,
   "metadata": {},
   "outputs": [
    {
     "name": "stdout",
     "output_type": "stream",
     "text": [
      "{'Date': datetime.datetime(2020, 7, 31, 0, 0)}\n",
      "ABB {'Date': datetime.datetime(2020, 7, 31, 0, 0)}\n",
      "AMARAJABAT {'Date': datetime.datetime(2020, 7, 31, 0, 0)}\n",
      "HDFC"
     ]
    },
    {
     "name": "stderr",
     "output_type": "stream",
     "text": [
      "C:\\ProgramData\\Anaconda3\\lib\\site-packages\\pandas\\core\\indexing.py:190: SettingWithCopyWarning: \n",
      "A value is trying to be set on a copy of a slice from a DataFrame\n",
      "\n",
      "See the caveats in the documentation: http://pandas.pydata.org/pandas-docs/stable/indexing.html#indexing-view-versus-copy\n",
      "  self._setitem_with_indexer(indexer, value)\n",
      "C:\\ProgramData\\Anaconda3\\lib\\site-packages\\pandas\\core\\indexing.py:190: SettingWithCopyWarning: \n",
      "A value is trying to be set on a copy of a slice from a DataFrame\n",
      "\n",
      "See the caveats in the documentation: http://pandas.pydata.org/pandas-docs/stable/indexing.html#indexing-view-versus-copy\n",
      "  self._setitem_with_indexer(indexer, value)\n",
      "C:\\ProgramData\\Anaconda3\\lib\\site-packages\\pandas\\core\\indexing.py:190: SettingWithCopyWarning: \n",
      "A value is trying to be set on a copy of a slice from a DataFrame\n",
      "\n",
      "See the caveats in the documentation: http://pandas.pydata.org/pandas-docs/stable/indexing.html#indexing-view-versus-copy\n",
      "  self._setitem_with_indexer(indexer, value)\n"
     ]
    },
    {
     "name": "stdout",
     "output_type": "stream",
     "text": [
      " {'Date': datetime.datetime(2020, 7, 31, 0, 0)}\n",
      "ANSALAPI {'Date': datetime.datetime(2020, 5, 6, 0, 0)}\n",
      "ASIANHOTNR {'Date': datetime.datetime(2020, 7, 31, 0, 0)}\n",
      "ATUL"
     ]
    },
    {
     "name": "stderr",
     "output_type": "stream",
     "text": [
      "C:\\ProgramData\\Anaconda3\\lib\\site-packages\\pandas\\core\\indexing.py:190: SettingWithCopyWarning: \n",
      "A value is trying to be set on a copy of a slice from a DataFrame\n",
      "\n",
      "See the caveats in the documentation: http://pandas.pydata.org/pandas-docs/stable/indexing.html#indexing-view-versus-copy\n",
      "  self._setitem_with_indexer(indexer, value)\n",
      "C:\\ProgramData\\Anaconda3\\lib\\site-packages\\pandas\\core\\indexing.py:190: SettingWithCopyWarning: \n",
      "A value is trying to be set on a copy of a slice from a DataFrame\n",
      "\n",
      "See the caveats in the documentation: http://pandas.pydata.org/pandas-docs/stable/indexing.html#indexing-view-versus-copy\n",
      "  self._setitem_with_indexer(indexer, value)\n",
      "C:\\ProgramData\\Anaconda3\\lib\\site-packages\\pandas\\core\\indexing.py:190: SettingWithCopyWarning: \n",
      "A value is trying to be set on a copy of a slice from a DataFrame\n",
      "\n",
      "See the caveats in the documentation: http://pandas.pydata.org/pandas-docs/stable/indexing.html#indexing-view-versus-copy\n",
      "  self._setitem_with_indexer(indexer, value)\n"
     ]
    },
    {
     "name": "stdout",
     "output_type": "stream",
     "text": [
      " {'Date': datetime.datetime(2020, 7, 31, 0, 0)}\n",
      "AUTOLITIND {'Date': datetime.datetime(2020, 7, 31, 0, 0)}\n",
      "BAJAJHIND {'Date': datetime.datetime(2020, 7, 31, 0, 0)}\n",
      "BAJFINANCE {'Date': datetime.datetime(2020, 7, 31, 0, 0)}\n",
      "BALRAMCHIN"
     ]
    },
    {
     "name": "stderr",
     "output_type": "stream",
     "text": [
      "C:\\ProgramData\\Anaconda3\\lib\\site-packages\\pandas\\core\\indexing.py:190: SettingWithCopyWarning: \n",
      "A value is trying to be set on a copy of a slice from a DataFrame\n",
      "\n",
      "See the caveats in the documentation: http://pandas.pydata.org/pandas-docs/stable/indexing.html#indexing-view-versus-copy\n",
      "  self._setitem_with_indexer(indexer, value)\n",
      "C:\\ProgramData\\Anaconda3\\lib\\site-packages\\pandas\\core\\indexing.py:190: SettingWithCopyWarning: \n",
      "A value is trying to be set on a copy of a slice from a DataFrame\n",
      "\n",
      "See the caveats in the documentation: http://pandas.pydata.org/pandas-docs/stable/indexing.html#indexing-view-versus-copy\n",
      "  self._setitem_with_indexer(indexer, value)\n",
      "C:\\ProgramData\\Anaconda3\\lib\\site-packages\\pandas\\core\\indexing.py:190: SettingWithCopyWarning: \n",
      "A value is trying to be set on a copy of a slice from a DataFrame\n",
      "\n",
      "See the caveats in the documentation: http://pandas.pydata.org/pandas-docs/stable/indexing.html#indexing-view-versus-copy\n",
      "  self._setitem_with_indexer(indexer, value)\n"
     ]
    },
    {
     "name": "stdout",
     "output_type": "stream",
     "text": [
      " {'Date': datetime.datetime(2020, 7, 31, 0, 0)}\n",
      "BANCOINDIA {'Date': datetime.datetime(2020, 7, 31, 0, 0)}\n"
     ]
    },
    {
     "name": "stderr",
     "output_type": "stream",
     "text": [
      "C:\\ProgramData\\Anaconda3\\lib\\site-packages\\pandas\\core\\indexing.py:190: SettingWithCopyWarning: \n",
      "A value is trying to be set on a copy of a slice from a DataFrame\n",
      "\n",
      "See the caveats in the documentation: http://pandas.pydata.org/pandas-docs/stable/indexing.html#indexing-view-versus-copy\n",
      "  self._setitem_with_indexer(indexer, value)\n",
      "C:\\ProgramData\\Anaconda3\\lib\\site-packages\\pandas\\core\\indexing.py:190: SettingWithCopyWarning: \n",
      "A value is trying to be set on a copy of a slice from a DataFrame\n",
      "\n",
      "See the caveats in the documentation: http://pandas.pydata.org/pandas-docs/stable/indexing.html#indexing-view-versus-copy\n",
      "  self._setitem_with_indexer(indexer, value)\n"
     ]
    },
    {
     "name": "stdout",
     "output_type": "stream",
     "text": [
      "CENTURYTEX {'Date': datetime.datetime(2020, 7, 31, 0, 0)}\n",
      "BASF {'Date': datetime.datetime(2020, 7, 31, 0, 0)}\n"
     ]
    },
    {
     "name": "stderr",
     "output_type": "stream",
     "text": [
      "C:\\ProgramData\\Anaconda3\\lib\\site-packages\\pandas\\core\\indexing.py:190: SettingWithCopyWarning: \n",
      "A value is trying to be set on a copy of a slice from a DataFrame\n",
      "\n",
      "See the caveats in the documentation: http://pandas.pydata.org/pandas-docs/stable/indexing.html#indexing-view-versus-copy\n",
      "  self._setitem_with_indexer(indexer, value)\n",
      "C:\\ProgramData\\Anaconda3\\lib\\site-packages\\pandas\\core\\indexing.py:190: SettingWithCopyWarning: \n",
      "A value is trying to be set on a copy of a slice from a DataFrame\n",
      "\n",
      "See the caveats in the documentation: http://pandas.pydata.org/pandas-docs/stable/indexing.html#indexing-view-versus-copy\n",
      "  self._setitem_with_indexer(indexer, value)\n",
      "C:\\ProgramData\\Anaconda3\\lib\\site-packages\\pandas\\core\\indexing.py:190: SettingWithCopyWarning: \n",
      "A value is trying to be set on a copy of a slice from a DataFrame\n",
      "\n",
      "See the caveats in the documentation: http://pandas.pydata.org/pandas-docs/stable/indexing.html#indexing-view-versus-copy\n",
      "  self._setitem_with_indexer(indexer, value)\n"
     ]
    },
    {
     "name": "stdout",
     "output_type": "stream",
     "text": [
      "BATAINDIA {'Date': datetime.datetime(2020, 7, 31, 0, 0)}\n",
      "BANARISUG {'Date': datetime.datetime(2020, 7, 31, 0, 0)}\n",
      "BEL {'Date': datetime.datetime(2020, 7, 31, 0, 0)}\n"
     ]
    },
    {
     "name": "stderr",
     "output_type": "stream",
     "text": [
      "C:\\ProgramData\\Anaconda3\\lib\\site-packages\\pandas\\core\\indexing.py:190: SettingWithCopyWarning: \n",
      "A value is trying to be set on a copy of a slice from a DataFrame\n",
      "\n",
      "See the caveats in the documentation: http://pandas.pydata.org/pandas-docs/stable/indexing.html#indexing-view-versus-copy\n",
      "  self._setitem_with_indexer(indexer, value)\n",
      "C:\\ProgramData\\Anaconda3\\lib\\site-packages\\pandas\\core\\indexing.py:190: SettingWithCopyWarning: \n",
      "A value is trying to be set on a copy of a slice from a DataFrame\n",
      "\n",
      "See the caveats in the documentation: http://pandas.pydata.org/pandas-docs/stable/indexing.html#indexing-view-versus-copy\n",
      "  self._setitem_with_indexer(indexer, value)\n",
      "C:\\ProgramData\\Anaconda3\\lib\\site-packages\\pandas\\core\\indexing.py:190: SettingWithCopyWarning: \n",
      "A value is trying to be set on a copy of a slice from a DataFrame\n",
      "\n",
      "See the caveats in the documentation: http://pandas.pydata.org/pandas-docs/stable/indexing.html#indexing-view-versus-copy\n",
      "  self._setitem_with_indexer(indexer, value)\n"
     ]
    },
    {
     "name": "stdout",
     "output_type": "stream",
     "text": [
      "BEML {'Date': datetime.datetime(2020, 7, 31, 0, 0)}\n",
      "BEPL {'Date': datetime.datetime(2020, 7, 31, 0, 0)}\n",
      "BLUESTARCO {'Date': datetime.datetime(2020, 7, 31, 0, 0)}\n"
     ]
    },
    {
     "name": "stderr",
     "output_type": "stream",
     "text": [
      "C:\\ProgramData\\Anaconda3\\lib\\site-packages\\pandas\\core\\indexing.py:190: SettingWithCopyWarning: \n",
      "A value is trying to be set on a copy of a slice from a DataFrame\n",
      "\n",
      "See the caveats in the documentation: http://pandas.pydata.org/pandas-docs/stable/indexing.html#indexing-view-versus-copy\n",
      "  self._setitem_with_indexer(indexer, value)\n",
      "C:\\ProgramData\\Anaconda3\\lib\\site-packages\\pandas\\core\\indexing.py:190: SettingWithCopyWarning: \n",
      "A value is trying to be set on a copy of a slice from a DataFrame\n",
      "\n",
      "See the caveats in the documentation: http://pandas.pydata.org/pandas-docs/stable/indexing.html#indexing-view-versus-copy\n",
      "  self._setitem_with_indexer(indexer, value)\n",
      "C:\\ProgramData\\Anaconda3\\lib\\site-packages\\pandas\\core\\indexing.py:190: SettingWithCopyWarning: \n",
      "A value is trying to be set on a copy of a slice from a DataFrame\n",
      "\n",
      "See the caveats in the documentation: http://pandas.pydata.org/pandas-docs/stable/indexing.html#indexing-view-versus-copy\n",
      "  self._setitem_with_indexer(indexer, value)\n"
     ]
    },
    {
     "name": "stdout",
     "output_type": "stream",
     "text": [
      "BPL {'Date': datetime.datetime(2020, 7, 1, 0, 0)}\n",
      "CENTEXT {'Date': datetime.datetime(2020, 7, 31, 0, 0)}\n",
      "CESC {'Date': datetime.datetime(2020, 7, 31, 0, 0)}\n",
      "CHAMBLFERT {'Date': datetime.datetime(2020, 7, 31, 0, 0)}\n",
      "EXIDEIND {'Date': datetime.datetime(2020, 7, 31, 0, 0)}\n",
      "CIPLA {'Date': datetime.datetime(2020, 7, 31, 0, 0)}\n"
     ]
    },
    {
     "name": "stderr",
     "output_type": "stream",
     "text": [
      "C:\\ProgramData\\Anaconda3\\lib\\site-packages\\pandas\\core\\indexing.py:190: SettingWithCopyWarning: \n",
      "A value is trying to be set on a copy of a slice from a DataFrame\n",
      "\n",
      "See the caveats in the documentation: http://pandas.pydata.org/pandas-docs/stable/indexing.html#indexing-view-versus-copy\n",
      "  self._setitem_with_indexer(indexer, value)\n",
      "C:\\ProgramData\\Anaconda3\\lib\\site-packages\\pandas\\core\\indexing.py:190: SettingWithCopyWarning: \n",
      "A value is trying to be set on a copy of a slice from a DataFrame\n",
      "\n",
      "See the caveats in the documentation: http://pandas.pydata.org/pandas-docs/stable/indexing.html#indexing-view-versus-copy\n",
      "  self._setitem_with_indexer(indexer, value)\n",
      "C:\\ProgramData\\Anaconda3\\lib\\site-packages\\pandas\\core\\indexing.py:190: SettingWithCopyWarning: \n",
      "A value is trying to be set on a copy of a slice from a DataFrame\n",
      "\n",
      "See the caveats in the documentation: http://pandas.pydata.org/pandas-docs/stable/indexing.html#indexing-view-versus-copy\n",
      "  self._setitem_with_indexer(indexer, value)\n"
     ]
    },
    {
     "name": "stdout",
     "output_type": "stream",
     "text": [
      "DICIND {'Date': datetime.datetime(2020, 7, 31, 0, 0)}\n",
      "CRISIL {'Date': datetime.datetime(2020, 7, 31, 0, 0)}\n"
     ]
    },
    {
     "name": "stderr",
     "output_type": "stream",
     "text": [
      "C:\\ProgramData\\Anaconda3\\lib\\site-packages\\pandas\\core\\indexing.py:190: SettingWithCopyWarning: \n",
      "A value is trying to be set on a copy of a slice from a DataFrame\n",
      "\n",
      "See the caveats in the documentation: http://pandas.pydata.org/pandas-docs/stable/indexing.html#indexing-view-versus-copy\n",
      "  self._setitem_with_indexer(indexer, value)\n",
      "C:\\ProgramData\\Anaconda3\\lib\\site-packages\\pandas\\core\\indexing.py:190: SettingWithCopyWarning: \n",
      "A value is trying to be set on a copy of a slice from a DataFrame\n",
      "\n",
      "See the caveats in the documentation: http://pandas.pydata.org/pandas-docs/stable/indexing.html#indexing-view-versus-copy\n",
      "  self._setitem_with_indexer(indexer, value)\n"
     ]
    },
    {
     "name": "stdout",
     "output_type": "stream",
     "text": [
      "DABUR {'Date': datetime.datetime(2020, 7, 31, 0, 0)}\n",
      "DALMIASUG {'Date': datetime.datetime(2020, 7, 31, 0, 0)}\n"
     ]
    },
    {
     "name": "stderr",
     "output_type": "stream",
     "text": [
      "C:\\ProgramData\\Anaconda3\\lib\\site-packages\\pandas\\core\\indexing.py:190: SettingWithCopyWarning: \n",
      "A value is trying to be set on a copy of a slice from a DataFrame\n",
      "\n",
      "See the caveats in the documentation: http://pandas.pydata.org/pandas-docs/stable/indexing.html#indexing-view-versus-copy\n",
      "  self._setitem_with_indexer(indexer, value)\n",
      "C:\\ProgramData\\Anaconda3\\lib\\site-packages\\pandas\\core\\indexing.py:190: SettingWithCopyWarning: \n",
      "A value is trying to be set on a copy of a slice from a DataFrame\n",
      "\n",
      "See the caveats in the documentation: http://pandas.pydata.org/pandas-docs/stable/indexing.html#indexing-view-versus-copy\n",
      "  self._setitem_with_indexer(indexer, value)\n"
     ]
    },
    {
     "name": "stdout",
     "output_type": "stream",
     "text": [
      "ARVIND {'Date': datetime.datetime(2020, 7, 31, 0, 0)}\n",
      "BALLARPUR {'Date': datetime.datetime(2020, 6, 17, 0, 0)}\n",
      "BHEL {'Date': datetime.datetime(2020, 7, 31, 0, 0)}\n"
     ]
    },
    {
     "name": "stderr",
     "output_type": "stream",
     "text": [
      "C:\\ProgramData\\Anaconda3\\lib\\site-packages\\pandas\\core\\indexing.py:190: SettingWithCopyWarning: \n",
      "A value is trying to be set on a copy of a slice from a DataFrame\n",
      "\n",
      "See the caveats in the documentation: http://pandas.pydata.org/pandas-docs/stable/indexing.html#indexing-view-versus-copy\n",
      "  self._setitem_with_indexer(indexer, value)\n",
      "C:\\ProgramData\\Anaconda3\\lib\\site-packages\\pandas\\core\\indexing.py:190: SettingWithCopyWarning: \n",
      "A value is trying to be set on a copy of a slice from a DataFrame\n",
      "\n",
      "See the caveats in the documentation: http://pandas.pydata.org/pandas-docs/stable/indexing.html#indexing-view-versus-copy\n",
      "  self._setitem_with_indexer(indexer, value)\n"
     ]
    },
    {
     "name": "stdout",
     "output_type": "stream",
     "text": [
      "HINDPETRO {'Date': datetime.datetime(2020, 7, 31, 0, 0)}\n",
      "IFCI {'Date': datetime.datetime(2020, 7, 31, 0, 0)}\n"
     ]
    },
    {
     "name": "stderr",
     "output_type": "stream",
     "text": [
      "C:\\ProgramData\\Anaconda3\\lib\\site-packages\\pandas\\core\\indexing.py:190: SettingWithCopyWarning: \n",
      "A value is trying to be set on a copy of a slice from a DataFrame\n",
      "\n",
      "See the caveats in the documentation: http://pandas.pydata.org/pandas-docs/stable/indexing.html#indexing-view-versus-copy\n",
      "  self._setitem_with_indexer(indexer, value)\n",
      "C:\\ProgramData\\Anaconda3\\lib\\site-packages\\pandas\\core\\indexing.py:190: SettingWithCopyWarning: \n",
      "A value is trying to be set on a copy of a slice from a DataFrame\n",
      "\n",
      "See the caveats in the documentation: http://pandas.pydata.org/pandas-docs/stable/indexing.html#indexing-view-versus-copy\n",
      "  self._setitem_with_indexer(indexer, value)\n"
     ]
    },
    {
     "name": "stdout",
     "output_type": "stream",
     "text": [
      "MTNL {'Date': datetime.datetime(2020, 7, 31, 0, 0)}\n",
      "MRPL {'Date': datetime.datetime(2020, 7, 31, 0, 0)}\n"
     ]
    },
    {
     "name": "stderr",
     "output_type": "stream",
     "text": [
      "C:\\ProgramData\\Anaconda3\\lib\\site-packages\\pandas\\core\\indexing.py:190: SettingWithCopyWarning: \n",
      "A value is trying to be set on a copy of a slice from a DataFrame\n",
      "\n",
      "See the caveats in the documentation: http://pandas.pydata.org/pandas-docs/stable/indexing.html#indexing-view-versus-copy\n",
      "  self._setitem_with_indexer(indexer, value)\n",
      "C:\\ProgramData\\Anaconda3\\lib\\site-packages\\pandas\\core\\indexing.py:190: SettingWithCopyWarning: \n",
      "A value is trying to be set on a copy of a slice from a DataFrame\n",
      "\n",
      "See the caveats in the documentation: http://pandas.pydata.org/pandas-docs/stable/indexing.html#indexing-view-versus-copy\n",
      "  self._setitem_with_indexer(indexer, value)\n",
      "C:\\ProgramData\\Anaconda3\\lib\\site-packages\\pandas\\core\\indexing.py:190: SettingWithCopyWarning: \n",
      "A value is trying to be set on a copy of a slice from a DataFrame\n",
      "\n",
      "See the caveats in the documentation: http://pandas.pydata.org/pandas-docs/stable/indexing.html#indexing-view-versus-copy\n",
      "  self._setitem_with_indexer(indexer, value)\n"
     ]
    },
    {
     "name": "stdout",
     "output_type": "stream",
     "text": [
      "CHENNPETRO {'Date': datetime.datetime(2020, 7, 31, 0, 0)}\n",
      "RELCAPITAL {'Date': datetime.datetime(2020, 5, 6, 0, 0)}\n",
      "SAIL {'Date': datetime.datetime(2020, 7, 31, 0, 0)}\n",
      "TITAN"
     ]
    },
    {
     "name": "stderr",
     "output_type": "stream",
     "text": [
      "C:\\ProgramData\\Anaconda3\\lib\\site-packages\\pandas\\core\\indexing.py:190: SettingWithCopyWarning: \n",
      "A value is trying to be set on a copy of a slice from a DataFrame\n",
      "\n",
      "See the caveats in the documentation: http://pandas.pydata.org/pandas-docs/stable/indexing.html#indexing-view-versus-copy\n",
      "  self._setitem_with_indexer(indexer, value)\n",
      "C:\\ProgramData\\Anaconda3\\lib\\site-packages\\pandas\\core\\indexing.py:190: SettingWithCopyWarning: \n",
      "A value is trying to be set on a copy of a slice from a DataFrame\n",
      "\n",
      "See the caveats in the documentation: http://pandas.pydata.org/pandas-docs/stable/indexing.html#indexing-view-versus-copy\n",
      "  self._setitem_with_indexer(indexer, value)\n"
     ]
    },
    {
     "name": "stdout",
     "output_type": "stream",
     "text": [
      " {'Date': datetime.datetime(2020, 7, 31, 0, 0)}\n",
      "IDBI {'Date': datetime.datetime(2020, 7, 31, 0, 0)}\n",
      "DCW"
     ]
    },
    {
     "name": "stderr",
     "output_type": "stream",
     "text": [
      "C:\\ProgramData\\Anaconda3\\lib\\site-packages\\pandas\\core\\indexing.py:190: SettingWithCopyWarning: \n",
      "A value is trying to be set on a copy of a slice from a DataFrame\n",
      "\n",
      "See the caveats in the documentation: http://pandas.pydata.org/pandas-docs/stable/indexing.html#indexing-view-versus-copy\n",
      "  self._setitem_with_indexer(indexer, value)\n",
      "C:\\ProgramData\\Anaconda3\\lib\\site-packages\\pandas\\core\\indexing.py:190: SettingWithCopyWarning: \n",
      "A value is trying to be set on a copy of a slice from a DataFrame\n",
      "\n",
      "See the caveats in the documentation: http://pandas.pydata.org/pandas-docs/stable/indexing.html#indexing-view-versus-copy\n",
      "  self._setitem_with_indexer(indexer, value)\n",
      "C:\\ProgramData\\Anaconda3\\lib\\site-packages\\pandas\\core\\indexing.py:190: SettingWithCopyWarning: \n",
      "A value is trying to be set on a copy of a slice from a DataFrame\n",
      "\n",
      "See the caveats in the documentation: http://pandas.pydata.org/pandas-docs/stable/indexing.html#indexing-view-versus-copy\n",
      "  self._setitem_with_indexer(indexer, value)\n"
     ]
    },
    {
     "name": "stdout",
     "output_type": "stream",
     "text": [
      " {'Date': datetime.datetime(2020, 7, 31, 0, 0)}\n",
      "DHAMPURSUG {'Date': datetime.datetime(2020, 7, 31, 0, 0)}\n",
      "DRREDDY {'Date': datetime.datetime(2020, 7, 31, 0, 0)}\n"
     ]
    },
    {
     "name": "stderr",
     "output_type": "stream",
     "text": [
      "C:\\ProgramData\\Anaconda3\\lib\\site-packages\\pandas\\core\\indexing.py:190: SettingWithCopyWarning: \n",
      "A value is trying to be set on a copy of a slice from a DataFrame\n",
      "\n",
      "See the caveats in the documentation: http://pandas.pydata.org/pandas-docs/stable/indexing.html#indexing-view-versus-copy\n",
      "  self._setitem_with_indexer(indexer, value)\n",
      "C:\\ProgramData\\Anaconda3\\lib\\site-packages\\pandas\\core\\indexing.py:190: SettingWithCopyWarning: \n",
      "A value is trying to be set on a copy of a slice from a DataFrame\n",
      "\n",
      "See the caveats in the documentation: http://pandas.pydata.org/pandas-docs/stable/indexing.html#indexing-view-versus-copy\n",
      "  self._setitem_with_indexer(indexer, value)\n",
      "C:\\ProgramData\\Anaconda3\\lib\\site-packages\\pandas\\core\\indexing.py:190: SettingWithCopyWarning: \n",
      "A value is trying to be set on a copy of a slice from a DataFrame\n",
      "\n",
      "See the caveats in the documentation: http://pandas.pydata.org/pandas-docs/stable/indexing.html#indexing-view-versus-copy\n",
      "  self._setitem_with_indexer(indexer, value)\n"
     ]
    },
    {
     "name": "stdout",
     "output_type": "stream",
     "text": [
      "EIDPARRY {'Date': datetime.datetime(2020, 7, 31, 0, 0)}\n",
      "ELECTCAST {'Date': datetime.datetime(2020, 7, 31, 0, 0)}\n",
      "SBIN {'Date': datetime.datetime(2020, 7, 31, 0, 0)}\n"
     ]
    },
    {
     "name": "stderr",
     "output_type": "stream",
     "text": [
      "C:\\ProgramData\\Anaconda3\\lib\\site-packages\\pandas\\core\\indexing.py:190: SettingWithCopyWarning: \n",
      "A value is trying to be set on a copy of a slice from a DataFrame\n",
      "\n",
      "See the caveats in the documentation: http://pandas.pydata.org/pandas-docs/stable/indexing.html#indexing-view-versus-copy\n",
      "  self._setitem_with_indexer(indexer, value)\n",
      "C:\\ProgramData\\Anaconda3\\lib\\site-packages\\pandas\\core\\indexing.py:190: SettingWithCopyWarning: \n",
      "A value is trying to be set on a copy of a slice from a DataFrame\n",
      "\n",
      "See the caveats in the documentation: http://pandas.pydata.org/pandas-docs/stable/indexing.html#indexing-view-versus-copy\n",
      "  self._setitem_with_indexer(indexer, value)\n",
      "C:\\ProgramData\\Anaconda3\\lib\\site-packages\\pandas\\core\\indexing.py:190: SettingWithCopyWarning: \n",
      "A value is trying to be set on a copy of a slice from a DataFrame\n",
      "\n",
      "See the caveats in the documentation: http://pandas.pydata.org/pandas-docs/stable/indexing.html#indexing-view-versus-copy\n",
      "  self._setitem_with_indexer(indexer, value)\n"
     ]
    },
    {
     "name": "stdout",
     "output_type": "stream",
     "text": [
      "ESABINDIA {'Date': datetime.datetime(2020, 7, 31, 0, 0)}\n",
      "UFLEX {'Date': datetime.datetime(2020, 7, 31, 0, 0)}\n",
      "FOSECOIND {'Date': datetime.datetime(2020, 7, 31, 0, 0)}\n"
     ]
    },
    {
     "name": "stderr",
     "output_type": "stream",
     "text": [
      "C:\\ProgramData\\Anaconda3\\lib\\site-packages\\pandas\\core\\indexing.py:190: SettingWithCopyWarning: \n",
      "A value is trying to be set on a copy of a slice from a DataFrame\n",
      "\n",
      "See the caveats in the documentation: http://pandas.pydata.org/pandas-docs/stable/indexing.html#indexing-view-versus-copy\n",
      "  self._setitem_with_indexer(indexer, value)\n",
      "C:\\ProgramData\\Anaconda3\\lib\\site-packages\\pandas\\core\\indexing.py:190: SettingWithCopyWarning: \n",
      "A value is trying to be set on a copy of a slice from a DataFrame\n",
      "\n",
      "See the caveats in the documentation: http://pandas.pydata.org/pandas-docs/stable/indexing.html#indexing-view-versus-copy\n",
      "  self._setitem_with_indexer(indexer, value)\n",
      "C:\\ProgramData\\Anaconda3\\lib\\site-packages\\pandas\\core\\indexing.py:190: SettingWithCopyWarning: \n",
      "A value is trying to be set on a copy of a slice from a DataFrame\n",
      "\n",
      "See the caveats in the documentation: http://pandas.pydata.org/pandas-docs/stable/indexing.html#indexing-view-versus-copy\n",
      "  self._setitem_with_indexer(indexer, value)\n"
     ]
    },
    {
     "name": "stdout",
     "output_type": "stream",
     "text": [
      "GARDENSILK {'Date': datetime.datetime(2020, 6, 17, 0, 0)}\n",
      "GTL {'Date': datetime.datetime(2020, 6, 15, 0, 0)}\n",
      "GODREJIND {'Date': datetime.datetime(2020, 7, 31, 0, 0)}\n",
      "KANSAINER {'Date': datetime.datetime(2020, 7, 31, 0, 0)}\n",
      "GHCL {'Date': datetime.datetime(2020, 7, 31, 0, 0)}\n"
     ]
    },
    {
     "name": "stderr",
     "output_type": "stream",
     "text": [
      "C:\\ProgramData\\Anaconda3\\lib\\site-packages\\pandas\\core\\indexing.py:190: SettingWithCopyWarning: \n",
      "A value is trying to be set on a copy of a slice from a DataFrame\n",
      "\n",
      "See the caveats in the documentation: http://pandas.pydata.org/pandas-docs/stable/indexing.html#indexing-view-versus-copy\n",
      "  self._setitem_with_indexer(indexer, value)\n",
      "C:\\ProgramData\\Anaconda3\\lib\\site-packages\\pandas\\core\\indexing.py:190: SettingWithCopyWarning: \n",
      "A value is trying to be set on a copy of a slice from a DataFrame\n",
      "\n",
      "See the caveats in the documentation: http://pandas.pydata.org/pandas-docs/stable/indexing.html#indexing-view-versus-copy\n",
      "  self._setitem_with_indexer(indexer, value)\n"
     ]
    },
    {
     "name": "stdout",
     "output_type": "stream",
     "text": [
      "HCL-INSYS {'Date': datetime.datetime(2020, 6, 17, 0, 0)}\n",
      "HDFCBANK {'Date': datetime.datetime(2020, 7, 31, 0, 0)}\n",
      "HEROMOTOCO {'Date': datetime.datetime(2020, 7, 31, 0, 0)}\n",
      "HFCL"
     ]
    },
    {
     "name": "stderr",
     "output_type": "stream",
     "text": [
      "C:\\ProgramData\\Anaconda3\\lib\\site-packages\\pandas\\core\\indexing.py:190: SettingWithCopyWarning: \n",
      "A value is trying to be set on a copy of a slice from a DataFrame\n",
      "\n",
      "See the caveats in the documentation: http://pandas.pydata.org/pandas-docs/stable/indexing.html#indexing-view-versus-copy\n",
      "  self._setitem_with_indexer(indexer, value)\n",
      "C:\\ProgramData\\Anaconda3\\lib\\site-packages\\pandas\\core\\indexing.py:190: SettingWithCopyWarning: \n",
      "A value is trying to be set on a copy of a slice from a DataFrame\n",
      "\n",
      "See the caveats in the documentation: http://pandas.pydata.org/pandas-docs/stable/indexing.html#indexing-view-versus-copy\n",
      "  self._setitem_with_indexer(indexer, value)\n",
      "C:\\ProgramData\\Anaconda3\\lib\\site-packages\\pandas\\core\\indexing.py:190: SettingWithCopyWarning: \n",
      "A value is trying to be set on a copy of a slice from a DataFrame\n",
      "\n",
      "See the caveats in the documentation: http://pandas.pydata.org/pandas-docs/stable/indexing.html#indexing-view-versus-copy\n",
      "  self._setitem_with_indexer(indexer, value)\n"
     ]
    },
    {
     "name": "stdout",
     "output_type": "stream",
     "text": [
      " {'Date': datetime.datetime(2020, 7, 31, 0, 0)}\n",
      "HSCL {'Date': datetime.datetime(2020, 7, 31, 0, 0)}\n",
      "HCC {'Date': datetime.datetime(2020, 7, 31, 0, 0)}\n",
      "HINDOILEXP {'Date': datetime.datetime(2020, 7, 31, 0, 0)}\n",
      "HSIL {'Date': datetime.datetime(2020, 7, 31, 0, 0)}\n"
     ]
    },
    {
     "name": "stderr",
     "output_type": "stream",
     "text": [
      "C:\\ProgramData\\Anaconda3\\lib\\site-packages\\pandas\\core\\indexing.py:190: SettingWithCopyWarning: \n",
      "A value is trying to be set on a copy of a slice from a DataFrame\n",
      "\n",
      "See the caveats in the documentation: http://pandas.pydata.org/pandas-docs/stable/indexing.html#indexing-view-versus-copy\n",
      "  self._setitem_with_indexer(indexer, value)\n",
      "C:\\ProgramData\\Anaconda3\\lib\\site-packages\\pandas\\core\\indexing.py:190: SettingWithCopyWarning: \n",
      "A value is trying to be set on a copy of a slice from a DataFrame\n",
      "\n",
      "See the caveats in the documentation: http://pandas.pydata.org/pandas-docs/stable/indexing.html#indexing-view-versus-copy\n",
      "  self._setitem_with_indexer(indexer, value)\n",
      "C:\\ProgramData\\Anaconda3\\lib\\site-packages\\pandas\\core\\indexing.py:190: SettingWithCopyWarning: \n",
      "A value is trying to be set on a copy of a slice from a DataFrame\n",
      "\n",
      "See the caveats in the documentation: http://pandas.pydata.org/pandas-docs/stable/indexing.html#indexing-view-versus-copy\n",
      "  self._setitem_with_indexer(indexer, value)\n"
     ]
    },
    {
     "name": "stdout",
     "output_type": "stream",
     "text": [
      "HINDZINC {'Date': datetime.datetime(2020, 7, 31, 0, 0)}\n",
      "INDIAGLYCO {'Date': datetime.datetime(2020, 7, 31, 0, 0)}\n",
      "INDORAMA {'Date': datetime.datetime(2020, 7, 31, 0, 0)}\n"
     ]
    },
    {
     "name": "stderr",
     "output_type": "stream",
     "text": [
      "C:\\ProgramData\\Anaconda3\\lib\\site-packages\\pandas\\core\\indexing.py:190: SettingWithCopyWarning: \n",
      "A value is trying to be set on a copy of a slice from a DataFrame\n",
      "\n",
      "See the caveats in the documentation: http://pandas.pydata.org/pandas-docs/stable/indexing.html#indexing-view-versus-copy\n",
      "  self._setitem_with_indexer(indexer, value)\n",
      "C:\\ProgramData\\Anaconda3\\lib\\site-packages\\pandas\\core\\indexing.py:190: SettingWithCopyWarning: \n",
      "A value is trying to be set on a copy of a slice from a DataFrame\n",
      "\n",
      "See the caveats in the documentation: http://pandas.pydata.org/pandas-docs/stable/indexing.html#indexing-view-versus-copy\n",
      "  self._setitem_with_indexer(indexer, value)\n",
      "C:\\ProgramData\\Anaconda3\\lib\\site-packages\\pandas\\core\\indexing.py:190: SettingWithCopyWarning: \n",
      "A value is trying to be set on a copy of a slice from a DataFrame\n",
      "\n",
      "See the caveats in the documentation: http://pandas.pydata.org/pandas-docs/stable/indexing.html#indexing-view-versus-copy\n",
      "  self._setitem_with_indexer(indexer, value)\n"
     ]
    },
    {
     "name": "stdout",
     "output_type": "stream",
     "text": [
      "INFY {'Date': datetime.datetime(2020, 7, 31, 0, 0)}\n",
      "INGERRAND {'Date': datetime.datetime(2020, 7, 31, 0, 0)}\n"
     ]
    },
    {
     "name": "stderr",
     "output_type": "stream",
     "text": [
      "C:\\ProgramData\\Anaconda3\\lib\\site-packages\\pandas\\core\\indexing.py:190: SettingWithCopyWarning: \n",
      "A value is trying to be set on a copy of a slice from a DataFrame\n",
      "\n",
      "See the caveats in the documentation: http://pandas.pydata.org/pandas-docs/stable/indexing.html#indexing-view-versus-copy\n",
      "  self._setitem_with_indexer(indexer, value)\n",
      "C:\\ProgramData\\Anaconda3\\lib\\site-packages\\pandas\\core\\indexing.py:190: SettingWithCopyWarning: \n",
      "A value is trying to be set on a copy of a slice from a DataFrame\n",
      "\n",
      "See the caveats in the documentation: http://pandas.pydata.org/pandas-docs/stable/indexing.html#indexing-view-versus-copy\n",
      "  self._setitem_with_indexer(indexer, value)\n"
     ]
    },
    {
     "name": "stdout",
     "output_type": "stream",
     "text": [
      "ATFL {'Date': datetime.datetime(2020, 7, 31, 0, 0)}\n",
      "JISLJALEQS {'Date': datetime.datetime(2020, 4, 22, 0, 0)}\n",
      "JINDALPOLY {'Date': datetime.datetime(2020, 7, 31, 0, 0)}\n",
      "JSWSTEEL {'Date': datetime.datetime(2020, 7, 31, 0, 0)}\n"
     ]
    },
    {
     "name": "stderr",
     "output_type": "stream",
     "text": [
      "C:\\ProgramData\\Anaconda3\\lib\\site-packages\\pandas\\core\\indexing.py:190: SettingWithCopyWarning: \n",
      "A value is trying to be set on a copy of a slice from a DataFrame\n",
      "\n",
      "See the caveats in the documentation: http://pandas.pydata.org/pandas-docs/stable/indexing.html#indexing-view-versus-copy\n",
      "  self._setitem_with_indexer(indexer, value)\n",
      "C:\\ProgramData\\Anaconda3\\lib\\site-packages\\pandas\\core\\indexing.py:190: SettingWithCopyWarning: \n",
      "A value is trying to be set on a copy of a slice from a DataFrame\n",
      "\n",
      "See the caveats in the documentation: http://pandas.pydata.org/pandas-docs/stable/indexing.html#indexing-view-versus-copy\n",
      "  self._setitem_with_indexer(indexer, value)\n",
      "C:\\ProgramData\\Anaconda3\\lib\\site-packages\\pandas\\core\\indexing.py:190: SettingWithCopyWarning: \n",
      "A value is trying to be set on a copy of a slice from a DataFrame\n",
      "\n",
      "See the caveats in the documentation: http://pandas.pydata.org/pandas-docs/stable/indexing.html#indexing-view-versus-copy\n",
      "  self._setitem_with_indexer(indexer, value)\n"
     ]
    },
    {
     "name": "stdout",
     "output_type": "stream",
     "text": [
      "KAJARIACER {'Date': datetime.datetime(2020, 7, 31, 0, 0)}\n",
      "KAKATCEM {'Date': datetime.datetime(2020, 7, 31, 0, 0)}\n",
      "KSL {'Date': datetime.datetime(2020, 7, 31, 0, 0)}\n"
     ]
    },
    {
     "name": "stderr",
     "output_type": "stream",
     "text": [
      "C:\\ProgramData\\Anaconda3\\lib\\site-packages\\pandas\\core\\indexing.py:190: SettingWithCopyWarning: \n",
      "A value is trying to be set on a copy of a slice from a DataFrame\n",
      "\n",
      "See the caveats in the documentation: http://pandas.pydata.org/pandas-docs/stable/indexing.html#indexing-view-versus-copy\n",
      "  self._setitem_with_indexer(indexer, value)\n",
      "C:\\ProgramData\\Anaconda3\\lib\\site-packages\\pandas\\core\\indexing.py:190: SettingWithCopyWarning: \n",
      "A value is trying to be set on a copy of a slice from a DataFrame\n",
      "\n",
      "See the caveats in the documentation: http://pandas.pydata.org/pandas-docs/stable/indexing.html#indexing-view-versus-copy\n",
      "  self._setitem_with_indexer(indexer, value)\n",
      "C:\\ProgramData\\Anaconda3\\lib\\site-packages\\pandas\\core\\indexing.py:190: SettingWithCopyWarning: \n",
      "A value is trying to be set on a copy of a slice from a DataFrame\n",
      "\n",
      "See the caveats in the documentation: http://pandas.pydata.org/pandas-docs/stable/indexing.html#indexing-view-versus-copy\n",
      "  self._setitem_with_indexer(indexer, value)\n"
     ]
    },
    {
     "name": "stdout",
     "output_type": "stream",
     "text": [
      "WHIRLPOOL {'Date': datetime.datetime(2020, 7, 31, 0, 0)}\n",
      "KIRLOSBROS {'Date': datetime.datetime(2020, 7, 31, 0, 0)}\n",
      "KIRLOSIND {'Date': datetime.datetime(2020, 7, 31, 0, 0)}\n"
     ]
    },
    {
     "name": "stderr",
     "output_type": "stream",
     "text": [
      "C:\\ProgramData\\Anaconda3\\lib\\site-packages\\pandas\\core\\indexing.py:190: SettingWithCopyWarning: \n",
      "A value is trying to be set on a copy of a slice from a DataFrame\n",
      "\n",
      "See the caveats in the documentation: http://pandas.pydata.org/pandas-docs/stable/indexing.html#indexing-view-versus-copy\n",
      "  self._setitem_with_indexer(indexer, value)\n",
      "C:\\ProgramData\\Anaconda3\\lib\\site-packages\\pandas\\core\\indexing.py:190: SettingWithCopyWarning: \n",
      "A value is trying to be set on a copy of a slice from a DataFrame\n",
      "\n",
      "See the caveats in the documentation: http://pandas.pydata.org/pandas-docs/stable/indexing.html#indexing-view-versus-copy\n",
      "  self._setitem_with_indexer(indexer, value)\n",
      "C:\\ProgramData\\Anaconda3\\lib\\site-packages\\pandas\\core\\indexing.py:190: SettingWithCopyWarning: \n",
      "A value is trying to be set on a copy of a slice from a DataFrame\n",
      "\n",
      "See the caveats in the documentation: http://pandas.pydata.org/pandas-docs/stable/indexing.html#indexing-view-versus-copy\n",
      "  self._setitem_with_indexer(indexer, value)\n"
     ]
    },
    {
     "name": "stdout",
     "output_type": "stream",
     "text": [
      "KOTAKBANK {'Date': datetime.datetime(2020, 7, 31, 0, 0)}\n",
      "LGBBROSLTD {'Date': datetime.datetime(2020, 7, 31, 0, 0)}\n"
     ]
    },
    {
     "name": "stderr",
     "output_type": "stream",
     "text": [
      "C:\\ProgramData\\Anaconda3\\lib\\site-packages\\pandas\\core\\indexing.py:190: SettingWithCopyWarning: \n",
      "A value is trying to be set on a copy of a slice from a DataFrame\n",
      "\n",
      "See the caveats in the documentation: http://pandas.pydata.org/pandas-docs/stable/indexing.html#indexing-view-versus-copy\n",
      "  self._setitem_with_indexer(indexer, value)\n",
      "C:\\ProgramData\\Anaconda3\\lib\\site-packages\\pandas\\core\\indexing.py:190: SettingWithCopyWarning: \n",
      "A value is trying to be set on a copy of a slice from a DataFrame\n",
      "\n",
      "See the caveats in the documentation: http://pandas.pydata.org/pandas-docs/stable/indexing.html#indexing-view-versus-copy\n",
      "  self._setitem_with_indexer(indexer, value)\n",
      "C:\\ProgramData\\Anaconda3\\lib\\site-packages\\pandas\\core\\indexing.py:190: SettingWithCopyWarning: \n",
      "A value is trying to be set on a copy of a slice from a DataFrame\n",
      "\n",
      "See the caveats in the documentation: http://pandas.pydata.org/pandas-docs/stable/indexing.html#indexing-view-versus-copy\n",
      "  self._setitem_with_indexer(indexer, value)\n"
     ]
    },
    {
     "name": "stdout",
     "output_type": "stream",
     "text": [
      "TRENT {'Date': datetime.datetime(2020, 7, 31, 0, 0)}\n",
      "LAXMIMACH {'Date': datetime.datetime(2020, 7, 31, 0, 0)}\n",
      "LICHSGFIN "
     ]
    },
    {
     "name": "stderr",
     "output_type": "stream",
     "text": [
      "C:\\ProgramData\\Anaconda3\\lib\\site-packages\\pandas\\core\\indexing.py:190: SettingWithCopyWarning: \n",
      "A value is trying to be set on a copy of a slice from a DataFrame\n",
      "\n",
      "See the caveats in the documentation: http://pandas.pydata.org/pandas-docs/stable/indexing.html#indexing-view-versus-copy\n",
      "  self._setitem_with_indexer(indexer, value)\n",
      "C:\\ProgramData\\Anaconda3\\lib\\site-packages\\pandas\\core\\indexing.py:190: SettingWithCopyWarning: \n",
      "A value is trying to be set on a copy of a slice from a DataFrame\n",
      "\n",
      "See the caveats in the documentation: http://pandas.pydata.org/pandas-docs/stable/indexing.html#indexing-view-versus-copy\n",
      "  self._setitem_with_indexer(indexer, value)\n",
      "C:\\ProgramData\\Anaconda3\\lib\\site-packages\\pandas\\core\\indexing.py:190: SettingWithCopyWarning: \n",
      "A value is trying to be set on a copy of a slice from a DataFrame\n",
      "\n",
      "See the caveats in the documentation: http://pandas.pydata.org/pandas-docs/stable/indexing.html#indexing-view-versus-copy\n",
      "  self._setitem_with_indexer(indexer, value)\n"
     ]
    },
    {
     "name": "stdout",
     "output_type": "stream",
     "text": [
      "{'Date': datetime.datetime(2020, 7, 31, 0, 0)}\n",
      "LUPIN {'Date': datetime.datetime(2020, 7, 31, 0, 0)}\n",
      "LYKALABS {'Date': datetime.datetime(2020, 7, 1, 0, 0)}\n",
      "RAMCOCEM {'Date': datetime.datetime(2020, 7, 31, 0, 0)}\n"
     ]
    },
    {
     "name": "stderr",
     "output_type": "stream",
     "text": [
      "C:\\ProgramData\\Anaconda3\\lib\\site-packages\\pandas\\core\\indexing.py:190: SettingWithCopyWarning: \n",
      "A value is trying to be set on a copy of a slice from a DataFrame\n",
      "\n",
      "See the caveats in the documentation: http://pandas.pydata.org/pandas-docs/stable/indexing.html#indexing-view-versus-copy\n",
      "  self._setitem_with_indexer(indexer, value)\n",
      "C:\\ProgramData\\Anaconda3\\lib\\site-packages\\pandas\\core\\indexing.py:190: SettingWithCopyWarning: \n",
      "A value is trying to be set on a copy of a slice from a DataFrame\n",
      "\n",
      "See the caveats in the documentation: http://pandas.pydata.org/pandas-docs/stable/indexing.html#indexing-view-versus-copy\n",
      "  self._setitem_with_indexer(indexer, value)\n",
      "C:\\ProgramData\\Anaconda3\\lib\\site-packages\\pandas\\core\\indexing.py:190: SettingWithCopyWarning: \n",
      "A value is trying to be set on a copy of a slice from a DataFrame\n",
      "\n",
      "See the caveats in the documentation: http://pandas.pydata.org/pandas-docs/stable/indexing.html#indexing-view-versus-copy\n",
      "  self._setitem_with_indexer(indexer, value)\n"
     ]
    },
    {
     "name": "stdout",
     "output_type": "stream",
     "text": [
      "MAHSEAMLES {'Date': datetime.datetime(2020, 7, 31, 0, 0)}\n",
      "MAHSCOOTER {'Date': datetime.datetime(2020, 7, 31, 0, 0)}\n",
      "MANALIPETC {'Date': datetime.datetime(2020, 7, 31, 0, 0)}\n"
     ]
    },
    {
     "name": "stderr",
     "output_type": "stream",
     "text": [
      "C:\\ProgramData\\Anaconda3\\lib\\site-packages\\pandas\\core\\indexing.py:190: SettingWithCopyWarning: \n",
      "A value is trying to be set on a copy of a slice from a DataFrame\n",
      "\n",
      "See the caveats in the documentation: http://pandas.pydata.org/pandas-docs/stable/indexing.html#indexing-view-versus-copy\n",
      "  self._setitem_with_indexer(indexer, value)\n",
      "C:\\ProgramData\\Anaconda3\\lib\\site-packages\\pandas\\core\\indexing.py:190: SettingWithCopyWarning: \n",
      "A value is trying to be set on a copy of a slice from a DataFrame\n",
      "\n",
      "See the caveats in the documentation: http://pandas.pydata.org/pandas-docs/stable/indexing.html#indexing-view-versus-copy\n",
      "  self._setitem_with_indexer(indexer, value)\n",
      "C:\\ProgramData\\Anaconda3\\lib\\site-packages\\pandas\\core\\indexing.py:190: SettingWithCopyWarning: \n",
      "A value is trying to be set on a copy of a slice from a DataFrame\n",
      "\n",
      "See the caveats in the documentation: http://pandas.pydata.org/pandas-docs/stable/indexing.html#indexing-view-versus-copy\n",
      "  self._setitem_with_indexer(indexer, value)\n"
     ]
    },
    {
     "name": "stdout",
     "output_type": "stream",
     "text": [
      "MIRCELECTR {'Date': datetime.datetime(2020, 6, 17, 0, 0)}\n",
      "CENTENKA {'Date': datetime.datetime(2020, 7, 31, 0, 0)}\n",
      "MOREPENLAB {'Date': datetime.datetime(2020, 7, 31, 0, 0)}\n"
     ]
    },
    {
     "name": "stderr",
     "output_type": "stream",
     "text": [
      "C:\\ProgramData\\Anaconda3\\lib\\site-packages\\pandas\\core\\indexing.py:190: SettingWithCopyWarning: \n",
      "A value is trying to be set on a copy of a slice from a DataFrame\n",
      "\n",
      "See the caveats in the documentation: http://pandas.pydata.org/pandas-docs/stable/indexing.html#indexing-view-versus-copy\n",
      "  self._setitem_with_indexer(indexer, value)\n",
      "C:\\ProgramData\\Anaconda3\\lib\\site-packages\\pandas\\core\\indexing.py:190: SettingWithCopyWarning: \n",
      "A value is trying to be set on a copy of a slice from a DataFrame\n",
      "\n",
      "See the caveats in the documentation: http://pandas.pydata.org/pandas-docs/stable/indexing.html#indexing-view-versus-copy\n",
      "  self._setitem_with_indexer(indexer, value)\n"
     ]
    },
    {
     "name": "stdout",
     "output_type": "stream",
     "text": [
      "MRF {'Date': datetime.datetime(2020, 7, 31, 0, 0)}\n",
      "HEIDELBERG {'Date': datetime.datetime(2020, 7, 31, 0, 0)}\n",
      "NCC {'Date': datetime.datetime(2020, 7, 31, 0, 0)}\n"
     ]
    },
    {
     "name": "stderr",
     "output_type": "stream",
     "text": [
      "C:\\ProgramData\\Anaconda3\\lib\\site-packages\\pandas\\core\\indexing.py:190: SettingWithCopyWarning: \n",
      "A value is trying to be set on a copy of a slice from a DataFrame\n",
      "\n",
      "See the caveats in the documentation: http://pandas.pydata.org/pandas-docs/stable/indexing.html#indexing-view-versus-copy\n",
      "  self._setitem_with_indexer(indexer, value)\n",
      "C:\\ProgramData\\Anaconda3\\lib\\site-packages\\pandas\\core\\indexing.py:190: SettingWithCopyWarning: \n",
      "A value is trying to be set on a copy of a slice from a DataFrame\n",
      "\n",
      "See the caveats in the documentation: http://pandas.pydata.org/pandas-docs/stable/indexing.html#indexing-view-versus-copy\n",
      "  self._setitem_with_indexer(indexer, value)\n",
      "C:\\ProgramData\\Anaconda3\\lib\\site-packages\\pandas\\core\\indexing.py:190: SettingWithCopyWarning: \n",
      "A value is trying to be set on a copy of a slice from a DataFrame\n",
      "\n",
      "See the caveats in the documentation: http://pandas.pydata.org/pandas-docs/stable/indexing.html#indexing-view-versus-copy\n",
      "  self._setitem_with_indexer(indexer, value)\n"
     ]
    },
    {
     "name": "stdout",
     "output_type": "stream",
     "text": [
      "NAHARSPING {'Date': datetime.datetime(2020, 7, 31, 0, 0)}\n",
      "GRASIM {'Date': datetime.datetime(2020, 7, 31, 0, 0)}\n",
      "PEL {'Date': datetime.datetime(2020, 7, 31, 0, 0)}\n"
     ]
    },
    {
     "name": "stderr",
     "output_type": "stream",
     "text": [
      "C:\\ProgramData\\Anaconda3\\lib\\site-packages\\pandas\\core\\indexing.py:190: SettingWithCopyWarning: \n",
      "A value is trying to be set on a copy of a slice from a DataFrame\n",
      "\n",
      "See the caveats in the documentation: http://pandas.pydata.org/pandas-docs/stable/indexing.html#indexing-view-versus-copy\n",
      "  self._setitem_with_indexer(indexer, value)\n",
      "C:\\ProgramData\\Anaconda3\\lib\\site-packages\\pandas\\core\\indexing.py:190: SettingWithCopyWarning: \n",
      "A value is trying to be set on a copy of a slice from a DataFrame\n",
      "\n",
      "See the caveats in the documentation: http://pandas.pydata.org/pandas-docs/stable/indexing.html#indexing-view-versus-copy\n",
      "  self._setitem_with_indexer(indexer, value)\n",
      "C:\\ProgramData\\Anaconda3\\lib\\site-packages\\pandas\\core\\indexing.py:190: SettingWithCopyWarning: \n",
      "A value is trying to be set on a copy of a slice from a DataFrame\n",
      "\n",
      "See the caveats in the documentation: http://pandas.pydata.org/pandas-docs/stable/indexing.html#indexing-view-versus-copy\n",
      "  self._setitem_with_indexer(indexer, value)\n"
     ]
    },
    {
     "name": "stdout",
     "output_type": "stream",
     "text": [
      "NIITLTD {'Date': datetime.datetime(2020, 7, 31, 0, 0)}\n",
      "ONGC {'Date': datetime.datetime(2020, 7, 31, 0, 0)}\n",
      "OILCOUNTUB {'Date': datetime.datetime(2020, 6, 17, 0, 0)}\n",
      "ORIENTHOT {'Date': datetime.datetime(2020, 6, 17, 0, 0)}\n",
      "ORIENTBANK {'Date': datetime.datetime(2020, 3, 20, 0, 0)}\n",
      "RELIANCE {'Date': datetime.datetime(2020, 7, 31, 0, 0)}\n",
      "BIRLACORPN {'Date': datetime.datetime(2020, 7, 31, 0, 0)}\n"
     ]
    },
    {
     "name": "stderr",
     "output_type": "stream",
     "text": [
      "C:\\ProgramData\\Anaconda3\\lib\\site-packages\\pandas\\core\\indexing.py:190: SettingWithCopyWarning: \n",
      "A value is trying to be set on a copy of a slice from a DataFrame\n",
      "\n",
      "See the caveats in the documentation: http://pandas.pydata.org/pandas-docs/stable/indexing.html#indexing-view-versus-copy\n",
      "  self._setitem_with_indexer(indexer, value)\n",
      "C:\\ProgramData\\Anaconda3\\lib\\site-packages\\pandas\\core\\indexing.py:190: SettingWithCopyWarning: \n",
      "A value is trying to be set on a copy of a slice from a DataFrame\n",
      "\n",
      "See the caveats in the documentation: http://pandas.pydata.org/pandas-docs/stable/indexing.html#indexing-view-versus-copy\n",
      "  self._setitem_with_indexer(indexer, value)\n",
      "C:\\ProgramData\\Anaconda3\\lib\\site-packages\\pandas\\core\\indexing.py:190: SettingWithCopyWarning: \n",
      "A value is trying to be set on a copy of a slice from a DataFrame\n",
      "\n",
      "See the caveats in the documentation: http://pandas.pydata.org/pandas-docs/stable/indexing.html#indexing-view-versus-copy\n",
      "  self._setitem_with_indexer(indexer, value)\n"
     ]
    },
    {
     "name": "stdout",
     "output_type": "stream",
     "text": [
      "PIDILITIND {'Date': datetime.datetime(2020, 7, 31, 0, 0)}\n",
      "PRIMESECU {'Date': datetime.datetime(2020, 7, 31, 0, 0)}\n"
     ]
    },
    {
     "name": "stderr",
     "output_type": "stream",
     "text": [
      "C:\\ProgramData\\Anaconda3\\lib\\site-packages\\pandas\\core\\indexing.py:190: SettingWithCopyWarning: \n",
      "A value is trying to be set on a copy of a slice from a DataFrame\n",
      "\n",
      "See the caveats in the documentation: http://pandas.pydata.org/pandas-docs/stable/indexing.html#indexing-view-versus-copy\n",
      "  self._setitem_with_indexer(indexer, value)\n",
      "C:\\ProgramData\\Anaconda3\\lib\\site-packages\\pandas\\core\\indexing.py:190: SettingWithCopyWarning: \n",
      "A value is trying to be set on a copy of a slice from a DataFrame\n",
      "\n",
      "See the caveats in the documentation: http://pandas.pydata.org/pandas-docs/stable/indexing.html#indexing-view-versus-copy\n",
      "  self._setitem_with_indexer(indexer, value)\n",
      "C:\\ProgramData\\Anaconda3\\lib\\site-packages\\pandas\\core\\indexing.py:190: SettingWithCopyWarning: \n",
      "A value is trying to be set on a copy of a slice from a DataFrame\n",
      "\n",
      "See the caveats in the documentation: http://pandas.pydata.org/pandas-docs/stable/indexing.html#indexing-view-versus-copy\n",
      "  self._setitem_with_indexer(indexer, value)\n"
     ]
    },
    {
     "name": "stdout",
     "output_type": "stream",
     "text": [
      "RAYMOND {'Date': datetime.datetime(2020, 7, 31, 0, 0)}\n",
      "SURYAROSNI {'Date': datetime.datetime(2020, 7, 31, 0, 0)}\n",
      "RSWM {'Date': datetime.datetime(2020, 7, 31, 0, 0)}\n"
     ]
    },
    {
     "name": "stderr",
     "output_type": "stream",
     "text": [
      "C:\\ProgramData\\Anaconda3\\lib\\site-packages\\pandas\\core\\indexing.py:190: SettingWithCopyWarning: \n",
      "A value is trying to be set on a copy of a slice from a DataFrame\n",
      "\n",
      "See the caveats in the documentation: http://pandas.pydata.org/pandas-docs/stable/indexing.html#indexing-view-versus-copy\n",
      "  self._setitem_with_indexer(indexer, value)\n",
      "C:\\ProgramData\\Anaconda3\\lib\\site-packages\\pandas\\core\\indexing.py:190: SettingWithCopyWarning: \n",
      "A value is trying to be set on a copy of a slice from a DataFrame\n",
      "\n",
      "See the caveats in the documentation: http://pandas.pydata.org/pandas-docs/stable/indexing.html#indexing-view-versus-copy\n",
      "  self._setitem_with_indexer(indexer, value)\n",
      "C:\\ProgramData\\Anaconda3\\lib\\site-packages\\pandas\\core\\indexing.py:190: SettingWithCopyWarning: \n",
      "A value is trying to be set on a copy of a slice from a DataFrame\n",
      "\n",
      "See the caveats in the documentation: http://pandas.pydata.org/pandas-docs/stable/indexing.html#indexing-view-versus-copy\n",
      "  self._setitem_with_indexer(indexer, value)\n"
     ]
    },
    {
     "name": "stdout",
     "output_type": "stream",
     "text": [
      "RAMANEWS {'Date': datetime.datetime(2020, 7, 31, 0, 0)}\n",
      "RALLIS {'Date': datetime.datetime(2020, 7, 31, 0, 0)}\n",
      "JINDALSAW"
     ]
    },
    {
     "name": "stderr",
     "output_type": "stream",
     "text": [
      "C:\\ProgramData\\Anaconda3\\lib\\site-packages\\pandas\\core\\indexing.py:190: SettingWithCopyWarning: \n",
      "A value is trying to be set on a copy of a slice from a DataFrame\n",
      "\n",
      "See the caveats in the documentation: http://pandas.pydata.org/pandas-docs/stable/indexing.html#indexing-view-versus-copy\n",
      "  self._setitem_with_indexer(indexer, value)\n",
      "C:\\ProgramData\\Anaconda3\\lib\\site-packages\\pandas\\core\\indexing.py:190: SettingWithCopyWarning: \n",
      "A value is trying to be set on a copy of a slice from a DataFrame\n",
      "\n",
      "See the caveats in the documentation: http://pandas.pydata.org/pandas-docs/stable/indexing.html#indexing-view-versus-copy\n",
      "  self._setitem_with_indexer(indexer, value)\n"
     ]
    },
    {
     "name": "stdout",
     "output_type": "stream",
     "text": [
      " {'Date': datetime.datetime(2020, 7, 31, 0, 0)}\n",
      "JKLAKSHMI {'Date': datetime.datetime(2020, 7, 31, 0, 0)}\n",
      "SHREECEM {'Date': datetime.datetime(2020, 7, 31, 0, 0)}\n"
     ]
    },
    {
     "name": "stderr",
     "output_type": "stream",
     "text": [
      "C:\\ProgramData\\Anaconda3\\lib\\site-packages\\pandas\\core\\indexing.py:190: SettingWithCopyWarning: \n",
      "A value is trying to be set on a copy of a slice from a DataFrame\n",
      "\n",
      "See the caveats in the documentation: http://pandas.pydata.org/pandas-docs/stable/indexing.html#indexing-view-versus-copy\n",
      "  self._setitem_with_indexer(indexer, value)\n",
      "C:\\ProgramData\\Anaconda3\\lib\\site-packages\\pandas\\core\\indexing.py:190: SettingWithCopyWarning: \n",
      "A value is trying to be set on a copy of a slice from a DataFrame\n",
      "\n",
      "See the caveats in the documentation: http://pandas.pydata.org/pandas-docs/stable/indexing.html#indexing-view-versus-copy\n",
      "  self._setitem_with_indexer(indexer, value)\n"
     ]
    },
    {
     "name": "stdout",
     "output_type": "stream",
     "text": [
      "RELINFRA {'Date': datetime.datetime(2020, 7, 31, 0, 0)}\n",
      "TATAPOWER {'Date': datetime.datetime(2020, 7, 31, 0, 0)}\n",
      "SPMLINFRA"
     ]
    },
    {
     "name": "stderr",
     "output_type": "stream",
     "text": [
      "C:\\ProgramData\\Anaconda3\\lib\\site-packages\\pandas\\core\\indexing.py:190: SettingWithCopyWarning: \n",
      "A value is trying to be set on a copy of a slice from a DataFrame\n",
      "\n",
      "See the caveats in the documentation: http://pandas.pydata.org/pandas-docs/stable/indexing.html#indexing-view-versus-copy\n",
      "  self._setitem_with_indexer(indexer, value)\n",
      "C:\\ProgramData\\Anaconda3\\lib\\site-packages\\pandas\\core\\indexing.py:190: SettingWithCopyWarning: \n",
      "A value is trying to be set on a copy of a slice from a DataFrame\n",
      "\n",
      "See the caveats in the documentation: http://pandas.pydata.org/pandas-docs/stable/indexing.html#indexing-view-versus-copy\n",
      "  self._setitem_with_indexer(indexer, value)\n"
     ]
    },
    {
     "name": "stdout",
     "output_type": "stream",
     "text": [
      " {'Date': datetime.datetime(2020, 7, 31, 0, 0)}\n",
      "SUNDRMFAST {'Date': datetime.datetime(2020, 7, 31, 0, 0)}\n",
      "SUNFLAG"
     ]
    },
    {
     "name": "stderr",
     "output_type": "stream",
     "text": [
      "C:\\ProgramData\\Anaconda3\\lib\\site-packages\\pandas\\core\\indexing.py:190: SettingWithCopyWarning: \n",
      "A value is trying to be set on a copy of a slice from a DataFrame\n",
      "\n",
      "See the caveats in the documentation: http://pandas.pydata.org/pandas-docs/stable/indexing.html#indexing-view-versus-copy\n",
      "  self._setitem_with_indexer(indexer, value)\n",
      "C:\\ProgramData\\Anaconda3\\lib\\site-packages\\pandas\\core\\indexing.py:190: SettingWithCopyWarning: \n",
      "A value is trying to be set on a copy of a slice from a DataFrame\n",
      "\n",
      "See the caveats in the documentation: http://pandas.pydata.org/pandas-docs/stable/indexing.html#indexing-view-versus-copy\n",
      "  self._setitem_with_indexer(indexer, value)\n",
      "C:\\ProgramData\\Anaconda3\\lib\\site-packages\\pandas\\core\\indexing.py:190: SettingWithCopyWarning: \n",
      "A value is trying to be set on a copy of a slice from a DataFrame\n",
      "\n",
      "See the caveats in the documentation: http://pandas.pydata.org/pandas-docs/stable/indexing.html#indexing-view-versus-copy\n",
      "  self._setitem_with_indexer(indexer, value)\n"
     ]
    },
    {
     "name": "stdout",
     "output_type": "stream",
     "text": [
      " {'Date': datetime.datetime(2020, 7, 31, 0, 0)}\n",
      "SUPPETRO {'Date': datetime.datetime(2020, 7, 31, 0, 0)}\n",
      "SWARAJENG {'Date': datetime.datetime(2020, 7, 31, 0, 0)}\n"
     ]
    },
    {
     "name": "stderr",
     "output_type": "stream",
     "text": [
      "C:\\ProgramData\\Anaconda3\\lib\\site-packages\\pandas\\core\\indexing.py:190: SettingWithCopyWarning: \n",
      "A value is trying to be set on a copy of a slice from a DataFrame\n",
      "\n",
      "See the caveats in the documentation: http://pandas.pydata.org/pandas-docs/stable/indexing.html#indexing-view-versus-copy\n",
      "  self._setitem_with_indexer(indexer, value)\n",
      "C:\\ProgramData\\Anaconda3\\lib\\site-packages\\pandas\\core\\indexing.py:190: SettingWithCopyWarning: \n",
      "A value is trying to be set on a copy of a slice from a DataFrame\n",
      "\n",
      "See the caveats in the documentation: http://pandas.pydata.org/pandas-docs/stable/indexing.html#indexing-view-versus-copy\n",
      "  self._setitem_with_indexer(indexer, value)\n"
     ]
    },
    {
     "name": "stdout",
     "output_type": "stream",
     "text": [
      "TATAELXSI {'Date': datetime.datetime(2020, 7, 31, 0, 0)}\n",
      "ACC {'Date': datetime.datetime(2020, 7, 31, 0, 0)}\n",
      "THERMAX"
     ]
    },
    {
     "name": "stderr",
     "output_type": "stream",
     "text": [
      "C:\\ProgramData\\Anaconda3\\lib\\site-packages\\pandas\\core\\indexing.py:190: SettingWithCopyWarning: \n",
      "A value is trying to be set on a copy of a slice from a DataFrame\n",
      "\n",
      "See the caveats in the documentation: http://pandas.pydata.org/pandas-docs/stable/indexing.html#indexing-view-versus-copy\n",
      "  self._setitem_with_indexer(indexer, value)\n",
      "C:\\ProgramData\\Anaconda3\\lib\\site-packages\\pandas\\core\\indexing.py:190: SettingWithCopyWarning: \n",
      "A value is trying to be set on a copy of a slice from a DataFrame\n",
      "\n",
      "See the caveats in the documentation: http://pandas.pydata.org/pandas-docs/stable/indexing.html#indexing-view-versus-copy\n",
      "  self._setitem_with_indexer(indexer, value)\n",
      "C:\\ProgramData\\Anaconda3\\lib\\site-packages\\pandas\\core\\indexing.py:190: SettingWithCopyWarning: \n",
      "A value is trying to be set on a copy of a slice from a DataFrame\n",
      "\n",
      "See the caveats in the documentation: http://pandas.pydata.org/pandas-docs/stable/indexing.html#indexing-view-versus-copy\n",
      "  self._setitem_with_indexer(indexer, value)\n"
     ]
    },
    {
     "name": "stdout",
     "output_type": "stream",
     "text": [
      " {'Date': datetime.datetime(2020, 7, 31, 0, 0)}\n",
      "TIRUMALCHM {'Date': datetime.datetime(2020, 7, 31, 0, 0)}\n",
      "THOMASCOOK {'Date': datetime.datetime(2020, 7, 31, 0, 0)}\n",
      "TOKYOPLAST {'Date': datetime.datetime(2020, 7, 31, 0, 0)}\n"
     ]
    },
    {
     "name": "stderr",
     "output_type": "stream",
     "text": [
      "C:\\ProgramData\\Anaconda3\\lib\\site-packages\\pandas\\core\\indexing.py:190: SettingWithCopyWarning: \n",
      "A value is trying to be set on a copy of a slice from a DataFrame\n",
      "\n",
      "See the caveats in the documentation: http://pandas.pydata.org/pandas-docs/stable/indexing.html#indexing-view-versus-copy\n",
      "  self._setitem_with_indexer(indexer, value)\n",
      "C:\\ProgramData\\Anaconda3\\lib\\site-packages\\pandas\\core\\indexing.py:190: SettingWithCopyWarning: \n",
      "A value is trying to be set on a copy of a slice from a DataFrame\n",
      "\n",
      "See the caveats in the documentation: http://pandas.pydata.org/pandas-docs/stable/indexing.html#indexing-view-versus-copy\n",
      "  self._setitem_with_indexer(indexer, value)\n",
      "C:\\ProgramData\\Anaconda3\\lib\\site-packages\\pandas\\core\\indexing.py:190: SettingWithCopyWarning: \n",
      "A value is trying to be set on a copy of a slice from a DataFrame\n",
      "\n",
      "See the caveats in the documentation: http://pandas.pydata.org/pandas-docs/stable/indexing.html#indexing-view-versus-copy\n",
      "  self._setitem_with_indexer(indexer, value)\n"
     ]
    },
    {
     "name": "stdout",
     "output_type": "stream",
     "text": [
      "TORNTPHARM {'Date': datetime.datetime(2020, 7, 31, 0, 0)}\n",
      "AMBUJACEM {'Date': datetime.datetime(2020, 7, 31, 0, 0)}\n",
      "VHL {'Date': datetime.datetime(2020, 7, 31, 0, 0)}\n"
     ]
    },
    {
     "name": "stderr",
     "output_type": "stream",
     "text": [
      "C:\\ProgramData\\Anaconda3\\lib\\site-packages\\pandas\\core\\indexing.py:190: SettingWithCopyWarning: \n",
      "A value is trying to be set on a copy of a slice from a DataFrame\n",
      "\n",
      "See the caveats in the documentation: http://pandas.pydata.org/pandas-docs/stable/indexing.html#indexing-view-versus-copy\n",
      "  self._setitem_with_indexer(indexer, value)\n",
      "C:\\ProgramData\\Anaconda3\\lib\\site-packages\\pandas\\core\\indexing.py:190: SettingWithCopyWarning: \n",
      "A value is trying to be set on a copy of a slice from a DataFrame\n",
      "\n",
      "See the caveats in the documentation: http://pandas.pydata.org/pandas-docs/stable/indexing.html#indexing-view-versus-copy\n",
      "  self._setitem_with_indexer(indexer, value)\n",
      "C:\\ProgramData\\Anaconda3\\lib\\site-packages\\pandas\\core\\indexing.py:190: SettingWithCopyWarning: \n",
      "A value is trying to be set on a copy of a slice from a DataFrame\n",
      "\n",
      "See the caveats in the documentation: http://pandas.pydata.org/pandas-docs/stable/indexing.html#indexing-view-versus-copy\n",
      "  self._setitem_with_indexer(indexer, value)\n"
     ]
    },
    {
     "name": "stdout",
     "output_type": "stream",
     "text": [
      "HINDALCO {'Date': datetime.datetime(2020, 7, 31, 0, 0)}\n",
      "WSTCSTPAPR {'Date': datetime.datetime(2020, 7, 31, 0, 0)}\n"
     ]
    },
    {
     "name": "stderr",
     "output_type": "stream",
     "text": [
      "C:\\ProgramData\\Anaconda3\\lib\\site-packages\\pandas\\core\\indexing.py:190: SettingWithCopyWarning: \n",
      "A value is trying to be set on a copy of a slice from a DataFrame\n",
      "\n",
      "See the caveats in the documentation: http://pandas.pydata.org/pandas-docs/stable/indexing.html#indexing-view-versus-copy\n",
      "  self._setitem_with_indexer(indexer, value)\n",
      "C:\\ProgramData\\Anaconda3\\lib\\site-packages\\pandas\\core\\indexing.py:190: SettingWithCopyWarning: \n",
      "A value is trying to be set on a copy of a slice from a DataFrame\n",
      "\n",
      "See the caveats in the documentation: http://pandas.pydata.org/pandas-docs/stable/indexing.html#indexing-view-versus-copy\n",
      "  self._setitem_with_indexer(indexer, value)\n",
      "C:\\ProgramData\\Anaconda3\\lib\\site-packages\\pandas\\core\\indexing.py:190: SettingWithCopyWarning: \n",
      "A value is trying to be set on a copy of a slice from a DataFrame\n",
      "\n",
      "See the caveats in the documentation: http://pandas.pydata.org/pandas-docs/stable/indexing.html#indexing-view-versus-copy\n",
      "  self._setitem_with_indexer(indexer, value)\n"
     ]
    },
    {
     "name": "stdout",
     "output_type": "stream",
     "text": [
      "MUKANDLTD {'Date': datetime.datetime(2020, 7, 1, 0, 0)}\n",
      "UCALFUEL {'Date': datetime.datetime(2020, 7, 31, 0, 0)}\n",
      "HARRMALAYA {'Date': datetime.datetime(2020, 7, 31, 0, 0)}\n"
     ]
    },
    {
     "name": "stderr",
     "output_type": "stream",
     "text": [
      "C:\\ProgramData\\Anaconda3\\lib\\site-packages\\pandas\\core\\indexing.py:190: SettingWithCopyWarning: \n",
      "A value is trying to be set on a copy of a slice from a DataFrame\n",
      "\n",
      "See the caveats in the documentation: http://pandas.pydata.org/pandas-docs/stable/indexing.html#indexing-view-versus-copy\n",
      "  self._setitem_with_indexer(indexer, value)\n"
     ]
    },
    {
     "name": "stdout",
     "output_type": "stream",
     "text": [
      "FEDERALBNK {'Date': datetime.datetime(2020, 7, 31, 0, 0)}\n",
      "TATASTEEL {'Date': datetime.datetime(2020, 7, 31, 0, 0)}\n"
     ]
    },
    {
     "name": "stderr",
     "output_type": "stream",
     "text": [
      "C:\\ProgramData\\Anaconda3\\lib\\site-packages\\pandas\\core\\indexing.py:190: SettingWithCopyWarning: \n",
      "A value is trying to be set on a copy of a slice from a DataFrame\n",
      "\n",
      "See the caveats in the documentation: http://pandas.pydata.org/pandas-docs/stable/indexing.html#indexing-view-versus-copy\n",
      "  self._setitem_with_indexer(indexer, value)\n",
      "C:\\ProgramData\\Anaconda3\\lib\\site-packages\\pandas\\core\\indexing.py:190: SettingWithCopyWarning: \n",
      "A value is trying to be set on a copy of a slice from a DataFrame\n",
      "\n",
      "See the caveats in the documentation: http://pandas.pydata.org/pandas-docs/stable/indexing.html#indexing-view-versus-copy\n",
      "  self._setitem_with_indexer(indexer, value)\n",
      "C:\\ProgramData\\Anaconda3\\lib\\site-packages\\pandas\\core\\indexing.py:190: SettingWithCopyWarning: \n",
      "A value is trying to be set on a copy of a slice from a DataFrame\n",
      "\n",
      "See the caveats in the documentation: http://pandas.pydata.org/pandas-docs/stable/indexing.html#indexing-view-versus-copy\n",
      "  self._setitem_with_indexer(indexer, value)\n"
     ]
    },
    {
     "name": "stdout",
     "output_type": "stream",
     "text": [
      "SKFINDIA {'Date': datetime.datetime(2020, 7, 31, 0, 0)}\n",
      "ASHOKLEY {'Date': datetime.datetime(2020, 7, 31, 0, 0)}\n",
      "CUMMINSIND {'Date': datetime.datetime(2020, 7, 31, 0, 0)}\n"
     ]
    },
    {
     "name": "stderr",
     "output_type": "stream",
     "text": [
      "C:\\ProgramData\\Anaconda3\\lib\\site-packages\\pandas\\core\\indexing.py:190: SettingWithCopyWarning: \n",
      "A value is trying to be set on a copy of a slice from a DataFrame\n",
      "\n",
      "See the caveats in the documentation: http://pandas.pydata.org/pandas-docs/stable/indexing.html#indexing-view-versus-copy\n",
      "  self._setitem_with_indexer(indexer, value)\n",
      "C:\\ProgramData\\Anaconda3\\lib\\site-packages\\pandas\\core\\indexing.py:190: SettingWithCopyWarning: \n",
      "A value is trying to be set on a copy of a slice from a DataFrame\n",
      "\n",
      "See the caveats in the documentation: http://pandas.pydata.org/pandas-docs/stable/indexing.html#indexing-view-versus-copy\n",
      "  self._setitem_with_indexer(indexer, value)\n"
     ]
    },
    {
     "name": "stdout",
     "output_type": "stream",
     "text": [
      "TATACOMM {'Date': datetime.datetime(2020, 7, 31, 0, 0)}\n",
      "ABBOTINDIA {'Date': datetime.datetime(2020, 7, 31, 0, 0)}\n"
     ]
    },
    {
     "name": "stderr",
     "output_type": "stream",
     "text": [
      "C:\\ProgramData\\Anaconda3\\lib\\site-packages\\pandas\\core\\indexing.py:190: SettingWithCopyWarning: \n",
      "A value is trying to be set on a copy of a slice from a DataFrame\n",
      "\n",
      "See the caveats in the documentation: http://pandas.pydata.org/pandas-docs/stable/indexing.html#indexing-view-versus-copy\n",
      "  self._setitem_with_indexer(indexer, value)\n",
      "C:\\ProgramData\\Anaconda3\\lib\\site-packages\\pandas\\core\\indexing.py:190: SettingWithCopyWarning: \n",
      "A value is trying to be set on a copy of a slice from a DataFrame\n",
      "\n",
      "See the caveats in the documentation: http://pandas.pydata.org/pandas-docs/stable/indexing.html#indexing-view-versus-copy\n",
      "  self._setitem_with_indexer(indexer, value)\n"
     ]
    },
    {
     "name": "stdout",
     "output_type": "stream",
     "text": [
      "BAJAJHLDNG {'Date': datetime.datetime(2020, 7, 31, 0, 0)}\n",
      "BHARATFORG {'Date': datetime.datetime(2020, 7, 31, 0, 0)}\n"
     ]
    },
    {
     "name": "stderr",
     "output_type": "stream",
     "text": [
      "C:\\ProgramData\\Anaconda3\\lib\\site-packages\\pandas\\core\\indexing.py:190: SettingWithCopyWarning: \n",
      "A value is trying to be set on a copy of a slice from a DataFrame\n",
      "\n",
      "See the caveats in the documentation: http://pandas.pydata.org/pandas-docs/stable/indexing.html#indexing-view-versus-copy\n",
      "  self._setitem_with_indexer(indexer, value)\n",
      "C:\\ProgramData\\Anaconda3\\lib\\site-packages\\pandas\\core\\indexing.py:190: SettingWithCopyWarning: \n",
      "A value is trying to be set on a copy of a slice from a DataFrame\n",
      "\n",
      "See the caveats in the documentation: http://pandas.pydata.org/pandas-docs/stable/indexing.html#indexing-view-versus-copy\n",
      "  self._setitem_with_indexer(indexer, value)\n",
      "C:\\ProgramData\\Anaconda3\\lib\\site-packages\\pandas\\core\\indexing.py:190: SettingWithCopyWarning: \n",
      "A value is trying to be set on a copy of a slice from a DataFrame\n",
      "\n",
      "See the caveats in the documentation: http://pandas.pydata.org/pandas-docs/stable/indexing.html#indexing-view-versus-copy\n",
      "  self._setitem_with_indexer(indexer, value)\n"
     ]
    },
    {
     "name": "stdout",
     "output_type": "stream",
     "text": [
      "ESCORTS {'Date': datetime.datetime(2020, 7, 31, 0, 0)}\n",
      "PGHH {'Date': datetime.datetime(2020, 7, 31, 0, 0)}\n",
      "LT {'Date': datetime.datetime(2020, 7, 31, 0, 0)}\n",
      "M&M {'Date': datetime.datetime(2020, 7, 31, 0, 0)}\n"
     ]
    },
    {
     "name": "stderr",
     "output_type": "stream",
     "text": [
      "C:\\ProgramData\\Anaconda3\\lib\\site-packages\\pandas\\core\\indexing.py:190: SettingWithCopyWarning: \n",
      "A value is trying to be set on a copy of a slice from a DataFrame\n",
      "\n",
      "See the caveats in the documentation: http://pandas.pydata.org/pandas-docs/stable/indexing.html#indexing-view-versus-copy\n",
      "  self._setitem_with_indexer(indexer, value)\n",
      "C:\\ProgramData\\Anaconda3\\lib\\site-packages\\pandas\\core\\indexing.py:190: SettingWithCopyWarning: \n",
      "A value is trying to be set on a copy of a slice from a DataFrame\n",
      "\n",
      "See the caveats in the documentation: http://pandas.pydata.org/pandas-docs/stable/indexing.html#indexing-view-versus-copy\n",
      "  self._setitem_with_indexer(indexer, value)\n"
     ]
    },
    {
     "name": "stdout",
     "output_type": "stream",
     "text": [
      "BOSCHLTD {'Date': datetime.datetime(2020, 7, 31, 0, 0)}\n",
      "BPCL {'Date': datetime.datetime(2020, 7, 31, 0, 0)}\n",
      "SIEMENS"
     ]
    },
    {
     "name": "stderr",
     "output_type": "stream",
     "text": [
      "C:\\ProgramData\\Anaconda3\\lib\\site-packages\\pandas\\core\\indexing.py:190: SettingWithCopyWarning: \n",
      "A value is trying to be set on a copy of a slice from a DataFrame\n",
      "\n",
      "See the caveats in the documentation: http://pandas.pydata.org/pandas-docs/stable/indexing.html#indexing-view-versus-copy\n",
      "  self._setitem_with_indexer(indexer, value)\n",
      "C:\\ProgramData\\Anaconda3\\lib\\site-packages\\pandas\\core\\indexing.py:190: SettingWithCopyWarning: \n",
      "A value is trying to be set on a copy of a slice from a DataFrame\n",
      "\n",
      "See the caveats in the documentation: http://pandas.pydata.org/pandas-docs/stable/indexing.html#indexing-view-versus-copy\n",
      "  self._setitem_with_indexer(indexer, value)\n",
      "C:\\ProgramData\\Anaconda3\\lib\\site-packages\\pandas\\core\\indexing.py:190: SettingWithCopyWarning: \n",
      "A value is trying to be set on a copy of a slice from a DataFrame\n",
      "\n",
      "See the caveats in the documentation: http://pandas.pydata.org/pandas-docs/stable/indexing.html#indexing-view-versus-copy\n",
      "  self._setitem_with_indexer(indexer, value)\n"
     ]
    },
    {
     "name": "stdout",
     "output_type": "stream",
     "text": [
      " {'Date': datetime.datetime(2020, 7, 31, 0, 0)}\n",
      "TATAMOTORS {'Date': datetime.datetime(2020, 7, 31, 0, 0)}\n"
     ]
    },
    {
     "name": "stderr",
     "output_type": "stream",
     "text": [
      "C:\\ProgramData\\Anaconda3\\lib\\site-packages\\pandas\\core\\indexing.py:190: SettingWithCopyWarning: \n",
      "A value is trying to be set on a copy of a slice from a DataFrame\n",
      "\n",
      "See the caveats in the documentation: http://pandas.pydata.org/pandas-docs/stable/indexing.html#indexing-view-versus-copy\n",
      "  self._setitem_with_indexer(indexer, value)\n",
      "C:\\ProgramData\\Anaconda3\\lib\\site-packages\\pandas\\core\\indexing.py:190: SettingWithCopyWarning: \n",
      "A value is trying to be set on a copy of a slice from a DataFrame\n",
      "\n",
      "See the caveats in the documentation: http://pandas.pydata.org/pandas-docs/stable/indexing.html#indexing-view-versus-copy\n",
      "  self._setitem_with_indexer(indexer, value)\n",
      "C:\\ProgramData\\Anaconda3\\lib\\site-packages\\pandas\\core\\indexing.py:190: SettingWithCopyWarning: \n",
      "A value is trying to be set on a copy of a slice from a DataFrame\n",
      "\n",
      "See the caveats in the documentation: http://pandas.pydata.org/pandas-docs/stable/indexing.html#indexing-view-versus-copy\n",
      "  self._setitem_with_indexer(indexer, value)\n"
     ]
    },
    {
     "name": "stdout",
     "output_type": "stream",
     "text": [
      "VOLTAS {'Date': datetime.datetime(2020, 7, 31, 0, 0)}\n",
      "GESHIP {'Date': datetime.datetime(2020, 7, 31, 0, 0)}\n",
      "DEEPAKFERT {'Date': datetime.datetime(2020, 7, 31, 0, 0)}\n",
      "EXCELINDUS {'Date': datetime.datetime(2020, 7, 31, 0, 0)}\n"
     ]
    },
    {
     "name": "stderr",
     "output_type": "stream",
     "text": [
      "C:\\ProgramData\\Anaconda3\\lib\\site-packages\\pandas\\core\\indexing.py:190: SettingWithCopyWarning: \n",
      "A value is trying to be set on a copy of a slice from a DataFrame\n",
      "\n",
      "See the caveats in the documentation: http://pandas.pydata.org/pandas-docs/stable/indexing.html#indexing-view-versus-copy\n",
      "  self._setitem_with_indexer(indexer, value)\n",
      "C:\\ProgramData\\Anaconda3\\lib\\site-packages\\pandas\\core\\indexing.py:190: SettingWithCopyWarning: \n",
      "A value is trying to be set on a copy of a slice from a DataFrame\n",
      "\n",
      "See the caveats in the documentation: http://pandas.pydata.org/pandas-docs/stable/indexing.html#indexing-view-versus-copy\n",
      "  self._setitem_with_indexer(indexer, value)\n"
     ]
    },
    {
     "name": "stdout",
     "output_type": "stream",
     "text": [
      "GLAXO {'Date': datetime.datetime(2020, 7, 31, 0, 0)}\n",
      "GNFC {'Date': datetime.datetime(2020, 7, 31, 0, 0)}\n"
     ]
    },
    {
     "name": "stderr",
     "output_type": "stream",
     "text": [
      "C:\\ProgramData\\Anaconda3\\lib\\site-packages\\pandas\\core\\indexing.py:190: SettingWithCopyWarning: \n",
      "A value is trying to be set on a copy of a slice from a DataFrame\n",
      "\n",
      "See the caveats in the documentation: http://pandas.pydata.org/pandas-docs/stable/indexing.html#indexing-view-versus-copy\n",
      "  self._setitem_with_indexer(indexer, value)\n",
      "C:\\ProgramData\\Anaconda3\\lib\\site-packages\\pandas\\core\\indexing.py:190: SettingWithCopyWarning: \n",
      "A value is trying to be set on a copy of a slice from a DataFrame\n",
      "\n",
      "See the caveats in the documentation: http://pandas.pydata.org/pandas-docs/stable/indexing.html#indexing-view-versus-copy\n",
      "  self._setitem_with_indexer(indexer, value)\n",
      "C:\\ProgramData\\Anaconda3\\lib\\site-packages\\pandas\\core\\indexing.py:190: SettingWithCopyWarning: \n",
      "A value is trying to be set on a copy of a slice from a DataFrame\n",
      "\n",
      "See the caveats in the documentation: http://pandas.pydata.org/pandas-docs/stable/indexing.html#indexing-view-versus-copy\n",
      "  self._setitem_with_indexer(indexer, value)\n"
     ]
    },
    {
     "name": "stdout",
     "output_type": "stream",
     "text": [
      "SANOFI {'Date': datetime.datetime(2020, 7, 31, 0, 0)}\n",
      "GSKCONS {'Date': datetime.datetime(2020, 4, 15, 0, 0)}\n",
      "PFIZER {'Date': datetime.datetime(2020, 7, 31, 0, 0)}\n",
      "GSFC"
     ]
    },
    {
     "name": "stderr",
     "output_type": "stream",
     "text": [
      "C:\\ProgramData\\Anaconda3\\lib\\site-packages\\pandas\\core\\indexing.py:190: SettingWithCopyWarning: \n",
      "A value is trying to be set on a copy of a slice from a DataFrame\n",
      "\n",
      "See the caveats in the documentation: http://pandas.pydata.org/pandas-docs/stable/indexing.html#indexing-view-versus-copy\n",
      "  self._setitem_with_indexer(indexer, value)\n",
      "C:\\ProgramData\\Anaconda3\\lib\\site-packages\\pandas\\core\\indexing.py:190: SettingWithCopyWarning: \n",
      "A value is trying to be set on a copy of a slice from a DataFrame\n",
      "\n",
      "See the caveats in the documentation: http://pandas.pydata.org/pandas-docs/stable/indexing.html#indexing-view-versus-copy\n",
      "  self._setitem_with_indexer(indexer, value)\n"
     ]
    },
    {
     "name": "stdout",
     "output_type": "stream",
     "text": [
      " {'Date': datetime.datetime(2020, 7, 31, 0, 0)}\n",
      "HINDUNILVR {'Date': datetime.datetime(2020, 7, 31, 0, 0)}\n"
     ]
    },
    {
     "name": "stderr",
     "output_type": "stream",
     "text": [
      "C:\\ProgramData\\Anaconda3\\lib\\site-packages\\pandas\\core\\indexing.py:190: SettingWithCopyWarning: \n",
      "A value is trying to be set on a copy of a slice from a DataFrame\n",
      "\n",
      "See the caveats in the documentation: http://pandas.pydata.org/pandas-docs/stable/indexing.html#indexing-view-versus-copy\n",
      "  self._setitem_with_indexer(indexer, value)\n",
      "C:\\ProgramData\\Anaconda3\\lib\\site-packages\\pandas\\core\\indexing.py:190: SettingWithCopyWarning: \n",
      "A value is trying to be set on a copy of a slice from a DataFrame\n",
      "\n",
      "See the caveats in the documentation: http://pandas.pydata.org/pandas-docs/stable/indexing.html#indexing-view-versus-copy\n",
      "  self._setitem_with_indexer(indexer, value)\n"
     ]
    },
    {
     "name": "stdout",
     "output_type": "stream",
     "text": [
      "AKZOINDIA {'Date': datetime.datetime(2020, 7, 31, 0, 0)}\n",
      "NOCIL {'Date': datetime.datetime(2020, 7, 31, 0, 0)}\n"
     ]
    },
    {
     "name": "stderr",
     "output_type": "stream",
     "text": [
      "C:\\ProgramData\\Anaconda3\\lib\\site-packages\\pandas\\core\\indexing.py:190: SettingWithCopyWarning: \n",
      "A value is trying to be set on a copy of a slice from a DataFrame\n",
      "\n",
      "See the caveats in the documentation: http://pandas.pydata.org/pandas-docs/stable/indexing.html#indexing-view-versus-copy\n",
      "  self._setitem_with_indexer(indexer, value)\n",
      "C:\\ProgramData\\Anaconda3\\lib\\site-packages\\pandas\\core\\indexing.py:190: SettingWithCopyWarning: \n",
      "A value is trying to be set on a copy of a slice from a DataFrame\n",
      "\n",
      "See the caveats in the documentation: http://pandas.pydata.org/pandas-docs/stable/indexing.html#indexing-view-versus-copy\n",
      "  self._setitem_with_indexer(indexer, value)\n"
     ]
    },
    {
     "name": "stdout",
     "output_type": "stream",
     "text": [
      "SPIC {'Date': datetime.datetime(2020, 7, 31, 0, 0)}\n",
      "TATACHEM {'Date': datetime.datetime(2020, 7, 31, 0, 0)}\n",
      "TNPETRO {'Date': datetime.datetime(2020, 7, 31, 0, 0)}\n"
     ]
    },
    {
     "name": "stderr",
     "output_type": "stream",
     "text": [
      "C:\\ProgramData\\Anaconda3\\lib\\site-packages\\pandas\\core\\indexing.py:190: SettingWithCopyWarning: \n",
      "A value is trying to be set on a copy of a slice from a DataFrame\n",
      "\n",
      "See the caveats in the documentation: http://pandas.pydata.org/pandas-docs/stable/indexing.html#indexing-view-versus-copy\n",
      "  self._setitem_with_indexer(indexer, value)\n",
      "C:\\ProgramData\\Anaconda3\\lib\\site-packages\\pandas\\core\\indexing.py:190: SettingWithCopyWarning: \n",
      "A value is trying to be set on a copy of a slice from a DataFrame\n",
      "\n",
      "See the caveats in the documentation: http://pandas.pydata.org/pandas-docs/stable/indexing.html#indexing-view-versus-copy\n",
      "  self._setitem_with_indexer(indexer, value)\n"
     ]
    },
    {
     "name": "stdout",
     "output_type": "stream",
     "text": [
      "ZUARIGLOB {'Date': datetime.datetime(2020, 7, 31, 0, 0)}\n",
      "NESTLEIND {'Date': datetime.datetime(2020, 7, 31, 0, 0)}\n"
     ]
    },
    {
     "name": "stderr",
     "output_type": "stream",
     "text": [
      "C:\\ProgramData\\Anaconda3\\lib\\site-packages\\pandas\\core\\indexing.py:190: SettingWithCopyWarning: \n",
      "A value is trying to be set on a copy of a slice from a DataFrame\n",
      "\n",
      "See the caveats in the documentation: http://pandas.pydata.org/pandas-docs/stable/indexing.html#indexing-view-versus-copy\n",
      "  self._setitem_with_indexer(indexer, value)\n",
      "C:\\ProgramData\\Anaconda3\\lib\\site-packages\\pandas\\core\\indexing.py:190: SettingWithCopyWarning: \n",
      "A value is trying to be set on a copy of a slice from a DataFrame\n",
      "\n",
      "See the caveats in the documentation: http://pandas.pydata.org/pandas-docs/stable/indexing.html#indexing-view-versus-copy\n",
      "  self._setitem_with_indexer(indexer, value)\n"
     ]
    },
    {
     "name": "stdout",
     "output_type": "stream",
     "text": [
      "ASIANPAINT {'Date': datetime.datetime(2020, 7, 31, 0, 0)}\n",
      "BRITANNIA {'Date': datetime.datetime(2020, 7, 31, 0, 0)}\n"
     ]
    },
    {
     "name": "stderr",
     "output_type": "stream",
     "text": [
      "C:\\ProgramData\\Anaconda3\\lib\\site-packages\\pandas\\core\\indexing.py:190: SettingWithCopyWarning: \n",
      "A value is trying to be set on a copy of a slice from a DataFrame\n",
      "\n",
      "See the caveats in the documentation: http://pandas.pydata.org/pandas-docs/stable/indexing.html#indexing-view-versus-copy\n",
      "  self._setitem_with_indexer(indexer, value)\n",
      "C:\\ProgramData\\Anaconda3\\lib\\site-packages\\pandas\\core\\indexing.py:190: SettingWithCopyWarning: \n",
      "A value is trying to be set on a copy of a slice from a DataFrame\n",
      "\n",
      "See the caveats in the documentation: http://pandas.pydata.org/pandas-docs/stable/indexing.html#indexing-view-versus-copy\n",
      "  self._setitem_with_indexer(indexer, value)\n",
      "C:\\ProgramData\\Anaconda3\\lib\\site-packages\\pandas\\core\\indexing.py:190: SettingWithCopyWarning: \n",
      "A value is trying to be set on a copy of a slice from a DataFrame\n",
      "\n",
      "See the caveats in the documentation: http://pandas.pydata.org/pandas-docs/stable/indexing.html#indexing-view-versus-copy\n",
      "  self._setitem_with_indexer(indexer, value)\n"
     ]
    },
    {
     "name": "stdout",
     "output_type": "stream",
     "text": [
      "COLPAL {'Date': datetime.datetime(2020, 7, 31, 0, 0)}\n",
      "EIHOTEL {'Date': datetime.datetime(2020, 7, 31, 0, 0)}\n",
      "INDHOTEL {'Date': datetime.datetime(2020, 7, 31, 0, 0)}\n"
     ]
    },
    {
     "name": "stderr",
     "output_type": "stream",
     "text": [
      "C:\\ProgramData\\Anaconda3\\lib\\site-packages\\pandas\\core\\indexing.py:190: SettingWithCopyWarning: \n",
      "A value is trying to be set on a copy of a slice from a DataFrame\n",
      "\n",
      "See the caveats in the documentation: http://pandas.pydata.org/pandas-docs/stable/indexing.html#indexing-view-versus-copy\n",
      "  self._setitem_with_indexer(indexer, value)\n",
      "C:\\ProgramData\\Anaconda3\\lib\\site-packages\\pandas\\core\\indexing.py:190: SettingWithCopyWarning: \n",
      "A value is trying to be set on a copy of a slice from a DataFrame\n",
      "\n",
      "See the caveats in the documentation: http://pandas.pydata.org/pandas-docs/stable/indexing.html#indexing-view-versus-copy\n",
      "  self._setitem_with_indexer(indexer, value)\n"
     ]
    },
    {
     "name": "stdout",
     "output_type": "stream",
     "text": [
      "CASTROLIND {'Date': datetime.datetime(2020, 7, 31, 0, 0)}\n",
      "ITC {'Date': datetime.datetime(2020, 7, 31, 0, 0)}\n",
      "APOLLOTYRE"
     ]
    },
    {
     "name": "stderr",
     "output_type": "stream",
     "text": [
      "C:\\ProgramData\\Anaconda3\\lib\\site-packages\\pandas\\core\\indexing.py:190: SettingWithCopyWarning: \n",
      "A value is trying to be set on a copy of a slice from a DataFrame\n",
      "\n",
      "See the caveats in the documentation: http://pandas.pydata.org/pandas-docs/stable/indexing.html#indexing-view-versus-copy\n",
      "  self._setitem_with_indexer(indexer, value)\n",
      "C:\\ProgramData\\Anaconda3\\lib\\site-packages\\pandas\\core\\indexing.py:190: SettingWithCopyWarning: \n",
      "A value is trying to be set on a copy of a slice from a DataFrame\n",
      "\n",
      "See the caveats in the documentation: http://pandas.pydata.org/pandas-docs/stable/indexing.html#indexing-view-versus-copy\n",
      "  self._setitem_with_indexer(indexer, value)\n",
      "C:\\ProgramData\\Anaconda3\\lib\\site-packages\\pandas\\core\\indexing.py:190: SettingWithCopyWarning: \n",
      "A value is trying to be set on a copy of a slice from a DataFrame\n",
      "\n",
      "See the caveats in the documentation: http://pandas.pydata.org/pandas-docs/stable/indexing.html#indexing-view-versus-copy\n",
      "  self._setitem_with_indexer(indexer, value)\n"
     ]
    },
    {
     "name": "stdout",
     "output_type": "stream",
     "text": [
      " {'Date': datetime.datetime(2020, 7, 31, 0, 0)}\n",
      "CEATLTD {'Date': datetime.datetime(2020, 7, 31, 0, 0)}\n"
     ]
    },
    {
     "name": "stderr",
     "output_type": "stream",
     "text": [
      "C:\\ProgramData\\Anaconda3\\lib\\site-packages\\pandas\\core\\indexing.py:190: SettingWithCopyWarning: \n",
      "A value is trying to be set on a copy of a slice from a DataFrame\n",
      "\n",
      "See the caveats in the documentation: http://pandas.pydata.org/pandas-docs/stable/indexing.html#indexing-view-versus-copy\n",
      "  self._setitem_with_indexer(indexer, value)\n",
      "C:\\ProgramData\\Anaconda3\\lib\\site-packages\\pandas\\core\\indexing.py:190: SettingWithCopyWarning: \n",
      "A value is trying to be set on a copy of a slice from a DataFrame\n",
      "\n",
      "See the caveats in the documentation: http://pandas.pydata.org/pandas-docs/stable/indexing.html#indexing-view-versus-copy\n",
      "  self._setitem_with_indexer(indexer, value)\n",
      "C:\\ProgramData\\Anaconda3\\lib\\site-packages\\pandas\\core\\indexing.py:190: SettingWithCopyWarning: \n",
      "A value is trying to be set on a copy of a slice from a DataFrame\n",
      "\n",
      "See the caveats in the documentation: http://pandas.pydata.org/pandas-docs/stable/indexing.html#indexing-view-versus-copy\n",
      "  self._setitem_with_indexer(indexer, value)\n"
     ]
    },
    {
     "name": "stdout",
     "output_type": "stream",
     "text": [
      "TCIFINANCE {'Date': datetime.datetime(2020, 7, 1, 0, 0)}\n",
      "TATAINVEST {'Date': datetime.datetime(2020, 7, 31, 0, 0)}\n",
      "BBTC {'Date': datetime.datetime(2020, 7, 17, 0, 0)}\n",
      "GREAVESCOT {'Date': datetime.datetime(2020, 7, 31, 0, 0)}\n",
      "SAGCEM {'Date': datetime.datetime(2020, 7, 31, 0, 0)}\n",
      "DECCANCE {'Date': datetime.datetime(2020, 7, 31, 0, 0)}\n"
     ]
    },
    {
     "name": "stderr",
     "output_type": "stream",
     "text": [
      "C:\\ProgramData\\Anaconda3\\lib\\site-packages\\pandas\\core\\indexing.py:190: SettingWithCopyWarning: \n",
      "A value is trying to be set on a copy of a slice from a DataFrame\n",
      "\n",
      "See the caveats in the documentation: http://pandas.pydata.org/pandas-docs/stable/indexing.html#indexing-view-versus-copy\n",
      "  self._setitem_with_indexer(indexer, value)\n",
      "C:\\ProgramData\\Anaconda3\\lib\\site-packages\\pandas\\core\\indexing.py:190: SettingWithCopyWarning: \n",
      "A value is trying to be set on a copy of a slice from a DataFrame\n",
      "\n",
      "See the caveats in the documentation: http://pandas.pydata.org/pandas-docs/stable/indexing.html#indexing-view-versus-copy\n",
      "  self._setitem_with_indexer(indexer, value)\n"
     ]
    },
    {
     "name": "stdout",
     "output_type": "stream",
     "text": [
      "MANGLMCEM {'Date': datetime.datetime(2020, 7, 31, 0, 0)}\n",
      "NCLIND {'Date': datetime.datetime(2020, 7, 31, 0, 0)}\n",
      "BALKRISIND {'Date': datetime.datetime(2020, 7, 31, 0, 0)}\n"
     ]
    },
    {
     "name": "stderr",
     "output_type": "stream",
     "text": [
      "C:\\ProgramData\\Anaconda3\\lib\\site-packages\\pandas\\core\\indexing.py:190: SettingWithCopyWarning: \n",
      "A value is trying to be set on a copy of a slice from a DataFrame\n",
      "\n",
      "See the caveats in the documentation: http://pandas.pydata.org/pandas-docs/stable/indexing.html#indexing-view-versus-copy\n",
      "  self._setitem_with_indexer(indexer, value)\n",
      "C:\\ProgramData\\Anaconda3\\lib\\site-packages\\pandas\\core\\indexing.py:190: SettingWithCopyWarning: \n",
      "A value is trying to be set on a copy of a slice from a DataFrame\n",
      "\n",
      "See the caveats in the documentation: http://pandas.pydata.org/pandas-docs/stable/indexing.html#indexing-view-versus-copy\n",
      "  self._setitem_with_indexer(indexer, value)\n",
      "C:\\ProgramData\\Anaconda3\\lib\\site-packages\\pandas\\core\\indexing.py:190: SettingWithCopyWarning: \n",
      "A value is trying to be set on a copy of a slice from a DataFrame\n",
      "\n",
      "See the caveats in the documentation: http://pandas.pydata.org/pandas-docs/stable/indexing.html#indexing-view-versus-copy\n",
      "  self._setitem_with_indexer(indexer, value)\n"
     ]
    },
    {
     "name": "stdout",
     "output_type": "stream",
     "text": [
      "ORIENTPPR {'Date': datetime.datetime(2020, 7, 31, 0, 0)}\n",
      "SESHAPAPER {'Date': datetime.datetime(2020, 7, 31, 0, 0)}\n"
     ]
    },
    {
     "name": "stderr",
     "output_type": "stream",
     "text": [
      "C:\\ProgramData\\Anaconda3\\lib\\site-packages\\pandas\\core\\indexing.py:190: SettingWithCopyWarning: \n",
      "A value is trying to be set on a copy of a slice from a DataFrame\n",
      "\n",
      "See the caveats in the documentation: http://pandas.pydata.org/pandas-docs/stable/indexing.html#indexing-view-versus-copy\n",
      "  self._setitem_with_indexer(indexer, value)\n",
      "C:\\ProgramData\\Anaconda3\\lib\\site-packages\\pandas\\core\\indexing.py:190: SettingWithCopyWarning: \n",
      "A value is trying to be set on a copy of a slice from a DataFrame\n",
      "\n",
      "See the caveats in the documentation: http://pandas.pydata.org/pandas-docs/stable/indexing.html#indexing-view-versus-copy\n",
      "  self._setitem_with_indexer(indexer, value)\n"
     ]
    },
    {
     "name": "stdout",
     "output_type": "stream",
     "text": [
      "SINTEX {'Date': datetime.datetime(2020, 6, 3, 0, 0)}\n",
      "DCM {'Date': datetime.datetime(2020, 7, 31, 0, 0)}\n",
      "KESORAMIND {'Date': datetime.datetime(2020, 7, 31, 0, 0)}\n"
     ]
    },
    {
     "name": "stderr",
     "output_type": "stream",
     "text": [
      "C:\\ProgramData\\Anaconda3\\lib\\site-packages\\pandas\\core\\indexing.py:190: SettingWithCopyWarning: \n",
      "A value is trying to be set on a copy of a slice from a DataFrame\n",
      "\n",
      "See the caveats in the documentation: http://pandas.pydata.org/pandas-docs/stable/indexing.html#indexing-view-versus-copy\n",
      "  self._setitem_with_indexer(indexer, value)\n",
      "C:\\ProgramData\\Anaconda3\\lib\\site-packages\\pandas\\core\\indexing.py:190: SettingWithCopyWarning: \n",
      "A value is trying to be set on a copy of a slice from a DataFrame\n",
      "\n",
      "See the caveats in the documentation: http://pandas.pydata.org/pandas-docs/stable/indexing.html#indexing-view-versus-copy\n",
      "  self._setitem_with_indexer(indexer, value)\n"
     ]
    },
    {
     "name": "stdout",
     "output_type": "stream",
     "text": [
      "VTL {'Date': datetime.datetime(2020, 7, 31, 0, 0)}\n",
      "PENINLAND {'Date': datetime.datetime(2020, 7, 31, 0, 0)}\n"
     ]
    },
    {
     "name": "stderr",
     "output_type": "stream",
     "text": [
      "C:\\ProgramData\\Anaconda3\\lib\\site-packages\\pandas\\core\\indexing.py:190: SettingWithCopyWarning: \n",
      "A value is trying to be set on a copy of a slice from a DataFrame\n",
      "\n",
      "See the caveats in the documentation: http://pandas.pydata.org/pandas-docs/stable/indexing.html#indexing-view-versus-copy\n",
      "  self._setitem_with_indexer(indexer, value)\n",
      "C:\\ProgramData\\Anaconda3\\lib\\site-packages\\pandas\\core\\indexing.py:190: SettingWithCopyWarning: \n",
      "A value is trying to be set on a copy of a slice from a DataFrame\n",
      "\n",
      "See the caveats in the documentation: http://pandas.pydata.org/pandas-docs/stable/indexing.html#indexing-view-versus-copy\n",
      "  self._setitem_with_indexer(indexer, value)\n"
     ]
    },
    {
     "name": "stdout",
     "output_type": "stream",
     "text": [
      "PHOENIXLTD {'Date': datetime.datetime(2020, 7, 31, 0, 0)}\n",
      "RUBYMILLS"
     ]
    },
    {
     "name": "stderr",
     "output_type": "stream",
     "text": [
      "C:\\ProgramData\\Anaconda3\\lib\\site-packages\\pandas\\core\\indexing.py:190: SettingWithCopyWarning: \n",
      "A value is trying to be set on a copy of a slice from a DataFrame\n",
      "\n",
      "See the caveats in the documentation: http://pandas.pydata.org/pandas-docs/stable/indexing.html#indexing-view-versus-copy\n",
      "  self._setitem_with_indexer(indexer, value)\n",
      "C:\\ProgramData\\Anaconda3\\lib\\site-packages\\pandas\\core\\indexing.py:190: SettingWithCopyWarning: \n",
      "A value is trying to be set on a copy of a slice from a DataFrame\n",
      "\n",
      "See the caveats in the documentation: http://pandas.pydata.org/pandas-docs/stable/indexing.html#indexing-view-versus-copy\n",
      "  self._setitem_with_indexer(indexer, value)\n"
     ]
    },
    {
     "name": "stdout",
     "output_type": "stream",
     "text": [
      " {'Date': datetime.datetime(2020, 7, 31, 0, 0)}\n",
      "SWANENERGY {'Date': datetime.datetime(2020, 7, 31, 0, 0)}\n"
     ]
    },
    {
     "name": "stderr",
     "output_type": "stream",
     "text": [
      "C:\\ProgramData\\Anaconda3\\lib\\site-packages\\pandas\\core\\indexing.py:190: SettingWithCopyWarning: \n",
      "A value is trying to be set on a copy of a slice from a DataFrame\n",
      "\n",
      "See the caveats in the documentation: http://pandas.pydata.org/pandas-docs/stable/indexing.html#indexing-view-versus-copy\n",
      "  self._setitem_with_indexer(indexer, value)\n",
      "C:\\ProgramData\\Anaconda3\\lib\\site-packages\\pandas\\core\\indexing.py:190: SettingWithCopyWarning: \n",
      "A value is trying to be set on a copy of a slice from a DataFrame\n",
      "\n",
      "See the caveats in the documentation: http://pandas.pydata.org/pandas-docs/stable/indexing.html#indexing-view-versus-copy\n",
      "  self._setitem_with_indexer(indexer, value)\n"
     ]
    },
    {
     "name": "stdout",
     "output_type": "stream",
     "text": [
      "BANSWRAS {'Date': datetime.datetime(2020, 7, 31, 0, 0)}\n",
      "SRF {'Date': datetime.datetime(2020, 7, 31, 0, 0)}\n"
     ]
    },
    {
     "name": "stderr",
     "output_type": "stream",
     "text": [
      "C:\\ProgramData\\Anaconda3\\lib\\site-packages\\pandas\\core\\indexing.py:190: SettingWithCopyWarning: \n",
      "A value is trying to be set on a copy of a slice from a DataFrame\n",
      "\n",
      "See the caveats in the documentation: http://pandas.pydata.org/pandas-docs/stable/indexing.html#indexing-view-versus-copy\n",
      "  self._setitem_with_indexer(indexer, value)\n",
      "C:\\ProgramData\\Anaconda3\\lib\\site-packages\\pandas\\core\\indexing.py:190: SettingWithCopyWarning: \n",
      "A value is trying to be set on a copy of a slice from a DataFrame\n",
      "\n",
      "See the caveats in the documentation: http://pandas.pydata.org/pandas-docs/stable/indexing.html#indexing-view-versus-copy\n",
      "  self._setitem_with_indexer(indexer, value)\n"
     ]
    },
    {
     "name": "stdout",
     "output_type": "stream",
     "text": [
      "SIYSIL {'Date': datetime.datetime(2020, 7, 31, 0, 0)}\n",
      "BBL {'Date': datetime.datetime(2020, 7, 31, 0, 0)}\n"
     ]
    },
    {
     "name": "stderr",
     "output_type": "stream",
     "text": [
      "C:\\ProgramData\\Anaconda3\\lib\\site-packages\\pandas\\core\\indexing.py:190: SettingWithCopyWarning: \n",
      "A value is trying to be set on a copy of a slice from a DataFrame\n",
      "\n",
      "See the caveats in the documentation: http://pandas.pydata.org/pandas-docs/stable/indexing.html#indexing-view-versus-copy\n",
      "  self._setitem_with_indexer(indexer, value)\n",
      "C:\\ProgramData\\Anaconda3\\lib\\site-packages\\pandas\\core\\indexing.py:190: SettingWithCopyWarning: \n",
      "A value is trying to be set on a copy of a slice from a DataFrame\n",
      "\n",
      "See the caveats in the documentation: http://pandas.pydata.org/pandas-docs/stable/indexing.html#indexing-view-versus-copy\n",
      "  self._setitem_with_indexer(indexer, value)\n"
     ]
    },
    {
     "name": "stdout",
     "output_type": "stream",
     "text": [
      "HIRECT {'Date': datetime.datetime(2020, 7, 31, 0, 0)}\n",
      "NIPPOBATRY {'Date': datetime.datetime(2020, 7, 31, 0, 0)}\n"
     ]
    },
    {
     "name": "stderr",
     "output_type": "stream",
     "text": [
      "C:\\ProgramData\\Anaconda3\\lib\\site-packages\\pandas\\core\\indexing.py:190: SettingWithCopyWarning: \n",
      "A value is trying to be set on a copy of a slice from a DataFrame\n",
      "\n",
      "See the caveats in the documentation: http://pandas.pydata.org/pandas-docs/stable/indexing.html#indexing-view-versus-copy\n",
      "  self._setitem_with_indexer(indexer, value)\n",
      "C:\\ProgramData\\Anaconda3\\lib\\site-packages\\pandas\\core\\indexing.py:190: SettingWithCopyWarning: \n",
      "A value is trying to be set on a copy of a slice from a DataFrame\n",
      "\n",
      "See the caveats in the documentation: http://pandas.pydata.org/pandas-docs/stable/indexing.html#indexing-view-versus-copy\n",
      "  self._setitem_with_indexer(indexer, value)\n"
     ]
    },
    {
     "name": "stdout",
     "output_type": "stream",
     "text": [
      "ZENSARTECH {'Date': datetime.datetime(2020, 7, 31, 0, 0)}\n",
      "SARDAEN"
     ]
    },
    {
     "name": "stderr",
     "output_type": "stream",
     "text": [
      "C:\\ProgramData\\Anaconda3\\lib\\site-packages\\pandas\\core\\indexing.py:190: SettingWithCopyWarning: \n",
      "A value is trying to be set on a copy of a slice from a DataFrame\n",
      "\n",
      "See the caveats in the documentation: http://pandas.pydata.org/pandas-docs/stable/indexing.html#indexing-view-versus-copy\n",
      "  self._setitem_with_indexer(indexer, value)\n"
     ]
    },
    {
     "name": "stdout",
     "output_type": "stream",
     "text": [
      " {'Date': datetime.datetime(2020, 7, 31, 0, 0)}\n",
      "INDIANHUME {'Date': datetime.datetime(2020, 7, 31, 0, 0)}\n"
     ]
    },
    {
     "name": "stderr",
     "output_type": "stream",
     "text": [
      "C:\\ProgramData\\Anaconda3\\lib\\site-packages\\pandas\\core\\indexing.py:190: SettingWithCopyWarning: \n",
      "A value is trying to be set on a copy of a slice from a DataFrame\n",
      "\n",
      "See the caveats in the documentation: http://pandas.pydata.org/pandas-docs/stable/indexing.html#indexing-view-versus-copy\n",
      "  self._setitem_with_indexer(indexer, value)\n",
      "C:\\ProgramData\\Anaconda3\\lib\\site-packages\\pandas\\core\\indexing.py:190: SettingWithCopyWarning: \n",
      "A value is trying to be set on a copy of a slice from a DataFrame\n",
      "\n",
      "See the caveats in the documentation: http://pandas.pydata.org/pandas-docs/stable/indexing.html#indexing-view-versus-copy\n",
      "  self._setitem_with_indexer(indexer, value)\n"
     ]
    },
    {
     "name": "stdout",
     "output_type": "stream",
     "text": [
      "ORIENTABRA {'Date': datetime.datetime(2020, 7, 31, 0, 0)}\n",
      "TINPLATE {'Date': datetime.datetime(2020, 7, 31, 0, 0)}\n"
     ]
    },
    {
     "name": "stderr",
     "output_type": "stream",
     "text": [
      "C:\\ProgramData\\Anaconda3\\lib\\site-packages\\pandas\\core\\indexing.py:190: SettingWithCopyWarning: \n",
      "A value is trying to be set on a copy of a slice from a DataFrame\n",
      "\n",
      "See the caveats in the documentation: http://pandas.pydata.org/pandas-docs/stable/indexing.html#indexing-view-versus-copy\n",
      "  self._setitem_with_indexer(indexer, value)\n",
      "C:\\ProgramData\\Anaconda3\\lib\\site-packages\\pandas\\core\\indexing.py:190: SettingWithCopyWarning: \n",
      "A value is trying to be set on a copy of a slice from a DataFrame\n",
      "\n",
      "See the caveats in the documentation: http://pandas.pydata.org/pandas-docs/stable/indexing.html#indexing-view-versus-copy\n",
      "  self._setitem_with_indexer(indexer, value)\n"
     ]
    },
    {
     "name": "stdout",
     "output_type": "stream",
     "text": [
      "AUTOAXLES {'Date': datetime.datetime(2020, 7, 31, 0, 0)}\n",
      "TALBROAUTO {'Date': datetime.datetime(2020, 7, 31, 0, 0)}\n"
     ]
    },
    {
     "name": "stderr",
     "output_type": "stream",
     "text": [
      "C:\\ProgramData\\Anaconda3\\lib\\site-packages\\pandas\\core\\indexing.py:190: SettingWithCopyWarning: \n",
      "A value is trying to be set on a copy of a slice from a DataFrame\n",
      "\n",
      "See the caveats in the documentation: http://pandas.pydata.org/pandas-docs/stable/indexing.html#indexing-view-versus-copy\n",
      "  self._setitem_with_indexer(indexer, value)\n",
      "C:\\ProgramData\\Anaconda3\\lib\\site-packages\\pandas\\core\\indexing.py:190: SettingWithCopyWarning: \n",
      "A value is trying to be set on a copy of a slice from a DataFrame\n",
      "\n",
      "See the caveats in the documentation: http://pandas.pydata.org/pandas-docs/stable/indexing.html#indexing-view-versus-copy\n",
      "  self._setitem_with_indexer(indexer, value)\n",
      "C:\\ProgramData\\Anaconda3\\lib\\site-packages\\pandas\\core\\indexing.py:190: SettingWithCopyWarning: \n",
      "A value is trying to be set on a copy of a slice from a DataFrame\n",
      "\n",
      "See the caveats in the documentation: http://pandas.pydata.org/pandas-docs/stable/indexing.html#indexing-view-versus-copy\n",
      "  self._setitem_with_indexer(indexer, value)\n"
     ]
    },
    {
     "name": "stdout",
     "output_type": "stream",
     "text": [
      "SMLISUZU {'Date': datetime.datetime(2020, 7, 31, 0, 0)}\n",
      "TIL {'Date': datetime.datetime(2020, 7, 31, 0, 0)}\n",
      "DYNAMATECH {'Date': datetime.datetime(2020, 7, 31, 0, 0)}\n",
      "EICHERMOT {'Date': datetime.datetime(2020, 7, 31, 0, 0)}\n"
     ]
    },
    {
     "name": "stderr",
     "output_type": "stream",
     "text": [
      "C:\\ProgramData\\Anaconda3\\lib\\site-packages\\pandas\\core\\indexing.py:190: SettingWithCopyWarning: \n",
      "A value is trying to be set on a copy of a slice from a DataFrame\n",
      "\n",
      "See the caveats in the documentation: http://pandas.pydata.org/pandas-docs/stable/indexing.html#indexing-view-versus-copy\n",
      "  self._setitem_with_indexer(indexer, value)\n",
      "C:\\ProgramData\\Anaconda3\\lib\\site-packages\\pandas\\core\\indexing.py:190: SettingWithCopyWarning: \n",
      "A value is trying to be set on a copy of a slice from a DataFrame\n",
      "\n",
      "See the caveats in the documentation: http://pandas.pydata.org/pandas-docs/stable/indexing.html#indexing-view-versus-copy\n",
      "  self._setitem_with_indexer(indexer, value)\n"
     ]
    },
    {
     "name": "stdout",
     "output_type": "stream",
     "text": [
      "NESCO {'Date': datetime.datetime(2020, 7, 31, 0, 0)}\n",
      "MANUGRAPH {'Date': datetime.datetime(2020, 6, 17, 0, 0)}\n",
      "REVATHI {'Date': datetime.datetime(2020, 7, 31, 0, 0)}\n"
     ]
    },
    {
     "name": "stderr",
     "output_type": "stream",
     "text": [
      "C:\\ProgramData\\Anaconda3\\lib\\site-packages\\pandas\\core\\indexing.py:190: SettingWithCopyWarning: \n",
      "A value is trying to be set on a copy of a slice from a DataFrame\n",
      "\n",
      "See the caveats in the documentation: http://pandas.pydata.org/pandas-docs/stable/indexing.html#indexing-view-versus-copy\n",
      "  self._setitem_with_indexer(indexer, value)\n",
      "C:\\ProgramData\\Anaconda3\\lib\\site-packages\\pandas\\core\\indexing.py:190: SettingWithCopyWarning: \n",
      "A value is trying to be set on a copy of a slice from a DataFrame\n",
      "\n",
      "See the caveats in the documentation: http://pandas.pydata.org/pandas-docs/stable/indexing.html#indexing-view-versus-copy\n",
      "  self._setitem_with_indexer(indexer, value)\n"
     ]
    },
    {
     "name": "stdout",
     "output_type": "stream",
     "text": [
      "TEXINFRA {'Date': datetime.datetime(2020, 7, 31, 0, 0)}\n",
      "WENDT {'Date': datetime.datetime(2020, 7, 31, 0, 0)}\n"
     ]
    },
    {
     "name": "stderr",
     "output_type": "stream",
     "text": [
      "C:\\ProgramData\\Anaconda3\\lib\\site-packages\\pandas\\core\\indexing.py:190: SettingWithCopyWarning: \n",
      "A value is trying to be set on a copy of a slice from a DataFrame\n",
      "\n",
      "See the caveats in the documentation: http://pandas.pydata.org/pandas-docs/stable/indexing.html#indexing-view-versus-copy\n",
      "  self._setitem_with_indexer(indexer, value)\n",
      "C:\\ProgramData\\Anaconda3\\lib\\site-packages\\pandas\\core\\indexing.py:190: SettingWithCopyWarning: \n",
      "A value is trying to be set on a copy of a slice from a DataFrame\n",
      "\n",
      "See the caveats in the documentation: http://pandas.pydata.org/pandas-docs/stable/indexing.html#indexing-view-versus-copy\n",
      "  self._setitem_with_indexer(indexer, value)\n"
     ]
    },
    {
     "name": "stdout",
     "output_type": "stream",
     "text": [
      "RESPONIND {'Date': datetime.datetime(2020, 7, 31, 0, 0)}\n",
      "ZEEL {'Date': datetime.datetime(2020, 7, 31, 0, 0)}\n"
     ]
    },
    {
     "name": "stderr",
     "output_type": "stream",
     "text": [
      "C:\\ProgramData\\Anaconda3\\lib\\site-packages\\pandas\\core\\indexing.py:190: SettingWithCopyWarning: \n",
      "A value is trying to be set on a copy of a slice from a DataFrame\n",
      "\n",
      "See the caveats in the documentation: http://pandas.pydata.org/pandas-docs/stable/indexing.html#indexing-view-versus-copy\n",
      "  self._setitem_with_indexer(indexer, value)\n",
      "C:\\ProgramData\\Anaconda3\\lib\\site-packages\\pandas\\core\\indexing.py:190: SettingWithCopyWarning: \n",
      "A value is trying to be set on a copy of a slice from a DataFrame\n",
      "\n",
      "See the caveats in the documentation: http://pandas.pydata.org/pandas-docs/stable/indexing.html#indexing-view-versus-copy\n",
      "  self._setitem_with_indexer(indexer, value)\n"
     ]
    },
    {
     "name": "stdout",
     "output_type": "stream",
     "text": [
      "BHARATGEAR {'Date': datetime.datetime(2020, 7, 31, 0, 0)}\n",
      "ELECON {'Date': datetime.datetime(2020, 7, 31, 0, 0)}\n",
      "GABRIEL {'Date': datetime.datetime(2020, 7, 31, 0, 0)}\n"
     ]
    },
    {
     "name": "stderr",
     "output_type": "stream",
     "text": [
      "C:\\ProgramData\\Anaconda3\\lib\\site-packages\\pandas\\core\\indexing.py:190: SettingWithCopyWarning: \n",
      "A value is trying to be set on a copy of a slice from a DataFrame\n",
      "\n",
      "See the caveats in the documentation: http://pandas.pydata.org/pandas-docs/stable/indexing.html#indexing-view-versus-copy\n",
      "  self._setitem_with_indexer(indexer, value)\n",
      "C:\\ProgramData\\Anaconda3\\lib\\site-packages\\pandas\\core\\indexing.py:190: SettingWithCopyWarning: \n",
      "A value is trying to be set on a copy of a slice from a DataFrame\n",
      "\n",
      "See the caveats in the documentation: http://pandas.pydata.org/pandas-docs/stable/indexing.html#indexing-view-versus-copy\n",
      "  self._setitem_with_indexer(indexer, value)\n",
      "C:\\ProgramData\\Anaconda3\\lib\\site-packages\\pandas\\core\\indexing.py:190: SettingWithCopyWarning: \n",
      "A value is trying to be set on a copy of a slice from a DataFrame\n",
      "\n",
      "See the caveats in the documentation: http://pandas.pydata.org/pandas-docs/stable/indexing.html#indexing-view-versus-copy\n",
      "  self._setitem_with_indexer(indexer, value)\n"
     ]
    },
    {
     "name": "stdout",
     "output_type": "stream",
     "text": [
      "HERCULES {'Date': datetime.datetime(2020, 7, 31, 0, 0)}\n",
      "IFBIND {'Date': datetime.datetime(2020, 7, 31, 0, 0)}\n",
      "FMGOETZE {'Date': datetime.datetime(2020, 7, 31, 0, 0)}\n"
     ]
    },
    {
     "name": "stderr",
     "output_type": "stream",
     "text": [
      "C:\\ProgramData\\Anaconda3\\lib\\site-packages\\pandas\\core\\indexing.py:190: SettingWithCopyWarning: \n",
      "A value is trying to be set on a copy of a slice from a DataFrame\n",
      "\n",
      "See the caveats in the documentation: http://pandas.pydata.org/pandas-docs/stable/indexing.html#indexing-view-versus-copy\n",
      "  self._setitem_with_indexer(indexer, value)\n",
      "C:\\ProgramData\\Anaconda3\\lib\\site-packages\\pandas\\core\\indexing.py:190: SettingWithCopyWarning: \n",
      "A value is trying to be set on a copy of a slice from a DataFrame\n",
      "\n",
      "See the caveats in the documentation: http://pandas.pydata.org/pandas-docs/stable/indexing.html#indexing-view-versus-copy\n",
      "  self._setitem_with_indexer(indexer, value)\n",
      "C:\\ProgramData\\Anaconda3\\lib\\site-packages\\pandas\\core\\indexing.py:190: SettingWithCopyWarning: \n",
      "A value is trying to be set on a copy of a slice from a DataFrame\n",
      "\n",
      "See the caveats in the documentation: http://pandas.pydata.org/pandas-docs/stable/indexing.html#indexing-view-versus-copy\n",
      "  self._setitem_with_indexer(indexer, value)\n",
      "C:\\ProgramData\\Anaconda3\\lib\\site-packages\\pandas\\core\\indexing.py:190: SettingWithCopyWarning: \n",
      "A value is trying to be set on a copy of a slice from a DataFrame\n",
      "\n",
      "See the caveats in the documentation: http://pandas.pydata.org/pandas-docs/stable/indexing.html#indexing-view-versus-copy\n",
      "  self._setitem_with_indexer(indexer, value)\n",
      "C:\\ProgramData\\Anaconda3\\lib\\site-packages\\pandas\\core\\indexing.py:190: SettingWithCopyWarning: \n",
      "A value is trying to be set on a copy of a slice from a DataFrame\n",
      "\n",
      "See the caveats in the documentation: http://pandas.pydata.org/pandas-docs/stable/indexing.html#indexing-view-versus-copy\n",
      "  self._setitem_with_indexer(indexer, value)\n"
     ]
    },
    {
     "name": "stdout",
     "output_type": "stream",
     "text": [
      "RANEHOLDIN {'Date': datetime.datetime(2020, 7, 31, 0, 0)}\n",
      "TRF {'Date': datetime.datetime(2020, 7, 31, 0, 0)}\n"
     ]
    },
    {
     "name": "stderr",
     "output_type": "stream",
     "text": [
      "C:\\ProgramData\\Anaconda3\\lib\\site-packages\\pandas\\core\\indexing.py:190: SettingWithCopyWarning: \n",
      "A value is trying to be set on a copy of a slice from a DataFrame\n",
      "\n",
      "See the caveats in the documentation: http://pandas.pydata.org/pandas-docs/stable/indexing.html#indexing-view-versus-copy\n",
      "  self._setitem_with_indexer(indexer, value)\n",
      "C:\\ProgramData\\Anaconda3\\lib\\site-packages\\pandas\\core\\indexing.py:190: SettingWithCopyWarning: \n",
      "A value is trying to be set on a copy of a slice from a DataFrame\n",
      "\n",
      "See the caveats in the documentation: http://pandas.pydata.org/pandas-docs/stable/indexing.html#indexing-view-versus-copy\n",
      "  self._setitem_with_indexer(indexer, value)\n"
     ]
    },
    {
     "name": "stdout",
     "output_type": "stream",
     "text": [
      "PRAKASH {'Date': datetime.datetime(2020, 7, 31, 0, 0)}\n",
      "GRINDWELL {'Date': datetime.datetime(2020, 7, 31, 0, 0)}\n",
      "GENESYS {'Date': datetime.datetime(2020, 7, 31, 0, 0)}\n",
      "VIVIDHA {'Date': datetime.datetime(2020, 6, 23, 0, 0)}\n",
      "BLISSGVS {'Date': datetime.datetime(2020, 7, 31, 0, 0)}\n",
      "ALEMBICLTD"
     ]
    },
    {
     "name": "stderr",
     "output_type": "stream",
     "text": [
      "C:\\ProgramData\\Anaconda3\\lib\\site-packages\\pandas\\core\\indexing.py:190: SettingWithCopyWarning: \n",
      "A value is trying to be set on a copy of a slice from a DataFrame\n",
      "\n",
      "See the caveats in the documentation: http://pandas.pydata.org/pandas-docs/stable/indexing.html#indexing-view-versus-copy\n",
      "  self._setitem_with_indexer(indexer, value)\n",
      "C:\\ProgramData\\Anaconda3\\lib\\site-packages\\pandas\\core\\indexing.py:190: SettingWithCopyWarning: \n",
      "A value is trying to be set on a copy of a slice from a DataFrame\n",
      "\n",
      "See the caveats in the documentation: http://pandas.pydata.org/pandas-docs/stable/indexing.html#indexing-view-versus-copy\n",
      "  self._setitem_with_indexer(indexer, value)\n",
      "C:\\ProgramData\\Anaconda3\\lib\\site-packages\\pandas\\core\\indexing.py:190: SettingWithCopyWarning: \n",
      "A value is trying to be set on a copy of a slice from a DataFrame\n",
      "\n",
      "See the caveats in the documentation: http://pandas.pydata.org/pandas-docs/stable/indexing.html#indexing-view-versus-copy\n",
      "  self._setitem_with_indexer(indexer, value)\n"
     ]
    },
    {
     "name": "stdout",
     "output_type": "stream",
     "text": [
      " {'Date': datetime.datetime(2020, 7, 31, 0, 0)}\n",
      "BAYERCROP {'Date': datetime.datetime(2020, 7, 31, 0, 0)}\n"
     ]
    },
    {
     "name": "stderr",
     "output_type": "stream",
     "text": [
      "C:\\ProgramData\\Anaconda3\\lib\\site-packages\\pandas\\core\\indexing.py:190: SettingWithCopyWarning: \n",
      "A value is trying to be set on a copy of a slice from a DataFrame\n",
      "\n",
      "See the caveats in the documentation: http://pandas.pydata.org/pandas-docs/stable/indexing.html#indexing-view-versus-copy\n",
      "  self._setitem_with_indexer(indexer, value)\n",
      "C:\\ProgramData\\Anaconda3\\lib\\site-packages\\pandas\\core\\indexing.py:190: SettingWithCopyWarning: \n",
      "A value is trying to be set on a copy of a slice from a DataFrame\n",
      "\n",
      "See the caveats in the documentation: http://pandas.pydata.org/pandas-docs/stable/indexing.html#indexing-view-versus-copy\n",
      "  self._setitem_with_indexer(indexer, value)\n"
     ]
    },
    {
     "name": "stdout",
     "output_type": "stream",
     "text": [
      "COROMANDEL {'Date': datetime.datetime(2020, 7, 31, 0, 0)}\n",
      "KANORICHEM {'Date': datetime.datetime(2020, 7, 31, 0, 0)}\n"
     ]
    },
    {
     "name": "stderr",
     "output_type": "stream",
     "text": [
      "C:\\ProgramData\\Anaconda3\\lib\\site-packages\\pandas\\core\\indexing.py:190: SettingWithCopyWarning: \n",
      "A value is trying to be set on a copy of a slice from a DataFrame\n",
      "\n",
      "See the caveats in the documentation: http://pandas.pydata.org/pandas-docs/stable/indexing.html#indexing-view-versus-copy\n",
      "  self._setitem_with_indexer(indexer, value)\n",
      "C:\\ProgramData\\Anaconda3\\lib\\site-packages\\pandas\\core\\indexing.py:190: SettingWithCopyWarning: \n",
      "A value is trying to be set on a copy of a slice from a DataFrame\n",
      "\n",
      "See the caveats in the documentation: http://pandas.pydata.org/pandas-docs/stable/indexing.html#indexing-view-versus-copy\n",
      "  self._setitem_with_indexer(indexer, value)\n",
      "C:\\ProgramData\\Anaconda3\\lib\\site-packages\\pandas\\core\\indexing.py:190: SettingWithCopyWarning: \n",
      "A value is trying to be set on a copy of a slice from a DataFrame\n",
      "\n",
      "See the caveats in the documentation: http://pandas.pydata.org/pandas-docs/stable/indexing.html#indexing-view-versus-copy\n",
      "  self._setitem_with_indexer(indexer, value)\n"
     ]
    },
    {
     "name": "stdout",
     "output_type": "stream",
     "text": [
      "PHILIPCARB {'Date': datetime.datetime(2020, 7, 31, 0, 0)}\n",
      "PUNJABCHEM {'Date': datetime.datetime(2020, 7, 31, 0, 0)}\n",
      "SUDARSCHEM {'Date': datetime.datetime(2020, 7, 31, 0, 0)}\n",
      "UNICHEMLAB {'Date': datetime.datetime(2020, 7, 31, 0, 0)}\n"
     ]
    },
    {
     "name": "stderr",
     "output_type": "stream",
     "text": [
      "C:\\ProgramData\\Anaconda3\\lib\\site-packages\\pandas\\core\\indexing.py:190: SettingWithCopyWarning: \n",
      "A value is trying to be set on a copy of a slice from a DataFrame\n",
      "\n",
      "See the caveats in the documentation: http://pandas.pydata.org/pandas-docs/stable/indexing.html#indexing-view-versus-copy\n",
      "  self._setitem_with_indexer(indexer, value)\n",
      "C:\\ProgramData\\Anaconda3\\lib\\site-packages\\pandas\\core\\indexing.py:190: SettingWithCopyWarning: \n",
      "A value is trying to be set on a copy of a slice from a DataFrame\n",
      "\n",
      "See the caveats in the documentation: http://pandas.pydata.org/pandas-docs/stable/indexing.html#indexing-view-versus-copy\n",
      "  self._setitem_with_indexer(indexer, value)\n"
     ]
    },
    {
     "name": "stdout",
     "output_type": "stream",
     "text": [
      "ALKYLAMINE {'Date': datetime.datetime(2020, 7, 31, 0, 0)}\n",
      "ASTRAZEN {'Date': datetime.datetime(2020, 7, 31, 0, 0)}\n",
      "JBCHEPHARM"
     ]
    },
    {
     "name": "stderr",
     "output_type": "stream",
     "text": [
      "C:\\ProgramData\\Anaconda3\\lib\\site-packages\\pandas\\core\\indexing.py:190: SettingWithCopyWarning: \n",
      "A value is trying to be set on a copy of a slice from a DataFrame\n",
      "\n",
      "See the caveats in the documentation: http://pandas.pydata.org/pandas-docs/stable/indexing.html#indexing-view-versus-copy\n",
      "  self._setitem_with_indexer(indexer, value)\n",
      "C:\\ProgramData\\Anaconda3\\lib\\site-packages\\pandas\\core\\indexing.py:190: SettingWithCopyWarning: \n",
      "A value is trying to be set on a copy of a slice from a DataFrame\n",
      "\n",
      "See the caveats in the documentation: http://pandas.pydata.org/pandas-docs/stable/indexing.html#indexing-view-versus-copy\n",
      "  self._setitem_with_indexer(indexer, value)\n",
      "C:\\ProgramData\\Anaconda3\\lib\\site-packages\\pandas\\core\\indexing.py:190: SettingWithCopyWarning: \n",
      "A value is trying to be set on a copy of a slice from a DataFrame\n",
      "\n",
      "See the caveats in the documentation: http://pandas.pydata.org/pandas-docs/stable/indexing.html#indexing-view-versus-copy\n",
      "  self._setitem_with_indexer(indexer, value)\n"
     ]
    },
    {
     "name": "stdout",
     "output_type": "stream",
     "text": [
      " {'Date': datetime.datetime(2020, 7, 31, 0, 0)}\n",
      "TI {'Date': datetime.datetime(2020, 7, 31, 0, 0)}\n"
     ]
    },
    {
     "name": "stderr",
     "output_type": "stream",
     "text": [
      "C:\\ProgramData\\Anaconda3\\lib\\site-packages\\pandas\\core\\indexing.py:190: SettingWithCopyWarning: \n",
      "A value is trying to be set on a copy of a slice from a DataFrame\n",
      "\n",
      "See the caveats in the documentation: http://pandas.pydata.org/pandas-docs/stable/indexing.html#indexing-view-versus-copy\n",
      "  self._setitem_with_indexer(indexer, value)\n",
      "C:\\ProgramData\\Anaconda3\\lib\\site-packages\\pandas\\core\\indexing.py:190: SettingWithCopyWarning: \n",
      "A value is trying to be set on a copy of a slice from a DataFrame\n",
      "\n",
      "See the caveats in the documentation: http://pandas.pydata.org/pandas-docs/stable/indexing.html#indexing-view-versus-copy\n",
      "  self._setitem_with_indexer(indexer, value)\n"
     ]
    },
    {
     "name": "stdout",
     "output_type": "stream",
     "text": [
      "WALCHANNAG {'Date': datetime.datetime(2020, 7, 31, 0, 0)}\n",
      "GMBREW {'Date': datetime.datetime(2020, 7, 31, 0, 0)}\n"
     ]
    },
    {
     "name": "stderr",
     "output_type": "stream",
     "text": [
      "C:\\ProgramData\\Anaconda3\\lib\\site-packages\\pandas\\core\\indexing.py:190: SettingWithCopyWarning: \n",
      "A value is trying to be set on a copy of a slice from a DataFrame\n",
      "\n",
      "See the caveats in the documentation: http://pandas.pydata.org/pandas-docs/stable/indexing.html#indexing-view-versus-copy\n",
      "  self._setitem_with_indexer(indexer, value)\n",
      "C:\\ProgramData\\Anaconda3\\lib\\site-packages\\pandas\\core\\indexing.py:190: SettingWithCopyWarning: \n",
      "A value is trying to be set on a copy of a slice from a DataFrame\n",
      "\n",
      "See the caveats in the documentation: http://pandas.pydata.org/pandas-docs/stable/indexing.html#indexing-view-versus-copy\n",
      "  self._setitem_with_indexer(indexer, value)\n",
      "C:\\ProgramData\\Anaconda3\\lib\\site-packages\\pandas\\core\\indexing.py:190: SettingWithCopyWarning: \n",
      "A value is trying to be set on a copy of a slice from a DataFrame\n",
      "\n",
      "See the caveats in the documentation: http://pandas.pydata.org/pandas-docs/stable/indexing.html#indexing-view-versus-copy\n",
      "  self._setitem_with_indexer(indexer, value)\n"
     ]
    },
    {
     "name": "stdout",
     "output_type": "stream",
     "text": [
      "IVP {'Date': datetime.datetime(2020, 7, 31, 0, 0)}\n",
      "WIPRO {'Date': datetime.datetime(2020, 7, 31, 0, 0)}\n",
      "DHANUKA {'Date': datetime.datetime(2020, 7, 31, 0, 0)}\n",
      "JAGSNPHARM {'Date': datetime.datetime(2020, 7, 31, 0, 0)}\n"
     ]
    },
    {
     "name": "stderr",
     "output_type": "stream",
     "text": [
      "C:\\ProgramData\\Anaconda3\\lib\\site-packages\\pandas\\core\\indexing.py:190: SettingWithCopyWarning: \n",
      "A value is trying to be set on a copy of a slice from a DataFrame\n",
      "\n",
      "See the caveats in the documentation: http://pandas.pydata.org/pandas-docs/stable/indexing.html#indexing-view-versus-copy\n",
      "  self._setitem_with_indexer(indexer, value)\n",
      "C:\\ProgramData\\Anaconda3\\lib\\site-packages\\pandas\\core\\indexing.py:190: SettingWithCopyWarning: \n",
      "A value is trying to be set on a copy of a slice from a DataFrame\n",
      "\n",
      "See the caveats in the documentation: http://pandas.pydata.org/pandas-docs/stable/indexing.html#indexing-view-versus-copy\n",
      "  self._setitem_with_indexer(indexer, value)\n",
      "C:\\ProgramData\\Anaconda3\\lib\\site-packages\\pandas\\core\\indexing.py:190: SettingWithCopyWarning: \n",
      "A value is trying to be set on a copy of a slice from a DataFrame\n",
      "\n",
      "See the caveats in the documentation: http://pandas.pydata.org/pandas-docs/stable/indexing.html#indexing-view-versus-copy\n",
      "  self._setitem_with_indexer(indexer, value)\n"
     ]
    },
    {
     "name": "stdout",
     "output_type": "stream",
     "text": [
      "GILLETTE {'Date': datetime.datetime(2020, 7, 31, 0, 0)}\n",
      "VIPIND {'Date': datetime.datetime(2020, 7, 31, 0, 0)}\n"
     ]
    },
    {
     "name": "stderr",
     "output_type": "stream",
     "text": [
      "C:\\ProgramData\\Anaconda3\\lib\\site-packages\\pandas\\core\\indexing.py:190: SettingWithCopyWarning: \n",
      "A value is trying to be set on a copy of a slice from a DataFrame\n",
      "\n",
      "See the caveats in the documentation: http://pandas.pydata.org/pandas-docs/stable/indexing.html#indexing-view-versus-copy\n",
      "  self._setitem_with_indexer(indexer, value)\n",
      "C:\\ProgramData\\Anaconda3\\lib\\site-packages\\pandas\\core\\indexing.py:190: SettingWithCopyWarning: \n",
      "A value is trying to be set on a copy of a slice from a DataFrame\n",
      "\n",
      "See the caveats in the documentation: http://pandas.pydata.org/pandas-docs/stable/indexing.html#indexing-view-versus-copy\n",
      "  self._setitem_with_indexer(indexer, value)\n"
     ]
    },
    {
     "name": "stdout",
     "output_type": "stream",
     "text": [
      "COSMOFILMS {'Date': datetime.datetime(2020, 7, 31, 0, 0)}\n",
      "APOLLOHOSP {'Date': datetime.datetime(2020, 7, 31, 0, 0)}\n",
      "EVERESTIND"
     ]
    },
    {
     "name": "stderr",
     "output_type": "stream",
     "text": [
      "C:\\ProgramData\\Anaconda3\\lib\\site-packages\\pandas\\core\\indexing.py:190: SettingWithCopyWarning: \n",
      "A value is trying to be set on a copy of a slice from a DataFrame\n",
      "\n",
      "See the caveats in the documentation: http://pandas.pydata.org/pandas-docs/stable/indexing.html#indexing-view-versus-copy\n",
      "  self._setitem_with_indexer(indexer, value)\n",
      "C:\\ProgramData\\Anaconda3\\lib\\site-packages\\pandas\\core\\indexing.py:190: SettingWithCopyWarning: \n",
      "A value is trying to be set on a copy of a slice from a DataFrame\n",
      "\n",
      "See the caveats in the documentation: http://pandas.pydata.org/pandas-docs/stable/indexing.html#indexing-view-versus-copy\n",
      "  self._setitem_with_indexer(indexer, value)\n"
     ]
    },
    {
     "name": "stdout",
     "output_type": "stream",
     "text": [
      " {'Date': datetime.datetime(2020, 7, 31, 0, 0)}\n",
      "NAVNETEDUL {'Date': datetime.datetime(2020, 7, 31, 0, 0)}\n"
     ]
    },
    {
     "name": "stderr",
     "output_type": "stream",
     "text": [
      "C:\\ProgramData\\Anaconda3\\lib\\site-packages\\pandas\\core\\indexing.py:190: SettingWithCopyWarning: \n",
      "A value is trying to be set on a copy of a slice from a DataFrame\n",
      "\n",
      "See the caveats in the documentation: http://pandas.pydata.org/pandas-docs/stable/indexing.html#indexing-view-versus-copy\n",
      "  self._setitem_with_indexer(indexer, value)\n",
      "C:\\ProgramData\\Anaconda3\\lib\\site-packages\\pandas\\core\\indexing.py:190: SettingWithCopyWarning: \n",
      "A value is trying to be set on a copy of a slice from a DataFrame\n",
      "\n",
      "See the caveats in the documentation: http://pandas.pydata.org/pandas-docs/stable/indexing.html#indexing-view-versus-copy\n",
      "  self._setitem_with_indexer(indexer, value)\n",
      "C:\\ProgramData\\Anaconda3\\lib\\site-packages\\pandas\\core\\indexing.py:190: SettingWithCopyWarning: \n",
      "A value is trying to be set on a copy of a slice from a DataFrame\n",
      "\n",
      "See the caveats in the documentation: http://pandas.pydata.org/pandas-docs/stable/indexing.html#indexing-view-versus-copy\n",
      "  self._setitem_with_indexer(indexer, value)\n"
     ]
    },
    {
     "name": "stdout",
     "output_type": "stream",
     "text": [
      "VISAKAIND {'Date': datetime.datetime(2020, 7, 31, 0, 0)}\n",
      "PRESSMN {'Date': datetime.datetime(2020, 7, 31, 0, 0)}\n",
      "GUFICBIO {'Date': datetime.datetime(2020, 7, 31, 0, 0)}\n",
      "PTL {'Date': datetime.datetime(2020, 7, 31, 0, 0)}\n",
      "TVSSRICHAK {'Date': datetime.datetime(2020, 7, 31, 0, 0)}\n"
     ]
    },
    {
     "name": "stderr",
     "output_type": "stream",
     "text": [
      "C:\\ProgramData\\Anaconda3\\lib\\site-packages\\pandas\\core\\indexing.py:190: SettingWithCopyWarning: \n",
      "A value is trying to be set on a copy of a slice from a DataFrame\n",
      "\n",
      "See the caveats in the documentation: http://pandas.pydata.org/pandas-docs/stable/indexing.html#indexing-view-versus-copy\n",
      "  self._setitem_with_indexer(indexer, value)\n",
      "C:\\ProgramData\\Anaconda3\\lib\\site-packages\\pandas\\core\\indexing.py:190: SettingWithCopyWarning: \n",
      "A value is trying to be set on a copy of a slice from a DataFrame\n",
      "\n",
      "See the caveats in the documentation: http://pandas.pydata.org/pandas-docs/stable/indexing.html#indexing-view-versus-copy\n",
      "  self._setitem_with_indexer(indexer, value)\n",
      "C:\\ProgramData\\Anaconda3\\lib\\site-packages\\pandas\\core\\indexing.py:190: SettingWithCopyWarning: \n",
      "A value is trying to be set on a copy of a slice from a DataFrame\n",
      "\n",
      "See the caveats in the documentation: http://pandas.pydata.org/pandas-docs/stable/indexing.html#indexing-view-versus-copy\n",
      "  self._setitem_with_indexer(indexer, value)\n",
      "C:\\ProgramData\\Anaconda3\\lib\\site-packages\\pandas\\core\\indexing.py:190: SettingWithCopyWarning: \n",
      "A value is trying to be set on a copy of a slice from a DataFrame\n",
      "\n",
      "See the caveats in the documentation: http://pandas.pydata.org/pandas-docs/stable/indexing.html#indexing-view-versus-copy\n",
      "  self._setitem_with_indexer(indexer, value)\n",
      "C:\\ProgramData\\Anaconda3\\lib\\site-packages\\pandas\\core\\indexing.py:190: SettingWithCopyWarning: \n",
      "A value is trying to be set on a copy of a slice from a DataFrame\n",
      "\n",
      "See the caveats in the documentation: http://pandas.pydata.org/pandas-docs/stable/indexing.html#indexing-view-versus-copy\n",
      "  self._setitem_with_indexer(indexer, value)\n"
     ]
    },
    {
     "name": "stdout",
     "output_type": "stream",
     "text": [
      "BERGEPAINT {'Date': datetime.datetime(2020, 7, 31, 0, 0)}\n",
      "GRAPHITE {'Date': datetime.datetime(2020, 7, 31, 0, 0)}\n",
      "ITDCEM {'Date': datetime.datetime(2020, 7, 31, 0, 0)}\n",
      "HEG {'Date': datetime.datetime(2020, 7, 31, 0, 0)}\n"
     ]
    },
    {
     "name": "stderr",
     "output_type": "stream",
     "text": [
      "C:\\ProgramData\\Anaconda3\\lib\\site-packages\\pandas\\core\\indexing.py:190: SettingWithCopyWarning: \n",
      "A value is trying to be set on a copy of a slice from a DataFrame\n",
      "\n",
      "See the caveats in the documentation: http://pandas.pydata.org/pandas-docs/stable/indexing.html#indexing-view-versus-copy\n",
      "  self._setitem_with_indexer(indexer, value)\n",
      "C:\\ProgramData\\Anaconda3\\lib\\site-packages\\pandas\\core\\indexing.py:190: SettingWithCopyWarning: \n",
      "A value is trying to be set on a copy of a slice from a DataFrame\n",
      "\n",
      "See the caveats in the documentation: http://pandas.pydata.org/pandas-docs/stable/indexing.html#indexing-view-versus-copy\n",
      "  self._setitem_with_indexer(indexer, value)\n",
      "C:\\ProgramData\\Anaconda3\\lib\\site-packages\\pandas\\core\\indexing.py:190: SettingWithCopyWarning: \n",
      "A value is trying to be set on a copy of a slice from a DataFrame\n",
      "\n",
      "See the caveats in the documentation: http://pandas.pydata.org/pandas-docs/stable/indexing.html#indexing-view-versus-copy\n",
      "  self._setitem_with_indexer(indexer, value)\n"
     ]
    },
    {
     "name": "stdout",
     "output_type": "stream",
     "text": [
      "HINDCOMPOS {'Date': datetime.datetime(2020, 7, 31, 0, 0)}\n",
      "HIL {'Date': datetime.datetime(2020, 7, 31, 0, 0)}\n"
     ]
    },
    {
     "name": "stderr",
     "output_type": "stream",
     "text": [
      "C:\\ProgramData\\Anaconda3\\lib\\site-packages\\pandas\\core\\indexing.py:190: SettingWithCopyWarning: \n",
      "A value is trying to be set on a copy of a slice from a DataFrame\n",
      "\n",
      "See the caveats in the documentation: http://pandas.pydata.org/pandas-docs/stable/indexing.html#indexing-view-versus-copy\n",
      "  self._setitem_with_indexer(indexer, value)\n",
      "C:\\ProgramData\\Anaconda3\\lib\\site-packages\\pandas\\core\\indexing.py:190: SettingWithCopyWarning: \n",
      "A value is trying to be set on a copy of a slice from a DataFrame\n",
      "\n",
      "See the caveats in the documentation: http://pandas.pydata.org/pandas-docs/stable/indexing.html#indexing-view-versus-copy\n",
      "  self._setitem_with_indexer(indexer, value)\n",
      "C:\\ProgramData\\Anaconda3\\lib\\site-packages\\pandas\\core\\indexing.py:190: SettingWithCopyWarning: \n",
      "A value is trying to be set on a copy of a slice from a DataFrame\n",
      "\n",
      "See the caveats in the documentation: http://pandas.pydata.org/pandas-docs/stable/indexing.html#indexing-view-versus-copy\n",
      "  self._setitem_with_indexer(indexer, value)\n"
     ]
    },
    {
     "name": "stdout",
     "output_type": "stream",
     "text": [
      "PAPERPROD {'Date': datetime.datetime(2020, 7, 31, 0, 0)}\n",
      "SHALPAINTS {'Date': datetime.datetime(2020, 7, 31, 0, 0)}\n",
      "SUPREMEIND {'Date': datetime.datetime(2020, 7, 31, 0, 0)}\n",
      "VSTIND {'Date': datetime.datetime(2020, 7, 31, 0, 0)}\n",
      "JINDRILL {'Date': datetime.datetime(2020, 6, 17, 0, 0)}\n"
     ]
    },
    {
     "name": "stderr",
     "output_type": "stream",
     "text": [
      "C:\\ProgramData\\Anaconda3\\lib\\site-packages\\pandas\\core\\indexing.py:190: SettingWithCopyWarning: \n",
      "A value is trying to be set on a copy of a slice from a DataFrame\n",
      "\n",
      "See the caveats in the documentation: http://pandas.pydata.org/pandas-docs/stable/indexing.html#indexing-view-versus-copy\n",
      "  self._setitem_with_indexer(indexer, value)\n",
      "C:\\ProgramData\\Anaconda3\\lib\\site-packages\\pandas\\core\\indexing.py:190: SettingWithCopyWarning: \n",
      "A value is trying to be set on a copy of a slice from a DataFrame\n",
      "\n",
      "See the caveats in the documentation: http://pandas.pydata.org/pandas-docs/stable/indexing.html#indexing-view-versus-copy\n",
      "  self._setitem_with_indexer(indexer, value)\n",
      "C:\\ProgramData\\Anaconda3\\lib\\site-packages\\pandas\\core\\indexing.py:190: SettingWithCopyWarning: \n",
      "A value is trying to be set on a copy of a slice from a DataFrame\n",
      "\n",
      "See the caveats in the documentation: http://pandas.pydata.org/pandas-docs/stable/indexing.html#indexing-view-versus-copy\n",
      "  self._setitem_with_indexer(indexer, value)\n"
     ]
    },
    {
     "name": "stdout",
     "output_type": "stream",
     "text": [
      "DHFL {'Date': datetime.datetime(2020, 7, 31, 0, 0)}\n",
      "CANFINHOME {'Date': datetime.datetime(2020, 7, 31, 0, 0)}\n"
     ]
    },
    {
     "name": "stderr",
     "output_type": "stream",
     "text": [
      "C:\\ProgramData\\Anaconda3\\lib\\site-packages\\pandas\\core\\indexing.py:190: SettingWithCopyWarning: \n",
      "A value is trying to be set on a copy of a slice from a DataFrame\n",
      "\n",
      "See the caveats in the documentation: http://pandas.pydata.org/pandas-docs/stable/indexing.html#indexing-view-versus-copy\n",
      "  self._setitem_with_indexer(indexer, value)\n"
     ]
    },
    {
     "name": "stdout",
     "output_type": "stream",
     "text": [
      "IVC {'Date': datetime.datetime(2020, 6, 17, 0, 0)}\n",
      "CHOLAFIN {'Date': datetime.datetime(2020, 7, 31, 0, 0)}\n",
      "VLSFINANCE {'Date': datetime.datetime(2020, 7, 31, 0, 0)}\n"
     ]
    },
    {
     "name": "stderr",
     "output_type": "stream",
     "text": [
      "C:\\ProgramData\\Anaconda3\\lib\\site-packages\\pandas\\core\\indexing.py:190: SettingWithCopyWarning: \n",
      "A value is trying to be set on a copy of a slice from a DataFrame\n",
      "\n",
      "See the caveats in the documentation: http://pandas.pydata.org/pandas-docs/stable/indexing.html#indexing-view-versus-copy\n",
      "  self._setitem_with_indexer(indexer, value)\n",
      "C:\\ProgramData\\Anaconda3\\lib\\site-packages\\pandas\\core\\indexing.py:190: SettingWithCopyWarning: \n",
      "A value is trying to be set on a copy of a slice from a DataFrame\n",
      "\n",
      "See the caveats in the documentation: http://pandas.pydata.org/pandas-docs/stable/indexing.html#indexing-view-versus-copy\n",
      "  self._setitem_with_indexer(indexer, value)\n"
     ]
    },
    {
     "name": "stdout",
     "output_type": "stream",
     "text": [
      "VAKRANGEE {'Date': datetime.datetime(2020, 7, 31, 0, 0)}\n",
      "INDBANK {'Date': datetime.datetime(2020, 7, 31, 0, 0)}\n",
      "GICHSGFIN {'Date': datetime.datetime(2020, 7, 31, 0, 0)}\n"
     ]
    },
    {
     "name": "stderr",
     "output_type": "stream",
     "text": [
      "C:\\ProgramData\\Anaconda3\\lib\\site-packages\\pandas\\core\\indexing.py:190: SettingWithCopyWarning: \n",
      "A value is trying to be set on a copy of a slice from a DataFrame\n",
      "\n",
      "See the caveats in the documentation: http://pandas.pydata.org/pandas-docs/stable/indexing.html#indexing-view-versus-copy\n",
      "  self._setitem_with_indexer(indexer, value)\n",
      "C:\\ProgramData\\Anaconda3\\lib\\site-packages\\pandas\\core\\indexing.py:190: SettingWithCopyWarning: \n",
      "A value is trying to be set on a copy of a slice from a DataFrame\n",
      "\n",
      "See the caveats in the documentation: http://pandas.pydata.org/pandas-docs/stable/indexing.html#indexing-view-versus-copy\n",
      "  self._setitem_with_indexer(indexer, value)\n",
      "C:\\ProgramData\\Anaconda3\\lib\\site-packages\\pandas\\core\\indexing.py:190: SettingWithCopyWarning: \n",
      "A value is trying to be set on a copy of a slice from a DataFrame\n",
      "\n",
      "See the caveats in the documentation: http://pandas.pydata.org/pandas-docs/stable/indexing.html#indexing-view-versus-copy\n",
      "  self._setitem_with_indexer(indexer, value)\n"
     ]
    },
    {
     "name": "stdout",
     "output_type": "stream",
     "text": [
      "UPL {'Date': datetime.datetime(2020, 7, 31, 0, 0)}\n",
      "SUNTECK {'Date': datetime.datetime(2020, 7, 31, 0, 0)}\n"
     ]
    },
    {
     "name": "stderr",
     "output_type": "stream",
     "text": [
      "C:\\ProgramData\\Anaconda3\\lib\\site-packages\\pandas\\core\\indexing.py:190: SettingWithCopyWarning: \n",
      "A value is trying to be set on a copy of a slice from a DataFrame\n",
      "\n",
      "See the caveats in the documentation: http://pandas.pydata.org/pandas-docs/stable/indexing.html#indexing-view-versus-copy\n",
      "  self._setitem_with_indexer(indexer, value)\n",
      "C:\\ProgramData\\Anaconda3\\lib\\site-packages\\pandas\\core\\indexing.py:190: SettingWithCopyWarning: \n",
      "A value is trying to be set on a copy of a slice from a DataFrame\n",
      "\n",
      "See the caveats in the documentation: http://pandas.pydata.org/pandas-docs/stable/indexing.html#indexing-view-versus-copy\n",
      "  self._setitem_with_indexer(indexer, value)\n",
      "C:\\ProgramData\\Anaconda3\\lib\\site-packages\\pandas\\core\\indexing.py:190: SettingWithCopyWarning: \n",
      "A value is trying to be set on a copy of a slice from a DataFrame\n",
      "\n",
      "See the caveats in the documentation: http://pandas.pydata.org/pandas-docs/stable/indexing.html#indexing-view-versus-copy\n",
      "  self._setitem_with_indexer(indexer, value)\n"
     ]
    },
    {
     "name": "stdout",
     "output_type": "stream",
     "text": [
      "JAICORPLTD {'Date': datetime.datetime(2020, 7, 31, 0, 0)}\n",
      "DONEAR {'Date': datetime.datetime(2020, 7, 31, 0, 0)}\n"
     ]
    },
    {
     "name": "stderr",
     "output_type": "stream",
     "text": [
      "C:\\ProgramData\\Anaconda3\\lib\\site-packages\\pandas\\core\\indexing.py:190: SettingWithCopyWarning: \n",
      "A value is trying to be set on a copy of a slice from a DataFrame\n",
      "\n",
      "See the caveats in the documentation: http://pandas.pydata.org/pandas-docs/stable/indexing.html#indexing-view-versus-copy\n",
      "  self._setitem_with_indexer(indexer, value)\n",
      "C:\\ProgramData\\Anaconda3\\lib\\site-packages\\pandas\\core\\indexing.py:190: SettingWithCopyWarning: \n",
      "A value is trying to be set on a copy of a slice from a DataFrame\n",
      "\n",
      "See the caveats in the documentation: http://pandas.pydata.org/pandas-docs/stable/indexing.html#indexing-view-versus-copy\n",
      "  self._setitem_with_indexer(indexer, value)\n"
     ]
    },
    {
     "name": "stdout",
     "output_type": "stream",
     "text": [
      "ADANIENT {'Date': datetime.datetime(2020, 7, 31, 0, 0)}\n",
      "ORBTEXP {'Date': datetime.datetime(2020, 7, 31, 0, 0)}\n"
     ]
    },
    {
     "name": "stderr",
     "output_type": "stream",
     "text": [
      "C:\\ProgramData\\Anaconda3\\lib\\site-packages\\pandas\\core\\indexing.py:190: SettingWithCopyWarning: \n",
      "A value is trying to be set on a copy of a slice from a DataFrame\n",
      "\n",
      "See the caveats in the documentation: http://pandas.pydata.org/pandas-docs/stable/indexing.html#indexing-view-versus-copy\n",
      "  self._setitem_with_indexer(indexer, value)\n",
      "C:\\ProgramData\\Anaconda3\\lib\\site-packages\\pandas\\core\\indexing.py:190: SettingWithCopyWarning: \n",
      "A value is trying to be set on a copy of a slice from a DataFrame\n",
      "\n",
      "See the caveats in the documentation: http://pandas.pydata.org/pandas-docs/stable/indexing.html#indexing-view-versus-copy\n",
      "  self._setitem_with_indexer(indexer, value)\n"
     ]
    },
    {
     "name": "stdout",
     "output_type": "stream",
     "text": [
      "NBVENTURES {'Date': datetime.datetime(2020, 7, 31, 0, 0)}\n",
      "GANDHITUBE {'Date': datetime.datetime(2020, 7, 31, 0, 0)}\n"
     ]
    },
    {
     "name": "stderr",
     "output_type": "stream",
     "text": [
      "C:\\ProgramData\\Anaconda3\\lib\\site-packages\\pandas\\core\\indexing.py:190: SettingWithCopyWarning: \n",
      "A value is trying to be set on a copy of a slice from a DataFrame\n",
      "\n",
      "See the caveats in the documentation: http://pandas.pydata.org/pandas-docs/stable/indexing.html#indexing-view-versus-copy\n",
      "  self._setitem_with_indexer(indexer, value)\n",
      "C:\\ProgramData\\Anaconda3\\lib\\site-packages\\pandas\\core\\indexing.py:190: SettingWithCopyWarning: \n",
      "A value is trying to be set on a copy of a slice from a DataFrame\n",
      "\n",
      "See the caveats in the documentation: http://pandas.pydata.org/pandas-docs/stable/indexing.html#indexing-view-versus-copy\n",
      "  self._setitem_with_indexer(indexer, value)\n",
      "C:\\ProgramData\\Anaconda3\\lib\\site-packages\\pandas\\core\\indexing.py:190: SettingWithCopyWarning: \n",
      "A value is trying to be set on a copy of a slice from a DataFrame\n",
      "\n",
      "See the caveats in the documentation: http://pandas.pydata.org/pandas-docs/stable/indexing.html#indexing-view-versus-copy\n",
      "  self._setitem_with_indexer(indexer, value)\n"
     ]
    },
    {
     "name": "stdout",
     "output_type": "stream",
     "text": [
      "SSWL {'Date': datetime.datetime(2020, 7, 31, 0, 0)}\n",
      "MANINDS {'Date': datetime.datetime(2020, 7, 31, 0, 0)}\n",
      "AJMERA {'Date': datetime.datetime(2020, 7, 31, 0, 0)}\n",
      "CARBORUNIV {'Date': datetime.datetime(2020, 7, 31, 0, 0)}\n"
     ]
    },
    {
     "name": "stderr",
     "output_type": "stream",
     "text": [
      "C:\\ProgramData\\Anaconda3\\lib\\site-packages\\pandas\\core\\indexing.py:190: SettingWithCopyWarning: \n",
      "A value is trying to be set on a copy of a slice from a DataFrame\n",
      "\n",
      "See the caveats in the documentation: http://pandas.pydata.org/pandas-docs/stable/indexing.html#indexing-view-versus-copy\n",
      "  self._setitem_with_indexer(indexer, value)\n",
      "C:\\ProgramData\\Anaconda3\\lib\\site-packages\\pandas\\core\\indexing.py:190: SettingWithCopyWarning: \n",
      "A value is trying to be set on a copy of a slice from a DataFrame\n",
      "\n",
      "See the caveats in the documentation: http://pandas.pydata.org/pandas-docs/stable/indexing.html#indexing-view-versus-copy\n",
      "  self._setitem_with_indexer(indexer, value)\n"
     ]
    },
    {
     "name": "stdout",
     "output_type": "stream",
     "text": [
      "MMTC {'Date': datetime.datetime(2020, 7, 31, 0, 0)}\n",
      "TATAMETALI {'Date': datetime.datetime(2020, 7, 31, 0, 0)}\n"
     ]
    },
    {
     "name": "stderr",
     "output_type": "stream",
     "text": [
      "C:\\ProgramData\\Anaconda3\\lib\\site-packages\\pandas\\core\\indexing.py:190: SettingWithCopyWarning: \n",
      "A value is trying to be set on a copy of a slice from a DataFrame\n",
      "\n",
      "See the caveats in the documentation: http://pandas.pydata.org/pandas-docs/stable/indexing.html#indexing-view-versus-copy\n",
      "  self._setitem_with_indexer(indexer, value)\n",
      "C:\\ProgramData\\Anaconda3\\lib\\site-packages\\pandas\\core\\indexing.py:190: SettingWithCopyWarning: \n",
      "A value is trying to be set on a copy of a slice from a DataFrame\n",
      "\n",
      "See the caveats in the documentation: http://pandas.pydata.org/pandas-docs/stable/indexing.html#indexing-view-versus-copy\n",
      "  self._setitem_with_indexer(indexer, value)\n",
      "C:\\ProgramData\\Anaconda3\\lib\\site-packages\\pandas\\core\\indexing.py:190: SettingWithCopyWarning: \n",
      "A value is trying to be set on a copy of a slice from a DataFrame\n",
      "\n",
      "See the caveats in the documentation: http://pandas.pydata.org/pandas-docs/stable/indexing.html#indexing-view-versus-copy\n",
      "  self._setitem_with_indexer(indexer, value)\n"
     ]
    },
    {
     "name": "stdout",
     "output_type": "stream",
     "text": [
      "SRIPIPES {'Date': datetime.datetime(2020, 7, 31, 0, 0)}\n",
      "HINDCOPPER {'Date': datetime.datetime(2020, 7, 31, 0, 0)}\n"
     ]
    },
    {
     "name": "stderr",
     "output_type": "stream",
     "text": [
      "C:\\ProgramData\\Anaconda3\\lib\\site-packages\\pandas\\core\\indexing.py:190: SettingWithCopyWarning: \n",
      "A value is trying to be set on a copy of a slice from a DataFrame\n",
      "\n",
      "See the caveats in the documentation: http://pandas.pydata.org/pandas-docs/stable/indexing.html#indexing-view-versus-copy\n",
      "  self._setitem_with_indexer(indexer, value)\n",
      "C:\\ProgramData\\Anaconda3\\lib\\site-packages\\pandas\\core\\indexing.py:190: SettingWithCopyWarning: \n",
      "A value is trying to be set on a copy of a slice from a DataFrame\n",
      "\n",
      "See the caveats in the documentation: http://pandas.pydata.org/pandas-docs/stable/indexing.html#indexing-view-versus-copy\n",
      "  self._setitem_with_indexer(indexer, value)\n"
     ]
    },
    {
     "name": "stdout",
     "output_type": "stream",
     "text": [
      "AROGRANITE {'Date': datetime.datetime(2020, 7, 31, 0, 0)}\n",
      "HIMATSEIDE {'Date': datetime.datetime(2020, 7, 31, 0, 0)}\n"
     ]
    },
    {
     "name": "stderr",
     "output_type": "stream",
     "text": [
      "C:\\ProgramData\\Anaconda3\\lib\\site-packages\\pandas\\core\\indexing.py:190: SettingWithCopyWarning: \n",
      "A value is trying to be set on a copy of a slice from a DataFrame\n",
      "\n",
      "See the caveats in the documentation: http://pandas.pydata.org/pandas-docs/stable/indexing.html#indexing-view-versus-copy\n",
      "  self._setitem_with_indexer(indexer, value)\n",
      "C:\\ProgramData\\Anaconda3\\lib\\site-packages\\pandas\\core\\indexing.py:190: SettingWithCopyWarning: \n",
      "A value is trying to be set on a copy of a slice from a DataFrame\n",
      "\n",
      "See the caveats in the documentation: http://pandas.pydata.org/pandas-docs/stable/indexing.html#indexing-view-versus-copy\n",
      "  self._setitem_with_indexer(indexer, value)\n",
      "C:\\ProgramData\\Anaconda3\\lib\\site-packages\\pandas\\core\\indexing.py:190: SettingWithCopyWarning: \n",
      "A value is trying to be set on a copy of a slice from a DataFrame\n",
      "\n",
      "See the caveats in the documentation: http://pandas.pydata.org/pandas-docs/stable/indexing.html#indexing-view-versus-copy\n",
      "  self._setitem_with_indexer(indexer, value)\n"
     ]
    },
    {
     "name": "stdout",
     "output_type": "stream",
     "text": [
      "BSL {'Date': datetime.datetime(2020, 7, 31, 0, 0)}\n",
      "TTL {'Date': datetime.datetime(2020, 7, 31, 0, 0)}\n",
      "WELSPUNIND {'Date': datetime.datetime(2020, 7, 31, 0, 0)}\n",
      "SANGAMIND {'Date': datetime.datetime(2020, 7, 31, 0, 0)}\n"
     ]
    },
    {
     "name": "stderr",
     "output_type": "stream",
     "text": [
      "C:\\ProgramData\\Anaconda3\\lib\\site-packages\\pandas\\core\\indexing.py:190: SettingWithCopyWarning: \n",
      "A value is trying to be set on a copy of a slice from a DataFrame\n",
      "\n",
      "See the caveats in the documentation: http://pandas.pydata.org/pandas-docs/stable/indexing.html#indexing-view-versus-copy\n",
      "  self._setitem_with_indexer(indexer, value)\n",
      "C:\\ProgramData\\Anaconda3\\lib\\site-packages\\pandas\\core\\indexing.py:190: SettingWithCopyWarning: \n",
      "A value is trying to be set on a copy of a slice from a DataFrame\n",
      "\n",
      "See the caveats in the documentation: http://pandas.pydata.org/pandas-docs/stable/indexing.html#indexing-view-versus-copy\n",
      "  self._setitem_with_indexer(indexer, value)\n",
      "C:\\ProgramData\\Anaconda3\\lib\\site-packages\\pandas\\core\\indexing.py:190: SettingWithCopyWarning: \n",
      "A value is trying to be set on a copy of a slice from a DataFrame\n",
      "\n",
      "See the caveats in the documentation: http://pandas.pydata.org/pandas-docs/stable/indexing.html#indexing-view-versus-copy\n",
      "  self._setitem_with_indexer(indexer, value)\n"
     ]
    },
    {
     "name": "stdout",
     "output_type": "stream",
     "text": [
      "AARVEEDEN {'Date': datetime.datetime(2020, 6, 17, 0, 0)}\n",
      "ASHIMASYN {'Date': datetime.datetime(2020, 7, 1, 0, 0)}\n",
      "PIONEEREMB {'Date': datetime.datetime(2020, 7, 31, 0, 0)}\n",
      "PATSPINLTD {'Date': datetime.datetime(2020, 6, 17, 0, 0)}\n",
      "ANANTRAJ {'Date': datetime.datetime(2020, 7, 31, 0, 0)}\n"
     ]
    },
    {
     "name": "stderr",
     "output_type": "stream",
     "text": [
      "C:\\ProgramData\\Anaconda3\\lib\\site-packages\\pandas\\core\\indexing.py:190: SettingWithCopyWarning: \n",
      "A value is trying to be set on a copy of a slice from a DataFrame\n",
      "\n",
      "See the caveats in the documentation: http://pandas.pydata.org/pandas-docs/stable/indexing.html#indexing-view-versus-copy\n",
      "  self._setitem_with_indexer(indexer, value)\n"
     ]
    },
    {
     "name": "stdout",
     "output_type": "stream",
     "text": [
      "MADHAV {'Date': datetime.datetime(2020, 7, 31, 0, 0)}\n",
      "SHREYANIND {'Date': datetime.datetime(2020, 7, 31, 0, 0)}\n"
     ]
    },
    {
     "name": "stderr",
     "output_type": "stream",
     "text": [
      "C:\\ProgramData\\Anaconda3\\lib\\site-packages\\pandas\\core\\indexing.py:190: SettingWithCopyWarning: \n",
      "A value is trying to be set on a copy of a slice from a DataFrame\n",
      "\n",
      "See the caveats in the documentation: http://pandas.pydata.org/pandas-docs/stable/indexing.html#indexing-view-versus-copy\n",
      "  self._setitem_with_indexer(indexer, value)\n",
      "C:\\ProgramData\\Anaconda3\\lib\\site-packages\\pandas\\core\\indexing.py:190: SettingWithCopyWarning: \n",
      "A value is trying to be set on a copy of a slice from a DataFrame\n",
      "\n",
      "See the caveats in the documentation: http://pandas.pydata.org/pandas-docs/stable/indexing.html#indexing-view-versus-copy\n",
      "  self._setitem_with_indexer(indexer, value)\n"
     ]
    },
    {
     "name": "stdout",
     "output_type": "stream",
     "text": [
      "STARPAPER {'Date': datetime.datetime(2020, 7, 31, 0, 0)}\n",
      "VINDHYATEL {'Date': datetime.datetime(2020, 7, 31, 0, 0)}\n"
     ]
    },
    {
     "name": "stderr",
     "output_type": "stream",
     "text": [
      "C:\\ProgramData\\Anaconda3\\lib\\site-packages\\pandas\\core\\indexing.py:190: SettingWithCopyWarning: \n",
      "A value is trying to be set on a copy of a slice from a DataFrame\n",
      "\n",
      "See the caveats in the documentation: http://pandas.pydata.org/pandas-docs/stable/indexing.html#indexing-view-versus-copy\n",
      "  self._setitem_with_indexer(indexer, value)\n",
      "C:\\ProgramData\\Anaconda3\\lib\\site-packages\\pandas\\core\\indexing.py:190: SettingWithCopyWarning: \n",
      "A value is trying to be set on a copy of a slice from a DataFrame\n",
      "\n",
      "See the caveats in the documentation: http://pandas.pydata.org/pandas-docs/stable/indexing.html#indexing-view-versus-copy\n",
      "  self._setitem_with_indexer(indexer, value)\n",
      "C:\\ProgramData\\Anaconda3\\lib\\site-packages\\pandas\\core\\indexing.py:190: SettingWithCopyWarning: \n",
      "A value is trying to be set on a copy of a slice from a DataFrame\n",
      "\n",
      "See the caveats in the documentation: http://pandas.pydata.org/pandas-docs/stable/indexing.html#indexing-view-versus-copy\n",
      "  self._setitem_with_indexer(indexer, value)\n"
     ]
    },
    {
     "name": "stdout",
     "output_type": "stream",
     "text": [
      "ADORWELD {'Date': datetime.datetime(2020, 7, 31, 0, 0)}\n",
      "USHAMART {'Date': datetime.datetime(2020, 7, 31, 0, 0)}\n"
     ]
    },
    {
     "name": "stderr",
     "output_type": "stream",
     "text": [
      "C:\\ProgramData\\Anaconda3\\lib\\site-packages\\pandas\\core\\indexing.py:190: SettingWithCopyWarning: \n",
      "A value is trying to be set on a copy of a slice from a DataFrame\n",
      "\n",
      "See the caveats in the documentation: http://pandas.pydata.org/pandas-docs/stable/indexing.html#indexing-view-versus-copy\n",
      "  self._setitem_with_indexer(indexer, value)\n",
      "C:\\ProgramData\\Anaconda3\\lib\\site-packages\\pandas\\core\\indexing.py:190: SettingWithCopyWarning: \n",
      "A value is trying to be set on a copy of a slice from a DataFrame\n",
      "\n",
      "See the caveats in the documentation: http://pandas.pydata.org/pandas-docs/stable/indexing.html#indexing-view-versus-copy\n",
      "  self._setitem_with_indexer(indexer, value)\n"
     ]
    },
    {
     "name": "stdout",
     "output_type": "stream",
     "text": [
      "SUBROS {'Date': datetime.datetime(2020, 7, 31, 0, 0)}\n",
      "HONAUT {'Date': datetime.datetime(2020, 7, 31, 0, 0)}\n"
     ]
    },
    {
     "name": "stderr",
     "output_type": "stream",
     "text": [
      "C:\\ProgramData\\Anaconda3\\lib\\site-packages\\pandas\\core\\indexing.py:190: SettingWithCopyWarning: \n",
      "A value is trying to be set on a copy of a slice from a DataFrame\n",
      "\n",
      "See the caveats in the documentation: http://pandas.pydata.org/pandas-docs/stable/indexing.html#indexing-view-versus-copy\n",
      "  self._setitem_with_indexer(indexer, value)\n",
      "C:\\ProgramData\\Anaconda3\\lib\\site-packages\\pandas\\core\\indexing.py:190: SettingWithCopyWarning: \n",
      "A value is trying to be set on a copy of a slice from a DataFrame\n",
      "\n",
      "See the caveats in the documentation: http://pandas.pydata.org/pandas-docs/stable/indexing.html#indexing-view-versus-copy\n",
      "  self._setitem_with_indexer(indexer, value)\n"
     ]
    },
    {
     "name": "stdout",
     "output_type": "stream",
     "text": [
      "LUMAXIND {'Date': datetime.datetime(2020, 7, 31, 0, 0)}\n",
      "HBLPOWER {'Date': datetime.datetime(2020, 7, 31, 0, 0)}\n"
     ]
    },
    {
     "name": "stderr",
     "output_type": "stream",
     "text": [
      "C:\\ProgramData\\Anaconda3\\lib\\site-packages\\pandas\\core\\indexing.py:190: SettingWithCopyWarning: \n",
      "A value is trying to be set on a copy of a slice from a DataFrame\n",
      "\n",
      "See the caveats in the documentation: http://pandas.pydata.org/pandas-docs/stable/indexing.html#indexing-view-versus-copy\n",
      "  self._setitem_with_indexer(indexer, value)\n",
      "C:\\ProgramData\\Anaconda3\\lib\\site-packages\\pandas\\core\\indexing.py:190: SettingWithCopyWarning: \n",
      "A value is trying to be set on a copy of a slice from a DataFrame\n",
      "\n",
      "See the caveats in the documentation: http://pandas.pydata.org/pandas-docs/stable/indexing.html#indexing-view-versus-copy\n",
      "  self._setitem_with_indexer(indexer, value)\n",
      "C:\\ProgramData\\Anaconda3\\lib\\site-packages\\pandas\\core\\indexing.py:190: SettingWithCopyWarning: \n",
      "A value is trying to be set on a copy of a slice from a DataFrame\n",
      "\n",
      "See the caveats in the documentation: http://pandas.pydata.org/pandas-docs/stable/indexing.html#indexing-view-versus-copy\n",
      "  self._setitem_with_indexer(indexer, value)\n"
     ]
    },
    {
     "name": "stdout",
     "output_type": "stream",
     "text": [
      "GIPCL {'Date': datetime.datetime(2020, 7, 31, 0, 0)}\n",
      "MOTHERSUMI {'Date': datetime.datetime(2020, 7, 31, 0, 0)}\n",
      "HAVELLS {'Date': datetime.datetime(2020, 7, 31, 0, 0)}\n",
      "IGARASHI {'Date': datetime.datetime(2020, 7, 31, 0, 0)}\n"
     ]
    },
    {
     "name": "stderr",
     "output_type": "stream",
     "text": [
      "C:\\ProgramData\\Anaconda3\\lib\\site-packages\\pandas\\core\\indexing.py:190: SettingWithCopyWarning: \n",
      "A value is trying to be set on a copy of a slice from a DataFrame\n",
      "\n",
      "See the caveats in the documentation: http://pandas.pydata.org/pandas-docs/stable/indexing.html#indexing-view-versus-copy\n",
      "  self._setitem_with_indexer(indexer, value)\n",
      "C:\\ProgramData\\Anaconda3\\lib\\site-packages\\pandas\\core\\indexing.py:190: SettingWithCopyWarning: \n",
      "A value is trying to be set on a copy of a slice from a DataFrame\n",
      "\n",
      "See the caveats in the documentation: http://pandas.pydata.org/pandas-docs/stable/indexing.html#indexing-view-versus-copy\n",
      "  self._setitem_with_indexer(indexer, value)\n",
      "C:\\ProgramData\\Anaconda3\\lib\\site-packages\\pandas\\core\\indexing.py:190: SettingWithCopyWarning: \n",
      "A value is trying to be set on a copy of a slice from a DataFrame\n",
      "\n",
      "See the caveats in the documentation: http://pandas.pydata.org/pandas-docs/stable/indexing.html#indexing-view-versus-copy\n",
      "  self._setitem_with_indexer(indexer, value)\n"
     ]
    },
    {
     "name": "stdout",
     "output_type": "stream",
     "text": [
      "SYMPHONY {'Date': datetime.datetime(2020, 7, 31, 0, 0)}\n",
      "RSSOFTWARE {'Date': datetime.datetime(2020, 7, 31, 0, 0)}\n",
      "WEBELSOLAR {'Date': datetime.datetime(2020, 7, 1, 0, 0)}\n"
     ]
    },
    {
     "name": "stderr",
     "output_type": "stream",
     "text": [
      "C:\\ProgramData\\Anaconda3\\lib\\site-packages\\pandas\\core\\indexing.py:190: SettingWithCopyWarning: \n",
      "A value is trying to be set on a copy of a slice from a DataFrame\n",
      "\n",
      "See the caveats in the documentation: http://pandas.pydata.org/pandas-docs/stable/indexing.html#indexing-view-versus-copy\n",
      "  self._setitem_with_indexer(indexer, value)\n"
     ]
    },
    {
     "name": "stdout",
     "output_type": "stream",
     "text": [
      "TTKPRESTIG {'Date': datetime.datetime(2020, 7, 31, 0, 0)}\n",
      "SURANAT&P {'Date': datetime.datetime(2020, 7, 31, 0, 0)}\n"
     ]
    },
    {
     "name": "stderr",
     "output_type": "stream",
     "text": [
      "C:\\ProgramData\\Anaconda3\\lib\\site-packages\\pandas\\core\\indexing.py:190: SettingWithCopyWarning: \n",
      "A value is trying to be set on a copy of a slice from a DataFrame\n",
      "\n",
      "See the caveats in the documentation: http://pandas.pydata.org/pandas-docs/stable/indexing.html#indexing-view-versus-copy\n",
      "  self._setitem_with_indexer(indexer, value)\n",
      "C:\\ProgramData\\Anaconda3\\lib\\site-packages\\pandas\\core\\indexing.py:190: SettingWithCopyWarning: \n",
      "A value is trying to be set on a copy of a slice from a DataFrame\n",
      "\n",
      "See the caveats in the documentation: http://pandas.pydata.org/pandas-docs/stable/indexing.html#indexing-view-versus-copy\n",
      "  self._setitem_with_indexer(indexer, value)\n"
     ]
    },
    {
     "name": "stdout",
     "output_type": "stream",
     "text": [
      "ONWARDTEC {'Date': datetime.datetime(2020, 7, 31, 0, 0)}\n",
      "CENTUM {'Date': datetime.datetime(2020, 7, 31, 0, 0)}\n"
     ]
    },
    {
     "name": "stderr",
     "output_type": "stream",
     "text": [
      "C:\\ProgramData\\Anaconda3\\lib\\site-packages\\pandas\\core\\indexing.py:190: SettingWithCopyWarning: \n",
      "A value is trying to be set on a copy of a slice from a DataFrame\n",
      "\n",
      "See the caveats in the documentation: http://pandas.pydata.org/pandas-docs/stable/indexing.html#indexing-view-versus-copy\n",
      "  self._setitem_with_indexer(indexer, value)\n",
      "C:\\ProgramData\\Anaconda3\\lib\\site-packages\\pandas\\core\\indexing.py:190: SettingWithCopyWarning: \n",
      "A value is trying to be set on a copy of a slice from a DataFrame\n",
      "\n",
      "See the caveats in the documentation: http://pandas.pydata.org/pandas-docs/stable/indexing.html#indexing-view-versus-copy\n",
      "  self._setitem_with_indexer(indexer, value)\n",
      "C:\\ProgramData\\Anaconda3\\lib\\site-packages\\pandas\\core\\indexing.py:190: SettingWithCopyWarning: \n",
      "A value is trying to be set on a copy of a slice from a DataFrame\n",
      "\n",
      "See the caveats in the documentation: http://pandas.pydata.org/pandas-docs/stable/indexing.html#indexing-view-versus-copy\n",
      "  self._setitem_with_indexer(indexer, value)\n"
     ]
    },
    {
     "name": "stdout",
     "output_type": "stream",
     "text": [
      "KEI {'Date': datetime.datetime(2020, 7, 31, 0, 0)}\n",
      "GSCLCEMENT {'Date': datetime.datetime(2020, 7, 31, 0, 0)}\n"
     ]
    },
    {
     "name": "stderr",
     "output_type": "stream",
     "text": [
      "C:\\ProgramData\\Anaconda3\\lib\\site-packages\\pandas\\core\\indexing.py:190: SettingWithCopyWarning: \n",
      "A value is trying to be set on a copy of a slice from a DataFrame\n",
      "\n",
      "See the caveats in the documentation: http://pandas.pydata.org/pandas-docs/stable/indexing.html#indexing-view-versus-copy\n",
      "  self._setitem_with_indexer(indexer, value)\n",
      "C:\\ProgramData\\Anaconda3\\lib\\site-packages\\pandas\\core\\indexing.py:190: SettingWithCopyWarning: \n",
      "A value is trying to be set on a copy of a slice from a DataFrame\n",
      "\n",
      "See the caveats in the documentation: http://pandas.pydata.org/pandas-docs/stable/indexing.html#indexing-view-versus-copy\n",
      "  self._setitem_with_indexer(indexer, value)\n"
     ]
    },
    {
     "name": "stdout",
     "output_type": "stream",
     "text": [
      "AVTNPL {'Date': datetime.datetime(2020, 7, 31, 0, 0)}\n",
      "NAHARINDUS {'Date': datetime.datetime(2020, 7, 31, 0, 0)}\n"
     ]
    },
    {
     "name": "stderr",
     "output_type": "stream",
     "text": [
      "C:\\ProgramData\\Anaconda3\\lib\\site-packages\\pandas\\core\\indexing.py:190: SettingWithCopyWarning: \n",
      "A value is trying to be set on a copy of a slice from a DataFrame\n",
      "\n",
      "See the caveats in the documentation: http://pandas.pydata.org/pandas-docs/stable/indexing.html#indexing-view-versus-copy\n",
      "  self._setitem_with_indexer(indexer, value)\n",
      "C:\\ProgramData\\Anaconda3\\lib\\site-packages\\pandas\\core\\indexing.py:190: SettingWithCopyWarning: \n",
      "A value is trying to be set on a copy of a slice from a DataFrame\n",
      "\n",
      "See the caveats in the documentation: http://pandas.pydata.org/pandas-docs/stable/indexing.html#indexing-view-versus-copy\n",
      "  self._setitem_with_indexer(indexer, value)\n",
      "C:\\ProgramData\\Anaconda3\\lib\\site-packages\\pandas\\core\\indexing.py:190: SettingWithCopyWarning: \n",
      "A value is trying to be set on a copy of a slice from a DataFrame\n",
      "\n",
      "See the caveats in the documentation: http://pandas.pydata.org/pandas-docs/stable/indexing.html#indexing-view-versus-copy\n",
      "  self._setitem_with_indexer(indexer, value)\n"
     ]
    },
    {
     "name": "stdout",
     "output_type": "stream",
     "text": [
      "VADILALIND {'Date': datetime.datetime(2020, 7, 31, 0, 0)}\n",
      "ADFFOODS {'Date': datetime.datetime(2020, 7, 31, 0, 0)}\n",
      "SANWARIA {'Date': datetime.datetime(2020, 4, 22, 0, 0)}\n",
      "HERITGFOOD {'Date': datetime.datetime(2020, 7, 31, 0, 0)}\n",
      "CCL {'Date': datetime.datetime(2020, 7, 31, 0, 0)}\n"
     ]
    },
    {
     "name": "stderr",
     "output_type": "stream",
     "text": [
      "C:\\ProgramData\\Anaconda3\\lib\\site-packages\\pandas\\core\\indexing.py:190: SettingWithCopyWarning: \n",
      "A value is trying to be set on a copy of a slice from a DataFrame\n",
      "\n",
      "See the caveats in the documentation: http://pandas.pydata.org/pandas-docs/stable/indexing.html#indexing-view-versus-copy\n",
      "  self._setitem_with_indexer(indexer, value)\n",
      "C:\\ProgramData\\Anaconda3\\lib\\site-packages\\pandas\\core\\indexing.py:190: SettingWithCopyWarning: \n",
      "A value is trying to be set on a copy of a slice from a DataFrame\n",
      "\n",
      "See the caveats in the documentation: http://pandas.pydata.org/pandas-docs/stable/indexing.html#indexing-view-versus-copy\n",
      "  self._setitem_with_indexer(indexer, value)\n"
     ]
    },
    {
     "name": "stdout",
     "output_type": "stream",
     "text": [
      "RICOAUTO {'Date': datetime.datetime(2020, 7, 31, 0, 0)}\n",
      "MUNJALSHOW {'Date': datetime.datetime(2020, 7, 31, 0, 0)}\n"
     ]
    },
    {
     "name": "stderr",
     "output_type": "stream",
     "text": [
      "C:\\ProgramData\\Anaconda3\\lib\\site-packages\\pandas\\core\\indexing.py:190: SettingWithCopyWarning: \n",
      "A value is trying to be set on a copy of a slice from a DataFrame\n",
      "\n",
      "See the caveats in the documentation: http://pandas.pydata.org/pandas-docs/stable/indexing.html#indexing-view-versus-copy\n",
      "  self._setitem_with_indexer(indexer, value)\n",
      "C:\\ProgramData\\Anaconda3\\lib\\site-packages\\pandas\\core\\indexing.py:190: SettingWithCopyWarning: \n",
      "A value is trying to be set on a copy of a slice from a DataFrame\n",
      "\n",
      "See the caveats in the documentation: http://pandas.pydata.org/pandas-docs/stable/indexing.html#indexing-view-versus-copy\n",
      "  self._setitem_with_indexer(indexer, value)\n",
      "C:\\ProgramData\\Anaconda3\\lib\\site-packages\\pandas\\core\\indexing.py:190: SettingWithCopyWarning: \n",
      "A value is trying to be set on a copy of a slice from a DataFrame\n",
      "\n",
      "See the caveats in the documentation: http://pandas.pydata.org/pandas-docs/stable/indexing.html#indexing-view-versus-copy\n",
      "  self._setitem_with_indexer(indexer, value)\n"
     ]
    },
    {
     "name": "stdout",
     "output_type": "stream",
     "text": [
      "JAMNAAUTO {'Date': datetime.datetime(2020, 7, 31, 0, 0)}\n",
      "SUNCLAYLTD {'Date': datetime.datetime(2020, 7, 31, 0, 0)}\n"
     ]
    },
    {
     "name": "stderr",
     "output_type": "stream",
     "text": [
      "C:\\ProgramData\\Anaconda3\\lib\\site-packages\\pandas\\core\\indexing.py:190: SettingWithCopyWarning: \n",
      "A value is trying to be set on a copy of a slice from a DataFrame\n",
      "\n",
      "See the caveats in the documentation: http://pandas.pydata.org/pandas-docs/stable/indexing.html#indexing-view-versus-copy\n",
      "  self._setitem_with_indexer(indexer, value)\n",
      "C:\\ProgramData\\Anaconda3\\lib\\site-packages\\pandas\\core\\indexing.py:190: SettingWithCopyWarning: \n",
      "A value is trying to be set on a copy of a slice from a DataFrame\n",
      "\n",
      "See the caveats in the documentation: http://pandas.pydata.org/pandas-docs/stable/indexing.html#indexing-view-versus-copy\n",
      "  self._setitem_with_indexer(indexer, value)\n"
     ]
    },
    {
     "name": "stdout",
     "output_type": "stream",
     "text": [
      "MUNJALAU {'Date': datetime.datetime(2020, 7, 31, 0, 0)}\n",
      "JAYBARMARU {'Date': datetime.datetime(2020, 7, 31, 0, 0)}\n"
     ]
    },
    {
     "name": "stderr",
     "output_type": "stream",
     "text": [
      "C:\\ProgramData\\Anaconda3\\lib\\site-packages\\pandas\\core\\indexing.py:190: SettingWithCopyWarning: \n",
      "A value is trying to be set on a copy of a slice from a DataFrame\n",
      "\n",
      "See the caveats in the documentation: http://pandas.pydata.org/pandas-docs/stable/indexing.html#indexing-view-versus-copy\n",
      "  self._setitem_with_indexer(indexer, value)\n",
      "C:\\ProgramData\\Anaconda3\\lib\\site-packages\\pandas\\core\\indexing.py:190: SettingWithCopyWarning: \n",
      "A value is trying to be set on a copy of a slice from a DataFrame\n",
      "\n",
      "See the caveats in the documentation: http://pandas.pydata.org/pandas-docs/stable/indexing.html#indexing-view-versus-copy\n",
      "  self._setitem_with_indexer(indexer, value)\n",
      "C:\\ProgramData\\Anaconda3\\lib\\site-packages\\pandas\\core\\indexing.py:190: SettingWithCopyWarning: \n",
      "A value is trying to be set on a copy of a slice from a DataFrame\n",
      "\n",
      "See the caveats in the documentation: http://pandas.pydata.org/pandas-docs/stable/indexing.html#indexing-view-versus-copy\n",
      "  self._setitem_with_indexer(indexer, value)\n"
     ]
    },
    {
     "name": "stdout",
     "output_type": "stream",
     "text": [
      "SICAL {'Date': datetime.datetime(2020, 7, 31, 0, 0)}\n",
      "RATNAMANI {'Date': datetime.datetime(2020, 7, 31, 0, 0)}\n",
      "VESUVIUS {'Date': datetime.datetime(2020, 7, 31, 0, 0)}\n",
      "ASAL {'Date': datetime.datetime(2020, 6, 17, 0, 0)}\n",
      "MARALOVER {'Date': datetime.datetime(2020, 7, 31, 0, 0)}\n"
     ]
    },
    {
     "name": "stderr",
     "output_type": "stream",
     "text": [
      "C:\\ProgramData\\Anaconda3\\lib\\site-packages\\pandas\\core\\indexing.py:190: SettingWithCopyWarning: \n",
      "A value is trying to be set on a copy of a slice from a DataFrame\n",
      "\n",
      "See the caveats in the documentation: http://pandas.pydata.org/pandas-docs/stable/indexing.html#indexing-view-versus-copy\n",
      "  self._setitem_with_indexer(indexer, value)\n",
      "C:\\ProgramData\\Anaconda3\\lib\\site-packages\\pandas\\core\\indexing.py:190: SettingWithCopyWarning: \n",
      "A value is trying to be set on a copy of a slice from a DataFrame\n",
      "\n",
      "See the caveats in the documentation: http://pandas.pydata.org/pandas-docs/stable/indexing.html#indexing-view-versus-copy\n",
      "  self._setitem_with_indexer(indexer, value)\n"
     ]
    },
    {
     "name": "stdout",
     "output_type": "stream",
     "text": [
      "TRIDENT {'Date': datetime.datetime(2020, 7, 31, 0, 0)}\n",
      "NAGREEKEXP {'Date': datetime.datetime(2020, 7, 31, 0, 0)}\n",
      "ZODIACLOTH {'Date': datetime.datetime(2020, 7, 31, 0, 0)}\n"
     ]
    },
    {
     "name": "stderr",
     "output_type": "stream",
     "text": [
      "C:\\ProgramData\\Anaconda3\\lib\\site-packages\\pandas\\core\\indexing.py:190: SettingWithCopyWarning: \n",
      "A value is trying to be set on a copy of a slice from a DataFrame\n",
      "\n",
      "See the caveats in the documentation: http://pandas.pydata.org/pandas-docs/stable/indexing.html#indexing-view-versus-copy\n",
      "  self._setitem_with_indexer(indexer, value)\n",
      "C:\\ProgramData\\Anaconda3\\lib\\site-packages\\pandas\\core\\indexing.py:190: SettingWithCopyWarning: \n",
      "A value is trying to be set on a copy of a slice from a DataFrame\n",
      "\n",
      "See the caveats in the documentation: http://pandas.pydata.org/pandas-docs/stable/indexing.html#indexing-view-versus-copy\n",
      "  self._setitem_with_indexer(indexer, value)\n",
      "C:\\ProgramData\\Anaconda3\\lib\\site-packages\\pandas\\core\\indexing.py:190: SettingWithCopyWarning: \n",
      "A value is trying to be set on a copy of a slice from a DataFrame\n",
      "\n",
      "See the caveats in the documentation: http://pandas.pydata.org/pandas-docs/stable/indexing.html#indexing-view-versus-copy\n",
      "  self._setitem_with_indexer(indexer, value)\n"
     ]
    },
    {
     "name": "stdout",
     "output_type": "stream",
     "text": [
      "SUPERSPIN {'Date': datetime.datetime(2020, 6, 17, 0, 0)}\n",
      "SURYALAXMI {'Date': datetime.datetime(2020, 5, 6, 0, 0)}\n",
      "KITEX {'Date': datetime.datetime(2020, 7, 31, 0, 0)}\n",
      "WINDMACHIN {'Date': datetime.datetime(2020, 7, 31, 0, 0)}\n"
     ]
    },
    {
     "name": "stderr",
     "output_type": "stream",
     "text": [
      "C:\\ProgramData\\Anaconda3\\lib\\site-packages\\pandas\\core\\indexing.py:190: SettingWithCopyWarning: \n",
      "A value is trying to be set on a copy of a slice from a DataFrame\n",
      "\n",
      "See the caveats in the documentation: http://pandas.pydata.org/pandas-docs/stable/indexing.html#indexing-view-versus-copy\n",
      "  self._setitem_with_indexer(indexer, value)\n",
      "C:\\ProgramData\\Anaconda3\\lib\\site-packages\\pandas\\core\\indexing.py:190: SettingWithCopyWarning: \n",
      "A value is trying to be set on a copy of a slice from a DataFrame\n",
      "\n",
      "See the caveats in the documentation: http://pandas.pydata.org/pandas-docs/stable/indexing.html#indexing-view-versus-copy\n",
      "  self._setitem_with_indexer(indexer, value)\n"
     ]
    },
    {
     "name": "stdout",
     "output_type": "stream",
     "text": [
      "SHANTIGEAR {'Date': datetime.datetime(2020, 7, 31, 0, 0)}\n",
      "HONDAPOWER {'Date': datetime.datetime(2020, 7, 31, 0, 0)}\n"
     ]
    },
    {
     "name": "stderr",
     "output_type": "stream",
     "text": [
      "C:\\ProgramData\\Anaconda3\\lib\\site-packages\\pandas\\core\\indexing.py:190: SettingWithCopyWarning: \n",
      "A value is trying to be set on a copy of a slice from a DataFrame\n",
      "\n",
      "See the caveats in the documentation: http://pandas.pydata.org/pandas-docs/stable/indexing.html#indexing-view-versus-copy\n",
      "  self._setitem_with_indexer(indexer, value)\n",
      "C:\\ProgramData\\Anaconda3\\lib\\site-packages\\pandas\\core\\indexing.py:190: SettingWithCopyWarning: \n",
      "A value is trying to be set on a copy of a slice from a DataFrame\n",
      "\n",
      "See the caveats in the documentation: http://pandas.pydata.org/pandas-docs/stable/indexing.html#indexing-view-versus-copy\n",
      "  self._setitem_with_indexer(indexer, value)\n",
      "C:\\ProgramData\\Anaconda3\\lib\\site-packages\\pandas\\core\\indexing.py:190: SettingWithCopyWarning: \n",
      "A value is trying to be set on a copy of a slice from a DataFrame\n",
      "\n",
      "See the caveats in the documentation: http://pandas.pydata.org/pandas-docs/stable/indexing.html#indexing-view-versus-copy\n",
      "  self._setitem_with_indexer(indexer, value)\n"
     ]
    },
    {
     "name": "stdout",
     "output_type": "stream",
     "text": [
      "HITECHGEAR {'Date': datetime.datetime(2020, 7, 31, 0, 0)}\n",
      "ELGIEQUIP {'Date': datetime.datetime(2020, 7, 31, 0, 0)}\n"
     ]
    },
    {
     "name": "stderr",
     "output_type": "stream",
     "text": [
      "C:\\ProgramData\\Anaconda3\\lib\\site-packages\\pandas\\core\\indexing.py:190: SettingWithCopyWarning: \n",
      "A value is trying to be set on a copy of a slice from a DataFrame\n",
      "\n",
      "See the caveats in the documentation: http://pandas.pydata.org/pandas-docs/stable/indexing.html#indexing-view-versus-copy\n",
      "  self._setitem_with_indexer(indexer, value)\n",
      "C:\\ProgramData\\Anaconda3\\lib\\site-packages\\pandas\\core\\indexing.py:190: SettingWithCopyWarning: \n",
      "A value is trying to be set on a copy of a slice from a DataFrame\n",
      "\n",
      "See the caveats in the documentation: http://pandas.pydata.org/pandas-docs/stable/indexing.html#indexing-view-versus-copy\n",
      "  self._setitem_with_indexer(indexer, value)\n"
     ]
    },
    {
     "name": "stdout",
     "output_type": "stream",
     "text": [
      "TIMKEN {'Date': datetime.datetime(2020, 7, 31, 0, 0)}\n",
      "PRAJIND {'Date': datetime.datetime(2020, 7, 31, 0, 0)}\n"
     ]
    },
    {
     "name": "stderr",
     "output_type": "stream",
     "text": [
      "C:\\ProgramData\\Anaconda3\\lib\\site-packages\\pandas\\core\\indexing.py:190: SettingWithCopyWarning: \n",
      "A value is trying to be set on a copy of a slice from a DataFrame\n",
      "\n",
      "See the caveats in the documentation: http://pandas.pydata.org/pandas-docs/stable/indexing.html#indexing-view-versus-copy\n",
      "  self._setitem_with_indexer(indexer, value)\n",
      "C:\\ProgramData\\Anaconda3\\lib\\site-packages\\pandas\\core\\indexing.py:190: SettingWithCopyWarning: \n",
      "A value is trying to be set on a copy of a slice from a DataFrame\n",
      "\n",
      "See the caveats in the documentation: http://pandas.pydata.org/pandas-docs/stable/indexing.html#indexing-view-versus-copy\n",
      "  self._setitem_with_indexer(indexer, value)\n"
     ]
    },
    {
     "name": "stdout",
     "output_type": "stream",
     "text": [
      "GUJAPOLLO {'Date': datetime.datetime(2020, 7, 31, 0, 0)}\n",
      "MMFL {'Date': datetime.datetime(2020, 7, 31, 0, 0)}\n"
     ]
    },
    {
     "name": "stderr",
     "output_type": "stream",
     "text": [
      "C:\\ProgramData\\Anaconda3\\lib\\site-packages\\pandas\\core\\indexing.py:190: SettingWithCopyWarning: \n",
      "A value is trying to be set on a copy of a slice from a DataFrame\n",
      "\n",
      "See the caveats in the documentation: http://pandas.pydata.org/pandas-docs/stable/indexing.html#indexing-view-versus-copy\n",
      "  self._setitem_with_indexer(indexer, value)\n",
      "C:\\ProgramData\\Anaconda3\\lib\\site-packages\\pandas\\core\\indexing.py:190: SettingWithCopyWarning: \n",
      "A value is trying to be set on a copy of a slice from a DataFrame\n",
      "\n",
      "See the caveats in the documentation: http://pandas.pydata.org/pandas-docs/stable/indexing.html#indexing-view-versus-copy\n",
      "  self._setitem_with_indexer(indexer, value)\n",
      "C:\\ProgramData\\Anaconda3\\lib\\site-packages\\pandas\\core\\indexing.py:190: SettingWithCopyWarning: \n",
      "A value is trying to be set on a copy of a slice from a DataFrame\n",
      "\n",
      "See the caveats in the documentation: http://pandas.pydata.org/pandas-docs/stable/indexing.html#indexing-view-versus-copy\n",
      "  self._setitem_with_indexer(indexer, value)\n"
     ]
    },
    {
     "name": "stdout",
     "output_type": "stream",
     "text": [
      "MAYURUNIQ {'Date': datetime.datetime(2020, 7, 31, 0, 0)}\n",
      "JMCPROJECT {'Date': datetime.datetime(2020, 7, 31, 0, 0)}\n",
      "KALPATPOWR {'Date': datetime.datetime(2020, 7, 31, 0, 0)}\n",
      "WEIZMANIND {'Date': datetime.datetime(2020, 7, 31, 0, 0)}\n"
     ]
    },
    {
     "name": "stderr",
     "output_type": "stream",
     "text": [
      "C:\\ProgramData\\Anaconda3\\lib\\site-packages\\pandas\\core\\indexing.py:190: SettingWithCopyWarning: \n",
      "A value is trying to be set on a copy of a slice from a DataFrame\n",
      "\n",
      "See the caveats in the documentation: http://pandas.pydata.org/pandas-docs/stable/indexing.html#indexing-view-versus-copy\n",
      "  self._setitem_with_indexer(indexer, value)\n",
      "C:\\ProgramData\\Anaconda3\\lib\\site-packages\\pandas\\core\\indexing.py:190: SettingWithCopyWarning: \n",
      "A value is trying to be set on a copy of a slice from a DataFrame\n",
      "\n",
      "See the caveats in the documentation: http://pandas.pydata.org/pandas-docs/stable/indexing.html#indexing-view-versus-copy\n",
      "  self._setitem_with_indexer(indexer, value)\n"
     ]
    },
    {
     "name": "stdout",
     "output_type": "stream",
     "text": [
      "EIHAHOTELS {'Date': datetime.datetime(2020, 7, 31, 0, 0)}\n",
      "KOKUYOCMLN {'Date': datetime.datetime(2020, 7, 31, 0, 0)}\n"
     ]
    },
    {
     "name": "stderr",
     "output_type": "stream",
     "text": [
      "C:\\ProgramData\\Anaconda3\\lib\\site-packages\\pandas\\core\\indexing.py:190: SettingWithCopyWarning: \n",
      "A value is trying to be set on a copy of a slice from a DataFrame\n",
      "\n",
      "See the caveats in the documentation: http://pandas.pydata.org/pandas-docs/stable/indexing.html#indexing-view-versus-copy\n",
      "  self._setitem_with_indexer(indexer, value)\n",
      "C:\\ProgramData\\Anaconda3\\lib\\site-packages\\pandas\\core\\indexing.py:190: SettingWithCopyWarning: \n",
      "A value is trying to be set on a copy of a slice from a DataFrame\n",
      "\n",
      "See the caveats in the documentation: http://pandas.pydata.org/pandas-docs/stable/indexing.html#indexing-view-versus-copy\n",
      "  self._setitem_with_indexer(indexer, value)\n",
      "C:\\ProgramData\\Anaconda3\\lib\\site-packages\\pandas\\core\\indexing.py:190: SettingWithCopyWarning: \n",
      "A value is trying to be set on a copy of a slice from a DataFrame\n",
      "\n",
      "See the caveats in the documentation: http://pandas.pydata.org/pandas-docs/stable/indexing.html#indexing-view-versus-copy\n",
      "  self._setitem_with_indexer(indexer, value)\n"
     ]
    },
    {
     "name": "stdout",
     "output_type": "stream",
     "text": [
      "ADVANIHOTR {'Date': datetime.datetime(2020, 7, 31, 0, 0)}\n",
      "SUPERHOUSE {'Date': datetime.datetime(2020, 7, 31, 0, 0)}\n"
     ]
    },
    {
     "name": "stderr",
     "output_type": "stream",
     "text": [
      "C:\\ProgramData\\Anaconda3\\lib\\site-packages\\pandas\\core\\indexing.py:190: SettingWithCopyWarning: \n",
      "A value is trying to be set on a copy of a slice from a DataFrame\n",
      "\n",
      "See the caveats in the documentation: http://pandas.pydata.org/pandas-docs/stable/indexing.html#indexing-view-versus-copy\n",
      "  self._setitem_with_indexer(indexer, value)\n",
      "C:\\ProgramData\\Anaconda3\\lib\\site-packages\\pandas\\core\\indexing.py:190: SettingWithCopyWarning: \n",
      "A value is trying to be set on a copy of a slice from a DataFrame\n",
      "\n",
      "See the caveats in the documentation: http://pandas.pydata.org/pandas-docs/stable/indexing.html#indexing-view-versus-copy\n",
      "  self._setitem_with_indexer(indexer, value)\n"
     ]
    },
    {
     "name": "stdout",
     "output_type": "stream",
     "text": [
      "BALMLAWRIE {'Date': datetime.datetime(2020, 7, 31, 0, 0)}\n",
      "DCMSHRIRAM {'Date': datetime.datetime(2020, 7, 31, 0, 0)}\n"
     ]
    },
    {
     "name": "stderr",
     "output_type": "stream",
     "text": [
      "C:\\ProgramData\\Anaconda3\\lib\\site-packages\\pandas\\core\\indexing.py:190: SettingWithCopyWarning: \n",
      "A value is trying to be set on a copy of a slice from a DataFrame\n",
      "\n",
      "See the caveats in the documentation: http://pandas.pydata.org/pandas-docs/stable/indexing.html#indexing-view-versus-copy\n",
      "  self._setitem_with_indexer(indexer, value)\n",
      "C:\\ProgramData\\Anaconda3\\lib\\site-packages\\pandas\\core\\indexing.py:190: SettingWithCopyWarning: \n",
      "A value is trying to be set on a copy of a slice from a DataFrame\n",
      "\n",
      "See the caveats in the documentation: http://pandas.pydata.org/pandas-docs/stable/indexing.html#indexing-view-versus-copy\n",
      "  self._setitem_with_indexer(indexer, value)\n"
     ]
    },
    {
     "name": "stdout",
     "output_type": "stream",
     "text": [
      "MAWANASUG {'Date': datetime.datetime(2020, 6, 17, 0, 0)}\n",
      "NILKAMAL {'Date': datetime.datetime(2020, 7, 31, 0, 0)}\n",
      "NAHARPOLY {'Date': datetime.datetime(2020, 7, 31, 0, 0)}\n"
     ]
    },
    {
     "name": "stderr",
     "output_type": "stream",
     "text": [
      "C:\\ProgramData\\Anaconda3\\lib\\site-packages\\pandas\\core\\indexing.py:190: SettingWithCopyWarning: \n",
      "A value is trying to be set on a copy of a slice from a DataFrame\n",
      "\n",
      "See the caveats in the documentation: http://pandas.pydata.org/pandas-docs/stable/indexing.html#indexing-view-versus-copy\n",
      "  self._setitem_with_indexer(indexer, value)\n",
      "C:\\ProgramData\\Anaconda3\\lib\\site-packages\\pandas\\core\\indexing.py:190: SettingWithCopyWarning: \n",
      "A value is trying to be set on a copy of a slice from a DataFrame\n",
      "\n",
      "See the caveats in the documentation: http://pandas.pydata.org/pandas-docs/stable/indexing.html#indexing-view-versus-copy\n",
      "  self._setitem_with_indexer(indexer, value)\n"
     ]
    },
    {
     "name": "stdout",
     "output_type": "stream",
     "text": [
      "3MINDIA {'Date': datetime.datetime(2020, 7, 31, 0, 0)}\n",
      "JMFINANCIL {'Date': datetime.datetime(2020, 7, 31, 0, 0)}\n"
     ]
    },
    {
     "name": "stderr",
     "output_type": "stream",
     "text": [
      "C:\\ProgramData\\Anaconda3\\lib\\site-packages\\pandas\\core\\indexing.py:190: SettingWithCopyWarning: \n",
      "A value is trying to be set on a copy of a slice from a DataFrame\n",
      "\n",
      "See the caveats in the documentation: http://pandas.pydata.org/pandas-docs/stable/indexing.html#indexing-view-versus-copy\n",
      "  self._setitem_with_indexer(indexer, value)\n",
      "C:\\ProgramData\\Anaconda3\\lib\\site-packages\\pandas\\core\\indexing.py:190: SettingWithCopyWarning: \n",
      "A value is trying to be set on a copy of a slice from a DataFrame\n",
      "\n",
      "See the caveats in the documentation: http://pandas.pydata.org/pandas-docs/stable/indexing.html#indexing-view-versus-copy\n",
      "  self._setitem_with_indexer(indexer, value)\n",
      "C:\\ProgramData\\Anaconda3\\lib\\site-packages\\pandas\\core\\indexing.py:190: SettingWithCopyWarning: \n",
      "A value is trying to be set on a copy of a slice from a DataFrame\n",
      "\n",
      "See the caveats in the documentation: http://pandas.pydata.org/pandas-docs/stable/indexing.html#indexing-view-versus-copy\n",
      "  self._setitem_with_indexer(indexer, value)\n"
     ]
    },
    {
     "name": "stdout",
     "output_type": "stream",
     "text": [
      "RIIL {'Date': datetime.datetime(2020, 7, 31, 0, 0)}\n",
      "LINDEINDIA {'Date': datetime.datetime(2020, 7, 31, 0, 0)}\n",
      "PRECWIRE {'Date': datetime.datetime(2020, 7, 31, 0, 0)}\n",
      "SCI {'Date': datetime.datetime(2020, 7, 31, 0, 0)}\n"
     ]
    },
    {
     "name": "stderr",
     "output_type": "stream",
     "text": [
      "C:\\ProgramData\\Anaconda3\\lib\\site-packages\\pandas\\core\\indexing.py:190: SettingWithCopyWarning: \n",
      "A value is trying to be set on a copy of a slice from a DataFrame\n",
      "\n",
      "See the caveats in the documentation: http://pandas.pydata.org/pandas-docs/stable/indexing.html#indexing-view-versus-copy\n",
      "  self._setitem_with_indexer(indexer, value)\n",
      "C:\\ProgramData\\Anaconda3\\lib\\site-packages\\pandas\\core\\indexing.py:190: SettingWithCopyWarning: \n",
      "A value is trying to be set on a copy of a slice from a DataFrame\n",
      "\n",
      "See the caveats in the documentation: http://pandas.pydata.org/pandas-docs/stable/indexing.html#indexing-view-versus-copy\n",
      "  self._setitem_with_indexer(indexer, value)\n"
     ]
    },
    {
     "name": "stdout",
     "output_type": "stream",
     "text": [
      "ITI {'Date': datetime.datetime(2020, 7, 31, 0, 0)}\n",
      "DREDGECORP {'Date': datetime.datetime(2020, 7, 31, 0, 0)}\n"
     ]
    },
    {
     "name": "stderr",
     "output_type": "stream",
     "text": [
      "C:\\ProgramData\\Anaconda3\\lib\\site-packages\\pandas\\core\\indexing.py:190: SettingWithCopyWarning: \n",
      "A value is trying to be set on a copy of a slice from a DataFrame\n",
      "\n",
      "See the caveats in the documentation: http://pandas.pydata.org/pandas-docs/stable/indexing.html#indexing-view-versus-copy\n",
      "  self._setitem_with_indexer(indexer, value)\n",
      "C:\\ProgramData\\Anaconda3\\lib\\site-packages\\pandas\\core\\indexing.py:190: SettingWithCopyWarning: \n",
      "A value is trying to be set on a copy of a slice from a DataFrame\n",
      "\n",
      "See the caveats in the documentation: http://pandas.pydata.org/pandas-docs/stable/indexing.html#indexing-view-versus-copy\n",
      "  self._setitem_with_indexer(indexer, value)\n",
      "C:\\ProgramData\\Anaconda3\\lib\\site-packages\\pandas\\core\\indexing.py:190: SettingWithCopyWarning: \n",
      "A value is trying to be set on a copy of a slice from a DataFrame\n",
      "\n",
      "See the caveats in the documentation: http://pandas.pydata.org/pandas-docs/stable/indexing.html#indexing-view-versus-copy\n",
      "  self._setitem_with_indexer(indexer, value)\n"
     ]
    },
    {
     "name": "stdout",
     "output_type": "stream",
     "text": [
      "NFL {'Date': datetime.datetime(2020, 7, 31, 0, 0)}\n",
      "PIIND {'Date': datetime.datetime(2020, 7, 31, 0, 0)}\n"
     ]
    },
    {
     "name": "stderr",
     "output_type": "stream",
     "text": [
      "C:\\ProgramData\\Anaconda3\\lib\\site-packages\\pandas\\core\\indexing.py:190: SettingWithCopyWarning: \n",
      "A value is trying to be set on a copy of a slice from a DataFrame\n",
      "\n",
      "See the caveats in the documentation: http://pandas.pydata.org/pandas-docs/stable/indexing.html#indexing-view-versus-copy\n",
      "  self._setitem_with_indexer(indexer, value)\n",
      "C:\\ProgramData\\Anaconda3\\lib\\site-packages\\pandas\\core\\indexing.py:190: SettingWithCopyWarning: \n",
      "A value is trying to be set on a copy of a slice from a DataFrame\n",
      "\n",
      "See the caveats in the documentation: http://pandas.pydata.org/pandas-docs/stable/indexing.html#indexing-view-versus-copy\n",
      "  self._setitem_with_indexer(indexer, value)\n"
     ]
    },
    {
     "name": "stdout",
     "output_type": "stream",
     "text": [
      "PLASTIBLEN {'Date': datetime.datetime(2020, 7, 31, 0, 0)}\n",
      "APCOTEXIND {'Date': datetime.datetime(2020, 7, 31, 0, 0)}\n"
     ]
    },
    {
     "name": "stderr",
     "output_type": "stream",
     "text": [
      "C:\\ProgramData\\Anaconda3\\lib\\site-packages\\pandas\\core\\indexing.py:190: SettingWithCopyWarning: \n",
      "A value is trying to be set on a copy of a slice from a DataFrame\n",
      "\n",
      "See the caveats in the documentation: http://pandas.pydata.org/pandas-docs/stable/indexing.html#indexing-view-versus-copy\n",
      "  self._setitem_with_indexer(indexer, value)\n",
      "C:\\ProgramData\\Anaconda3\\lib\\site-packages\\pandas\\core\\indexing.py:190: SettingWithCopyWarning: \n",
      "A value is trying to be set on a copy of a slice from a DataFrame\n",
      "\n",
      "See the caveats in the documentation: http://pandas.pydata.org/pandas-docs/stable/indexing.html#indexing-view-versus-copy\n",
      "  self._setitem_with_indexer(indexer, value)\n",
      "C:\\ProgramData\\Anaconda3\\lib\\site-packages\\pandas\\core\\indexing.py:190: SettingWithCopyWarning: \n",
      "A value is trying to be set on a copy of a slice from a DataFrame\n",
      "\n",
      "See the caveats in the documentation: http://pandas.pydata.org/pandas-docs/stable/indexing.html#indexing-view-versus-copy\n",
      "  self._setitem_with_indexer(indexer, value)\n"
     ]
    },
    {
     "name": "stdout",
     "output_type": "stream",
     "text": [
      "MASTEK {'Date': datetime.datetime(2020, 7, 31, 0, 0)}\n",
      "ASHIANA {'Date': datetime.datetime(2020, 7, 31, 0, 0)}\n"
     ]
    },
    {
     "name": "stderr",
     "output_type": "stream",
     "text": [
      "C:\\ProgramData\\Anaconda3\\lib\\site-packages\\pandas\\core\\indexing.py:190: SettingWithCopyWarning: \n",
      "A value is trying to be set on a copy of a slice from a DataFrame\n",
      "\n",
      "See the caveats in the documentation: http://pandas.pydata.org/pandas-docs/stable/indexing.html#indexing-view-versus-copy\n",
      "  self._setitem_with_indexer(indexer, value)\n",
      "C:\\ProgramData\\Anaconda3\\lib\\site-packages\\pandas\\core\\indexing.py:190: SettingWithCopyWarning: \n",
      "A value is trying to be set on a copy of a slice from a DataFrame\n",
      "\n",
      "See the caveats in the documentation: http://pandas.pydata.org/pandas-docs/stable/indexing.html#indexing-view-versus-copy\n",
      "  self._setitem_with_indexer(indexer, value)\n"
     ]
    },
    {
     "name": "stdout",
     "output_type": "stream",
     "text": [
      "SREINFRA {'Date': datetime.datetime(2020, 7, 31, 0, 0)}\n",
      "MENONBE {'Date': datetime.datetime(2020, 7, 31, 0, 0)}\n",
      "SIMPLEXINF {'Date': datetime.datetime(2020, 7, 31, 0, 0)}\n",
      "MAGMA {'Date': datetime.datetime(2020, 7, 31, 0, 0)}\n"
     ]
    },
    {
     "name": "stderr",
     "output_type": "stream",
     "text": [
      "C:\\ProgramData\\Anaconda3\\lib\\site-packages\\pandas\\core\\indexing.py:190: SettingWithCopyWarning: \n",
      "A value is trying to be set on a copy of a slice from a DataFrame\n",
      "\n",
      "See the caveats in the documentation: http://pandas.pydata.org/pandas-docs/stable/indexing.html#indexing-view-versus-copy\n",
      "  self._setitem_with_indexer(indexer, value)\n",
      "C:\\ProgramData\\Anaconda3\\lib\\site-packages\\pandas\\core\\indexing.py:190: SettingWithCopyWarning: \n",
      "A value is trying to be set on a copy of a slice from a DataFrame\n",
      "\n",
      "See the caveats in the documentation: http://pandas.pydata.org/pandas-docs/stable/indexing.html#indexing-view-versus-copy\n",
      "  self._setitem_with_indexer(indexer, value)\n"
     ]
    },
    {
     "name": "stdout",
     "output_type": "stream",
     "text": [
      "POLYPLEX {'Date': datetime.datetime(2020, 7, 31, 0, 0)}\n",
      "KABRAEXTRU {'Date': datetime.datetime(2020, 7, 31, 0, 0)}\n"
     ]
    },
    {
     "name": "stderr",
     "output_type": "stream",
     "text": [
      "C:\\ProgramData\\Anaconda3\\lib\\site-packages\\pandas\\core\\indexing.py:190: SettingWithCopyWarning: \n",
      "A value is trying to be set on a copy of a slice from a DataFrame\n",
      "\n",
      "See the caveats in the documentation: http://pandas.pydata.org/pandas-docs/stable/indexing.html#indexing-view-versus-copy\n",
      "  self._setitem_with_indexer(indexer, value)\n",
      "C:\\ProgramData\\Anaconda3\\lib\\site-packages\\pandas\\core\\indexing.py:190: SettingWithCopyWarning: \n",
      "A value is trying to be set on a copy of a slice from a DataFrame\n",
      "\n",
      "See the caveats in the documentation: http://pandas.pydata.org/pandas-docs/stable/indexing.html#indexing-view-versus-copy\n",
      "  self._setitem_with_indexer(indexer, value)\n"
     ]
    },
    {
     "name": "stdout",
     "output_type": "stream",
     "text": [
      "VINYLINDIA {'Date': datetime.datetime(2020, 7, 31, 0, 0)}\n",
      "VINATIORGA {'Date': datetime.datetime(2020, 7, 31, 0, 0)}\n"
     ]
    },
    {
     "name": "stderr",
     "output_type": "stream",
     "text": [
      "C:\\ProgramData\\Anaconda3\\lib\\site-packages\\pandas\\core\\indexing.py:190: SettingWithCopyWarning: \n",
      "A value is trying to be set on a copy of a slice from a DataFrame\n",
      "\n",
      "See the caveats in the documentation: http://pandas.pydata.org/pandas-docs/stable/indexing.html#indexing-view-versus-copy\n",
      "  self._setitem_with_indexer(indexer, value)\n",
      "C:\\ProgramData\\Anaconda3\\lib\\site-packages\\pandas\\core\\indexing.py:190: SettingWithCopyWarning: \n",
      "A value is trying to be set on a copy of a slice from a DataFrame\n",
      "\n",
      "See the caveats in the documentation: http://pandas.pydata.org/pandas-docs/stable/indexing.html#indexing-view-versus-copy\n",
      "  self._setitem_with_indexer(indexer, value)\n",
      "C:\\ProgramData\\Anaconda3\\lib\\site-packages\\pandas\\core\\indexing.py:190: SettingWithCopyWarning: \n",
      "A value is trying to be set on a copy of a slice from a DataFrame\n",
      "\n",
      "See the caveats in the documentation: http://pandas.pydata.org/pandas-docs/stable/indexing.html#indexing-view-versus-copy\n",
      "  self._setitem_with_indexer(indexer, value)\n"
     ]
    },
    {
     "name": "stdout",
     "output_type": "stream",
     "text": [
      "AARTIIND {'Date': datetime.datetime(2020, 7, 31, 0, 0)}\n",
      "GAEL {'Date': datetime.datetime(2020, 7, 31, 0, 0)}\n"
     ]
    },
    {
     "name": "stderr",
     "output_type": "stream",
     "text": [
      "C:\\ProgramData\\Anaconda3\\lib\\site-packages\\pandas\\core\\indexing.py:190: SettingWithCopyWarning: \n",
      "A value is trying to be set on a copy of a slice from a DataFrame\n",
      "\n",
      "See the caveats in the documentation: http://pandas.pydata.org/pandas-docs/stable/indexing.html#indexing-view-versus-copy\n",
      "  self._setitem_with_indexer(indexer, value)\n",
      "C:\\ProgramData\\Anaconda3\\lib\\site-packages\\pandas\\core\\indexing.py:190: SettingWithCopyWarning: \n",
      "A value is trying to be set on a copy of a slice from a DataFrame\n",
      "\n",
      "See the caveats in the documentation: http://pandas.pydata.org/pandas-docs/stable/indexing.html#indexing-view-versus-copy\n",
      "  self._setitem_with_indexer(indexer, value)\n"
     ]
    },
    {
     "name": "stdout",
     "output_type": "stream",
     "text": [
      "RCF {'Date': datetime.datetime(2020, 7, 31, 0, 0)}\n",
      "FACT {'Date': datetime.datetime(2020, 7, 31, 0, 0)}\n"
     ]
    },
    {
     "name": "stderr",
     "output_type": "stream",
     "text": [
      "C:\\ProgramData\\Anaconda3\\lib\\site-packages\\pandas\\core\\indexing.py:190: SettingWithCopyWarning: \n",
      "A value is trying to be set on a copy of a slice from a DataFrame\n",
      "\n",
      "See the caveats in the documentation: http://pandas.pydata.org/pandas-docs/stable/indexing.html#indexing-view-versus-copy\n",
      "  self._setitem_with_indexer(indexer, value)\n",
      "C:\\ProgramData\\Anaconda3\\lib\\site-packages\\pandas\\core\\indexing.py:190: SettingWithCopyWarning: \n",
      "A value is trying to be set on a copy of a slice from a DataFrame\n",
      "\n",
      "See the caveats in the documentation: http://pandas.pydata.org/pandas-docs/stable/indexing.html#indexing-view-versus-copy\n",
      "  self._setitem_with_indexer(indexer, value)\n",
      "C:\\ProgramData\\Anaconda3\\lib\\site-packages\\pandas\\core\\indexing.py:190: SettingWithCopyWarning: \n",
      "A value is trying to be set on a copy of a slice from a DataFrame\n",
      "\n",
      "See the caveats in the documentation: http://pandas.pydata.org/pandas-docs/stable/indexing.html#indexing-view-versus-copy\n",
      "  self._setitem_with_indexer(indexer, value)\n"
     ]
    },
    {
     "name": "stdout",
     "output_type": "stream",
     "text": [
      "KOPRAN {'Date': datetime.datetime(2020, 7, 31, 0, 0)}\n",
      "AARTIDRUGS {'Date': datetime.datetime(2020, 7, 31, 0, 0)}\n",
      "BODALCHEM {'Date': datetime.datetime(2020, 7, 31, 0, 0)}\n",
      "VIMTALABS {'Date': datetime.datetime(2020, 7, 31, 0, 0)}\n"
     ]
    },
    {
     "name": "stderr",
     "output_type": "stream",
     "text": [
      "C:\\ProgramData\\Anaconda3\\lib\\site-packages\\pandas\\core\\indexing.py:190: SettingWithCopyWarning: \n",
      "A value is trying to be set on a copy of a slice from a DataFrame\n",
      "\n",
      "See the caveats in the documentation: http://pandas.pydata.org/pandas-docs/stable/indexing.html#indexing-view-versus-copy\n",
      "  self._setitem_with_indexer(indexer, value)\n",
      "C:\\ProgramData\\Anaconda3\\lib\\site-packages\\pandas\\core\\indexing.py:190: SettingWithCopyWarning: \n",
      "A value is trying to be set on a copy of a slice from a DataFrame\n",
      "\n",
      "See the caveats in the documentation: http://pandas.pydata.org/pandas-docs/stable/indexing.html#indexing-view-versus-copy\n",
      "  self._setitem_with_indexer(indexer, value)\n"
     ]
    },
    {
     "name": "stdout",
     "output_type": "stream",
     "text": [
      "MARKSANS {'Date': datetime.datetime(2020, 7, 31, 0, 0)}\n",
      "IPCALAB {'Date': datetime.datetime(2020, 7, 31, 0, 0)}\n"
     ]
    },
    {
     "name": "stderr",
     "output_type": "stream",
     "text": [
      "C:\\ProgramData\\Anaconda3\\lib\\site-packages\\pandas\\core\\indexing.py:190: SettingWithCopyWarning: \n",
      "A value is trying to be set on a copy of a slice from a DataFrame\n",
      "\n",
      "See the caveats in the documentation: http://pandas.pydata.org/pandas-docs/stable/indexing.html#indexing-view-versus-copy\n",
      "  self._setitem_with_indexer(indexer, value)\n",
      "C:\\ProgramData\\Anaconda3\\lib\\site-packages\\pandas\\core\\indexing.py:190: SettingWithCopyWarning: \n",
      "A value is trying to be set on a copy of a slice from a DataFrame\n",
      "\n",
      "See the caveats in the documentation: http://pandas.pydata.org/pandas-docs/stable/indexing.html#indexing-view-versus-copy\n",
      "  self._setitem_with_indexer(indexer, value)\n",
      "C:\\ProgramData\\Anaconda3\\lib\\site-packages\\pandas\\core\\indexing.py:190: SettingWithCopyWarning: \n",
      "A value is trying to be set on a copy of a slice from a DataFrame\n",
      "\n",
      "See the caveats in the documentation: http://pandas.pydata.org/pandas-docs/stable/indexing.html#indexing-view-versus-copy\n",
      "  self._setitem_with_indexer(indexer, value)\n"
     ]
    },
    {
     "name": "stdout",
     "output_type": "stream",
     "text": [
      "NEULANDLAB {'Date': datetime.datetime(2020, 7, 31, 0, 0)}\n",
      "SOTL {'Date': datetime.datetime(2020, 7, 31, 0, 0)}\n"
     ]
    },
    {
     "name": "stderr",
     "output_type": "stream",
     "text": [
      "C:\\ProgramData\\Anaconda3\\lib\\site-packages\\pandas\\core\\indexing.py:190: SettingWithCopyWarning: \n",
      "A value is trying to be set on a copy of a slice from a DataFrame\n",
      "\n",
      "See the caveats in the documentation: http://pandas.pydata.org/pandas-docs/stable/indexing.html#indexing-view-versus-copy\n",
      "  self._setitem_with_indexer(indexer, value)\n",
      "C:\\ProgramData\\Anaconda3\\lib\\site-packages\\pandas\\core\\indexing.py:190: SettingWithCopyWarning: \n",
      "A value is trying to be set on a copy of a slice from a DataFrame\n",
      "\n",
      "See the caveats in the documentation: http://pandas.pydata.org/pandas-docs/stable/indexing.html#indexing-view-versus-copy\n",
      "  self._setitem_with_indexer(indexer, value)\n"
     ]
    },
    {
     "name": "stdout",
     "output_type": "stream",
     "text": [
      "SUNPHARMA {'Date': datetime.datetime(2020, 7, 31, 0, 0)}\n",
      "HIKAL {'Date': datetime.datetime(2020, 7, 31, 0, 0)}\n"
     ]
    },
    {
     "name": "stderr",
     "output_type": "stream",
     "text": [
      "C:\\ProgramData\\Anaconda3\\lib\\site-packages\\pandas\\core\\indexing.py:190: SettingWithCopyWarning: \n",
      "A value is trying to be set on a copy of a slice from a DataFrame\n",
      "\n",
      "See the caveats in the documentation: http://pandas.pydata.org/pandas-docs/stable/indexing.html#indexing-view-versus-copy\n",
      "  self._setitem_with_indexer(indexer, value)\n",
      "C:\\ProgramData\\Anaconda3\\lib\\site-packages\\pandas\\core\\indexing.py:190: SettingWithCopyWarning: \n",
      "A value is trying to be set on a copy of a slice from a DataFrame\n",
      "\n",
      "See the caveats in the documentation: http://pandas.pydata.org/pandas-docs/stable/indexing.html#indexing-view-versus-copy\n",
      "  self._setitem_with_indexer(indexer, value)\n",
      "C:\\ProgramData\\Anaconda3\\lib\\site-packages\\pandas\\core\\indexing.py:190: SettingWithCopyWarning: \n",
      "A value is trying to be set on a copy of a slice from a DataFrame\n",
      "\n",
      "See the caveats in the documentation: http://pandas.pydata.org/pandas-docs/stable/indexing.html#indexing-view-versus-copy\n",
      "  self._setitem_with_indexer(indexer, value)\n"
     ]
    },
    {
     "name": "stdout",
     "output_type": "stream",
     "text": [
      "AUROPHARMA {'Date': datetime.datetime(2020, 7, 31, 0, 0)}\n",
      "NATCOPHARM {'Date': datetime.datetime(2020, 7, 31, 0, 0)}\n",
      "PANAMAPET {'Date': datetime.datetime(2020, 7, 31, 0, 0)}\n",
      "BALPHARMA {'Date': datetime.datetime(2020, 7, 31, 0, 0)}\n"
     ]
    },
    {
     "name": "stderr",
     "output_type": "stream",
     "text": [
      "C:\\ProgramData\\Anaconda3\\lib\\site-packages\\pandas\\core\\indexing.py:190: SettingWithCopyWarning: \n",
      "A value is trying to be set on a copy of a slice from a DataFrame\n",
      "\n",
      "See the caveats in the documentation: http://pandas.pydata.org/pandas-docs/stable/indexing.html#indexing-view-versus-copy\n",
      "  self._setitem_with_indexer(indexer, value)\n",
      "C:\\ProgramData\\Anaconda3\\lib\\site-packages\\pandas\\core\\indexing.py:190: SettingWithCopyWarning: \n",
      "A value is trying to be set on a copy of a slice from a DataFrame\n",
      "\n",
      "See the caveats in the documentation: http://pandas.pydata.org/pandas-docs/stable/indexing.html#indexing-view-versus-copy\n",
      "  self._setitem_with_indexer(indexer, value)\n"
     ]
    },
    {
     "name": "stdout",
     "output_type": "stream",
     "text": [
      "FILATEX {'Date': datetime.datetime(2020, 7, 31, 0, 0)}\n",
      "MERCATOR {'Date': datetime.datetime(2020, 4, 9, 0, 0)}\n",
      "MPHASIS {'Date': datetime.datetime(2020, 7, 31, 0, 0)}\n"
     ]
    },
    {
     "name": "stderr",
     "output_type": "stream",
     "text": [
      "C:\\ProgramData\\Anaconda3\\lib\\site-packages\\pandas\\core\\indexing.py:190: SettingWithCopyWarning: \n",
      "A value is trying to be set on a copy of a slice from a DataFrame\n",
      "\n",
      "See the caveats in the documentation: http://pandas.pydata.org/pandas-docs/stable/indexing.html#indexing-view-versus-copy\n",
      "  self._setitem_with_indexer(indexer, value)\n",
      "C:\\ProgramData\\Anaconda3\\lib\\site-packages\\pandas\\core\\indexing.py:190: SettingWithCopyWarning: \n",
      "A value is trying to be set on a copy of a slice from a DataFrame\n",
      "\n",
      "See the caveats in the documentation: http://pandas.pydata.org/pandas-docs/stable/indexing.html#indexing-view-versus-copy\n",
      "  self._setitem_with_indexer(indexer, value)\n",
      "C:\\ProgramData\\Anaconda3\\lib\\site-packages\\pandas\\core\\indexing.py:190: SettingWithCopyWarning: \n",
      "A value is trying to be set on a copy of a slice from a DataFrame\n",
      "\n",
      "See the caveats in the documentation: http://pandas.pydata.org/pandas-docs/stable/indexing.html#indexing-view-versus-copy\n",
      "  self._setitem_with_indexer(indexer, value)\n"
     ]
    },
    {
     "name": "stdout",
     "output_type": "stream",
     "text": [
      "GANESHHOUC {'Date': datetime.datetime(2020, 7, 1, 0, 0)}\n",
      "NMDC {'Date': datetime.datetime(2020, 7, 31, 0, 0)}\n",
      "PATINTLOG {'Date': datetime.datetime(2020, 7, 31, 0, 0)}\n"
     ]
    },
    {
     "name": "stderr",
     "output_type": "stream",
     "text": [
      "C:\\ProgramData\\Anaconda3\\lib\\site-packages\\pandas\\core\\indexing.py:190: SettingWithCopyWarning: \n",
      "A value is trying to be set on a copy of a slice from a DataFrame\n",
      "\n",
      "See the caveats in the documentation: http://pandas.pydata.org/pandas-docs/stable/indexing.html#indexing-view-versus-copy\n",
      "  self._setitem_with_indexer(indexer, value)\n",
      "C:\\ProgramData\\Anaconda3\\lib\\site-packages\\pandas\\core\\indexing.py:190: SettingWithCopyWarning: \n",
      "A value is trying to be set on a copy of a slice from a DataFrame\n",
      "\n",
      "See the caveats in the documentation: http://pandas.pydata.org/pandas-docs/stable/indexing.html#indexing-view-versus-copy\n",
      "  self._setitem_with_indexer(indexer, value)\n"
     ]
    },
    {
     "name": "stdout",
     "output_type": "stream",
     "text": [
      "ALPHAGEO {'Date': datetime.datetime(2020, 7, 31, 0, 0)}\n",
      "LIBERTSHOE {'Date': datetime.datetime(2020, 7, 31, 0, 0)}\n"
     ]
    },
    {
     "name": "stderr",
     "output_type": "stream",
     "text": [
      "C:\\ProgramData\\Anaconda3\\lib\\site-packages\\pandas\\core\\indexing.py:190: SettingWithCopyWarning: \n",
      "A value is trying to be set on a copy of a slice from a DataFrame\n",
      "\n",
      "See the caveats in the documentation: http://pandas.pydata.org/pandas-docs/stable/indexing.html#indexing-view-versus-copy\n",
      "  self._setitem_with_indexer(indexer, value)\n",
      "C:\\ProgramData\\Anaconda3\\lib\\site-packages\\pandas\\core\\indexing.py:190: SettingWithCopyWarning: \n",
      "A value is trying to be set on a copy of a slice from a DataFrame\n",
      "\n",
      "See the caveats in the documentation: http://pandas.pydata.org/pandas-docs/stable/indexing.html#indexing-view-versus-copy\n",
      "  self._setitem_with_indexer(indexer, value)\n"
     ]
    },
    {
     "name": "stdout",
     "output_type": "stream",
     "text": [
      "ELECTHERM {'Date': datetime.datetime(2020, 7, 31, 0, 0)}\n",
      "BLUEDART {'Date': datetime.datetime(2020, 7, 31, 0, 0)}\n"
     ]
    },
    {
     "name": "stderr",
     "output_type": "stream",
     "text": [
      "C:\\ProgramData\\Anaconda3\\lib\\site-packages\\pandas\\core\\indexing.py:190: SettingWithCopyWarning: \n",
      "A value is trying to be set on a copy of a slice from a DataFrame\n",
      "\n",
      "See the caveats in the documentation: http://pandas.pydata.org/pandas-docs/stable/indexing.html#indexing-view-versus-copy\n",
      "  self._setitem_with_indexer(indexer, value)\n",
      "C:\\ProgramData\\Anaconda3\\lib\\site-packages\\pandas\\core\\indexing.py:190: SettingWithCopyWarning: \n",
      "A value is trying to be set on a copy of a slice from a DataFrame\n",
      "\n",
      "See the caveats in the documentation: http://pandas.pydata.org/pandas-docs/stable/indexing.html#indexing-view-versus-copy\n",
      "  self._setitem_with_indexer(indexer, value)\n",
      "C:\\ProgramData\\Anaconda3\\lib\\site-packages\\pandas\\core\\indexing.py:190: SettingWithCopyWarning: \n",
      "A value is trying to be set on a copy of a slice from a DataFrame\n",
      "\n",
      "See the caveats in the documentation: http://pandas.pydata.org/pandas-docs/stable/indexing.html#indexing-view-versus-copy\n",
      "  self._setitem_with_indexer(indexer, value)\n"
     ]
    },
    {
     "name": "stdout",
     "output_type": "stream",
     "text": [
      "MIRZAINT {'Date': datetime.datetime(2020, 7, 31, 0, 0)}\n",
      "TFCILTD {'Date': datetime.datetime(2020, 7, 31, 0, 0)}\n",
      "BIL {'Date': datetime.datetime(2020, 7, 31, 0, 0)}\n",
      "KAMATHOTEL {'Date': datetime.datetime(2020, 7, 31, 0, 0)}\n"
     ]
    },
    {
     "name": "stderr",
     "output_type": "stream",
     "text": [
      "C:\\ProgramData\\Anaconda3\\lib\\site-packages\\pandas\\core\\indexing.py:190: SettingWithCopyWarning: \n",
      "A value is trying to be set on a copy of a slice from a DataFrame\n",
      "\n",
      "See the caveats in the documentation: http://pandas.pydata.org/pandas-docs/stable/indexing.html#indexing-view-versus-copy\n",
      "  self._setitem_with_indexer(indexer, value)\n",
      "C:\\ProgramData\\Anaconda3\\lib\\site-packages\\pandas\\core\\indexing.py:190: SettingWithCopyWarning: \n",
      "A value is trying to be set on a copy of a slice from a DataFrame\n",
      "\n",
      "See the caveats in the documentation: http://pandas.pydata.org/pandas-docs/stable/indexing.html#indexing-view-versus-copy\n",
      "  self._setitem_with_indexer(indexer, value)\n",
      "C:\\ProgramData\\Anaconda3\\lib\\site-packages\\pandas\\core\\indexing.py:190: SettingWithCopyWarning: \n",
      "A value is trying to be set on a copy of a slice from a DataFrame\n",
      "\n",
      "See the caveats in the documentation: http://pandas.pydata.org/pandas-docs/stable/indexing.html#indexing-view-versus-copy\n",
      "  self._setitem_with_indexer(indexer, value)\n"
     ]
    },
    {
     "name": "stdout",
     "output_type": "stream",
     "text": [
      "SANDESH {'Date': datetime.datetime(2020, 7, 31, 0, 0)}\n",
      "GOLDIAM {'Date': datetime.datetime(2020, 7, 31, 0, 0)}\n"
     ]
    },
    {
     "name": "stderr",
     "output_type": "stream",
     "text": [
      "C:\\ProgramData\\Anaconda3\\lib\\site-packages\\pandas\\core\\indexing.py:190: SettingWithCopyWarning: \n",
      "A value is trying to be set on a copy of a slice from a DataFrame\n",
      "\n",
      "See the caveats in the documentation: http://pandas.pydata.org/pandas-docs/stable/indexing.html#indexing-view-versus-copy\n",
      "  self._setitem_with_indexer(indexer, value)\n",
      "C:\\ProgramData\\Anaconda3\\lib\\site-packages\\pandas\\core\\indexing.py:190: SettingWithCopyWarning: \n",
      "A value is trying to be set on a copy of a slice from a DataFrame\n",
      "\n",
      "See the caveats in the documentation: http://pandas.pydata.org/pandas-docs/stable/indexing.html#indexing-view-versus-copy\n",
      "  self._setitem_with_indexer(indexer, value)\n"
     ]
    },
    {
     "name": "stdout",
     "output_type": "stream",
     "text": [
      "GREENPLY {'Date': datetime.datetime(2020, 7, 31, 0, 0)}\n",
      "SEAMECLTD {'Date': datetime.datetime(2020, 7, 31, 0, 0)}\n"
     ]
    },
    {
     "name": "stderr",
     "output_type": "stream",
     "text": [
      "C:\\ProgramData\\Anaconda3\\lib\\site-packages\\pandas\\core\\indexing.py:190: SettingWithCopyWarning: \n",
      "A value is trying to be set on a copy of a slice from a DataFrame\n",
      "\n",
      "See the caveats in the documentation: http://pandas.pydata.org/pandas-docs/stable/indexing.html#indexing-view-versus-copy\n",
      "  self._setitem_with_indexer(indexer, value)\n",
      "C:\\ProgramData\\Anaconda3\\lib\\site-packages\\pandas\\core\\indexing.py:190: SettingWithCopyWarning: \n",
      "A value is trying to be set on a copy of a slice from a DataFrame\n",
      "\n",
      "See the caveats in the documentation: http://pandas.pydata.org/pandas-docs/stable/indexing.html#indexing-view-versus-copy\n",
      "  self._setitem_with_indexer(indexer, value)\n",
      "C:\\ProgramData\\Anaconda3\\lib\\site-packages\\pandas\\core\\indexing.py:190: SettingWithCopyWarning: \n",
      "A value is trying to be set on a copy of a slice from a DataFrame\n",
      "\n",
      "See the caveats in the documentation: http://pandas.pydata.org/pandas-docs/stable/indexing.html#indexing-view-versus-copy\n",
      "  self._setitem_with_indexer(indexer, value)\n"
     ]
    },
    {
     "name": "stdout",
     "output_type": "stream",
     "text": [
      "SARLAPOLY {'Date': datetime.datetime(2020, 7, 31, 0, 0)}\n",
      "LAOPALA {'Date': datetime.datetime(2020, 7, 31, 0, 0)}\n"
     ]
    },
    {
     "name": "stderr",
     "output_type": "stream",
     "text": [
      "C:\\ProgramData\\Anaconda3\\lib\\site-packages\\pandas\\core\\indexing.py:190: SettingWithCopyWarning: \n",
      "A value is trying to be set on a copy of a slice from a DataFrame\n",
      "\n",
      "See the caveats in the documentation: http://pandas.pydata.org/pandas-docs/stable/indexing.html#indexing-view-versus-copy\n",
      "  self._setitem_with_indexer(indexer, value)\n"
     ]
    },
    {
     "name": "stdout",
     "output_type": "stream",
     "text": [
      "VENUSREM {'Date': datetime.datetime(2020, 5, 6, 0, 0)}\n",
      "GUJALKALI {'Date': datetime.datetime(2020, 7, 31, 0, 0)}\n",
      "INDIACEM {'Date': datetime.datetime(2020, 7, 31, 0, 0)}\n"
     ]
    },
    {
     "name": "stderr",
     "output_type": "stream",
     "text": [
      "C:\\ProgramData\\Anaconda3\\lib\\site-packages\\pandas\\core\\indexing.py:190: SettingWithCopyWarning: \n",
      "A value is trying to be set on a copy of a slice from a DataFrame\n",
      "\n",
      "See the caveats in the documentation: http://pandas.pydata.org/pandas-docs/stable/indexing.html#indexing-view-versus-copy\n",
      "  self._setitem_with_indexer(indexer, value)\n",
      "C:\\ProgramData\\Anaconda3\\lib\\site-packages\\pandas\\core\\indexing.py:190: SettingWithCopyWarning: \n",
      "A value is trying to be set on a copy of a slice from a DataFrame\n",
      "\n",
      "See the caveats in the documentation: http://pandas.pydata.org/pandas-docs/stable/indexing.html#indexing-view-versus-copy\n",
      "  self._setitem_with_indexer(indexer, value)\n",
      "C:\\ProgramData\\Anaconda3\\lib\\site-packages\\pandas\\core\\indexing.py:190: SettingWithCopyWarning: \n",
      "A value is trying to be set on a copy of a slice from a DataFrame\n",
      "\n",
      "See the caveats in the documentation: http://pandas.pydata.org/pandas-docs/stable/indexing.html#indexing-view-versus-copy\n",
      "  self._setitem_with_indexer(indexer, value)\n"
     ]
    },
    {
     "name": "stdout",
     "output_type": "stream",
     "text": [
      "JKTYRE {'Date': datetime.datetime(2020, 7, 31, 0, 0)}\n",
      "MANGCHEFER {'Date': datetime.datetime(2020, 7, 31, 0, 0)}\n",
      "JUBILANT {'Date': datetime.datetime(2020, 7, 31, 0, 0)}\n",
      "SANGHVIMOV {'Date': datetime.datetime(2020, 7, 31, 0, 0)}\n"
     ]
    },
    {
     "name": "stderr",
     "output_type": "stream",
     "text": [
      "C:\\ProgramData\\Anaconda3\\lib\\site-packages\\pandas\\core\\indexing.py:190: SettingWithCopyWarning: \n",
      "A value is trying to be set on a copy of a slice from a DataFrame\n",
      "\n",
      "See the caveats in the documentation: http://pandas.pydata.org/pandas-docs/stable/indexing.html#indexing-view-versus-copy\n",
      "  self._setitem_with_indexer(indexer, value)\n",
      "C:\\ProgramData\\Anaconda3\\lib\\site-packages\\pandas\\core\\indexing.py:190: SettingWithCopyWarning: \n",
      "A value is trying to be set on a copy of a slice from a DataFrame\n",
      "\n",
      "See the caveats in the documentation: http://pandas.pydata.org/pandas-docs/stable/indexing.html#indexing-view-versus-copy\n",
      "  self._setitem_with_indexer(indexer, value)\n"
     ]
    },
    {
     "name": "stdout",
     "output_type": "stream",
     "text": [
      "SELAN {'Date': datetime.datetime(2020, 7, 31, 0, 0)}\n",
      "SUVEN {'Date': datetime.datetime(2020, 7, 31, 0, 0)}\n"
     ]
    },
    {
     "name": "stderr",
     "output_type": "stream",
     "text": [
      "C:\\ProgramData\\Anaconda3\\lib\\site-packages\\pandas\\core\\indexing.py:190: SettingWithCopyWarning: \n",
      "A value is trying to be set on a copy of a slice from a DataFrame\n",
      "\n",
      "See the caveats in the documentation: http://pandas.pydata.org/pandas-docs/stable/indexing.html#indexing-view-versus-copy\n",
      "  self._setitem_with_indexer(indexer, value)\n",
      "C:\\ProgramData\\Anaconda3\\lib\\site-packages\\pandas\\core\\indexing.py:190: SettingWithCopyWarning: \n",
      "A value is trying to be set on a copy of a slice from a DataFrame\n",
      "\n",
      "See the caveats in the documentation: http://pandas.pydata.org/pandas-docs/stable/indexing.html#indexing-view-versus-copy\n",
      "  self._setitem_with_indexer(indexer, value)\n"
     ]
    },
    {
     "name": "stdout",
     "output_type": "stream",
     "text": [
      "KOTHARIPRO {'Date': datetime.datetime(2020, 7, 31, 0, 0)}\n",
      "IDEA {'Date': datetime.datetime(2020, 7, 31, 0, 0)}\n"
     ]
    },
    {
     "name": "stderr",
     "output_type": "stream",
     "text": [
      "C:\\ProgramData\\Anaconda3\\lib\\site-packages\\pandas\\core\\indexing.py:190: SettingWithCopyWarning: \n",
      "A value is trying to be set on a copy of a slice from a DataFrame\n",
      "\n",
      "See the caveats in the documentation: http://pandas.pydata.org/pandas-docs/stable/indexing.html#indexing-view-versus-copy\n",
      "  self._setitem_with_indexer(indexer, value)\n",
      "C:\\ProgramData\\Anaconda3\\lib\\site-packages\\pandas\\core\\indexing.py:190: SettingWithCopyWarning: \n",
      "A value is trying to be set on a copy of a slice from a DataFrame\n",
      "\n",
      "See the caveats in the documentation: http://pandas.pydata.org/pandas-docs/stable/indexing.html#indexing-view-versus-copy\n",
      "  self._setitem_with_indexer(indexer, value)\n",
      "C:\\ProgramData\\Anaconda3\\lib\\site-packages\\pandas\\core\\indexing.py:190: SettingWithCopyWarning: \n",
      "A value is trying to be set on a copy of a slice from a DataFrame\n",
      "\n",
      "See the caveats in the documentation: http://pandas.pydata.org/pandas-docs/stable/indexing.html#indexing-view-versus-copy\n",
      "  self._setitem_with_indexer(indexer, value)\n"
     ]
    },
    {
     "name": "stdout",
     "output_type": "stream",
     "text": [
      "GENUSPOWER {'Date': datetime.datetime(2020, 7, 31, 0, 0)}\n",
      "ORIENTBELL {'Date': datetime.datetime(2020, 7, 31, 0, 0)}\n"
     ]
    },
    {
     "name": "stderr",
     "output_type": "stream",
     "text": [
      "C:\\ProgramData\\Anaconda3\\lib\\site-packages\\pandas\\core\\indexing.py:190: SettingWithCopyWarning: \n",
      "A value is trying to be set on a copy of a slice from a DataFrame\n",
      "\n",
      "See the caveats in the documentation: http://pandas.pydata.org/pandas-docs/stable/indexing.html#indexing-view-versus-copy\n",
      "  self._setitem_with_indexer(indexer, value)\n",
      "C:\\ProgramData\\Anaconda3\\lib\\site-packages\\pandas\\core\\indexing.py:190: SettingWithCopyWarning: \n",
      "A value is trying to be set on a copy of a slice from a DataFrame\n",
      "\n",
      "See the caveats in the documentation: http://pandas.pydata.org/pandas-docs/stable/indexing.html#indexing-view-versus-copy\n",
      "  self._setitem_with_indexer(indexer, value)\n"
     ]
    },
    {
     "name": "stdout",
     "output_type": "stream",
     "text": [
      "NRBBEARING {'Date': datetime.datetime(2020, 7, 31, 0, 0)}\n",
      "BAYERCROP {'Date': datetime.datetime(2020, 7, 31, 0, 0)}\n"
     ]
    },
    {
     "name": "stderr",
     "output_type": "stream",
     "text": [
      "C:\\ProgramData\\Anaconda3\\lib\\site-packages\\pandas\\core\\indexing.py:190: SettingWithCopyWarning: \n",
      "A value is trying to be set on a copy of a slice from a DataFrame\n",
      "\n",
      "See the caveats in the documentation: http://pandas.pydata.org/pandas-docs/stable/indexing.html#indexing-view-versus-copy\n",
      "  self._setitem_with_indexer(indexer, value)\n",
      "C:\\ProgramData\\Anaconda3\\lib\\site-packages\\pandas\\core\\indexing.py:190: SettingWithCopyWarning: \n",
      "A value is trying to be set on a copy of a slice from a DataFrame\n",
      "\n",
      "See the caveats in the documentation: http://pandas.pydata.org/pandas-docs/stable/indexing.html#indexing-view-versus-copy\n",
      "  self._setitem_with_indexer(indexer, value)\n"
     ]
    },
    {
     "name": "stdout",
     "output_type": "stream",
     "text": [
      "RELAXO {'Date': datetime.datetime(2020, 7, 31, 0, 0)}\n",
      "SHILPAMED {'Date': datetime.datetime(2020, 7, 31, 0, 0)}\n"
     ]
    },
    {
     "name": "stderr",
     "output_type": "stream",
     "text": [
      "C:\\ProgramData\\Anaconda3\\lib\\site-packages\\pandas\\core\\indexing.py:190: SettingWithCopyWarning: \n",
      "A value is trying to be set on a copy of a slice from a DataFrame\n",
      "\n",
      "See the caveats in the documentation: http://pandas.pydata.org/pandas-docs/stable/indexing.html#indexing-view-versus-copy\n",
      "  self._setitem_with_indexer(indexer, value)\n",
      "C:\\ProgramData\\Anaconda3\\lib\\site-packages\\pandas\\core\\indexing.py:190: SettingWithCopyWarning: \n",
      "A value is trying to be set on a copy of a slice from a DataFrame\n",
      "\n",
      "See the caveats in the documentation: http://pandas.pydata.org/pandas-docs/stable/indexing.html#indexing-view-versus-copy\n",
      "  self._setitem_with_indexer(indexer, value)\n",
      "C:\\ProgramData\\Anaconda3\\lib\\site-packages\\pandas\\core\\indexing.py:190: SettingWithCopyWarning: \n",
      "A value is trying to be set on a copy of a slice from a DataFrame\n",
      "\n",
      "See the caveats in the documentation: http://pandas.pydata.org/pandas-docs/stable/indexing.html#indexing-view-versus-copy\n",
      "  self._setitem_with_indexer(indexer, value)\n"
     ]
    },
    {
     "name": "stdout",
     "output_type": "stream",
     "text": [
      "STERTOOLS {'Date': datetime.datetime(2020, 7, 31, 0, 0)}\n",
      "KRBL {'Date': datetime.datetime(2020, 7, 31, 0, 0)}\n"
     ]
    },
    {
     "name": "stderr",
     "output_type": "stream",
     "text": [
      "C:\\ProgramData\\Anaconda3\\lib\\site-packages\\pandas\\core\\indexing.py:190: SettingWithCopyWarning: \n",
      "A value is trying to be set on a copy of a slice from a DataFrame\n",
      "\n",
      "See the caveats in the documentation: http://pandas.pydata.org/pandas-docs/stable/indexing.html#indexing-view-versus-copy\n",
      "  self._setitem_with_indexer(indexer, value)\n",
      "C:\\ProgramData\\Anaconda3\\lib\\site-packages\\pandas\\core\\indexing.py:190: SettingWithCopyWarning: \n",
      "A value is trying to be set on a copy of a slice from a DataFrame\n",
      "\n",
      "See the caveats in the documentation: http://pandas.pydata.org/pandas-docs/stable/indexing.html#indexing-view-versus-copy\n",
      "  self._setitem_with_indexer(indexer, value)\n"
     ]
    },
    {
     "name": "stdout",
     "output_type": "stream",
     "text": [
      "IOC {'Date': datetime.datetime(2020, 7, 31, 0, 0)}\n",
      "BALAMINES {'Date': datetime.datetime(2020, 7, 31, 0, 0)}\n",
      "OMMETALS {'Date': datetime.datetime(2020, 7, 1, 0, 0)}\n",
      "PATELENG {'Date': datetime.datetime(2020, 7, 31, 0, 0)}\n",
      "ALICON {'Date': datetime.datetime(2020, 7, 31, 0, 0)}\n"
     ]
    },
    {
     "name": "stderr",
     "output_type": "stream",
     "text": [
      "C:\\ProgramData\\Anaconda3\\lib\\site-packages\\pandas\\core\\indexing.py:190: SettingWithCopyWarning: \n",
      "A value is trying to be set on a copy of a slice from a DataFrame\n",
      "\n",
      "See the caveats in the documentation: http://pandas.pydata.org/pandas-docs/stable/indexing.html#indexing-view-versus-copy\n",
      "  self._setitem_with_indexer(indexer, value)\n",
      "C:\\ProgramData\\Anaconda3\\lib\\site-packages\\pandas\\core\\indexing.py:190: SettingWithCopyWarning: \n",
      "A value is trying to be set on a copy of a slice from a DataFrame\n",
      "\n",
      "See the caveats in the documentation: http://pandas.pydata.org/pandas-docs/stable/indexing.html#indexing-view-versus-copy\n",
      "  self._setitem_with_indexer(indexer, value)\n"
     ]
    },
    {
     "name": "stdout",
     "output_type": "stream",
     "text": [
      "EMAMILTD {'Date': datetime.datetime(2020, 7, 31, 0, 0)}\n",
      "NUCLEUS {'Date': datetime.datetime(2020, 7, 31, 0, 0)}\n"
     ]
    },
    {
     "name": "stderr",
     "output_type": "stream",
     "text": [
      "C:\\ProgramData\\Anaconda3\\lib\\site-packages\\pandas\\core\\indexing.py:190: SettingWithCopyWarning: \n",
      "A value is trying to be set on a copy of a slice from a DataFrame\n",
      "\n",
      "See the caveats in the documentation: http://pandas.pydata.org/pandas-docs/stable/indexing.html#indexing-view-versus-copy\n",
      "  self._setitem_with_indexer(indexer, value)\n",
      "C:\\ProgramData\\Anaconda3\\lib\\site-packages\\pandas\\core\\indexing.py:190: SettingWithCopyWarning: \n",
      "A value is trying to be set on a copy of a slice from a DataFrame\n",
      "\n",
      "See the caveats in the documentation: http://pandas.pydata.org/pandas-docs/stable/indexing.html#indexing-view-versus-copy\n",
      "  self._setitem_with_indexer(indexer, value)\n"
     ]
    },
    {
     "name": "stdout",
     "output_type": "stream",
     "text": [
      "MANAPPURAM {'Date': datetime.datetime(2020, 7, 31, 0, 0)}\n",
      "VSTTILLERS {'Date': datetime.datetime(2020, 7, 31, 0, 0)}\n"
     ]
    },
    {
     "name": "stderr",
     "output_type": "stream",
     "text": [
      "C:\\ProgramData\\Anaconda3\\lib\\site-packages\\pandas\\core\\indexing.py:190: SettingWithCopyWarning: \n",
      "A value is trying to be set on a copy of a slice from a DataFrame\n",
      "\n",
      "See the caveats in the documentation: http://pandas.pydata.org/pandas-docs/stable/indexing.html#indexing-view-versus-copy\n",
      "  self._setitem_with_indexer(indexer, value)\n",
      "C:\\ProgramData\\Anaconda3\\lib\\site-packages\\pandas\\core\\indexing.py:190: SettingWithCopyWarning: \n",
      "A value is trying to be set on a copy of a slice from a DataFrame\n",
      "\n",
      "See the caveats in the documentation: http://pandas.pydata.org/pandas-docs/stable/indexing.html#indexing-view-versus-copy\n",
      "  self._setitem_with_indexer(indexer, value)\n",
      "C:\\ProgramData\\Anaconda3\\lib\\site-packages\\pandas\\core\\indexing.py:190: SettingWithCopyWarning: \n",
      "A value is trying to be set on a copy of a slice from a DataFrame\n",
      "\n",
      "See the caveats in the documentation: http://pandas.pydata.org/pandas-docs/stable/indexing.html#indexing-view-versus-copy\n",
      "  self._setitem_with_indexer(indexer, value)\n"
     ]
    },
    {
     "name": "stdout",
     "output_type": "stream",
     "text": [
      "CONCOR {'Date': datetime.datetime(2020, 7, 31, 0, 0)}\n",
      "PANACEABIO {'Date': datetime.datetime(2020, 7, 31, 0, 0)}\n"
     ]
    },
    {
     "name": "stderr",
     "output_type": "stream",
     "text": [
      "C:\\ProgramData\\Anaconda3\\lib\\site-packages\\pandas\\core\\indexing.py:190: SettingWithCopyWarning: \n",
      "A value is trying to be set on a copy of a slice from a DataFrame\n",
      "\n",
      "See the caveats in the documentation: http://pandas.pydata.org/pandas-docs/stable/indexing.html#indexing-view-versus-copy\n",
      "  self._setitem_with_indexer(indexer, value)\n",
      "C:\\ProgramData\\Anaconda3\\lib\\site-packages\\pandas\\core\\indexing.py:190: SettingWithCopyWarning: \n",
      "A value is trying to be set on a copy of a slice from a DataFrame\n",
      "\n",
      "See the caveats in the documentation: http://pandas.pydata.org/pandas-docs/stable/indexing.html#indexing-view-versus-copy\n",
      "  self._setitem_with_indexer(indexer, value)\n"
     ]
    },
    {
     "name": "stdout",
     "output_type": "stream",
     "text": [
      "TNPL {'Date': datetime.datetime(2020, 7, 31, 0, 0)}\n",
      "SHAKTIPUMP {'Date': datetime.datetime(2020, 6, 17, 0, 0)}\n",
      "MOHITIND {'Date': datetime.datetime(2020, 7, 28, 0, 0)}\n",
      "MADHUCON {'Date': datetime.datetime(2020, 4, 29, 0, 0)}\n",
      "RAJESHEXPO {'Date': datetime.datetime(2020, 7, 31, 0, 0)}\n"
     ]
    },
    {
     "name": "stderr",
     "output_type": "stream",
     "text": [
      "C:\\ProgramData\\Anaconda3\\lib\\site-packages\\pandas\\core\\indexing.py:190: SettingWithCopyWarning: \n",
      "A value is trying to be set on a copy of a slice from a DataFrame\n",
      "\n",
      "See the caveats in the documentation: http://pandas.pydata.org/pandas-docs/stable/indexing.html#indexing-view-versus-copy\n",
      "  self._setitem_with_indexer(indexer, value)\n",
      "C:\\ProgramData\\Anaconda3\\lib\\site-packages\\pandas\\core\\indexing.py:190: SettingWithCopyWarning: \n",
      "A value is trying to be set on a copy of a slice from a DataFrame\n",
      "\n",
      "See the caveats in the documentation: http://pandas.pydata.org/pandas-docs/stable/indexing.html#indexing-view-versus-copy\n",
      "  self._setitem_with_indexer(indexer, value)\n"
     ]
    },
    {
     "name": "stdout",
     "output_type": "stream",
     "text": [
      "EVEREADY {'Date': datetime.datetime(2020, 7, 31, 0, 0)}\n",
      "HATSUN {'Date': datetime.datetime(2020, 7, 31, 0, 0)}\n"
     ]
    },
    {
     "name": "stderr",
     "output_type": "stream",
     "text": [
      "C:\\ProgramData\\Anaconda3\\lib\\site-packages\\pandas\\core\\indexing.py:190: SettingWithCopyWarning: \n",
      "A value is trying to be set on a copy of a slice from a DataFrame\n",
      "\n",
      "See the caveats in the documentation: http://pandas.pydata.org/pandas-docs/stable/indexing.html#indexing-view-versus-copy\n",
      "  self._setitem_with_indexer(indexer, value)\n",
      "C:\\ProgramData\\Anaconda3\\lib\\site-packages\\pandas\\core\\indexing.py:190: SettingWithCopyWarning: \n",
      "A value is trying to be set on a copy of a slice from a DataFrame\n",
      "\n",
      "See the caveats in the documentation: http://pandas.pydata.org/pandas-docs/stable/indexing.html#indexing-view-versus-copy\n",
      "  self._setitem_with_indexer(indexer, value)\n"
     ]
    },
    {
     "name": "stdout",
     "output_type": "stream",
     "text": [
      "JINDWORLD {'Date': datetime.datetime(2020, 7, 31, 0, 0)}\n",
      "SOMANYCERA {'Date': datetime.datetime(2020, 7, 31, 0, 0)}\n"
     ]
    },
    {
     "name": "stderr",
     "output_type": "stream",
     "text": [
      "C:\\ProgramData\\Anaconda3\\lib\\site-packages\\pandas\\core\\indexing.py:190: SettingWithCopyWarning: \n",
      "A value is trying to be set on a copy of a slice from a DataFrame\n",
      "\n",
      "See the caveats in the documentation: http://pandas.pydata.org/pandas-docs/stable/indexing.html#indexing-view-versus-copy\n",
      "  self._setitem_with_indexer(indexer, value)\n",
      "C:\\ProgramData\\Anaconda3\\lib\\site-packages\\pandas\\core\\indexing.py:190: SettingWithCopyWarning: \n",
      "A value is trying to be set on a copy of a slice from a DataFrame\n",
      "\n",
      "See the caveats in the documentation: http://pandas.pydata.org/pandas-docs/stable/indexing.html#indexing-view-versus-copy\n",
      "  self._setitem_with_indexer(indexer, value)\n",
      "C:\\ProgramData\\Anaconda3\\lib\\site-packages\\pandas\\core\\indexing.py:190: SettingWithCopyWarning: \n",
      "A value is trying to be set on a copy of a slice from a DataFrame\n",
      "\n",
      "See the caveats in the documentation: http://pandas.pydata.org/pandas-docs/stable/indexing.html#indexing-view-versus-copy\n",
      "  self._setitem_with_indexer(indexer, value)\n"
     ]
    },
    {
     "name": "stdout",
     "output_type": "stream",
     "text": [
      "CGCL {'Date': datetime.datetime(2020, 7, 31, 0, 0)}\n",
      "FDC {'Date': datetime.datetime(2020, 7, 31, 0, 0)}\n",
      "MARICO {'Date': datetime.datetime(2020, 7, 31, 0, 0)}\n",
      "VIDHIING {'Date': datetime.datetime(2020, 7, 31, 0, 0)}\n"
     ]
    },
    {
     "name": "stderr",
     "output_type": "stream",
     "text": [
      "C:\\ProgramData\\Anaconda3\\lib\\site-packages\\pandas\\core\\indexing.py:190: SettingWithCopyWarning: \n",
      "A value is trying to be set on a copy of a slice from a DataFrame\n",
      "\n",
      "See the caveats in the documentation: http://pandas.pydata.org/pandas-docs/stable/indexing.html#indexing-view-versus-copy\n",
      "  self._setitem_with_indexer(indexer, value)\n",
      "C:\\ProgramData\\Anaconda3\\lib\\site-packages\\pandas\\core\\indexing.py:190: SettingWithCopyWarning: \n",
      "A value is trying to be set on a copy of a slice from a DataFrame\n",
      "\n",
      "See the caveats in the documentation: http://pandas.pydata.org/pandas-docs/stable/indexing.html#indexing-view-versus-copy\n",
      "  self._setitem_with_indexer(indexer, value)\n"
     ]
    },
    {
     "name": "stdout",
     "output_type": "stream",
     "text": [
      "PRAENG {'Date': datetime.datetime(2020, 7, 31, 0, 0)}\n",
      "POLYMED {'Date': datetime.datetime(2020, 7, 31, 0, 0)}\n"
     ]
    },
    {
     "name": "stderr",
     "output_type": "stream",
     "text": [
      "C:\\ProgramData\\Anaconda3\\lib\\site-packages\\pandas\\core\\indexing.py:190: SettingWithCopyWarning: \n",
      "A value is trying to be set on a copy of a slice from a DataFrame\n",
      "\n",
      "See the caveats in the documentation: http://pandas.pydata.org/pandas-docs/stable/indexing.html#indexing-view-versus-copy\n",
      "  self._setitem_with_indexer(indexer, value)\n",
      "C:\\ProgramData\\Anaconda3\\lib\\site-packages\\pandas\\core\\indexing.py:190: SettingWithCopyWarning: \n",
      "A value is trying to be set on a copy of a slice from a DataFrame\n",
      "\n",
      "See the caveats in the documentation: http://pandas.pydata.org/pandas-docs/stable/indexing.html#indexing-view-versus-copy\n",
      "  self._setitem_with_indexer(indexer, value)\n"
     ]
    },
    {
     "name": "stdout",
     "output_type": "stream",
     "text": [
      "ATULAUTO {'Date': datetime.datetime(2020, 7, 31, 0, 0)}\n",
      "AMBIKCO {'Date': datetime.datetime(2020, 7, 31, 0, 0)}\n"
     ]
    },
    {
     "name": "stderr",
     "output_type": "stream",
     "text": [
      "C:\\ProgramData\\Anaconda3\\lib\\site-packages\\pandas\\core\\indexing.py:190: SettingWithCopyWarning: \n",
      "A value is trying to be set on a copy of a slice from a DataFrame\n",
      "\n",
      "See the caveats in the documentation: http://pandas.pydata.org/pandas-docs/stable/indexing.html#indexing-view-versus-copy\n",
      "  self._setitem_with_indexer(indexer, value)\n",
      "C:\\ProgramData\\Anaconda3\\lib\\site-packages\\pandas\\core\\indexing.py:190: SettingWithCopyWarning: \n",
      "A value is trying to be set on a copy of a slice from a DataFrame\n",
      "\n",
      "See the caveats in the documentation: http://pandas.pydata.org/pandas-docs/stable/indexing.html#indexing-view-versus-copy\n",
      "  self._setitem_with_indexer(indexer, value)\n"
     ]
    },
    {
     "name": "stdout",
     "output_type": "stream",
     "text": [
      "SWELECTES {'Date': datetime.datetime(2020, 7, 31, 0, 0)}\n",
      "MUKANDENGG {'Date': datetime.datetime(2020, 6, 17, 0, 0)}\n",
      "HEXAWARE {'Date': datetime.datetime(2020, 7, 31, 0, 0)}\n"
     ]
    },
    {
     "name": "stderr",
     "output_type": "stream",
     "text": [
      "C:\\ProgramData\\Anaconda3\\lib\\site-packages\\pandas\\core\\indexing.py:190: SettingWithCopyWarning: \n",
      "A value is trying to be set on a copy of a slice from a DataFrame\n",
      "\n",
      "See the caveats in the documentation: http://pandas.pydata.org/pandas-docs/stable/indexing.html#indexing-view-versus-copy\n",
      "  self._setitem_with_indexer(indexer, value)\n",
      "C:\\ProgramData\\Anaconda3\\lib\\site-packages\\pandas\\core\\indexing.py:190: SettingWithCopyWarning: \n",
      "A value is trying to be set on a copy of a slice from a DataFrame\n",
      "\n",
      "See the caveats in the documentation: http://pandas.pydata.org/pandas-docs/stable/indexing.html#indexing-view-versus-copy\n",
      "  self._setitem_with_indexer(indexer, value)\n"
     ]
    },
    {
     "name": "stdout",
     "output_type": "stream",
     "text": [
      "BANKBARODA {'Date': datetime.datetime(2020, 7, 31, 0, 0)}\n",
      "SKMEGGPROD {'Date': datetime.datetime(2020, 7, 31, 0, 0)}\n"
     ]
    },
    {
     "name": "stderr",
     "output_type": "stream",
     "text": [
      "C:\\ProgramData\\Anaconda3\\lib\\site-packages\\pandas\\core\\indexing.py:190: SettingWithCopyWarning: \n",
      "A value is trying to be set on a copy of a slice from a DataFrame\n",
      "\n",
      "See the caveats in the documentation: http://pandas.pydata.org/pandas-docs/stable/indexing.html#indexing-view-versus-copy\n",
      "  self._setitem_with_indexer(indexer, value)\n",
      "C:\\ProgramData\\Anaconda3\\lib\\site-packages\\pandas\\core\\indexing.py:190: SettingWithCopyWarning: \n",
      "A value is trying to be set on a copy of a slice from a DataFrame\n",
      "\n",
      "See the caveats in the documentation: http://pandas.pydata.org/pandas-docs/stable/indexing.html#indexing-view-versus-copy\n",
      "  self._setitem_with_indexer(indexer, value)\n"
     ]
    },
    {
     "name": "stdout",
     "output_type": "stream",
     "text": [
      "WELCORP {'Date': datetime.datetime(2020, 7, 31, 0, 0)}\n",
      "BANKINDIA {'Date': datetime.datetime(2020, 7, 31, 0, 0)}\n"
     ]
    },
    {
     "name": "stderr",
     "output_type": "stream",
     "text": [
      "C:\\ProgramData\\Anaconda3\\lib\\site-packages\\pandas\\core\\indexing.py:190: SettingWithCopyWarning: \n",
      "A value is trying to be set on a copy of a slice from a DataFrame\n",
      "\n",
      "See the caveats in the documentation: http://pandas.pydata.org/pandas-docs/stable/indexing.html#indexing-view-versus-copy\n",
      "  self._setitem_with_indexer(indexer, value)\n",
      "C:\\ProgramData\\Anaconda3\\lib\\site-packages\\pandas\\core\\indexing.py:190: SettingWithCopyWarning: \n",
      "A value is trying to be set on a copy of a slice from a DataFrame\n",
      "\n",
      "See the caveats in the documentation: http://pandas.pydata.org/pandas-docs/stable/indexing.html#indexing-view-versus-copy\n",
      "  self._setitem_with_indexer(indexer, value)\n"
     ]
    },
    {
     "name": "stdout",
     "output_type": "stream",
     "text": [
      "INDRAMEDCO {'Date': datetime.datetime(2020, 7, 31, 0, 0)}\n",
      "GAIL {'Date': datetime.datetime(2020, 7, 31, 0, 0)}\n"
     ]
    },
    {
     "name": "stderr",
     "output_type": "stream",
     "text": [
      "C:\\ProgramData\\Anaconda3\\lib\\site-packages\\pandas\\core\\indexing.py:190: SettingWithCopyWarning: \n",
      "A value is trying to be set on a copy of a slice from a DataFrame\n",
      "\n",
      "See the caveats in the documentation: http://pandas.pydata.org/pandas-docs/stable/indexing.html#indexing-view-versus-copy\n",
      "  self._setitem_with_indexer(indexer, value)\n",
      "C:\\ProgramData\\Anaconda3\\lib\\site-packages\\pandas\\core\\indexing.py:190: SettingWithCopyWarning: \n",
      "A value is trying to be set on a copy of a slice from a DataFrame\n",
      "\n",
      "See the caveats in the documentation: http://pandas.pydata.org/pandas-docs/stable/indexing.html#indexing-view-versus-copy\n",
      "  self._setitem_with_indexer(indexer, value)\n"
     ]
    },
    {
     "name": "stdout",
     "output_type": "stream",
     "text": [
      "VAIBHAVGBL {'Date': datetime.datetime(2020, 7, 31, 0, 0)}\n",
      "JKPAPER {'Date': datetime.datetime(2020, 7, 31, 0, 0)}\n"
     ]
    },
    {
     "name": "stderr",
     "output_type": "stream",
     "text": [
      "C:\\ProgramData\\Anaconda3\\lib\\site-packages\\pandas\\core\\indexing.py:190: SettingWithCopyWarning: \n",
      "A value is trying to be set on a copy of a slice from a DataFrame\n",
      "\n",
      "See the caveats in the documentation: http://pandas.pydata.org/pandas-docs/stable/indexing.html#indexing-view-versus-copy\n",
      "  self._setitem_with_indexer(indexer, value)\n",
      "C:\\ProgramData\\Anaconda3\\lib\\site-packages\\pandas\\core\\indexing.py:190: SettingWithCopyWarning: \n",
      "A value is trying to be set on a copy of a slice from a DataFrame\n",
      "\n",
      "See the caveats in the documentation: http://pandas.pydata.org/pandas-docs/stable/indexing.html#indexing-view-versus-copy\n",
      "  self._setitem_with_indexer(indexer, value)\n"
     ]
    },
    {
     "name": "stdout",
     "output_type": "stream",
     "text": [
      "SAREGAMA {'Date': datetime.datetime(2020, 7, 31, 0, 0)}\n",
      "MADRASFERT {'Date': datetime.datetime(2020, 7, 31, 0, 0)}\n"
     ]
    },
    {
     "name": "stderr",
     "output_type": "stream",
     "text": [
      "C:\\ProgramData\\Anaconda3\\lib\\site-packages\\pandas\\core\\indexing.py:190: SettingWithCopyWarning: \n",
      "A value is trying to be set on a copy of a slice from a DataFrame\n",
      "\n",
      "See the caveats in the documentation: http://pandas.pydata.org/pandas-docs/stable/indexing.html#indexing-view-versus-copy\n",
      "  self._setitem_with_indexer(indexer, value)\n",
      "C:\\ProgramData\\Anaconda3\\lib\\site-packages\\pandas\\core\\indexing.py:190: SettingWithCopyWarning: \n",
      "A value is trying to be set on a copy of a slice from a DataFrame\n",
      "\n",
      "See the caveats in the documentation: http://pandas.pydata.org/pandas-docs/stable/indexing.html#indexing-view-versus-copy\n",
      "  self._setitem_with_indexer(indexer, value)\n"
     ]
    },
    {
     "name": "stdout",
     "output_type": "stream",
     "text": [
      "CYBERTECH {'Date': datetime.datetime(2020, 7, 31, 0, 0)}\n",
      "ICICIBANK {'Date': datetime.datetime(2020, 7, 31, 0, 0)}\n"
     ]
    },
    {
     "name": "stderr",
     "output_type": "stream",
     "text": [
      "C:\\ProgramData\\Anaconda3\\lib\\site-packages\\pandas\\core\\indexing.py:190: SettingWithCopyWarning: \n",
      "A value is trying to be set on a copy of a slice from a DataFrame\n",
      "\n",
      "See the caveats in the documentation: http://pandas.pydata.org/pandas-docs/stable/indexing.html#indexing-view-versus-copy\n",
      "  self._setitem_with_indexer(indexer, value)\n",
      "C:\\ProgramData\\Anaconda3\\lib\\site-packages\\pandas\\core\\indexing.py:190: SettingWithCopyWarning: \n",
      "A value is trying to be set on a copy of a slice from a DataFrame\n",
      "\n",
      "See the caveats in the documentation: http://pandas.pydata.org/pandas-docs/stable/indexing.html#indexing-view-versus-copy\n",
      "  self._setitem_with_indexer(indexer, value)\n"
     ]
    },
    {
     "name": "stdout",
     "output_type": "stream",
     "text": [
      "CYIENT {'Date': datetime.datetime(2020, 7, 31, 0, 0)}\n",
      "ENGINERSIN {'Date': datetime.datetime(2020, 7, 31, 0, 0)}\n"
     ]
    },
    {
     "name": "stderr",
     "output_type": "stream",
     "text": [
      "C:\\ProgramData\\Anaconda3\\lib\\site-packages\\pandas\\core\\indexing.py:190: SettingWithCopyWarning: \n",
      "A value is trying to be set on a copy of a slice from a DataFrame\n",
      "\n",
      "See the caveats in the documentation: http://pandas.pydata.org/pandas-docs/stable/indexing.html#indexing-view-versus-copy\n",
      "  self._setitem_with_indexer(indexer, value)\n",
      "C:\\ProgramData\\Anaconda3\\lib\\site-packages\\pandas\\core\\indexing.py:190: SettingWithCopyWarning: \n",
      "A value is trying to be set on a copy of a slice from a DataFrame\n",
      "\n",
      "See the caveats in the documentation: http://pandas.pydata.org/pandas-docs/stable/indexing.html#indexing-view-versus-copy\n",
      "  self._setitem_with_indexer(indexer, value)\n"
     ]
    },
    {
     "name": "stdout",
     "output_type": "stream",
     "text": [
      "CORPBANK {'Date': datetime.datetime(2020, 3, 19, 0, 0)}\n",
      "DHANBANK {'Date': datetime.datetime(2020, 7, 31, 0, 0)}\n",
      "GMDCLTD {'Date': datetime.datetime(2020, 7, 31, 0, 0)}\n"
     ]
    },
    {
     "name": "stderr",
     "output_type": "stream",
     "text": [
      "C:\\ProgramData\\Anaconda3\\lib\\site-packages\\pandas\\core\\indexing.py:190: SettingWithCopyWarning: \n",
      "A value is trying to be set on a copy of a slice from a DataFrame\n",
      "\n",
      "See the caveats in the documentation: http://pandas.pydata.org/pandas-docs/stable/indexing.html#indexing-view-versus-copy\n",
      "  self._setitem_with_indexer(indexer, value)\n",
      "C:\\ProgramData\\Anaconda3\\lib\\site-packages\\pandas\\core\\indexing.py:190: SettingWithCopyWarning: \n",
      "A value is trying to be set on a copy of a slice from a DataFrame\n",
      "\n",
      "See the caveats in the documentation: http://pandas.pydata.org/pandas-docs/stable/indexing.html#indexing-view-versus-copy\n",
      "  self._setitem_with_indexer(indexer, value)\n"
     ]
    },
    {
     "name": "stdout",
     "output_type": "stream",
     "text": [
      "INDUSINDBK {'Date': datetime.datetime(2020, 7, 31, 0, 0)}\n",
      "J&KBANK {'Date': datetime.datetime(2020, 7, 31, 0, 0)}\n"
     ]
    },
    {
     "name": "stderr",
     "output_type": "stream",
     "text": [
      "C:\\ProgramData\\Anaconda3\\lib\\site-packages\\pandas\\core\\indexing.py:190: SettingWithCopyWarning: \n",
      "A value is trying to be set on a copy of a slice from a DataFrame\n",
      "\n",
      "See the caveats in the documentation: http://pandas.pydata.org/pandas-docs/stable/indexing.html#indexing-view-versus-copy\n",
      "  self._setitem_with_indexer(indexer, value)\n",
      "C:\\ProgramData\\Anaconda3\\lib\\site-packages\\pandas\\core\\indexing.py:190: SettingWithCopyWarning: \n",
      "A value is trying to be set on a copy of a slice from a DataFrame\n",
      "\n",
      "See the caveats in the documentation: http://pandas.pydata.org/pandas-docs/stable/indexing.html#indexing-view-versus-copy\n",
      "  self._setitem_with_indexer(indexer, value)\n"
     ]
    },
    {
     "name": "stdout",
     "output_type": "stream",
     "text": [
      "CUB {'Date': datetime.datetime(2020, 7, 31, 0, 0)}\n",
      "AXISBANK {'Date': datetime.datetime(2020, 7, 31, 0, 0)}\n"
     ]
    },
    {
     "name": "stderr",
     "output_type": "stream",
     "text": [
      "C:\\ProgramData\\Anaconda3\\lib\\site-packages\\pandas\\core\\indexing.py:190: SettingWithCopyWarning: \n",
      "A value is trying to be set on a copy of a slice from a DataFrame\n",
      "\n",
      "See the caveats in the documentation: http://pandas.pydata.org/pandas-docs/stable/indexing.html#indexing-view-versus-copy\n",
      "  self._setitem_with_indexer(indexer, value)\n",
      "C:\\ProgramData\\Anaconda3\\lib\\site-packages\\pandas\\core\\indexing.py:190: SettingWithCopyWarning: \n",
      "A value is trying to be set on a copy of a slice from a DataFrame\n",
      "\n",
      "See the caveats in the documentation: http://pandas.pydata.org/pandas-docs/stable/indexing.html#indexing-view-versus-copy\n",
      "  self._setitem_with_indexer(indexer, value)\n"
     ]
    },
    {
     "name": "stdout",
     "output_type": "stream",
     "text": [
      "SOUTHBANK {'Date': datetime.datetime(2020, 7, 31, 0, 0)}\n",
      "SONATSOFTW {'Date': datetime.datetime(2020, 7, 31, 0, 0)}\n"
     ]
    },
    {
     "name": "stderr",
     "output_type": "stream",
     "text": [
      "C:\\ProgramData\\Anaconda3\\lib\\site-packages\\pandas\\core\\indexing.py:190: SettingWithCopyWarning: \n",
      "A value is trying to be set on a copy of a slice from a DataFrame\n",
      "\n",
      "See the caveats in the documentation: http://pandas.pydata.org/pandas-docs/stable/indexing.html#indexing-view-versus-copy\n",
      "  self._setitem_with_indexer(indexer, value)\n",
      "C:\\ProgramData\\Anaconda3\\lib\\site-packages\\pandas\\core\\indexing.py:190: SettingWithCopyWarning: \n",
      "A value is trying to be set on a copy of a slice from a DataFrame\n",
      "\n",
      "See the caveats in the documentation: http://pandas.pydata.org/pandas-docs/stable/indexing.html#indexing-view-versus-copy\n",
      "  self._setitem_with_indexer(indexer, value)\n"
     ]
    },
    {
     "name": "stdout",
     "output_type": "stream",
     "text": [
      "NATIONALUM {'Date': datetime.datetime(2020, 7, 31, 0, 0)}\n",
      "INDNIPPON {'Date': datetime.datetime(2020, 7, 31, 0, 0)}\n"
     ]
    },
    {
     "name": "stderr",
     "output_type": "stream",
     "text": [
      "C:\\ProgramData\\Anaconda3\\lib\\site-packages\\pandas\\core\\indexing.py:190: SettingWithCopyWarning: \n",
      "A value is trying to be set on a copy of a slice from a DataFrame\n",
      "\n",
      "See the caveats in the documentation: http://pandas.pydata.org/pandas-docs/stable/indexing.html#indexing-view-versus-copy\n",
      "  self._setitem_with_indexer(indexer, value)\n",
      "C:\\ProgramData\\Anaconda3\\lib\\site-packages\\pandas\\core\\indexing.py:190: SettingWithCopyWarning: \n",
      "A value is trying to be set on a copy of a slice from a DataFrame\n",
      "\n",
      "See the caveats in the documentation: http://pandas.pydata.org/pandas-docs/stable/indexing.html#indexing-view-versus-copy\n",
      "  self._setitem_with_indexer(indexer, value)\n",
      "C:\\ProgramData\\Anaconda3\\lib\\site-packages\\pandas\\core\\indexing.py:190: SettingWithCopyWarning: \n",
      "A value is trying to be set on a copy of a slice from a DataFrame\n",
      "\n",
      "See the caveats in the documentation: http://pandas.pydata.org/pandas-docs/stable/indexing.html#indexing-view-versus-copy\n",
      "  self._setitem_with_indexer(indexer, value)\n"
     ]
    },
    {
     "name": "stdout",
     "output_type": "stream",
     "text": [
      "NSIL {'Date': datetime.datetime(2020, 7, 31, 0, 0)}\n",
      "SYNDIBANK {'Date': datetime.datetime(2020, 3, 19, 0, 0)}\n",
      "HCLTECH {'Date': datetime.datetime(2020, 7, 31, 0, 0)}\n"
     ]
    },
    {
     "name": "stderr",
     "output_type": "stream",
     "text": [
      "C:\\ProgramData\\Anaconda3\\lib\\site-packages\\pandas\\core\\indexing.py:190: SettingWithCopyWarning: \n",
      "A value is trying to be set on a copy of a slice from a DataFrame\n",
      "\n",
      "See the caveats in the documentation: http://pandas.pydata.org/pandas-docs/stable/indexing.html#indexing-view-versus-copy\n",
      "  self._setitem_with_indexer(indexer, value)\n",
      "C:\\ProgramData\\Anaconda3\\lib\\site-packages\\pandas\\core\\indexing.py:190: SettingWithCopyWarning: \n",
      "A value is trying to be set on a copy of a slice from a DataFrame\n",
      "\n",
      "See the caveats in the documentation: http://pandas.pydata.org/pandas-docs/stable/indexing.html#indexing-view-versus-copy\n",
      "  self._setitem_with_indexer(indexer, value)\n"
     ]
    },
    {
     "name": "stdout",
     "output_type": "stream",
     "text": [
      "GEOJITFSL {'Date': datetime.datetime(2020, 7, 31, 0, 0)}\n",
      "JINDALSTEL {'Date': datetime.datetime(2020, 7, 31, 0, 0)}\n"
     ]
    },
    {
     "name": "stderr",
     "output_type": "stream",
     "text": [
      "C:\\ProgramData\\Anaconda3\\lib\\site-packages\\pandas\\core\\indexing.py:190: SettingWithCopyWarning: \n",
      "A value is trying to be set on a copy of a slice from a DataFrame\n",
      "\n",
      "See the caveats in the documentation: http://pandas.pydata.org/pandas-docs/stable/indexing.html#indexing-view-versus-copy\n",
      "  self._setitem_with_indexer(indexer, value)\n",
      "C:\\ProgramData\\Anaconda3\\lib\\site-packages\\pandas\\core\\indexing.py:190: SettingWithCopyWarning: \n",
      "A value is trying to be set on a copy of a slice from a DataFrame\n",
      "\n",
      "See the caveats in the documentation: http://pandas.pydata.org/pandas-docs/stable/indexing.html#indexing-view-versus-copy\n",
      "  self._setitem_with_indexer(indexer, value)\n",
      "C:\\ProgramData\\Anaconda3\\lib\\site-packages\\pandas\\core\\indexing.py:190: SettingWithCopyWarning: \n",
      "A value is trying to be set on a copy of a slice from a DataFrame\n",
      "\n",
      "See the caveats in the documentation: http://pandas.pydata.org/pandas-docs/stable/indexing.html#indexing-view-versus-copy\n",
      "  self._setitem_with_indexer(indexer, value)\n"
     ]
    },
    {
     "name": "stdout",
     "output_type": "stream",
     "text": [
      "GLENMARK {'Date': datetime.datetime(2020, 7, 31, 0, 0)}\n",
      "WOCKPHARMA {'Date': datetime.datetime(2020, 7, 31, 0, 0)}\n",
      "TATACOFFEE {'Date': datetime.datetime(2020, 7, 31, 0, 0)}\n",
      "SHREERAMA {'Date': datetime.datetime(2020, 7, 31, 0, 0)}\n"
     ]
    },
    {
     "name": "stderr",
     "output_type": "stream",
     "text": [
      "C:\\ProgramData\\Anaconda3\\lib\\site-packages\\pandas\\core\\indexing.py:190: SettingWithCopyWarning: \n",
      "A value is trying to be set on a copy of a slice from a DataFrame\n",
      "\n",
      "See the caveats in the documentation: http://pandas.pydata.org/pandas-docs/stable/indexing.html#indexing-view-versus-copy\n",
      "  self._setitem_with_indexer(indexer, value)\n",
      "C:\\ProgramData\\Anaconda3\\lib\\site-packages\\pandas\\core\\indexing.py:190: SettingWithCopyWarning: \n",
      "A value is trying to be set on a copy of a slice from a DataFrame\n",
      "\n",
      "See the caveats in the documentation: http://pandas.pydata.org/pandas-docs/stable/indexing.html#indexing-view-versus-copy\n",
      "  self._setitem_with_indexer(indexer, value)\n"
     ]
    },
    {
     "name": "stdout",
     "output_type": "stream",
     "text": [
      "MAHLIFE {'Date': datetime.datetime(2020, 7, 31, 0, 0)}\n",
      "CADILAHC {'Date': datetime.datetime(2020, 7, 31, 0, 0)}\n"
     ]
    },
    {
     "name": "stderr",
     "output_type": "stream",
     "text": [
      "C:\\ProgramData\\Anaconda3\\lib\\site-packages\\pandas\\core\\indexing.py:190: SettingWithCopyWarning: \n",
      "A value is trying to be set on a copy of a slice from a DataFrame\n",
      "\n",
      "See the caveats in the documentation: http://pandas.pydata.org/pandas-docs/stable/indexing.html#indexing-view-versus-copy\n",
      "  self._setitem_with_indexer(indexer, value)\n",
      "C:\\ProgramData\\Anaconda3\\lib\\site-packages\\pandas\\core\\indexing.py:190: SettingWithCopyWarning: \n",
      "A value is trying to be set on a copy of a slice from a DataFrame\n",
      "\n",
      "See the caveats in the documentation: http://pandas.pydata.org/pandas-docs/stable/indexing.html#indexing-view-versus-copy\n",
      "  self._setitem_with_indexer(indexer, value)\n"
     ]
    },
    {
     "name": "stdout",
     "output_type": "stream",
     "text": [
      "AJANTPHARM {'Date': datetime.datetime(2020, 7, 31, 0, 0)}\n",
      "COMPUSOFT {'Date': datetime.datetime(2020, 6, 17, 0, 0)}\n",
      "TVSMOTOR {'Date': datetime.datetime(2020, 7, 31, 0, 0)}\n"
     ]
    },
    {
     "name": "stderr",
     "output_type": "stream",
     "text": [
      "C:\\ProgramData\\Anaconda3\\lib\\site-packages\\pandas\\core\\indexing.py:190: SettingWithCopyWarning: \n",
      "A value is trying to be set on a copy of a slice from a DataFrame\n",
      "\n",
      "See the caveats in the documentation: http://pandas.pydata.org/pandas-docs/stable/indexing.html#indexing-view-versus-copy\n",
      "  self._setitem_with_indexer(indexer, value)\n",
      "C:\\ProgramData\\Anaconda3\\lib\\site-packages\\pandas\\core\\indexing.py:190: SettingWithCopyWarning: \n",
      "A value is trying to be set on a copy of a slice from a DataFrame\n",
      "\n",
      "See the caveats in the documentation: http://pandas.pydata.org/pandas-docs/stable/indexing.html#indexing-view-versus-copy\n",
      "  self._setitem_with_indexer(indexer, value)\n"
     ]
    },
    {
     "name": "stdout",
     "output_type": "stream",
     "text": [
      "GATI {'Date': datetime.datetime(2020, 7, 31, 0, 0)}\n",
      "TCI {'Date': datetime.datetime(2020, 7, 31, 0, 0)}\n"
     ]
    },
    {
     "name": "stderr",
     "output_type": "stream",
     "text": [
      "C:\\ProgramData\\Anaconda3\\lib\\site-packages\\pandas\\core\\indexing.py:190: SettingWithCopyWarning: \n",
      "A value is trying to be set on a copy of a slice from a DataFrame\n",
      "\n",
      "See the caveats in the documentation: http://pandas.pydata.org/pandas-docs/stable/indexing.html#indexing-view-versus-copy\n",
      "  self._setitem_with_indexer(indexer, value)\n",
      "C:\\ProgramData\\Anaconda3\\lib\\site-packages\\pandas\\core\\indexing.py:190: SettingWithCopyWarning: \n",
      "A value is trying to be set on a copy of a slice from a DataFrame\n",
      "\n",
      "See the caveats in the documentation: http://pandas.pydata.org/pandas-docs/stable/indexing.html#indexing-view-versus-copy\n",
      "  self._setitem_with_indexer(indexer, value)\n"
     ]
    },
    {
     "name": "stdout",
     "output_type": "stream",
     "text": [
      "SUBEX {'Date': datetime.datetime(2020, 6, 3, 0, 0)}\n",
      "AKSHOPTFBR {'Date': datetime.datetime(2020, 6, 17, 0, 0)}\n",
      "TRIVENI {'Date': datetime.datetime(2020, 7, 31, 0, 0)}\n",
      "MUKTAARTS {'Date': datetime.datetime(2020, 6, 17, 0, 0)}\n",
      "PNBGILTS {'Date': datetime.datetime(2020, 7, 31, 0, 0)}\n"
     ]
    },
    {
     "name": "stderr",
     "output_type": "stream",
     "text": [
      "C:\\ProgramData\\Anaconda3\\lib\\site-packages\\pandas\\core\\indexing.py:190: SettingWithCopyWarning: \n",
      "A value is trying to be set on a copy of a slice from a DataFrame\n",
      "\n",
      "See the caveats in the documentation: http://pandas.pydata.org/pandas-docs/stable/indexing.html#indexing-view-versus-copy\n",
      "  self._setitem_with_indexer(indexer, value)\n",
      "C:\\ProgramData\\Anaconda3\\lib\\site-packages\\pandas\\core\\indexing.py:190: SettingWithCopyWarning: \n",
      "A value is trying to be set on a copy of a slice from a DataFrame\n",
      "\n",
      "See the caveats in the documentation: http://pandas.pydata.org/pandas-docs/stable/indexing.html#indexing-view-versus-copy\n",
      "  self._setitem_with_indexer(indexer, value)\n"
     ]
    },
    {
     "name": "stdout",
     "output_type": "stream",
     "text": [
      "RAMCOIND {'Date': datetime.datetime(2020, 7, 31, 0, 0)}\n",
      "RAMCOSYS {'Date': datetime.datetime(2020, 7, 31, 0, 0)}\n"
     ]
    },
    {
     "name": "stderr",
     "output_type": "stream",
     "text": [
      "C:\\ProgramData\\Anaconda3\\lib\\site-packages\\pandas\\core\\indexing.py:190: SettingWithCopyWarning: \n",
      "A value is trying to be set on a copy of a slice from a DataFrame\n",
      "\n",
      "See the caveats in the documentation: http://pandas.pydata.org/pandas-docs/stable/indexing.html#indexing-view-versus-copy\n",
      "  self._setitem_with_indexer(indexer, value)\n",
      "C:\\ProgramData\\Anaconda3\\lib\\site-packages\\pandas\\core\\indexing.py:190: SettingWithCopyWarning: \n",
      "A value is trying to be set on a copy of a slice from a DataFrame\n",
      "\n",
      "See the caveats in the documentation: http://pandas.pydata.org/pandas-docs/stable/indexing.html#indexing-view-versus-copy\n",
      "  self._setitem_with_indexer(indexer, value)\n",
      "C:\\ProgramData\\Anaconda3\\lib\\site-packages\\pandas\\core\\indexing.py:190: SettingWithCopyWarning: \n",
      "A value is trying to be set on a copy of a slice from a DataFrame\n",
      "\n",
      "See the caveats in the documentation: http://pandas.pydata.org/pandas-docs/stable/indexing.html#indexing-view-versus-copy\n",
      "  self._setitem_with_indexer(indexer, value)\n"
     ]
    },
    {
     "name": "stdout",
     "output_type": "stream",
     "text": [
      "STRTECH {'Date': datetime.datetime(2020, 7, 31, 0, 0)}\n",
      "BALAJITELE {'Date': datetime.datetime(2020, 7, 31, 0, 0)}\n"
     ]
    },
    {
     "name": "stderr",
     "output_type": "stream",
     "text": [
      "C:\\ProgramData\\Anaconda3\\lib\\site-packages\\pandas\\core\\indexing.py:190: SettingWithCopyWarning: \n",
      "A value is trying to be set on a copy of a slice from a DataFrame\n",
      "\n",
      "See the caveats in the documentation: http://pandas.pydata.org/pandas-docs/stable/indexing.html#indexing-view-versus-copy\n",
      "  self._setitem_with_indexer(indexer, value)\n",
      "C:\\ProgramData\\Anaconda3\\lib\\site-packages\\pandas\\core\\indexing.py:190: SettingWithCopyWarning: \n",
      "A value is trying to be set on a copy of a slice from a DataFrame\n",
      "\n",
      "See the caveats in the documentation: http://pandas.pydata.org/pandas-docs/stable/indexing.html#indexing-view-versus-copy\n",
      "  self._setitem_with_indexer(indexer, value)\n",
      "C:\\ProgramData\\Anaconda3\\lib\\site-packages\\pandas\\core\\indexing.py:190: SettingWithCopyWarning: \n",
      "A value is trying to be set on a copy of a slice from a DataFrame\n",
      "\n",
      "See the caveats in the documentation: http://pandas.pydata.org/pandas-docs/stable/indexing.html#indexing-view-versus-copy\n",
      "  self._setitem_with_indexer(indexer, value)\n"
     ]
    },
    {
     "name": "stdout",
     "output_type": "stream",
     "text": [
      "IOB {'Date': datetime.datetime(2020, 7, 31, 0, 0)}\n",
      "TAJGVK {'Date': datetime.datetime(2020, 7, 31, 0, 0)}\n",
      "AXISCADES {'Date': datetime.datetime(2020, 7, 31, 0, 0)}\n"
     ]
    },
    {
     "name": "stderr",
     "output_type": "stream",
     "text": [
      "C:\\ProgramData\\Anaconda3\\lib\\site-packages\\pandas\\core\\indexing.py:190: SettingWithCopyWarning: \n",
      "A value is trying to be set on a copy of a slice from a DataFrame\n",
      "\n",
      "See the caveats in the documentation: http://pandas.pydata.org/pandas-docs/stable/indexing.html#indexing-view-versus-copy\n",
      "  self._setitem_with_indexer(indexer, value)\n",
      "C:\\ProgramData\\Anaconda3\\lib\\site-packages\\pandas\\core\\indexing.py:190: SettingWithCopyWarning: \n",
      "A value is trying to be set on a copy of a slice from a DataFrame\n",
      "\n",
      "See the caveats in the documentation: http://pandas.pydata.org/pandas-docs/stable/indexing.html#indexing-view-versus-copy\n",
      "  self._setitem_with_indexer(indexer, value)\n"
     ]
    },
    {
     "name": "stdout",
     "output_type": "stream",
     "text": [
      "ANDHRABANK {'Date': datetime.datetime(2020, 3, 19, 0, 0)}\n",
      "SMARTLINK {'Date': datetime.datetime(2020, 7, 31, 0, 0)}\n",
      "GODREJCP {'Date': datetime.datetime(2020, 7, 31, 0, 0)}\n"
     ]
    },
    {
     "name": "stderr",
     "output_type": "stream",
     "text": [
      "C:\\ProgramData\\Anaconda3\\lib\\site-packages\\pandas\\core\\indexing.py:190: SettingWithCopyWarning: \n",
      "A value is trying to be set on a copy of a slice from a DataFrame\n",
      "\n",
      "See the caveats in the documentation: http://pandas.pydata.org/pandas-docs/stable/indexing.html#indexing-view-versus-copy\n",
      "  self._setitem_with_indexer(indexer, value)\n",
      "C:\\ProgramData\\Anaconda3\\lib\\site-packages\\pandas\\core\\indexing.py:190: SettingWithCopyWarning: \n",
      "A value is trying to be set on a copy of a slice from a DataFrame\n",
      "\n",
      "See the caveats in the documentation: http://pandas.pydata.org/pandas-docs/stable/indexing.html#indexing-view-versus-copy\n",
      "  self._setitem_with_indexer(indexer, value)\n"
     ]
    },
    {
     "name": "stdout",
     "output_type": "stream",
     "text": [
      "BFUTILITIE {'Date': datetime.datetime(2020, 7, 31, 0, 0)}\n",
      "MPSLTD {'Date': datetime.datetime(2020, 7, 31, 0, 0)}\n"
     ]
    },
    {
     "name": "stderr",
     "output_type": "stream",
     "text": [
      "C:\\ProgramData\\Anaconda3\\lib\\site-packages\\pandas\\core\\indexing.py:190: SettingWithCopyWarning: \n",
      "A value is trying to be set on a copy of a slice from a DataFrame\n",
      "\n",
      "See the caveats in the documentation: http://pandas.pydata.org/pandas-docs/stable/indexing.html#indexing-view-versus-copy\n",
      "  self._setitem_with_indexer(indexer, value)\n",
      "C:\\ProgramData\\Anaconda3\\lib\\site-packages\\pandas\\core\\indexing.py:190: SettingWithCopyWarning: \n",
      "A value is trying to be set on a copy of a slice from a DataFrame\n",
      "\n",
      "See the caveats in the documentation: http://pandas.pydata.org/pandas-docs/stable/indexing.html#indexing-view-versus-copy\n",
      "  self._setitem_with_indexer(indexer, value)\n"
     ]
    },
    {
     "name": "stdout",
     "output_type": "stream",
     "text": [
      "CERA {'Date': datetime.datetime(2020, 7, 31, 0, 0)}\n",
      "BHARTIARTL {'Date': datetime.datetime(2020, 7, 31, 0, 0)}\n"
     ]
    },
    {
     "name": "stderr",
     "output_type": "stream",
     "text": [
      "C:\\ProgramData\\Anaconda3\\lib\\site-packages\\pandas\\core\\indexing.py:190: SettingWithCopyWarning: \n",
      "A value is trying to be set on a copy of a slice from a DataFrame\n",
      "\n",
      "See the caveats in the documentation: http://pandas.pydata.org/pandas-docs/stable/indexing.html#indexing-view-versus-copy\n",
      "  self._setitem_with_indexer(indexer, value)\n",
      "C:\\ProgramData\\Anaconda3\\lib\\site-packages\\pandas\\core\\indexing.py:190: SettingWithCopyWarning: \n",
      "A value is trying to be set on a copy of a slice from a DataFrame\n",
      "\n",
      "See the caveats in the documentation: http://pandas.pydata.org/pandas-docs/stable/indexing.html#indexing-view-versus-copy\n",
      "  self._setitem_with_indexer(indexer, value)\n"
     ]
    },
    {
     "name": "stdout",
     "output_type": "stream",
     "text": [
      "PONNIERODE {'Date': datetime.datetime(2020, 7, 31, 0, 0)}\n",
      "PNB {'Date': datetime.datetime(2020, 7, 31, 0, 0)}\n"
     ]
    },
    {
     "name": "stderr",
     "output_type": "stream",
     "text": [
      "C:\\ProgramData\\Anaconda3\\lib\\site-packages\\pandas\\core\\indexing.py:190: SettingWithCopyWarning: \n",
      "A value is trying to be set on a copy of a slice from a DataFrame\n",
      "\n",
      "See the caveats in the documentation: http://pandas.pydata.org/pandas-docs/stable/indexing.html#indexing-view-versus-copy\n",
      "  self._setitem_with_indexer(indexer, value)\n",
      "C:\\ProgramData\\Anaconda3\\lib\\site-packages\\pandas\\core\\indexing.py:190: SettingWithCopyWarning: \n",
      "A value is trying to be set on a copy of a slice from a DataFrame\n",
      "\n",
      "See the caveats in the documentation: http://pandas.pydata.org/pandas-docs/stable/indexing.html#indexing-view-versus-copy\n",
      "  self._setitem_with_indexer(indexer, value)\n"
     ]
    },
    {
     "name": "stdout",
     "output_type": "stream",
     "text": [
      "OFSS {'Date': datetime.datetime(2020, 7, 31, 0, 0)}\n",
      "APTECHT {'Date': datetime.datetime(2020, 7, 31, 0, 0)}\n"
     ]
    },
    {
     "name": "stderr",
     "output_type": "stream",
     "text": [
      "C:\\ProgramData\\Anaconda3\\lib\\site-packages\\pandas\\core\\indexing.py:190: SettingWithCopyWarning: \n",
      "A value is trying to be set on a copy of a slice from a DataFrame\n",
      "\n",
      "See the caveats in the documentation: http://pandas.pydata.org/pandas-docs/stable/indexing.html#indexing-view-versus-copy\n",
      "  self._setitem_with_indexer(indexer, value)\n",
      "C:\\ProgramData\\Anaconda3\\lib\\site-packages\\pandas\\core\\indexing.py:190: SettingWithCopyWarning: \n",
      "A value is trying to be set on a copy of a slice from a DataFrame\n",
      "\n",
      "See the caveats in the documentation: http://pandas.pydata.org/pandas-docs/stable/indexing.html#indexing-view-versus-copy\n",
      "  self._setitem_with_indexer(indexer, value)\n"
     ]
    },
    {
     "name": "stdout",
     "output_type": "stream",
     "text": [
      "UNIONBANK {'Date': datetime.datetime(2020, 7, 31, 0, 0)}\n",
      "ISMTLTD {'Date': datetime.datetime(2020, 6, 17, 0, 0)}\n",
      "GRANULES {'Date': datetime.datetime(2020, 7, 31, 0, 0)}\n"
     ]
    },
    {
     "name": "stderr",
     "output_type": "stream",
     "text": [
      "C:\\ProgramData\\Anaconda3\\lib\\site-packages\\pandas\\core\\indexing.py:190: SettingWithCopyWarning: \n",
      "A value is trying to be set on a copy of a slice from a DataFrame\n",
      "\n",
      "See the caveats in the documentation: http://pandas.pydata.org/pandas-docs/stable/indexing.html#indexing-view-versus-copy\n",
      "  self._setitem_with_indexer(indexer, value)\n",
      "C:\\ProgramData\\Anaconda3\\lib\\site-packages\\pandas\\core\\indexing.py:190: SettingWithCopyWarning: \n",
      "A value is trying to be set on a copy of a slice from a DataFrame\n",
      "\n",
      "See the caveats in the documentation: http://pandas.pydata.org/pandas-docs/stable/indexing.html#indexing-view-versus-copy\n",
      "  self._setitem_with_indexer(indexer, value)\n"
     ]
    },
    {
     "name": "stdout",
     "output_type": "stream",
     "text": [
      "CANBK {'Date': datetime.datetime(2020, 7, 31, 0, 0)}\n",
      "DIVISLAB {'Date': datetime.datetime(2020, 7, 31, 0, 0)}\n"
     ]
    },
    {
     "name": "stderr",
     "output_type": "stream",
     "text": [
      "C:\\ProgramData\\Anaconda3\\lib\\site-packages\\pandas\\core\\indexing.py:190: SettingWithCopyWarning: \n",
      "A value is trying to be set on a copy of a slice from a DataFrame\n",
      "\n",
      "See the caveats in the documentation: http://pandas.pydata.org/pandas-docs/stable/indexing.html#indexing-view-versus-copy\n",
      "  self._setitem_with_indexer(indexer, value)\n",
      "C:\\ProgramData\\Anaconda3\\lib\\site-packages\\pandas\\core\\indexing.py:190: SettingWithCopyWarning: \n",
      "A value is trying to be set on a copy of a slice from a DataFrame\n",
      "\n",
      "See the caveats in the documentation: http://pandas.pydata.org/pandas-docs/stable/indexing.html#indexing-view-versus-copy\n",
      "  self._setitem_with_indexer(indexer, value)\n"
     ]
    },
    {
     "name": "stdout",
     "output_type": "stream",
     "text": [
      "ALBK {'Date': datetime.datetime(2020, 3, 19, 0, 0)}\n",
      "UBL {'Date': datetime.datetime(2020, 7, 31, 0, 0)}\n",
      "ASTRAMICRO {'Date': datetime.datetime(2020, 7, 31, 0, 0)}\n"
     ]
    },
    {
     "name": "stderr",
     "output_type": "stream",
     "text": [
      "C:\\ProgramData\\Anaconda3\\lib\\site-packages\\pandas\\core\\indexing.py:190: SettingWithCopyWarning: \n",
      "A value is trying to be set on a copy of a slice from a DataFrame\n",
      "\n",
      "See the caveats in the documentation: http://pandas.pydata.org/pandas-docs/stable/indexing.html#indexing-view-versus-copy\n",
      "  self._setitem_with_indexer(indexer, value)\n",
      "C:\\ProgramData\\Anaconda3\\lib\\site-packages\\pandas\\core\\indexing.py:190: SettingWithCopyWarning: \n",
      "A value is trying to be set on a copy of a slice from a DataFrame\n",
      "\n",
      "See the caveats in the documentation: http://pandas.pydata.org/pandas-docs/stable/indexing.html#indexing-view-versus-copy\n",
      "  self._setitem_with_indexer(indexer, value)\n"
     ]
    },
    {
     "name": "stdout",
     "output_type": "stream",
     "text": [
      "RADICO {'Date': datetime.datetime(2020, 7, 31, 0, 0)}\n",
      "SHRIRAMCIT {'Date': datetime.datetime(2020, 7, 31, 0, 0)}\n"
     ]
    },
    {
     "name": "stderr",
     "output_type": "stream",
     "text": [
      "C:\\ProgramData\\Anaconda3\\lib\\site-packages\\pandas\\core\\indexing.py:190: SettingWithCopyWarning: \n",
      "A value is trying to be set on a copy of a slice from a DataFrame\n",
      "\n",
      "See the caveats in the documentation: http://pandas.pydata.org/pandas-docs/stable/indexing.html#indexing-view-versus-copy\n",
      "  self._setitem_with_indexer(indexer, value)\n",
      "C:\\ProgramData\\Anaconda3\\lib\\site-packages\\pandas\\core\\indexing.py:190: SettingWithCopyWarning: \n",
      "A value is trying to be set on a copy of a slice from a DataFrame\n",
      "\n",
      "See the caveats in the documentation: http://pandas.pydata.org/pandas-docs/stable/indexing.html#indexing-view-versus-copy\n",
      "  self._setitem_with_indexer(indexer, value)\n"
     ]
    },
    {
     "name": "stdout",
     "output_type": "stream",
     "text": [
      "MARUTI {'Date': datetime.datetime(2020, 7, 31, 0, 0)}\n",
      "UCOBANK {'Date': datetime.datetime(2020, 7, 31, 0, 0)}\n"
     ]
    },
    {
     "name": "stderr",
     "output_type": "stream",
     "text": [
      "C:\\ProgramData\\Anaconda3\\lib\\site-packages\\pandas\\core\\indexing.py:190: SettingWithCopyWarning: \n",
      "A value is trying to be set on a copy of a slice from a DataFrame\n",
      "\n",
      "See the caveats in the documentation: http://pandas.pydata.org/pandas-docs/stable/indexing.html#indexing-view-versus-copy\n",
      "  self._setitem_with_indexer(indexer, value)\n",
      "C:\\ProgramData\\Anaconda3\\lib\\site-packages\\pandas\\core\\indexing.py:190: SettingWithCopyWarning: \n",
      "A value is trying to be set on a copy of a slice from a DataFrame\n",
      "\n",
      "See the caveats in the documentation: http://pandas.pydata.org/pandas-docs/stable/indexing.html#indexing-view-versus-copy\n",
      "  self._setitem_with_indexer(indexer, value)\n",
      "C:\\ProgramData\\Anaconda3\\lib\\site-packages\\pandas\\core\\indexing.py:190: SettingWithCopyWarning: \n",
      "A value is trying to be set on a copy of a slice from a DataFrame\n",
      "\n",
      "See the caveats in the documentation: http://pandas.pydata.org/pandas-docs/stable/indexing.html#indexing-view-versus-copy\n",
      "  self._setitem_with_indexer(indexer, value)\n"
     ]
    },
    {
     "name": "stdout",
     "output_type": "stream",
     "text": [
      "BAGFILMS {'Date': datetime.datetime(2020, 6, 17, 0, 0)}\n",
      "SUPRAJIT {'Date': datetime.datetime(2020, 7, 31, 0, 0)}\n",
      "IGL {'Date': datetime.datetime(2020, 7, 31, 0, 0)}\n",
      "TVTODAY {'Date': datetime.datetime(2020, 7, 31, 0, 0)}\n",
      "PETRONET {'Date': datetime.datetime(2020, 7, 31, 0, 0)}\n"
     ]
    },
    {
     "name": "stderr",
     "output_type": "stream",
     "text": [
      "C:\\ProgramData\\Anaconda3\\lib\\site-packages\\pandas\\core\\indexing.py:190: SettingWithCopyWarning: \n",
      "A value is trying to be set on a copy of a slice from a DataFrame\n",
      "\n",
      "See the caveats in the documentation: http://pandas.pydata.org/pandas-docs/stable/indexing.html#indexing-view-versus-copy\n",
      "  self._setitem_with_indexer(indexer, value)\n",
      "C:\\ProgramData\\Anaconda3\\lib\\site-packages\\pandas\\core\\indexing.py:190: SettingWithCopyWarning: \n",
      "A value is trying to be set on a copy of a slice from a DataFrame\n",
      "\n",
      "See the caveats in the documentation: http://pandas.pydata.org/pandas-docs/stable/indexing.html#indexing-view-versus-copy\n",
      "  self._setitem_with_indexer(indexer, value)\n"
     ]
    },
    {
     "name": "stdout",
     "output_type": "stream",
     "text": [
      "BIOCON {'Date': datetime.datetime(2020, 7, 31, 0, 0)}\n",
      "PTC {'Date': datetime.datetime(2020, 7, 31, 0, 0)}\n"
     ]
    },
    {
     "name": "stderr",
     "output_type": "stream",
     "text": [
      "C:\\ProgramData\\Anaconda3\\lib\\site-packages\\pandas\\core\\indexing.py:190: SettingWithCopyWarning: \n",
      "A value is trying to be set on a copy of a slice from a DataFrame\n",
      "\n",
      "See the caveats in the documentation: http://pandas.pydata.org/pandas-docs/stable/indexing.html#indexing-view-versus-copy\n",
      "  self._setitem_with_indexer(indexer, value)\n",
      "C:\\ProgramData\\Anaconda3\\lib\\site-packages\\pandas\\core\\indexing.py:190: SettingWithCopyWarning: \n",
      "A value is trying to be set on a copy of a slice from a DataFrame\n",
      "\n",
      "See the caveats in the documentation: http://pandas.pydata.org/pandas-docs/stable/indexing.html#indexing-view-versus-copy\n",
      "  self._setitem_with_indexer(indexer, value)\n"
     ]
    },
    {
     "name": "stdout",
     "output_type": "stream",
     "text": [
      "MAHABANK {'Date': datetime.datetime(2020, 7, 31, 0, 0)}\n",
      "STAR {'Date': datetime.datetime(2020, 7, 31, 0, 0)}\n"
     ]
    },
    {
     "name": "stderr",
     "output_type": "stream",
     "text": [
      "C:\\ProgramData\\Anaconda3\\lib\\site-packages\\pandas\\core\\indexing.py:190: SettingWithCopyWarning: \n",
      "A value is trying to be set on a copy of a slice from a DataFrame\n",
      "\n",
      "See the caveats in the documentation: http://pandas.pydata.org/pandas-docs/stable/indexing.html#indexing-view-versus-copy\n",
      "  self._setitem_with_indexer(indexer, value)\n",
      "C:\\ProgramData\\Anaconda3\\lib\\site-packages\\pandas\\core\\indexing.py:190: SettingWithCopyWarning: \n",
      "A value is trying to be set on a copy of a slice from a DataFrame\n",
      "\n",
      "See the caveats in the documentation: http://pandas.pydata.org/pandas-docs/stable/indexing.html#indexing-view-versus-copy\n",
      "  self._setitem_with_indexer(indexer, value)\n"
     ]
    },
    {
     "name": "stdout",
     "output_type": "stream",
     "text": [
      "JPASSOCIAT {'Date': datetime.datetime(2020, 7, 31, 0, 0)}\n",
      "ULTRACEMCO {'Date': datetime.datetime(2020, 7, 31, 0, 0)}\n"
     ]
    },
    {
     "name": "stderr",
     "output_type": "stream",
     "text": [
      "C:\\ProgramData\\Anaconda3\\lib\\site-packages\\pandas\\core\\indexing.py:190: SettingWithCopyWarning: \n",
      "A value is trying to be set on a copy of a slice from a DataFrame\n",
      "\n",
      "See the caveats in the documentation: http://pandas.pydata.org/pandas-docs/stable/indexing.html#indexing-view-versus-copy\n",
      "  self._setitem_with_indexer(indexer, value)\n",
      "C:\\ProgramData\\Anaconda3\\lib\\site-packages\\pandas\\core\\indexing.py:190: SettingWithCopyWarning: \n",
      "A value is trying to be set on a copy of a slice from a DataFrame\n",
      "\n",
      "See the caveats in the documentation: http://pandas.pydata.org/pandas-docs/stable/indexing.html#indexing-view-versus-copy\n",
      "  self._setitem_with_indexer(indexer, value)\n"
     ]
    },
    {
     "name": "stdout",
     "output_type": "stream",
     "text": [
      "MINDAIND {'Date': datetime.datetime(2020, 7, 31, 0, 0)}\n",
      "TCS {'Date': datetime.datetime(2020, 7, 31, 0, 0)}\n"
     ]
    },
    {
     "name": "stderr",
     "output_type": "stream",
     "text": [
      "C:\\ProgramData\\Anaconda3\\lib\\site-packages\\pandas\\core\\indexing.py:190: SettingWithCopyWarning: \n",
      "A value is trying to be set on a copy of a slice from a DataFrame\n",
      "\n",
      "See the caveats in the documentation: http://pandas.pydata.org/pandas-docs/stable/indexing.html#indexing-view-versus-copy\n",
      "  self._setitem_with_indexer(indexer, value)\n",
      "C:\\ProgramData\\Anaconda3\\lib\\site-packages\\pandas\\core\\indexing.py:190: SettingWithCopyWarning: \n",
      "A value is trying to be set on a copy of a slice from a DataFrame\n",
      "\n",
      "See the caveats in the documentation: http://pandas.pydata.org/pandas-docs/stable/indexing.html#indexing-view-versus-copy\n",
      "  self._setitem_with_indexer(indexer, value)\n"
     ]
    },
    {
     "name": "stdout",
     "output_type": "stream",
     "text": [
      "NIITTECH {'Date': datetime.datetime(2020, 7, 31, 0, 0)}\n",
      "DATAMATICS {'Date': datetime.datetime(2020, 7, 31, 0, 0)}\n"
     ]
    },
    {
     "name": "stderr",
     "output_type": "stream",
     "text": [
      "C:\\ProgramData\\Anaconda3\\lib\\site-packages\\pandas\\core\\indexing.py:190: SettingWithCopyWarning: \n",
      "A value is trying to be set on a copy of a slice from a DataFrame\n",
      "\n",
      "See the caveats in the documentation: http://pandas.pydata.org/pandas-docs/stable/indexing.html#indexing-view-versus-copy\n",
      "  self._setitem_with_indexer(indexer, value)\n",
      "C:\\ProgramData\\Anaconda3\\lib\\site-packages\\pandas\\core\\indexing.py:190: SettingWithCopyWarning: \n",
      "A value is trying to be set on a copy of a slice from a DataFrame\n",
      "\n",
      "See the caveats in the documentation: http://pandas.pydata.org/pandas-docs/stable/indexing.html#indexing-view-versus-copy\n",
      "  self._setitem_with_indexer(indexer, value)\n"
     ]
    },
    {
     "name": "stdout",
     "output_type": "stream",
     "text": [
      "RKFORGE {'Date': datetime.datetime(2020, 7, 31, 0, 0)}\n",
      "CENTURYPLY {'Date': datetime.datetime(2020, 7, 31, 0, 0)}\n"
     ]
    },
    {
     "name": "stderr",
     "output_type": "stream",
     "text": [
      "C:\\ProgramData\\Anaconda3\\lib\\site-packages\\pandas\\core\\indexing.py:190: SettingWithCopyWarning: \n",
      "A value is trying to be set on a copy of a slice from a DataFrame\n",
      "\n",
      "See the caveats in the documentation: http://pandas.pydata.org/pandas-docs/stable/indexing.html#indexing-view-versus-copy\n",
      "  self._setitem_with_indexer(indexer, value)\n",
      "C:\\ProgramData\\Anaconda3\\lib\\site-packages\\pandas\\core\\indexing.py:190: SettingWithCopyWarning: \n",
      "A value is trying to be set on a copy of a slice from a DataFrame\n",
      "\n",
      "See the caveats in the documentation: http://pandas.pydata.org/pandas-docs/stable/indexing.html#indexing-view-versus-copy\n",
      "  self._setitem_with_indexer(indexer, value)\n"
     ]
    },
    {
     "name": "stdout",
     "output_type": "stream",
     "text": [
      "NTPC {'Date': datetime.datetime(2020, 7, 31, 0, 0)}\n",
      "JBMA {'Date': datetime.datetime(2020, 7, 31, 0, 0)}\n"
     ]
    },
    {
     "name": "stderr",
     "output_type": "stream",
     "text": [
      "C:\\ProgramData\\Anaconda3\\lib\\site-packages\\pandas\\core\\indexing.py:190: SettingWithCopyWarning: \n",
      "A value is trying to be set on a copy of a slice from a DataFrame\n",
      "\n",
      "See the caveats in the documentation: http://pandas.pydata.org/pandas-docs/stable/indexing.html#indexing-view-versus-copy\n",
      "  self._setitem_with_indexer(indexer, value)\n",
      "C:\\ProgramData\\Anaconda3\\lib\\site-packages\\pandas\\core\\indexing.py:190: SettingWithCopyWarning: \n",
      "A value is trying to be set on a copy of a slice from a DataFrame\n",
      "\n",
      "See the caveats in the documentation: http://pandas.pydata.org/pandas-docs/stable/indexing.html#indexing-view-versus-copy\n",
      "  self._setitem_with_indexer(indexer, value)\n"
     ]
    },
    {
     "name": "stdout",
     "output_type": "stream",
     "text": [
      "DWARKESH {'Date': datetime.datetime(2020, 7, 31, 0, 0)}\n",
      "INDOCO {'Date': datetime.datetime(2020, 7, 31, 0, 0)}\n"
     ]
    },
    {
     "name": "stderr",
     "output_type": "stream",
     "text": [
      "C:\\ProgramData\\Anaconda3\\lib\\site-packages\\pandas\\core\\indexing.py:190: SettingWithCopyWarning: \n",
      "A value is trying to be set on a copy of a slice from a DataFrame\n",
      "\n",
      "See the caveats in the documentation: http://pandas.pydata.org/pandas-docs/stable/indexing.html#indexing-view-versus-copy\n",
      "  self._setitem_with_indexer(indexer, value)\n",
      "C:\\ProgramData\\Anaconda3\\lib\\site-packages\\pandas\\core\\indexing.py:190: SettingWithCopyWarning: \n",
      "A value is trying to be set on a copy of a slice from a DataFrame\n",
      "\n",
      "See the caveats in the documentation: http://pandas.pydata.org/pandas-docs/stable/indexing.html#indexing-view-versus-copy\n",
      "  self._setitem_with_indexer(indexer, value)\n"
     ]
    },
    {
     "name": "stdout",
     "output_type": "stream",
     "text": [
      "XCHANGING {'Date': datetime.datetime(2020, 7, 31, 0, 0)}\n",
      "MORARJEE {'Date': datetime.datetime(2020, 7, 31, 0, 0)}\n"
     ]
    },
    {
     "name": "stderr",
     "output_type": "stream",
     "text": [
      "C:\\ProgramData\\Anaconda3\\lib\\site-packages\\pandas\\core\\indexing.py:190: SettingWithCopyWarning: \n",
      "A value is trying to be set on a copy of a slice from a DataFrame\n",
      "\n",
      "See the caveats in the documentation: http://pandas.pydata.org/pandas-docs/stable/indexing.html#indexing-view-versus-copy\n",
      "  self._setitem_with_indexer(indexer, value)\n",
      "C:\\ProgramData\\Anaconda3\\lib\\site-packages\\pandas\\core\\indexing.py:190: SettingWithCopyWarning: \n",
      "A value is trying to be set on a copy of a slice from a DataFrame\n",
      "\n",
      "See the caveats in the documentation: http://pandas.pydata.org/pandas-docs/stable/indexing.html#indexing-view-versus-copy\n",
      "  self._setitem_with_indexer(indexer, value)\n"
     ]
    },
    {
     "name": "stdout",
     "output_type": "stream",
     "text": [
      "GDL {'Date': datetime.datetime(2020, 7, 24, 0, 0)}\n",
      "JPPOWER {'Date': datetime.datetime(2020, 7, 31, 0, 0)}\n",
      "GOKEX {'Date': datetime.datetime(2020, 7, 31, 0, 0)}\n"
     ]
    },
    {
     "name": "stderr",
     "output_type": "stream",
     "text": [
      "C:\\ProgramData\\Anaconda3\\lib\\site-packages\\pandas\\core\\indexing.py:190: SettingWithCopyWarning: \n",
      "A value is trying to be set on a copy of a slice from a DataFrame\n",
      "\n",
      "See the caveats in the documentation: http://pandas.pydata.org/pandas-docs/stable/indexing.html#indexing-view-versus-copy\n",
      "  self._setitem_with_indexer(indexer, value)\n",
      "C:\\ProgramData\\Anaconda3\\lib\\site-packages\\pandas\\core\\indexing.py:190: SettingWithCopyWarning: \n",
      "A value is trying to be set on a copy of a slice from a DataFrame\n",
      "\n",
      "See the caveats in the documentation: http://pandas.pydata.org/pandas-docs/stable/indexing.html#indexing-view-versus-copy\n",
      "  self._setitem_with_indexer(indexer, value)\n"
     ]
    },
    {
     "name": "stdout",
     "output_type": "stream",
     "text": [
      "ALLSEC {'Date': datetime.datetime(2020, 7, 31, 0, 0)}\n",
      "IIFL {'Date': datetime.datetime(2020, 7, 31, 0, 0)}\n"
     ]
    },
    {
     "name": "stderr",
     "output_type": "stream",
     "text": [
      "C:\\ProgramData\\Anaconda3\\lib\\site-packages\\pandas\\core\\indexing.py:190: SettingWithCopyWarning: \n",
      "A value is trying to be set on a copy of a slice from a DataFrame\n",
      "\n",
      "See the caveats in the documentation: http://pandas.pydata.org/pandas-docs/stable/indexing.html#indexing-view-versus-copy\n",
      "  self._setitem_with_indexer(indexer, value)\n",
      "C:\\ProgramData\\Anaconda3\\lib\\site-packages\\pandas\\core\\indexing.py:190: SettingWithCopyWarning: \n",
      "A value is trying to be set on a copy of a slice from a DataFrame\n",
      "\n",
      "See the caveats in the documentation: http://pandas.pydata.org/pandas-docs/stable/indexing.html#indexing-view-versus-copy\n",
      "  self._setitem_with_indexer(indexer, value)\n"
     ]
    },
    {
     "name": "stdout",
     "output_type": "stream",
     "text": [
      "SHOPERSTOP {'Date': datetime.datetime(2020, 7, 31, 0, 0)}\n",
      "NDL {'Date': datetime.datetime(2020, 7, 31, 0, 0)}\n"
     ]
    },
    {
     "name": "stderr",
     "output_type": "stream",
     "text": [
      "C:\\ProgramData\\Anaconda3\\lib\\site-packages\\pandas\\core\\indexing.py:190: SettingWithCopyWarning: \n",
      "A value is trying to be set on a copy of a slice from a DataFrame\n",
      "\n",
      "See the caveats in the documentation: http://pandas.pydata.org/pandas-docs/stable/indexing.html#indexing-view-versus-copy\n",
      "  self._setitem_with_indexer(indexer, value)\n",
      "C:\\ProgramData\\Anaconda3\\lib\\site-packages\\pandas\\core\\indexing.py:190: SettingWithCopyWarning: \n",
      "A value is trying to be set on a copy of a slice from a DataFrame\n",
      "\n",
      "See the caveats in the documentation: http://pandas.pydata.org/pandas-docs/stable/indexing.html#indexing-view-versus-copy\n",
      "  self._setitem_with_indexer(indexer, value)\n"
     ]
    },
    {
     "name": "stdout",
     "output_type": "stream",
     "text": [
      "JSWHL {'Date': datetime.datetime(2020, 7, 31, 0, 0)}\n",
      "JKCEMENT {'Date': datetime.datetime(2020, 7, 31, 0, 0)}\n"
     ]
    },
    {
     "name": "stderr",
     "output_type": "stream",
     "text": [
      "C:\\ProgramData\\Anaconda3\\lib\\site-packages\\pandas\\core\\indexing.py:190: SettingWithCopyWarning: \n",
      "A value is trying to be set on a copy of a slice from a DataFrame\n",
      "\n",
      "See the caveats in the documentation: http://pandas.pydata.org/pandas-docs/stable/indexing.html#indexing-view-versus-copy\n",
      "  self._setitem_with_indexer(indexer, value)\n",
      "C:\\ProgramData\\Anaconda3\\lib\\site-packages\\pandas\\core\\indexing.py:190: SettingWithCopyWarning: \n",
      "A value is trying to be set on a copy of a slice from a DataFrame\n",
      "\n",
      "See the caveats in the documentation: http://pandas.pydata.org/pandas-docs/stable/indexing.html#indexing-view-versus-copy\n",
      "  self._setitem_with_indexer(indexer, value)\n"
     ]
    },
    {
     "name": "stdout",
     "output_type": "stream",
     "text": [
      "YESBANK {'Date': datetime.datetime(2020, 7, 31, 0, 0)}\n",
      "NECLIFE {'Date': datetime.datetime(2020, 7, 31, 0, 0)}\n"
     ]
    },
    {
     "name": "stderr",
     "output_type": "stream",
     "text": [
      "C:\\ProgramData\\Anaconda3\\lib\\site-packages\\pandas\\core\\indexing.py:190: SettingWithCopyWarning: \n",
      "A value is trying to be set on a copy of a slice from a DataFrame\n",
      "\n",
      "See the caveats in the documentation: http://pandas.pydata.org/pandas-docs/stable/indexing.html#indexing-view-versus-copy\n",
      "  self._setitem_with_indexer(indexer, value)\n",
      "C:\\ProgramData\\Anaconda3\\lib\\site-packages\\pandas\\core\\indexing.py:190: SettingWithCopyWarning: \n",
      "A value is trying to be set on a copy of a slice from a DataFrame\n",
      "\n",
      "See the caveats in the documentation: http://pandas.pydata.org/pandas-docs/stable/indexing.html#indexing-view-versus-copy\n",
      "  self._setitem_with_indexer(indexer, value)\n"
     ]
    },
    {
     "name": "stdout",
     "output_type": "stream",
     "text": [
      "SPLIL {'Date': datetime.datetime(2020, 7, 31, 0, 0)}\n",
      "KTKBANK {'Date': datetime.datetime(2020, 7, 31, 0, 0)}\n"
     ]
    },
    {
     "name": "stderr",
     "output_type": "stream",
     "text": [
      "C:\\ProgramData\\Anaconda3\\lib\\site-packages\\pandas\\core\\indexing.py:190: SettingWithCopyWarning: \n",
      "A value is trying to be set on a copy of a slice from a DataFrame\n",
      "\n",
      "See the caveats in the documentation: http://pandas.pydata.org/pandas-docs/stable/indexing.html#indexing-view-versus-copy\n",
      "  self._setitem_with_indexer(indexer, value)\n",
      "C:\\ProgramData\\Anaconda3\\lib\\site-packages\\pandas\\core\\indexing.py:190: SettingWithCopyWarning: \n",
      "A value is trying to be set on a copy of a slice from a DataFrame\n",
      "\n",
      "See the caveats in the documentation: http://pandas.pydata.org/pandas-docs/stable/indexing.html#indexing-view-versus-copy\n",
      "  self._setitem_with_indexer(indexer, value)\n"
     ]
    },
    {
     "name": "stdout",
     "output_type": "stream",
     "text": [
      "MCLEODRUSS {'Date': datetime.datetime(2020, 4, 22, 0, 0)}\n",
      "IDFC {'Date': datetime.datetime(2020, 7, 31, 0, 0)}\n",
      "VIVIMEDLAB {'Date': datetime.datetime(2020, 6, 17, 0, 0)}\n",
      "RML {'Date': datetime.datetime(2020, 7, 31, 0, 0)}\n"
     ]
    },
    {
     "name": "stderr",
     "output_type": "stream",
     "text": [
      "C:\\ProgramData\\Anaconda3\\lib\\site-packages\\pandas\\core\\indexing.py:190: SettingWithCopyWarning: \n",
      "A value is trying to be set on a copy of a slice from a DataFrame\n",
      "\n",
      "See the caveats in the documentation: http://pandas.pydata.org/pandas-docs/stable/indexing.html#indexing-view-versus-copy\n",
      "  self._setitem_with_indexer(indexer, value)\n",
      "C:\\ProgramData\\Anaconda3\\lib\\site-packages\\pandas\\core\\indexing.py:190: SettingWithCopyWarning: \n",
      "A value is trying to be set on a copy of a slice from a DataFrame\n",
      "\n",
      "See the caveats in the documentation: http://pandas.pydata.org/pandas-docs/stable/indexing.html#indexing-view-versus-copy\n",
      "  self._setitem_with_indexer(indexer, value)\n"
     ]
    },
    {
     "name": "stdout",
     "output_type": "stream",
     "text": [
      "HTMEDIA {'Date': datetime.datetime(2020, 7, 31, 0, 0)}\n",
      "SASKEN {'Date': datetime.datetime(2020, 7, 31, 0, 0)}\n"
     ]
    },
    {
     "name": "stderr",
     "output_type": "stream",
     "text": [
      "C:\\ProgramData\\Anaconda3\\lib\\site-packages\\pandas\\core\\indexing.py:190: SettingWithCopyWarning: \n",
      "A value is trying to be set on a copy of a slice from a DataFrame\n",
      "\n",
      "See the caveats in the documentation: http://pandas.pydata.org/pandas-docs/stable/indexing.html#indexing-view-versus-copy\n",
      "  self._setitem_with_indexer(indexer, value)\n",
      "C:\\ProgramData\\Anaconda3\\lib\\site-packages\\pandas\\core\\indexing.py:190: SettingWithCopyWarning: \n",
      "A value is trying to be set on a copy of a slice from a DataFrame\n",
      "\n",
      "See the caveats in the documentation: http://pandas.pydata.org/pandas-docs/stable/indexing.html#indexing-view-versus-copy\n",
      "  self._setitem_with_indexer(indexer, value)\n"
     ]
    },
    {
     "name": "stdout",
     "output_type": "stream",
     "text": [
      "SUZLON {'Date': datetime.datetime(2020, 7, 31, 0, 0)}\n",
      "AURIONPRO {'Date': datetime.datetime(2020, 7, 31, 0, 0)}\n"
     ]
    },
    {
     "name": "stderr",
     "output_type": "stream",
     "text": [
      "C:\\ProgramData\\Anaconda3\\lib\\site-packages\\pandas\\core\\indexing.py:190: SettingWithCopyWarning: \n",
      "A value is trying to be set on a copy of a slice from a DataFrame\n",
      "\n",
      "See the caveats in the documentation: http://pandas.pydata.org/pandas-docs/stable/indexing.html#indexing-view-versus-copy\n",
      "  self._setitem_with_indexer(indexer, value)\n",
      "C:\\ProgramData\\Anaconda3\\lib\\site-packages\\pandas\\core\\indexing.py:190: SettingWithCopyWarning: \n",
      "A value is trying to be set on a copy of a slice from a DataFrame\n",
      "\n",
      "See the caveats in the documentation: http://pandas.pydata.org/pandas-docs/stable/indexing.html#indexing-view-versus-copy\n",
      "  self._setitem_with_indexer(indexer, value)\n"
     ]
    },
    {
     "name": "stdout",
     "output_type": "stream",
     "text": [
      "RENUKA {'Date': datetime.datetime(2020, 7, 31, 0, 0)}\n",
      "KMSUGAR {'Date': datetime.datetime(2020, 7, 31, 0, 0)}\n"
     ]
    },
    {
     "name": "stderr",
     "output_type": "stream",
     "text": [
      "C:\\ProgramData\\Anaconda3\\lib\\site-packages\\pandas\\core\\indexing.py:190: SettingWithCopyWarning: \n",
      "A value is trying to be set on a copy of a slice from a DataFrame\n",
      "\n",
      "See the caveats in the documentation: http://pandas.pydata.org/pandas-docs/stable/indexing.html#indexing-view-versus-copy\n",
      "  self._setitem_with_indexer(indexer, value)\n",
      "C:\\ProgramData\\Anaconda3\\lib\\site-packages\\pandas\\core\\indexing.py:190: SettingWithCopyWarning: \n",
      "A value is trying to be set on a copy of a slice from a DataFrame\n",
      "\n",
      "See the caveats in the documentation: http://pandas.pydata.org/pandas-docs/stable/indexing.html#indexing-view-versus-copy\n",
      "  self._setitem_with_indexer(indexer, value)\n"
     ]
    },
    {
     "name": "stdout",
     "output_type": "stream",
     "text": [
      "BASML {'Date': datetime.datetime(2020, 7, 31, 0, 0)}\n",
      "AIAENG {'Date': datetime.datetime(2020, 7, 31, 0, 0)}\n"
     ]
    },
    {
     "name": "stderr",
     "output_type": "stream",
     "text": [
      "C:\\ProgramData\\Anaconda3\\lib\\site-packages\\pandas\\core\\indexing.py:190: SettingWithCopyWarning: \n",
      "A value is trying to be set on a copy of a slice from a DataFrame\n",
      "\n",
      "See the caveats in the documentation: http://pandas.pydata.org/pandas-docs/stable/indexing.html#indexing-view-versus-copy\n",
      "  self._setitem_with_indexer(indexer, value)\n",
      "C:\\ProgramData\\Anaconda3\\lib\\site-packages\\pandas\\core\\indexing.py:190: SettingWithCopyWarning: \n",
      "A value is trying to be set on a copy of a slice from a DataFrame\n",
      "\n",
      "See the caveats in the documentation: http://pandas.pydata.org/pandas-docs/stable/indexing.html#indexing-view-versus-copy\n",
      "  self._setitem_with_indexer(indexer, value)\n"
     ]
    },
    {
     "name": "stdout",
     "output_type": "stream",
     "text": [
      "EKC {'Date': datetime.datetime(2020, 7, 31, 0, 0)}\n",
      "REPRO {'Date': datetime.datetime(2020, 7, 31, 0, 0)}\n"
     ]
    },
    {
     "name": "stderr",
     "output_type": "stream",
     "text": [
      "C:\\ProgramData\\Anaconda3\\lib\\site-packages\\pandas\\core\\indexing.py:190: SettingWithCopyWarning: \n",
      "A value is trying to be set on a copy of a slice from a DataFrame\n",
      "\n",
      "See the caveats in the documentation: http://pandas.pydata.org/pandas-docs/stable/indexing.html#indexing-view-versus-copy\n",
      "  self._setitem_with_indexer(indexer, value)\n",
      "C:\\ProgramData\\Anaconda3\\lib\\site-packages\\pandas\\core\\indexing.py:190: SettingWithCopyWarning: \n",
      "A value is trying to be set on a copy of a slice from a DataFrame\n",
      "\n",
      "See the caveats in the documentation: http://pandas.pydata.org/pandas-docs/stable/indexing.html#indexing-view-versus-copy\n",
      "  self._setitem_with_indexer(indexer, value)\n"
     ]
    },
    {
     "name": "stdout",
     "output_type": "stream",
     "text": [
      "CELEBRITY {'Date': datetime.datetime(2020, 7, 31, 0, 0)}\n",
      "NITINSPIN {'Date': datetime.datetime(2020, 7, 31, 0, 0)}\n"
     ]
    },
    {
     "name": "stderr",
     "output_type": "stream",
     "text": [
      "C:\\ProgramData\\Anaconda3\\lib\\site-packages\\pandas\\core\\indexing.py:190: SettingWithCopyWarning: \n",
      "A value is trying to be set on a copy of a slice from a DataFrame\n",
      "\n",
      "See the caveats in the documentation: http://pandas.pydata.org/pandas-docs/stable/indexing.html#indexing-view-versus-copy\n",
      "  self._setitem_with_indexer(indexer, value)\n",
      "C:\\ProgramData\\Anaconda3\\lib\\site-packages\\pandas\\core\\indexing.py:190: SettingWithCopyWarning: \n",
      "A value is trying to be set on a copy of a slice from a DataFrame\n",
      "\n",
      "See the caveats in the documentation: http://pandas.pydata.org/pandas-docs/stable/indexing.html#indexing-view-versus-copy\n",
      "  self._setitem_with_indexer(indexer, value)\n"
     ]
    },
    {
     "name": "stdout",
     "output_type": "stream",
     "text": [
      "ROHLTD {'Date': datetime.datetime(2020, 7, 31, 0, 0)}\n",
      "ENIL {'Date': datetime.datetime(2020, 7, 31, 0, 0)}\n"
     ]
    },
    {
     "name": "stderr",
     "output_type": "stream",
     "text": [
      "C:\\ProgramData\\Anaconda3\\lib\\site-packages\\pandas\\core\\indexing.py:190: SettingWithCopyWarning: \n",
      "A value is trying to be set on a copy of a slice from a DataFrame\n",
      "\n",
      "See the caveats in the documentation: http://pandas.pydata.org/pandas-docs/stable/indexing.html#indexing-view-versus-copy\n",
      "  self._setitem_with_indexer(indexer, value)\n",
      "C:\\ProgramData\\Anaconda3\\lib\\site-packages\\pandas\\core\\indexing.py:190: SettingWithCopyWarning: \n",
      "A value is trying to be set on a copy of a slice from a DataFrame\n",
      "\n",
      "See the caveats in the documentation: http://pandas.pydata.org/pandas-docs/stable/indexing.html#indexing-view-versus-copy\n",
      "  self._setitem_with_indexer(indexer, value)\n"
     ]
    },
    {
     "name": "stdout",
     "output_type": "stream",
     "text": [
      "GSPL {'Date': datetime.datetime(2020, 7, 31, 0, 0)}\n",
      "JAGRAN {'Date': datetime.datetime(2020, 7, 31, 0, 0)}\n"
     ]
    },
    {
     "name": "stderr",
     "output_type": "stream",
     "text": [
      "C:\\ProgramData\\Anaconda3\\lib\\site-packages\\pandas\\core\\indexing.py:190: SettingWithCopyWarning: \n",
      "A value is trying to be set on a copy of a slice from a DataFrame\n",
      "\n",
      "See the caveats in the documentation: http://pandas.pydata.org/pandas-docs/stable/indexing.html#indexing-view-versus-copy\n",
      "  self._setitem_with_indexer(indexer, value)\n",
      "C:\\ProgramData\\Anaconda3\\lib\\site-packages\\pandas\\core\\indexing.py:190: SettingWithCopyWarning: \n",
      "A value is trying to be set on a copy of a slice from a DataFrame\n",
      "\n",
      "See the caveats in the documentation: http://pandas.pydata.org/pandas-docs/stable/indexing.html#indexing-view-versus-copy\n",
      "  self._setitem_with_indexer(indexer, value)\n"
     ]
    },
    {
     "name": "stdout",
     "output_type": "stream",
     "text": [
      "SADBHAV {'Date': datetime.datetime(2020, 7, 31, 0, 0)}\n",
      "RCOM {'Date': datetime.datetime(2020, 5, 6, 0, 0)}\n",
      "KEC {'Date': datetime.datetime(2020, 7, 31, 0, 0)}\n"
     ]
    },
    {
     "name": "stderr",
     "output_type": "stream",
     "text": [
      "C:\\ProgramData\\Anaconda3\\lib\\site-packages\\pandas\\core\\indexing.py:190: SettingWithCopyWarning: \n",
      "A value is trying to be set on a copy of a slice from a DataFrame\n",
      "\n",
      "See the caveats in the documentation: http://pandas.pydata.org/pandas-docs/stable/indexing.html#indexing-view-versus-copy\n",
      "  self._setitem_with_indexer(indexer, value)\n",
      "C:\\ProgramData\\Anaconda3\\lib\\site-packages\\pandas\\core\\indexing.py:190: SettingWithCopyWarning: \n",
      "A value is trying to be set on a copy of a slice from a DataFrame\n",
      "\n",
      "See the caveats in the documentation: http://pandas.pydata.org/pandas-docs/stable/indexing.html#indexing-view-versus-copy\n",
      "  self._setitem_with_indexer(indexer, value)\n"
     ]
    },
    {
     "name": "stdout",
     "output_type": "stream",
     "text": [
      "SAKUMA {'Date': datetime.datetime(2020, 5, 26, 0, 0)}\n",
      "GILLANDERS {'Date': datetime.datetime(2020, 6, 17, 0, 0)}\n",
      "INDOTECH {'Date': datetime.datetime(2020, 7, 31, 0, 0)}\n",
      "BLKASHYAP {'Date': datetime.datetime(2020, 7, 31, 0, 0)}\n"
     ]
    },
    {
     "name": "stderr",
     "output_type": "stream",
     "text": [
      "C:\\ProgramData\\Anaconda3\\lib\\site-packages\\pandas\\core\\indexing.py:190: SettingWithCopyWarning: \n",
      "A value is trying to be set on a copy of a slice from a DataFrame\n",
      "\n",
      "See the caveats in the documentation: http://pandas.pydata.org/pandas-docs/stable/indexing.html#indexing-view-versus-copy\n",
      "  self._setitem_with_indexer(indexer, value)\n",
      "C:\\ProgramData\\Anaconda3\\lib\\site-packages\\pandas\\core\\indexing.py:190: SettingWithCopyWarning: \n",
      "A value is trying to be set on a copy of a slice from a DataFrame\n",
      "\n",
      "See the caveats in the documentation: http://pandas.pydata.org/pandas-docs/stable/indexing.html#indexing-view-versus-copy\n",
      "  self._setitem_with_indexer(indexer, value)\n"
     ]
    },
    {
     "name": "stdout",
     "output_type": "stream",
     "text": [
      "M&MFIN {'Date': datetime.datetime(2020, 7, 24, 0, 0)}\n",
      "NITCO {'Date': datetime.datetime(2020, 7, 31, 0, 0)}\n",
      "SOLARINDS {'Date': datetime.datetime(2020, 7, 31, 0, 0)}\n"
     ]
    },
    {
     "name": "stderr",
     "output_type": "stream",
     "text": [
      "C:\\ProgramData\\Anaconda3\\lib\\site-packages\\pandas\\core\\indexing.py:190: SettingWithCopyWarning: \n",
      "A value is trying to be set on a copy of a slice from a DataFrame\n",
      "\n",
      "See the caveats in the documentation: http://pandas.pydata.org/pandas-docs/stable/indexing.html#indexing-view-versus-copy\n",
      "  self._setitem_with_indexer(indexer, value)\n",
      "C:\\ProgramData\\Anaconda3\\lib\\site-packages\\pandas\\core\\indexing.py:190: SettingWithCopyWarning: \n",
      "A value is trying to be set on a copy of a slice from a DataFrame\n",
      "\n",
      "See the caveats in the documentation: http://pandas.pydata.org/pandas-docs/stable/indexing.html#indexing-view-versus-copy\n",
      "  self._setitem_with_indexer(indexer, value)\n"
     ]
    },
    {
     "name": "stdout",
     "output_type": "stream",
     "text": [
      "UTTAMSUGAR {'Date': datetime.datetime(2020, 7, 31, 0, 0)}\n",
      "SUNTV {'Date': datetime.datetime(2020, 7, 31, 0, 0)}\n"
     ]
    },
    {
     "name": "stderr",
     "output_type": "stream",
     "text": [
      "C:\\ProgramData\\Anaconda3\\lib\\site-packages\\pandas\\core\\indexing.py:190: SettingWithCopyWarning: \n",
      "A value is trying to be set on a copy of a slice from a DataFrame\n",
      "\n",
      "See the caveats in the documentation: http://pandas.pydata.org/pandas-docs/stable/indexing.html#indexing-view-versus-copy\n",
      "  self._setitem_with_indexer(indexer, value)\n",
      "C:\\ProgramData\\Anaconda3\\lib\\site-packages\\pandas\\core\\indexing.py:190: SettingWithCopyWarning: \n",
      "A value is trying to be set on a copy of a slice from a DataFrame\n",
      "\n",
      "See the caveats in the documentation: http://pandas.pydata.org/pandas-docs/stable/indexing.html#indexing-view-versus-copy\n",
      "  self._setitem_with_indexer(indexer, value)\n"
     ]
    },
    {
     "name": "stdout",
     "output_type": "stream",
     "text": [
      "GPIL {'Date': datetime.datetime(2020, 7, 31, 0, 0)}\n",
      "EMKAY {'Date': datetime.datetime(2020, 7, 31, 0, 0)}\n"
     ]
    },
    {
     "name": "stderr",
     "output_type": "stream",
     "text": [
      "C:\\ProgramData\\Anaconda3\\lib\\site-packages\\pandas\\core\\indexing.py:190: SettingWithCopyWarning: \n",
      "A value is trying to be set on a copy of a slice from a DataFrame\n",
      "\n",
      "See the caveats in the documentation: http://pandas.pydata.org/pandas-docs/stable/indexing.html#indexing-view-versus-copy\n",
      "  self._setitem_with_indexer(indexer, value)\n",
      "C:\\ProgramData\\Anaconda3\\lib\\site-packages\\pandas\\core\\indexing.py:190: SettingWithCopyWarning: \n",
      "A value is trying to be set on a copy of a slice from a DataFrame\n",
      "\n",
      "See the caveats in the documentation: http://pandas.pydata.org/pandas-docs/stable/indexing.html#indexing-view-versus-copy\n",
      "  self._setitem_with_indexer(indexer, value)\n"
     ]
    },
    {
     "name": "stdout",
     "output_type": "stream",
     "text": [
      "LOKESHMACH {'Date': datetime.datetime(2020, 7, 31, 0, 0)}\n",
      "PFOCUS {'Date': datetime.datetime(2020, 7, 31, 0, 0)}\n"
     ]
    },
    {
     "name": "stderr",
     "output_type": "stream",
     "text": [
      "C:\\ProgramData\\Anaconda3\\lib\\site-packages\\pandas\\core\\indexing.py:190: SettingWithCopyWarning: \n",
      "A value is trying to be set on a copy of a slice from a DataFrame\n",
      "\n",
      "See the caveats in the documentation: http://pandas.pydata.org/pandas-docs/stable/indexing.html#indexing-view-versus-copy\n",
      "  self._setitem_with_indexer(indexer, value)\n",
      "C:\\ProgramData\\Anaconda3\\lib\\site-packages\\pandas\\core\\indexing.py:190: SettingWithCopyWarning: \n",
      "A value is trying to be set on a copy of a slice from a DataFrame\n",
      "\n",
      "See the caveats in the documentation: http://pandas.pydata.org/pandas-docs/stable/indexing.html#indexing-view-versus-copy\n",
      "  self._setitem_with_indexer(indexer, value)\n"
     ]
    },
    {
     "name": "stdout",
     "output_type": "stream",
     "text": [
      "ALLCARGO {'Date': datetime.datetime(2020, 7, 31, 0, 0)}\n",
      "VOLTAMP {'Date': datetime.datetime(2020, 7, 31, 0, 0)}\n"
     ]
    },
    {
     "name": "stderr",
     "output_type": "stream",
     "text": [
      "C:\\ProgramData\\Anaconda3\\lib\\site-packages\\pandas\\core\\indexing.py:190: SettingWithCopyWarning: \n",
      "A value is trying to be set on a copy of a slice from a DataFrame\n",
      "\n",
      "See the caveats in the documentation: http://pandas.pydata.org/pandas-docs/stable/indexing.html#indexing-view-versus-copy\n",
      "  self._setitem_with_indexer(indexer, value)\n",
      "C:\\ProgramData\\Anaconda3\\lib\\site-packages\\pandas\\core\\indexing.py:190: SettingWithCopyWarning: \n",
      "A value is trying to be set on a copy of a slice from a DataFrame\n",
      "\n",
      "See the caveats in the documentation: http://pandas.pydata.org/pandas-docs/stable/indexing.html#indexing-view-versus-copy\n",
      "  self._setitem_with_indexer(indexer, value)\n"
     ]
    },
    {
     "name": "stdout",
     "output_type": "stream",
     "text": [
      "ATLANTA {'Date': datetime.datetime(2020, 7, 31, 0, 0)}\n",
      "DEEPIND {'Date': datetime.datetime(2020, 7, 31, 0, 0)}\n"
     ]
    },
    {
     "name": "stderr",
     "output_type": "stream",
     "text": [
      "C:\\ProgramData\\Anaconda3\\lib\\site-packages\\pandas\\core\\indexing.py:190: SettingWithCopyWarning: \n",
      "A value is trying to be set on a copy of a slice from a DataFrame\n",
      "\n",
      "See the caveats in the documentation: http://pandas.pydata.org/pandas-docs/stable/indexing.html#indexing-view-versus-copy\n",
      "  self._setitem_with_indexer(indexer, value)\n",
      "C:\\ProgramData\\Anaconda3\\lib\\site-packages\\pandas\\core\\indexing.py:190: SettingWithCopyWarning: \n",
      "A value is trying to be set on a copy of a slice from a DataFrame\n",
      "\n",
      "See the caveats in the documentation: http://pandas.pydata.org/pandas-docs/stable/indexing.html#indexing-view-versus-copy\n",
      "  self._setitem_with_indexer(indexer, value)\n"
     ]
    },
    {
     "name": "stdout",
     "output_type": "stream",
     "text": [
      "HOVS {'Date': datetime.datetime(2020, 7, 31, 0, 0)}\n",
      "ACE {'Date': datetime.datetime(2020, 7, 31, 0, 0)}\n"
     ]
    },
    {
     "name": "stderr",
     "output_type": "stream",
     "text": [
      "C:\\ProgramData\\Anaconda3\\lib\\site-packages\\pandas\\core\\indexing.py:190: SettingWithCopyWarning: \n",
      "A value is trying to be set on a copy of a slice from a DataFrame\n",
      "\n",
      "See the caveats in the documentation: http://pandas.pydata.org/pandas-docs/stable/indexing.html#indexing-view-versus-copy\n",
      "  self._setitem_with_indexer(indexer, value)\n",
      "C:\\ProgramData\\Anaconda3\\lib\\site-packages\\pandas\\core\\indexing.py:190: SettingWithCopyWarning: \n",
      "A value is trying to be set on a copy of a slice from a DataFrame\n",
      "\n",
      "See the caveats in the documentation: http://pandas.pydata.org/pandas-docs/stable/indexing.html#indexing-view-versus-copy\n",
      "  self._setitem_with_indexer(indexer, value)\n"
     ]
    },
    {
     "name": "stdout",
     "output_type": "stream",
     "text": [
      "GEECEE {'Date': datetime.datetime(2020, 7, 31, 0, 0)}\n",
      "GAYAPROJ {'Date': datetime.datetime(2020, 5, 6, 0, 0)}\n",
      "GMRINFRA {'Date': datetime.datetime(2020, 7, 31, 0, 0)}\n"
     ]
    },
    {
     "name": "stderr",
     "output_type": "stream",
     "text": [
      "C:\\ProgramData\\Anaconda3\\lib\\site-packages\\pandas\\core\\indexing.py:190: SettingWithCopyWarning: \n",
      "A value is trying to be set on a copy of a slice from a DataFrame\n",
      "\n",
      "See the caveats in the documentation: http://pandas.pydata.org/pandas-docs/stable/indexing.html#indexing-view-versus-copy\n",
      "  self._setitem_with_indexer(indexer, value)\n",
      "C:\\ProgramData\\Anaconda3\\lib\\site-packages\\pandas\\core\\indexing.py:190: SettingWithCopyWarning: \n",
      "A value is trying to be set on a copy of a slice from a DataFrame\n",
      "\n",
      "See the caveats in the documentation: http://pandas.pydata.org/pandas-docs/stable/indexing.html#indexing-view-versus-copy\n",
      "  self._setitem_with_indexer(indexer, value)\n"
     ]
    },
    {
     "name": "stdout",
     "output_type": "stream",
     "text": [
      "MAHINDCIE {'Date': datetime.datetime(2020, 7, 31, 0, 0)}\n",
      "TECHM {'Date': datetime.datetime(2020, 7, 31, 0, 0)}\n"
     ]
    },
    {
     "name": "stderr",
     "output_type": "stream",
     "text": [
      "C:\\ProgramData\\Anaconda3\\lib\\site-packages\\pandas\\core\\indexing.py:190: SettingWithCopyWarning: \n",
      "A value is trying to be set on a copy of a slice from a DataFrame\n",
      "\n",
      "See the caveats in the documentation: http://pandas.pydata.org/pandas-docs/stable/indexing.html#indexing-view-versus-copy\n",
      "  self._setitem_with_indexer(indexer, value)\n",
      "C:\\ProgramData\\Anaconda3\\lib\\site-packages\\pandas\\core\\indexing.py:190: SettingWithCopyWarning: \n",
      "A value is trying to be set on a copy of a slice from a DataFrame\n",
      "\n",
      "See the caveats in the documentation: http://pandas.pydata.org/pandas-docs/stable/indexing.html#indexing-view-versus-copy\n",
      "  self._setitem_with_indexer(indexer, value)\n"
     ]
    },
    {
     "name": "stdout",
     "output_type": "stream",
     "text": [
      "FIEMIND {'Date': datetime.datetime(2020, 7, 31, 0, 0)}\n",
      "DCBBANK {'Date': datetime.datetime(2020, 7, 31, 0, 0)}\n"
     ]
    },
    {
     "name": "stderr",
     "output_type": "stream",
     "text": [
      "C:\\ProgramData\\Anaconda3\\lib\\site-packages\\pandas\\core\\indexing.py:190: SettingWithCopyWarning: \n",
      "A value is trying to be set on a copy of a slice from a DataFrame\n",
      "\n",
      "See the caveats in the documentation: http://pandas.pydata.org/pandas-docs/stable/indexing.html#indexing-view-versus-copy\n",
      "  self._setitem_with_indexer(indexer, value)\n",
      "C:\\ProgramData\\Anaconda3\\lib\\site-packages\\pandas\\core\\indexing.py:190: SettingWithCopyWarning: \n",
      "A value is trying to be set on a copy of a slice from a DataFrame\n",
      "\n",
      "See the caveats in the documentation: http://pandas.pydata.org/pandas-docs/stable/indexing.html#indexing-view-versus-copy\n",
      "  self._setitem_with_indexer(indexer, value)\n"
     ]
    },
    {
     "name": "stdout",
     "output_type": "stream",
     "text": [
      "SHIVAMAUTO {'Date': datetime.datetime(2020, 6, 17, 0, 0)}\n",
      "NAUKRI {'Date': datetime.datetime(2020, 7, 31, 0, 0)}\n",
      "ZEEMEDIA {'Date': datetime.datetime(2020, 6, 17, 0, 0)}\n",
      "LUMAXTECH {'Date': datetime.datetime(2020, 7, 31, 0, 0)}\n"
     ]
    },
    {
     "name": "stderr",
     "output_type": "stream",
     "text": [
      "C:\\ProgramData\\Anaconda3\\lib\\site-packages\\pandas\\core\\indexing.py:190: SettingWithCopyWarning: \n",
      "A value is trying to be set on a copy of a slice from a DataFrame\n",
      "\n",
      "See the caveats in the documentation: http://pandas.pydata.org/pandas-docs/stable/indexing.html#indexing-view-versus-copy\n",
      "  self._setitem_with_indexer(indexer, value)\n",
      "C:\\ProgramData\\Anaconda3\\lib\\site-packages\\pandas\\core\\indexing.py:190: SettingWithCopyWarning: \n",
      "A value is trying to be set on a copy of a slice from a DataFrame\n",
      "\n",
      "See the caveats in the documentation: http://pandas.pydata.org/pandas-docs/stable/indexing.html#indexing-view-versus-copy\n",
      "  self._setitem_with_indexer(indexer, value)\n"
     ]
    },
    {
     "name": "stdout",
     "output_type": "stream",
     "text": [
      "NETWORK18 {'Date': datetime.datetime(2020, 7, 31, 0, 0)}\n",
      "HUBTOWN {'Date': datetime.datetime(2020, 7, 31, 0, 0)}\n"
     ]
    },
    {
     "name": "stderr",
     "output_type": "stream",
     "text": [
      "C:\\ProgramData\\Anaconda3\\lib\\site-packages\\pandas\\core\\indexing.py:190: SettingWithCopyWarning: \n",
      "A value is trying to be set on a copy of a slice from a DataFrame\n",
      "\n",
      "See the caveats in the documentation: http://pandas.pydata.org/pandas-docs/stable/indexing.html#indexing-view-versus-copy\n",
      "  self._setitem_with_indexer(indexer, value)\n",
      "C:\\ProgramData\\Anaconda3\\lib\\site-packages\\pandas\\core\\indexing.py:190: SettingWithCopyWarning: \n",
      "A value is trying to be set on a copy of a slice from a DataFrame\n",
      "\n",
      "See the caveats in the documentation: http://pandas.pydata.org/pandas-docs/stable/indexing.html#indexing-view-versus-copy\n",
      "  self._setitem_with_indexer(indexer, value)\n"
     ]
    },
    {
     "name": "stdout",
     "output_type": "stream",
     "text": [
      "TV18BRDCST {'Date': datetime.datetime(2020, 7, 31, 0, 0)}\n",
      "TIIL {'Date': datetime.datetime(2020, 7, 31, 0, 0)}\n"
     ]
    },
    {
     "name": "stderr",
     "output_type": "stream",
     "text": [
      "C:\\ProgramData\\Anaconda3\\lib\\site-packages\\pandas\\core\\indexing.py:190: SettingWithCopyWarning: \n",
      "A value is trying to be set on a copy of a slice from a DataFrame\n",
      "\n",
      "See the caveats in the documentation: http://pandas.pydata.org/pandas-docs/stable/indexing.html#indexing-view-versus-copy\n",
      "  self._setitem_with_indexer(indexer, value)\n",
      "C:\\ProgramData\\Anaconda3\\lib\\site-packages\\pandas\\core\\indexing.py:190: SettingWithCopyWarning: \n",
      "A value is trying to be set on a copy of a slice from a DataFrame\n",
      "\n",
      "See the caveats in the documentation: http://pandas.pydata.org/pandas-docs/stable/indexing.html#indexing-view-versus-copy\n",
      "  self._setitem_with_indexer(indexer, value)\n"
     ]
    },
    {
     "name": "stdout",
     "output_type": "stream",
     "text": [
      "REDINGTON {'Date': datetime.datetime(2020, 7, 31, 0, 0)}\n",
      "CINELINE {'Date': datetime.datetime(2020, 7, 31, 0, 0)}\n"
     ]
    },
    {
     "name": "stderr",
     "output_type": "stream",
     "text": [
      "C:\\ProgramData\\Anaconda3\\lib\\site-packages\\pandas\\core\\indexing.py:190: SettingWithCopyWarning: \n",
      "A value is trying to be set on a copy of a slice from a DataFrame\n",
      "\n",
      "See the caveats in the documentation: http://pandas.pydata.org/pandas-docs/stable/indexing.html#indexing-view-versus-copy\n",
      "  self._setitem_with_indexer(indexer, value)\n",
      "C:\\ProgramData\\Anaconda3\\lib\\site-packages\\pandas\\core\\indexing.py:190: SettingWithCopyWarning: \n",
      "A value is trying to be set on a copy of a slice from a DataFrame\n",
      "\n",
      "See the caveats in the documentation: http://pandas.pydata.org/pandas-docs/stable/indexing.html#indexing-view-versus-copy\n",
      "  self._setitem_with_indexer(indexer, value)\n"
     ]
    },
    {
     "name": "stdout",
     "output_type": "stream",
     "text": [
      "FSL {'Date': datetime.datetime(2020, 7, 31, 0, 0)}\n",
      "PGIL {'Date': datetime.datetime(2020, 7, 31, 0, 0)}\n"
     ]
    },
    {
     "name": "stderr",
     "output_type": "stream",
     "text": [
      "C:\\ProgramData\\Anaconda3\\lib\\site-packages\\pandas\\core\\indexing.py:190: SettingWithCopyWarning: \n",
      "A value is trying to be set on a copy of a slice from a DataFrame\n",
      "\n",
      "See the caveats in the documentation: http://pandas.pydata.org/pandas-docs/stable/indexing.html#indexing-view-versus-copy\n",
      "  self._setitem_with_indexer(indexer, value)\n",
      "C:\\ProgramData\\Anaconda3\\lib\\site-packages\\pandas\\core\\indexing.py:190: SettingWithCopyWarning: \n",
      "A value is trying to be set on a copy of a slice from a DataFrame\n",
      "\n",
      "See the caveats in the documentation: http://pandas.pydata.org/pandas-docs/stable/indexing.html#indexing-view-versus-copy\n",
      "  self._setitem_with_indexer(indexer, value)\n"
     ]
    },
    {
     "name": "stdout",
     "output_type": "stream",
     "text": [
      "AHLUCONT {'Date': datetime.datetime(2020, 7, 31, 0, 0)}\n",
      "PFC {'Date': datetime.datetime(2020, 7, 31, 0, 0)}\n"
     ]
    },
    {
     "name": "stderr",
     "output_type": "stream",
     "text": [
      "C:\\ProgramData\\Anaconda3\\lib\\site-packages\\pandas\\core\\indexing.py:190: SettingWithCopyWarning: \n",
      "A value is trying to be set on a copy of a slice from a DataFrame\n",
      "\n",
      "See the caveats in the documentation: http://pandas.pydata.org/pandas-docs/stable/indexing.html#indexing-view-versus-copy\n",
      "  self._setitem_with_indexer(indexer, value)\n",
      "C:\\ProgramData\\Anaconda3\\lib\\site-packages\\pandas\\core\\indexing.py:190: SettingWithCopyWarning: \n",
      "A value is trying to be set on a copy of a slice from a DataFrame\n",
      "\n",
      "See the caveats in the documentation: http://pandas.pydata.org/pandas-docs/stable/indexing.html#indexing-view-versus-copy\n",
      "  self._setitem_with_indexer(indexer, value)\n"
     ]
    },
    {
     "name": "stdout",
     "output_type": "stream",
     "text": [
      "INDIANB {'Date': datetime.datetime(2020, 7, 31, 0, 0)}\n",
      "SMSPHARMA {'Date': datetime.datetime(2020, 7, 31, 0, 0)}\n"
     ]
    },
    {
     "name": "stderr",
     "output_type": "stream",
     "text": [
      "C:\\ProgramData\\Anaconda3\\lib\\site-packages\\pandas\\core\\indexing.py:190: SettingWithCopyWarning: \n",
      "A value is trying to be set on a copy of a slice from a DataFrame\n",
      "\n",
      "See the caveats in the documentation: http://pandas.pydata.org/pandas-docs/stable/indexing.html#indexing-view-versus-copy\n",
      "  self._setitem_with_indexer(indexer, value)\n",
      "C:\\ProgramData\\Anaconda3\\lib\\site-packages\\pandas\\core\\indexing.py:190: SettingWithCopyWarning: \n",
      "A value is trying to be set on a copy of a slice from a DataFrame\n",
      "\n",
      "See the caveats in the documentation: http://pandas.pydata.org/pandas-docs/stable/indexing.html#indexing-view-versus-copy\n",
      "  self._setitem_with_indexer(indexer, value)\n"
     ]
    },
    {
     "name": "stdout",
     "output_type": "stream",
     "text": [
      "MINDTREE {'Date': datetime.datetime(2020, 7, 31, 0, 0)}\n",
      "IDEA {'Date': datetime.datetime(2020, 7, 31, 0, 0)}\n"
     ]
    },
    {
     "name": "stderr",
     "output_type": "stream",
     "text": [
      "C:\\ProgramData\\Anaconda3\\lib\\site-packages\\pandas\\core\\indexing.py:190: SettingWithCopyWarning: \n",
      "A value is trying to be set on a copy of a slice from a DataFrame\n",
      "\n",
      "See the caveats in the documentation: http://pandas.pydata.org/pandas-docs/stable/indexing.html#indexing-view-versus-copy\n",
      "  self._setitem_with_indexer(indexer, value)\n",
      "C:\\ProgramData\\Anaconda3\\lib\\site-packages\\pandas\\core\\indexing.py:190: SettingWithCopyWarning: \n",
      "A value is trying to be set on a copy of a slice from a DataFrame\n",
      "\n",
      "See the caveats in the documentation: http://pandas.pydata.org/pandas-docs/stable/indexing.html#indexing-view-versus-copy\n",
      "  self._setitem_with_indexer(indexer, value)\n"
     ]
    },
    {
     "name": "stdout",
     "output_type": "stream",
     "text": [
      "PAGEIND {'Date': datetime.datetime(2020, 7, 31, 0, 0)}\n",
      "AMDIND {'Date': datetime.datetime(2020, 7, 31, 0, 0)}\n"
     ]
    },
    {
     "name": "stderr",
     "output_type": "stream",
     "text": [
      "C:\\ProgramData\\Anaconda3\\lib\\site-packages\\pandas\\core\\indexing.py:190: SettingWithCopyWarning: \n",
      "A value is trying to be set on a copy of a slice from a DataFrame\n",
      "\n",
      "See the caveats in the documentation: http://pandas.pydata.org/pandas-docs/stable/indexing.html#indexing-view-versus-copy\n",
      "  self._setitem_with_indexer(indexer, value)\n",
      "C:\\ProgramData\\Anaconda3\\lib\\site-packages\\pandas\\core\\indexing.py:190: SettingWithCopyWarning: \n",
      "A value is trying to be set on a copy of a slice from a DataFrame\n",
      "\n",
      "See the caveats in the documentation: http://pandas.pydata.org/pandas-docs/stable/indexing.html#indexing-view-versus-copy\n",
      "  self._setitem_with_indexer(indexer, value)\n"
     ]
    },
    {
     "name": "stdout",
     "output_type": "stream",
     "text": [
      "ASTRAL {'Date': datetime.datetime(2020, 7, 31, 0, 0)}\n",
      "IBREALEST {'Date': datetime.datetime(2020, 7, 31, 0, 0)}\n"
     ]
    },
    {
     "name": "stderr",
     "output_type": "stream",
     "text": [
      "C:\\ProgramData\\Anaconda3\\lib\\site-packages\\pandas\\core\\indexing.py:190: SettingWithCopyWarning: \n",
      "A value is trying to be set on a copy of a slice from a DataFrame\n",
      "\n",
      "See the caveats in the documentation: http://pandas.pydata.org/pandas-docs/stable/indexing.html#indexing-view-versus-copy\n",
      "  self._setitem_with_indexer(indexer, value)\n",
      "C:\\ProgramData\\Anaconda3\\lib\\site-packages\\pandas\\core\\indexing.py:190: SettingWithCopyWarning: \n",
      "A value is trying to be set on a copy of a slice from a DataFrame\n",
      "\n",
      "See the caveats in the documentation: http://pandas.pydata.org/pandas-docs/stable/indexing.html#indexing-view-versus-copy\n",
      "  self._setitem_with_indexer(indexer, value)\n"
     ]
    },
    {
     "name": "stdout",
     "output_type": "stream",
     "text": [
      "CAMLINFINE {'Date': datetime.datetime(2020, 7, 31, 0, 0)}\n",
      "ICRA {'Date': datetime.datetime(2020, 7, 31, 0, 0)}\n"
     ]
    },
    {
     "name": "stderr",
     "output_type": "stream",
     "text": [
      "C:\\ProgramData\\Anaconda3\\lib\\site-packages\\pandas\\core\\indexing.py:190: SettingWithCopyWarning: \n",
      "A value is trying to be set on a copy of a slice from a DataFrame\n",
      "\n",
      "See the caveats in the documentation: http://pandas.pydata.org/pandas-docs/stable/indexing.html#indexing-view-versus-copy\n",
      "  self._setitem_with_indexer(indexer, value)\n",
      "C:\\ProgramData\\Anaconda3\\lib\\site-packages\\pandas\\core\\indexing.py:190: SettingWithCopyWarning: \n",
      "A value is trying to be set on a copy of a slice from a DataFrame\n",
      "\n",
      "See the caveats in the documentation: http://pandas.pydata.org/pandas-docs/stable/indexing.html#indexing-view-versus-copy\n",
      "  self._setitem_with_indexer(indexer, value)\n"
     ]
    },
    {
     "name": "stdout",
     "output_type": "stream",
     "text": [
      "DISHTV {'Date': datetime.datetime(2020, 7, 31, 0, 0)}\n",
      "SRHHYPOLTD {'Date': datetime.datetime(2020, 7, 31, 0, 0)}\n"
     ]
    },
    {
     "name": "stderr",
     "output_type": "stream",
     "text": [
      "C:\\ProgramData\\Anaconda3\\lib\\site-packages\\pandas\\core\\indexing.py:190: SettingWithCopyWarning: \n",
      "A value is trying to be set on a copy of a slice from a DataFrame\n",
      "\n",
      "See the caveats in the documentation: http://pandas.pydata.org/pandas-docs/stable/indexing.html#indexing-view-versus-copy\n",
      "  self._setitem_with_indexer(indexer, value)\n",
      "C:\\ProgramData\\Anaconda3\\lib\\site-packages\\pandas\\core\\indexing.py:190: SettingWithCopyWarning: \n",
      "A value is trying to be set on a copy of a slice from a DataFrame\n",
      "\n",
      "See the caveats in the documentation: http://pandas.pydata.org/pandas-docs/stable/indexing.html#indexing-view-versus-copy\n",
      "  self._setitem_with_indexer(indexer, value)\n"
     ]
    },
    {
     "name": "stdout",
     "output_type": "stream",
     "text": [
      "FORTIS {'Date': datetime.datetime(2020, 7, 31, 0, 0)}\n",
      "TGBHOTELS {'Date': datetime.datetime(2020, 6, 17, 0, 0)}\n",
      "DELTACORP {'Date': datetime.datetime(2020, 7, 31, 0, 0)}\n"
     ]
    },
    {
     "name": "stderr",
     "output_type": "stream",
     "text": [
      "C:\\ProgramData\\Anaconda3\\lib\\site-packages\\pandas\\core\\indexing.py:190: SettingWithCopyWarning: \n",
      "A value is trying to be set on a copy of a slice from a DataFrame\n",
      "\n",
      "See the caveats in the documentation: http://pandas.pydata.org/pandas-docs/stable/indexing.html#indexing-view-versus-copy\n",
      "  self._setitem_with_indexer(indexer, value)\n",
      "C:\\ProgramData\\Anaconda3\\lib\\site-packages\\pandas\\core\\indexing.py:190: SettingWithCopyWarning: \n",
      "A value is trying to be set on a copy of a slice from a DataFrame\n",
      "\n",
      "See the caveats in the documentation: http://pandas.pydata.org/pandas-docs/stable/indexing.html#indexing-view-versus-copy\n",
      "  self._setitem_with_indexer(indexer, value)\n"
     ]
    },
    {
     "name": "stdout",
     "output_type": "stream",
     "text": [
      "INSECTICID {'Date': datetime.datetime(2020, 7, 31, 0, 0)}\n",
      "MCDHOLDING {'Date': datetime.datetime(2020, 7, 31, 0, 0)}\n"
     ]
    },
    {
     "name": "stderr",
     "output_type": "stream",
     "text": [
      "C:\\ProgramData\\Anaconda3\\lib\\site-packages\\pandas\\core\\indexing.py:190: SettingWithCopyWarning: \n",
      "A value is trying to be set on a copy of a slice from a DataFrame\n",
      "\n",
      "See the caveats in the documentation: http://pandas.pydata.org/pandas-docs/stable/indexing.html#indexing-view-versus-copy\n",
      "  self._setitem_with_indexer(indexer, value)\n",
      "C:\\ProgramData\\Anaconda3\\lib\\site-packages\\pandas\\core\\indexing.py:190: SettingWithCopyWarning: \n",
      "A value is trying to be set on a copy of a slice from a DataFrame\n",
      "\n",
      "See the caveats in the documentation: http://pandas.pydata.org/pandas-docs/stable/indexing.html#indexing-view-versus-copy\n",
      "  self._setitem_with_indexer(indexer, value)\n"
     ]
    },
    {
     "name": "stdout",
     "output_type": "stream",
     "text": [
      "ASAHISONG {'Date': datetime.datetime(2020, 7, 31, 0, 0)}\n",
      "TIMETECHNO {'Date': datetime.datetime(2020, 7, 31, 0, 0)}\n"
     ]
    },
    {
     "name": "stderr",
     "output_type": "stream",
     "text": [
      "C:\\ProgramData\\Anaconda3\\lib\\site-packages\\pandas\\core\\indexing.py:190: SettingWithCopyWarning: \n",
      "A value is trying to be set on a copy of a slice from a DataFrame\n",
      "\n",
      "See the caveats in the documentation: http://pandas.pydata.org/pandas-docs/stable/indexing.html#indexing-view-versus-copy\n",
      "  self._setitem_with_indexer(indexer, value)\n",
      "C:\\ProgramData\\Anaconda3\\lib\\site-packages\\pandas\\core\\indexing.py:190: SettingWithCopyWarning: \n",
      "A value is trying to be set on a copy of a slice from a DataFrame\n",
      "\n",
      "See the caveats in the documentation: http://pandas.pydata.org/pandas-docs/stable/indexing.html#indexing-view-versus-copy\n",
      "  self._setitem_with_indexer(indexer, value)\n"
     ]
    },
    {
     "name": "stdout",
     "output_type": "stream",
     "text": [
      "HGS {'Date': datetime.datetime(2020, 7, 31, 0, 0)}\n",
      "NELCAST {'Date': datetime.datetime(2020, 7, 31, 0, 0)}\n"
     ]
    },
    {
     "name": "stderr",
     "output_type": "stream",
     "text": [
      "C:\\ProgramData\\Anaconda3\\lib\\site-packages\\pandas\\core\\indexing.py:190: SettingWithCopyWarning: \n",
      "A value is trying to be set on a copy of a slice from a DataFrame\n",
      "\n",
      "See the caveats in the documentation: http://pandas.pydata.org/pandas-docs/stable/indexing.html#indexing-view-versus-copy\n",
      "  self._setitem_with_indexer(indexer, value)\n",
      "C:\\ProgramData\\Anaconda3\\lib\\site-packages\\pandas\\core\\indexing.py:190: SettingWithCopyWarning: \n",
      "A value is trying to be set on a copy of a slice from a DataFrame\n",
      "\n",
      "See the caveats in the documentation: http://pandas.pydata.org/pandas-docs/stable/indexing.html#indexing-view-versus-copy\n",
      "  self._setitem_with_indexer(indexer, value)\n"
     ]
    },
    {
     "name": "stdout",
     "output_type": "stream",
     "text": [
      "MEGH {'Date': datetime.datetime(2020, 7, 31, 0, 0)}\n",
      "DLF {'Date': datetime.datetime(2020, 7, 31, 0, 0)}\n"
     ]
    },
    {
     "name": "stderr",
     "output_type": "stream",
     "text": [
      "C:\\ProgramData\\Anaconda3\\lib\\site-packages\\pandas\\core\\indexing.py:190: SettingWithCopyWarning: \n",
      "A value is trying to be set on a copy of a slice from a DataFrame\n",
      "\n",
      "See the caveats in the documentation: http://pandas.pydata.org/pandas-docs/stable/indexing.html#indexing-view-versus-copy\n",
      "  self._setitem_with_indexer(indexer, value)\n",
      "C:\\ProgramData\\Anaconda3\\lib\\site-packages\\pandas\\core\\indexing.py:190: SettingWithCopyWarning: \n",
      "A value is trying to be set on a copy of a slice from a DataFrame\n",
      "\n",
      "See the caveats in the documentation: http://pandas.pydata.org/pandas-docs/stable/indexing.html#indexing-view-versus-copy\n",
      "  self._setitem_with_indexer(indexer, value)\n"
     ]
    },
    {
     "name": "stdout",
     "output_type": "stream",
     "text": [
      "TARMAT {'Date': datetime.datetime(2020, 7, 31, 0, 0)}\n",
      "SPARC {'Date': datetime.datetime(2020, 7, 31, 0, 0)}\n"
     ]
    },
    {
     "name": "stderr",
     "output_type": "stream",
     "text": [
      "C:\\ProgramData\\Anaconda3\\lib\\site-packages\\pandas\\core\\indexing.py:190: SettingWithCopyWarning: \n",
      "A value is trying to be set on a copy of a slice from a DataFrame\n",
      "\n",
      "See the caveats in the documentation: http://pandas.pydata.org/pandas-docs/stable/indexing.html#indexing-view-versus-copy\n",
      "  self._setitem_with_indexer(indexer, value)\n",
      "C:\\ProgramData\\Anaconda3\\lib\\site-packages\\pandas\\core\\indexing.py:190: SettingWithCopyWarning: \n",
      "A value is trying to be set on a copy of a slice from a DataFrame\n",
      "\n",
      "See the caveats in the documentation: http://pandas.pydata.org/pandas-docs/stable/indexing.html#indexing-view-versus-copy\n",
      "  self._setitem_with_indexer(indexer, value)\n"
     ]
    },
    {
     "name": "stdout",
     "output_type": "stream",
     "text": [
      "OMAXE {'Date': datetime.datetime(2020, 7, 31, 0, 0)}\n",
      "CENTRALBK {'Date': datetime.datetime(2020, 7, 31, 0, 0)}\n"
     ]
    },
    {
     "name": "stderr",
     "output_type": "stream",
     "text": [
      "C:\\ProgramData\\Anaconda3\\lib\\site-packages\\pandas\\core\\indexing.py:190: SettingWithCopyWarning: \n",
      "A value is trying to be set on a copy of a slice from a DataFrame\n",
      "\n",
      "See the caveats in the documentation: http://pandas.pydata.org/pandas-docs/stable/indexing.html#indexing-view-versus-copy\n",
      "  self._setitem_with_indexer(indexer, value)\n",
      "C:\\ProgramData\\Anaconda3\\lib\\site-packages\\pandas\\core\\indexing.py:190: SettingWithCopyWarning: \n",
      "A value is trying to be set on a copy of a slice from a DataFrame\n",
      "\n",
      "See the caveats in the documentation: http://pandas.pydata.org/pandas-docs/stable/indexing.html#indexing-view-versus-copy\n",
      "  self._setitem_with_indexer(indexer, value)\n"
     ]
    },
    {
     "name": "stdout",
     "output_type": "stream",
     "text": [
      "KPRMILL {'Date': datetime.datetime(2020, 7, 31, 0, 0)}\n",
      "ASIANTILES {'Date': datetime.datetime(2020, 7, 31, 0, 0)}\n"
     ]
    },
    {
     "name": "stderr",
     "output_type": "stream",
     "text": [
      "C:\\ProgramData\\Anaconda3\\lib\\site-packages\\pandas\\core\\indexing.py:190: SettingWithCopyWarning: \n",
      "A value is trying to be set on a copy of a slice from a DataFrame\n",
      "\n",
      "See the caveats in the documentation: http://pandas.pydata.org/pandas-docs/stable/indexing.html#indexing-view-versus-copy\n",
      "  self._setitem_with_indexer(indexer, value)\n",
      "C:\\ProgramData\\Anaconda3\\lib\\site-packages\\pandas\\core\\indexing.py:190: SettingWithCopyWarning: \n",
      "A value is trying to be set on a copy of a slice from a DataFrame\n",
      "\n",
      "See the caveats in the documentation: http://pandas.pydata.org/pandas-docs/stable/indexing.html#indexing-view-versus-copy\n",
      "  self._setitem_with_indexer(indexer, value)\n"
     ]
    },
    {
     "name": "stdout",
     "output_type": "stream",
     "text": [
      "TAKE {'Date': datetime.datetime(2020, 7, 31, 0, 0)}\n",
      "PURVA {'Date': datetime.datetime(2020, 7, 31, 0, 0)}\n"
     ]
    },
    {
     "name": "stderr",
     "output_type": "stream",
     "text": [
      "C:\\ProgramData\\Anaconda3\\lib\\site-packages\\pandas\\core\\indexing.py:190: SettingWithCopyWarning: \n",
      "A value is trying to be set on a copy of a slice from a DataFrame\n",
      "\n",
      "See the caveats in the documentation: http://pandas.pydata.org/pandas-docs/stable/indexing.html#indexing-view-versus-copy\n",
      "  self._setitem_with_indexer(indexer, value)\n",
      "C:\\ProgramData\\Anaconda3\\lib\\site-packages\\pandas\\core\\indexing.py:190: SettingWithCopyWarning: \n",
      "A value is trying to be set on a copy of a slice from a DataFrame\n",
      "\n",
      "See the caveats in the documentation: http://pandas.pydata.org/pandas-docs/stable/indexing.html#indexing-view-versus-copy\n",
      "  self._setitem_with_indexer(indexer, value)\n"
     ]
    },
    {
     "name": "stdout",
     "output_type": "stream",
     "text": [
      "MOTILALOFS {'Date': datetime.datetime(2020, 7, 31, 0, 0)}\n",
      "POWERGRID {'Date': datetime.datetime(2020, 7, 31, 0, 0)}\n"
     ]
    },
    {
     "name": "stderr",
     "output_type": "stream",
     "text": [
      "C:\\ProgramData\\Anaconda3\\lib\\site-packages\\pandas\\core\\indexing.py:190: SettingWithCopyWarning: \n",
      "A value is trying to be set on a copy of a slice from a DataFrame\n",
      "\n",
      "See the caveats in the documentation: http://pandas.pydata.org/pandas-docs/stable/indexing.html#indexing-view-versus-copy\n",
      "  self._setitem_with_indexer(indexer, value)\n",
      "C:\\ProgramData\\Anaconda3\\lib\\site-packages\\pandas\\core\\indexing.py:190: SettingWithCopyWarning: \n",
      "A value is trying to be set on a copy of a slice from a DataFrame\n",
      "\n",
      "See the caveats in the documentation: http://pandas.pydata.org/pandas-docs/stable/indexing.html#indexing-view-versus-copy\n",
      "  self._setitem_with_indexer(indexer, value)\n"
     ]
    },
    {
     "name": "stdout",
     "output_type": "stream",
     "text": [
      "KSCL {'Date': datetime.datetime(2020, 7, 31, 0, 0)}\n",
      "MAANALU {'Date': datetime.datetime(2020, 7, 31, 0, 0)}\n"
     ]
    },
    {
     "name": "stderr",
     "output_type": "stream",
     "text": [
      "C:\\ProgramData\\Anaconda3\\lib\\site-packages\\pandas\\core\\indexing.py:190: SettingWithCopyWarning: \n",
      "A value is trying to be set on a copy of a slice from a DataFrame\n",
      "\n",
      "See the caveats in the documentation: http://pandas.pydata.org/pandas-docs/stable/indexing.html#indexing-view-versus-copy\n",
      "  self._setitem_with_indexer(indexer, value)\n",
      "C:\\ProgramData\\Anaconda3\\lib\\site-packages\\pandas\\core\\indexing.py:190: SettingWithCopyWarning: \n",
      "A value is trying to be set on a copy of a slice from a DataFrame\n",
      "\n",
      "See the caveats in the documentation: http://pandas.pydata.org/pandas-docs/stable/indexing.html#indexing-view-versus-copy\n",
      "  self._setitem_with_indexer(indexer, value)\n"
     ]
    },
    {
     "name": "stdout",
     "output_type": "stream",
     "text": [
      "RELIGARE {'Date': datetime.datetime(2020, 7, 31, 0, 0)}\n",
      "ADANIPORTS {'Date': datetime.datetime(2020, 7, 31, 0, 0)}\n"
     ]
    },
    {
     "name": "stderr",
     "output_type": "stream",
     "text": [
      "C:\\ProgramData\\Anaconda3\\lib\\site-packages\\pandas\\core\\indexing.py:190: SettingWithCopyWarning: \n",
      "A value is trying to be set on a copy of a slice from a DataFrame\n",
      "\n",
      "See the caveats in the documentation: http://pandas.pydata.org/pandas-docs/stable/indexing.html#indexing-view-versus-copy\n",
      "  self._setitem_with_indexer(indexer, value)\n",
      "C:\\ProgramData\\Anaconda3\\lib\\site-packages\\pandas\\core\\indexing.py:190: SettingWithCopyWarning: \n",
      "A value is trying to be set on a copy of a slice from a DataFrame\n",
      "\n",
      "See the caveats in the documentation: http://pandas.pydata.org/pandas-docs/stable/indexing.html#indexing-view-versus-copy\n",
      "  self._setitem_with_indexer(indexer, value)\n"
     ]
    },
    {
     "name": "stdout",
     "output_type": "stream",
     "text": [
      "EDELWEISS {'Date': datetime.datetime(2020, 7, 31, 0, 0)}\n",
      "KOLTEPATIL {'Date': datetime.datetime(2020, 7, 31, 0, 0)}\n"
     ]
    },
    {
     "name": "stderr",
     "output_type": "stream",
     "text": [
      "C:\\ProgramData\\Anaconda3\\lib\\site-packages\\pandas\\core\\indexing.py:190: SettingWithCopyWarning: \n",
      "A value is trying to be set on a copy of a slice from a DataFrame\n",
      "\n",
      "See the caveats in the documentation: http://pandas.pydata.org/pandas-docs/stable/indexing.html#indexing-view-versus-copy\n",
      "  self._setitem_with_indexer(indexer, value)\n",
      "C:\\ProgramData\\Anaconda3\\lib\\site-packages\\pandas\\core\\indexing.py:190: SettingWithCopyWarning: \n",
      "A value is trying to be set on a copy of a slice from a DataFrame\n",
      "\n",
      "See the caveats in the documentation: http://pandas.pydata.org/pandas-docs/stable/indexing.html#indexing-view-versus-copy\n",
      "  self._setitem_with_indexer(indexer, value)\n"
     ]
    },
    {
     "name": "stdout",
     "output_type": "stream",
     "text": [
      "JYOTHYLAB {'Date': datetime.datetime(2020, 7, 31, 0, 0)}\n",
      "ECLERX {'Date': datetime.datetime(2020, 7, 31, 0, 0)}\n"
     ]
    },
    {
     "name": "stderr",
     "output_type": "stream",
     "text": [
      "C:\\ProgramData\\Anaconda3\\lib\\site-packages\\pandas\\core\\indexing.py:190: SettingWithCopyWarning: \n",
      "A value is trying to be set on a copy of a slice from a DataFrame\n",
      "\n",
      "See the caveats in the documentation: http://pandas.pydata.org/pandas-docs/stable/indexing.html#indexing-view-versus-copy\n",
      "  self._setitem_with_indexer(indexer, value)\n",
      "C:\\ProgramData\\Anaconda3\\lib\\site-packages\\pandas\\core\\indexing.py:190: SettingWithCopyWarning: \n",
      "A value is trying to be set on a copy of a slice from a DataFrame\n",
      "\n",
      "See the caveats in the documentation: http://pandas.pydata.org/pandas-docs/stable/indexing.html#indexing-view-versus-copy\n",
      "  self._setitem_with_indexer(indexer, value)\n"
     ]
    },
    {
     "name": "stdout",
     "output_type": "stream",
     "text": [
      "TRIL {'Date': datetime.datetime(2020, 7, 31, 0, 0)}\n",
      "BRIGADE {'Date': datetime.datetime(2020, 7, 31, 0, 0)}\n"
     ]
    },
    {
     "name": "stderr",
     "output_type": "stream",
     "text": [
      "C:\\ProgramData\\Anaconda3\\lib\\site-packages\\pandas\\core\\indexing.py:190: SettingWithCopyWarning: \n",
      "A value is trying to be set on a copy of a slice from a DataFrame\n",
      "\n",
      "See the caveats in the documentation: http://pandas.pydata.org/pandas-docs/stable/indexing.html#indexing-view-versus-copy\n",
      "  self._setitem_with_indexer(indexer, value)\n",
      "C:\\ProgramData\\Anaconda3\\lib\\site-packages\\pandas\\core\\indexing.py:190: SettingWithCopyWarning: \n",
      "A value is trying to be set on a copy of a slice from a DataFrame\n",
      "\n",
      "See the caveats in the documentation: http://pandas.pydata.org/pandas-docs/stable/indexing.html#indexing-view-versus-copy\n",
      "  self._setitem_with_indexer(indexer, value)\n"
     ]
    },
    {
     "name": "stdout",
     "output_type": "stream",
     "text": [
      "BGRENERGY {'Date': datetime.datetime(2020, 7, 15, 0, 0)}\n",
      "MANAKSIA {'Date': datetime.datetime(2020, 7, 31, 0, 0)}\n",
      "PPAP {'Date': datetime.datetime(2020, 7, 31, 0, 0)}\n"
     ]
    },
    {
     "name": "stderr",
     "output_type": "stream",
     "text": [
      "C:\\ProgramData\\Anaconda3\\lib\\site-packages\\pandas\\core\\indexing.py:190: SettingWithCopyWarning: \n",
      "A value is trying to be set on a copy of a slice from a DataFrame\n",
      "\n",
      "See the caveats in the documentation: http://pandas.pydata.org/pandas-docs/stable/indexing.html#indexing-view-versus-copy\n",
      "  self._setitem_with_indexer(indexer, value)\n",
      "C:\\ProgramData\\Anaconda3\\lib\\site-packages\\pandas\\core\\indexing.py:190: SettingWithCopyWarning: \n",
      "A value is trying to be set on a copy of a slice from a DataFrame\n",
      "\n",
      "See the caveats in the documentation: http://pandas.pydata.org/pandas-docs/stable/indexing.html#indexing-view-versus-copy\n",
      "  self._setitem_with_indexer(indexer, value)\n"
     ]
    },
    {
     "name": "stdout",
     "output_type": "stream",
     "text": [
      "ARIES {'Date': datetime.datetime(2020, 7, 31, 0, 0)}\n",
      "RPOWER {'Date': datetime.datetime(2020, 7, 31, 0, 0)}\n"
     ]
    },
    {
     "name": "stderr",
     "output_type": "stream",
     "text": [
      "C:\\ProgramData\\Anaconda3\\lib\\site-packages\\pandas\\core\\indexing.py:190: SettingWithCopyWarning: \n",
      "A value is trying to be set on a copy of a slice from a DataFrame\n",
      "\n",
      "See the caveats in the documentation: http://pandas.pydata.org/pandas-docs/stable/indexing.html#indexing-view-versus-copy\n",
      "  self._setitem_with_indexer(indexer, value)\n",
      "C:\\ProgramData\\Anaconda3\\lib\\site-packages\\pandas\\core\\indexing.py:190: SettingWithCopyWarning: \n",
      "A value is trying to be set on a copy of a slice from a DataFrame\n",
      "\n",
      "See the caveats in the documentation: http://pandas.pydata.org/pandas-docs/stable/indexing.html#indexing-view-versus-copy\n",
      "  self._setitem_with_indexer(indexer, value)\n"
     ]
    },
    {
     "name": "stdout",
     "output_type": "stream",
     "text": [
      "JKIL {'Date': datetime.datetime(2020, 7, 31, 0, 0)}\n",
      "CORDSCABLE {'Date': datetime.datetime(2020, 7, 31, 0, 0)}\n"
     ]
    },
    {
     "name": "stderr",
     "output_type": "stream",
     "text": [
      "C:\\ProgramData\\Anaconda3\\lib\\site-packages\\pandas\\core\\indexing.py:190: SettingWithCopyWarning: \n",
      "A value is trying to be set on a copy of a slice from a DataFrame\n",
      "\n",
      "See the caveats in the documentation: http://pandas.pydata.org/pandas-docs/stable/indexing.html#indexing-view-versus-copy\n",
      "  self._setitem_with_indexer(indexer, value)\n",
      "C:\\ProgramData\\Anaconda3\\lib\\site-packages\\pandas\\core\\indexing.py:190: SettingWithCopyWarning: \n",
      "A value is trying to be set on a copy of a slice from a DataFrame\n",
      "\n",
      "See the caveats in the documentation: http://pandas.pydata.org/pandas-docs/stable/indexing.html#indexing-view-versus-copy\n",
      "  self._setitem_with_indexer(indexer, value)\n"
     ]
    },
    {
     "name": "stdout",
     "output_type": "stream",
     "text": [
      "KNRCON {'Date': datetime.datetime(2020, 7, 31, 0, 0)}\n",
      "ONMOBILE {'Date': datetime.datetime(2020, 7, 31, 0, 0)}\n"
     ]
    },
    {
     "name": "stderr",
     "output_type": "stream",
     "text": [
      "C:\\ProgramData\\Anaconda3\\lib\\site-packages\\pandas\\core\\indexing.py:190: SettingWithCopyWarning: \n",
      "A value is trying to be set on a copy of a slice from a DataFrame\n",
      "\n",
      "See the caveats in the documentation: http://pandas.pydata.org/pandas-docs/stable/indexing.html#indexing-view-versus-copy\n",
      "  self._setitem_with_indexer(indexer, value)\n",
      "C:\\ProgramData\\Anaconda3\\lib\\site-packages\\pandas\\core\\indexing.py:190: SettingWithCopyWarning: \n",
      "A value is trying to be set on a copy of a slice from a DataFrame\n",
      "\n",
      "See the caveats in the documentation: http://pandas.pydata.org/pandas-docs/stable/indexing.html#indexing-view-versus-copy\n",
      "  self._setitem_with_indexer(indexer, value)\n"
     ]
    },
    {
     "name": "stdout",
     "output_type": "stream",
     "text": [
      "SHRIRAMEPC {'Date': datetime.datetime(2020, 7, 31, 0, 0)}\n",
      "IRB {'Date': datetime.datetime(2020, 7, 17, 0, 0)}\n",
      "GSS {'Date': datetime.datetime(2020, 7, 31, 0, 0)}\n"
     ]
    },
    {
     "name": "stderr",
     "output_type": "stream",
     "text": [
      "C:\\ProgramData\\Anaconda3\\lib\\site-packages\\pandas\\core\\indexing.py:190: SettingWithCopyWarning: \n",
      "A value is trying to be set on a copy of a slice from a DataFrame\n",
      "\n",
      "See the caveats in the documentation: http://pandas.pydata.org/pandas-docs/stable/indexing.html#indexing-view-versus-copy\n",
      "  self._setitem_with_indexer(indexer, value)\n",
      "C:\\ProgramData\\Anaconda3\\lib\\site-packages\\pandas\\core\\indexing.py:190: SettingWithCopyWarning: \n",
      "A value is trying to be set on a copy of a slice from a DataFrame\n",
      "\n",
      "See the caveats in the documentation: http://pandas.pydata.org/pandas-docs/stable/indexing.html#indexing-view-versus-copy\n",
      "  self._setitem_with_indexer(indexer, value)\n"
     ]
    },
    {
     "name": "stdout",
     "output_type": "stream",
     "text": [
      "NAHARCAP {'Date': datetime.datetime(2020, 7, 31, 0, 0)}\n",
      "VGUARD {'Date': datetime.datetime(2020, 7, 31, 0, 0)}\n"
     ]
    },
    {
     "name": "stderr",
     "output_type": "stream",
     "text": [
      "C:\\ProgramData\\Anaconda3\\lib\\site-packages\\pandas\\core\\indexing.py:190: SettingWithCopyWarning: \n",
      "A value is trying to be set on a copy of a slice from a DataFrame\n",
      "\n",
      "See the caveats in the documentation: http://pandas.pydata.org/pandas-docs/stable/indexing.html#indexing-view-versus-copy\n",
      "  self._setitem_with_indexer(indexer, value)\n",
      "C:\\ProgramData\\Anaconda3\\lib\\site-packages\\pandas\\core\\indexing.py:190: SettingWithCopyWarning: \n",
      "A value is trying to be set on a copy of a slice from a DataFrame\n",
      "\n",
      "See the caveats in the documentation: http://pandas.pydata.org/pandas-docs/stable/indexing.html#indexing-view-versus-copy\n",
      "  self._setitem_with_indexer(indexer, value)\n"
     ]
    },
    {
     "name": "stdout",
     "output_type": "stream",
     "text": [
      "RECLTD {'Date': datetime.datetime(2020, 7, 31, 0, 0)}\n",
      "GAMMNINFRA {'Date': datetime.datetime(2020, 7, 1, 0, 0)}\n",
      "TWL {'Date': datetime.datetime(2020, 7, 31, 0, 0)}\n"
     ]
    },
    {
     "name": "stderr",
     "output_type": "stream",
     "text": [
      "C:\\ProgramData\\Anaconda3\\lib\\site-packages\\pandas\\core\\indexing.py:190: SettingWithCopyWarning: \n",
      "A value is trying to be set on a copy of a slice from a DataFrame\n",
      "\n",
      "See the caveats in the documentation: http://pandas.pydata.org/pandas-docs/stable/indexing.html#indexing-view-versus-copy\n",
      "  self._setitem_with_indexer(indexer, value)\n",
      "C:\\ProgramData\\Anaconda3\\lib\\site-packages\\pandas\\core\\indexing.py:190: SettingWithCopyWarning: \n",
      "A value is trying to be set on a copy of a slice from a DataFrame\n",
      "\n",
      "See the caveats in the documentation: http://pandas.pydata.org/pandas-docs/stable/indexing.html#indexing-view-versus-copy\n",
      "  self._setitem_with_indexer(indexer, value)\n"
     ]
    },
    {
     "name": "stdout",
     "output_type": "stream",
     "text": [
      "KIRIINDUS {'Date': datetime.datetime(2020, 7, 31, 0, 0)}\n",
      "BAJAJFINSV {'Date': datetime.datetime(2020, 7, 31, 0, 0)}\n"
     ]
    },
    {
     "name": "stderr",
     "output_type": "stream",
     "text": [
      "C:\\ProgramData\\Anaconda3\\lib\\site-packages\\pandas\\core\\indexing.py:190: SettingWithCopyWarning: \n",
      "A value is trying to be set on a copy of a slice from a DataFrame\n",
      "\n",
      "See the caveats in the documentation: http://pandas.pydata.org/pandas-docs/stable/indexing.html#indexing-view-versus-copy\n",
      "  self._setitem_with_indexer(indexer, value)\n",
      "C:\\ProgramData\\Anaconda3\\lib\\site-packages\\pandas\\core\\indexing.py:190: SettingWithCopyWarning: \n",
      "A value is trying to be set on a copy of a slice from a DataFrame\n",
      "\n",
      "See the caveats in the documentation: http://pandas.pydata.org/pandas-docs/stable/indexing.html#indexing-view-versus-copy\n",
      "  self._setitem_with_indexer(indexer, value)\n"
     ]
    },
    {
     "name": "stdout",
     "output_type": "stream",
     "text": [
      "BAJAJ-AUTO {'Date': datetime.datetime(2020, 7, 31, 0, 0)}\n",
      "RPGLIFE {'Date': datetime.datetime(2020, 7, 31, 0, 0)}\n"
     ]
    },
    {
     "name": "stderr",
     "output_type": "stream",
     "text": [
      "C:\\ProgramData\\Anaconda3\\lib\\site-packages\\pandas\\core\\indexing.py:190: SettingWithCopyWarning: \n",
      "A value is trying to be set on a copy of a slice from a DataFrame\n",
      "\n",
      "See the caveats in the documentation: http://pandas.pydata.org/pandas-docs/stable/indexing.html#indexing-view-versus-copy\n",
      "  self._setitem_with_indexer(indexer, value)\n",
      "C:\\ProgramData\\Anaconda3\\lib\\site-packages\\pandas\\core\\indexing.py:190: SettingWithCopyWarning: \n",
      "A value is trying to be set on a copy of a slice from a DataFrame\n",
      "\n",
      "See the caveats in the documentation: http://pandas.pydata.org/pandas-docs/stable/indexing.html#indexing-view-versus-copy\n",
      "  self._setitem_with_indexer(indexer, value)\n"
     ]
    },
    {
     "name": "stdout",
     "output_type": "stream",
     "text": [
      "RBL {'Date': datetime.datetime(2020, 7, 31, 0, 0)}\n",
      "RANEENGINE {'Date': datetime.datetime(2020, 7, 31, 0, 0)}\n"
     ]
    },
    {
     "name": "stderr",
     "output_type": "stream",
     "text": [
      "C:\\ProgramData\\Anaconda3\\lib\\site-packages\\pandas\\core\\indexing.py:190: SettingWithCopyWarning: \n",
      "A value is trying to be set on a copy of a slice from a DataFrame\n",
      "\n",
      "See the caveats in the documentation: http://pandas.pydata.org/pandas-docs/stable/indexing.html#indexing-view-versus-copy\n",
      "  self._setitem_with_indexer(indexer, value)\n",
      "C:\\ProgramData\\Anaconda3\\lib\\site-packages\\pandas\\core\\indexing.py:190: SettingWithCopyWarning: \n",
      "A value is trying to be set on a copy of a slice from a DataFrame\n",
      "\n",
      "See the caveats in the documentation: http://pandas.pydata.org/pandas-docs/stable/indexing.html#indexing-view-versus-copy\n",
      "  self._setitem_with_indexer(indexer, value)\n"
     ]
    },
    {
     "name": "stdout",
     "output_type": "stream",
     "text": [
      "ARCHIDPLY {'Date': datetime.datetime(2020, 7, 31, 0, 0)}\n",
      "LPDC {'Date': datetime.datetime(2020, 5, 6, 0, 0)}\n",
      "SICAGEN {'Date': datetime.datetime(2020, 7, 31, 0, 0)}\n"
     ]
    },
    {
     "name": "stderr",
     "output_type": "stream",
     "text": [
      "C:\\ProgramData\\Anaconda3\\lib\\site-packages\\pandas\\core\\indexing.py:190: SettingWithCopyWarning: \n",
      "A value is trying to be set on a copy of a slice from a DataFrame\n",
      "\n",
      "See the caveats in the documentation: http://pandas.pydata.org/pandas-docs/stable/indexing.html#indexing-view-versus-copy\n",
      "  self._setitem_with_indexer(indexer, value)\n",
      "C:\\ProgramData\\Anaconda3\\lib\\site-packages\\pandas\\core\\indexing.py:190: SettingWithCopyWarning: \n",
      "A value is trying to be set on a copy of a slice from a DataFrame\n",
      "\n",
      "See the caveats in the documentation: http://pandas.pydata.org/pandas-docs/stable/indexing.html#indexing-view-versus-copy\n",
      "  self._setitem_with_indexer(indexer, value)\n"
     ]
    },
    {
     "name": "stdout",
     "output_type": "stream",
     "text": [
      "20MICRONS {'Date': datetime.datetime(2020, 7, 31, 0, 0)}\n",
      "WABCOINDIA {'Date': datetime.datetime(2020, 7, 31, 0, 0)}\n"
     ]
    },
    {
     "name": "stderr",
     "output_type": "stream",
     "text": [
      "C:\\ProgramData\\Anaconda3\\lib\\site-packages\\pandas\\core\\indexing.py:190: SettingWithCopyWarning: \n",
      "A value is trying to be set on a copy of a slice from a DataFrame\n",
      "\n",
      "See the caveats in the documentation: http://pandas.pydata.org/pandas-docs/stable/indexing.html#indexing-view-versus-copy\n",
      "  self._setitem_with_indexer(indexer, value)\n",
      "C:\\ProgramData\\Anaconda3\\lib\\site-packages\\pandas\\core\\indexing.py:190: SettingWithCopyWarning: \n",
      "A value is trying to be set on a copy of a slice from a DataFrame\n",
      "\n",
      "See the caveats in the documentation: http://pandas.pydata.org/pandas-docs/stable/indexing.html#indexing-view-versus-copy\n",
      "  self._setitem_with_indexer(indexer, value)\n"
     ]
    },
    {
     "name": "stdout",
     "output_type": "stream",
     "text": [
      "ALKALI {'Date': datetime.datetime(2020, 7, 31, 0, 0)}\n",
      "IMFA {'Date': datetime.datetime(2020, 7, 31, 0, 0)}\n"
     ]
    },
    {
     "name": "stderr",
     "output_type": "stream",
     "text": [
      "C:\\ProgramData\\Anaconda3\\lib\\site-packages\\pandas\\core\\indexing.py:190: SettingWithCopyWarning: \n",
      "A value is trying to be set on a copy of a slice from a DataFrame\n",
      "\n",
      "See the caveats in the documentation: http://pandas.pydata.org/pandas-docs/stable/indexing.html#indexing-view-versus-copy\n",
      "  self._setitem_with_indexer(indexer, value)\n",
      "C:\\ProgramData\\Anaconda3\\lib\\site-packages\\pandas\\core\\indexing.py:190: SettingWithCopyWarning: \n",
      "A value is trying to be set on a copy of a slice from a DataFrame\n",
      "\n",
      "See the caveats in the documentation: http://pandas.pydata.org/pandas-docs/stable/indexing.html#indexing-view-versus-copy\n",
      "  self._setitem_with_indexer(indexer, value)\n"
     ]
    },
    {
     "name": "stdout",
     "output_type": "stream",
     "text": [
      "ARROWTEX {'Date': datetime.datetime(2020, 1, 1, 0, 0)}\n",
      "MHRIL {'Date': datetime.datetime(2020, 7, 31, 0, 0)}\n",
      "NHPC {'Date': datetime.datetime(2020, 7, 31, 0, 0)}\n"
     ]
    },
    {
     "name": "stderr",
     "output_type": "stream",
     "text": [
      "C:\\ProgramData\\Anaconda3\\lib\\site-packages\\pandas\\core\\indexing.py:190: SettingWithCopyWarning: \n",
      "A value is trying to be set on a copy of a slice from a DataFrame\n",
      "\n",
      "See the caveats in the documentation: http://pandas.pydata.org/pandas-docs/stable/indexing.html#indexing-view-versus-copy\n",
      "  self._setitem_with_indexer(indexer, value)\n",
      "C:\\ProgramData\\Anaconda3\\lib\\site-packages\\pandas\\core\\indexing.py:190: SettingWithCopyWarning: \n",
      "A value is trying to be set on a copy of a slice from a DataFrame\n",
      "\n",
      "See the caveats in the documentation: http://pandas.pydata.org/pandas-docs/stable/indexing.html#indexing-view-versus-copy\n",
      "  self._setitem_with_indexer(indexer, value)\n"
     ]
    },
    {
     "name": "stdout",
     "output_type": "stream",
     "text": [
      "GLOBUSSPR {'Date': datetime.datetime(2020, 7, 31, 0, 0)}\n",
      "OIL {'Date': datetime.datetime(2020, 7, 31, 0, 0)}\n"
     ]
    },
    {
     "name": "stderr",
     "output_type": "stream",
     "text": [
      "C:\\ProgramData\\Anaconda3\\lib\\site-packages\\pandas\\core\\indexing.py:190: SettingWithCopyWarning: \n",
      "A value is trying to be set on a copy of a slice from a DataFrame\n",
      "\n",
      "See the caveats in the documentation: http://pandas.pydata.org/pandas-docs/stable/indexing.html#indexing-view-versus-copy\n",
      "  self._setitem_with_indexer(indexer, value)\n",
      "C:\\ProgramData\\Anaconda3\\lib\\site-packages\\pandas\\core\\indexing.py:190: SettingWithCopyWarning: \n",
      "A value is trying to be set on a copy of a slice from a DataFrame\n",
      "\n",
      "See the caveats in the documentation: http://pandas.pydata.org/pandas-docs/stable/indexing.html#indexing-view-versus-copy\n",
      "  self._setitem_with_indexer(indexer, value)\n"
     ]
    },
    {
     "name": "stdout",
     "output_type": "stream",
     "text": [
      "RTNPOWER {'Date': datetime.datetime(2020, 7, 31, 0, 0)}\n",
      "DEN {'Date': datetime.datetime(2020, 7, 31, 0, 0)}\n"
     ]
    },
    {
     "name": "stderr",
     "output_type": "stream",
     "text": [
      "C:\\ProgramData\\Anaconda3\\lib\\site-packages\\pandas\\core\\indexing.py:190: SettingWithCopyWarning: \n",
      "A value is trying to be set on a copy of a slice from a DataFrame\n",
      "\n",
      "See the caveats in the documentation: http://pandas.pydata.org/pandas-docs/stable/indexing.html#indexing-view-versus-copy\n",
      "  self._setitem_with_indexer(indexer, value)\n",
      "C:\\ProgramData\\Anaconda3\\lib\\site-packages\\pandas\\core\\indexing.py:190: SettingWithCopyWarning: \n",
      "A value is trying to be set on a copy of a slice from a DataFrame\n",
      "\n",
      "See the caveats in the documentation: http://pandas.pydata.org/pandas-docs/stable/indexing.html#indexing-view-versus-copy\n",
      "  self._setitem_with_indexer(indexer, value)\n"
     ]
    },
    {
     "name": "stdout",
     "output_type": "stream",
     "text": [
      "ASTEC {'Date': datetime.datetime(2020, 7, 31, 0, 0)}\n",
      "COX&KINGS {'Date': datetime.datetime(2019, 12, 24, 0, 0)}\n",
      "DLINKINDIA {'Date': datetime.datetime(2020, 7, 31, 0, 0)}\n"
     ]
    },
    {
     "name": "stderr",
     "output_type": "stream",
     "text": [
      "C:\\ProgramData\\Anaconda3\\lib\\site-packages\\pandas\\core\\indexing.py:190: SettingWithCopyWarning: \n",
      "A value is trying to be set on a copy of a slice from a DataFrame\n",
      "\n",
      "See the caveats in the documentation: http://pandas.pydata.org/pandas-docs/stable/indexing.html#indexing-view-versus-copy\n",
      "  self._setitem_with_indexer(indexer, value)\n",
      "C:\\ProgramData\\Anaconda3\\lib\\site-packages\\pandas\\core\\indexing.py:190: SettingWithCopyWarning: \n",
      "A value is trying to be set on a copy of a slice from a DataFrame\n",
      "\n",
      "See the caveats in the documentation: http://pandas.pydata.org/pandas-docs/stable/indexing.html#indexing-view-versus-copy\n",
      "  self._setitem_with_indexer(indexer, value)\n"
     ]
    },
    {
     "name": "stdout",
     "output_type": "stream",
     "text": [
      "JSWENERGY {'Date': datetime.datetime(2020, 7, 31, 0, 0)}\n",
      "GODREJPROP {'Date': datetime.datetime(2020, 7, 31, 0, 0)}\n"
     ]
    },
    {
     "name": "stderr",
     "output_type": "stream",
     "text": [
      "C:\\ProgramData\\Anaconda3\\lib\\site-packages\\pandas\\core\\indexing.py:190: SettingWithCopyWarning: \n",
      "A value is trying to be set on a copy of a slice from a DataFrame\n",
      "\n",
      "See the caveats in the documentation: http://pandas.pydata.org/pandas-docs/stable/indexing.html#indexing-view-versus-copy\n",
      "  self._setitem_with_indexer(indexer, value)\n",
      "C:\\ProgramData\\Anaconda3\\lib\\site-packages\\pandas\\core\\indexing.py:190: SettingWithCopyWarning: \n",
      "A value is trying to be set on a copy of a slice from a DataFrame\n",
      "\n",
      "See the caveats in the documentation: http://pandas.pydata.org/pandas-docs/stable/indexing.html#indexing-view-versus-copy\n",
      "  self._setitem_with_indexer(indexer, value)\n"
     ]
    },
    {
     "name": "stdout",
     "output_type": "stream",
     "text": [
      "DBCORP {'Date': datetime.datetime(2020, 7, 31, 0, 0)}\n",
      "JUBLFOOD {'Date': datetime.datetime(2020, 7, 31, 0, 0)}\n"
     ]
    },
    {
     "name": "stderr",
     "output_type": "stream",
     "text": [
      "C:\\ProgramData\\Anaconda3\\lib\\site-packages\\pandas\\core\\indexing.py:190: SettingWithCopyWarning: \n",
      "A value is trying to be set on a copy of a slice from a DataFrame\n",
      "\n",
      "See the caveats in the documentation: http://pandas.pydata.org/pandas-docs/stable/indexing.html#indexing-view-versus-copy\n",
      "  self._setitem_with_indexer(indexer, value)\n",
      "C:\\ProgramData\\Anaconda3\\lib\\site-packages\\pandas\\core\\indexing.py:190: SettingWithCopyWarning: \n",
      "A value is trying to be set on a copy of a slice from a DataFrame\n",
      "\n",
      "See the caveats in the documentation: http://pandas.pydata.org/pandas-docs/stable/indexing.html#indexing-view-versus-copy\n",
      "  self._setitem_with_indexer(indexer, value)\n"
     ]
    },
    {
     "name": "stdout",
     "output_type": "stream",
     "text": [
      "VASCONEQ {'Date': datetime.datetime(2020, 7, 31, 0, 0)}\n",
      "THANGAMAYL {'Date': datetime.datetime(2020, 7, 31, 0, 0)}\n"
     ]
    },
    {
     "name": "stderr",
     "output_type": "stream",
     "text": [
      "C:\\ProgramData\\Anaconda3\\lib\\site-packages\\pandas\\core\\indexing.py:190: SettingWithCopyWarning: \n",
      "A value is trying to be set on a copy of a slice from a DataFrame\n",
      "\n",
      "See the caveats in the documentation: http://pandas.pydata.org/pandas-docs/stable/indexing.html#indexing-view-versus-copy\n",
      "  self._setitem_with_indexer(indexer, value)\n",
      "C:\\ProgramData\\Anaconda3\\lib\\site-packages\\pandas\\core\\indexing.py:190: SettingWithCopyWarning: \n",
      "A value is trying to be set on a copy of a slice from a DataFrame\n",
      "\n",
      "See the caveats in the documentation: http://pandas.pydata.org/pandas-docs/stable/indexing.html#indexing-view-versus-copy\n",
      "  self._setitem_with_indexer(indexer, value)\n"
     ]
    },
    {
     "name": "stdout",
     "output_type": "stream",
     "text": [
      "EMMBI {'Date': datetime.datetime(2020, 7, 31, 0, 0)}\n",
      "HATHWAY {'Date': datetime.datetime(2020, 7, 22, 0, 0)}\n",
      "TEXMOPIPES {'Date': datetime.datetime(2020, 7, 31, 0, 0)}\n"
     ]
    },
    {
     "name": "stderr",
     "output_type": "stream",
     "text": [
      "C:\\ProgramData\\Anaconda3\\lib\\site-packages\\pandas\\core\\indexing.py:190: SettingWithCopyWarning: \n",
      "A value is trying to be set on a copy of a slice from a DataFrame\n",
      "\n",
      "See the caveats in the documentation: http://pandas.pydata.org/pandas-docs/stable/indexing.html#indexing-view-versus-copy\n",
      "  self._setitem_with_indexer(indexer, value)\n",
      "C:\\ProgramData\\Anaconda3\\lib\\site-packages\\pandas\\core\\indexing.py:190: SettingWithCopyWarning: \n",
      "A value is trying to be set on a copy of a slice from a DataFrame\n",
      "\n",
      "See the caveats in the documentation: http://pandas.pydata.org/pandas-docs/stable/indexing.html#indexing-view-versus-copy\n",
      "  self._setitem_with_indexer(indexer, value)\n"
     ]
    },
    {
     "name": "stdout",
     "output_type": "stream",
     "text": [
      "SUNDARAM {'Date': datetime.datetime(2020, 7, 1, 0, 0)}\n",
      "ROSSELLIND {'Date': datetime.datetime(2020, 7, 31, 0, 0)}\n",
      "MANINFRA {'Date': datetime.datetime(2020, 7, 31, 0, 0)}\n"
     ]
    },
    {
     "name": "stderr",
     "output_type": "stream",
     "text": [
      "C:\\ProgramData\\Anaconda3\\lib\\site-packages\\pandas\\core\\indexing.py:190: SettingWithCopyWarning: \n",
      "A value is trying to be set on a copy of a slice from a DataFrame\n",
      "\n",
      "See the caveats in the documentation: http://pandas.pydata.org/pandas-docs/stable/indexing.html#indexing-view-versus-copy\n",
      "  self._setitem_with_indexer(indexer, value)\n",
      "C:\\ProgramData\\Anaconda3\\lib\\site-packages\\pandas\\core\\indexing.py:190: SettingWithCopyWarning: \n",
      "A value is trying to be set on a copy of a slice from a DataFrame\n",
      "\n",
      "See the caveats in the documentation: http://pandas.pydata.org/pandas-docs/stable/indexing.html#indexing-view-versus-copy\n",
      "  self._setitem_with_indexer(indexer, value)\n"
     ]
    },
    {
     "name": "stdout",
     "output_type": "stream",
     "text": [
      "UNITEDBNK {'Date': datetime.datetime(2020, 3, 20, 0, 0)}\n",
      "PERSISTENT {'Date': datetime.datetime(2020, 7, 31, 0, 0)}\n",
      "ISFT {'Date': datetime.datetime(2020, 5, 26, 0, 0)}\n",
      "KCPSUGIND {'Date': datetime.datetime(2020, 7, 31, 0, 0)}\n"
     ]
    },
    {
     "name": "stderr",
     "output_type": "stream",
     "text": [
      "C:\\ProgramData\\Anaconda3\\lib\\site-packages\\pandas\\core\\indexing.py:190: SettingWithCopyWarning: \n",
      "A value is trying to be set on a copy of a slice from a DataFrame\n",
      "\n",
      "See the caveats in the documentation: http://pandas.pydata.org/pandas-docs/stable/indexing.html#indexing-view-versus-copy\n",
      "  self._setitem_with_indexer(indexer, value)\n",
      "C:\\ProgramData\\Anaconda3\\lib\\site-packages\\pandas\\core\\indexing.py:190: SettingWithCopyWarning: \n",
      "A value is trying to be set on a copy of a slice from a DataFrame\n",
      "\n",
      "See the caveats in the documentation: http://pandas.pydata.org/pandas-docs/stable/indexing.html#indexing-view-versus-copy\n",
      "  self._setitem_with_indexer(indexer, value)\n"
     ]
    },
    {
     "name": "stdout",
     "output_type": "stream",
     "text": [
      "KECL {'Date': datetime.datetime(2020, 7, 31, 0, 0)}\n",
      "TALWALKARS {'Date': datetime.datetime(2020, 2, 20, 0, 0)}\n",
      "SJVN {'Date': datetime.datetime(2020, 7, 31, 0, 0)}\n"
     ]
    },
    {
     "name": "stderr",
     "output_type": "stream",
     "text": [
      "C:\\ProgramData\\Anaconda3\\lib\\site-packages\\pandas\\core\\indexing.py:190: SettingWithCopyWarning: \n",
      "A value is trying to be set on a copy of a slice from a DataFrame\n",
      "\n",
      "See the caveats in the documentation: http://pandas.pydata.org/pandas-docs/stable/indexing.html#indexing-view-versus-copy\n",
      "  self._setitem_with_indexer(indexer, value)\n",
      "C:\\ProgramData\\Anaconda3\\lib\\site-packages\\pandas\\core\\indexing.py:190: SettingWithCopyWarning: \n",
      "A value is trying to be set on a copy of a slice from a DataFrame\n",
      "\n",
      "See the caveats in the documentation: http://pandas.pydata.org/pandas-docs/stable/indexing.html#indexing-view-versus-copy\n",
      "  self._setitem_with_indexer(indexer, value)\n"
     ]
    },
    {
     "name": "stdout",
     "output_type": "stream",
     "text": [
      "HMVL {'Date': datetime.datetime(2020, 7, 31, 0, 0)}\n",
      "AHLEAST {'Date': datetime.datetime(2020, 7, 31, 0, 0)}\n"
     ]
    },
    {
     "name": "stderr",
     "output_type": "stream",
     "text": [
      "C:\\ProgramData\\Anaconda3\\lib\\site-packages\\pandas\\core\\indexing.py:190: SettingWithCopyWarning: \n",
      "A value is trying to be set on a copy of a slice from a DataFrame\n",
      "\n",
      "See the caveats in the documentation: http://pandas.pydata.org/pandas-docs/stable/indexing.html#indexing-view-versus-copy\n",
      "  self._setitem_with_indexer(indexer, value)\n",
      "C:\\ProgramData\\Anaconda3\\lib\\site-packages\\pandas\\core\\indexing.py:190: SettingWithCopyWarning: \n",
      "A value is trying to be set on a copy of a slice from a DataFrame\n",
      "\n",
      "See the caveats in the documentation: http://pandas.pydata.org/pandas-docs/stable/indexing.html#indexing-view-versus-copy\n",
      "  self._setitem_with_indexer(indexer, value)\n"
     ]
    },
    {
     "name": "stdout",
     "output_type": "stream",
     "text": [
      "GPPL {'Date': datetime.datetime(2020, 7, 31, 0, 0)}\n",
      "WELINV {'Date': datetime.datetime(2020, 7, 31, 0, 0)}\n"
     ]
    },
    {
     "name": "stderr",
     "output_type": "stream",
     "text": [
      "C:\\ProgramData\\Anaconda3\\lib\\site-packages\\pandas\\core\\indexing.py:190: SettingWithCopyWarning: \n",
      "A value is trying to be set on a copy of a slice from a DataFrame\n",
      "\n",
      "See the caveats in the documentation: http://pandas.pydata.org/pandas-docs/stable/indexing.html#indexing-view-versus-copy\n",
      "  self._setitem_with_indexer(indexer, value)\n",
      "C:\\ProgramData\\Anaconda3\\lib\\site-packages\\pandas\\core\\indexing.py:190: SettingWithCopyWarning: \n",
      "A value is trying to be set on a copy of a slice from a DataFrame\n",
      "\n",
      "See the caveats in the documentation: http://pandas.pydata.org/pandas-docs/stable/indexing.html#indexing-view-versus-copy\n",
      "  self._setitem_with_indexer(indexer, value)\n"
     ]
    },
    {
     "name": "stdout",
     "output_type": "stream",
     "text": [
      "EROSMEDIA {'Date': datetime.datetime(2020, 7, 31, 0, 0)}\n",
      "RAMKY {'Date': datetime.datetime(2020, 7, 31, 0, 0)}\n"
     ]
    },
    {
     "name": "stderr",
     "output_type": "stream",
     "text": [
      "C:\\ProgramData\\Anaconda3\\lib\\site-packages\\pandas\\core\\indexing.py:190: SettingWithCopyWarning: \n",
      "A value is trying to be set on a copy of a slice from a DataFrame\n",
      "\n",
      "See the caveats in the documentation: http://pandas.pydata.org/pandas-docs/stable/indexing.html#indexing-view-versus-copy\n",
      "  self._setitem_with_indexer(indexer, value)\n",
      "C:\\ProgramData\\Anaconda3\\lib\\site-packages\\pandas\\core\\indexing.py:190: SettingWithCopyWarning: \n",
      "A value is trying to be set on a copy of a slice from a DataFrame\n",
      "\n",
      "See the caveats in the documentation: http://pandas.pydata.org/pandas-docs/stable/indexing.html#indexing-view-versus-copy\n",
      "  self._setitem_with_indexer(indexer, value)\n"
     ]
    },
    {
     "name": "stdout",
     "output_type": "stream",
     "text": [
      "CAREERP {'Date': datetime.datetime(2020, 7, 31, 0, 0)}\n",
      "CANTABIL {'Date': datetime.datetime(2020, 7, 31, 0, 0)}\n"
     ]
    },
    {
     "name": "stderr",
     "output_type": "stream",
     "text": [
      "C:\\ProgramData\\Anaconda3\\lib\\site-packages\\pandas\\core\\indexing.py:190: SettingWithCopyWarning: \n",
      "A value is trying to be set on a copy of a slice from a DataFrame\n",
      "\n",
      "See the caveats in the documentation: http://pandas.pydata.org/pandas-docs/stable/indexing.html#indexing-view-versus-copy\n",
      "  self._setitem_with_indexer(indexer, value)\n",
      "C:\\ProgramData\\Anaconda3\\lib\\site-packages\\pandas\\core\\indexing.py:190: SettingWithCopyWarning: \n",
      "A value is trying to be set on a copy of a slice from a DataFrame\n",
      "\n",
      "See the caveats in the documentation: http://pandas.pydata.org/pandas-docs/stable/indexing.html#indexing-view-versus-copy\n",
      "  self._setitem_with_indexer(indexer, value)\n"
     ]
    },
    {
     "name": "stdout",
     "output_type": "stream",
     "text": [
      "WABAG {'Date': datetime.datetime(2020, 7, 31, 0, 0)}\n",
      "ASHOKA {'Date': datetime.datetime(2020, 7, 31, 0, 0)}\n"
     ]
    },
    {
     "name": "stderr",
     "output_type": "stream",
     "text": [
      "C:\\ProgramData\\Anaconda3\\lib\\site-packages\\pandas\\core\\indexing.py:190: SettingWithCopyWarning: \n",
      "A value is trying to be set on a copy of a slice from a DataFrame\n",
      "\n",
      "See the caveats in the documentation: http://pandas.pydata.org/pandas-docs/stable/indexing.html#indexing-view-versus-copy\n",
      "  self._setitem_with_indexer(indexer, value)\n",
      "C:\\ProgramData\\Anaconda3\\lib\\site-packages\\pandas\\core\\indexing.py:190: SettingWithCopyWarning: \n",
      "A value is trying to be set on a copy of a slice from a DataFrame\n",
      "\n",
      "See the caveats in the documentation: http://pandas.pydata.org/pandas-docs/stable/indexing.html#indexing-view-versus-copy\n",
      "  self._setitem_with_indexer(indexer, value)\n"
     ]
    },
    {
     "name": "stdout",
     "output_type": "stream",
     "text": [
      "OBEROIRLTY {'Date': datetime.datetime(2020, 7, 31, 0, 0)}\n",
      "PRESTIGE {'Date': datetime.datetime(2020, 7, 31, 0, 0)}\n"
     ]
    },
    {
     "name": "stderr",
     "output_type": "stream",
     "text": [
      "C:\\ProgramData\\Anaconda3\\lib\\site-packages\\pandas\\core\\indexing.py:190: SettingWithCopyWarning: \n",
      "A value is trying to be set on a copy of a slice from a DataFrame\n",
      "\n",
      "See the caveats in the documentation: http://pandas.pydata.org/pandas-docs/stable/indexing.html#indexing-view-versus-copy\n",
      "  self._setitem_with_indexer(indexer, value)\n",
      "C:\\ProgramData\\Anaconda3\\lib\\site-packages\\pandas\\core\\indexing.py:190: SettingWithCopyWarning: \n",
      "A value is trying to be set on a copy of a slice from a DataFrame\n",
      "\n",
      "See the caveats in the documentation: http://pandas.pydata.org/pandas-docs/stable/indexing.html#indexing-view-versus-copy\n",
      "  self._setitem_with_indexer(indexer, value)\n"
     ]
    },
    {
     "name": "stdout",
     "output_type": "stream",
     "text": [
      "COALINDIA {'Date': datetime.datetime(2020, 7, 31, 0, 0)}\n",
      "GRAVITA {'Date': datetime.datetime(2020, 7, 31, 0, 0)}\n"
     ]
    },
    {
     "name": "stderr",
     "output_type": "stream",
     "text": [
      "C:\\ProgramData\\Anaconda3\\lib\\site-packages\\pandas\\core\\indexing.py:190: SettingWithCopyWarning: \n",
      "A value is trying to be set on a copy of a slice from a DataFrame\n",
      "\n",
      "See the caveats in the documentation: http://pandas.pydata.org/pandas-docs/stable/indexing.html#indexing-view-versus-copy\n",
      "  self._setitem_with_indexer(indexer, value)\n",
      "C:\\ProgramData\\Anaconda3\\lib\\site-packages\\pandas\\core\\indexing.py:190: SettingWithCopyWarning: \n",
      "A value is trying to be set on a copy of a slice from a DataFrame\n",
      "\n",
      "See the caveats in the documentation: http://pandas.pydata.org/pandas-docs/stable/indexing.html#indexing-view-versus-copy\n",
      "  self._setitem_with_indexer(indexer, value)\n"
     ]
    },
    {
     "name": "stdout",
     "output_type": "stream",
     "text": [
      "RPPINFRA {'Date': datetime.datetime(2020, 7, 31, 0, 0)}\n",
      "MOIL {'Date': datetime.datetime(2020, 7, 31, 0, 0)}\n"
     ]
    },
    {
     "name": "stderr",
     "output_type": "stream",
     "text": [
      "C:\\ProgramData\\Anaconda3\\lib\\site-packages\\pandas\\core\\indexing.py:190: SettingWithCopyWarning: \n",
      "A value is trying to be set on a copy of a slice from a DataFrame\n",
      "\n",
      "See the caveats in the documentation: http://pandas.pydata.org/pandas-docs/stable/indexing.html#indexing-view-versus-copy\n",
      "  self._setitem_with_indexer(indexer, value)\n",
      "C:\\ProgramData\\Anaconda3\\lib\\site-packages\\pandas\\core\\indexing.py:190: SettingWithCopyWarning: \n",
      "A value is trying to be set on a copy of a slice from a DataFrame\n",
      "\n",
      "See the caveats in the documentation: http://pandas.pydata.org/pandas-docs/stable/indexing.html#indexing-view-versus-copy\n",
      "  self._setitem_with_indexer(indexer, value)\n"
     ]
    },
    {
     "name": "stdout",
     "output_type": "stream",
     "text": [
      "ZEELEARN {'Date': datetime.datetime(2020, 7, 31, 0, 0)}\n"
     ]
    },
    {
     "name": "stderr",
     "output_type": "stream",
     "text": [
      "C:\\ProgramData\\Anaconda3\\lib\\site-packages\\pandas\\core\\indexing.py:190: SettingWithCopyWarning: \n",
      "A value is trying to be set on a copy of a slice from a DataFrame\n",
      "\n",
      "See the caveats in the documentation: http://pandas.pydata.org/pandas-docs/stable/indexing.html#indexing-view-versus-copy\n",
      "  self._setitem_with_indexer(indexer, value)\n"
     ]
    },
    {
     "name": "stdout",
     "output_type": "stream",
     "text": [
      "KTIL {'Date': datetime.datetime(2019, 12, 30, 0, 0)}\n",
      "A2ZINFRA {'Date': datetime.datetime(2020, 7, 31, 0, 0)}\n",
      "KIRLOSENG"
     ]
    },
    {
     "name": "stderr",
     "output_type": "stream",
     "text": [
      "C:\\ProgramData\\Anaconda3\\lib\\site-packages\\pandas\\core\\indexing.py:190: SettingWithCopyWarning: \n",
      "A value is trying to be set on a copy of a slice from a DataFrame\n",
      "\n",
      "See the caveats in the documentation: http://pandas.pydata.org/pandas-docs/stable/indexing.html#indexing-view-versus-copy\n",
      "  self._setitem_with_indexer(indexer, value)\n",
      "C:\\ProgramData\\Anaconda3\\lib\\site-packages\\pandas\\core\\indexing.py:190: SettingWithCopyWarning: \n",
      "A value is trying to be set on a copy of a slice from a DataFrame\n",
      "\n",
      "See the caveats in the documentation: http://pandas.pydata.org/pandas-docs/stable/indexing.html#indexing-view-versus-copy\n",
      "  self._setitem_with_indexer(indexer, value)\n"
     ]
    },
    {
     "name": "stdout",
     "output_type": "stream",
     "text": [
      " {'Date': datetime.datetime(2020, 7, 31, 0, 0)}\n",
      "PSB {'Date': datetime.datetime(2020, 7, 31, 0, 0)}\n"
     ]
    },
    {
     "name": "stderr",
     "output_type": "stream",
     "text": [
      "C:\\ProgramData\\Anaconda3\\lib\\site-packages\\pandas\\core\\indexing.py:190: SettingWithCopyWarning: \n",
      "A value is trying to be set on a copy of a slice from a DataFrame\n",
      "\n",
      "See the caveats in the documentation: http://pandas.pydata.org/pandas-docs/stable/indexing.html#indexing-view-versus-copy\n",
      "  self._setitem_with_indexer(indexer, value)\n",
      "C:\\ProgramData\\Anaconda3\\lib\\site-packages\\pandas\\core\\indexing.py:190: SettingWithCopyWarning: \n",
      "A value is trying to be set on a copy of a slice from a DataFrame\n",
      "\n",
      "See the caveats in the documentation: http://pandas.pydata.org/pandas-docs/stable/indexing.html#indexing-view-versus-copy\n",
      "  self._setitem_with_indexer(indexer, value)\n"
     ]
    },
    {
     "name": "stdout",
     "output_type": "stream",
     "text": [
      "FMNL {'Date': datetime.datetime(2020, 7, 31, 0, 0)}\n",
      "KICL {'Date': datetime.datetime(2020, 7, 31, 0, 0)}\n"
     ]
    },
    {
     "name": "stderr",
     "output_type": "stream",
     "text": [
      "C:\\ProgramData\\Anaconda3\\lib\\site-packages\\pandas\\core\\indexing.py:190: SettingWithCopyWarning: \n",
      "A value is trying to be set on a copy of a slice from a DataFrame\n",
      "\n",
      "See the caveats in the documentation: http://pandas.pydata.org/pandas-docs/stable/indexing.html#indexing-view-versus-copy\n",
      "  self._setitem_with_indexer(indexer, value)\n",
      "C:\\ProgramData\\Anaconda3\\lib\\site-packages\\pandas\\core\\indexing.py:190: SettingWithCopyWarning: \n",
      "A value is trying to be set on a copy of a slice from a DataFrame\n",
      "\n",
      "See the caveats in the documentation: http://pandas.pydata.org/pandas-docs/stable/indexing.html#indexing-view-versus-copy\n",
      "  self._setitem_with_indexer(indexer, value)\n"
     ]
    },
    {
     "name": "stdout",
     "output_type": "stream",
     "text": [
      "BFINVEST {'Date': datetime.datetime(2020, 7, 31, 0, 0)}\n",
      "OMKARCHEM {'Date': datetime.datetime(2020, 5, 6, 0, 0)}\n",
      "JUBLINDS {'Date': datetime.datetime(2020, 7, 31, 0, 0)}\n"
     ]
    },
    {
     "name": "stderr",
     "output_type": "stream",
     "text": [
      "C:\\ProgramData\\Anaconda3\\lib\\site-packages\\pandas\\core\\indexing.py:190: SettingWithCopyWarning: \n",
      "A value is trying to be set on a copy of a slice from a DataFrame\n",
      "\n",
      "See the caveats in the documentation: http://pandas.pydata.org/pandas-docs/stable/indexing.html#indexing-view-versus-copy\n",
      "  self._setitem_with_indexer(indexer, value)\n",
      "C:\\ProgramData\\Anaconda3\\lib\\site-packages\\pandas\\core\\indexing.py:190: SettingWithCopyWarning: \n",
      "A value is trying to be set on a copy of a slice from a DataFrame\n",
      "\n",
      "See the caveats in the documentation: http://pandas.pydata.org/pandas-docs/stable/indexing.html#indexing-view-versus-copy\n",
      "  self._setitem_with_indexer(indexer, value)\n"
     ]
    },
    {
     "name": "stdout",
     "output_type": "stream",
     "text": [
      "TEXRAIL {'Date': datetime.datetime(2020, 7, 31, 0, 0)}\n",
      "INDTERRAIN {'Date': datetime.datetime(2020, 7, 31, 0, 0)}\n"
     ]
    },
    {
     "name": "stderr",
     "output_type": "stream",
     "text": [
      "C:\\ProgramData\\Anaconda3\\lib\\site-packages\\pandas\\core\\indexing.py:190: SettingWithCopyWarning: \n",
      "A value is trying to be set on a copy of a slice from a DataFrame\n",
      "\n",
      "See the caveats in the documentation: http://pandas.pydata.org/pandas-docs/stable/indexing.html#indexing-view-versus-copy\n",
      "  self._setitem_with_indexer(indexer, value)\n",
      "C:\\ProgramData\\Anaconda3\\lib\\site-packages\\pandas\\core\\indexing.py:190: SettingWithCopyWarning: \n",
      "A value is trying to be set on a copy of a slice from a DataFrame\n",
      "\n",
      "See the caveats in the documentation: http://pandas.pydata.org/pandas-docs/stable/indexing.html#indexing-view-versus-copy\n",
      "  self._setitem_with_indexer(indexer, value)\n"
     ]
    },
    {
     "name": "stdout",
     "output_type": "stream",
     "text": [
      "FCL {'Date': datetime.datetime(2020, 7, 31, 0, 0)}\n",
      "DHUNINV {'Date': datetime.datetime(2020, 7, 31, 0, 0)}\n"
     ]
    },
    {
     "name": "stderr",
     "output_type": "stream",
     "text": [
      "C:\\ProgramData\\Anaconda3\\lib\\site-packages\\pandas\\core\\indexing.py:190: SettingWithCopyWarning: \n",
      "A value is trying to be set on a copy of a slice from a DataFrame\n",
      "\n",
      "See the caveats in the documentation: http://pandas.pydata.org/pandas-docs/stable/indexing.html#indexing-view-versus-copy\n",
      "  self._setitem_with_indexer(indexer, value)\n",
      "C:\\ProgramData\\Anaconda3\\lib\\site-packages\\pandas\\core\\indexing.py:190: SettingWithCopyWarning: \n",
      "A value is trying to be set on a copy of a slice from a DataFrame\n",
      "\n",
      "See the caveats in the documentation: http://pandas.pydata.org/pandas-docs/stable/indexing.html#indexing-view-versus-copy\n",
      "  self._setitem_with_indexer(indexer, value)\n"
     ]
    },
    {
     "name": "stdout",
     "output_type": "stream",
     "text": [
      "LOVABLE {'Date': datetime.datetime(2020, 7, 31, 0, 0)}\n",
      "PFS {'Date': datetime.datetime(2020, 7, 31, 0, 0)}\n"
     ]
    },
    {
     "name": "stderr",
     "output_type": "stream",
     "text": [
      "C:\\ProgramData\\Anaconda3\\lib\\site-packages\\pandas\\core\\indexing.py:190: SettingWithCopyWarning: \n",
      "A value is trying to be set on a copy of a slice from a DataFrame\n",
      "\n",
      "See the caveats in the documentation: http://pandas.pydata.org/pandas-docs/stable/indexing.html#indexing-view-versus-copy\n",
      "  self._setitem_with_indexer(indexer, value)\n",
      "C:\\ProgramData\\Anaconda3\\lib\\site-packages\\pandas\\core\\indexing.py:190: SettingWithCopyWarning: \n",
      "A value is trying to be set on a copy of a slice from a DataFrame\n",
      "\n",
      "See the caveats in the documentation: http://pandas.pydata.org/pandas-docs/stable/indexing.html#indexing-view-versus-copy\n",
      "  self._setitem_with_indexer(indexer, value)\n"
     ]
    },
    {
     "name": "stdout",
     "output_type": "stream",
     "text": [
      "MUTHOOTFIN {'Date': datetime.datetime(2020, 7, 31, 0, 0)}\n",
      "KARMAENG {'Date': datetime.datetime(2020, 7, 31, 0, 0)}\n"
     ]
    },
    {
     "name": "stderr",
     "output_type": "stream",
     "text": [
      "C:\\ProgramData\\Anaconda3\\lib\\site-packages\\pandas\\core\\indexing.py:190: SettingWithCopyWarning: \n",
      "A value is trying to be set on a copy of a slice from a DataFrame\n",
      "\n",
      "See the caveats in the documentation: http://pandas.pydata.org/pandas-docs/stable/indexing.html#indexing-view-versus-copy\n",
      "  self._setitem_with_indexer(indexer, value)\n",
      "C:\\ProgramData\\Anaconda3\\lib\\site-packages\\pandas\\core\\indexing.py:190: SettingWithCopyWarning: \n",
      "A value is trying to be set on a copy of a slice from a DataFrame\n",
      "\n",
      "See the caveats in the documentation: http://pandas.pydata.org/pandas-docs/stable/indexing.html#indexing-view-versus-copy\n",
      "  self._setitem_with_indexer(indexer, value)\n"
     ]
    },
    {
     "name": "stdout",
     "output_type": "stream",
     "text": [
      "WEIZFOREX {'Date': datetime.datetime(2020, 2, 26, 0, 0)}\n",
      "RUSHIL {'Date': datetime.datetime(2020, 7, 31, 0, 0)}\n",
      "INVENTURE {'Date': datetime.datetime(2020, 7, 31, 0, 0)}\n"
     ]
    },
    {
     "name": "stderr",
     "output_type": "stream",
     "text": [
      "C:\\ProgramData\\Anaconda3\\lib\\site-packages\\pandas\\core\\indexing.py:190: SettingWithCopyWarning: \n",
      "A value is trying to be set on a copy of a slice from a DataFrame\n",
      "\n",
      "See the caveats in the documentation: http://pandas.pydata.org/pandas-docs/stable/indexing.html#indexing-view-versus-copy\n",
      "  self._setitem_with_indexer(indexer, value)\n",
      "C:\\ProgramData\\Anaconda3\\lib\\site-packages\\pandas\\core\\indexing.py:190: SettingWithCopyWarning: \n",
      "A value is trying to be set on a copy of a slice from a DataFrame\n",
      "\n",
      "See the caveats in the documentation: http://pandas.pydata.org/pandas-docs/stable/indexing.html#indexing-view-versus-copy\n",
      "  self._setitem_with_indexer(indexer, value)\n"
     ]
    },
    {
     "name": "stdout",
     "output_type": "stream",
     "text": [
      "L&TFH {'Date': datetime.datetime(2020, 7, 31, 0, 0)}\n",
      "BROOKS {'Date': datetime.datetime(2020, 5, 6, 0, 0)}\n",
      "RUPA {'Date': datetime.datetime(2020, 7, 31, 0, 0)}\n"
     ]
    },
    {
     "name": "stderr",
     "output_type": "stream",
     "text": [
      "C:\\ProgramData\\Anaconda3\\lib\\site-packages\\pandas\\core\\indexing.py:190: SettingWithCopyWarning: \n",
      "A value is trying to be set on a copy of a slice from a DataFrame\n",
      "\n",
      "See the caveats in the documentation: http://pandas.pydata.org/pandas-docs/stable/indexing.html#indexing-view-versus-copy\n",
      "  self._setitem_with_indexer(indexer, value)\n",
      "C:\\ProgramData\\Anaconda3\\lib\\site-packages\\pandas\\core\\indexing.py:190: SettingWithCopyWarning: \n",
      "A value is trying to be set on a copy of a slice from a DataFrame\n",
      "\n",
      "See the caveats in the documentation: http://pandas.pydata.org/pandas-docs/stable/indexing.html#indexing-view-versus-copy\n",
      "  self._setitem_with_indexer(indexer, value)\n"
     ]
    },
    {
     "name": "stdout",
     "output_type": "stream",
     "text": [
      "TDPOWERSYS {'Date': datetime.datetime(2020, 7, 31, 0, 0)}\n",
      "APLLTD {'Date': datetime.datetime(2020, 7, 31, 0, 0)}\n"
     ]
    },
    {
     "name": "stderr",
     "output_type": "stream",
     "text": [
      "C:\\ProgramData\\Anaconda3\\lib\\site-packages\\pandas\\core\\indexing.py:190: SettingWithCopyWarning: \n",
      "A value is trying to be set on a copy of a slice from a DataFrame\n",
      "\n",
      "See the caveats in the documentation: http://pandas.pydata.org/pandas-docs/stable/indexing.html#indexing-view-versus-copy\n",
      "  self._setitem_with_indexer(indexer, value)\n",
      "C:\\ProgramData\\Anaconda3\\lib\\site-packages\\pandas\\core\\indexing.py:190: SettingWithCopyWarning: \n",
      "A value is trying to be set on a copy of a slice from a DataFrame\n",
      "\n",
      "See the caveats in the documentation: http://pandas.pydata.org/pandas-docs/stable/indexing.html#indexing-view-versus-copy\n",
      "  self._setitem_with_indexer(indexer, value)\n"
     ]
    },
    {
     "name": "stdout",
     "output_type": "stream",
     "text": [
      "VASWANI {'Date': datetime.datetime(2020, 6, 17, 0, 0)}\n",
      "PGEL {'Date': datetime.datetime(2020, 7, 31, 0, 0)}\n",
      "UJAAS {'Date': datetime.datetime(2020, 7, 31, 0, 0)}\n"
     ]
    },
    {
     "name": "stderr",
     "output_type": "stream",
     "text": [
      "C:\\ProgramData\\Anaconda3\\lib\\site-packages\\pandas\\core\\indexing.py:190: SettingWithCopyWarning: \n",
      "A value is trying to be set on a copy of a slice from a DataFrame\n",
      "\n",
      "See the caveats in the documentation: http://pandas.pydata.org/pandas-docs/stable/indexing.html#indexing-view-versus-copy\n",
      "  self._setitem_with_indexer(indexer, value)\n",
      "C:\\ProgramData\\Anaconda3\\lib\\site-packages\\pandas\\core\\indexing.py:190: SettingWithCopyWarning: \n",
      "A value is trying to be set on a copy of a slice from a DataFrame\n",
      "\n",
      "See the caveats in the documentation: http://pandas.pydata.org/pandas-docs/stable/indexing.html#indexing-view-versus-copy\n",
      "  self._setitem_with_indexer(indexer, value)\n"
     ]
    },
    {
     "name": "stdout",
     "output_type": "stream",
     "text": [
      "ORIENTREF {'Date': datetime.datetime(2020, 7, 31, 0, 0)}\n",
      "MCX {'Date': datetime.datetime(2020, 7, 31, 0, 0)}\n"
     ]
    },
    {
     "name": "stderr",
     "output_type": "stream",
     "text": [
      "C:\\ProgramData\\Anaconda3\\lib\\site-packages\\pandas\\core\\indexing.py:190: SettingWithCopyWarning: \n",
      "A value is trying to be set on a copy of a slice from a DataFrame\n",
      "\n",
      "See the caveats in the documentation: http://pandas.pydata.org/pandas-docs/stable/indexing.html#indexing-view-versus-copy\n",
      "  self._setitem_with_indexer(indexer, value)\n",
      "C:\\ProgramData\\Anaconda3\\lib\\site-packages\\pandas\\core\\indexing.py:190: SettingWithCopyWarning: \n",
      "A value is trying to be set on a copy of a slice from a DataFrame\n",
      "\n",
      "See the caveats in the documentation: http://pandas.pydata.org/pandas-docs/stable/indexing.html#indexing-view-versus-copy\n",
      "  self._setitem_with_indexer(indexer, value)\n"
     ]
    },
    {
     "name": "stdout",
     "output_type": "stream",
     "text": [
      "SCHNEIDER {'Date': datetime.datetime(2020, 7, 31, 0, 0)}\n",
      "NBCC {'Date': datetime.datetime(2020, 7, 31, 0, 0)}\n"
     ]
    },
    {
     "name": "stderr",
     "output_type": "stream",
     "text": [
      "C:\\ProgramData\\Anaconda3\\lib\\site-packages\\pandas\\core\\indexing.py:190: SettingWithCopyWarning: \n",
      "A value is trying to be set on a copy of a slice from a DataFrame\n",
      "\n",
      "See the caveats in the documentation: http://pandas.pydata.org/pandas-docs/stable/indexing.html#indexing-view-versus-copy\n",
      "  self._setitem_with_indexer(indexer, value)\n",
      "C:\\ProgramData\\Anaconda3\\lib\\site-packages\\pandas\\core\\indexing.py:190: SettingWithCopyWarning: \n",
      "A value is trying to be set on a copy of a slice from a DataFrame\n",
      "\n",
      "See the caveats in the documentation: http://pandas.pydata.org/pandas-docs/stable/indexing.html#indexing-view-versus-copy\n",
      "  self._setitem_with_indexer(indexer, value)\n"
     ]
    },
    {
     "name": "stdout",
     "output_type": "stream",
     "text": [
      "MTEDUCARE {'Date': datetime.datetime(2020, 7, 31, 0, 0)}\n",
      "TBZ {'Date': datetime.datetime(2020, 7, 31, 0, 0)}\n"
     ]
    },
    {
     "name": "stderr",
     "output_type": "stream",
     "text": [
      "C:\\ProgramData\\Anaconda3\\lib\\site-packages\\pandas\\core\\indexing.py:190: SettingWithCopyWarning: \n",
      "A value is trying to be set on a copy of a slice from a DataFrame\n",
      "\n",
      "See the caveats in the documentation: http://pandas.pydata.org/pandas-docs/stable/indexing.html#indexing-view-versus-copy\n",
      "  self._setitem_with_indexer(indexer, value)\n",
      "C:\\ProgramData\\Anaconda3\\lib\\site-packages\\pandas\\core\\indexing.py:190: SettingWithCopyWarning: \n",
      "A value is trying to be set on a copy of a slice from a DataFrame\n",
      "\n",
      "See the caveats in the documentation: http://pandas.pydata.org/pandas-docs/stable/indexing.html#indexing-view-versus-copy\n",
      "  self._setitem_with_indexer(indexer, value)\n"
     ]
    },
    {
     "name": "stdout",
     "output_type": "stream",
     "text": [
      "VSSL {'Date': datetime.datetime(2020, 6, 17, 0, 0)}\n",
      "SPECIALITY {'Date': datetime.datetime(2020, 7, 31, 0, 0)}\n",
      "LYPSAGEMS {'Date': datetime.datetime(2020, 7, 31, 0, 0)}\n"
     ]
    },
    {
     "name": "stderr",
     "output_type": "stream",
     "text": [
      "C:\\ProgramData\\Anaconda3\\lib\\site-packages\\pandas\\core\\indexing.py:190: SettingWithCopyWarning: \n",
      "A value is trying to be set on a copy of a slice from a DataFrame\n",
      "\n",
      "See the caveats in the documentation: http://pandas.pydata.org/pandas-docs/stable/indexing.html#indexing-view-versus-copy\n",
      "  self._setitem_with_indexer(indexer, value)\n",
      "C:\\ProgramData\\Anaconda3\\lib\\site-packages\\pandas\\core\\indexing.py:190: SettingWithCopyWarning: \n",
      "A value is trying to be set on a copy of a slice from a DataFrame\n",
      "\n",
      "See the caveats in the documentation: http://pandas.pydata.org/pandas-docs/stable/indexing.html#indexing-view-versus-copy\n",
      "  self._setitem_with_indexer(indexer, value)\n"
     ]
    },
    {
     "name": "stdout",
     "output_type": "stream",
     "text": [
      "LAKSHVILAS {'Date': datetime.datetime(2020, 7, 31, 0, 0)}\n",
      "ZUARI {'Date': datetime.datetime(2020, 7, 31, 0, 0)}\n"
     ]
    },
    {
     "name": "stderr",
     "output_type": "stream",
     "text": [
      "C:\\ProgramData\\Anaconda3\\lib\\site-packages\\pandas\\core\\indexing.py:190: SettingWithCopyWarning: \n",
      "A value is trying to be set on a copy of a slice from a DataFrame\n",
      "\n",
      "See the caveats in the documentation: http://pandas.pydata.org/pandas-docs/stable/indexing.html#indexing-view-versus-copy\n",
      "  self._setitem_with_indexer(indexer, value)\n",
      "C:\\ProgramData\\Anaconda3\\lib\\site-packages\\pandas\\core\\indexing.py:190: SettingWithCopyWarning: \n",
      "A value is trying to be set on a copy of a slice from a DataFrame\n",
      "\n",
      "See the caveats in the documentation: http://pandas.pydata.org/pandas-docs/stable/indexing.html#indexing-view-versus-copy\n",
      "  self._setitem_with_indexer(indexer, value)\n"
     ]
    },
    {
     "name": "stdout",
     "output_type": "stream",
     "text": [
      "CARERATING {'Date': datetime.datetime(2020, 7, 31, 0, 0)}\n",
      "PCJEWELLER {'Date': datetime.datetime(2020, 7, 31, 0, 0)}\n"
     ]
    },
    {
     "name": "stderr",
     "output_type": "stream",
     "text": [
      "C:\\ProgramData\\Anaconda3\\lib\\site-packages\\pandas\\core\\indexing.py:190: SettingWithCopyWarning: \n",
      "A value is trying to be set on a copy of a slice from a DataFrame\n",
      "\n",
      "See the caveats in the documentation: http://pandas.pydata.org/pandas-docs/stable/indexing.html#indexing-view-versus-copy\n",
      "  self._setitem_with_indexer(indexer, value)\n",
      "C:\\ProgramData\\Anaconda3\\lib\\site-packages\\pandas\\core\\indexing.py:190: SettingWithCopyWarning: \n",
      "A value is trying to be set on a copy of a slice from a DataFrame\n",
      "\n",
      "See the caveats in the documentation: http://pandas.pydata.org/pandas-docs/stable/indexing.html#indexing-view-versus-copy\n",
      "  self._setitem_with_indexer(indexer, value)\n"
     ]
    },
    {
     "name": "stdout",
     "output_type": "stream",
     "text": [
      "INFRATEL {'Date': datetime.datetime(2020, 7, 31, 0, 0)}\n",
      "VMART {'Date': datetime.datetime(2020, 7, 31, 0, 0)}\n"
     ]
    },
    {
     "name": "stderr",
     "output_type": "stream",
     "text": [
      "C:\\ProgramData\\Anaconda3\\lib\\site-packages\\pandas\\core\\indexing.py:190: SettingWithCopyWarning: \n",
      "A value is trying to be set on a copy of a slice from a DataFrame\n",
      "\n",
      "See the caveats in the documentation: http://pandas.pydata.org/pandas-docs/stable/indexing.html#indexing-view-versus-copy\n",
      "  self._setitem_with_indexer(indexer, value)\n",
      "C:\\ProgramData\\Anaconda3\\lib\\site-packages\\pandas\\core\\indexing.py:190: SettingWithCopyWarning: \n",
      "A value is trying to be set on a copy of a slice from a DataFrame\n",
      "\n",
      "See the caveats in the documentation: http://pandas.pydata.org/pandas-docs/stable/indexing.html#indexing-view-versus-copy\n",
      "  self._setitem_with_indexer(indexer, value)\n"
     ]
    },
    {
     "name": "stdout",
     "output_type": "stream",
     "text": [
      "REPCOHOME {'Date': datetime.datetime(2020, 7, 31, 0, 0)}\n",
      "JUSTDIAL {'Date': datetime.datetime(2020, 7, 31, 0, 0)}\n"
     ]
    },
    {
     "name": "stderr",
     "output_type": "stream",
     "text": [
      "C:\\ProgramData\\Anaconda3\\lib\\site-packages\\pandas\\core\\indexing.py:190: SettingWithCopyWarning: \n",
      "A value is trying to be set on a copy of a slice from a DataFrame\n",
      "\n",
      "See the caveats in the documentation: http://pandas.pydata.org/pandas-docs/stable/indexing.html#indexing-view-versus-copy\n",
      "  self._setitem_with_indexer(indexer, value)\n",
      "C:\\ProgramData\\Anaconda3\\lib\\site-packages\\pandas\\core\\indexing.py:190: SettingWithCopyWarning: \n",
      "A value is trying to be set on a copy of a slice from a DataFrame\n",
      "\n",
      "See the caveats in the documentation: http://pandas.pydata.org/pandas-docs/stable/indexing.html#indexing-view-versus-copy\n",
      "  self._setitem_with_indexer(indexer, value)\n"
     ]
    },
    {
     "name": "stdout",
     "output_type": "stream",
     "text": [
      "ORIENTCEM {'Date': datetime.datetime(2020, 7, 31, 0, 0)}\n",
      "IBULHSGFIN {'Date': datetime.datetime(2020, 7, 31, 0, 0)}\n"
     ]
    },
    {
     "name": "stderr",
     "output_type": "stream",
     "text": [
      "C:\\ProgramData\\Anaconda3\\lib\\site-packages\\pandas\\core\\indexing.py:190: SettingWithCopyWarning: \n",
      "A value is trying to be set on a copy of a slice from a DataFrame\n",
      "\n",
      "See the caveats in the documentation: http://pandas.pydata.org/pandas-docs/stable/indexing.html#indexing-view-versus-copy\n",
      "  self._setitem_with_indexer(indexer, value)\n",
      "C:\\ProgramData\\Anaconda3\\lib\\site-packages\\pandas\\core\\indexing.py:190: SettingWithCopyWarning: \n",
      "A value is trying to be set on a copy of a slice from a DataFrame\n",
      "\n",
      "See the caveats in the documentation: http://pandas.pydata.org/pandas-docs/stable/indexing.html#indexing-view-versus-copy\n",
      "  self._setitem_with_indexer(indexer, value)\n"
     ]
    },
    {
     "name": "stdout",
     "output_type": "stream",
     "text": [
      "FLFL {'Date': datetime.datetime(2020, 7, 31, 0, 0)}\n",
      "JPOLYINVST"
     ]
    },
    {
     "name": "stderr",
     "output_type": "stream",
     "text": [
      "C:\\ProgramData\\Anaconda3\\lib\\site-packages\\pandas\\core\\indexing.py:190: SettingWithCopyWarning: \n",
      "A value is trying to be set on a copy of a slice from a DataFrame\n",
      "\n",
      "See the caveats in the documentation: http://pandas.pydata.org/pandas-docs/stable/indexing.html#indexing-view-versus-copy\n",
      "  self._setitem_with_indexer(indexer, value)\n"
     ]
    },
    {
     "name": "stdout",
     "output_type": "stream",
     "text": [
      " {'Date': datetime.datetime(2020, 6, 17, 0, 0)}\n",
      "M100 {'Date': datetime.datetime(2020, 7, 31, 0, 0)}\n",
      "KOTAKNIFTY {'Date': datetime.datetime(2020, 7, 31, 0, 0)}\n"
     ]
    },
    {
     "name": "stderr",
     "output_type": "stream",
     "text": [
      "C:\\ProgramData\\Anaconda3\\lib\\site-packages\\pandas\\core\\indexing.py:190: SettingWithCopyWarning: \n",
      "A value is trying to be set on a copy of a slice from a DataFrame\n",
      "\n",
      "See the caveats in the documentation: http://pandas.pydata.org/pandas-docs/stable/indexing.html#indexing-view-versus-copy\n",
      "  self._setitem_with_indexer(indexer, value)\n",
      "C:\\ProgramData\\Anaconda3\\lib\\site-packages\\pandas\\core\\indexing.py:190: SettingWithCopyWarning: \n",
      "A value is trying to be set on a copy of a slice from a DataFrame\n",
      "\n",
      "See the caveats in the documentation: http://pandas.pydata.org/pandas-docs/stable/indexing.html#indexing-view-versus-copy\n",
      "  self._setitem_with_indexer(indexer, value)\n"
     ]
    },
    {
     "name": "stdout",
     "output_type": "stream",
     "text": [
      "CPSEETF {'Date': datetime.datetime(2020, 7, 31, 0, 0)}\n",
      "WONDERLA {'Date': datetime.datetime(2020, 7, 31, 0, 0)}\n"
     ]
    },
    {
     "name": "stderr",
     "output_type": "stream",
     "text": [
      "C:\\ProgramData\\Anaconda3\\lib\\site-packages\\pandas\\core\\indexing.py:190: SettingWithCopyWarning: \n",
      "A value is trying to be set on a copy of a slice from a DataFrame\n",
      "\n",
      "See the caveats in the documentation: http://pandas.pydata.org/pandas-docs/stable/indexing.html#indexing-view-versus-copy\n",
      "  self._setitem_with_indexer(indexer, value)\n",
      "C:\\ProgramData\\Anaconda3\\lib\\site-packages\\pandas\\core\\indexing.py:190: SettingWithCopyWarning: \n",
      "A value is trying to be set on a copy of a slice from a DataFrame\n",
      "\n",
      "See the caveats in the documentation: http://pandas.pydata.org/pandas-docs/stable/indexing.html#indexing-view-versus-copy\n",
      "  self._setitem_with_indexer(indexer, value)\n"
     ]
    },
    {
     "name": "stdout",
     "output_type": "stream",
     "text": [
      "GULFOILLUB {'Date': datetime.datetime(2020, 7, 31, 0, 0)}\n",
      "SNOWMAN {'Date': datetime.datetime(2020, 7, 31, 0, 0)}\n"
     ]
    },
    {
     "name": "stderr",
     "output_type": "stream",
     "text": [
      "C:\\ProgramData\\Anaconda3\\lib\\site-packages\\pandas\\core\\indexing.py:190: SettingWithCopyWarning: \n",
      "A value is trying to be set on a copy of a slice from a DataFrame\n",
      "\n",
      "See the caveats in the documentation: http://pandas.pydata.org/pandas-docs/stable/indexing.html#indexing-view-versus-copy\n",
      "  self._setitem_with_indexer(indexer, value)\n",
      "C:\\ProgramData\\Anaconda3\\lib\\site-packages\\pandas\\core\\indexing.py:190: SettingWithCopyWarning: \n",
      "A value is trying to be set on a copy of a slice from a DataFrame\n",
      "\n",
      "See the caveats in the documentation: http://pandas.pydata.org/pandas-docs/stable/indexing.html#indexing-view-versus-copy\n",
      "  self._setitem_with_indexer(indexer, value)\n"
     ]
    },
    {
     "name": "stdout",
     "output_type": "stream",
     "text": [
      "SHARDACROP {'Date': datetime.datetime(2020, 7, 31, 0, 0)}\n",
      "SHEMAROO {'Date': datetime.datetime(2020, 7, 31, 0, 0)}\n"
     ]
    },
    {
     "name": "stderr",
     "output_type": "stream",
     "text": [
      "C:\\ProgramData\\Anaconda3\\lib\\site-packages\\pandas\\core\\indexing.py:190: SettingWithCopyWarning: \n",
      "A value is trying to be set on a copy of a slice from a DataFrame\n",
      "\n",
      "See the caveats in the documentation: http://pandas.pydata.org/pandas-docs/stable/indexing.html#indexing-view-versus-copy\n",
      "  self._setitem_with_indexer(indexer, value)\n",
      "C:\\ProgramData\\Anaconda3\\lib\\site-packages\\pandas\\core\\indexing.py:190: SettingWithCopyWarning: \n",
      "A value is trying to be set on a copy of a slice from a DataFrame\n",
      "\n",
      "See the caveats in the documentation: http://pandas.pydata.org/pandas-docs/stable/indexing.html#indexing-view-versus-copy\n",
      "  self._setitem_with_indexer(indexer, value)\n"
     ]
    },
    {
     "name": "stdout",
     "output_type": "stream",
     "text": [
      "PDSMFL {'Date': datetime.datetime(2020, 7, 31, 0, 0)}\n",
      "INTELLECT {'Date': datetime.datetime(2020, 7, 31, 0, 0)}\n"
     ]
    },
    {
     "name": "stderr",
     "output_type": "stream",
     "text": [
      "C:\\ProgramData\\Anaconda3\\lib\\site-packages\\pandas\\core\\indexing.py:190: SettingWithCopyWarning: \n",
      "A value is trying to be set on a copy of a slice from a DataFrame\n",
      "\n",
      "See the caveats in the documentation: http://pandas.pydata.org/pandas-docs/stable/indexing.html#indexing-view-versus-copy\n",
      "  self._setitem_with_indexer(indexer, value)\n",
      "C:\\ProgramData\\Anaconda3\\lib\\site-packages\\pandas\\core\\indexing.py:190: SettingWithCopyWarning: \n",
      "A value is trying to be set on a copy of a slice from a DataFrame\n",
      "\n",
      "See the caveats in the documentation: http://pandas.pydata.org/pandas-docs/stable/indexing.html#indexing-view-versus-copy\n",
      "  self._setitem_with_indexer(indexer, value)\n"
     ]
    },
    {
     "name": "stdout",
     "output_type": "stream",
     "text": [
      "MONTECARLO {'Date': datetime.datetime(2020, 7, 31, 0, 0)}\n",
      "MINDACORP {'Date': datetime.datetime(2020, 7, 31, 0, 0)}\n"
     ]
    },
    {
     "name": "stderr",
     "output_type": "stream",
     "text": [
      "C:\\ProgramData\\Anaconda3\\lib\\site-packages\\pandas\\core\\indexing.py:190: SettingWithCopyWarning: \n",
      "A value is trying to be set on a copy of a slice from a DataFrame\n",
      "\n",
      "See the caveats in the documentation: http://pandas.pydata.org/pandas-docs/stable/indexing.html#indexing-view-versus-copy\n",
      "  self._setitem_with_indexer(indexer, value)\n",
      "C:\\ProgramData\\Anaconda3\\lib\\site-packages\\pandas\\core\\indexing.py:190: SettingWithCopyWarning: \n",
      "A value is trying to be set on a copy of a slice from a DataFrame\n",
      "\n",
      "See the caveats in the documentation: http://pandas.pydata.org/pandas-docs/stable/indexing.html#indexing-view-versus-copy\n",
      "  self._setitem_with_indexer(indexer, value)\n"
     ]
    },
    {
     "name": "stdout",
     "output_type": "stream",
     "text": [
      "INOXWIND {'Date': datetime.datetime(2020, 7, 31, 0, 0)}\n",
      "BINDALAGRO {'Date': datetime.datetime(2020, 7, 31, 0, 0)}\n"
     ]
    },
    {
     "name": "stderr",
     "output_type": "stream",
     "text": [
      "C:\\ProgramData\\Anaconda3\\lib\\site-packages\\pandas\\core\\indexing.py:190: SettingWithCopyWarning: \n",
      "A value is trying to be set on a copy of a slice from a DataFrame\n",
      "\n",
      "See the caveats in the documentation: http://pandas.pydata.org/pandas-docs/stable/indexing.html#indexing-view-versus-copy\n",
      "  self._setitem_with_indexer(indexer, value)\n",
      "C:\\ProgramData\\Anaconda3\\lib\\site-packages\\pandas\\core\\indexing.py:190: SettingWithCopyWarning: \n",
      "A value is trying to be set on a copy of a slice from a DataFrame\n",
      "\n",
      "See the caveats in the documentation: http://pandas.pydata.org/pandas-docs/stable/indexing.html#indexing-view-versus-copy\n",
      "  self._setitem_with_indexer(indexer, value)\n"
     ]
    },
    {
     "name": "stdout",
     "output_type": "stream",
     "text": [
      "PRICOLLTD {'Date': datetime.datetime(2020, 7, 31, 0, 0)}\n",
      "TATAMTRDVR {'Date': datetime.datetime(2020, 7, 31, 0, 0)}\n"
     ]
    },
    {
     "name": "stderr",
     "output_type": "stream",
     "text": [
      "C:\\ProgramData\\Anaconda3\\lib\\site-packages\\pandas\\core\\indexing.py:190: SettingWithCopyWarning: \n",
      "A value is trying to be set on a copy of a slice from a DataFrame\n",
      "\n",
      "See the caveats in the documentation: http://pandas.pydata.org/pandas-docs/stable/indexing.html#indexing-view-versus-copy\n",
      "  self._setitem_with_indexer(indexer, value)\n",
      "C:\\ProgramData\\Anaconda3\\lib\\site-packages\\pandas\\core\\indexing.py:190: SettingWithCopyWarning: \n",
      "A value is trying to be set on a copy of a slice from a DataFrame\n",
      "\n",
      "See the caveats in the documentation: http://pandas.pydata.org/pandas-docs/stable/indexing.html#indexing-view-versus-copy\n",
      "  self._setitem_with_indexer(indexer, value)\n"
     ]
    },
    {
     "name": "stdout",
     "output_type": "stream",
     "text": [
      "JISLDVREQS {'Date': datetime.datetime(2020, 5, 6, 0, 0)}\n",
      "KARURVYSYA {'Date': datetime.datetime(2020, 7, 31, 0, 0)}\n",
      "TIDEWATER {'Date': datetime.datetime(2020, 7, 31, 0, 0)}\n"
     ]
    },
    {
     "name": "stderr",
     "output_type": "stream",
     "text": [
      "C:\\ProgramData\\Anaconda3\\lib\\site-packages\\pandas\\core\\indexing.py:190: SettingWithCopyWarning: \n",
      "A value is trying to be set on a copy of a slice from a DataFrame\n",
      "\n",
      "See the caveats in the documentation: http://pandas.pydata.org/pandas-docs/stable/indexing.html#indexing-view-versus-copy\n",
      "  self._setitem_with_indexer(indexer, value)\n",
      "C:\\ProgramData\\Anaconda3\\lib\\site-packages\\pandas\\core\\indexing.py:190: SettingWithCopyWarning: \n",
      "A value is trying to be set on a copy of a slice from a DataFrame\n",
      "\n",
      "See the caveats in the documentation: http://pandas.pydata.org/pandas-docs/stable/indexing.html#indexing-view-versus-copy\n",
      "  self._setitem_with_indexer(indexer, value)\n"
     ]
    },
    {
     "name": "stdout",
     "output_type": "stream",
     "text": [
      "AMRUTANJAN {'Date': datetime.datetime(2020, 7, 31, 0, 0)}\n",
      "XPROINDIA {'Date': datetime.datetime(2020, 7, 1, 0, 0)}\n",
      "BHARATRAS {'Date': datetime.datetime(2020, 7, 31, 0, 0)}\n"
     ]
    },
    {
     "name": "stderr",
     "output_type": "stream",
     "text": [
      "C:\\ProgramData\\Anaconda3\\lib\\site-packages\\pandas\\core\\indexing.py:190: SettingWithCopyWarning: \n",
      "A value is trying to be set on a copy of a slice from a DataFrame\n",
      "\n",
      "See the caveats in the documentation: http://pandas.pydata.org/pandas-docs/stable/indexing.html#indexing-view-versus-copy\n",
      "  self._setitem_with_indexer(indexer, value)\n",
      "C:\\ProgramData\\Anaconda3\\lib\\site-packages\\pandas\\core\\indexing.py:190: SettingWithCopyWarning: \n",
      "A value is trying to be set on a copy of a slice from a DataFrame\n",
      "\n",
      "See the caveats in the documentation: http://pandas.pydata.org/pandas-docs/stable/indexing.html#indexing-view-versus-copy\n",
      "  self._setitem_with_indexer(indexer, value)\n"
     ]
    },
    {
     "name": "stdout",
     "output_type": "stream",
     "text": [
      "FACT {'Date': datetime.datetime(2020, 7, 31, 0, 0)}\n",
      "GINNIFILA {'Date': datetime.datetime(2020, 7, 1, 0, 0)}\n",
      "SPIC {'Date': datetime.datetime(2020, 7, 31, 0, 0)}\n"
     ]
    },
    {
     "name": "stderr",
     "output_type": "stream",
     "text": [
      "C:\\ProgramData\\Anaconda3\\lib\\site-packages\\pandas\\core\\indexing.py:190: SettingWithCopyWarning: \n",
      "A value is trying to be set on a copy of a slice from a DataFrame\n",
      "\n",
      "See the caveats in the documentation: http://pandas.pydata.org/pandas-docs/stable/indexing.html#indexing-view-versus-copy\n",
      "  self._setitem_with_indexer(indexer, value)\n",
      "C:\\ProgramData\\Anaconda3\\lib\\site-packages\\pandas\\core\\indexing.py:190: SettingWithCopyWarning: \n",
      "A value is trying to be set on a copy of a slice from a DataFrame\n",
      "\n",
      "See the caveats in the documentation: http://pandas.pydata.org/pandas-docs/stable/indexing.html#indexing-view-versus-copy\n",
      "  self._setitem_with_indexer(indexer, value)\n"
     ]
    },
    {
     "name": "stdout",
     "output_type": "stream",
     "text": [
      "DENORA {'Date': datetime.datetime(2020, 7, 31, 0, 0)}\n",
      "HARITASEAT {'Date': datetime.datetime(2020, 7, 31, 0, 0)}\n"
     ]
    },
    {
     "name": "stderr",
     "output_type": "stream",
     "text": [
      "C:\\ProgramData\\Anaconda3\\lib\\site-packages\\pandas\\core\\indexing.py:190: SettingWithCopyWarning: \n",
      "A value is trying to be set on a copy of a slice from a DataFrame\n",
      "\n",
      "See the caveats in the documentation: http://pandas.pydata.org/pandas-docs/stable/indexing.html#indexing-view-versus-copy\n",
      "  self._setitem_with_indexer(indexer, value)\n",
      "C:\\ProgramData\\Anaconda3\\lib\\site-packages\\pandas\\core\\indexing.py:190: SettingWithCopyWarning: \n",
      "A value is trying to be set on a copy of a slice from a DataFrame\n",
      "\n",
      "See the caveats in the documentation: http://pandas.pydata.org/pandas-docs/stable/indexing.html#indexing-view-versus-copy\n",
      "  self._setitem_with_indexer(indexer, value)\n"
     ]
    },
    {
     "name": "stdout",
     "output_type": "stream",
     "text": [
      "SAKSOFT {'Date': datetime.datetime(2020, 7, 31, 0, 0)}\n",
      "ANDHRSUGAR {'Date': datetime.datetime(2020, 7, 31, 0, 0)}\n"
     ]
    },
    {
     "name": "stderr",
     "output_type": "stream",
     "text": [
      "C:\\ProgramData\\Anaconda3\\lib\\site-packages\\pandas\\core\\indexing.py:190: SettingWithCopyWarning: \n",
      "A value is trying to be set on a copy of a slice from a DataFrame\n",
      "\n",
      "See the caveats in the documentation: http://pandas.pydata.org/pandas-docs/stable/indexing.html#indexing-view-versus-copy\n",
      "  self._setitem_with_indexer(indexer, value)\n",
      "C:\\ProgramData\\Anaconda3\\lib\\site-packages\\pandas\\core\\indexing.py:190: SettingWithCopyWarning: \n",
      "A value is trying to be set on a copy of a slice from a DataFrame\n",
      "\n",
      "See the caveats in the documentation: http://pandas.pydata.org/pandas-docs/stable/indexing.html#indexing-view-versus-copy\n",
      "  self._setitem_with_indexer(indexer, value)\n"
     ]
    },
    {
     "name": "stdout",
     "output_type": "stream",
     "text": [
      "IMPAL {'Date': datetime.datetime(2020, 7, 31, 0, 0)}\n",
      "KCP {'Date': datetime.datetime(2020, 7, 31, 0, 0)}\n"
     ]
    },
    {
     "name": "stderr",
     "output_type": "stream",
     "text": [
      "C:\\ProgramData\\Anaconda3\\lib\\site-packages\\pandas\\core\\indexing.py:190: SettingWithCopyWarning: \n",
      "A value is trying to be set on a copy of a slice from a DataFrame\n",
      "\n",
      "See the caveats in the documentation: http://pandas.pydata.org/pandas-docs/stable/indexing.html#indexing-view-versus-copy\n",
      "  self._setitem_with_indexer(indexer, value)\n",
      "C:\\ProgramData\\Anaconda3\\lib\\site-packages\\pandas\\core\\indexing.py:190: SettingWithCopyWarning: \n",
      "A value is trying to be set on a copy of a slice from a DataFrame\n",
      "\n",
      "See the caveats in the documentation: http://pandas.pydata.org/pandas-docs/stable/indexing.html#indexing-view-versus-copy\n",
      "  self._setitem_with_indexer(indexer, value)\n"
     ]
    },
    {
     "name": "stdout",
     "output_type": "stream",
     "text": [
      "SUNDARMFIN {'Date': datetime.datetime(2020, 7, 31, 0, 0)}\n",
      "SUNDRMBRAK {'Date': datetime.datetime(2020, 7, 31, 0, 0)}\n"
     ]
    },
    {
     "name": "stderr",
     "output_type": "stream",
     "text": [
      "C:\\ProgramData\\Anaconda3\\lib\\site-packages\\pandas\\core\\indexing.py:190: SettingWithCopyWarning: \n",
      "A value is trying to be set on a copy of a slice from a DataFrame\n",
      "\n",
      "See the caveats in the documentation: http://pandas.pydata.org/pandas-docs/stable/indexing.html#indexing-view-versus-copy\n",
      "  self._setitem_with_indexer(indexer, value)\n",
      "C:\\ProgramData\\Anaconda3\\lib\\site-packages\\pandas\\core\\indexing.py:190: SettingWithCopyWarning: \n",
      "A value is trying to be set on a copy of a slice from a DataFrame\n",
      "\n",
      "See the caveats in the documentation: http://pandas.pydata.org/pandas-docs/stable/indexing.html#indexing-view-versus-copy\n",
      "  self._setitem_with_indexer(indexer, value)\n"
     ]
    },
    {
     "name": "stdout",
     "output_type": "stream",
     "text": [
      "WHEELS {'Date': datetime.datetime(2020, 7, 31, 0, 0)}\n",
      "MAITHANALL {'Date': datetime.datetime(2020, 7, 31, 0, 0)}\n"
     ]
    },
    {
     "name": "stderr",
     "output_type": "stream",
     "text": [
      "C:\\ProgramData\\Anaconda3\\lib\\site-packages\\pandas\\core\\indexing.py:190: SettingWithCopyWarning: \n",
      "A value is trying to be set on a copy of a slice from a DataFrame\n",
      "\n",
      "See the caveats in the documentation: http://pandas.pydata.org/pandas-docs/stable/indexing.html#indexing-view-versus-copy\n",
      "  self._setitem_with_indexer(indexer, value)\n",
      "C:\\ProgramData\\Anaconda3\\lib\\site-packages\\pandas\\core\\indexing.py:190: SettingWithCopyWarning: \n",
      "A value is trying to be set on a copy of a slice from a DataFrame\n",
      "\n",
      "See the caveats in the documentation: http://pandas.pydata.org/pandas-docs/stable/indexing.html#indexing-view-versus-copy\n",
      "  self._setitem_with_indexer(indexer, value)\n"
     ]
    },
    {
     "name": "stdout",
     "output_type": "stream",
     "text": [
      "ORISSAMINE {'Date': datetime.datetime(2020, 7, 31, 0, 0)}\n",
      "NIFTYBEES {'Date': datetime.datetime(2020, 7, 31, 0, 0)}\n"
     ]
    },
    {
     "name": "stderr",
     "output_type": "stream",
     "text": [
      "C:\\ProgramData\\Anaconda3\\lib\\site-packages\\pandas\\core\\indexing.py:190: SettingWithCopyWarning: \n",
      "A value is trying to be set on a copy of a slice from a DataFrame\n",
      "\n",
      "See the caveats in the documentation: http://pandas.pydata.org/pandas-docs/stable/indexing.html#indexing-view-versus-copy\n",
      "  self._setitem_with_indexer(indexer, value)\n",
      "C:\\ProgramData\\Anaconda3\\lib\\site-packages\\pandas\\core\\indexing.py:190: SettingWithCopyWarning: \n",
      "A value is trying to be set on a copy of a slice from a DataFrame\n",
      "\n",
      "See the caveats in the documentation: http://pandas.pydata.org/pandas-docs/stable/indexing.html#indexing-view-versus-copy\n",
      "  self._setitem_with_indexer(indexer, value)\n"
     ]
    },
    {
     "name": "stdout",
     "output_type": "stream",
     "text": [
      "JUNIORBEES {'Date': datetime.datetime(2020, 7, 31, 0, 0)}\n",
      "BANKBEES {'Date': datetime.datetime(2020, 7, 31, 0, 0)}\n"
     ]
    },
    {
     "name": "stderr",
     "output_type": "stream",
     "text": [
      "C:\\ProgramData\\Anaconda3\\lib\\site-packages\\pandas\\core\\indexing.py:190: SettingWithCopyWarning: \n",
      "A value is trying to be set on a copy of a slice from a DataFrame\n",
      "\n",
      "See the caveats in the documentation: http://pandas.pydata.org/pandas-docs/stable/indexing.html#indexing-view-versus-copy\n",
      "  self._setitem_with_indexer(indexer, value)\n",
      "C:\\ProgramData\\Anaconda3\\lib\\site-packages\\pandas\\core\\indexing.py:190: SettingWithCopyWarning: \n",
      "A value is trying to be set on a copy of a slice from a DataFrame\n",
      "\n",
      "See the caveats in the documentation: http://pandas.pydata.org/pandas-docs/stable/indexing.html#indexing-view-versus-copy\n",
      "  self._setitem_with_indexer(indexer, value)\n"
     ]
    },
    {
     "name": "stdout",
     "output_type": "stream",
     "text": [
      "KOTAKPSUBK {'Date': datetime.datetime(2020, 7, 31, 0, 0)}\n",
      "PSUBNKBEES {'Date': datetime.datetime(2020, 7, 31, 0, 0)}\n"
     ]
    },
    {
     "name": "stderr",
     "output_type": "stream",
     "text": [
      "C:\\ProgramData\\Anaconda3\\lib\\site-packages\\pandas\\core\\indexing.py:190: SettingWithCopyWarning: \n",
      "A value is trying to be set on a copy of a slice from a DataFrame\n",
      "\n",
      "See the caveats in the documentation: http://pandas.pydata.org/pandas-docs/stable/indexing.html#indexing-view-versus-copy\n",
      "  self._setitem_with_indexer(indexer, value)\n",
      "C:\\ProgramData\\Anaconda3\\lib\\site-packages\\pandas\\core\\indexing.py:190: SettingWithCopyWarning: \n",
      "A value is trying to be set on a copy of a slice from a DataFrame\n",
      "\n",
      "See the caveats in the documentation: http://pandas.pydata.org/pandas-docs/stable/indexing.html#indexing-view-versus-copy\n",
      "  self._setitem_with_indexer(indexer, value)\n"
     ]
    },
    {
     "name": "stdout",
     "output_type": "stream",
     "text": [
      "M50 {'Date': datetime.datetime(2020, 7, 31, 0, 0)}\n",
      "MADRASFERT {'Date': datetime.datetime(2020, 7, 31, 0, 0)}\n",
      "Buy\n"
     ]
    },
    {
     "name": "stderr",
     "output_type": "stream",
     "text": [
      "C:\\ProgramData\\Anaconda3\\lib\\site-packages\\pandas\\core\\indexing.py:190: SettingWithCopyWarning: \n",
      "A value is trying to be set on a copy of a slice from a DataFrame\n",
      "\n",
      "See the caveats in the documentation: http://pandas.pydata.org/pandas-docs/stable/indexing.html#indexing-view-versus-copy\n",
      "  self._setitem_with_indexer(indexer, value)\n"
     ]
    }
   ],
   "source": [
    "equityList=db[\"stocklist\"]\n",
    "stockWarehouse=db[\"stockWarehouse\"]\n",
    "equityListdf=pd.DataFrame(equityList.find({'State':\"A\"},{'Issuer Name':1,'_id':0}))\n",
    "equityListdf['trend']=''\n",
    "equityListdf['daysSinceCutOver']=''\n",
    "equityListdf['trendnature']=''\n",
    "equityListdf['singleCandlePattern']=''\n",
    "equityListdf['RSI']=''\n",
    "equityListdf['Close']=0\n",
    "equityListdf['Signal']=0\n",
    "           \n",
    "for dt in stockWarehouse.find({'Symbol':'SBIN'},{'_id':0,'Date':1}).sort('Date',-1).limit(1):\n",
    "    refdate=dt # Set Reference Data as last date when SBI Stock Data was update\n",
    "print(refdate)\n",
    "i=0\n",
    "for symbol in equityListdf['Issuer Name']    :\n",
    "    for maxdate in stockWarehouse.find({'Symbol':symbol},{'_id':0,'Date':1}).sort('Date',-1).limit(1):\n",
    "        print(symbol,maxdate)\n",
    "        if maxdate == refdate:  # Check if database has latest sttock info by comparing aginst SBI\n",
    "            datadf=pd.DataFrame(stockWarehouse.find({'Symbol':symbol}).sort('Date',-1).limit(300))# Get top 300 row of stock in iteration\n",
    "            datadf.set_index('Date',inplace=True)\n",
    "            datadf.sort_index(inplace=True)\n",
    "            equityListdf.loc[equityListdf['Issuer Name'] == symbol,'Close']=datadf.iloc[-1,1]\n",
    "            equityListdf=markTrend_Crossover(equityListdf,datadf,symbol)\n",
    "            equityListdf=singlePatternCandle(equityListdf,datadf,symbol)\n",
    "            equityListdf=rsiindicator(equityListdf,datadf,symbol,15)\n",
    "            tempnp=equityListdf.loc[equityListdf['Issuer Name'] == symbol].to_numpy()    \n",
    "#            print(equityListdf.columns)\n",
    "            datadf['avgvolume30']=datadf['Volume'].rolling(30).mean()\n",
    "            datadf['avgvolume10']=datadf['Volume'].rolling(10).mean()\n",
    "                 \n",
    "            if tempnp[0,5] < 45 and tempnp[0,2] < 20 and tempnp[0,5] > 20  and tempnp[0,1] == 1 and tempnp[0,3] == 'Expanding'  and datadf['avgvolume30'].iloc[-1]<datadf['avgvolume10'].iloc[-1] :\n",
    "                equityListdf.loc[equityListdf['Issuer Name'] == symbol,'Signal']=1\n",
    "            else :\n",
    "                if (tempnp[0,5] > 80 or tempnp[0,1] == -1 or tempnp[0,3] == 'Contracting'):\n",
    "                    equityListdf.loc[equityListdf['Issuer Name'] == symbol,'Signal']=-1\n",
    "\n",
    "            \n",
    "            \n",
    "equityListdf.loc[equityListdf['Signal']>0].to_csv(\"C:\\\\Users\\\\khanna's\\\\Documents\\\\Stock Trend Analysis\\\\Buy.csv\")\n",
    "equityListdf.loc[equityListdf['Signal']<0].to_csv(\"C:\\\\Users\\\\khanna's\\\\Documents\\\\Stock Trend Analysis\\\\sell.csv\")\n",
    "equityListdf.to_csv(\"C:\\\\Users\\\\khanna's\\\\Documents\\\\Stock Trend Analysis\\\\result.csv\")\n",
    "print(\"Buy\")\n",
    "\n"
   ]
  },
  {
   "cell_type": "code",
   "execution_count": 12,
   "metadata": {},
   "outputs": [
    {
     "data": {
      "text/html": [
       "<div>\n",
       "<style scoped>\n",
       "    .dataframe tbody tr th:only-of-type {\n",
       "        vertical-align: middle;\n",
       "    }\n",
       "\n",
       "    .dataframe tbody tr th {\n",
       "        vertical-align: top;\n",
       "    }\n",
       "\n",
       "    .dataframe thead th {\n",
       "        text-align: right;\n",
       "    }\n",
       "</style>\n",
       "<table border=\"1\" class=\"dataframe\">\n",
       "  <thead>\n",
       "    <tr style=\"text-align: right;\">\n",
       "      <th></th>\n",
       "      <th>Issuer Name</th>\n",
       "      <th>trend</th>\n",
       "      <th>daysSinceCutOver</th>\n",
       "      <th>trendnature</th>\n",
       "      <th>singleCandlePattern</th>\n",
       "      <th>RSI</th>\n",
       "      <th>Close</th>\n",
       "      <th>Signal</th>\n",
       "    </tr>\n",
       "  </thead>\n",
       "  <tbody>\n",
       "    <tr>\n",
       "      <th>0</th>\n",
       "      <td>ABB</td>\n",
       "      <td>-1</td>\n",
       "      <td>3</td>\n",
       "      <td>Contracting</td>\n",
       "      <td></td>\n",
       "      <td>28.3415</td>\n",
       "      <td>894.95</td>\n",
       "      <td>-1</td>\n",
       "    </tr>\n",
       "    <tr>\n",
       "      <th>1</th>\n",
       "      <td>AMARAJABAT</td>\n",
       "      <td>1</td>\n",
       "      <td>71</td>\n",
       "      <td>Contracting</td>\n",
       "      <td></td>\n",
       "      <td>56.0644</td>\n",
       "      <td>709.20</td>\n",
       "      <td>-1</td>\n",
       "    </tr>\n",
       "    <tr>\n",
       "      <th>2</th>\n",
       "      <td>HDFC</td>\n",
       "      <td>1</td>\n",
       "      <td>44</td>\n",
       "      <td>Contracting</td>\n",
       "      <td></td>\n",
       "      <td>44.1211</td>\n",
       "      <td>1781.95</td>\n",
       "      <td>-1</td>\n",
       "    </tr>\n",
       "    <tr>\n",
       "      <th>4</th>\n",
       "      <td>ASIANHOTNR</td>\n",
       "      <td>-1</td>\n",
       "      <td>5</td>\n",
       "      <td>Contracting</td>\n",
       "      <td></td>\n",
       "      <td>35.8663</td>\n",
       "      <td>54.15</td>\n",
       "      <td>-1</td>\n",
       "    </tr>\n",
       "    <tr>\n",
       "      <th>5</th>\n",
       "      <td>ATUL</td>\n",
       "      <td>1</td>\n",
       "      <td>20</td>\n",
       "      <td>Expanding</td>\n",
       "      <td></td>\n",
       "      <td>82.9766</td>\n",
       "      <td>5053.95</td>\n",
       "      <td>-1</td>\n",
       "    </tr>\n",
       "    <tr>\n",
       "      <th>7</th>\n",
       "      <td>BAJAJHIND</td>\n",
       "      <td>-1</td>\n",
       "      <td>15</td>\n",
       "      <td>Contracting</td>\n",
       "      <td></td>\n",
       "      <td>24.2424</td>\n",
       "      <td>5.60</td>\n",
       "      <td>-1</td>\n",
       "    </tr>\n",
       "    <tr>\n",
       "      <th>8</th>\n",
       "      <td>BAJFINANCE</td>\n",
       "      <td>1</td>\n",
       "      <td>43</td>\n",
       "      <td>Contracting</td>\n",
       "      <td></td>\n",
       "      <td>48.421</td>\n",
       "      <td>3251.30</td>\n",
       "      <td>-1</td>\n",
       "    </tr>\n",
       "    <tr>\n",
       "      <th>9</th>\n",
       "      <td>BALRAMCHIN</td>\n",
       "      <td>-1</td>\n",
       "      <td>1</td>\n",
       "      <td>Contracting</td>\n",
       "      <td></td>\n",
       "      <td>49.4792</td>\n",
       "      <td>125.50</td>\n",
       "      <td>-1</td>\n",
       "    </tr>\n",
       "    <tr>\n",
       "      <th>10</th>\n",
       "      <td>BANCOINDIA</td>\n",
       "      <td>-1</td>\n",
       "      <td>1</td>\n",
       "      <td>Contracting</td>\n",
       "      <td></td>\n",
       "      <td>41.7582</td>\n",
       "      <td>79.00</td>\n",
       "      <td>-1</td>\n",
       "    </tr>\n",
       "    <tr>\n",
       "      <th>11</th>\n",
       "      <td>CENTURYTEX</td>\n",
       "      <td>-1</td>\n",
       "      <td>6</td>\n",
       "      <td>Contracting</td>\n",
       "      <td></td>\n",
       "      <td>42.0015</td>\n",
       "      <td>307.95</td>\n",
       "      <td>-1</td>\n",
       "    </tr>\n",
       "    <tr>\n",
       "      <th>12</th>\n",
       "      <td>BASF</td>\n",
       "      <td>1</td>\n",
       "      <td>48</td>\n",
       "      <td>Contracting</td>\n",
       "      <td></td>\n",
       "      <td>60.8437</td>\n",
       "      <td>1332.85</td>\n",
       "      <td>-1</td>\n",
       "    </tr>\n",
       "    <tr>\n",
       "      <th>13</th>\n",
       "      <td>BATAINDIA</td>\n",
       "      <td>-1</td>\n",
       "      <td>32</td>\n",
       "      <td>Contracting</td>\n",
       "      <td></td>\n",
       "      <td>40.3777</td>\n",
       "      <td>1268.05</td>\n",
       "      <td>-1</td>\n",
       "    </tr>\n",
       "    <tr>\n",
       "      <th>15</th>\n",
       "      <td>BEL</td>\n",
       "      <td>1</td>\n",
       "      <td>45</td>\n",
       "      <td>Contracting</td>\n",
       "      <td></td>\n",
       "      <td>35.5593</td>\n",
       "      <td>95.85</td>\n",
       "      <td>-1</td>\n",
       "    </tr>\n",
       "    <tr>\n",
       "      <th>16</th>\n",
       "      <td>BEML</td>\n",
       "      <td>1</td>\n",
       "      <td>57</td>\n",
       "      <td>Contracting</td>\n",
       "      <td></td>\n",
       "      <td>47.513</td>\n",
       "      <td>640.60</td>\n",
       "      <td>-1</td>\n",
       "    </tr>\n",
       "    <tr>\n",
       "      <th>17</th>\n",
       "      <td>BEPL</td>\n",
       "      <td>-1</td>\n",
       "      <td>3</td>\n",
       "      <td>Contracting</td>\n",
       "      <td></td>\n",
       "      <td>34.0502</td>\n",
       "      <td>42.90</td>\n",
       "      <td>-1</td>\n",
       "    </tr>\n",
       "    <tr>\n",
       "      <th>18</th>\n",
       "      <td>BLUESTARCO</td>\n",
       "      <td>-1</td>\n",
       "      <td>25</td>\n",
       "      <td>Expanding</td>\n",
       "      <td></td>\n",
       "      <td>45.5043</td>\n",
       "      <td>486.40</td>\n",
       "      <td>-1</td>\n",
       "    </tr>\n",
       "    <tr>\n",
       "      <th>20</th>\n",
       "      <td>CENTEXT</td>\n",
       "      <td>-1</td>\n",
       "      <td>12</td>\n",
       "      <td>Contracting</td>\n",
       "      <td></td>\n",
       "      <td>30.6122</td>\n",
       "      <td>4.00</td>\n",
       "      <td>-1</td>\n",
       "    </tr>\n",
       "    <tr>\n",
       "      <th>21</th>\n",
       "      <td>CESC</td>\n",
       "      <td>-1</td>\n",
       "      <td>10</td>\n",
       "      <td>Contracting</td>\n",
       "      <td></td>\n",
       "      <td>23.4188</td>\n",
       "      <td>549.55</td>\n",
       "      <td>-1</td>\n",
       "    </tr>\n",
       "    <tr>\n",
       "      <th>22</th>\n",
       "      <td>CHAMBLFERT</td>\n",
       "      <td>1</td>\n",
       "      <td>75</td>\n",
       "      <td>Contracting</td>\n",
       "      <td></td>\n",
       "      <td>53.3063</td>\n",
       "      <td>158.25</td>\n",
       "      <td>-1</td>\n",
       "    </tr>\n",
       "    <tr>\n",
       "      <th>23</th>\n",
       "      <td>EXIDEIND</td>\n",
       "      <td>1</td>\n",
       "      <td>1</td>\n",
       "      <td>Contracting</td>\n",
       "      <td></td>\n",
       "      <td>48.6381</td>\n",
       "      <td>155.65</td>\n",
       "      <td>-1</td>\n",
       "    </tr>\n",
       "    <tr>\n",
       "      <th>25</th>\n",
       "      <td>DICIND</td>\n",
       "      <td>1</td>\n",
       "      <td>47</td>\n",
       "      <td>Contracting</td>\n",
       "      <td></td>\n",
       "      <td>53.3872</td>\n",
       "      <td>342.05</td>\n",
       "      <td>-1</td>\n",
       "    </tr>\n",
       "    <tr>\n",
       "      <th>26</th>\n",
       "      <td>CRISIL</td>\n",
       "      <td>1</td>\n",
       "      <td>42</td>\n",
       "      <td>Contracting</td>\n",
       "      <td></td>\n",
       "      <td>42.1326</td>\n",
       "      <td>1673.80</td>\n",
       "      <td>-1</td>\n",
       "    </tr>\n",
       "    <tr>\n",
       "      <th>29</th>\n",
       "      <td>ARVIND</td>\n",
       "      <td>-1</td>\n",
       "      <td>12</td>\n",
       "      <td>Contracting</td>\n",
       "      <td></td>\n",
       "      <td>31.4655</td>\n",
       "      <td>28.70</td>\n",
       "      <td>-1</td>\n",
       "    </tr>\n",
       "    <tr>\n",
       "      <th>31</th>\n",
       "      <td>BHEL</td>\n",
       "      <td>-1</td>\n",
       "      <td>1</td>\n",
       "      <td>Contracting</td>\n",
       "      <td></td>\n",
       "      <td>31.8937</td>\n",
       "      <td>35.95</td>\n",
       "      <td>-1</td>\n",
       "    </tr>\n",
       "    <tr>\n",
       "      <th>32</th>\n",
       "      <td>HINDPETRO</td>\n",
       "      <td>1</td>\n",
       "      <td>10</td>\n",
       "      <td>Contracting</td>\n",
       "      <td></td>\n",
       "      <td>60.5596</td>\n",
       "      <td>215.00</td>\n",
       "      <td>-1</td>\n",
       "    </tr>\n",
       "    <tr>\n",
       "      <th>33</th>\n",
       "      <td>IFCI</td>\n",
       "      <td>-1</td>\n",
       "      <td>12</td>\n",
       "      <td>Contracting</td>\n",
       "      <td></td>\n",
       "      <td>23.4043</td>\n",
       "      <td>6.20</td>\n",
       "      <td>-1</td>\n",
       "    </tr>\n",
       "    <tr>\n",
       "      <th>34</th>\n",
       "      <td>MTNL</td>\n",
       "      <td>-1</td>\n",
       "      <td>5</td>\n",
       "      <td>Contracting</td>\n",
       "      <td></td>\n",
       "      <td>15.6627</td>\n",
       "      <td>9.25</td>\n",
       "      <td>-1</td>\n",
       "    </tr>\n",
       "    <tr>\n",
       "      <th>36</th>\n",
       "      <td>CHENNPETRO</td>\n",
       "      <td>1</td>\n",
       "      <td>41</td>\n",
       "      <td>Contracting</td>\n",
       "      <td></td>\n",
       "      <td>51.6854</td>\n",
       "      <td>79.70</td>\n",
       "      <td>-1</td>\n",
       "    </tr>\n",
       "    <tr>\n",
       "      <th>38</th>\n",
       "      <td>SAIL</td>\n",
       "      <td>1</td>\n",
       "      <td>49</td>\n",
       "      <td>Contracting</td>\n",
       "      <td></td>\n",
       "      <td>45.935</td>\n",
       "      <td>34.00</td>\n",
       "      <td>-1</td>\n",
       "    </tr>\n",
       "    <tr>\n",
       "      <th>40</th>\n",
       "      <td>IDBI</td>\n",
       "      <td>-1</td>\n",
       "      <td>8</td>\n",
       "      <td>Contracting</td>\n",
       "      <td></td>\n",
       "      <td>24.1379</td>\n",
       "      <td>38.70</td>\n",
       "      <td>-1</td>\n",
       "    </tr>\n",
       "    <tr>\n",
       "      <th>41</th>\n",
       "      <td>DCW</td>\n",
       "      <td>-1</td>\n",
       "      <td>14</td>\n",
       "      <td>Contracting</td>\n",
       "      <td></td>\n",
       "      <td>28.7671</td>\n",
       "      <td>10.85</td>\n",
       "      <td>-1</td>\n",
       "    </tr>\n",
       "    <tr>\n",
       "      <th>42</th>\n",
       "      <td>DHAMPURSUG</td>\n",
       "      <td>-1</td>\n",
       "      <td>2</td>\n",
       "      <td>Contracting</td>\n",
       "      <td></td>\n",
       "      <td>44.0461</td>\n",
       "      <td>126.40</td>\n",
       "      <td>-1</td>\n",
       "    </tr>\n",
       "    <tr>\n",
       "      <th>44</th>\n",
       "      <td>EIDPARRY</td>\n",
       "      <td>1</td>\n",
       "      <td>68</td>\n",
       "      <td>Contracting</td>\n",
       "      <td></td>\n",
       "      <td>59.8233</td>\n",
       "      <td>290.50</td>\n",
       "      <td>-1</td>\n",
       "    </tr>\n",
       "    <tr>\n",
       "      <th>45</th>\n",
       "      <td>ELECTCAST</td>\n",
       "      <td>-1</td>\n",
       "      <td>2</td>\n",
       "      <td>Contracting</td>\n",
       "      <td></td>\n",
       "      <td>24.5614</td>\n",
       "      <td>14.25</td>\n",
       "      <td>-1</td>\n",
       "    </tr>\n",
       "    <tr>\n",
       "      <th>46</th>\n",
       "      <td>SBIN</td>\n",
       "      <td>1</td>\n",
       "      <td>41</td>\n",
       "      <td>Contracting</td>\n",
       "      <td></td>\n",
       "      <td>44.0635</td>\n",
       "      <td>191.45</td>\n",
       "      <td>-1</td>\n",
       "    </tr>\n",
       "    <tr>\n",
       "      <th>48</th>\n",
       "      <td>UFLEX</td>\n",
       "      <td>1</td>\n",
       "      <td>74</td>\n",
       "      <td>Contracting</td>\n",
       "      <td></td>\n",
       "      <td>61.9197</td>\n",
       "      <td>265.50</td>\n",
       "      <td>-1</td>\n",
       "    </tr>\n",
       "    <tr>\n",
       "      <th>49</th>\n",
       "      <td>FOSECOIND</td>\n",
       "      <td>-1</td>\n",
       "      <td>2</td>\n",
       "      <td>Contracting</td>\n",
       "      <td></td>\n",
       "      <td>43.6277</td>\n",
       "      <td>1043.75</td>\n",
       "      <td>-1</td>\n",
       "    </tr>\n",
       "    <tr>\n",
       "      <th>52</th>\n",
       "      <td>GODREJIND</td>\n",
       "      <td>-1</td>\n",
       "      <td>14</td>\n",
       "      <td>Contracting</td>\n",
       "      <td></td>\n",
       "      <td>23.1838</td>\n",
       "      <td>354.50</td>\n",
       "      <td>-1</td>\n",
       "    </tr>\n",
       "    <tr>\n",
       "      <th>56</th>\n",
       "      <td>HDFCBANK</td>\n",
       "      <td>-1</td>\n",
       "      <td>1</td>\n",
       "      <td>Contracting</td>\n",
       "      <td></td>\n",
       "      <td>42.761</td>\n",
       "      <td>1032.80</td>\n",
       "      <td>-1</td>\n",
       "    </tr>\n",
       "    <tr>\n",
       "      <th>57</th>\n",
       "      <td>HEROMOTOCO</td>\n",
       "      <td>1</td>\n",
       "      <td>71</td>\n",
       "      <td>Contracting</td>\n",
       "      <td></td>\n",
       "      <td>53.3189</td>\n",
       "      <td>2676.50</td>\n",
       "      <td>-1</td>\n",
       "    </tr>\n",
       "    <tr>\n",
       "      <th>59</th>\n",
       "      <td>HSCL</td>\n",
       "      <td>-1</td>\n",
       "      <td>6</td>\n",
       "      <td>Contracting</td>\n",
       "      <td></td>\n",
       "      <td>22.2581</td>\n",
       "      <td>42.80</td>\n",
       "      <td>-1</td>\n",
       "    </tr>\n",
       "    <tr>\n",
       "      <th>60</th>\n",
       "      <td>HCC</td>\n",
       "      <td>-1</td>\n",
       "      <td>3</td>\n",
       "      <td>Contracting</td>\n",
       "      <td></td>\n",
       "      <td>48.1481</td>\n",
       "      <td>5.55</td>\n",
       "      <td>-1</td>\n",
       "    </tr>\n",
       "    <tr>\n",
       "      <th>61</th>\n",
       "      <td>HINDOILEXP</td>\n",
       "      <td>1</td>\n",
       "      <td>7</td>\n",
       "      <td>Contracting</td>\n",
       "      <td></td>\n",
       "      <td>40.9953</td>\n",
       "      <td>64.65</td>\n",
       "      <td>-1</td>\n",
       "    </tr>\n",
       "    <tr>\n",
       "      <th>62</th>\n",
       "      <td>HSIL</td>\n",
       "      <td>1</td>\n",
       "      <td>32</td>\n",
       "      <td>Contracting</td>\n",
       "      <td></td>\n",
       "      <td>50.2273</td>\n",
       "      <td>55.05</td>\n",
       "      <td>-1</td>\n",
       "    </tr>\n",
       "    <tr>\n",
       "      <th>64</th>\n",
       "      <td>INDIAGLYCO</td>\n",
       "      <td>-1</td>\n",
       "      <td>6</td>\n",
       "      <td>Contracting</td>\n",
       "      <td></td>\n",
       "      <td>40.7373</td>\n",
       "      <td>269.30</td>\n",
       "      <td>-1</td>\n",
       "    </tr>\n",
       "    <tr>\n",
       "      <th>65</th>\n",
       "      <td>INDORAMA</td>\n",
       "      <td>-1</td>\n",
       "      <td>10</td>\n",
       "      <td>Contracting</td>\n",
       "      <td>Hammer SL:14.2</td>\n",
       "      <td>22.9885</td>\n",
       "      <td>14.65</td>\n",
       "      <td>-1</td>\n",
       "    </tr>\n",
       "    <tr>\n",
       "      <th>66</th>\n",
       "      <td>INFY</td>\n",
       "      <td>1</td>\n",
       "      <td>70</td>\n",
       "      <td>Expanding</td>\n",
       "      <td></td>\n",
       "      <td>82.9762</td>\n",
       "      <td>966.00</td>\n",
       "      <td>-1</td>\n",
       "    </tr>\n",
       "    <tr>\n",
       "      <th>67</th>\n",
       "      <td>INGERRAND</td>\n",
       "      <td>-1</td>\n",
       "      <td>21</td>\n",
       "      <td>Contracting</td>\n",
       "      <td></td>\n",
       "      <td>39.8134</td>\n",
       "      <td>605.90</td>\n",
       "      <td>-1</td>\n",
       "    </tr>\n",
       "    <tr>\n",
       "      <th>70</th>\n",
       "      <td>JINDALPOLY</td>\n",
       "      <td>-1</td>\n",
       "      <td>4</td>\n",
       "      <td>Contracting</td>\n",
       "      <td></td>\n",
       "      <td>37.7342</td>\n",
       "      <td>373.90</td>\n",
       "      <td>-1</td>\n",
       "    </tr>\n",
       "    <tr>\n",
       "      <th>72</th>\n",
       "      <td>KAJARIACER</td>\n",
       "      <td>1</td>\n",
       "      <td>44</td>\n",
       "      <td>Expanding</td>\n",
       "      <td></td>\n",
       "      <td>82.9714</td>\n",
       "      <td>405.40</td>\n",
       "      <td>-1</td>\n",
       "    </tr>\n",
       "    <tr>\n",
       "      <th>73</th>\n",
       "      <td>KAKATCEM</td>\n",
       "      <td>-1</td>\n",
       "      <td>15</td>\n",
       "      <td>Contracting</td>\n",
       "      <td></td>\n",
       "      <td>36.0743</td>\n",
       "      <td>138.40</td>\n",
       "      <td>-1</td>\n",
       "    </tr>\n",
       "    <tr>\n",
       "      <th>74</th>\n",
       "      <td>KSL</td>\n",
       "      <td>1</td>\n",
       "      <td>48</td>\n",
       "      <td>Contracting</td>\n",
       "      <td></td>\n",
       "      <td>36.1521</td>\n",
       "      <td>215.30</td>\n",
       "      <td>-1</td>\n",
       "    </tr>\n",
       "  </tbody>\n",
       "</table>\n",
       "</div>"
      ],
      "text/plain": [
       "   Issuer Name trend daysSinceCutOver  trendnature singleCandlePattern  \\\n",
       "0          ABB    -1                3  Contracting                       \n",
       "1   AMARAJABAT     1               71  Contracting                       \n",
       "2         HDFC     1               44  Contracting                       \n",
       "4   ASIANHOTNR    -1                5  Contracting                       \n",
       "5         ATUL     1               20    Expanding                       \n",
       "7    BAJAJHIND    -1               15  Contracting                       \n",
       "8   BAJFINANCE     1               43  Contracting                       \n",
       "9   BALRAMCHIN    -1                1  Contracting                       \n",
       "10  BANCOINDIA    -1                1  Contracting                       \n",
       "11  CENTURYTEX    -1                6  Contracting                       \n",
       "12        BASF     1               48  Contracting                       \n",
       "13   BATAINDIA    -1               32  Contracting                       \n",
       "15         BEL     1               45  Contracting                       \n",
       "16        BEML     1               57  Contracting                       \n",
       "17        BEPL    -1                3  Contracting                       \n",
       "18  BLUESTARCO    -1               25    Expanding                       \n",
       "20     CENTEXT    -1               12  Contracting                       \n",
       "21        CESC    -1               10  Contracting                       \n",
       "22  CHAMBLFERT     1               75  Contracting                       \n",
       "23    EXIDEIND     1                1  Contracting                       \n",
       "25      DICIND     1               47  Contracting                       \n",
       "26      CRISIL     1               42  Contracting                       \n",
       "29      ARVIND    -1               12  Contracting                       \n",
       "31        BHEL    -1                1  Contracting                       \n",
       "32   HINDPETRO     1               10  Contracting                       \n",
       "33        IFCI    -1               12  Contracting                       \n",
       "34        MTNL    -1                5  Contracting                       \n",
       "36  CHENNPETRO     1               41  Contracting                       \n",
       "38        SAIL     1               49  Contracting                       \n",
       "40        IDBI    -1                8  Contracting                       \n",
       "41         DCW    -1               14  Contracting                       \n",
       "42  DHAMPURSUG    -1                2  Contracting                       \n",
       "44    EIDPARRY     1               68  Contracting                       \n",
       "45   ELECTCAST    -1                2  Contracting                       \n",
       "46        SBIN     1               41  Contracting                       \n",
       "48       UFLEX     1               74  Contracting                       \n",
       "49   FOSECOIND    -1                2  Contracting                       \n",
       "52   GODREJIND    -1               14  Contracting                       \n",
       "56    HDFCBANK    -1                1  Contracting                       \n",
       "57  HEROMOTOCO     1               71  Contracting                       \n",
       "59        HSCL    -1                6  Contracting                       \n",
       "60         HCC    -1                3  Contracting                       \n",
       "61  HINDOILEXP     1                7  Contracting                       \n",
       "62        HSIL     1               32  Contracting                       \n",
       "64  INDIAGLYCO    -1                6  Contracting                       \n",
       "65    INDORAMA    -1               10  Contracting      Hammer SL:14.2   \n",
       "66        INFY     1               70    Expanding                       \n",
       "67   INGERRAND    -1               21  Contracting                       \n",
       "70  JINDALPOLY    -1                4  Contracting                       \n",
       "72  KAJARIACER     1               44    Expanding                       \n",
       "73    KAKATCEM    -1               15  Contracting                       \n",
       "74         KSL     1               48  Contracting                       \n",
       "\n",
       "        RSI    Close  Signal  \n",
       "0   28.3415   894.95      -1  \n",
       "1   56.0644   709.20      -1  \n",
       "2   44.1211  1781.95      -1  \n",
       "4   35.8663    54.15      -1  \n",
       "5   82.9766  5053.95      -1  \n",
       "7   24.2424     5.60      -1  \n",
       "8    48.421  3251.30      -1  \n",
       "9   49.4792   125.50      -1  \n",
       "10  41.7582    79.00      -1  \n",
       "11  42.0015   307.95      -1  \n",
       "12  60.8437  1332.85      -1  \n",
       "13  40.3777  1268.05      -1  \n",
       "15  35.5593    95.85      -1  \n",
       "16   47.513   640.60      -1  \n",
       "17  34.0502    42.90      -1  \n",
       "18  45.5043   486.40      -1  \n",
       "20  30.6122     4.00      -1  \n",
       "21  23.4188   549.55      -1  \n",
       "22  53.3063   158.25      -1  \n",
       "23  48.6381   155.65      -1  \n",
       "25  53.3872   342.05      -1  \n",
       "26  42.1326  1673.80      -1  \n",
       "29  31.4655    28.70      -1  \n",
       "31  31.8937    35.95      -1  \n",
       "32  60.5596   215.00      -1  \n",
       "33  23.4043     6.20      -1  \n",
       "34  15.6627     9.25      -1  \n",
       "36  51.6854    79.70      -1  \n",
       "38   45.935    34.00      -1  \n",
       "40  24.1379    38.70      -1  \n",
       "41  28.7671    10.85      -1  \n",
       "42  44.0461   126.40      -1  \n",
       "44  59.8233   290.50      -1  \n",
       "45  24.5614    14.25      -1  \n",
       "46  44.0635   191.45      -1  \n",
       "48  61.9197   265.50      -1  \n",
       "49  43.6277  1043.75      -1  \n",
       "52  23.1838   354.50      -1  \n",
       "56   42.761  1032.80      -1  \n",
       "57  53.3189  2676.50      -1  \n",
       "59  22.2581    42.80      -1  \n",
       "60  48.1481     5.55      -1  \n",
       "61  40.9953    64.65      -1  \n",
       "62  50.2273    55.05      -1  \n",
       "64  40.7373   269.30      -1  \n",
       "65  22.9885    14.65      -1  \n",
       "66  82.9762   966.00      -1  \n",
       "67  39.8134   605.90      -1  \n",
       "70  37.7342   373.90      -1  \n",
       "72  82.9714   405.40      -1  \n",
       "73  36.0743   138.40      -1  \n",
       "74  36.1521   215.30      -1  "
      ]
     },
     "execution_count": 12,
     "metadata": {},
     "output_type": "execute_result"
    }
   ],
   "source": [
    "equityListdf.loc[equityListdf['Signal']<0]"
   ]
  },
  {
   "cell_type": "code",
   "execution_count": null,
   "metadata": {},
   "outputs": [],
   "source": []
  }
 ],
 "metadata": {
  "kernelspec": {
   "display_name": "Python 3",
   "language": "python",
   "name": "python3"
  },
  "language_info": {
   "codemirror_mode": {
    "name": "ipython",
    "version": 3
   },
   "file_extension": ".py",
   "mimetype": "text/x-python",
   "name": "python",
   "nbconvert_exporter": "python",
   "pygments_lexer": "ipython3",
   "version": "3.7.3"
  }
 },
 "nbformat": 4,
 "nbformat_minor": 2
}
