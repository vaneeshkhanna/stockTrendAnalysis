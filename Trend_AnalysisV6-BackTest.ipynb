{
 "cells": [
  {
   "cell_type": "code",
   "execution_count": 1,
   "metadata": {},
   "outputs": [
    {
     "data": {
      "text/plain": [
       "8425"
      ]
     },
     "execution_count": 1,
     "metadata": {},
     "output_type": "execute_result"
    }
   ],
   "source": [
    "import talib as taLib\n",
    "import pymongo\n",
    "import pandas as pd\n",
    "import numpy as np\n",
    "import nsepy\n",
    "from datetime import datetime\n",
    "from datetime import timedelta\n",
    "from datetime import date\n",
    "from pymongo import MongoClient\n",
    "from nsepy import get_history\n",
    "client=MongoClient(\"mongodb://localhost:27018/\",username=\"stockadm\",password=\"1qaz@WSX\")\n",
    "db=client[\"stockWarehouse\"]\n",
    "equityList=db[\"stocklist\"]\n",
    "stockWarehouse=db[\"stockWarehouse\"]\n",
    "equityListPd = pd.DataFrame(equityList.find({}))\n",
    "equityListPd.shape[0]\n"
   ]
  },
  {
   "cell_type": "code",
   "execution_count": 2,
   "metadata": {},
   "outputs": [],
   "source": [
    "def MovingAverageAnalysis(df,periodfast,periodslow):\n",
    "    df['EWMfast']=taLib.EMA(df['Close'].values,periodfast)\n",
    "    df['EWMslow']=taLib.EMA(df['Close'].values,periodslow)\n",
    "    tempnp=df.iloc[-1].to_numpy()\n",
    "    dayssincecutover=0\n",
    "    if tempnp[16] < tempnp[15]:\n",
    "        trend=1\n",
    "    else:\n",
    "        trend=-1\n",
    "    for j in range(df.shape[0]-1,2,-1):\n",
    "        if (datadf.iloc[j,15]-datadf.iloc[j,16])*(datadf.iloc[j-1,15]-datadf.iloc[j-1,16]) < 0 :\n",
    "            dayssincecutover=datadf.shape[0]-j\n",
    "            break;\n",
    "    (macd, macdsignal, macdhist)=(taLib.MACD(df['Close'], fastperiod=periodfast, slowperiod=periodslow, signalperiod=9))\n",
    "    tempnp=macdhist.iloc[-1]\n",
    "    if tempnp > 1:\n",
    "        trendnature='Expanding'\n",
    "    else:\n",
    "        trendnature='Contracting'\n",
    "    #print(df.iloc[-1])   \n",
    "    return(trend,dayssincecutover,trendnature)"
   ]
  },
  {
   "cell_type": "code",
   "execution_count": 3,
   "metadata": {},
   "outputs": [
    {
     "name": "stdout",
     "output_type": "stream",
     "text": [
      "Index(['%Deliverble', 'Close', 'Date', 'Deliverable Volume', 'High', 'Last',\n",
      "       'Low', 'Open', 'Prev Close', 'Series', 'Symbol', 'Trades', 'Turnover',\n",
      "       'VWAP', 'Volume', '_id'],\n",
      "      dtype='object')\n",
      "    %Deliverble   Close       Date  Deliverable Volume    High   Last    Low  \\\n",
      "19       0.5016  855.30 2020-12-07             2665422  859.95  855.0  850.4   \n",
      "61       0.5154  828.05 2020-10-07             3597370  830.60  829.9  823.0   \n",
      "\n",
      "     Open  Prev Close Series   Symbol  Trades      Turnover    VWAP   Volume  \\\n",
      "19  858.0      858.50     EQ  HCLTECH   83690  4.539560e+14  854.22  5314265   \n",
      "61  830.0      829.15     EQ  HCLTECH  118532  5.770534e+14  826.72  6980002   \n",
      "\n",
      "                         _id  Hammer  \n",
      "19  5ff41db85933977bf6d2ac96     100  \n",
      "61  5ff41db85933977bf6d2ac6c     100  \n"
     ]
    }
   ],
   "source": [
    "datadf=pd.DataFrame(stockWarehouse.find({'Symbol':'HCLTECH'}).sort('Date',-1).limit(90))\n",
    "print(datadf.columns)\n",
    "datadf['Hammer']=(taLib.CDLHAMMER(datadf['Open'], datadf['High'],datadf['Low'],datadf['Close'])) + (taLib.CDLHANGINGMAN(datadf['Open'], datadf['High'],datadf['Low'],datadf['Close']))\n",
    "print(datadf[datadf['Hammer'] != 0])"
   ]
  },
  {
   "cell_type": "code",
   "execution_count": 6,
   "metadata": {},
   "outputs": [
    {
     "name": "stdout",
     "output_type": "stream",
     "text": [
      "Index(['%Deliverble', 'Close', 'Date', 'Deliverable Volume', 'High', 'Last',\n",
      "       'Low', 'Open', 'Prev Close', 'Series', 'Symbol', 'Trades', 'Turnover',\n",
      "       'VWAP', 'Volume', '_id'],\n",
      "      dtype='object')\n"
     ]
    }
   ],
   "source": [
    "datadf=pd.DataFrame(stockWarehouse.find({'Symbol':'SBIN'}).sort('Date',-1).limit(30))\n",
    "print(datadf.columns)"
   ]
  },
  {
   "cell_type": "code",
   "execution_count": 22,
   "metadata": {},
   "outputs": [
    {
     "name": "stdout",
     "output_type": "stream",
     "text": [
      "Index(['Issuer Name', 'trend', 'daysSinceCutOver', 'trendnature',\n",
      "       'singleCandlePattern', 'RSI', 'Close', 'sharesbought', 'moneyinvested',\n",
      "       'profit', 'Capital', 'trades', 'cutoverprice', 'OBV', 'paperumbrella',\n",
      "       '%Deliverable', 'High'],\n",
      "      dtype='object')\n",
      "0.5807\n",
      "0.7992\n",
      "0.5361\n",
      "0.7487\n",
      "0.6861\n"
     ]
    },
    {
     "ename": "KeyboardInterrupt",
     "evalue": "",
     "output_type": "error",
     "traceback": [
      "\u001b[1;31m---------------------------------------------------------------------------\u001b[0m",
      "\u001b[1;31mKeyboardInterrupt\u001b[0m                         Traceback (most recent call last)",
      "\u001b[1;32m<ipython-input-22-e09990024c18>\u001b[0m in \u001b[0;36m<module>\u001b[1;34m\u001b[0m\n\u001b[0;32m     45\u001b[0m                 \u001b[0mequityListdf\u001b[0m\u001b[1;33m.\u001b[0m\u001b[0mloc\u001b[0m\u001b[1;33m[\u001b[0m\u001b[0mequityListdf\u001b[0m\u001b[1;33m[\u001b[0m\u001b[1;34m'Issuer Name'\u001b[0m\u001b[1;33m]\u001b[0m \u001b[1;33m==\u001b[0m \u001b[0msymbol\u001b[0m\u001b[1;33m,\u001b[0m\u001b[1;34m'Close'\u001b[0m\u001b[1;33m]\u001b[0m\u001b[1;33m=\u001b[0m\u001b[0mdatadf\u001b[0m\u001b[1;33m.\u001b[0m\u001b[0miloc\u001b[0m\u001b[1;33m[\u001b[0m\u001b[1;33m-\u001b[0m\u001b[1;36m1\u001b[0m\u001b[1;33m,\u001b[0m\u001b[1;36m1\u001b[0m\u001b[1;33m]\u001b[0m\u001b[1;33m\u001b[0m\u001b[1;33m\u001b[0m\u001b[0m\n\u001b[0;32m     46\u001b[0m                 \u001b[0mequityListdf\u001b[0m\u001b[1;33m.\u001b[0m\u001b[0mloc\u001b[0m\u001b[1;33m[\u001b[0m\u001b[0mequityListdf\u001b[0m\u001b[1;33m[\u001b[0m\u001b[1;34m'Issuer Name'\u001b[0m\u001b[1;33m]\u001b[0m \u001b[1;33m==\u001b[0m \u001b[0msymbol\u001b[0m\u001b[1;33m,\u001b[0m\u001b[1;34m'%Deliverable'\u001b[0m\u001b[1;33m]\u001b[0m\u001b[1;33m=\u001b[0m\u001b[0mdatadf\u001b[0m\u001b[1;33m.\u001b[0m\u001b[0miloc\u001b[0m\u001b[1;33m[\u001b[0m\u001b[1;33m-\u001b[0m\u001b[1;36m1\u001b[0m\u001b[1;33m,\u001b[0m\u001b[1;36m0\u001b[0m\u001b[1;33m]\u001b[0m\u001b[1;33m\u001b[0m\u001b[1;33m\u001b[0m\u001b[0m\n\u001b[1;32m---> 47\u001b[1;33m                 \u001b[0mequityListdf\u001b[0m\u001b[1;33m.\u001b[0m\u001b[0mloc\u001b[0m\u001b[1;33m[\u001b[0m\u001b[0mequityListdf\u001b[0m\u001b[1;33m[\u001b[0m\u001b[1;34m'Issuer Name'\u001b[0m\u001b[1;33m]\u001b[0m \u001b[1;33m==\u001b[0m \u001b[0msymbol\u001b[0m\u001b[1;33m,\u001b[0m\u001b[1;34m'High'\u001b[0m\u001b[1;33m]\u001b[0m\u001b[1;33m=\u001b[0m\u001b[0mdatadf\u001b[0m\u001b[1;33m.\u001b[0m\u001b[0miloc\u001b[0m\u001b[1;33m[\u001b[0m\u001b[1;33m-\u001b[0m\u001b[1;36m1\u001b[0m\u001b[1;33m,\u001b[0m\u001b[1;36m4\u001b[0m\u001b[1;33m]\u001b[0m\u001b[1;33m\u001b[0m\u001b[1;33m\u001b[0m\u001b[0m\n\u001b[0m\u001b[0;32m     48\u001b[0m                 \u001b[0mtempnp\u001b[0m\u001b[1;33m=\u001b[0m\u001b[0mequityListdf\u001b[0m\u001b[1;33m.\u001b[0m\u001b[0mloc\u001b[0m\u001b[1;33m[\u001b[0m\u001b[0mequityListdf\u001b[0m\u001b[1;33m[\u001b[0m\u001b[1;34m'Issuer Name'\u001b[0m\u001b[1;33m]\u001b[0m \u001b[1;33m==\u001b[0m \u001b[0msymbol\u001b[0m\u001b[1;33m]\u001b[0m\u001b[1;33m.\u001b[0m\u001b[0mto_numpy\u001b[0m\u001b[1;33m(\u001b[0m\u001b[1;33m)\u001b[0m \u001b[1;31m# Conveting to numpy to use in if conditions\u001b[0m\u001b[1;33m\u001b[0m\u001b[1;33m\u001b[0m\u001b[0m\n\u001b[0;32m     49\u001b[0m                 \u001b[1;31m#print(equityListdf.columns)\u001b[0m\u001b[1;33m\u001b[0m\u001b[1;33m\u001b[0m\u001b[1;33m\u001b[0m\u001b[0m\n",
      "\u001b[1;32mC:\\ProgramData\\Anaconda3\\lib\\site-packages\\pandas\\core\\indexing.py\u001b[0m in \u001b[0;36m__setitem__\u001b[1;34m(self, key, value)\u001b[0m\n\u001b[0;32m    188\u001b[0m             \u001b[0mkey\u001b[0m \u001b[1;33m=\u001b[0m \u001b[0mcom\u001b[0m\u001b[1;33m.\u001b[0m\u001b[0mapply_if_callable\u001b[0m\u001b[1;33m(\u001b[0m\u001b[0mkey\u001b[0m\u001b[1;33m,\u001b[0m \u001b[0mself\u001b[0m\u001b[1;33m.\u001b[0m\u001b[0mobj\u001b[0m\u001b[1;33m)\u001b[0m\u001b[1;33m\u001b[0m\u001b[1;33m\u001b[0m\u001b[0m\n\u001b[0;32m    189\u001b[0m         \u001b[0mindexer\u001b[0m \u001b[1;33m=\u001b[0m \u001b[0mself\u001b[0m\u001b[1;33m.\u001b[0m\u001b[0m_get_setitem_indexer\u001b[0m\u001b[1;33m(\u001b[0m\u001b[0mkey\u001b[0m\u001b[1;33m)\u001b[0m\u001b[1;33m\u001b[0m\u001b[1;33m\u001b[0m\u001b[0m\n\u001b[1;32m--> 190\u001b[1;33m         \u001b[0mself\u001b[0m\u001b[1;33m.\u001b[0m\u001b[0m_setitem_with_indexer\u001b[0m\u001b[1;33m(\u001b[0m\u001b[0mindexer\u001b[0m\u001b[1;33m,\u001b[0m \u001b[0mvalue\u001b[0m\u001b[1;33m)\u001b[0m\u001b[1;33m\u001b[0m\u001b[1;33m\u001b[0m\u001b[0m\n\u001b[0m\u001b[0;32m    191\u001b[0m \u001b[1;33m\u001b[0m\u001b[0m\n\u001b[0;32m    192\u001b[0m     \u001b[1;32mdef\u001b[0m \u001b[0m_validate_key\u001b[0m\u001b[1;33m(\u001b[0m\u001b[0mself\u001b[0m\u001b[1;33m,\u001b[0m \u001b[0mkey\u001b[0m\u001b[1;33m,\u001b[0m \u001b[0maxis\u001b[0m\u001b[1;33m)\u001b[0m\u001b[1;33m:\u001b[0m\u001b[1;33m\u001b[0m\u001b[1;33m\u001b[0m\u001b[0m\n",
      "\u001b[1;32mC:\\ProgramData\\Anaconda3\\lib\\site-packages\\pandas\\core\\indexing.py\u001b[0m in \u001b[0;36m_setitem_with_indexer\u001b[1;34m(self, indexer, value)\u001b[0m\n\u001b[0;32m    618\u001b[0m                 \u001b[1;31m# scalar\u001b[0m\u001b[1;33m\u001b[0m\u001b[1;33m\u001b[0m\u001b[1;33m\u001b[0m\u001b[0m\n\u001b[0;32m    619\u001b[0m                 \u001b[1;32mfor\u001b[0m \u001b[0mitem\u001b[0m \u001b[1;32min\u001b[0m \u001b[0mlabels\u001b[0m\u001b[1;33m:\u001b[0m\u001b[1;33m\u001b[0m\u001b[1;33m\u001b[0m\u001b[0m\n\u001b[1;32m--> 620\u001b[1;33m                     \u001b[0msetter\u001b[0m\u001b[1;33m(\u001b[0m\u001b[0mitem\u001b[0m\u001b[1;33m,\u001b[0m \u001b[0mvalue\u001b[0m\u001b[1;33m)\u001b[0m\u001b[1;33m\u001b[0m\u001b[1;33m\u001b[0m\u001b[0m\n\u001b[0m\u001b[0;32m    621\u001b[0m \u001b[1;33m\u001b[0m\u001b[0m\n\u001b[0;32m    622\u001b[0m         \u001b[1;32melse\u001b[0m\u001b[1;33m:\u001b[0m\u001b[1;33m\u001b[0m\u001b[1;33m\u001b[0m\u001b[0m\n",
      "\u001b[1;32mC:\\ProgramData\\Anaconda3\\lib\\site-packages\\pandas\\core\\indexing.py\u001b[0m in \u001b[0;36msetter\u001b[1;34m(item, v)\u001b[0m\n\u001b[0;32m    541\u001b[0m \u001b[1;33m\u001b[0m\u001b[0m\n\u001b[0;32m    542\u001b[0m                 \u001b[1;31m# reset the sliced object if unique\u001b[0m\u001b[1;33m\u001b[0m\u001b[1;33m\u001b[0m\u001b[1;33m\u001b[0m\u001b[0m\n\u001b[1;32m--> 543\u001b[1;33m                 \u001b[0mself\u001b[0m\u001b[1;33m.\u001b[0m\u001b[0mobj\u001b[0m\u001b[1;33m[\u001b[0m\u001b[0mitem\u001b[0m\u001b[1;33m]\u001b[0m \u001b[1;33m=\u001b[0m \u001b[0ms\u001b[0m\u001b[1;33m\u001b[0m\u001b[1;33m\u001b[0m\u001b[0m\n\u001b[0m\u001b[0;32m    544\u001b[0m \u001b[1;33m\u001b[0m\u001b[0m\n\u001b[0;32m    545\u001b[0m             \u001b[1;32mdef\u001b[0m \u001b[0mcan_do_equal_len\u001b[0m\u001b[1;33m(\u001b[0m\u001b[1;33m)\u001b[0m\u001b[1;33m:\u001b[0m\u001b[1;33m\u001b[0m\u001b[1;33m\u001b[0m\u001b[0m\n",
      "\u001b[1;32mC:\\ProgramData\\Anaconda3\\lib\\site-packages\\pandas\\core\\frame.py\u001b[0m in \u001b[0;36m__setitem__\u001b[1;34m(self, key, value)\u001b[0m\n\u001b[0;32m   3368\u001b[0m         \u001b[1;32melse\u001b[0m\u001b[1;33m:\u001b[0m\u001b[1;33m\u001b[0m\u001b[1;33m\u001b[0m\u001b[0m\n\u001b[0;32m   3369\u001b[0m             \u001b[1;31m# set column\u001b[0m\u001b[1;33m\u001b[0m\u001b[1;33m\u001b[0m\u001b[1;33m\u001b[0m\u001b[0m\n\u001b[1;32m-> 3370\u001b[1;33m             \u001b[0mself\u001b[0m\u001b[1;33m.\u001b[0m\u001b[0m_set_item\u001b[0m\u001b[1;33m(\u001b[0m\u001b[0mkey\u001b[0m\u001b[1;33m,\u001b[0m \u001b[0mvalue\u001b[0m\u001b[1;33m)\u001b[0m\u001b[1;33m\u001b[0m\u001b[1;33m\u001b[0m\u001b[0m\n\u001b[0m\u001b[0;32m   3371\u001b[0m \u001b[1;33m\u001b[0m\u001b[0m\n\u001b[0;32m   3372\u001b[0m     \u001b[1;32mdef\u001b[0m \u001b[0m_setitem_slice\u001b[0m\u001b[1;33m(\u001b[0m\u001b[0mself\u001b[0m\u001b[1;33m,\u001b[0m \u001b[0mkey\u001b[0m\u001b[1;33m,\u001b[0m \u001b[0mvalue\u001b[0m\u001b[1;33m)\u001b[0m\u001b[1;33m:\u001b[0m\u001b[1;33m\u001b[0m\u001b[1;33m\u001b[0m\u001b[0m\n",
      "\u001b[1;32mC:\\ProgramData\\Anaconda3\\lib\\site-packages\\pandas\\core\\frame.py\u001b[0m in \u001b[0;36m_set_item\u001b[1;34m(self, key, value)\u001b[0m\n\u001b[0;32m   3444\u001b[0m         \u001b[0mself\u001b[0m\u001b[1;33m.\u001b[0m\u001b[0m_ensure_valid_index\u001b[0m\u001b[1;33m(\u001b[0m\u001b[0mvalue\u001b[0m\u001b[1;33m)\u001b[0m\u001b[1;33m\u001b[0m\u001b[1;33m\u001b[0m\u001b[0m\n\u001b[0;32m   3445\u001b[0m         \u001b[0mvalue\u001b[0m \u001b[1;33m=\u001b[0m \u001b[0mself\u001b[0m\u001b[1;33m.\u001b[0m\u001b[0m_sanitize_column\u001b[0m\u001b[1;33m(\u001b[0m\u001b[0mkey\u001b[0m\u001b[1;33m,\u001b[0m \u001b[0mvalue\u001b[0m\u001b[1;33m)\u001b[0m\u001b[1;33m\u001b[0m\u001b[1;33m\u001b[0m\u001b[0m\n\u001b[1;32m-> 3446\u001b[1;33m         \u001b[0mNDFrame\u001b[0m\u001b[1;33m.\u001b[0m\u001b[0m_set_item\u001b[0m\u001b[1;33m(\u001b[0m\u001b[0mself\u001b[0m\u001b[1;33m,\u001b[0m \u001b[0mkey\u001b[0m\u001b[1;33m,\u001b[0m \u001b[0mvalue\u001b[0m\u001b[1;33m)\u001b[0m\u001b[1;33m\u001b[0m\u001b[1;33m\u001b[0m\u001b[0m\n\u001b[0m\u001b[0;32m   3447\u001b[0m \u001b[1;33m\u001b[0m\u001b[0m\n\u001b[0;32m   3448\u001b[0m         \u001b[1;31m# check if we are modifying a copy\u001b[0m\u001b[1;33m\u001b[0m\u001b[1;33m\u001b[0m\u001b[1;33m\u001b[0m\u001b[0m\n",
      "\u001b[1;32mC:\\ProgramData\\Anaconda3\\lib\\site-packages\\pandas\\core\\generic.py\u001b[0m in \u001b[0;36m_set_item\u001b[1;34m(self, key, value)\u001b[0m\n\u001b[0;32m   3170\u001b[0m \u001b[1;33m\u001b[0m\u001b[0m\n\u001b[0;32m   3171\u001b[0m     \u001b[1;32mdef\u001b[0m \u001b[0m_set_item\u001b[0m\u001b[1;33m(\u001b[0m\u001b[0mself\u001b[0m\u001b[1;33m,\u001b[0m \u001b[0mkey\u001b[0m\u001b[1;33m,\u001b[0m \u001b[0mvalue\u001b[0m\u001b[1;33m)\u001b[0m\u001b[1;33m:\u001b[0m\u001b[1;33m\u001b[0m\u001b[1;33m\u001b[0m\u001b[0m\n\u001b[1;32m-> 3172\u001b[1;33m         \u001b[0mself\u001b[0m\u001b[1;33m.\u001b[0m\u001b[0m_data\u001b[0m\u001b[1;33m.\u001b[0m\u001b[0mset\u001b[0m\u001b[1;33m(\u001b[0m\u001b[0mkey\u001b[0m\u001b[1;33m,\u001b[0m \u001b[0mvalue\u001b[0m\u001b[1;33m)\u001b[0m\u001b[1;33m\u001b[0m\u001b[1;33m\u001b[0m\u001b[0m\n\u001b[0m\u001b[0;32m   3173\u001b[0m         \u001b[0mself\u001b[0m\u001b[1;33m.\u001b[0m\u001b[0m_clear_item_cache\u001b[0m\u001b[1;33m(\u001b[0m\u001b[1;33m)\u001b[0m\u001b[1;33m\u001b[0m\u001b[1;33m\u001b[0m\u001b[0m\n\u001b[0;32m   3174\u001b[0m \u001b[1;33m\u001b[0m\u001b[0m\n",
      "\u001b[1;32mC:\\ProgramData\\Anaconda3\\lib\\site-packages\\pandas\\core\\internals\\managers.py\u001b[0m in \u001b[0;36mset\u001b[1;34m(self, item, value)\u001b[0m\n\u001b[0;32m   1061\u001b[0m \u001b[1;33m\u001b[0m\u001b[0m\n\u001b[0;32m   1062\u001b[0m         \u001b[0mblknos\u001b[0m \u001b[1;33m=\u001b[0m \u001b[0mself\u001b[0m\u001b[1;33m.\u001b[0m\u001b[0m_blknos\u001b[0m\u001b[1;33m[\u001b[0m\u001b[0mloc\u001b[0m\u001b[1;33m]\u001b[0m\u001b[1;33m\u001b[0m\u001b[1;33m\u001b[0m\u001b[0m\n\u001b[1;32m-> 1063\u001b[1;33m         \u001b[0mblklocs\u001b[0m \u001b[1;33m=\u001b[0m \u001b[0mself\u001b[0m\u001b[1;33m.\u001b[0m\u001b[0m_blklocs\u001b[0m\u001b[1;33m[\u001b[0m\u001b[0mloc\u001b[0m\u001b[1;33m]\u001b[0m\u001b[1;33m.\u001b[0m\u001b[0mcopy\u001b[0m\u001b[1;33m(\u001b[0m\u001b[1;33m)\u001b[0m\u001b[1;33m\u001b[0m\u001b[1;33m\u001b[0m\u001b[0m\n\u001b[0m\u001b[0;32m   1064\u001b[0m \u001b[1;33m\u001b[0m\u001b[0m\n\u001b[0;32m   1065\u001b[0m         \u001b[0munfit_mgr_locs\u001b[0m \u001b[1;33m=\u001b[0m \u001b[1;33m[\u001b[0m\u001b[1;33m]\u001b[0m\u001b[1;33m\u001b[0m\u001b[1;33m\u001b[0m\u001b[0m\n",
      "\u001b[1;31mKeyboardInterrupt\u001b[0m: "
     ]
    }
   ],
   "source": [
    "equityList=db[\"stocklist\"]\n",
    "stockWarehouse=db[\"stockWarehouse\"]\n",
    "\n",
    "equityListdf=pd.DataFrame(equityList.find({'State':\"A\"},{'Issuer Name':1,'_id':0},no_cursor_timeout=True))\n",
    "equityListdf['trend']=0\n",
    "equityListdf['daysSinceCutOver']=0\n",
    "equityListdf['trendnature']=''\n",
    "equityListdf['singleCandlePattern']=''\n",
    "equityListdf['RSI']=0\n",
    "equityListdf['Close']=0\n",
    "equityListdf['sharesbought']=0\n",
    "equityListdf['moneyinvested']=0    \n",
    "equityListdf['profit']=0\n",
    "equityListdf['Capital']=0\n",
    "equityListdf['trades']=0\n",
    "equityListdf['cutoverprice']=0                \n",
    "equityListdf['OBV']=0\n",
    "equityListdf['paperumbrella']=0\n",
    "equityListdf['%Deliverable']=0\n",
    "equityListdf['High']=0\n",
    "capital_needed=0\n",
    "equityListdf['sharesbought']=0\n",
    "portfolio=np.array([['Symbol','price','number of shares']])\n",
    "print(equityListdf.columns)\n",
    "for dt in stockWarehouse.find({'Symbol':'SBIN','Date':{'$gte':datetime(2020,1,1)},'Close':{'$lte':1500},'Close':{'$gte':100}},{'_id':0,'Date':1},no_cursor_timeout=True).sort('Date'):\n",
    "    profit=0  \n",
    "    trades=0\n",
    "    sell=0\n",
    "    buy=0\n",
    "    limit=50000\n",
    "    for symbol in equityListdf['Issuer Name']:\n",
    "        \n",
    "        # Check if database has latest sttock info by comparing aginst SBI\n",
    "        for dt1 in stockWarehouse.find({'Symbol':'SBIN','Date':{'$lte':dt['Date']}},{'_id':0,'Date':1}).sort('Date',-1).limit(1):\n",
    "            refdate=dt1 # Set Reference Data as last date when SBI Stock Data was update\n",
    "        for maxdate in stockWarehouse.find({'Symbol':symbol,'Date':{'$lte':dt['Date']}},{'_id':0,'Date':1}).sort('Date',-1).limit(1):\n",
    "            if maxdate == refdate :     \n",
    "                ################## Get Stock info for last 90 days########################\n",
    "                datadf=pd.DataFrame(stockWarehouse.find({'Symbol':symbol,'Date':{'$lte':dt['Date']}}).sort('Date',-1).limit(30))\n",
    "                datadf.set_index('Date',inplace=True)\n",
    "                datadf.sort_index(inplace=True)\n",
    "                #print(datadf.iloc[-1].index,end=\"|\")\n",
    "                #print(datadf.iloc[-1,0])\n",
    "                ##################Add Last close price to equityListdf\n",
    "                equityListdf.loc[equityListdf['Issuer Name'] == symbol,'Close']=datadf.iloc[-1,1]\n",
    "                equityListdf.loc[equityListdf['Issuer Name'] == symbol,'%Deliverable']=datadf.iloc[-1,0]\n",
    "                equityListdf.loc[equityListdf['Issuer Name'] == symbol,'High']=datadf.iloc[-1,4]\n",
    "                tempnp=equityListdf.loc[equityListdf['Issuer Name'] == symbol].to_numpy() # Conveting to numpy to use in if conditions\n",
    "                #print(equityListdf.columns)\n",
    "                if tempnp[0,6] < 1500 and tempnp[0,6] > 100 and tempnp[0,15] > .50:  # Column 6 is close price columnm 15 is deliverable % \n",
    "                    (a,b,c)=MovingAverageAnalysis(datadf,9,21)\n",
    "                    equityListdf.loc[equityListdf['Issuer Name'] == symbol,'trend']=a\n",
    "                    equityListdf.loc[equityListdf['Issuer Name'] == symbol,'daysSinceCutOver']=b\n",
    "                    equityListdf.loc[equityListdf['Issuer Name'] == symbol,'trendnature']=c\n",
    "                    equityListdf.loc[equityListdf['Issuer Name'] == symbol,'RSI']=taLib.RSI(datadf['Close'],14)[-1]\n",
    "                    equityListdf.loc[equityListdf['Issuer Name'] == symbol,'OBV']=taLib.OBV(datadf['Close'],datadf['Volume'])[-1]\n",
    "                    equityListdf['paperumbrella']=(taLib.CDLHAMMER(datadf['Open'], datadf['High'],datadf['Low'],datadf['Close']) + taLib.CDLHANGINGMAN(datadf['Open'], datadf['High'],datadf['Low'],datadf['Close']))[-1]\n",
    "                    \n",
    "                    tempnp=equityListdf.loc[equityListdf['Issuer Name'] == symbol].to_numpy()\n",
    "                    \n",
    "                    if capital_needed < limit and ((tempnp[0,5] > 60 and tempnp[0,2] < 5   and tempnp[0,1] == 1 and tempnp[0,3] == 'Expanding') or (tempnp[0,14] !=0 and tempnp[0,1] == -1))and tempnp[0,7] == 0 and tempnp[0,13] > 0:\n",
    "                        for cls in stockWarehouse.find({'Symbol':symbol,'Date':{'$gt':dt['Date']}},{'_id':0,'Open':1,'Date':1}).sort('Date',1).limit(1):\n",
    "                                buyprice=(cls['Open'] * 1.005)\n",
    "                        print(tempnp[0,15])        \n",
    "                        tempnp[0,6]=buyprice\n",
    "                        tempnp[0,7]=tempnp[0,7] + round(2500/tempnp[0,6])\n",
    "                        equityListdf.loc[equityListdf['Issuer Name']==symbol,'sharesbought']=tempnp[0,7]\n",
    "                        equityListdf.loc[equityListdf['Issuer Name']==symbol,'moneyinvested']=tempnp[0,8] + (tempnp[0,6]*round(2500/tempnp[0,6]))\n",
    "                        capital_needed=capital_needed+(tempnp[0,6]*round(2500/tempnp[0,6]))\n",
    "                        buy=buy+1\n",
    "                        portfolio=np.vstack([portfolio,[[symbol,tempnp[0,6],tempnp[0,7]]]])\n",
    "                    else:\n",
    "                        if tempnp[0,7] > 0:\n",
    "                            avgprice=tempnp[0,8]/tempnp[0,7]\n",
    "                            if tempnp[0,5] < 45 or tempnp[0,1] == -1 or tempnp[0,3] == 'Contracting' :\n",
    "                                if (avgprice-tempnp[0,6])/avgprice > .1 :\n",
    "                                    loss=((tempnp[0,6] * tempnp[0,7]) - tempnp[0,8] - 15)\n",
    "                                if (tempnp[0,16]-avgprice)/avgprice > .05:\n",
    "                                    loss=((tempnp[0,16] * tempnp[0,7]) - tempnp[0,8] - 15)\n",
    "                                limit=limit+loss\n",
    "                                #print(tempnp,loss,tempnp[0,8]*.1)\n",
    "                                equityListdf.loc[equityListdf['Issuer Name']==symbol,'profit']=tempnp[0,9] + loss\n",
    "                                capital_needed=(capital_needed-(tempnp[0,6] * tempnp[0,7]))\n",
    "                                #print('selling shares ',symbol,' @ price',tempnp[0,6],' number ',tempnp[0,7])\n",
    "                                equityListdf.loc[equityListdf['Issuer Name']==symbol,'sharesbought']=0\n",
    "                                equityListdf.loc[equityListdf['Issuer Name']==symbol,'trades']=tempnp[0,11]+1\n",
    "                                equityListdf.loc[equityListdf['Issuer Name']==symbol,'moneyinvested']=0\n",
    "                                portfolio=portfolio[portfolio[:,0]!=symbol]\n",
    "                                sell=sell+1\n",
    "\n",
    "    print(datetime.time(datetime.now()),'Date',dt['Date'].date(),'Profit:',round(equityListdf['profit'].sum()),'Capital:',round(capital_needed),'sellsigs:',sell,'buysigs',buy)\n",
    "print(limit)\n",
    "                                \n",
    "\n",
    "                    \n",
    "                   "
   ]
  },
  {
   "cell_type": "code",
   "execution_count": 15,
   "metadata": {},
   "outputs": [
    {
     "name": "stdout",
     "output_type": "stream",
     "text": [
      "Index(['Issuer Name', 'trend', 'daysSinceCutOver', 'trendnature',\n",
      "       'singleCandlePattern', 'RSI', 'Close', 'sharesbought', 'moneyinvested',\n",
      "       'profit', 'Capital', 'trades', 'cutoverprice', 'OBV'],\n",
      "      dtype='object')\n"
     ]
    }
   ],
   "source": [
    "print(equityListdf.columns)"
   ]
  },
  {
   "cell_type": "code",
   "execution_count": null,
   "metadata": {},
   "outputs": [],
   "source": []
  }
 ],
 "metadata": {
  "kernelspec": {
   "display_name": "python3.6",
   "language": "python",
   "name": "python3.6"
  },
  "language_info": {
   "codemirror_mode": {
    "name": "ipython",
    "version": 3
   },
   "file_extension": ".py",
   "mimetype": "text/x-python",
   "name": "python",
   "nbconvert_exporter": "python",
   "pygments_lexer": "ipython3",
   "version": "3.7.3"
  }
 },
 "nbformat": 4,
 "nbformat_minor": 2
}
