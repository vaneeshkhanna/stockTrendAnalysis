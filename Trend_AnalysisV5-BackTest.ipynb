{
 "cells": [
  {
   "cell_type": "code",
   "execution_count": 1,
   "metadata": {},
   "outputs": [
    {
     "data": {
      "text/plain": [
       "8425"
      ]
     },
     "execution_count": 1,
     "metadata": {},
     "output_type": "execute_result"
    }
   ],
   "source": [
    "import talib as taLib\n",
    "import pymongo\n",
    "import pandas as pd\n",
    "import numpy as np\n",
    "import nsepy\n",
    "from datetime import datetime\n",
    "from datetime import timedelta\n",
    "from datetime import date\n",
    "from pymongo import MongoClient\n",
    "from nsepy import get_history\n",
    "client=MongoClient(\"mongodb://localhost:27018/\",username=\"stockadm\",password=\"1qaz@WSX\")\n",
    "db=client[\"stockWarehouse\"]\n",
    "equityList=db[\"stocklist\"]\n",
    "stockWarehouse=db[\"stockWarehouse\"]\n",
    "equityListPd = pd.DataFrame(equityList.find({}))\n",
    "equityListPd.shape[0]\n"
   ]
  },
  {
   "cell_type": "code",
   "execution_count": 2,
   "metadata": {},
   "outputs": [],
   "source": [
    "def MovingAverageAnalysis(df,periodfast,periodslow):\n",
    "    df['EWMfast']=taLib.EMA(df['Close'].values,periodfast)\n",
    "    df['EWMslow']=taLib.EMA(df['Close'].values,periodslow)\n",
    "    tempnp=df.iloc[-1].to_numpy()\n",
    "    dayssincecutover=0\n",
    "    if tempnp[16] < tempnp[15]:\n",
    "        trend=1\n",
    "    else:\n",
    "        trend=-1\n",
    "    for j in range(df.shape[0]-1,2,-1):\n",
    "        if (datadf.iloc[j,15]-datadf.iloc[j,16])*(datadf.iloc[j-1,15]-datadf.iloc[j-1,16]) < 0 :\n",
    "            dayssincecutover=datadf.shape[0]-j\n",
    "            break;\n",
    "    (macd, macdsignal, macdhist)=(taLib.MACD(df['Close'], fastperiod=periodfast, slowperiod=periodslow, signalperiod=9))\n",
    "    tempnp=macdhist.iloc[-1]\n",
    "    if tempnp > 1:\n",
    "        trendnature='Expanding'\n",
    "    else:\n",
    "        trendnature='Contracting'\n",
    "    #print(df.iloc[-1])   \n",
    "    return(trend,dayssincecutover,trendnature)"
   ]
  },
  {
   "cell_type": "code",
   "execution_count": 3,
   "metadata": {},
   "outputs": [
    {
     "name": "stdout",
     "output_type": "stream",
     "text": [
      "Index(['%Deliverble', 'Close', 'Date', 'Deliverable Volume', 'High', 'Last',\n",
      "       'Low', 'Open', 'Prev Close', 'Series', 'Symbol', 'Trades', 'Turnover',\n",
      "       'VWAP', 'Volume', '_id'],\n",
      "      dtype='object')\n",
      "Empty DataFrame\n",
      "Columns: [%Deliverble, Close, Date, Deliverable Volume, High, Last, Low, Open, Prev Close, Series, Symbol, Trades, Turnover, VWAP, Volume, _id, Hammer]\n",
      "Index: []\n"
     ]
    }
   ],
   "source": [
    "datadf=pd.DataFrame(stockWarehouse.find({'Symbol':'HCLTECH'}).sort('Date',-1).limit(90))\n",
    "print(datadf.columns)\n",
    "datadf['Hammer']=(taLib.CDLHAMMER(datadf['Open'], datadf['High'],datadf['Low'],datadf['Close'])) + (taLib.CDLHANGINGMAN(datadf['Open'], datadf['High'],datadf['Low'],datadf['Close']))\n",
    "print(datadf[datadf['Hammer'] != 0])"
   ]
  },
  {
   "cell_type": "code",
   "execution_count": 4,
   "metadata": {},
   "outputs": [],
   "source": [
    "\n",
    "\n",
    "\n",
    "\n",
    "\n",
    "\n",
    "\n",
    "\\"
   ]
  },
  {
   "cell_type": "code",
   "execution_count": null,
   "metadata": {},
   "outputs": [
    {
     "name": "stdout",
     "output_type": "stream",
     "text": [
      "09:59:43.291626 Date 2020-01-01 Profit: 0 Capital: 51165 sellsigs: 0 buysigs 20\n",
      "10:00:05.552723 Date 2020-01-02 Profit: 139.0 Capital: 51012 sellsigs: 2 buysigs 2\n",
      "10:00:26.316650 Date 2020-01-03 Profit: 160.0 Capital: 50487 sellsigs: 3 buysigs 3\n",
      "10:00:47.608153 Date 2020-01-06 Profit: -580.0 Capital: 50929 sellsigs: 6 buysigs 6\n",
      "10:01:13.177998 Date 2020-01-07 Profit: -327.0 Capital: 52285 sellsigs: 4 buysigs 5\n",
      "10:01:34.344319 Date 2020-01-08 Profit: -365.0 Capital: 51884 sellsigs: 7 buysigs 7\n",
      "10:01:55.419378 Date 2020-01-09 Profit: 429.0 Capital: 51010 sellsigs: 5 buysigs 5\n",
      "10:02:16.531077 Date 2020-01-10 Profit: 531.0 Capital: 50978 sellsigs: 6 buysigs 6\n",
      "10:02:37.399700 Date 2020-01-13 Profit: 609.0 Capital: 50912 sellsigs: 5 buysigs 5\n",
      "10:02:58.356969 Date 2020-01-14 Profit: 1105.0 Capital: 50795 sellsigs: 5 buysigs 5\n",
      "10:03:19.648485 Date 2020-01-15 Profit: 1177.0 Capital: 52259 sellsigs: 4 buysigs 5\n",
      "10:03:40.503360 Date 2020-01-16 Profit: 1445.0 Capital: 52131 sellsigs: 1 buysigs 1\n",
      "10:04:01.587325 Date 2020-01-17 Profit: 1771.0 Capital: 51751 sellsigs: 5 buysigs 5\n",
      "10:04:22.757164 Date 2020-01-20 Profit: 1312.0 Capital: 51397 sellsigs: 7 buysigs 7\n",
      "10:04:43.567402 Date 2020-01-21 Profit: 1127.0 Capital: 51280 sellsigs: 3 buysigs 3\n",
      "10:05:04.697195 Date 2020-01-22 Profit: 825.0 Capital: 50726 sellsigs: 7 buysigs 7\n",
      "10:05:25.578508 Date 2020-01-23 Profit: 813.0 Capital: 51407 sellsigs: 6 buysigs 6\n",
      "10:05:46.466142 Date 2020-01-24 Profit: 815.0 Capital: 52048 sellsigs: 3 buysigs 3\n",
      "10:06:07.648577 Date 2020-01-27 Profit: 650.0 Capital: 50560 sellsigs: 7 buysigs 6\n",
      "10:06:29.115602 Date 2020-01-28 Profit: 350.0 Capital: 51116 sellsigs: 4 buysigs 4\n",
      "10:06:51.518594 Date 2020-01-29 Profit: 416.0 Capital: 51199 sellsigs: 8 buysigs 8\n",
      "10:07:12.483940 Date 2020-01-30 Profit: 226.0 Capital: 49984 sellsigs: 8 buysigs 7\n",
      "10:07:33.595788 Date 2020-01-31 Profit: 40.0 Capital: 49850 sellsigs: 3 buysigs 3\n",
      "10:07:54.798217 Date 2020-02-01 Profit: -1247.0 Capital: 45400 sellsigs: 12 buysigs 10\n",
      "10:08:15.349708 Date 2020-02-03 Profit: -1376.0 Capital: 43231 sellsigs: 6 buysigs 5\n",
      "10:08:35.905582 Date 2020-02-04 Profit: -479.0 Capital: 34553 sellsigs: 8 buysigs 5\n",
      "10:08:56.607871 Date 2020-02-05 Profit: -99.0 Capital: 52535 sellsigs: 4 buysigs 11\n"
     ]
    }
   ],
   "source": [
    "equityList=db[\"stocklist\"]\n",
    "stockWarehouse=db[\"stockWarehouse\"]\n",
    "\n",
    "equityListdf=pd.DataFrame(equityList.find({'State':\"A\"},{'Issuer Name':1,'_id':0},no_cursor_timeout=True))\n",
    "equityListdf['trend']=0\n",
    "equityListdf['daysSinceCutOver']=0\n",
    "equityListdf['trendnature']=''\n",
    "equityListdf['singleCandlePattern']=''\n",
    "equityListdf['RSI']=0\n",
    "equityListdf['Close']=0\n",
    "equityListdf['sharesbought']=0\n",
    "equityListdf['moneyinvested']=0    \n",
    "equityListdf['profit']=0\n",
    "equityListdf['Capital']=0\n",
    "equityListdf['trades']=0\n",
    "equityListdf['cutoverprice']=0                \n",
    "equityListdf['OBV']=0\n",
    "equityListdf['paperumbrella']=0\n",
    "\n",
    "capital_needed=0\n",
    "equityListdf['sharesbought']=0\n",
    "portfolio=np.array([['Symbol','price','number of shares']])\n",
    "#print(equityListdf.columns)\n",
    "for dt in stockWarehouse.find({'Symbol':'SBIN','Date':{'$gte':datetime(2020,1,1)},'Close':{'$lte':1500},'Close':{'$gte':100}},{'_id':0,'Date':1},no_cursor_timeout=True).sort('Date'):\n",
    "    profit=0  \n",
    "    trades=0\n",
    "    sell=0\n",
    "    buy=0\n",
    "    limit=50000\n",
    "    for symbol in equityListdf['Issuer Name']:\n",
    "        \n",
    "        # Check if database has latest sttock info by comparing aginst SBI\n",
    "        for dt1 in stockWarehouse.find({'Symbol':'SBIN','Date':{'$lte':dt['Date']}},{'_id':0,'Date':1}).sort('Date',-1).limit(1):\n",
    "            refdate=dt1 # Set Reference Data as last date when SBI Stock Data was update\n",
    "        for maxdate in stockWarehouse.find({'Symbol':symbol,'Date':{'$lte':dt['Date']}},{'_id':0,'Date':1}).sort('Date',-1).limit(1):\n",
    "            if maxdate == refdate :     \n",
    "                ################## Get Stock info for last 90 days########################\n",
    "                datadf=pd.DataFrame(stockWarehouse.find({'Symbol':symbol,'Date':{'$lte':dt['Date']}}).sort('Date',-1).limit(30))\n",
    "                datadf.set_index('Date',inplace=True)\n",
    "                datadf.sort_index(inplace=True)\n",
    "                #print(datadf.iloc[-1].index,end=\"|\")\n",
    "                \n",
    "                ##################Add Last close price to equityListdf\n",
    "                equityListdf.loc[equityListdf['Issuer Name'] == symbol,'Close']=datadf.iloc[-1,1]\n",
    "                tempnp=equityListdf.loc[equityListdf['Issuer Name'] == symbol].to_numpy() # Conveting to numpy to use in if conditions\n",
    "                if tempnp[0,6] < 1500 and tempnp[0,6] > 100:  # Column 6 is close price \n",
    "                    (a,b,c)=MovingAverageAnalysis(datadf,9,21)\n",
    "                    equityListdf.loc[equityListdf['Issuer Name'] == symbol,'trend']=a\n",
    "                    equityListdf.loc[equityListdf['Issuer Name'] == symbol,'daysSinceCutOver']=b\n",
    "                    equityListdf.loc[equityListdf['Issuer Name'] == symbol,'trendnature']=c\n",
    "                    equityListdf.loc[equityListdf['Issuer Name'] == symbol,'RSI']=taLib.RSI(datadf['Close'],14)[-1]\n",
    "                    equityListdf.loc[equityListdf['Issuer Name'] == symbol,'OBV']=taLib.OBV(datadf['Close'],datadf['Volume'])[-1]\n",
    "                    equityListdf['paperumbrella']=(taLib.CDLHAMMER(datadf['Open'], datadf['High'],datadf['Low'],datadf['Close']) + taLib.CDLHANGINGMAN(datadf['Open'], datadf['High'],datadf['Low'],datadf['Close']))[-1]\n",
    "                    tempnp=equityListdf.loc[equityListdf['Issuer Name'] == symbol].to_numpy()\n",
    "                    \n",
    "                    if capital_needed < limit and ((tempnp[0,5] > 60 and tempnp[0,2] < 5   and tempnp[0,1] == 1 and tempnp[0,3] == 'Expanding') or (tempnp[0,14] !=0 and tempnp[0,1] == -1))and tempnp[0,7] == 0 and tempnp[0,13] > 0:\n",
    "                        for cls in stockWarehouse.find({'Symbol':symbol,'Date':{'$gt':dt['Date']}},{'_id':0,'Open':1,'Date':1}).sort('Date',1).limit(1):\n",
    "                                buyprice=(cls['Open'] * 1.005)\n",
    "                        \n",
    "                        tempnp[0,6]=buyprice\n",
    "                        tempnp[0,7]=tempnp[0,7] + round(2500/tempnp[0,6])\n",
    "                        equityListdf.loc[equityListdf['Issuer Name']==symbol,'sharesbought']=tempnp[0,7]\n",
    "                        equityListdf.loc[equityListdf['Issuer Name']==symbol,'moneyinvested']=tempnp[0,8] + (tempnp[0,6]*round(2500/tempnp[0,6]))\n",
    "                        capital_needed=capital_needed+(tempnp[0,6]*round(2500/tempnp[0,6]))\n",
    "                        buy=buy+1\n",
    "                        portfolio=np.vstack([portfolio,[[symbol,tempnp[0,6],tempnp[0,7]]]])\n",
    "                    else:\n",
    "                        if tempnp[0,7] > 0:\n",
    "                            avgprice=tempnp[0,8]/tempnp[0,7]\n",
    "                            if tempnp[0,5] < 45 or tempnp[0,1] == -1 or tempnp[0,3] == 'Contracting' or (avgprice-tempnp[0,6])/avgprice > .06 or (tempnp[0,6]-avgprice)/avgprice > .07 or (tempnp[0,14] !=0 and tempnp[0,1] == 1):\n",
    "                                loss=((tempnp[0,6] * tempnp[0,7]) - tempnp[0,8] - 15)\n",
    "                                if loss < -(tempnp[0,8]*.1) :\n",
    "                                    loss=-(tempnp[0,8]*.1)\n",
    "                                limit=limit+loss\n",
    "                                #print(tempnp,loss,tempnp[0,8]*.1)\n",
    "                                equityListdf.loc[equityListdf['Issuer Name']==symbol,'profit']=tempnp[0,9] + loss\n",
    "                                capital_needed=(capital_needed-(tempnp[0,6] * tempnp[0,7]))\n",
    "                                #print('selling shares ',symbol,' @ price',tempnp[0,6],' number ',tempnp[0,7])\n",
    "                                equityListdf.loc[equityListdf['Issuer Name']==symbol,'sharesbought']=0\n",
    "                                equityListdf.loc[equityListdf['Issuer Name']==symbol,'trades']=tempnp[0,11]+1\n",
    "                                equityListdf.loc[equityListdf['Issuer Name']==symbol,'moneyinvested']=0\n",
    "                                portfolio=portfolio[portfolio[:,0]!=symbol]\n",
    "                                sell=sell+1\n",
    "\n",
    "    print(datetime.time(datetime.now()),'Date',dt['Date'].date(),'Profit:',round(equityListdf['profit'].sum()),'Capital:',round(capital_needed),'sellsigs:',sell,'buysigs',buy)\n",
    "print(limit)\n",
    "                                \n",
    "\n",
    "                    \n",
    "                   "
   ]
  },
  {
   "cell_type": "code",
   "execution_count": 15,
   "metadata": {},
   "outputs": [
    {
     "name": "stdout",
     "output_type": "stream",
     "text": [
      "Index(['Issuer Name', 'trend', 'daysSinceCutOver', 'trendnature',\n",
      "       'singleCandlePattern', 'RSI', 'Close', 'sharesbought', 'moneyinvested',\n",
      "       'profit', 'Capital', 'trades', 'cutoverprice', 'OBV'],\n",
      "      dtype='object')\n"
     ]
    }
   ],
   "source": [
    "print(equityListdf.columns)"
   ]
  },
  {
   "cell_type": "code",
   "execution_count": null,
   "metadata": {},
   "outputs": [],
   "source": []
  }
 ],
 "metadata": {
  "kernelspec": {
   "display_name": "python3.6",
   "language": "python",
   "name": "python3.6"
  },
  "language_info": {
   "codemirror_mode": {
    "name": "ipython",
    "version": 3
   },
   "file_extension": ".py",
   "mimetype": "text/x-python",
   "name": "python",
   "nbconvert_exporter": "python",
   "pygments_lexer": "ipython3",
   "version": "3.7.3"
  }
 },
 "nbformat": 4,
 "nbformat_minor": 2
}
